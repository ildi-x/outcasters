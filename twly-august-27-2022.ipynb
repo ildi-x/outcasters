{
 "cells": [
  {
   "cell_type": "markdown",
   "id": "784b1f6d",
   "metadata": {},
   "source": [
    "## OUTCASTERS SNAPSHOT 008"
   ]
  },
  {
   "cell_type": "markdown",
   "id": "398ad3ad",
   "metadata": {},
   "source": [
    "https://outcasters.xyz "
   ]
  },
  {
   "cell_type": "code",
   "execution_count": 2,
   "id": "8df406ad",
   "metadata": {
    "scrolled": false
   },
   "outputs": [
    {
     "data": {
      "text/html": [
       "\n",
       "    <div style=\"max-width: 600px; margin-bottom: 25px;\">\n",
       "        <h2 style=\"margin-bottom: 15px;\">Total Casts</h2>\n",
       "        <p style=\"font-size: 18x; margin: 5px 0 5px;\">Including Replies: 5772</p>\n",
       "        <p style=\"font-size: 18x; margin: 5px 0;\">Excluding Replies: 1634</p>\n",
       "    </div>\n"
      ],
      "text/plain": [
       "<IPython.core.display.HTML object>"
      ]
     },
     "metadata": {},
     "output_type": "display_data"
    },
    {
     "data": {
      "text/html": [
       "<h2>Top 30 Most Active Users (Excluding Replies)</h2>"
      ],
      "text/plain": [
       "<IPython.core.display.HTML object>"
      ]
     },
     "metadata": {},
     "output_type": "display_data"
    },
    {
     "data": {
      "text/html": [
       "<p>Only original casts are considered for this calculation. Replies are excluded.</p>"
      ],
      "text/plain": [
       "<IPython.core.display.HTML object>"
      ]
     },
     "metadata": {},
     "output_type": "display_data"
    },
    {
     "data": {
      "text/html": [
       "<ol><li>alexanderchopan - 82 casts</li><li>abc - 58 casts</li><li>ace - 45 casts</li><li>dwr - 43 casts</li><li>giomedici - 32 casts</li><li>briang - 23 casts</li><li>cameron - 22 casts</li><li>giu - 21 casts</li><li>hyper - 19 casts</li><li>phil - 19 casts</li><li>jayme - 18 casts</li><li>dcposch - 17 casts</li><li>cassie - 17 casts</li><li>tayyab - 17 casts</li><li>pushix - 17 casts</li><li>0xen - 16 casts</li><li>alexpaden - 15 casts</li><li>fn - 15 casts</li><li>whatrocks - 15 casts</li><li>sedna - 14 casts</li><li>shotbydanni - 14 casts</li><li>es - 14 casts</li><li>ccarella - 12 casts</li><li>nonlinear - 12 casts</li><li>kn - 12 casts</li><li>les - 12 casts</li><li>taro - 12 casts</li><li>macbudkowski - 12 casts</li><li>jason - 11 casts</li><li>brianjckim - 11 casts</li></ol>"
      ],
      "text/plain": [
       "<IPython.core.display.HTML object>"
      ]
     },
     "metadata": {},
     "output_type": "display_data"
    },
    {
     "data": {
      "text/html": [
       "<h2>Top 30 Most Active Users (Including Replies)</h2>"
      ],
      "text/plain": [
       "<IPython.core.display.HTML object>"
      ]
     },
     "metadata": {},
     "output_type": "display_data"
    },
    {
     "data": {
      "text/html": [
       "<p>All casts, including replies, are considered for this calculation.</p>"
      ],
      "text/plain": [
       "<IPython.core.display.HTML object>"
      ]
     },
     "metadata": {},
     "output_type": "display_data"
    },
    {
     "data": {
      "text/html": [
       "<ol><li>alexanderchopan - 281 casts</li><li>dwr - 221 casts</li><li>perl - 140 casts</li><li>cameron - 137 casts</li><li>j4ck - 128 casts</li><li>ace - 120 casts</li><li>cassie - 112 casts</li><li>giomedici - 110 casts</li><li>phil - 84 casts</li><li>0xen - 78 casts</li><li>es - 78 casts</li><li>jayme - 77 casts</li><li>briang - 71 casts</li><li>greg - 63 casts</li><li>pugson - 63 casts</li><li>karthiksenthil - 60 casts</li><li>abc - 58 casts</li><li>macbudkowski - 56 casts</li><li>alexpaden - 56 casts</li><li>giu - 52 casts</li><li>whatrocks - 52 casts</li><li>void - 51 casts</li><li>hyper - 50 casts</li><li>pushix - 48 casts</li><li>july - 47 casts</li><li>manansh - 46 casts</li><li>noah - 46 casts</li><li>meesh - 43 casts</li><li>nonlinear - 42 casts</li><li>matthew - 42 casts</li></ol>"
      ],
      "text/plain": [
       "<IPython.core.display.HTML object>"
      ]
     },
     "metadata": {},
     "output_type": "display_data"
    },
    {
     "data": {
      "text/html": [
       "<h2>Top 100 casts ranked by total likes</h2>"
      ],
      "text/plain": [
       "<IPython.core.display.HTML object>"
      ]
     },
     "metadata": {},
     "output_type": "display_data"
    },
    {
     "data": {
      "text/html": [
       "\n",
       "    <div style=\"border: 1px solid #ccc; max-width: 600px; padding: 25px; margin-bottom: 25px;\">\n",
       "        <div style=\"max-width: 550px; margin: 0 auto;\">\n",
       "            <p><strong><a href=\"https://searchcaster.xyz/search?merkleRoot=0xfe55f2d5e5c390b357d700c98b38ca0f96cb5eec\" target=\"_blank\">merkleRoot</a></strong></p>\n",
       "            <p><strong>@dwr · fid 3</strong></p>\n",
       "            <div style=\"word-wrap: break-word; margin: 10px 0;\">Great work @gregskril @zachterrell <br><br><a href=\"https://www.farcaster.network\" target=\"_blank\">https://www.farcaster.network</a> </div>\n",
       "    <div style=\"text-align: center;\"><img src=\"https://i.imgur.com/loYlvgu.png\" style=\"max-width: 550px; margin-top: 10px;\"></div><p style=\"color: purple; margin: 10px 0 0;\">&#x1F49C; 61 <span style=\"margin-left: 5px; margin-top: 10px;\">&#x1F4AC; 8</span></p></div></div>"
      ],
      "text/plain": [
       "<IPython.core.display.HTML object>"
      ]
     },
     "metadata": {},
     "output_type": "display_data"
    },
    {
     "data": {
      "text/html": [
       "\n",
       "    <div style=\"border: 1px solid #ccc; max-width: 600px; padding: 25px; margin-bottom: 25px;\">\n",
       "        <div style=\"max-width: 550px; margin: 0 auto;\">\n",
       "            <p><strong><a href=\"https://searchcaster.xyz/search?merkleRoot=0x55a9d7795816bd7bdbfc88eb3f68248592ad4108\" target=\"_blank\">merkleRoot</a></strong></p>\n",
       "            <p><strong>@cdixon · fid 25</strong></p>\n",
       "            <div style=\"word-wrap: break-word; margin: 10px 0;\">Enjoyed Zuck on Rogan. Only incumbent founder/CEO left and long format gets beyond talking points and into details. <a href=\"https://open.spotify.com/episode/51gxrAActH18RGhKNza598\" target=\"_blank\">https://open.spotify.com/episode/51gxrAActH18RGhKNza598</a></div>\n",
       "    <p style=\"color: purple; margin: 10px 0 0;\">&#x1F49C; 49 <span style=\"margin-left: 5px; margin-top: 10px;\">&#x1F4AC; 5</span></p></div></div>"
      ],
      "text/plain": [
       "<IPython.core.display.HTML object>"
      ]
     },
     "metadata": {},
     "output_type": "display_data"
    },
    {
     "data": {
      "text/html": [
       "\n",
       "    <div style=\"border: 1px solid #ccc; max-width: 600px; padding: 25px; margin-bottom: 25px;\">\n",
       "        <div style=\"max-width: 550px; margin: 0 auto;\">\n",
       "            <p><strong><a href=\"https://searchcaster.xyz/search?merkleRoot=0x275526092454bea5fc6b4154718bf37f3b17fd51\" target=\"_blank\">merkleRoot</a></strong></p>\n",
       "            <p><strong>@dwr · fid 3</strong></p>\n",
       "            <div style=\"word-wrap: break-word; margin: 10px 0;\">Congrats to @garrytan! Well-deserved.<br><br><a href=\"https://www.ycombinator.com/blog/welcome-home-garry-tan\" target=\"_blank\">https://www.ycombinator.com/blog/welcome-home-garry-tan</a></div>\n",
       "    <p style=\"color: purple; margin: 10px 0 0;\">&#x1F49C; 46 <span style=\"margin-left: 5px; margin-top: 10px;\">&#x1F4AC; 1</span></p></div></div>"
      ],
      "text/plain": [
       "<IPython.core.display.HTML object>"
      ]
     },
     "metadata": {},
     "output_type": "display_data"
    },
    {
     "data": {
      "text/html": [
       "\n",
       "    <div style=\"border: 1px solid #ccc; max-width: 600px; padding: 25px; margin-bottom: 25px;\">\n",
       "        <div style=\"max-width: 550px; margin: 0 auto;\">\n",
       "            <p><strong><a href=\"https://searchcaster.xyz/search?merkleRoot=0xd8407119b1a7e8c05a38e2af2f3d0a6c9af575cd\" target=\"_blank\">merkleRoot</a></strong></p>\n",
       "            <p><strong>@salvino · fid 734</strong></p>\n",
       "            <div style=\"word-wrap: break-word; margin: 10px 0;\">An underrated thing about @garrytan taking over the helm of YC:<br><br>YC now has a CEO that deeply believes in crypto/web3</div>\n",
       "    <p style=\"color: purple; margin: 10px 0 0;\">&#x1F49C; 43 <span style=\"margin-left: 5px; margin-top: 10px;\">&#x1F4AC; 1</span></p></div></div>"
      ],
      "text/plain": [
       "<IPython.core.display.HTML object>"
      ]
     },
     "metadata": {},
     "output_type": "display_data"
    },
    {
     "data": {
      "text/html": [
       "\n",
       "    <div style=\"border: 1px solid #ccc; max-width: 600px; padding: 25px; margin-bottom: 25px;\">\n",
       "        <div style=\"max-width: 550px; margin: 0 auto;\">\n",
       "            <p><strong><a href=\"https://searchcaster.xyz/search?merkleRoot=0x3e7229248010cf47c5114d4a9a801ceaa5024d4a\" target=\"_blank\">merkleRoot</a></strong></p>\n",
       "            <p><strong>@sriramk · fid 43</strong></p>\n",
       "            <div style=\"word-wrap: break-word; margin: 10px 0;\">Demoing Farcaster to the entire team. Say nice things!</div>\n",
       "    <p style=\"color: purple; margin: 10px 0 0;\">&#x1F49C; 42 <span style=\"margin-left: 5px; margin-top: 10px;\">&#x1F4AC; 16</span></p></div></div>"
      ],
      "text/plain": [
       "<IPython.core.display.HTML object>"
      ]
     },
     "metadata": {},
     "output_type": "display_data"
    },
    {
     "data": {
      "text/html": [
       "\n",
       "    <div style=\"border: 1px solid #ccc; max-width: 600px; padding: 25px; margin-bottom: 25px;\">\n",
       "        <div style=\"max-width: 550px; margin: 0 auto;\">\n",
       "            <p><strong><a href=\"https://searchcaster.xyz/search?merkleRoot=0x148c46ba76a81153a4ccd908ac2c513da27626dc\" target=\"_blank\">merkleRoot</a></strong></p>\n",
       "            <p><strong>@jc · fid 251</strong></p>\n",
       "            <div style=\"word-wrap: break-word; margin: 10px 0;\">After a 3 month battle with Apple, @beb domains is approved for the Apple App Store. Expect a link soon!<br><br>If you need help getting a web3 app approved, ping me  👀 </div>\n",
       "    <div style=\"text-align: center;\"><img src=\"https://i.imgur.com/QUL2oVq.png\" style=\"max-width: 550px; margin-top: 10px;\"></div><p style=\"color: purple; margin: 10px 0 0;\">&#x1F49C; 41 <span style=\"margin-left: 5px; margin-top: 10px;\">&#x1F4AC; 13</span></p></div></div>"
      ],
      "text/plain": [
       "<IPython.core.display.HTML object>"
      ]
     },
     "metadata": {},
     "output_type": "display_data"
    },
    {
     "data": {
      "text/html": [
       "\n",
       "    <div style=\"border: 1px solid #ccc; max-width: 600px; padding: 25px; margin-bottom: 25px;\">\n",
       "        <div style=\"max-width: 550px; margin: 0 auto;\">\n",
       "            <p><strong><a href=\"https://searchcaster.xyz/search?merkleRoot=0xf890361b2430903094da774cfe9b63862ae0498f\" target=\"_blank\">merkleRoot</a></strong></p>\n",
       "            <p><strong>@dwr · fid 3</strong></p>\n",
       "            <div style=\"word-wrap: break-word; margin: 10px 0;\">Today's casts brought to you by Starlink. </div>\n",
       "    <div style=\"text-align: center;\"><img src=\"https://i.imgur.com/9r6XA4E.png\" style=\"max-width: 550px; margin-top: 10px;\"></div><p style=\"color: purple; margin: 10px 0 0;\">&#x1F49C; 40 <span style=\"margin-left: 5px; margin-top: 10px;\">&#x1F4AC; 3</span></p></div></div>"
      ],
      "text/plain": [
       "<IPython.core.display.HTML object>"
      ]
     },
     "metadata": {},
     "output_type": "display_data"
    },
    {
     "data": {
      "text/html": [
       "\n",
       "    <div style=\"border: 1px solid #ccc; max-width: 600px; padding: 25px; margin-bottom: 25px;\">\n",
       "        <div style=\"max-width: 550px; margin: 0 auto;\">\n",
       "            <p><strong><a href=\"https://searchcaster.xyz/search?merkleRoot=0xb23593b0f4cfd4cdd196ddf55cec9ec43d920236\" target=\"_blank\">merkleRoot</a></strong></p>\n",
       "            <p><strong>@cameron · fid 617</strong></p>\n",
       "            <div style=\"word-wrap: break-word; margin: 10px 0;\">I got a little present for you dedicated purple app folk this weekend. <br><br>Inspired by my favorite old internet app [StumbleUpon], check out Stochaster!<br><br>Find a random Farcaster to follow on each refresh. <br><br>See their profile & recent casts.<br><br>Enjoy 🫡<br><br><a href=\"https://www.stochaster.xyz/\" target=\"_blank\">https://www.stochaster.xyz/</a></div>\n",
       "    <p style=\"color: purple; margin: 10px 0 0;\">&#x1F49C; 40 <span style=\"margin-left: 5px; margin-top: 10px;\">&#x1F4AC; 8</span></p></div></div>"
      ],
      "text/plain": [
       "<IPython.core.display.HTML object>"
      ]
     },
     "metadata": {},
     "output_type": "display_data"
    },
    {
     "data": {
      "text/html": [
       "\n",
       "    <div style=\"border: 1px solid #ccc; max-width: 600px; padding: 25px; margin-bottom: 25px;\">\n",
       "        <div style=\"max-width: 550px; margin: 0 auto;\">\n",
       "            <p><strong><a href=\"https://searchcaster.xyz/search?merkleRoot=0xa5b83a0c13ce5ca156444092afcee02f3bb6261e\" target=\"_blank\">merkleRoot</a></strong></p>\n",
       "            <p><strong>@brianjckim · fid 426</strong></p>\n",
       "            <div style=\"word-wrap: break-word; margin: 10px 0;\">new bird app bio dropped </div>\n",
       "    <div style=\"text-align: center;\"><img src=\"https://i.imgur.com/QnenfXs.jpg\" style=\"max-width: 550px; margin-top: 10px;\"></div><p style=\"color: purple; margin: 10px 0 0;\">&#x1F49C; 39 <span style=\"margin-left: 5px; margin-top: 10px;\">&#x1F4AC; 1</span></p></div></div>"
      ],
      "text/plain": [
       "<IPython.core.display.HTML object>"
      ]
     },
     "metadata": {},
     "output_type": "display_data"
    },
    {
     "data": {
      "text/html": [
       "\n",
       "    <div style=\"border: 1px solid #ccc; max-width: 600px; padding: 25px; margin-bottom: 25px;\">\n",
       "        <div style=\"max-width: 550px; margin: 0 auto;\">\n",
       "            <p><strong><a href=\"https://searchcaster.xyz/search?merkleRoot=0x6deeb6fffc930be40e85dd36e120632c66c71786\" target=\"_blank\">merkleRoot</a></strong></p>\n",
       "            <p><strong>@jc · fid 251</strong></p>\n",
       "            <div style=\"word-wrap: break-word; margin: 10px 0;\">Wrote a guide on getting your web3 social app approved by Apple, h/t to @dwr on the idea!<br><br><a href=\"https://mirror.xyz/jcdenton.eth/u0zr6xrafO-F5UWjli40wZvtKNz57CLvzBRdzaPvmzg\" target=\"_blank\">https://mirror.xyz/jcdenton.eth/u0zr6xrafO-F5UWjli40wZvtKNz57CLvzBRdzaPvmzg</a></div>\n",
       "    <p style=\"color: purple; margin: 10px 0 0;\">&#x1F49C; 39 <span style=\"margin-left: 5px; margin-top: 10px;\">&#x1F4AC; 5</span></p></div></div>"
      ],
      "text/plain": [
       "<IPython.core.display.HTML object>"
      ]
     },
     "metadata": {},
     "output_type": "display_data"
    },
    {
     "data": {
      "text/html": [
       "\n",
       "    <div style=\"border: 1px solid #ccc; max-width: 600px; padding: 25px; margin-bottom: 25px;\">\n",
       "        <div style=\"max-width: 550px; margin: 0 auto;\">\n",
       "            <p><strong><a href=\"https://searchcaster.xyz/search?merkleRoot=0x19442077a441de9a960aa2fdd95de0f7009f9ddf\" target=\"_blank\">merkleRoot</a></strong></p>\n",
       "            <p><strong>@dwr · fid 3</strong></p>\n",
       "            <div style=\"word-wrap: break-word; margin: 10px 0;\">California is one of the most renewable-blessed geographies in the world and it still can’t generate enough electricity. <br><br>Build nuclear!<br><br><a href=\"https://twitter.com/shellenbergermd/status/1565026009497227264\" target=\"_blank\">https://twitter.com/shellenbergermd/status/1565026009497227264</a></div>\n",
       "    <p style=\"color: purple; margin: 10px 0 0;\">&#x1F49C; 39 <span style=\"margin-left: 5px; margin-top: 10px;\">&#x1F4AC; 5</span></p></div></div>"
      ],
      "text/plain": [
       "<IPython.core.display.HTML object>"
      ]
     },
     "metadata": {},
     "output_type": "display_data"
    },
    {
     "data": {
      "text/html": [
       "\n",
       "    <div style=\"border: 1px solid #ccc; max-width: 600px; padding: 25px; margin-bottom: 25px;\">\n",
       "        <div style=\"max-width: 550px; margin: 0 auto;\">\n",
       "            <p><strong><a href=\"https://searchcaster.xyz/search?merkleRoot=0xab2636d320c4b1ecdf5bc2f938d0b822ac0d91ee\" target=\"_blank\">merkleRoot</a></strong></p>\n",
       "            <p><strong>@colin · fid 378</strong></p>\n",
       "            <div style=\"word-wrap: break-word; margin: 10px 0;\">Gm </div>\n",
       "    <div style=\"text-align: center;\"><img src=\"https://i.imgur.com/blnxV7p.jpg\" style=\"max-width: 550px; margin-top: 10px;\"></div><p style=\"color: purple; margin: 10px 0 0;\">&#x1F49C; 37 <span style=\"margin-left: 5px; margin-top: 10px;\">&#x1F4AC; 1</span></p></div></div>"
      ],
      "text/plain": [
       "<IPython.core.display.HTML object>"
      ]
     },
     "metadata": {},
     "output_type": "display_data"
    },
    {
     "data": {
      "text/html": [
       "\n",
       "    <div style=\"border: 1px solid #ccc; max-width: 600px; padding: 25px; margin-bottom: 25px;\">\n",
       "        <div style=\"max-width: 550px; margin: 0 auto;\">\n",
       "            <p><strong><a href=\"https://searchcaster.xyz/search?merkleRoot=0xb900606d8cf96a930742b5d5ae8bf5c32d85ed6e\" target=\"_blank\">merkleRoot</a></strong></p>\n",
       "            <p><strong>@hyper · fid 283</strong></p>\n",
       "            <div style=\"word-wrap: break-word; margin: 10px 0;\">What’s your answer to the famous Thiel question?</div>\n",
       "    <p style=\"color: purple; margin: 10px 0 0;\">&#x1F49C; 37 <span style=\"margin-left: 5px; margin-top: 10px;\">&#x1F4AC; 43</span></p></div></div>"
      ],
      "text/plain": [
       "<IPython.core.display.HTML object>"
      ]
     },
     "metadata": {},
     "output_type": "display_data"
    },
    {
     "data": {
      "text/html": [
       "\n",
       "    <div style=\"border: 1px solid #ccc; max-width: 600px; padding: 25px; margin-bottom: 25px;\">\n",
       "        <div style=\"max-width: 550px; margin: 0 auto;\">\n",
       "            <p><strong><a href=\"https://searchcaster.xyz/search?merkleRoot=0xa0cf0823e60dbfcb9807626045998426766295b0\" target=\"_blank\">merkleRoot</a></strong></p>\n",
       "            <p><strong>@dwr · fid 3</strong></p>\n",
       "            <div style=\"word-wrap: break-word; margin: 10px 0;\">People often ask what kind of content do you want to see on Farcaster?<br><br>Long-term answer -- it should be a mirror for the web / Internet. Good, bad and the ugly. On clients and developers to figure out filtering and surfacing quality.</div>\n",
       "    <p style=\"color: purple; margin: 10px 0 0;\">&#x1F49C; 37 <span style=\"margin-left: 5px; margin-top: 10px;\">&#x1F4AC; 4</span></p></div></div>"
      ],
      "text/plain": [
       "<IPython.core.display.HTML object>"
      ]
     },
     "metadata": {},
     "output_type": "display_data"
    },
    {
     "data": {
      "text/html": [
       "\n",
       "    <div style=\"border: 1px solid #ccc; max-width: 600px; padding: 25px; margin-bottom: 25px;\">\n",
       "        <div style=\"max-width: 550px; margin: 0 auto;\">\n",
       "            <p><strong><a href=\"https://searchcaster.xyz/search?merkleRoot=0xeca24d251243a15638c68242c08b6e42c2208b43\" target=\"_blank\">merkleRoot</a></strong></p>\n",
       "            <p><strong>@dwr · fid 3</strong></p>\n",
       "            <div style=\"word-wrap: break-word; margin: 10px 0;\">gn </div>\n",
       "    <div style=\"text-align: center;\"><img src=\"https://i.imgur.com/lamoM5Y.jpg\" style=\"max-width: 550px; margin-top: 10px;\"></div><p style=\"color: purple; margin: 10px 0 0;\">&#x1F49C; 36 <span style=\"margin-left: 5px; margin-top: 10px;\">&#x1F4AC; 1</span></p></div></div>"
      ],
      "text/plain": [
       "<IPython.core.display.HTML object>"
      ]
     },
     "metadata": {},
     "output_type": "display_data"
    },
    {
     "data": {
      "text/html": [
       "\n",
       "    <div style=\"border: 1px solid #ccc; max-width: 600px; padding: 25px; margin-bottom: 25px;\">\n",
       "        <div style=\"max-width: 550px; margin: 0 auto;\">\n",
       "            <p><strong><a href=\"https://searchcaster.xyz/search?merkleRoot=0xc63acf82c56facc7f2a40ab35d060ae94f679fb2\" target=\"_blank\">merkleRoot</a></strong></p>\n",
       "            <p><strong>@cdt · fid 1024</strong></p>\n",
       "            <div style=\"word-wrap: break-word; margin: 10px 0;\">this is all of you on this app now. </div>\n",
       "    <div style=\"text-align: center;\"><img src=\"https://i.imgur.com/S0Zn5SB.jpg\" style=\"max-width: 550px; margin-top: 10px;\"></div><p style=\"color: purple; margin: 10px 0 0;\">&#x1F49C; 33 <span style=\"margin-left: 5px; margin-top: 10px;\">&#x1F4AC; 3</span></p></div></div>"
      ],
      "text/plain": [
       "<IPython.core.display.HTML object>"
      ]
     },
     "metadata": {},
     "output_type": "display_data"
    },
    {
     "data": {
      "text/html": [
       "\n",
       "    <div style=\"border: 1px solid #ccc; max-width: 600px; padding: 25px; margin-bottom: 25px;\">\n",
       "        <div style=\"max-width: 550px; margin: 0 auto;\">\n",
       "            <p><strong><a href=\"https://searchcaster.xyz/search?merkleRoot=0x20a1e9e8c65945f9caa1cada2343027cf916faaa\" target=\"_blank\">merkleRoot</a></strong></p>\n",
       "            <p><strong>@dwr · fid 3</strong></p>\n",
       "            <div style=\"word-wrap: break-word; margin: 10px 0;\">A warm Farcaster welcome to @patrick_oshag!</div>\n",
       "    <p style=\"color: purple; margin: 10px 0 0;\">&#x1F49C; 31 <span style=\"margin-left: 5px; margin-top: 10px;\">&#x1F4AC; 8</span></p></div></div>"
      ],
      "text/plain": [
       "<IPython.core.display.HTML object>"
      ]
     },
     "metadata": {},
     "output_type": "display_data"
    },
    {
     "data": {
      "text/html": [
       "\n",
       "    <div style=\"border: 1px solid #ccc; max-width: 600px; padding: 25px; margin-bottom: 25px;\">\n",
       "        <div style=\"max-width: 550px; margin: 0 auto;\">\n",
       "            <p><strong><a href=\"https://searchcaster.xyz/search?merkleRoot=0xf5e56f51b411c82763304f97c1a878e7d6575f3b\" target=\"_blank\">merkleRoot</a></strong></p>\n",
       "            <p><strong>@dwr · fid 3</strong></p>\n",
       "            <div style=\"word-wrap: break-word; margin: 10px 0;\">Why we generate a new mnemonic during onboarding for Farcaster </div>\n",
       "    <div style=\"text-align: center;\"><img src=\"https://i.imgur.com/2PkIWx8.png\" style=\"max-width: 550px; margin-top: 10px;\"></div><p style=\"color: purple; margin: 10px 0 0;\">&#x1F49C; 30 <span style=\"margin-left: 5px; margin-top: 10px;\">&#x1F4AC; 1</span></p></div></div>"
      ],
      "text/plain": [
       "<IPython.core.display.HTML object>"
      ]
     },
     "metadata": {},
     "output_type": "display_data"
    },
    {
     "data": {
      "text/html": [
       "\n",
       "    <div style=\"border: 1px solid #ccc; max-width: 600px; padding: 25px; margin-bottom: 25px;\">\n",
       "        <div style=\"max-width: 550px; margin: 0 auto;\">\n",
       "            <p><strong><a href=\"https://searchcaster.xyz/search?merkleRoot=0xf164a1d04745a1bcfe2a2c41f6da1857adab760e\" target=\"_blank\">merkleRoot</a></strong></p>\n",
       "            <p><strong>@nick · fid 108</strong></p>\n",
       "            <div style=\"word-wrap: break-word; margin: 10px 0;\">Why hasn’t stablecoin usage taken off yet? </div>\n",
       "    <div style=\"text-align: center;\"><img src=\"https://i.imgur.com/WJ7B1hY.jpg\" style=\"max-width: 550px; margin-top: 10px;\"></div><p style=\"color: purple; margin: 10px 0 0;\">&#x1F49C; 30 <span style=\"margin-left: 5px; margin-top: 10px;\">&#x1F4AC; 25</span></p></div></div>"
      ],
      "text/plain": [
       "<IPython.core.display.HTML object>"
      ]
     },
     "metadata": {},
     "output_type": "display_data"
    },
    {
     "data": {
      "text/html": [
       "\n",
       "    <div style=\"border: 1px solid #ccc; max-width: 600px; padding: 25px; margin-bottom: 25px;\">\n",
       "        <div style=\"max-width: 550px; margin: 0 auto;\">\n",
       "            <p><strong><a href=\"https://searchcaster.xyz/search?merkleRoot=0x21922cf5af09e79da085483add1066f9e01eb841\" target=\"_blank\">merkleRoot</a></strong></p>\n",
       "            <p><strong>@gaby · fid 83</strong></p>\n",
       "            <div style=\"word-wrap: break-word; margin: 10px 0;\">Was lacking energy the last few weeks, couldn't figure out where to spend time or what to sink my teeth into — so grateful I went to SBC, easily the best conference I've ever been to and got me so excited about so much</div>\n",
       "    <p style=\"color: purple; margin: 10px 0 0;\">&#x1F49C; 30 <span style=\"margin-left: 5px; margin-top: 10px;\">&#x1F4AC; 4</span></p></div></div>"
      ],
      "text/plain": [
       "<IPython.core.display.HTML object>"
      ]
     },
     "metadata": {},
     "output_type": "display_data"
    },
    {
     "data": {
      "text/html": [
       "\n",
       "    <div style=\"border: 1px solid #ccc; max-width: 600px; padding: 25px; margin-bottom: 25px;\">\n",
       "        <div style=\"max-width: 550px; margin: 0 auto;\">\n",
       "            <p><strong><a href=\"https://searchcaster.xyz/search?merkleRoot=0xc5747c4b97f14d9644d55bc36694761391107274\" target=\"_blank\">merkleRoot</a></strong></p>\n",
       "            <p><strong>@dwr · fid 3</strong></p>\n",
       "            <div style=\"word-wrap: break-word; margin: 10px 0;\"><prepares for terrible jcal nft takes> </div>\n",
       "    <div style=\"text-align: center;\"><img src=\"https://i.imgur.com/ZJDc3QO.png\" style=\"max-width: 550px; margin-top: 10px;\"></div><p style=\"color: purple; margin: 10px 0 0;\">&#x1F49C; 29 <span style=\"margin-left: 5px; margin-top: 10px;\">&#x1F4AC; 5</span></p></div></div>"
      ],
      "text/plain": [
       "<IPython.core.display.HTML object>"
      ]
     },
     "metadata": {},
     "output_type": "display_data"
    },
    {
     "data": {
      "text/html": [
       "\n",
       "    <div style=\"border: 1px solid #ccc; max-width: 600px; padding: 25px; margin-bottom: 25px;\">\n",
       "        <div style=\"max-width: 550px; margin: 0 auto;\">\n",
       "            <p><strong><a href=\"https://searchcaster.xyz/search?merkleRoot=0x1e3fb20357ff417116cc351d88e7ed5f203293ea\" target=\"_blank\">merkleRoot</a></strong></p>\n",
       "            <p><strong>@3lau · fid 81</strong></p>\n",
       "            <div style=\"word-wrap: break-word; margin: 10px 0;\">Excited to have a mess around with dream studio :)<br><br><a href=\"https://stability.ai\" target=\"_blank\">https://stability.ai</a><br><br>Put some song lyrics of mine in to return this image </div>\n",
       "    <div style=\"text-align: center;\"><img src=\"https://i.imgur.com/qXTZtfS.jpg\" style=\"max-width: 550px; margin-top: 10px;\"></div><p style=\"color: purple; margin: 10px 0 0;\">&#x1F49C; 29 <span style=\"margin-left: 5px; margin-top: 10px;\">&#x1F4AC; 2</span></p></div></div>"
      ],
      "text/plain": [
       "<IPython.core.display.HTML object>"
      ]
     },
     "metadata": {},
     "output_type": "display_data"
    },
    {
     "data": {
      "text/html": [
       "\n",
       "    <div style=\"border: 1px solid #ccc; max-width: 600px; padding: 25px; margin-bottom: 25px;\">\n",
       "        <div style=\"max-width: 550px; margin: 0 auto;\">\n",
       "            <p><strong><a href=\"https://searchcaster.xyz/search?merkleRoot=0x5abb7fdd1bc56eb1e1848455c200138d46e76ff1\" target=\"_blank\">merkleRoot</a></strong></p>\n",
       "            <p><strong>@dwr · fid 3</strong></p>\n",
       "            <div style=\"word-wrap: break-word; margin: 10px 0;\">On a scale of 1 to 10, how excited are you for the new LoTR Amazon series?<br><br>1 - I've seen the Hobbit, absolutely not<br>10 - Ni have waited mime entire coiv- an sina<br><br><a href=\"https://www.youtube.com/watch?v=x8UAUAuKNcU\" target=\"_blank\">https://www.youtube.com/watch?v=x8UAUAuKNcU</a></div>\n",
       "    <p style=\"color: purple; margin: 10px 0 0;\">&#x1F49C; 29 <span style=\"margin-left: 5px; margin-top: 10px;\">&#x1F4AC; 25</span></p></div></div>"
      ],
      "text/plain": [
       "<IPython.core.display.HTML object>"
      ]
     },
     "metadata": {},
     "output_type": "display_data"
    },
    {
     "data": {
      "text/html": [
       "\n",
       "    <div style=\"border: 1px solid #ccc; max-width: 600px; padding: 25px; margin-bottom: 25px;\">\n",
       "        <div style=\"max-width: 550px; margin: 0 auto;\">\n",
       "            <p><strong><a href=\"https://searchcaster.xyz/search?merkleRoot=0x50bb3f0852f268a7b332710334e746c25819be98\" target=\"_blank\">merkleRoot</a></strong></p>\n",
       "            <p><strong>@dwr · fid 3</strong></p>\n",
       "            <div style=\"word-wrap: break-word; margin: 10px 0;\">Stumbled across this again -- thought-provoking!<br><br><a href=\"https://marginalrevolution.com/marginalrevolution/2018/10/improving-not-learning.html\" target=\"_blank\">https://marginalrevolution.com/marginalrevolution/2018/10/improving-not-learning.html</a></div>\n",
       "    <p style=\"color: purple; margin: 10px 0 0;\">&#x1F49C; 28 <span style=\"margin-left: 5px; margin-top: 10px;\">&#x1F4AC; 3</span></p></div></div>"
      ],
      "text/plain": [
       "<IPython.core.display.HTML object>"
      ]
     },
     "metadata": {},
     "output_type": "display_data"
    },
    {
     "data": {
      "text/html": [
       "\n",
       "    <div style=\"border: 1px solid #ccc; max-width: 600px; padding: 25px; margin-bottom: 25px;\">\n",
       "        <div style=\"max-width: 550px; margin: 0 auto;\">\n",
       "            <p><strong><a href=\"https://searchcaster.xyz/search?merkleRoot=0x4a7826a5e9cf64c9d9970093c5401a5122387759\" target=\"_blank\">merkleRoot</a></strong></p>\n",
       "            <p><strong>@greg · fid 347</strong></p>\n",
       "            <div style=\"word-wrap: break-word; margin: 10px 0;\">Farcaster analytics dashboard → <a href=\"https://farcaster.network\" target=\"_blank\">https://farcaster.network</a><br><br>See a bunch of protocol-level analytics at a glance with trends over time (up and to the right only)<br><br>Fun project with @zachterrell! We're both open to feedback as always :)</div>\n",
       "    <p style=\"color: purple; margin: 10px 0 0;\">&#x1F49C; 28 <span style=\"margin-left: 5px; margin-top: 10px;\">&#x1F4AC; 10</span></p></div></div>"
      ],
      "text/plain": [
       "<IPython.core.display.HTML object>"
      ]
     },
     "metadata": {},
     "output_type": "display_data"
    },
    {
     "data": {
      "text/html": [
       "\n",
       "    <div style=\"border: 1px solid #ccc; max-width: 600px; padding: 25px; margin-bottom: 25px;\">\n",
       "        <div style=\"max-width: 550px; margin: 0 auto;\">\n",
       "            <p><strong><a href=\"https://searchcaster.xyz/search?merkleRoot=0x4cb31b1f41ce88beda61ce62232c6ae6f673fc09\" target=\"_blank\">merkleRoot</a></strong></p>\n",
       "            <p><strong>@pzakin · fid 257</strong></p>\n",
       "            <div style=\"word-wrap: break-word; margin: 10px 0;\">I spent the last few weeks writing out my thinking on web3 social. wrote lots of words that prob could be summed up in a sentence:<br><br>We can build a lot of really cool things once we have an open social graph + a web3-native way of receiving notifications.</div>\n",
       "    <p style=\"color: purple; margin: 10px 0 0;\">&#x1F49C; 27 <span style=\"margin-left: 5px; margin-top: 10px;\">&#x1F4AC; 7</span></p></div></div>"
      ],
      "text/plain": [
       "<IPython.core.display.HTML object>"
      ]
     },
     "metadata": {},
     "output_type": "display_data"
    },
    {
     "data": {
      "text/html": [
       "\n",
       "    <div style=\"border: 1px solid #ccc; max-width: 600px; padding: 25px; margin-bottom: 25px;\">\n",
       "        <div style=\"max-width: 550px; margin: 0 auto;\">\n",
       "            <p><strong><a href=\"https://searchcaster.xyz/search?merkleRoot=0x4493552e758025e2cfa523697a6b1c80e640d02f\" target=\"_blank\">merkleRoot</a></strong></p>\n",
       "            <p><strong>@les · fid 312</strong></p>\n",
       "            <div style=\"word-wrap: break-word; margin: 10px 0;\">The timing feels so right for Farcaster.<br><br>Sometimes it’s all about timing.</div>\n",
       "    <p style=\"color: purple; margin: 10px 0 0;\">&#x1F49C; 27 <span style=\"margin-left: 5px; margin-top: 10px;\">&#x1F4AC; 4</span></p></div></div>"
      ],
      "text/plain": [
       "<IPython.core.display.HTML object>"
      ]
     },
     "metadata": {},
     "output_type": "display_data"
    },
    {
     "data": {
      "text/html": [
       "\n",
       "    <div style=\"border: 1px solid #ccc; max-width: 600px; padding: 25px; margin-bottom: 25px;\">\n",
       "        <div style=\"max-width: 550px; margin: 0 auto;\">\n",
       "            <p><strong><a href=\"https://searchcaster.xyz/search?merkleRoot=0x8f1cec7a9fc4691480d29e9aaf04fe40c1ce3813\" target=\"_blank\">merkleRoot</a></strong></p>\n",
       "            <p><strong>@dwr · fid 3</strong></p>\n",
       "            <div style=\"word-wrap: break-word; margin: 10px 0;\">Opportunity for client: CastStream<br><br>- Read-only (reduces scope)<br>- Desktop; Electron (or Tauri tauri.app if you want to play with Rust)<br>- Multi-column layout<br>- Connect directly to a Farcaster Hub for real-time<br>- Stream columns of new casts, likes, etc. -- no refresh required</div>\n",
       "    <p style=\"color: purple; margin: 10px 0 0;\">&#x1F49C; 27 <span style=\"margin-left: 5px; margin-top: 10px;\">&#x1F4AC; 5</span></p></div></div>"
      ],
      "text/plain": [
       "<IPython.core.display.HTML object>"
      ]
     },
     "metadata": {},
     "output_type": "display_data"
    },
    {
     "data": {
      "text/html": [
       "\n",
       "    <div style=\"border: 1px solid #ccc; max-width: 600px; padding: 25px; margin-bottom: 25px;\">\n",
       "        <div style=\"max-width: 550px; margin: 0 auto;\">\n",
       "            <p><strong><a href=\"https://searchcaster.xyz/search?merkleRoot=0xb8bd9a4471ccf75446ff7fb2857a34d24b5ea0ff\" target=\"_blank\">merkleRoot</a></strong></p>\n",
       "            <p><strong>@mg · fid 125</strong></p>\n",
       "            <div style=\"word-wrap: break-word; margin: 10px 0;\">Excited to drop this public draft of the XMTP Litepaper (<a href=\"https://github.com/xmtp/litepaper).\" target=\"_blank\">https://github.com/xmtp/litepaper).</a><br><br>It’s still a work-in-progress but should present a solid view into what we’ve been working on and where we’re hoping it goes.<br><br>Very open for questions, feedback, etc. Have at it!</div>\n",
       "    <p style=\"color: purple; margin: 10px 0 0;\">&#x1F49C; 27 <span style=\"margin-left: 5px; margin-top: 10px;\">&#x1F4AC; 1</span></p></div></div>"
      ],
      "text/plain": [
       "<IPython.core.display.HTML object>"
      ]
     },
     "metadata": {},
     "output_type": "display_data"
    },
    {
     "data": {
      "text/html": [
       "\n",
       "    <div style=\"border: 1px solid #ccc; max-width: 600px; padding: 25px; margin-bottom: 25px;\">\n",
       "        <div style=\"max-width: 550px; margin: 0 auto;\">\n",
       "            <p><strong><a href=\"https://searchcaster.xyz/search?merkleRoot=0x187a4de921872512daeb64a09bd3ebeb3cb36aba\" target=\"_blank\">merkleRoot</a></strong></p>\n",
       "            <p><strong>@pugson · fid 557</strong></p>\n",
       "            <div style=\"word-wrap: break-word; margin: 10px 0;\">new settings dropping in the next build </div>\n",
       "    <div style=\"text-align: center;\"><img src=\"https://i.imgur.com/YPRL0M0.jpg\" style=\"max-width: 550px; margin-top: 10px;\"></div><p style=\"color: purple; margin: 10px 0 0;\">&#x1F49C; 27 <span style=\"margin-left: 5px; margin-top: 10px;\">&#x1F4AC; 2</span></p></div></div>"
      ],
      "text/plain": [
       "<IPython.core.display.HTML object>"
      ]
     },
     "metadata": {},
     "output_type": "display_data"
    },
    {
     "data": {
      "text/html": [
       "\n",
       "    <div style=\"border: 1px solid #ccc; max-width: 600px; padding: 25px; margin-bottom: 25px;\">\n",
       "        <div style=\"max-width: 550px; margin: 0 auto;\">\n",
       "            <p><strong><a href=\"https://searchcaster.xyz/search?merkleRoot=0x46973e5c70870502eba18c4c542df1fb919666dd\" target=\"_blank\">merkleRoot</a></strong></p>\n",
       "            <p><strong>@kepano · fid 1321</strong></p>\n",
       "            <div style=\"word-wrap: break-word; margin: 10px 0;\">Very big release of Obsidian today. Exhausted but happy. <br><br><a href=\"https://forum.obsidian.md/t/obsidian-release-v0-16-0-insider/42536\" target=\"_blank\">https://forum.obsidian.md/t/obsidian-release-v0-16-0-insider/42536</a></div>\n",
       "    <p style=\"color: purple; margin: 10px 0 0;\">&#x1F49C; 27 <span style=\"margin-left: 5px; margin-top: 10px;\">&#x1F4AC; 4</span></p></div></div>"
      ],
      "text/plain": [
       "<IPython.core.display.HTML object>"
      ]
     },
     "metadata": {},
     "output_type": "display_data"
    },
    {
     "data": {
      "text/html": [
       "\n",
       "    <div style=\"border: 1px solid #ccc; max-width: 600px; padding: 25px; margin-bottom: 25px;\">\n",
       "        <div style=\"max-width: 550px; margin: 0 auto;\">\n",
       "            <p><strong><a href=\"https://searchcaster.xyz/search?merkleRoot=0xc64c164593942edcd97af27f60bde1cfa6f4bc0f\" target=\"_blank\">merkleRoot</a></strong></p>\n",
       "            <p><strong>@ted · fid 239</strong></p>\n",
       "            <div style=\"word-wrap: break-word; margin: 10px 0;\">gm, this week is an uphill trail run for me. let’s get after it 🏃‍♀️🏃💨💨 </div>\n",
       "    <div style=\"text-align: center;\"><img src=\"https://i.imgur.com/9xlZwtb.jpg\" style=\"max-width: 550px; margin-top: 10px;\"></div><p style=\"color: purple; margin: 10px 0 0;\">&#x1F49C; 26 <span style=\"margin-left: 5px; margin-top: 10px;\">&#x1F4AC; 1</span></p></div></div>"
      ],
      "text/plain": [
       "<IPython.core.display.HTML object>"
      ]
     },
     "metadata": {},
     "output_type": "display_data"
    },
    {
     "data": {
      "text/html": [
       "\n",
       "    <div style=\"border: 1px solid #ccc; max-width: 600px; padding: 25px; margin-bottom: 25px;\">\n",
       "        <div style=\"max-width: 550px; margin: 0 auto;\">\n",
       "            <p><strong><a href=\"https://searchcaster.xyz/search?merkleRoot=0xc487a0a7afc4f878682d2b1c41fa0f79bb682a8d\" target=\"_blank\">merkleRoot</a></strong></p>\n",
       "            <p><strong>@greg · fid 347</strong></p>\n",
       "            <div style=\"word-wrap: break-word; margin: 10px 0;\">hmmm what if </div>\n",
       "    <div style=\"text-align: center;\"><img src=\"https://i.imgur.com/G8X8xic.png\" style=\"max-width: 550px; margin-top: 10px;\"></div><p style=\"color: purple; margin: 10px 0 0;\">&#x1F49C; 26 <span style=\"margin-left: 5px; margin-top: 10px;\">&#x1F4AC; 4</span></p></div></div>"
      ],
      "text/plain": [
       "<IPython.core.display.HTML object>"
      ]
     },
     "metadata": {},
     "output_type": "display_data"
    },
    {
     "data": {
      "text/html": [
       "\n",
       "    <div style=\"border: 1px solid #ccc; max-width: 600px; padding: 25px; margin-bottom: 25px;\">\n",
       "        <div style=\"max-width: 550px; margin: 0 auto;\">\n",
       "            <p><strong><a href=\"https://searchcaster.xyz/search?merkleRoot=0xd4896580eba6a2f0163091139605fc5055fd1ae3\" target=\"_blank\">merkleRoot</a></strong></p>\n",
       "            <p><strong>@ace · fid 539</strong></p>\n",
       "            <div style=\"word-wrap: break-word; margin: 10px 0;\">tiny note to myself </div>\n",
       "    <div style=\"text-align: center;\"><img src=\"https://i.imgur.com/KJdsOAy.jpg\" style=\"max-width: 550px; margin-top: 10px;\"></div><p style=\"color: purple; margin: 10px 0 0;\">&#x1F49C; 25 <span style=\"margin-left: 5px; margin-top: 10px;\">&#x1F4AC; 4</span></p></div></div>"
      ],
      "text/plain": [
       "<IPython.core.display.HTML object>"
      ]
     },
     "metadata": {},
     "output_type": "display_data"
    },
    {
     "data": {
      "text/html": [
       "\n",
       "    <div style=\"border: 1px solid #ccc; max-width: 600px; padding: 25px; margin-bottom: 25px;\">\n",
       "        <div style=\"max-width: 550px; margin: 0 auto;\">\n",
       "            <p><strong><a href=\"https://searchcaster.xyz/search?merkleRoot=0x6d7f03b03518dca3a6f86d4aa88f2d3e5d08673a\" target=\"_blank\">merkleRoot</a></strong></p>\n",
       "            <p><strong>@dwr · fid 3</strong></p>\n",
       "            <div style=\"word-wrap: break-word; margin: 10px 0;\">Snap layoff and re-prioritization makes sense for them. Always sad / tough.<br><br>That said, good reminder that when building on corporate social network APIs, you can suddenly have the rug pulled out from under you.<br><br>Permissionless protocols ftw </div>\n",
       "    <div style=\"text-align: center;\"><img src=\"https://i.imgur.com/Ah3PGlq.jpg\" style=\"max-width: 550px; margin-top: 10px;\"></div><p style=\"color: purple; margin: 10px 0 0;\">&#x1F49C; 25 <span style=\"margin-left: 5px; margin-top: 10px;\">&#x1F4AC; 4</span></p></div></div>"
      ],
      "text/plain": [
       "<IPython.core.display.HTML object>"
      ]
     },
     "metadata": {},
     "output_type": "display_data"
    },
    {
     "data": {
      "text/html": [
       "\n",
       "    <div style=\"border: 1px solid #ccc; max-width: 600px; padding: 25px; margin-bottom: 25px;\">\n",
       "        <div style=\"max-width: 550px; margin: 0 auto;\">\n",
       "            <p><strong><a href=\"https://searchcaster.xyz/search?merkleRoot=0xb4fd73efd0f9912596fa298f1e70a912d38e83fd\" target=\"_blank\">merkleRoot</a></strong></p>\n",
       "            <p><strong>@zachterrell · fid 457</strong></p>\n",
       "            <div style=\"word-wrap: break-word; margin: 10px 0;\"><a href=\"https://www.farcaster.network/\" target=\"_blank\">https://www.farcaster.network/</a> </div>\n",
       "    <div style=\"text-align: center;\"><img src=\"https://i.imgur.com/x2PaIpr.jpg\" style=\"max-width: 550px; margin-top: 10px;\"></div><p style=\"color: purple; margin: 10px 0 0;\">&#x1F49C; 25 <span style=\"margin-left: 5px; margin-top: 10px;\">&#x1F4AC; 5</span></p></div></div>"
      ],
      "text/plain": [
       "<IPython.core.display.HTML object>"
      ]
     },
     "metadata": {},
     "output_type": "display_data"
    },
    {
     "data": {
      "text/html": [
       "\n",
       "    <div style=\"border: 1px solid #ccc; max-width: 600px; padding: 25px; margin-bottom: 25px;\">\n",
       "        <div style=\"max-width: 550px; margin: 0 auto;\">\n",
       "            <p><strong><a href=\"https://searchcaster.xyz/search?merkleRoot=0x46db90ed118c38f3b0bc916fec1e1eccaec92ff6\" target=\"_blank\">merkleRoot</a></strong></p>\n",
       "            <p><strong>@dwr · fid 3</strong></p>\n",
       "            <div style=\"word-wrap: break-word; margin: 10px 0;\">Feels like a future version of Passkeys are going to have a big impact on web3 if they support ECDSA signatures.<br><br><a href=\"https://9to5mac.com/2022/08/27/passkeys-two-factor-apple-use/\" target=\"_blank\">https://9to5mac.com/2022/08/27/passkeys-two-factor-apple-use/</a></div>\n",
       "    <p style=\"color: purple; margin: 10px 0 0;\">&#x1F49C; 24 <span style=\"margin-left: 5px; margin-top: 10px;\">&#x1F4AC; 3</span></p></div></div>"
      ],
      "text/plain": [
       "<IPython.core.display.HTML object>"
      ]
     },
     "metadata": {},
     "output_type": "display_data"
    },
    {
     "data": {
      "text/html": [
       "\n",
       "    <div style=\"border: 1px solid #ccc; max-width: 600px; padding: 25px; margin-bottom: 25px;\">\n",
       "        <div style=\"max-width: 550px; margin: 0 auto;\">\n",
       "            <p><strong><a href=\"https://searchcaster.xyz/search?merkleRoot=0xf92bcd5d8ffc7fff0f6cf0b81178f3793eef665b\" target=\"_blank\">merkleRoot</a></strong></p>\n",
       "            <p><strong>@jasonkim · fid 899</strong></p>\n",
       "            <div style=\"word-wrap: break-word; margin: 10px 0;\">Working on something built on @farcaster at the intersection of coinfessions x zkproofs x teamblind<br><br>Have some UX things we're noodling on would love to chat with farcaster users <br><br>Please email me at j@bwl.gg if you have 15 min to chat!</div>\n",
       "    <p style=\"color: purple; margin: 10px 0 0;\">&#x1F49C; 24 <span style=\"margin-left: 5px; margin-top: 10px;\">&#x1F4AC; 4</span></p></div></div>"
      ],
      "text/plain": [
       "<IPython.core.display.HTML object>"
      ]
     },
     "metadata": {},
     "output_type": "display_data"
    },
    {
     "data": {
      "text/html": [
       "\n",
       "    <div style=\"border: 1px solid #ccc; max-width: 600px; padding: 25px; margin-bottom: 25px;\">\n",
       "        <div style=\"max-width: 550px; margin: 0 auto;\">\n",
       "            <p><strong><a href=\"https://searchcaster.xyz/search?merkleRoot=0x640c66767490e83948870ee220065027d42cbd96\" target=\"_blank\">merkleRoot</a></strong></p>\n",
       "            <p><strong>@jacky · fid 1298</strong></p>\n",
       "            <div style=\"word-wrap: break-word; margin: 10px 0;\">My first FC side project: RequestCaster!<br><br>Got a feature or product request to make to the FC community? <br><br>Just add the word RequestCaster anywhere in your cast and it will be listed (takes ~30min to index)<br><br><a href=\"https://www.requestcaster.xyz/\" target=\"_blank\">https://www.requestcaster.xyz/</a> </div>\n",
       "    <div style=\"text-align: center;\"><img src=\"https://i.imgur.com/IsRb2Ge.png\" style=\"max-width: 550px; margin-top: 10px;\"></div><p style=\"color: purple; margin: 10px 0 0;\">&#x1F49C; 24 <span style=\"margin-left: 5px; margin-top: 10px;\">&#x1F4AC; 5</span></p></div></div>"
      ],
      "text/plain": [
       "<IPython.core.display.HTML object>"
      ]
     },
     "metadata": {},
     "output_type": "display_data"
    },
    {
     "data": {
      "text/html": [
       "\n",
       "    <div style=\"border: 1px solid #ccc; max-width: 600px; padding: 25px; margin-bottom: 25px;\">\n",
       "        <div style=\"max-width: 550px; margin: 0 auto;\">\n",
       "            <p><strong><a href=\"https://searchcaster.xyz/search?merkleRoot=0xc6f6191540d81129156676e70f8bcdc7f0652ce7\" target=\"_blank\">merkleRoot</a></strong></p>\n",
       "            <p><strong>@dwr · fid 3</strong></p>\n",
       "            <div style=\"word-wrap: break-word; margin: 10px 0;\">Farcaster app opportunity: CastList<br><br>- Simple, Craigslist style UI<br>- Have categories:<br><br>1. Meetups -- looking to meet up with other Farcasters in X location?<br>2. Invites -- Does anyone have / I have invites for X beta product?<br>3. Recommendations for X<br><br>- manually curate to start...</div>\n",
       "    <p style=\"color: purple; margin: 10px 0 0;\">&#x1F49C; 24 <span style=\"margin-left: 5px; margin-top: 10px;\">&#x1F4AC; 2</span></p></div></div>"
      ],
      "text/plain": [
       "<IPython.core.display.HTML object>"
      ]
     },
     "metadata": {},
     "output_type": "display_data"
    },
    {
     "data": {
      "text/html": [
       "\n",
       "    <div style=\"border: 1px solid #ccc; max-width: 600px; padding: 25px; margin-bottom: 25px;\">\n",
       "        <div style=\"max-width: 550px; margin: 0 auto;\">\n",
       "            <p><strong><a href=\"https://searchcaster.xyz/search?merkleRoot=0x5fed1032ea490e005a634dfb32bb39a7dc318940\" target=\"_blank\">merkleRoot</a></strong></p>\n",
       "            <p><strong>@joshs · fid 1271</strong></p>\n",
       "            <div style=\"word-wrap: break-word; margin: 10px 0;\">today is a sauce making day<br><br>#farmcaster </div>\n",
       "    <div style=\"text-align: center;\"><img src=\"https://i.imgur.com/85aeIBC.jpg\" style=\"max-width: 550px; margin-top: 10px;\"></div><p style=\"color: purple; margin: 10px 0 0;\">&#x1F49C; 23 <span style=\"margin-left: 5px; margin-top: 10px;\">&#x1F4AC; 3</span></p></div></div>"
      ],
      "text/plain": [
       "<IPython.core.display.HTML object>"
      ]
     },
     "metadata": {},
     "output_type": "display_data"
    },
    {
     "data": {
      "text/html": [
       "\n",
       "    <div style=\"border: 1px solid #ccc; max-width: 600px; padding: 25px; margin-bottom: 25px;\">\n",
       "        <div style=\"max-width: 550px; margin: 0 auto;\">\n",
       "            <p><strong><a href=\"https://searchcaster.xyz/search?merkleRoot=0xa908bffb2e643cd2d50682e2fe5710d3df6d320c\" target=\"_blank\">merkleRoot</a></strong></p>\n",
       "            <p><strong>@nonlinear · fid 576</strong></p>\n",
       "            <div style=\"word-wrap: break-word; margin: 10px 0;\">gn </div>\n",
       "    <div style=\"text-align: center;\"><img src=\"https://i.imgur.com/pwE2Nd8.jpg\" style=\"max-width: 550px; margin-top: 10px;\"></div><p style=\"color: purple; margin: 10px 0 0;\">&#x1F49C; 23 <span style=\"margin-left: 5px; margin-top: 10px;\">&#x1F4AC; 0</span></p></div></div>"
      ],
      "text/plain": [
       "<IPython.core.display.HTML object>"
      ]
     },
     "metadata": {},
     "output_type": "display_data"
    },
    {
     "data": {
      "text/html": [
       "\n",
       "    <div style=\"border: 1px solid #ccc; max-width: 600px; padding: 25px; margin-bottom: 25px;\">\n",
       "        <div style=\"max-width: 550px; margin: 0 auto;\">\n",
       "            <p><strong><a href=\"https://searchcaster.xyz/search?merkleRoot=0xf13bc67e500b470a9ccafb0f633d7a7d3ad154cf\" target=\"_blank\">merkleRoot</a></strong></p>\n",
       "            <p><strong>@jc · fid 251</strong></p>\n",
       "            <div style=\"word-wrap: break-word; margin: 10px 0;\">\"What’s great about this country is that America started the tradition where the richest consumers buy essentially the same things as the poorest.\" ~ Andy Warhol </div>\n",
       "    <div style=\"text-align: center;\"><img src=\"https://i.imgur.com/ByhdTli.jpg\" style=\"max-width: 550px; margin-top: 10px;\"></div><p style=\"color: purple; margin: 10px 0 0;\">&#x1F49C; 23 <span style=\"margin-left: 5px; margin-top: 10px;\">&#x1F4AC; 3</span></p></div></div>"
      ],
      "text/plain": [
       "<IPython.core.display.HTML object>"
      ]
     },
     "metadata": {},
     "output_type": "display_data"
    },
    {
     "data": {
      "text/html": [
       "\n",
       "    <div style=\"border: 1px solid #ccc; max-width: 600px; padding: 25px; margin-bottom: 25px;\">\n",
       "        <div style=\"max-width: 550px; margin: 0 auto;\">\n",
       "            <p><strong><a href=\"https://searchcaster.xyz/search?merkleRoot=0xe8f15313bd5ff881a6cca527de0d64b6628ad6c9\" target=\"_blank\">merkleRoot</a></strong></p>\n",
       "            <p><strong>@zach · fid 42</strong></p>\n",
       "            <div style=\"word-wrap: break-word; margin: 10px 0;\"></div>\n",
       "    <div style=\"text-align: center;\"><img src=\"https://i.imgur.com/gpuZj1r.jpg\" style=\"max-width: 550px; margin-top: 10px;\"></div><p style=\"color: purple; margin: 10px 0 0;\">&#x1F49C; 22 <span style=\"margin-left: 5px; margin-top: 10px;\">&#x1F4AC; 2</span></p></div></div>"
      ],
      "text/plain": [
       "<IPython.core.display.HTML object>"
      ]
     },
     "metadata": {},
     "output_type": "display_data"
    },
    {
     "data": {
      "text/html": [
       "\n",
       "    <div style=\"border: 1px solid #ccc; max-width: 600px; padding: 25px; margin-bottom: 25px;\">\n",
       "        <div style=\"max-width: 550px; margin: 0 auto;\">\n",
       "            <p><strong><a href=\"https://searchcaster.xyz/search?merkleRoot=0x5363ad9ca73532be22c7bbcaa7c8eca535340060\" target=\"_blank\">merkleRoot</a></strong></p>\n",
       "            <p><strong>@dwr · fid 3</strong></p>\n",
       "            <div style=\"word-wrap: break-word; margin: 10px 0;\">This is neat (and awesome simple webpage):<br><br><a href=\"https://aigrant.org/\" target=\"_blank\">https://aigrant.org/</a></div>\n",
       "    <p style=\"color: purple; margin: 10px 0 0;\">&#x1F49C; 22 <span style=\"margin-left: 5px; margin-top: 10px;\">&#x1F4AC; 1</span></p></div></div>"
      ],
      "text/plain": [
       "<IPython.core.display.HTML object>"
      ]
     },
     "metadata": {},
     "output_type": "display_data"
    },
    {
     "data": {
      "text/html": [
       "\n",
       "    <div style=\"border: 1px solid #ccc; max-width: 600px; padding: 25px; margin-bottom: 25px;\">\n",
       "        <div style=\"max-width: 550px; margin: 0 auto;\">\n",
       "            <p><strong><a href=\"https://searchcaster.xyz/search?merkleRoot=0x94af20756ef210eba48e3bfe4d3cf4920ed530cd\" target=\"_blank\">merkleRoot</a></strong></p>\n",
       "            <p><strong>@hyper · fid 283</strong></p>\n",
       "            <div style=\"word-wrap: break-word; margin: 10px 0;\"></div>\n",
       "    <div style=\"text-align: center;\"><img src=\"https://i.imgur.com/CRBeygg.jpg\" style=\"max-width: 550px; margin-top: 10px;\"></div><p style=\"color: purple; margin: 10px 0 0;\">&#x1F49C; 22 <span style=\"margin-left: 5px; margin-top: 10px;\">&#x1F4AC; 2</span></p></div></div>"
      ],
      "text/plain": [
       "<IPython.core.display.HTML object>"
      ]
     },
     "metadata": {},
     "output_type": "display_data"
    },
    {
     "data": {
      "text/html": [
       "\n",
       "    <div style=\"border: 1px solid #ccc; max-width: 600px; padding: 25px; margin-bottom: 25px;\">\n",
       "        <div style=\"max-width: 550px; margin: 0 auto;\">\n",
       "            <p><strong><a href=\"https://searchcaster.xyz/search?merkleRoot=0x3e0403a54838dbe5e9c7e13ad0a13733d5bd8922\" target=\"_blank\">merkleRoot</a></strong></p>\n",
       "            <p><strong>@n · fid 274</strong></p>\n",
       "            <div style=\"word-wrap: break-word; margin: 10px 0;\">I built farfessions.xyz while experimenting with @beb protocol. <br><br>Only casters can post, but the posts are anonymous. :)<br><br>The code is open-sourced and you can deploy your own farfession easily 🔥<br> </div>\n",
       "    <div style=\"text-align: center;\"><img src=\"https://i.imgur.com/GrJPaTC.png\" style=\"max-width: 550px; margin-top: 10px;\"></div><p style=\"color: purple; margin: 10px 0 0;\">&#x1F49C; 22 <span style=\"margin-left: 5px; margin-top: 10px;\">&#x1F4AC; 5</span></p></div></div>"
      ],
      "text/plain": [
       "<IPython.core.display.HTML object>"
      ]
     },
     "metadata": {},
     "output_type": "display_data"
    },
    {
     "data": {
      "text/html": [
       "\n",
       "    <div style=\"border: 1px solid #ccc; max-width: 600px; padding: 25px; margin-bottom: 25px;\">\n",
       "        <div style=\"max-width: 550px; margin: 0 auto;\">\n",
       "            <p><strong><a href=\"https://searchcaster.xyz/search?merkleRoot=0x64270e9874ab40d6c643286169689837d2980c60\" target=\"_blank\">merkleRoot</a></strong></p>\n",
       "            <p><strong>@cdt · fid 1024</strong></p>\n",
       "            <div style=\"word-wrap: break-word; margin: 10px 0;\">broke 1,500 downloads on Noun O Talk🫡 </div>\n",
       "    <div style=\"text-align: center;\"><img src=\"https://i.imgur.com/PtaKqld.jpg\" style=\"max-width: 550px; margin-top: 10px;\"></div><p style=\"color: purple; margin: 10px 0 0;\">&#x1F49C; 22 <span style=\"margin-left: 5px; margin-top: 10px;\">&#x1F4AC; 5</span></p></div></div>"
      ],
      "text/plain": [
       "<IPython.core.display.HTML object>"
      ]
     },
     "metadata": {},
     "output_type": "display_data"
    },
    {
     "data": {
      "text/html": [
       "\n",
       "    <div style=\"border: 1px solid #ccc; max-width: 600px; padding: 25px; margin-bottom: 25px;\">\n",
       "        <div style=\"max-width: 550px; margin: 0 auto;\">\n",
       "            <p><strong><a href=\"https://searchcaster.xyz/search?merkleRoot=0x4a082fe5d964961f7a02cf3ef9ab51232b4bbb67\" target=\"_blank\">merkleRoot</a></strong></p>\n",
       "            <p><strong>@pushix · fid 359</strong></p>\n",
       "            <div style=\"word-wrap: break-word; margin: 10px 0;\">gm, 17 days until the merge LFG</div>\n",
       "    <p style=\"color: purple; margin: 10px 0 0;\">&#x1F49C; 22 <span style=\"margin-left: 5px; margin-top: 10px;\">&#x1F4AC; 0</span></p></div></div>"
      ],
      "text/plain": [
       "<IPython.core.display.HTML object>"
      ]
     },
     "metadata": {},
     "output_type": "display_data"
    },
    {
     "data": {
      "text/html": [
       "\n",
       "    <div style=\"border: 1px solid #ccc; max-width: 600px; padding: 25px; margin-bottom: 25px;\">\n",
       "        <div style=\"max-width: 550px; margin: 0 auto;\">\n",
       "            <p><strong><a href=\"https://searchcaster.xyz/search?merkleRoot=0x3b260bbae2cceed3b0f5c2b3513d5fc8433e08a9\" target=\"_blank\">merkleRoot</a></strong></p>\n",
       "            <p><strong>@pedro · fid 1475</strong></p>\n",
       "            <div style=\"word-wrap: break-word; margin: 10px 0;\">the reason I always switch back to twitter after trying decentralized alternatives is always the client experience. <br><br>shoutout to the Farcaster team, the Mac and iPhone clients are SOLID. <br><br>as a react native maxi I gotta recognize this is the work of native apps. Feels v snappy.</div>\n",
       "    <p style=\"color: purple; margin: 10px 0 0;\">&#x1F49C; 21 <span style=\"margin-left: 5px; margin-top: 10px;\">&#x1F4AC; 2</span></p></div></div>"
      ],
      "text/plain": [
       "<IPython.core.display.HTML object>"
      ]
     },
     "metadata": {},
     "output_type": "display_data"
    },
    {
     "data": {
      "text/html": [
       "\n",
       "    <div style=\"border: 1px solid #ccc; max-width: 600px; padding: 25px; margin-bottom: 25px;\">\n",
       "        <div style=\"max-width: 550px; margin: 0 auto;\">\n",
       "            <p><strong><a href=\"https://searchcaster.xyz/search?merkleRoot=0x55519f10fdcccb924ddc49efe497ea645b0641e9\" target=\"_blank\">merkleRoot</a></strong></p>\n",
       "            <p><strong>@0xfr0z · fid 1589</strong></p>\n",
       "            <div style=\"word-wrap: break-word; margin: 10px 0;\">I’m very new in Blender, what you think about it? 😁 </div>\n",
       "    <div style=\"text-align: center;\"><img src=\"https://i.imgur.com/qABZeyV.jpg\" style=\"max-width: 550px; margin-top: 10px;\"></div><p style=\"color: purple; margin: 10px 0 0;\">&#x1F49C; 21 <span style=\"margin-left: 5px; margin-top: 10px;\">&#x1F4AC; 3</span></p></div></div>"
      ],
      "text/plain": [
       "<IPython.core.display.HTML object>"
      ]
     },
     "metadata": {},
     "output_type": "display_data"
    },
    {
     "data": {
      "text/html": [
       "\n",
       "    <div style=\"border: 1px solid #ccc; max-width: 600px; padding: 25px; margin-bottom: 25px;\">\n",
       "        <div style=\"max-width: 550px; margin: 0 auto;\">\n",
       "            <p><strong><a href=\"https://searchcaster.xyz/search?merkleRoot=0x5f5912808c3f0896c2455a7bdecf2bbde8b7fb04\" target=\"_blank\">merkleRoot</a></strong></p>\n",
       "            <p><strong>@pushix · fid 359</strong></p>\n",
       "            <div style=\"word-wrap: break-word; margin: 10px 0;\">Lex is a on a fucking roll these days. So many good ones, can’t wait to hear Magnus, respect the living shit out of that guy </div>\n",
       "    <div style=\"text-align: center;\"><img src=\"https://i.imgur.com/WIj4u4Y.jpg\" style=\"max-width: 550px; margin-top: 10px;\"></div><p style=\"color: purple; margin: 10px 0 0;\">&#x1F49C; 21 <span style=\"margin-left: 5px; margin-top: 10px;\">&#x1F4AC; 5</span></p></div></div>"
      ],
      "text/plain": [
       "<IPython.core.display.HTML object>"
      ]
     },
     "metadata": {},
     "output_type": "display_data"
    },
    {
     "data": {
      "text/html": [
       "\n",
       "    <div style=\"border: 1px solid #ccc; max-width: 600px; padding: 25px; margin-bottom: 25px;\">\n",
       "        <div style=\"max-width: 550px; margin: 0 auto;\">\n",
       "            <p><strong><a href=\"https://searchcaster.xyz/search?merkleRoot=0x181d8c47faf61dd1d143c218df62b4f79711e54e\" target=\"_blank\">merkleRoot</a></strong></p>\n",
       "            <p><strong>@cg · fid 952</strong></p>\n",
       "            <div style=\"word-wrap: break-word; margin: 10px 0;\">learning React and Tailwind for the first-time and had my Farcaster Design Team moment </div>\n",
       "    <div style=\"text-align: center;\"><img src=\"https://i.imgur.com/QLlEZOy.png\" style=\"max-width: 550px; margin-top: 10px;\"></div><p style=\"color: purple; margin: 10px 0 0;\">&#x1F49C; 21 <span style=\"margin-left: 5px; margin-top: 10px;\">&#x1F4AC; 5</span></p></div></div>"
      ],
      "text/plain": [
       "<IPython.core.display.HTML object>"
      ]
     },
     "metadata": {},
     "output_type": "display_data"
    },
    {
     "data": {
      "text/html": [
       "\n",
       "    <div style=\"border: 1px solid #ccc; max-width: 600px; padding: 25px; margin-bottom: 25px;\">\n",
       "        <div style=\"max-width: 550px; margin: 0 auto;\">\n",
       "            <p><strong><a href=\"https://searchcaster.xyz/search?merkleRoot=0x65e41610b3331426f703ced6867b613dff0b4b3a\" target=\"_blank\">merkleRoot</a></strong></p>\n",
       "            <p><strong>@macbudkowski · fid 1048</strong></p>\n",
       "            <div style=\"word-wrap: break-word; margin: 10px 0;\">farcaster rn </div>\n",
       "    <div style=\"text-align: center;\"><img src=\"https://i.imgur.com/OptT5SA.png\" style=\"max-width: 550px; margin-top: 10px;\"></div><p style=\"color: purple; margin: 10px 0 0;\">&#x1F49C; 21 <span style=\"margin-left: 5px; margin-top: 10px;\">&#x1F4AC; 1</span></p></div></div>"
      ],
      "text/plain": [
       "<IPython.core.display.HTML object>"
      ]
     },
     "metadata": {},
     "output_type": "display_data"
    },
    {
     "data": {
      "text/html": [
       "\n",
       "    <div style=\"border: 1px solid #ccc; max-width: 600px; padding: 25px; margin-bottom: 25px;\">\n",
       "        <div style=\"max-width: 550px; margin: 0 auto;\">\n",
       "            <p><strong><a href=\"https://searchcaster.xyz/search?merkleRoot=0x0818617aae3467b59d43e509e4d199557e8e1362\" target=\"_blank\">merkleRoot</a></strong></p>\n",
       "            <p><strong>@antonio · fid 53</strong></p>\n",
       "            <div style=\"word-wrap: break-word; margin: 10px 0;\">Will be at the Stanford Blockchain Conference tomorrow. Holler if you want me to talk your ear off about what Web 3 will need to do to get to a billion users (especially if you're an engineer or data scientist looking for an adventure). <br><br><a href=\"https://cbr.stanford.edu/sbc22/\" target=\"_blank\">https://cbr.stanford.edu/sbc22/</a></div>\n",
       "    <p style=\"color: purple; margin: 10px 0 0;\">&#x1F49C; 21 <span style=\"margin-left: 5px; margin-top: 10px;\">&#x1F4AC; 0</span></p></div></div>"
      ],
      "text/plain": [
       "<IPython.core.display.HTML object>"
      ]
     },
     "metadata": {},
     "output_type": "display_data"
    },
    {
     "data": {
      "text/html": [
       "\n",
       "    <div style=\"border: 1px solid #ccc; max-width: 600px; padding: 25px; margin-bottom: 25px;\">\n",
       "        <div style=\"max-width: 550px; margin: 0 auto;\">\n",
       "            <p><strong><a href=\"https://searchcaster.xyz/search?merkleRoot=0x1cb92c7f025371adc1a9ebc7fd7b2b02bd6f0b49\" target=\"_blank\">merkleRoot</a></strong></p>\n",
       "            <p><strong>@grace · fid 1189</strong></p>\n",
       "            <div style=\"word-wrap: break-word; margin: 10px 0;\">never did long distance cycling before then rode 70km London -> Cambridge over the weekend lol. it was fun tho and cute funny English towns + countryside views along the way were worth it </div>\n",
       "    <div style=\"text-align: center;\"><img src=\"https://i.imgur.com/swKOZHP.jpg\" style=\"max-width: 550px; margin-top: 10px;\"></div><p style=\"color: purple; margin: 10px 0 0;\">&#x1F49C; 20 <span style=\"margin-left: 5px; margin-top: 10px;\">&#x1F4AC; 3</span></p></div></div>"
      ],
      "text/plain": [
       "<IPython.core.display.HTML object>"
      ]
     },
     "metadata": {},
     "output_type": "display_data"
    },
    {
     "data": {
      "text/html": [
       "\n",
       "    <div style=\"border: 1px solid #ccc; max-width: 600px; padding: 25px; margin-bottom: 25px;\">\n",
       "        <div style=\"max-width: 550px; margin: 0 auto;\">\n",
       "            <p><strong><a href=\"https://searchcaster.xyz/search?merkleRoot=0xa9e49d404ab5cd2957623cc108a5e8d4da56738c\" target=\"_blank\">merkleRoot</a></strong></p>\n",
       "            <p><strong>@nick · fid 108</strong></p>\n",
       "            <div style=\"word-wrap: break-word; margin: 10px 0;\">How has the culture you’ve grown up in shaped you? </div>\n",
       "    <div style=\"text-align: center;\"><img src=\"https://i.imgur.com/bcFmQS0.jpg\" style=\"max-width: 550px; margin-top: 10px;\"></div><p style=\"color: purple; margin: 10px 0 0;\">&#x1F49C; 20 <span style=\"margin-left: 5px; margin-top: 10px;\">&#x1F4AC; 4</span></p></div></div>"
      ],
      "text/plain": [
       "<IPython.core.display.HTML object>"
      ]
     },
     "metadata": {},
     "output_type": "display_data"
    },
    {
     "data": {
      "text/html": [
       "\n",
       "    <div style=\"border: 1px solid #ccc; max-width: 600px; padding: 25px; margin-bottom: 25px;\">\n",
       "        <div style=\"max-width: 550px; margin: 0 auto;\">\n",
       "            <p><strong><a href=\"https://searchcaster.xyz/search?merkleRoot=0x4f86b6d5d5903eeecca48f1332b4c59e4c8ca7d1\" target=\"_blank\">merkleRoot</a></strong></p>\n",
       "            <p><strong>@briang · fid 548</strong></p>\n",
       "            <div style=\"word-wrap: break-word; margin: 10px 0;\">just watched Memento for the first time yday. what a masterpiece holy shit</div>\n",
       "    <p style=\"color: purple; margin: 10px 0 0;\">&#x1F49C; 20 <span style=\"margin-left: 5px; margin-top: 10px;\">&#x1F4AC; 5</span></p></div></div>"
      ],
      "text/plain": [
       "<IPython.core.display.HTML object>"
      ]
     },
     "metadata": {},
     "output_type": "display_data"
    },
    {
     "data": {
      "text/html": [
       "\n",
       "    <div style=\"border: 1px solid #ccc; max-width: 600px; padding: 25px; margin-bottom: 25px;\">\n",
       "        <div style=\"max-width: 550px; margin: 0 auto;\">\n",
       "            <p><strong><a href=\"https://searchcaster.xyz/search?merkleRoot=0x730e9eba095e0e3f2d6583f202b3607ca61b6f09\" target=\"_blank\">merkleRoot</a></strong></p>\n",
       "            <p><strong>@pipemachine · fid 1456</strong></p>\n",
       "            <div style=\"word-wrap: break-word; margin: 10px 0;\">pumped to be here on FC. Technical entrepreneur by background and VC these days. Have been watching web3 from afar and have just started diving in more heavily the last few months. Been having a blasting tinkering and building a validator node. More soon...</div>\n",
       "    <p style=\"color: purple; margin: 10px 0 0;\">&#x1F49C; 20 <span style=\"margin-left: 5px; margin-top: 10px;\">&#x1F4AC; 4</span></p></div></div>"
      ],
      "text/plain": [
       "<IPython.core.display.HTML object>"
      ]
     },
     "metadata": {},
     "output_type": "display_data"
    },
    {
     "data": {
      "text/html": [
       "\n",
       "    <div style=\"border: 1px solid #ccc; max-width: 600px; padding: 25px; margin-bottom: 25px;\">\n",
       "        <div style=\"max-width: 550px; margin: 0 auto;\">\n",
       "            <p><strong><a href=\"https://searchcaster.xyz/search?merkleRoot=0xe56901c9038ee43807a3407ece132ea3712f0bb0\" target=\"_blank\">merkleRoot</a></strong></p>\n",
       "            <p><strong>@nonlinear · fid 576</strong></p>\n",
       "            <div style=\"word-wrap: break-word; margin: 10px 0;\">guys, i think i found the perfect screenshot essay app </div>\n",
       "    <div style=\"text-align: center;\"><img src=\"https://i.imgur.com/LQFSeRO.jpg\" style=\"max-width: 550px; margin-top: 10px;\"></div><p style=\"color: purple; margin: 10px 0 0;\">&#x1F49C; 20 <span style=\"margin-left: 5px; margin-top: 10px;\">&#x1F4AC; 6</span></p></div></div>"
      ],
      "text/plain": [
       "<IPython.core.display.HTML object>"
      ]
     },
     "metadata": {},
     "output_type": "display_data"
    },
    {
     "data": {
      "text/html": [
       "\n",
       "    <div style=\"border: 1px solid #ccc; max-width: 600px; padding: 25px; margin-bottom: 25px;\">\n",
       "        <div style=\"max-width: 550px; margin: 0 auto;\">\n",
       "            <p><strong><a href=\"https://searchcaster.xyz/search?merkleRoot=0x1e74ff7295b3a54c2add51dec547de1d7042eb19\" target=\"_blank\">merkleRoot</a></strong></p>\n",
       "            <p><strong>@yitong · fid 101</strong></p>\n",
       "            <div style=\"word-wrap: break-word; margin: 10px 0;\">Dropped a lil site today for Agora. It's a first step in a long list of governance tooling I've been mulling on ever since we started Vector. I don't believe onchain governance is inherently less efficacious. We just need to invest in making it better<br><br><a href=\"https://www.nounsagora.com/\" target=\"_blank\">https://www.nounsagora.com/</a></div>\n",
       "    <p style=\"color: purple; margin: 10px 0 0;\">&#x1F49C; 20 <span style=\"margin-left: 5px; margin-top: 10px;\">&#x1F4AC; 5</span></p></div></div>"
      ],
      "text/plain": [
       "<IPython.core.display.HTML object>"
      ]
     },
     "metadata": {},
     "output_type": "display_data"
    },
    {
     "data": {
      "text/html": [
       "\n",
       "    <div style=\"border: 1px solid #ccc; max-width: 600px; padding: 25px; margin-bottom: 25px;\">\n",
       "        <div style=\"max-width: 550px; margin: 0 auto;\">\n",
       "            <p><strong><a href=\"https://searchcaster.xyz/search?merkleRoot=0xf5a17fc1316e26c481601f0be35e630d2f64f8d7\" target=\"_blank\">merkleRoot</a></strong></p>\n",
       "            <p><strong>@nick · fid 108</strong></p>\n",
       "            <div style=\"word-wrap: break-word; margin: 10px 0;\">32 straight days of screenshot essays 😈 </div>\n",
       "    <div style=\"text-align: center;\"><img src=\"https://i.imgur.com/cUEoUSh.jpg\" style=\"max-width: 550px; margin-top: 10px;\"></div><p style=\"color: purple; margin: 10px 0 0;\">&#x1F49C; 20 <span style=\"margin-left: 5px; margin-top: 10px;\">&#x1F4AC; 5</span></p></div></div>"
      ],
      "text/plain": [
       "<IPython.core.display.HTML object>"
      ]
     },
     "metadata": {},
     "output_type": "display_data"
    },
    {
     "data": {
      "text/html": [
       "\n",
       "    <div style=\"border: 1px solid #ccc; max-width: 600px; padding: 25px; margin-bottom: 25px;\">\n",
       "        <div style=\"max-width: 550px; margin: 0 auto;\">\n",
       "            <p><strong><a href=\"https://searchcaster.xyz/search?merkleRoot=0x8104867921e6984ec16b823e106deb0ca29b3b4b\" target=\"_blank\">merkleRoot</a></strong></p>\n",
       "            <p><strong>@dwr · fid 3</strong></p>\n",
       "            <div style=\"word-wrap: break-word; margin: 10px 0;\">Love the Korean concept of “jeong” </div>\n",
       "    <div style=\"text-align: center;\"><img src=\"https://i.imgur.com/JeFSZPE.jpg\" style=\"max-width: 550px; margin-top: 10px;\"></div><p style=\"color: purple; margin: 10px 0 0;\">&#x1F49C; 20 <span style=\"margin-left: 5px; margin-top: 10px;\">&#x1F4AC; 4</span></p></div></div>"
      ],
      "text/plain": [
       "<IPython.core.display.HTML object>"
      ]
     },
     "metadata": {},
     "output_type": "display_data"
    },
    {
     "data": {
      "text/html": [
       "\n",
       "    <div style=\"border: 1px solid #ccc; max-width: 600px; padding: 25px; margin-bottom: 25px;\">\n",
       "        <div style=\"max-width: 550px; margin: 0 auto;\">\n",
       "            <p><strong><a href=\"https://searchcaster.xyz/search?merkleRoot=0x063a53e1e9335a160c8ebdaeb3d5a55931a15443\" target=\"_blank\">merkleRoot</a></strong></p>\n",
       "            <p><strong>@jaren · fid 135</strong></p>\n",
       "            <div style=\"word-wrap: break-word; margin: 10px 0;\"><a href=\"https://manual.withcompound.com/chapters/interview-with-dan-romero-employee-20-at-coinbase\" target=\"_blank\">https://manual.withcompound.com/chapters/interview-with-dan-romero-employee-20-at-coinbase</a></div>\n",
       "    <p style=\"color: purple; margin: 10px 0 0;\">&#x1F49C; 20 <span style=\"margin-left: 5px; margin-top: 10px;\">&#x1F4AC; 5</span></p></div></div>"
      ],
      "text/plain": [
       "<IPython.core.display.HTML object>"
      ]
     },
     "metadata": {},
     "output_type": "display_data"
    },
    {
     "data": {
      "text/html": [
       "\n",
       "    <div style=\"border: 1px solid #ccc; max-width: 600px; padding: 25px; margin-bottom: 25px;\">\n",
       "        <div style=\"max-width: 550px; margin: 0 auto;\">\n",
       "            <p><strong><a href=\"https://searchcaster.xyz/search?merkleRoot=0x1ee082382bec469c1c88e37a055e2d757b7490bf\" target=\"_blank\">merkleRoot</a></strong></p>\n",
       "            <p><strong>@linda · fid 12</strong></p>\n",
       "            <div style=\"word-wrap: break-word; margin: 10px 0;\">Some of my favorite creative, nerdy names in crypto - she256, dYdX, O(1) Labs, 0xPARC</div>\n",
       "    <p style=\"color: purple; margin: 10px 0 0;\">&#x1F49C; 20 <span style=\"margin-left: 5px; margin-top: 10px;\">&#x1F4AC; 1</span></p></div></div>"
      ],
      "text/plain": [
       "<IPython.core.display.HTML object>"
      ]
     },
     "metadata": {},
     "output_type": "display_data"
    },
    {
     "data": {
      "text/html": [
       "\n",
       "    <div style=\"border: 1px solid #ccc; max-width: 600px; padding: 25px; margin-bottom: 25px;\">\n",
       "        <div style=\"max-width: 550px; margin: 0 auto;\">\n",
       "            <p><strong><a href=\"https://searchcaster.xyz/search?merkleRoot=0x628b2b5e76ef5343b2509e483b81ee84b5b81dbe\" target=\"_blank\">merkleRoot</a></strong></p>\n",
       "            <p><strong>@alvesjtiago · fid 762</strong></p>\n",
       "            <div style=\"word-wrap: break-word; margin: 10px 0;\">gm, after a disconnected weekend </div>\n",
       "    <div style=\"text-align: center;\"><img src=\"https://i.imgur.com/j6SqyI7.jpg\" style=\"max-width: 550px; margin-top: 10px;\"></div><p style=\"color: purple; margin: 10px 0 0;\">&#x1F49C; 20 <span style=\"margin-left: 5px; margin-top: 10px;\">&#x1F4AC; 2</span></p></div></div>"
      ],
      "text/plain": [
       "<IPython.core.display.HTML object>"
      ]
     },
     "metadata": {},
     "output_type": "display_data"
    },
    {
     "data": {
      "text/html": [
       "\n",
       "    <div style=\"border: 1px solid #ccc; max-width: 600px; padding: 25px; margin-bottom: 25px;\">\n",
       "        <div style=\"max-width: 550px; margin: 0 auto;\">\n",
       "            <p><strong><a href=\"https://searchcaster.xyz/search?merkleRoot=0x01f14eb451acf04353afbea9266742aa2d9a16a1\" target=\"_blank\">merkleRoot</a></strong></p>\n",
       "            <p><strong>@zach · fid 42</strong></p>\n",
       "            <div style=\"word-wrap: break-word; margin: 10px 0;\"></div>\n",
       "    <div style=\"text-align: center;\"><img src=\"https://i.imgur.com/dhPjfPm.jpg\" style=\"max-width: 550px; margin-top: 10px;\"></div><p style=\"color: purple; margin: 10px 0 0;\">&#x1F49C; 20 <span style=\"margin-left: 5px; margin-top: 10px;\">&#x1F4AC; 2</span></p></div></div>"
      ],
      "text/plain": [
       "<IPython.core.display.HTML object>"
      ]
     },
     "metadata": {},
     "output_type": "display_data"
    },
    {
     "data": {
      "text/html": [
       "\n",
       "    <div style=\"border: 1px solid #ccc; max-width: 600px; padding: 25px; margin-bottom: 25px;\">\n",
       "        <div style=\"max-width: 550px; margin: 0 auto;\">\n",
       "            <p><strong><a href=\"https://searchcaster.xyz/search?merkleRoot=0xfd0f29f9b0d3db33a28f849a4c49589983f8b4cc\" target=\"_blank\">merkleRoot</a></strong></p>\n",
       "            <p><strong>@kylesamani · fid 402</strong></p>\n",
       "            <div style=\"word-wrap: break-word; margin: 10px 0;\">Love anecdotes like this<br><br>h/t byrne hobart<br> </div>\n",
       "    <div style=\"text-align: center;\"><img src=\"https://i.imgur.com/IMddGhs.png\" style=\"max-width: 550px; margin-top: 10px;\"></div><p style=\"color: purple; margin: 10px 0 0;\">&#x1F49C; 20 <span style=\"margin-left: 5px; margin-top: 10px;\">&#x1F4AC; 2</span></p></div></div>"
      ],
      "text/plain": [
       "<IPython.core.display.HTML object>"
      ]
     },
     "metadata": {},
     "output_type": "display_data"
    },
    {
     "data": {
      "text/html": [
       "\n",
       "    <div style=\"border: 1px solid #ccc; max-width: 600px; padding: 25px; margin-bottom: 25px;\">\n",
       "        <div style=\"max-width: 550px; margin: 0 auto;\">\n",
       "            <p><strong><a href=\"https://searchcaster.xyz/search?merkleRoot=0x724e9ced883619cdd2b51ab8b9a42f33608f3bb4\" target=\"_blank\">merkleRoot</a></strong></p>\n",
       "            <p><strong>@les · fid 312</strong></p>\n",
       "            <div style=\"word-wrap: break-word; margin: 10px 0;\">One of my goals is to go from tinkering on Farcaster to building a client that’s appealing and usable to a certain demographic. <br><br>Maybe my 1000 true fans that I’ll have one day.</div>\n",
       "    <p style=\"color: purple; margin: 10px 0 0;\">&#x1F49C; 20 <span style=\"margin-left: 5px; margin-top: 10px;\">&#x1F4AC; 3</span></p></div></div>"
      ],
      "text/plain": [
       "<IPython.core.display.HTML object>"
      ]
     },
     "metadata": {},
     "output_type": "display_data"
    },
    {
     "data": {
      "text/html": [
       "\n",
       "    <div style=\"border: 1px solid #ccc; max-width: 600px; padding: 25px; margin-bottom: 25px;\">\n",
       "        <div style=\"max-width: 550px; margin: 0 auto;\">\n",
       "            <p><strong><a href=\"https://searchcaster.xyz/search?merkleRoot=0x9cc28648aadd49fc2396f4e8053fd0215a25b2d1\" target=\"_blank\">merkleRoot</a></strong></p>\n",
       "            <p><strong>@v · fid 2</strong></p>\n",
       "            <div style=\"word-wrap: break-word; margin: 10px 0;\">Was having a protocol design discussion today, and someone asked a question that I answered by pulling up www.farcaster.network <br><br>What a great tool!</div>\n",
       "    <p style=\"color: purple; margin: 10px 0 0;\">&#x1F49C; 19 <span style=\"margin-left: 5px; margin-top: 10px;\">&#x1F4AC; 3</span></p></div></div>"
      ],
      "text/plain": [
       "<IPython.core.display.HTML object>"
      ]
     },
     "metadata": {},
     "output_type": "display_data"
    },
    {
     "data": {
      "text/html": [
       "\n",
       "    <div style=\"border: 1px solid #ccc; max-width: 600px; padding: 25px; margin-bottom: 25px;\">\n",
       "        <div style=\"max-width: 550px; margin: 0 auto;\">\n",
       "            <p><strong><a href=\"https://searchcaster.xyz/search?merkleRoot=0xad2136ee222bbe52b0ae7c2c7bbdd52171ecf3ee\" target=\"_blank\">merkleRoot</a></strong></p>\n",
       "            <p><strong>@phil · fid 129</strong></p>\n",
       "            <div style=\"word-wrap: break-word; margin: 10px 0;\">Sharing some test outputs for a new generative art project dropping next week with Bart Simons. You saw it on Farcaster first! </div>\n",
       "    <div style=\"text-align: center;\"><img src=\"https://i.imgur.com/2eJ9AXd.jpg\" style=\"max-width: 550px; margin-top: 10px;\"></div><p style=\"color: purple; margin: 10px 0 0;\">&#x1F49C; 19 <span style=\"margin-left: 5px; margin-top: 10px;\">&#x1F4AC; 6</span></p></div></div>"
      ],
      "text/plain": [
       "<IPython.core.display.HTML object>"
      ]
     },
     "metadata": {},
     "output_type": "display_data"
    },
    {
     "data": {
      "text/html": [
       "\n",
       "    <div style=\"border: 1px solid #ccc; max-width: 600px; padding: 25px; margin-bottom: 25px;\">\n",
       "        <div style=\"max-width: 550px; margin: 0 auto;\">\n",
       "            <p><strong><a href=\"https://searchcaster.xyz/search?merkleRoot=0x35ff4c23dff5626e73c9f3d4515418bf088b0b4d\" target=\"_blank\">merkleRoot</a></strong></p>\n",
       "            <p><strong>@v · fid 2</strong></p>\n",
       "            <div style=\"word-wrap: break-word; margin: 10px 0;\">gn farcaster, some jazzy vibes to close your night<br><br><a href=\"https://www.youtube.com/watch?v=uqh764Ldh0g\" target=\"_blank\">https://www.youtube.com/watch?v=uqh764Ldh0g</a></div>\n",
       "    <p style=\"color: purple; margin: 10px 0 0;\">&#x1F49C; 19 <span style=\"margin-left: 5px; margin-top: 10px;\">&#x1F4AC; 1</span></p></div></div>"
      ],
      "text/plain": [
       "<IPython.core.display.HTML object>"
      ]
     },
     "metadata": {},
     "output_type": "display_data"
    },
    {
     "data": {
      "text/html": [
       "\n",
       "    <div style=\"border: 1px solid #ccc; max-width: 600px; padding: 25px; margin-bottom: 25px;\">\n",
       "        <div style=\"max-width: 550px; margin: 0 auto;\">\n",
       "            <p><strong><a href=\"https://searchcaster.xyz/search?merkleRoot=0x58567995e7c203b8e6ec5a8d38374f446d5259b7\" target=\"_blank\">merkleRoot</a></strong></p>\n",
       "            <p><strong>@jayme · fid 373</strong></p>\n",
       "            <div style=\"word-wrap: break-word; margin: 10px 0;\">gm <br><br>👋 welcome @ian to Farcaster<br><br>ianh.xyz</div>\n",
       "    <p style=\"color: purple; margin: 10px 0 0;\">&#x1F49C; 19 <span style=\"margin-left: 5px; margin-top: 10px;\">&#x1F4AC; 2</span></p></div></div>"
      ],
      "text/plain": [
       "<IPython.core.display.HTML object>"
      ]
     },
     "metadata": {},
     "output_type": "display_data"
    },
    {
     "data": {
      "text/html": [
       "\n",
       "    <div style=\"border: 1px solid #ccc; max-width: 600px; padding: 25px; margin-bottom: 25px;\">\n",
       "        <div style=\"max-width: 550px; margin: 0 auto;\">\n",
       "            <p><strong><a href=\"https://searchcaster.xyz/search?merkleRoot=0x7a618710f71d9caf9b9b564a08dbdc9034c1b068\" target=\"_blank\">merkleRoot</a></strong></p>\n",
       "            <p><strong>@nick · fid 108</strong></p>\n",
       "            <div style=\"word-wrap: break-word; margin: 10px 0;\">4156 </div>\n",
       "    <div style=\"text-align: center;\"><img src=\"https://i.imgur.com/h0RVarK.jpg\" style=\"max-width: 550px; margin-top: 10px;\"></div><p style=\"color: purple; margin: 10px 0 0;\">&#x1F49C; 19 <span style=\"margin-left: 5px; margin-top: 10px;\">&#x1F4AC; 4</span></p></div></div>"
      ],
      "text/plain": [
       "<IPython.core.display.HTML object>"
      ]
     },
     "metadata": {},
     "output_type": "display_data"
    },
    {
     "data": {
      "text/html": [
       "\n",
       "    <div style=\"border: 1px solid #ccc; max-width: 600px; padding: 25px; margin-bottom: 25px;\">\n",
       "        <div style=\"max-width: 550px; margin: 0 auto;\">\n",
       "            <p><strong><a href=\"https://searchcaster.xyz/search?merkleRoot=0x21ed22a0bf2cf26f54cfe06ee105dae3fc92974e\" target=\"_blank\">merkleRoot</a></strong></p>\n",
       "            <p><strong>@zachterrell · fid 457</strong></p>\n",
       "            <div style=\"word-wrap: break-word; margin: 10px 0;\">Some features that are in the works for <a href=\"https://farcaster.network:\" target=\"_blank\">https://farcaster.network:</a><br><br>- Trending casts list<br>- Links to ecosystem apps<br>- High-signal users list (engagement/# casts)<br>- More growth metrics<br>- Users With ENS metric (s/o @0xconrad)<br>- Open source<br><br>We appreciate all the feedback so far!</div>\n",
       "    <p style=\"color: purple; margin: 10px 0 0;\">&#x1F49C; 19 <span style=\"margin-left: 5px; margin-top: 10px;\">&#x1F4AC; 1</span></p></div></div>"
      ],
      "text/plain": [
       "<IPython.core.display.HTML object>"
      ]
     },
     "metadata": {},
     "output_type": "display_data"
    },
    {
     "data": {
      "text/html": [
       "\n",
       "    <div style=\"border: 1px solid #ccc; max-width: 600px; padding: 25px; margin-bottom: 25px;\">\n",
       "        <div style=\"max-width: 550px; margin: 0 auto;\">\n",
       "            <p><strong><a href=\"https://searchcaster.xyz/search?merkleRoot=0x479c4322bac9ecbb0bce1d40d52e5983458f1aba\" target=\"_blank\">merkleRoot</a></strong></p>\n",
       "            <p><strong>@julia · fid 19</strong></p>\n",
       "            <div style=\"word-wrap: break-word; margin: 10px 0;\">Historic vote last night to extend operations at Diablo Canyon! <br><br>Exciting to see the nuclear narrative starting to change, and the nuclear momentum starting to build. </div>\n",
       "    <div style=\"text-align: center;\"><img src=\"https://i.imgur.com/kiFxdWh.jpg\" style=\"max-width: 550px; margin-top: 10px;\"></div><p style=\"color: purple; margin: 10px 0 0;\">&#x1F49C; 19 <span style=\"margin-left: 5px; margin-top: 10px;\">&#x1F4AC; 0</span></p></div></div>"
      ],
      "text/plain": [
       "<IPython.core.display.HTML object>"
      ]
     },
     "metadata": {},
     "output_type": "display_data"
    },
    {
     "data": {
      "text/html": [
       "\n",
       "    <div style=\"border: 1px solid #ccc; max-width: 600px; padding: 25px; margin-bottom: 25px;\">\n",
       "        <div style=\"max-width: 550px; margin: 0 auto;\">\n",
       "            <p><strong><a href=\"https://searchcaster.xyz/search?merkleRoot=0x83b73891aac865148c8ad35c3f1653c2856d7e1e\" target=\"_blank\">merkleRoot</a></strong></p>\n",
       "            <p><strong>@jc · fid 251</strong></p>\n",
       "            <div style=\"word-wrap: break-word; margin: 10px 0;\">benefits of expo - having a working android app in 10 minutes after install android studio using the same code<br><br>now, time to fight with google about nfts 👀 </div>\n",
       "    <div style=\"text-align: center;\"><img src=\"https://i.imgur.com/7diUFg5.jpg\" style=\"max-width: 550px; margin-top: 10px;\"></div><p style=\"color: purple; margin: 10px 0 0;\">&#x1F49C; 19 <span style=\"margin-left: 5px; margin-top: 10px;\">&#x1F4AC; 5</span></p></div></div>"
      ],
      "text/plain": [
       "<IPython.core.display.HTML object>"
      ]
     },
     "metadata": {},
     "output_type": "display_data"
    },
    {
     "data": {
      "text/html": [
       "\n",
       "    <div style=\"border: 1px solid #ccc; max-width: 600px; padding: 25px; margin-bottom: 25px;\">\n",
       "        <div style=\"max-width: 550px; margin: 0 auto;\">\n",
       "            <p><strong><a href=\"https://searchcaster.xyz/search?merkleRoot=0x1a21bfc5604f94de813bb74b27241eb9cfc977a1\" target=\"_blank\">merkleRoot</a></strong></p>\n",
       "            <p><strong>@dwr · fid 3</strong></p>\n",
       "            <div style=\"word-wrap: break-word; margin: 10px 0;\">Request for a Farcaster micro app: <br><br>- Index all FC ETH addresses<br>- Use center.dev or equivalent to pull down live feed of NFT user-initiated mints/buys (ignore receives because mostly spam)<br>- Infinite scroll<br>- Click on NFT opens on fav marketplace </div>\n",
       "    <div style=\"text-align: center;\"><img src=\"https://i.imgur.com/ljoBr2t.jpg\" style=\"max-width: 550px; margin-top: 10px;\"></div><p style=\"color: purple; margin: 10px 0 0;\">&#x1F49C; 19 <span style=\"margin-left: 5px; margin-top: 10px;\">&#x1F4AC; 2</span></p></div></div>"
      ],
      "text/plain": [
       "<IPython.core.display.HTML object>"
      ]
     },
     "metadata": {},
     "output_type": "display_data"
    },
    {
     "data": {
      "text/html": [
       "\n",
       "    <div style=\"border: 1px solid #ccc; max-width: 600px; padding: 25px; margin-bottom: 25px;\">\n",
       "        <div style=\"max-width: 550px; margin: 0 auto;\">\n",
       "            <p><strong><a href=\"https://searchcaster.xyz/search?merkleRoot=0xc6ba753227a8ab79b35b8fc70e530452ccea276b\" target=\"_blank\">merkleRoot</a></strong></p>\n",
       "            <p><strong>@pushix · fid 359</strong></p>\n",
       "            <div style=\"word-wrap: break-word; margin: 10px 0;\">I have mixed feelings about DALL-E (the product). I recently realized that it's because of their private, hosted model.<br><br>I am MUCH more excited about stable-diffusion: I was actually able to run, for free, on my macbook!<br><br>This kind of open-source, permissionless tech will win!</div>\n",
       "    <p style=\"color: purple; margin: 10px 0 0;\">&#x1F49C; 19 <span style=\"margin-left: 5px; margin-top: 10px;\">&#x1F4AC; 3</span></p></div></div>"
      ],
      "text/plain": [
       "<IPython.core.display.HTML object>"
      ]
     },
     "metadata": {},
     "output_type": "display_data"
    },
    {
     "data": {
      "text/html": [
       "\n",
       "    <div style=\"border: 1px solid #ccc; max-width: 600px; padding: 25px; margin-bottom: 25px;\">\n",
       "        <div style=\"max-width: 550px; margin: 0 auto;\">\n",
       "            <p><strong><a href=\"https://searchcaster.xyz/search?merkleRoot=0x5ed10b77fbe181fcda8efd4073f52701a60e95fb\" target=\"_blank\">merkleRoot</a></strong></p>\n",
       "            <p><strong>@df · fid 1214</strong></p>\n",
       "            <div style=\"word-wrap: break-word; margin: 10px 0;\">I made an app so you can see anyone's feed on FC. <a href=\"https://farcaster.vercel.app/?username=df\" target=\"_blank\">https://farcaster.vercel.app/?username=df</a><br><br>You can also visit people's profile, see their casts and expand threads </div>\n",
       "    <div style=\"text-align: center;\"><img src=\"https://i.imgur.com/7aHVT1T.png\" style=\"max-width: 550px; margin-top: 10px;\"></div><p style=\"color: purple; margin: 10px 0 0;\">&#x1F49C; 19 <span style=\"margin-left: 5px; margin-top: 10px;\">&#x1F4AC; 2</span></p></div></div>"
      ],
      "text/plain": [
       "<IPython.core.display.HTML object>"
      ]
     },
     "metadata": {},
     "output_type": "display_data"
    },
    {
     "data": {
      "text/html": [
       "\n",
       "    <div style=\"border: 1px solid #ccc; max-width: 600px; padding: 25px; margin-bottom: 25px;\">\n",
       "        <div style=\"max-width: 550px; margin: 0 auto;\">\n",
       "            <p><strong><a href=\"https://searchcaster.xyz/search?merkleRoot=0x050ce13e4d68f1a1a8ae469032e24b2ab9340fb9\" target=\"_blank\">merkleRoot</a></strong></p>\n",
       "            <p><strong>@briang · fid 548</strong></p>\n",
       "            <div style=\"word-wrap: break-word; margin: 10px 0;\">unlonely has had pretty terrible stream delay since launching. wasn’t until I became a user instead of host last night that I realized how terrible the experience is. so we’ve switched from castr to aws, going from 40s delay to about 5s.</div>\n",
       "    <p style=\"color: purple; margin: 10px 0 0;\">&#x1F49C; 19 <span style=\"margin-left: 5px; margin-top: 10px;\">&#x1F4AC; 3</span></p></div></div>"
      ],
      "text/plain": [
       "<IPython.core.display.HTML object>"
      ]
     },
     "metadata": {},
     "output_type": "display_data"
    },
    {
     "data": {
      "text/html": [
       "\n",
       "    <div style=\"border: 1px solid #ccc; max-width: 600px; padding: 25px; margin-bottom: 25px;\">\n",
       "        <div style=\"max-width: 550px; margin: 0 auto;\">\n",
       "            <p><strong><a href=\"https://searchcaster.xyz/search?merkleRoot=0xb3055221d819b4ce9f560cd51e7c58630fe90f36\" target=\"_blank\">merkleRoot</a></strong></p>\n",
       "            <p><strong>@shawki · fid 73</strong></p>\n",
       "            <div style=\"word-wrap: break-word; margin: 10px 0;\">i think the fact that you can do this in farcaster is going to be huge. </div>\n",
       "    <div style=\"text-align: center;\"><img src=\"https://i.imgur.com/IPXz56x.png\" style=\"max-width: 550px; margin-top: 10px;\"></div><p style=\"color: purple; margin: 10px 0 0;\">&#x1F49C; 18 <span style=\"margin-left: 5px; margin-top: 10px;\">&#x1F4AC; 4</span></p></div></div>"
      ],
      "text/plain": [
       "<IPython.core.display.HTML object>"
      ]
     },
     "metadata": {},
     "output_type": "display_data"
    },
    {
     "data": {
      "text/html": [
       "\n",
       "    <div style=\"border: 1px solid #ccc; max-width: 600px; padding: 25px; margin-bottom: 25px;\">\n",
       "        <div style=\"max-width: 550px; margin: 0 auto;\">\n",
       "            <p><strong><a href=\"https://searchcaster.xyz/search?merkleRoot=0x60460314e12f1eb3e28c3fa4de1f688a8d4e36d5\" target=\"_blank\">merkleRoot</a></strong></p>\n",
       "            <p><strong>@phil · fid 129</strong></p>\n",
       "            <div style=\"word-wrap: break-word; margin: 10px 0;\">Gm from Manhattan Beach </div>\n",
       "    <div style=\"text-align: center;\"><img src=\"https://i.imgur.com/fqOCzXb.jpg\" style=\"max-width: 550px; margin-top: 10px;\"></div><p style=\"color: purple; margin: 10px 0 0;\">&#x1F49C; 18 <span style=\"margin-left: 5px; margin-top: 10px;\">&#x1F4AC; 0</span></p></div></div>"
      ],
      "text/plain": [
       "<IPython.core.display.HTML object>"
      ]
     },
     "metadata": {},
     "output_type": "display_data"
    },
    {
     "data": {
      "text/html": [
       "\n",
       "    <div style=\"border: 1px solid #ccc; max-width: 600px; padding: 25px; margin-bottom: 25px;\">\n",
       "        <div style=\"max-width: 550px; margin: 0 auto;\">\n",
       "            <p><strong><a href=\"https://searchcaster.xyz/search?merkleRoot=0x11bbd3ab9a0f8caddc2340161484866bd4564244\" target=\"_blank\">merkleRoot</a></strong></p>\n",
       "            <p><strong>@pugson · fid 557</strong></p>\n",
       "            <div style=\"word-wrap: break-word; margin: 10px 0;\">tbh the biggest edge you can have over other web3 startups is your frontend design/dev team<br><br>#🐦crosspost#</div>\n",
       "    <p style=\"color: purple; margin: 10px 0 0;\">&#x1F49C; 18 <span style=\"margin-left: 5px; margin-top: 10px;\">&#x1F4AC; 2</span></p></div></div>"
      ],
      "text/plain": [
       "<IPython.core.display.HTML object>"
      ]
     },
     "metadata": {},
     "output_type": "display_data"
    },
    {
     "data": {
      "text/html": [
       "\n",
       "    <div style=\"border: 1px solid #ccc; max-width: 600px; padding: 25px; margin-bottom: 25px;\">\n",
       "        <div style=\"max-width: 550px; margin: 0 auto;\">\n",
       "            <p><strong><a href=\"https://searchcaster.xyz/search?merkleRoot=0x5b8ec3879085e242235085d82eb30bc55f332462\" target=\"_blank\">merkleRoot</a></strong></p>\n",
       "            <p><strong>@phil · fid 129</strong></p>\n",
       "            <div style=\"word-wrap: break-word; margin: 10px 0;\">I laughed </div>\n",
       "    <div style=\"text-align: center;\"><img src=\"https://i.imgur.com/flnVYxW.jpg\" style=\"max-width: 550px; margin-top: 10px;\"></div><p style=\"color: purple; margin: 10px 0 0;\">&#x1F49C; 18 <span style=\"margin-left: 5px; margin-top: 10px;\">&#x1F4AC; 2</span></p></div></div>"
      ],
      "text/plain": [
       "<IPython.core.display.HTML object>"
      ]
     },
     "metadata": {},
     "output_type": "display_data"
    },
    {
     "data": {
      "text/html": [
       "\n",
       "    <div style=\"border: 1px solid #ccc; max-width: 600px; padding: 25px; margin-bottom: 25px;\">\n",
       "        <div style=\"max-width: 550px; margin: 0 auto;\">\n",
       "            <p><strong><a href=\"https://searchcaster.xyz/search?merkleRoot=0x132948f0ffd357b7be03302216d83e64827236e8\" target=\"_blank\">merkleRoot</a></strong></p>\n",
       "            <p><strong>@greg · fid 347</strong></p>\n",
       "            <div style=\"word-wrap: break-word; margin: 10px 0;\">Spent part of today looking into token streaming protocols (Sablier, Drips, Superfluid). Super cool area</div>\n",
       "    <p style=\"color: purple; margin: 10px 0 0;\">&#x1F49C; 18 <span style=\"margin-left: 5px; margin-top: 10px;\">&#x1F4AC; 5</span></p></div></div>"
      ],
      "text/plain": [
       "<IPython.core.display.HTML object>"
      ]
     },
     "metadata": {},
     "output_type": "display_data"
    },
    {
     "data": {
      "text/html": [
       "\n",
       "    <div style=\"border: 1px solid #ccc; max-width: 600px; padding: 25px; margin-bottom: 25px;\">\n",
       "        <div style=\"max-width: 550px; margin: 0 auto;\">\n",
       "            <p><strong><a href=\"https://searchcaster.xyz/search?merkleRoot=0xb494fdbfaddea8bff83838fc81c9ee8257337c46\" target=\"_blank\">merkleRoot</a></strong></p>\n",
       "            <p><strong>@dwr · fid 3</strong></p>\n",
       "            <div style=\"word-wrap: break-word; margin: 10px 0;\">Very cool @milesjennings <br><br><a href=\"https://a16zcrypto.com/introducing-nft-licenses/\" target=\"_blank\">https://a16zcrypto.com/introducing-nft-licenses/</a></div>\n",
       "    <p style=\"color: purple; margin: 10px 0 0;\">&#x1F49C; 18 <span style=\"margin-left: 5px; margin-top: 10px;\">&#x1F4AC; 4</span></p></div></div>"
      ],
      "text/plain": [
       "<IPython.core.display.HTML object>"
      ]
     },
     "metadata": {},
     "output_type": "display_data"
    },
    {
     "data": {
      "text/html": [
       "\n",
       "    <div style=\"border: 1px solid #ccc; max-width: 600px; padding: 25px; margin-bottom: 25px;\">\n",
       "        <div style=\"max-width: 550px; margin: 0 auto;\">\n",
       "            <p><strong><a href=\"https://searchcaster.xyz/search?merkleRoot=0x1334f3b3a35d36a5fa9f6fe78cdbe0a30373ae27\" target=\"_blank\">merkleRoot</a></strong></p>\n",
       "            <p><strong>@dcposch · fid 56</strong></p>\n",
       "            <div style=\"word-wrap: break-word; margin: 10px 0;\">guess who got a plotter </div>\n",
       "    <div style=\"text-align: center;\"><img src=\"https://i.imgur.com/U54ZWiO.jpg\" style=\"max-width: 550px; margin-top: 10px;\"></div><p style=\"color: purple; margin: 10px 0 0;\">&#x1F49C; 18 <span style=\"margin-left: 5px; margin-top: 10px;\">&#x1F4AC; 2</span></p></div></div>"
      ],
      "text/plain": [
       "<IPython.core.display.HTML object>"
      ]
     },
     "metadata": {},
     "output_type": "display_data"
    },
    {
     "data": {
      "text/html": [
       "\n",
       "    <div style=\"border: 1px solid #ccc; max-width: 600px; padding: 25px; margin-bottom: 25px;\">\n",
       "        <div style=\"max-width: 550px; margin: 0 auto;\">\n",
       "            <p><strong><a href=\"https://searchcaster.xyz/search?merkleRoot=0xd709e8d2ef4082e17c8e5af8722beb2d06792ad7\" target=\"_blank\">merkleRoot</a></strong></p>\n",
       "            <p><strong>@alanadlevin · fid 1460</strong></p>\n",
       "            <div style=\"word-wrap: break-word; margin: 10px 0;\">Feel like Farcaster is a really high quality (and crypto-oriented) community so far, so going to try something out: I wrote a piece about designing governance tokens a few weeks ago and would love feedback! <a href=\"https://variant.fund/articles/designing-governance-tokens/\" target=\"_blank\">https://variant.fund/articles/designing-governance-tokens/</a></div>\n",
       "    <p style=\"color: purple; margin: 10px 0 0;\">&#x1F49C; 18 <span style=\"margin-left: 5px; margin-top: 10px;\">&#x1F4AC; 7</span></p></div></div>"
      ],
      "text/plain": [
       "<IPython.core.display.HTML object>"
      ]
     },
     "metadata": {},
     "output_type": "display_data"
    },
    {
     "data": {
      "text/html": [
       "\n",
       "    <div style=\"border: 1px solid #ccc; max-width: 600px; padding: 25px; margin-bottom: 25px;\">\n",
       "        <div style=\"max-width: 550px; margin: 0 auto;\">\n",
       "            <p><strong><a href=\"https://searchcaster.xyz/search?merkleRoot=0x34a725fdfa4dd25dc44640da41b8e65788e20c4c\" target=\"_blank\">merkleRoot</a></strong></p>\n",
       "            <p><strong>@meesh · fid 847</strong></p>\n",
       "            <div style=\"word-wrap: break-word; margin: 10px 0;\">Haven't coded in 6 years, wish me luck friends 😳</div>\n",
       "    <p style=\"color: purple; margin: 10px 0 0;\">&#x1F49C; 18 <span style=\"margin-left: 5px; margin-top: 10px;\">&#x1F4AC; 2</span></p></div></div>"
      ],
      "text/plain": [
       "<IPython.core.display.HTML object>"
      ]
     },
     "metadata": {},
     "output_type": "display_data"
    },
    {
     "data": {
      "text/html": [
       "\n",
       "    <div style=\"border: 1px solid #ccc; max-width: 600px; padding: 25px; margin-bottom: 25px;\">\n",
       "        <div style=\"max-width: 550px; margin: 0 auto;\">\n",
       "            <p><strong><a href=\"https://searchcaster.xyz/search?merkleRoot=0xd69284fc481f8dcddc7c4ea8bd54a21dbc9eb279\" target=\"_blank\">merkleRoot</a></strong></p>\n",
       "            <p><strong>@js · fid 368</strong></p>\n",
       "            <div style=\"word-wrap: break-word; margin: 10px 0;\">EF is seeking interesting data analysis and visualizations related to the Merge - $30K prizes for the best submissions!<br><br>Open until Oct 31, details  below<br><br><a href=\"https://esp.ethereum.foundation/merge-data-challenge\" target=\"_blank\">https://esp.ethereum.foundation/merge-data-challenge</a></div>\n",
       "    <p style=\"color: purple; margin: 10px 0 0;\">&#x1F49C; 18 <span style=\"margin-left: 5px; margin-top: 10px;\">&#x1F4AC; 1</span></p></div></div>"
      ],
      "text/plain": [
       "<IPython.core.display.HTML object>"
      ]
     },
     "metadata": {},
     "output_type": "display_data"
    },
    {
     "data": {
      "text/html": [
       "\n",
       "    <div style=\"border: 1px solid #ccc; max-width: 600px; padding: 25px; margin-bottom: 25px;\">\n",
       "        <div style=\"max-width: 550px; margin: 0 auto;\">\n",
       "            <p><strong><a href=\"https://searchcaster.xyz/search?merkleRoot=0x6bef6b3733b95f884bde3b9766abdd1f6b8267ab\" target=\"_blank\">merkleRoot</a></strong></p>\n",
       "            <p><strong>@kn · fid 258</strong></p>\n",
       "            <div style=\"word-wrap: break-word; margin: 10px 0;\">gm ☕️ </div>\n",
       "    <div style=\"text-align: center;\"><img src=\"https://i.imgur.com/S4BkOh5.jpg\" style=\"max-width: 550px; margin-top: 10px;\"></div><p style=\"color: purple; margin: 10px 0 0;\">&#x1F49C; 18 <span style=\"margin-left: 5px; margin-top: 10px;\">&#x1F4AC; 1</span></p></div></div>"
      ],
      "text/plain": [
       "<IPython.core.display.HTML object>"
      ]
     },
     "metadata": {},
     "output_type": "display_data"
    },
    {
     "data": {
      "text/html": [
       "\n",
       "    <div style=\"border: 1px solid #ccc; max-width: 600px; padding: 25px; margin-bottom: 25px;\">\n",
       "        <div style=\"max-width: 550px; margin: 0 auto;\">\n",
       "            <p><strong><a href=\"https://searchcaster.xyz/search?merkleRoot=0xbb6a30e72f43cd7f33257d4b397ac63a6546298c\" target=\"_blank\">merkleRoot</a></strong></p>\n",
       "            <p><strong>@karthiksenthil · fid 681</strong></p>\n",
       "            <div style=\"word-wrap: break-word; margin: 10px 0;\">Bringing customer obsession to crypto </div>\n",
       "    <div style=\"text-align: center;\"><img src=\"https://i.imgur.com/GPFrnl6.jpg\" style=\"max-width: 550px; margin-top: 10px;\"></div><p style=\"color: purple; margin: 10px 0 0;\">&#x1F49C; 18 <span style=\"margin-left: 5px; margin-top: 10px;\">&#x1F4AC; 5</span></p></div></div>"
      ],
      "text/plain": [
       "<IPython.core.display.HTML object>"
      ]
     },
     "metadata": {},
     "output_type": "display_data"
    },
    {
     "data": {
      "text/html": [
       "\n",
       "    <div style=\"border: 1px solid #ccc; max-width: 600px; padding: 25px; margin-bottom: 25px;\">\n",
       "        <div style=\"max-width: 550px; margin: 0 auto;\">\n",
       "            <p><strong><a href=\"https://searchcaster.xyz/search?merkleRoot=0x3b50e6f65230398b47d6423670b4b9a04b064bed\" target=\"_blank\">merkleRoot</a></strong></p>\n",
       "            <p><strong>@sriramk · fid 43</strong></p>\n",
       "            <div style=\"word-wrap: break-word; margin: 10px 0;\">Movie recommendations for Friday evening?<br><br>Also: Top Gun:Maverick finally available today for home viewing.</div>\n",
       "    <p style=\"color: purple; margin: 10px 0 0;\">&#x1F49C; 18 <span style=\"margin-left: 5px; margin-top: 10px;\">&#x1F4AC; 19</span></p></div></div>"
      ],
      "text/plain": [
       "<IPython.core.display.HTML object>"
      ]
     },
     "metadata": {},
     "output_type": "display_data"
    },
    {
     "data": {
      "text/html": [
       "\n",
       "    <div style=\"border: 1px solid #ccc; max-width: 600px; padding: 25px; margin-bottom: 25px;\">\n",
       "        <div style=\"max-width: 550px; margin: 0 auto;\">\n",
       "            <p><strong><a href=\"https://searchcaster.xyz/search?merkleRoot=0x25ed5480834d3178e5454da53103d598b95d576a\" target=\"_blank\">merkleRoot</a></strong></p>\n",
       "            <p><strong>@salvino · fid 734</strong></p>\n",
       "            <div style=\"word-wrap: break-word; margin: 10px 0;\">what is your anti-aging/longevity regimen?</div>\n",
       "    <p style=\"color: purple; margin: 10px 0 0;\">&#x1F49C; 18 <span style=\"margin-left: 5px; margin-top: 10px;\">&#x1F4AC; 33</span></p></div></div>"
      ],
      "text/plain": [
       "<IPython.core.display.HTML object>"
      ]
     },
     "metadata": {},
     "output_type": "display_data"
    },
    {
     "data": {
      "text/html": [
       "\n",
       "    <div style=\"border: 1px solid #ccc; max-width: 600px; padding: 25px; margin-bottom: 25px;\">\n",
       "        <div style=\"max-width: 550px; margin: 0 auto;\">\n",
       "            <p><strong><a href=\"https://searchcaster.xyz/search?merkleRoot=0x3ba285519c73cdf6ec265ee5f95aa74210781929\" target=\"_blank\">merkleRoot</a></strong></p>\n",
       "            <p><strong>@meesh · fid 847</strong></p>\n",
       "            <div style=\"word-wrap: break-word; margin: 10px 0;\">Screenshot figma, v0.01 </div>\n",
       "    <div style=\"text-align: center;\"><img src=\"https://i.imgur.com/JjKzQ4w.jpg\" style=\"max-width: 550px; margin-top: 10px;\"></div><p style=\"color: purple; margin: 10px 0 0;\">&#x1F49C; 18 <span style=\"margin-left: 5px; margin-top: 10px;\">&#x1F4AC; 2</span></p></div></div>"
      ],
      "text/plain": [
       "<IPython.core.display.HTML object>"
      ]
     },
     "metadata": {},
     "output_type": "display_data"
    },
    {
     "data": {
      "text/html": [
       "\n",
       "    <div style=\"border: 1px solid #ccc; max-width: 600px; padding: 25px; margin-bottom: 25px;\">\n",
       "        <div style=\"max-width: 550px; margin: 0 auto;\">\n",
       "            <p><strong><a href=\"https://searchcaster.xyz/search?merkleRoot=0x1f07ac5c502647914be0cd72b25bf10b644d64a4\" target=\"_blank\">merkleRoot</a></strong></p>\n",
       "            <p><strong>@les · fid 312</strong></p>\n",
       "            <div style=\"word-wrap: break-word; margin: 10px 0;\">Plain-text personal sites X Farcaster <br><br>Feels like 🔥</div>\n",
       "    <p style=\"color: purple; margin: 10px 0 0;\">&#x1F49C; 17 <span style=\"margin-left: 5px; margin-top: 10px;\">&#x1F4AC; 2</span></p></div></div>"
      ],
      "text/plain": [
       "<IPython.core.display.HTML object>"
      ]
     },
     "metadata": {},
     "output_type": "display_data"
    },
    {
     "data": {
      "text/html": [
       "\n",
       "    <div style=\"border: 1px solid #ccc; max-width: 600px; padding: 25px; margin-bottom: 25px;\">\n",
       "        <div style=\"max-width: 550px; margin: 0 auto;\">\n",
       "            <p><strong><a href=\"https://searchcaster.xyz/search?merkleRoot=0x403400ade5cf9954f7ea08ae544ce8be3c028c2f\" target=\"_blank\">merkleRoot</a></strong></p>\n",
       "            <p><strong>@jackson · fid 106</strong></p>\n",
       "            <div style=\"word-wrap: break-word; margin: 10px 0;\">Cross posting it for him: think this point from @neuroswish is incredibly important to keep in mind w/ crypto </div>\n",
       "    <div style=\"text-align: center;\"><img src=\"https://i.imgur.com/TAbCVEa.png\" style=\"max-width: 550px; margin-top: 10px;\"></div><p style=\"color: purple; margin: 10px 0 0;\">&#x1F49C; 17 <span style=\"margin-left: 5px; margin-top: 10px;\">&#x1F4AC; 0</span></p></div></div>"
      ],
      "text/plain": [
       "<IPython.core.display.HTML object>"
      ]
     },
     "metadata": {},
     "output_type": "display_data"
    },
    {
     "data": {
      "text/html": [
       "\n",
       "    <div style=\"border: 1px solid #ccc; max-width: 600px; padding: 25px; margin-bottom: 25px;\">\n",
       "        <div style=\"max-width: 550px; margin: 0 auto;\">\n",
       "            <p><strong><a href=\"https://searchcaster.xyz/search?merkleRoot=0x84a7cdd804c5a8e500a61990085c626495f88436\" target=\"_blank\">merkleRoot</a></strong></p>\n",
       "            <p><strong>@n · fid 274</strong></p>\n",
       "            <div style=\"word-wrap: break-word; margin: 10px 0;\">It amazes me how many web3 websites auto opens Metamask.<br><br>As a user it feels intrusive, similar to a flash sale countdown popup in web2</div>\n",
       "    <p style=\"color: purple; margin: 10px 0 0;\">&#x1F49C; 17 <span style=\"margin-left: 5px; margin-top: 10px;\">&#x1F4AC; 5</span></p></div></div>"
      ],
      "text/plain": [
       "<IPython.core.display.HTML object>"
      ]
     },
     "metadata": {},
     "output_type": "display_data"
    },
    {
     "data": {
      "text/html": [
       "\n",
       "    <div style=\"border: 1px solid #ccc; max-width: 600px; padding: 25px; margin-bottom: 25px;\">\n",
       "        <div style=\"max-width: 550px; margin: 0 auto;\">\n",
       "            <p><strong><a href=\"https://searchcaster.xyz/search?merkleRoot=0x6d3287ed0276b8ea07179d5444ff2d2993ccc8ba\" target=\"_blank\">merkleRoot</a></strong></p>\n",
       "            <p><strong>@dwr · fid 3</strong></p>\n",
       "            <div style=\"word-wrap: break-word; margin: 10px 0;\">Congrats to @shugo on the launch!<br><br><a href=\"https://philand.xyz/\" target=\"_blank\">https://philand.xyz/</a></div>\n",
       "    <p style=\"color: purple; margin: 10px 0 0;\">&#x1F49C; 17 <span style=\"margin-left: 5px; margin-top: 10px;\">&#x1F4AC; 1</span></p></div></div>"
      ],
      "text/plain": [
       "<IPython.core.display.HTML object>"
      ]
     },
     "metadata": {},
     "output_type": "display_data"
    }
   ],
   "source": [
    "# TWLY: This Week Last Year - August 27 - September 02, 2022\n",
    "# Compiled using Farcaster-Indexer & Searchcaster \n",
    "\n",
    "https://github.com/gskril/farcaster-indexer\n",
    "https://searchcaster.xyz"
   ]
  },
  {
   "cell_type": "code",
   "execution_count": null,
   "id": "a8f14fee",
   "metadata": {},
   "outputs": [],
   "source": []
  }
 ],
 "metadata": {
  "kernelspec": {
   "display_name": "Python 3 (ipykernel)",
   "language": "python",
   "name": "python3"
  },
  "language_info": {
   "codemirror_mode": {
    "name": "ipython",
    "version": 3
   },
   "file_extension": ".py",
   "mimetype": "text/x-python",
   "name": "python",
   "nbconvert_exporter": "python",
   "pygments_lexer": "ipython3",
   "version": "3.9.13"
  }
 },
 "nbformat": 4,
 "nbformat_minor": 5
}
