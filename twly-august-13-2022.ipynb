{
 "cells": [
  {
   "cell_type": "markdown",
   "id": "784b1f6d",
   "metadata": {},
   "source": [
    "## OUTCASTERS SNAPSHOT 006"
   ]
  },
  {
   "cell_type": "markdown",
   "id": "398ad3ad",
   "metadata": {},
   "source": [
    "https://outcasters.xyz "
   ]
  },
  {
   "cell_type": "code",
   "execution_count": 1,
   "id": "68b2510f",
   "metadata": {
    "scrolled": false
   },
   "outputs": [
    {
     "data": {
      "text/html": [
       "\n",
       "    <div style=\"max-width: 600px; margin-bottom: 25px;\">\n",
       "        <h2 style=\"margin-bottom: 15px;\">Total Casts</h2>\n",
       "        <p style=\"font-size: 18x; margin: 5px 0 5px;\">Including Replies: 5264</p>\n",
       "        <p style=\"font-size: 18x; margin: 5px 0;\">Excluding Replies: 1437</p>\n",
       "    </div>\n"
      ],
      "text/plain": [
       "<IPython.core.display.HTML object>"
      ]
     },
     "metadata": {},
     "output_type": "display_data"
    },
    {
     "data": {
      "text/html": [
       "<h2>Top 30 Most Active Users (Excluding Replies)</h2>"
      ],
      "text/plain": [
       "<IPython.core.display.HTML object>"
      ]
     },
     "metadata": {},
     "output_type": "display_data"
    },
    {
     "data": {
      "text/html": [
       "<p>Only original casts are considered for this calculation. Replies are excluded.</p>"
      ],
      "text/plain": [
       "<IPython.core.display.HTML object>"
      ]
     },
     "metadata": {},
     "output_type": "display_data"
    },
    {
     "data": {
      "text/html": [
       "<ol><li>abc - 78 casts</li><li>ace - 61 casts</li><li>alexanderchopan - 45 casts</li><li>dwr - 35 casts</li><li>matthew - 31 casts</li><li>phil - 27 casts</li><li>0xen - 22 casts</li><li>kamil - 20 casts</li><li>les - 20 casts</li><li>pdr - 20 casts</li><li>briang - 19 casts</li><li>benersing - 18 casts</li><li>brianjckim - 17 casts</li><li>ivy - 16 casts</li><li>july - 15 casts</li><li>j4ck - 15 casts</li><li>kn - 15 casts</li><li>cameron - 15 casts</li><li>vm - 15 casts</li><li>jayme - 14 casts</li><li>hyper - 14 casts</li><li>kostas - 14 casts</li><li>neuroswish - 13 casts</li><li>ntkris - 13 casts</li><li>pushix - 13 casts</li><li>mk - 13 casts</li><li>minh - 12 casts</li><li>aizimuthal - 12 casts</li><li>jayjay - 12 casts</li><li>akhil-bvs - 12 casts</li></ol>"
      ],
      "text/plain": [
       "<IPython.core.display.HTML object>"
      ]
     },
     "metadata": {},
     "output_type": "display_data"
    },
    {
     "data": {
      "text/html": [
       "<h2>Top 30 Most Active Users (Including Replies)</h2>"
      ],
      "text/plain": [
       "<IPython.core.display.HTML object>"
      ]
     },
     "metadata": {},
     "output_type": "display_data"
    },
    {
     "data": {
      "text/html": [
       "<p>All casts, including replies, are considered for this calculation.</p>"
      ],
      "text/plain": [
       "<IPython.core.display.HTML object>"
      ]
     },
     "metadata": {},
     "output_type": "display_data"
    },
    {
     "data": {
      "text/html": [
       "<ol><li>dwr - 230 casts</li><li>perl - 221 casts</li><li>ace - 215 casts</li><li>phil - 111 casts</li><li>kamil - 107 casts</li><li>alexanderchopan - 107 casts</li><li>cameron - 106 casts</li><li>les - 87 casts</li><li>matthew - 84 casts</li><li>abc - 78 casts</li><li>j4ck - 77 casts</li><li>0xen - 77 casts</li><li>july - 76 casts</li><li>briang - 73 casts</li><li>jayme - 73 casts</li><li>pdr - 67 casts</li><li>kostas - 66 casts</li><li>minh - 64 casts</li><li>matallo - 63 casts</li><li>benersing - 61 casts</li><li>vm - 61 casts</li><li>jayjay - 59 casts</li><li>greg - 57 casts</li><li>alexpaden - 53 casts</li><li>aizimuthal - 52 casts</li><li>v - 51 casts</li><li>madhur - 50 casts</li><li>peter - 48 casts</li><li>pushix - 43 casts</li><li>kn - 41 casts</li></ol>"
      ],
      "text/plain": [
       "<IPython.core.display.HTML object>"
      ]
     },
     "metadata": {},
     "output_type": "display_data"
    },
    {
     "data": {
      "text/html": [
       "<h2>Top 100 casts ranked by total likes</h2>"
      ],
      "text/plain": [
       "<IPython.core.display.HTML object>"
      ]
     },
     "metadata": {},
     "output_type": "display_data"
    },
    {
     "data": {
      "text/html": [
       "\n",
       "    <div style=\"border: 1px solid #ccc; max-width: 600px; padding: 25px; margin-bottom: 25px;\">\n",
       "        <div style=\"max-width: 550px; margin: 0 auto;\">\n",
       "            <p><strong><a href=\"https://searchcaster.xyz/search?merkleRoot=0xc16b172c7d0920428948e7dc8808527d65973997\" target=\"_blank\">merkleRoot</a></strong></p>\n",
       "            <p><strong>@dwr · fid 3</strong></p>\n",
       "            <div style=\"word-wrap: break-word; margin: 10px 0;\">New feature on mobile and desktop: DM on Telegram 📨<br><br>Until we have native end-to-end encrypted DMs on Farcaster, we wanted to make it easier for people to DM.<br><br>You can add your Telegram username in Settings > Profile<br><br> </div>\n",
       "    <div style=\"text-align: center;\"><img src=\"https://i.imgur.com/vKvafmF.png\" style=\"max-width: 550px; margin-top: 10px;\"></div><p style=\"color: purple; margin: 10px 0 0;\">&#x1F49C; 61 <span style=\"margin-left: 5px; margin-top: 10px;\">&#x1F4AC; 7</span></p></div></div>"
      ],
      "text/plain": [
       "<IPython.core.display.HTML object>"
      ]
     },
     "metadata": {},
     "output_type": "display_data"
    },
    {
     "data": {
      "text/html": [
       "\n",
       "    <div style=\"border: 1px solid #ccc; max-width: 600px; padding: 25px; margin-bottom: 25px;\">\n",
       "        <div style=\"max-width: 550px; margin: 0 auto;\">\n",
       "            <p><strong><a href=\"https://searchcaster.xyz/search?merkleRoot=0x4c40c8439dcba583185e35e515e1799f78c08dc3\" target=\"_blank\">merkleRoot</a></strong></p>\n",
       "            <p><strong>@noah · fid 4</strong></p>\n",
       "            <div style=\"word-wrap: break-word; margin: 10px 0;\">if you’re building on Farcaster and are looking for spitballing pls do get in touch ￼<br><br>Really excited by what we can all build here together</div>\n",
       "    <p style=\"color: purple; margin: 10px 0 0;\">&#x1F49C; 55 <span style=\"margin-left: 5px; margin-top: 10px;\">&#x1F4AC; 8</span></p></div></div>"
      ],
      "text/plain": [
       "<IPython.core.display.HTML object>"
      ]
     },
     "metadata": {},
     "output_type": "display_data"
    },
    {
     "data": {
      "text/html": [
       "\n",
       "    <div style=\"border: 1px solid #ccc; max-width: 600px; padding: 25px; margin-bottom: 25px;\">\n",
       "        <div style=\"max-width: 550px; margin: 0 auto;\">\n",
       "            <p><strong><a href=\"https://searchcaster.xyz/search?merkleRoot=0x3c224a7af92773c1cdac17f6ddc9b1ac7ccfd7e1\" target=\"_blank\">merkleRoot</a></strong></p>\n",
       "            <p><strong>@nick · fid 108</strong></p>\n",
       "            <div style=\"word-wrap: break-word; margin: 10px 0;\">Dailycaster </div>\n",
       "    <div style=\"text-align: center;\"><img src=\"https://i.imgur.com/wt165Cn.jpg\" style=\"max-width: 550px; margin-top: 10px;\"></div><p style=\"color: purple; margin: 10px 0 0;\">&#x1F49C; 54 <span style=\"margin-left: 5px; margin-top: 10px;\">&#x1F4AC; 8</span></p></div></div>"
      ],
      "text/plain": [
       "<IPython.core.display.HTML object>"
      ]
     },
     "metadata": {},
     "output_type": "display_data"
    },
    {
     "data": {
      "text/html": [
       "\n",
       "    <div style=\"border: 1px solid #ccc; max-width: 600px; padding: 25px; margin-bottom: 25px;\">\n",
       "        <div style=\"max-width: 550px; margin: 0 auto;\">\n",
       "            <p><strong><a href=\"https://searchcaster.xyz/search?merkleRoot=0x07fabb97bb8a079b5d8413e9045a02c7dc0e1626\" target=\"_blank\">merkleRoot</a></strong></p>\n",
       "            <p><strong>@dwr · fid 3</strong></p>\n",
       "            <div style=\"word-wrap: break-word; margin: 10px 0;\">How I meditate 🎣 </div>\n",
       "    <div style=\"text-align: center;\"><img src=\"https://i.imgur.com/wQQvyT7.jpg\" style=\"max-width: 550px; margin-top: 10px;\"></div><p style=\"color: purple; margin: 10px 0 0;\">&#x1F49C; 53 <span style=\"margin-left: 5px; margin-top: 10px;\">&#x1F4AC; 2</span></p></div></div>"
      ],
      "text/plain": [
       "<IPython.core.display.HTML object>"
      ]
     },
     "metadata": {},
     "output_type": "display_data"
    },
    {
     "data": {
      "text/html": [
       "\n",
       "    <div style=\"border: 1px solid #ccc; max-width: 600px; padding: 25px; margin-bottom: 25px;\">\n",
       "        <div style=\"max-width: 550px; margin: 0 auto;\">\n",
       "            <p><strong><a href=\"https://searchcaster.xyz/search?merkleRoot=0x82920eeca83b82ed906a2e2452d24098dc6c8dbd\" target=\"_blank\">merkleRoot</a></strong></p>\n",
       "            <p><strong>@yitong · fid 101</strong></p>\n",
       "            <div style=\"word-wrap: break-word; margin: 10px 0;\">Underrated things to do as a design founder:<br>1. Share mocks publicly<br>2. Go the extra mile when doing so<br>3. Be extremely prolific<br>4. Cultivate a brand<br><br>Overrated: <br>1. take forever to launch the perfect v1<br>2. call yourself a design founder</div>\n",
       "    <p style=\"color: purple; margin: 10px 0 0;\">&#x1F49C; 47 <span style=\"margin-left: 5px; margin-top: 10px;\">&#x1F4AC; 9</span></p></div></div>"
      ],
      "text/plain": [
       "<IPython.core.display.HTML object>"
      ]
     },
     "metadata": {},
     "output_type": "display_data"
    },
    {
     "data": {
      "text/html": [
       "\n",
       "    <div style=\"border: 1px solid #ccc; max-width: 600px; padding: 25px; margin-bottom: 25px;\">\n",
       "        <div style=\"max-width: 550px; margin: 0 auto;\">\n",
       "            <p><strong><a href=\"https://searchcaster.xyz/search?merkleRoot=0xea943b2b63060e8f2055cbdc8a531eb203ccb7e9\" target=\"_blank\">merkleRoot</a></strong></p>\n",
       "            <p><strong>@kamil · fid 1191</strong></p>\n",
       "            <div style=\"word-wrap: break-word; margin: 10px 0;\">I am a big fan of ‘OG’ NFTs and since FC doesn’t have those, I thought we could create a POAP to remember who was already casting at this time 👶<br><br>Want the POAP?<br><br>👇<br>1. Recast <br>2. Leave your Twitter/Telegram handle for me to DM you the POAP link </div>\n",
       "    <div style=\"text-align: center;\"><img src=\"https://i.imgur.com/PQMCj0p.jpg\" style=\"max-width: 550px; margin-top: 10px;\"></div><p style=\"color: purple; margin: 10px 0 0;\">&#x1F49C; 47 <span style=\"margin-left: 5px; margin-top: 10px;\">&#x1F4AC; 84</span></p></div></div>"
      ],
      "text/plain": [
       "<IPython.core.display.HTML object>"
      ]
     },
     "metadata": {},
     "output_type": "display_data"
    },
    {
     "data": {
      "text/html": [
       "\n",
       "    <div style=\"border: 1px solid #ccc; max-width: 600px; padding: 25px; margin-bottom: 25px;\">\n",
       "        <div style=\"max-width: 550px; margin: 0 auto;\">\n",
       "            <p><strong><a href=\"https://searchcaster.xyz/search?merkleRoot=0x56980e0f9863b18f2e34c3fd4e4840d7d5adb98a\" target=\"_blank\">merkleRoot</a></strong></p>\n",
       "            <p><strong>@peter · fid 577</strong></p>\n",
       "            <div style=\"word-wrap: break-word; margin: 10px 0;\">gn, touched grass </div>\n",
       "    <div style=\"text-align: center;\"><img src=\"https://i.imgur.com/KosxbgF.jpg\" style=\"max-width: 550px; margin-top: 10px;\"></div><p style=\"color: purple; margin: 10px 0 0;\">&#x1F49C; 42 <span style=\"margin-left: 5px; margin-top: 10px;\">&#x1F4AC; 3</span></p></div></div>"
      ],
      "text/plain": [
       "<IPython.core.display.HTML object>"
      ]
     },
     "metadata": {},
     "output_type": "display_data"
    },
    {
     "data": {
      "text/html": [
       "\n",
       "    <div style=\"border: 1px solid #ccc; max-width: 600px; padding: 25px; margin-bottom: 25px;\">\n",
       "        <div style=\"max-width: 550px; margin: 0 auto;\">\n",
       "            <p><strong><a href=\"https://searchcaster.xyz/search?merkleRoot=0x09ec941a941676e1ffc464bb674bbc2eced178e0\" target=\"_blank\">merkleRoot</a></strong></p>\n",
       "            <p><strong>@serjkorj · fid 893</strong></p>\n",
       "            <div style=\"word-wrap: break-word; margin: 10px 0;\"></div>\n",
       "    <div style=\"text-align: center;\"><img src=\"https://i.imgur.com/7otWW3X.png\" style=\"max-width: 550px; margin-top: 10px;\"></div><p style=\"color: purple; margin: 10px 0 0;\">&#x1F49C; 42 <span style=\"margin-left: 5px; margin-top: 10px;\">&#x1F4AC; 6</span></p></div></div>"
      ],
      "text/plain": [
       "<IPython.core.display.HTML object>"
      ]
     },
     "metadata": {},
     "output_type": "display_data"
    },
    {
     "data": {
      "text/html": [
       "\n",
       "    <div style=\"border: 1px solid #ccc; max-width: 600px; padding: 25px; margin-bottom: 25px;\">\n",
       "        <div style=\"max-width: 550px; margin: 0 auto;\">\n",
       "            <p><strong><a href=\"https://searchcaster.xyz/search?merkleRoot=0x3c30650b641d5b40a2a941d5a65d20b5546dcf53\" target=\"_blank\">merkleRoot</a></strong></p>\n",
       "            <p><strong>@dwr · fid 3</strong></p>\n",
       "            <div style=\"word-wrap: break-word; margin: 10px 0;\">Bravo @barmstrong! <br><br><a href=\"https://twitter.com/brian_armstrong/status/1560016827253551104\" target=\"_blank\">https://twitter.com/brian_armstrong/status/1560016827253551104</a></div>\n",
       "    <p style=\"color: purple; margin: 10px 0 0;\">&#x1F49C; 38 <span style=\"margin-left: 5px; margin-top: 10px;\">&#x1F4AC; 2</span></p></div></div>"
      ],
      "text/plain": [
       "<IPython.core.display.HTML object>"
      ]
     },
     "metadata": {},
     "output_type": "display_data"
    },
    {
     "data": {
      "text/html": [
       "\n",
       "    <div style=\"border: 1px solid #ccc; max-width: 600px; padding: 25px; margin-bottom: 25px;\">\n",
       "        <div style=\"max-width: 550px; margin: 0 auto;\">\n",
       "            <p><strong><a href=\"https://searchcaster.xyz/search?merkleRoot=0x0f2ffb9e22e1b512a1bbd8d415861eb96d32bdad\" target=\"_blank\">merkleRoot</a></strong></p>\n",
       "            <p><strong>@dwr · fid 3</strong></p>\n",
       "            <div style=\"word-wrap: break-word; margin: 10px 0;\">Neat visualization<br><br><a href=\"https://gasguzzlers.wtf/\" target=\"_blank\">https://gasguzzlers.wtf/</a> </div>\n",
       "    <div style=\"text-align: center;\"><img src=\"https://i.imgur.com/uQPrtRK.jpg\" style=\"max-width: 550px; margin-top: 10px;\"></div><p style=\"color: purple; margin: 10px 0 0;\">&#x1F49C; 38 <span style=\"margin-left: 5px; margin-top: 10px;\">&#x1F4AC; 9</span></p></div></div>"
      ],
      "text/plain": [
       "<IPython.core.display.HTML object>"
      ]
     },
     "metadata": {},
     "output_type": "display_data"
    },
    {
     "data": {
      "text/html": [
       "\n",
       "    <div style=\"border: 1px solid #ccc; max-width: 600px; padding: 25px; margin-bottom: 25px;\">\n",
       "        <div style=\"max-width: 550px; margin: 0 auto;\">\n",
       "            <p><strong><a href=\"https://searchcaster.xyz/search?merkleRoot=0x3df3bbb3ea06e7ee92c9aa0a395dc618e782cc0a\" target=\"_blank\">merkleRoot</a></strong></p>\n",
       "            <p><strong>@ace · fid 539</strong></p>\n",
       "            <div style=\"word-wrap: break-word; margin: 10px 0;\">gn<br><br>the first fc meetup I’ve been to. here are the casters I’ve met irl<br><br>@ishika @matthew @todd @alok @v @ted @cutewhitepup @minh @brian_ @dylsteck (mia) @ted @peterkim (mia), @dwr (mia) </div>\n",
       "    <div style=\"text-align: center;\"><img src=\"https://i.imgur.com/KTg4WB1.jpg\" style=\"max-width: 550px; margin-top: 10px;\"></div><p style=\"color: purple; margin: 10px 0 0;\">&#x1F49C; 37 <span style=\"margin-left: 5px; margin-top: 10px;\">&#x1F4AC; 5</span></p></div></div>"
      ],
      "text/plain": [
       "<IPython.core.display.HTML object>"
      ]
     },
     "metadata": {},
     "output_type": "display_data"
    },
    {
     "data": {
      "text/html": [
       "\n",
       "    <div style=\"border: 1px solid #ccc; max-width: 600px; padding: 25px; margin-bottom: 25px;\">\n",
       "        <div style=\"max-width: 550px; margin: 0 auto;\">\n",
       "            <p><strong><a href=\"https://searchcaster.xyz/search?merkleRoot=0xbdf32bbdaf74dbca3ea9f62b08f67a38bf1ed258\" target=\"_blank\">merkleRoot</a></strong></p>\n",
       "            <p><strong>@v · fid 2</strong></p>\n",
       "            <div style=\"word-wrap: break-word; margin: 10px 0;\">farcaster ecosystem is growing amazingly fast! <br><br>so inspiring to see all the new apps 🛳️ <br><br><a href=\"https://farcasterxyz.notion.site/Farcaster-ecosystem-af207db2885349d383dee69eccd77b37\" target=\"_blank\">https://farcasterxyz.notion.site/Farcaster-ecosystem-af207db2885349d383dee69eccd77b37</a></div>\n",
       "    <p style=\"color: purple; margin: 10px 0 0;\">&#x1F49C; 37 <span style=\"margin-left: 5px; margin-top: 10px;\">&#x1F4AC; 7</span></p></div></div>"
      ],
      "text/plain": [
       "<IPython.core.display.HTML object>"
      ]
     },
     "metadata": {},
     "output_type": "display_data"
    },
    {
     "data": {
      "text/html": [
       "\n",
       "    <div style=\"border: 1px solid #ccc; max-width: 600px; padding: 25px; margin-bottom: 25px;\">\n",
       "        <div style=\"max-width: 550px; margin: 0 auto;\">\n",
       "            <p><strong><a href=\"https://searchcaster.xyz/search?merkleRoot=0x3b35e2f532731977241042b5d264794604d0ee10\" target=\"_blank\">merkleRoot</a></strong></p>\n",
       "            <p><strong>@stammy · fid 130</strong></p>\n",
       "            <div style=\"word-wrap: break-word; margin: 10px 0;\">so i recently left kraken where i was principal designer. <br><br>taking some time to relax and then explore what's next (not sure if i want to join something full-time or be an embedded contractor w/ early stage startups)  <a href=\"https://twitter.com/Stammy/status/1559218814780317696\" target=\"_blank\">https://twitter.com/Stammy/status/1559218814780317696</a></div>\n",
       "    <p style=\"color: purple; margin: 10px 0 0;\">&#x1F49C; 35 <span style=\"margin-left: 5px; margin-top: 10px;\">&#x1F4AC; 3</span></p></div></div>"
      ],
      "text/plain": [
       "<IPython.core.display.HTML object>"
      ]
     },
     "metadata": {},
     "output_type": "display_data"
    },
    {
     "data": {
      "text/html": [
       "\n",
       "    <div style=\"border: 1px solid #ccc; max-width: 600px; padding: 25px; margin-bottom: 25px;\">\n",
       "        <div style=\"max-width: 550px; margin: 0 auto;\">\n",
       "            <p><strong><a href=\"https://searchcaster.xyz/search?merkleRoot=0xe4de612d0bbfc02c019e2a7320ac821a0800e31b\" target=\"_blank\">merkleRoot</a></strong></p>\n",
       "            <p><strong>@dwr · fid 3</strong></p>\n",
       "            <div style=\"word-wrap: break-word; margin: 10px 0;\">Nice guest Farcaster shout out from @alok in the latest crypto briefing for The Generalist.<br><br>Welcome to a bunch of new Farcasters that DM'd me because of it!<br><br><a href=\"https://www.readthegeneralist.com/briefing/what-to-watch-in-crypto-3#farcaster\" target=\"_blank\">https://www.readthegeneralist.com/briefing/what-to-watch-in-crypto-3#farcaster</a><br> </div>\n",
       "    <div style=\"text-align: center;\"><img src=\"https://i.imgur.com/bzvNDKn.jpg\" style=\"max-width: 550px; margin-top: 10px;\"></div><p style=\"color: purple; margin: 10px 0 0;\">&#x1F49C; 35 <span style=\"margin-left: 5px; margin-top: 10px;\">&#x1F4AC; 2</span></p></div></div>"
      ],
      "text/plain": [
       "<IPython.core.display.HTML object>"
      ]
     },
     "metadata": {},
     "output_type": "display_data"
    },
    {
     "data": {
      "text/html": [
       "\n",
       "    <div style=\"border: 1px solid #ccc; max-width: 600px; padding: 25px; margin-bottom: 25px;\">\n",
       "        <div style=\"max-width: 550px; margin: 0 auto;\">\n",
       "            <p><strong><a href=\"https://searchcaster.xyz/search?merkleRoot=0x9fb3b3726ed1b5c3b6ec332704a5bafa4efbf844\" target=\"_blank\">merkleRoot</a></strong></p>\n",
       "            <p><strong>@jc · fid 251</strong></p>\n",
       "            <div style=\"word-wrap: break-word; margin: 10px 0;\">gm buildcasters, we’re looking to do a pre-seed so we can go full-time on @beb, would be great to get your feedback on our deck and some intros 👀<br><br><a href=\"https://pitch.com/v/farcaster-uq5exe\" target=\"_blank\">https://pitch.com/v/farcaster-uq5exe</a> + gm@beb.xyz </div>\n",
       "    <div style=\"text-align: center;\"><img src=\"https://i.imgur.com/uCVs0SB.png\" style=\"max-width: 550px; margin-top: 10px;\"></div><p style=\"color: purple; margin: 10px 0 0;\">&#x1F49C; 35 <span style=\"margin-left: 5px; margin-top: 10px;\">&#x1F4AC; 9</span></p></div></div>"
      ],
      "text/plain": [
       "<IPython.core.display.HTML object>"
      ]
     },
     "metadata": {},
     "output_type": "display_data"
    },
    {
     "data": {
      "text/html": [
       "\n",
       "    <div style=\"border: 1px solid #ccc; max-width: 600px; padding: 25px; margin-bottom: 25px;\">\n",
       "        <div style=\"max-width: 550px; margin: 0 auto;\">\n",
       "            <p><strong><a href=\"https://searchcaster.xyz/search?merkleRoot=0x0b8ead3401ebde763b48955129b2a55ffd7a67d2\" target=\"_blank\">merkleRoot</a></strong></p>\n",
       "            <p><strong>@srijan · fid 377</strong></p>\n",
       "            <div style=\"word-wrap: break-word; margin: 10px 0;\">some lesser known workouts for the weekend 🫡 </div>\n",
       "    <div style=\"text-align: center;\"><img src=\"https://i.imgur.com/vgKINkN.jpg\" style=\"max-width: 550px; margin-top: 10px;\"></div><p style=\"color: purple; margin: 10px 0 0;\">&#x1F49C; 34 <span style=\"margin-left: 5px; margin-top: 10px;\">&#x1F4AC; 1</span></p></div></div>"
      ],
      "text/plain": [
       "<IPython.core.display.HTML object>"
      ]
     },
     "metadata": {},
     "output_type": "display_data"
    },
    {
     "data": {
      "text/html": [
       "\n",
       "    <div style=\"border: 1px solid #ccc; max-width: 600px; padding: 25px; margin-bottom: 25px;\">\n",
       "        <div style=\"max-width: 550px; margin: 0 auto;\">\n",
       "            <p><strong><a href=\"https://searchcaster.xyz/search?merkleRoot=0xad4c6f10df00ec980c15020463724266750d4daa\" target=\"_blank\">merkleRoot</a></strong></p>\n",
       "            <p><strong>@dwr · fid 3</strong></p>\n",
       "            <div style=\"word-wrap: break-word; margin: 10px 0;\">New feature on mobile<br><br>Parent cast in the reply composer — context for your witty replies<br><br>cc @phil who was the first to ask for this :) </div>\n",
       "    <div style=\"text-align: center;\"><img src=\"https://i.imgur.com/bKJbKpH.jpg\" style=\"max-width: 550px; margin-top: 10px;\"></div><p style=\"color: purple; margin: 10px 0 0;\">&#x1F49C; 33 <span style=\"margin-left: 5px; margin-top: 10px;\">&#x1F4AC; 3</span></p></div></div>"
      ],
      "text/plain": [
       "<IPython.core.display.HTML object>"
      ]
     },
     "metadata": {},
     "output_type": "display_data"
    },
    {
     "data": {
      "text/html": [
       "\n",
       "    <div style=\"border: 1px solid #ccc; max-width: 600px; padding: 25px; margin-bottom: 25px;\">\n",
       "        <div style=\"max-width: 550px; margin: 0 auto;\">\n",
       "            <p><strong><a href=\"https://searchcaster.xyz/search?merkleRoot=0x9d11d429c8579e448e5672d407b9dd103e69d4e0\" target=\"_blank\">merkleRoot</a></strong></p>\n",
       "            <p><strong>@neuroswish · fid 127</strong></p>\n",
       "            <div style=\"word-wrap: break-word; margin: 10px 0;\">notes app and diet coke<br><br>there is no combo that is more elite. no better set of products that imbibes in you the ability to advance humanity and shift the course of civilization. no stronger synergistic effect equivalent to gaining the knowledge of generations.</div>\n",
       "    <p style=\"color: purple; margin: 10px 0 0;\">&#x1F49C; 32 <span style=\"margin-left: 5px; margin-top: 10px;\">&#x1F4AC; 8</span></p></div></div>"
      ],
      "text/plain": [
       "<IPython.core.display.HTML object>"
      ]
     },
     "metadata": {},
     "output_type": "display_data"
    },
    {
     "data": {
      "text/html": [
       "\n",
       "    <div style=\"border: 1px solid #ccc; max-width: 600px; padding: 25px; margin-bottom: 25px;\">\n",
       "        <div style=\"max-width: 550px; margin: 0 auto;\">\n",
       "            <p><strong><a href=\"https://searchcaster.xyz/search?merkleRoot=0xb2b6499ddf1fd9864beee6c44c8a67de17d210dd\" target=\"_blank\">merkleRoot</a></strong></p>\n",
       "            <p><strong>@cdixon · fid 25</strong></p>\n",
       "            <div style=\"word-wrap: break-word; margin: 10px 0;\">Is there a good app that collects top links/articles on farcaster?</div>\n",
       "    <p style=\"color: purple; margin: 10px 0 0;\">&#x1F49C; 32 <span style=\"margin-left: 5px; margin-top: 10px;\">&#x1F4AC; 16</span></p></div></div>"
      ],
      "text/plain": [
       "<IPython.core.display.HTML object>"
      ]
     },
     "metadata": {},
     "output_type": "display_data"
    },
    {
     "data": {
      "text/html": [
       "\n",
       "    <div style=\"border: 1px solid #ccc; max-width: 600px; padding: 25px; margin-bottom: 25px;\">\n",
       "        <div style=\"max-width: 550px; margin: 0 auto;\">\n",
       "            <p><strong><a href=\"https://searchcaster.xyz/search?merkleRoot=0xc390fc2c53e9f374f84531d964dc35ab44ce3b29\" target=\"_blank\">merkleRoot</a></strong></p>\n",
       "            <p><strong>@v · fid 2</strong></p>\n",
       "            <div style=\"word-wrap: break-word; margin: 10px 0;\">Happy 75th! 🇮🇳</div>\n",
       "    <p style=\"color: purple; margin: 10px 0 0;\">&#x1F49C; 32 <span style=\"margin-left: 5px; margin-top: 10px;\">&#x1F4AC; 1</span></p></div></div>"
      ],
      "text/plain": [
       "<IPython.core.display.HTML object>"
      ]
     },
     "metadata": {},
     "output_type": "display_data"
    },
    {
     "data": {
      "text/html": [
       "\n",
       "    <div style=\"border: 1px solid #ccc; max-width: 600px; padding: 25px; margin-bottom: 25px;\">\n",
       "        <div style=\"max-width: 550px; margin: 0 auto;\">\n",
       "            <p><strong><a href=\"https://searchcaster.xyz/search?merkleRoot=0xe7fda07a06fc5f523dcd01a69e8c8ca4613a9350\" target=\"_blank\">merkleRoot</a></strong></p>\n",
       "            <p><strong>@todd · fid 18</strong></p>\n",
       "            <div style=\"word-wrap: break-word; margin: 10px 0;\">Can confirm </div>\n",
       "    <div style=\"text-align: center;\"><img src=\"https://i.imgur.com/V4pvcpT.jpg\" style=\"max-width: 550px; margin-top: 10px;\"></div><p style=\"color: purple; margin: 10px 0 0;\">&#x1F49C; 31 <span style=\"margin-left: 5px; margin-top: 10px;\">&#x1F4AC; 1</span></p></div></div>"
      ],
      "text/plain": [
       "<IPython.core.display.HTML object>"
      ]
     },
     "metadata": {},
     "output_type": "display_data"
    },
    {
     "data": {
      "text/html": [
       "\n",
       "    <div style=\"border: 1px solid #ccc; max-width: 600px; padding: 25px; margin-bottom: 25px;\">\n",
       "        <div style=\"max-width: 550px; margin: 0 auto;\">\n",
       "            <p><strong><a href=\"https://searchcaster.xyz/search?merkleRoot=0xb8c1ebf115a17cd83b557a056278c3801be657fb\" target=\"_blank\">merkleRoot</a></strong></p>\n",
       "            <p><strong>@greg · fid 347</strong></p>\n",
       "            <div style=\"word-wrap: break-word; margin: 10px 0;\">Cool to see a16z joining the next Gitcoin grants round to help fund web3 public goods </div>\n",
       "    <div style=\"text-align: center;\"><img src=\"https://i.imgur.com/IOtIrQG.png\" style=\"max-width: 550px; margin-top: 10px;\"></div><p style=\"color: purple; margin: 10px 0 0;\">&#x1F49C; 30 <span style=\"margin-left: 5px; margin-top: 10px;\">&#x1F4AC; 3</span></p></div></div>"
      ],
      "text/plain": [
       "<IPython.core.display.HTML object>"
      ]
     },
     "metadata": {},
     "output_type": "display_data"
    },
    {
     "data": {
      "text/html": [
       "\n",
       "    <div style=\"border: 1px solid #ccc; max-width: 600px; padding: 25px; margin-bottom: 25px;\">\n",
       "        <div style=\"max-width: 550px; margin: 0 auto;\">\n",
       "            <p><strong><a href=\"https://searchcaster.xyz/search?merkleRoot=0x8dfe6ade9ff1b089899ec6726aa90890964e727a\" target=\"_blank\">merkleRoot</a></strong></p>\n",
       "            <p><strong>@dwr · fid 3</strong></p>\n",
       "            <div style=\"word-wrap: break-word; margin: 10px 0;\">Useful repo from @m1guelpf <br><br><a href=\"https://github.com/m1guelpf/dapp-starter\" target=\"_blank\">https://github.com/m1guelpf/dapp-starter</a></div>\n",
       "    <p style=\"color: purple; margin: 10px 0 0;\">&#x1F49C; 29 <span style=\"margin-left: 5px; margin-top: 10px;\">&#x1F4AC; 5</span></p></div></div>"
      ],
      "text/plain": [
       "<IPython.core.display.HTML object>"
      ]
     },
     "metadata": {},
     "output_type": "display_data"
    },
    {
     "data": {
      "text/html": [
       "\n",
       "    <div style=\"border: 1px solid #ccc; max-width: 600px; padding: 25px; margin-bottom: 25px;\">\n",
       "        <div style=\"max-width: 550px; margin: 0 auto;\">\n",
       "            <p><strong><a href=\"https://searchcaster.xyz/search?merkleRoot=0x24dce05e0f33667bf1520a427fd16154b820fea3\" target=\"_blank\">merkleRoot</a></strong></p>\n",
       "            <p><strong>@vm · fid 325</strong></p>\n",
       "            <div style=\"word-wrap: break-word; margin: 10px 0;\">Past Jobs:<br><br>· retail salesperson<br>· loss prevention at dept. store<br>· intern at real estate brokerage<br>· community manager at music startup<br>· started a social media co.<br>· started various e-commerce businesses<br>· domain investor<br>· built & operated a fast-casual restaurant</div>\n",
       "    <p style=\"color: purple; margin: 10px 0 0;\">&#x1F49C; 29 <span style=\"margin-left: 5px; margin-top: 10px;\">&#x1F4AC; 27</span></p></div></div>"
      ],
      "text/plain": [
       "<IPython.core.display.HTML object>"
      ]
     },
     "metadata": {},
     "output_type": "display_data"
    },
    {
     "data": {
      "text/html": [
       "\n",
       "    <div style=\"border: 1px solid #ccc; max-width: 600px; padding: 25px; margin-bottom: 25px;\">\n",
       "        <div style=\"max-width: 550px; margin: 0 auto;\">\n",
       "            <p><strong><a href=\"https://searchcaster.xyz/search?merkleRoot=0x976a0c987bd27fd84842a77c557f18e96cf2846a\" target=\"_blank\">merkleRoot</a></strong></p>\n",
       "            <p><strong>@nick · fid 108</strong></p>\n",
       "            <div style=\"word-wrap: break-word; margin: 10px 0;\">Startup hype </div>\n",
       "    <div style=\"text-align: center;\"><img src=\"https://i.imgur.com/IAB2lQ4.jpg\" style=\"max-width: 550px; margin-top: 10px;\"></div><p style=\"color: purple; margin: 10px 0 0;\">&#x1F49C; 28 <span style=\"margin-left: 5px; margin-top: 10px;\">&#x1F4AC; 6</span></p></div></div>"
      ],
      "text/plain": [
       "<IPython.core.display.HTML object>"
      ]
     },
     "metadata": {},
     "output_type": "display_data"
    },
    {
     "data": {
      "text/html": [
       "\n",
       "    <div style=\"border: 1px solid #ccc; max-width: 600px; padding: 25px; margin-bottom: 25px;\">\n",
       "        <div style=\"max-width: 550px; margin: 0 auto;\">\n",
       "            <p><strong><a href=\"https://searchcaster.xyz/search?merkleRoot=0xdcfcf6d31bb44d70469cda7e38866fd932e5c035\" target=\"_blank\">merkleRoot</a></strong></p>\n",
       "            <p><strong>@les · fid 312</strong></p>\n",
       "            <div style=\"word-wrap: break-word; margin: 10px 0;\">My very first cast Tuesday, December 7, 2021 at 5:22:53 PM GMT. Exactly 20minutes after I learned about a one eyed pirate developing an app called Farcaster. <br><br>Fun fact: my first cast was not from this account.</div>\n",
       "    <p style=\"color: purple; margin: 10px 0 0;\">&#x1F49C; 28 <span style=\"margin-left: 5px; margin-top: 10px;\">&#x1F4AC; 5</span></p></div></div>"
      ],
      "text/plain": [
       "<IPython.core.display.HTML object>"
      ]
     },
     "metadata": {},
     "output_type": "display_data"
    },
    {
     "data": {
      "text/html": [
       "\n",
       "    <div style=\"border: 1px solid #ccc; max-width: 600px; padding: 25px; margin-bottom: 25px;\">\n",
       "        <div style=\"max-width: 550px; margin: 0 auto;\">\n",
       "            <p><strong><a href=\"https://searchcaster.xyz/search?merkleRoot=0x9224da94c1c9531495c1fedcfedcf316b10a8d36\" target=\"_blank\">merkleRoot</a></strong></p>\n",
       "            <p><strong>@jc · fid 251</strong></p>\n",
       "            <div style=\"word-wrap: break-word; margin: 10px 0;\">Imagine having ownership of your community - today that’s possible with @beb domains! You can now mint and setup a BEB domain, which are building blocks for the first open web3 community protocol. We have fc-gating too!<br><br>Link: <a href=\"https://beb.domains\" target=\"_blank\">https://beb.domains</a> </div>\n",
       "    <div style=\"text-align: center;\"><img src=\"https://i.imgur.com/lsIO07o.png\" style=\"max-width: 550px; margin-top: 10px;\"></div><p style=\"color: purple; margin: 10px 0 0;\">&#x1F49C; 28 <span style=\"margin-left: 5px; margin-top: 10px;\">&#x1F4AC; 8</span></p></div></div>"
      ],
      "text/plain": [
       "<IPython.core.display.HTML object>"
      ]
     },
     "metadata": {},
     "output_type": "display_data"
    },
    {
     "data": {
      "text/html": [
       "\n",
       "    <div style=\"border: 1px solid #ccc; max-width: 600px; padding: 25px; margin-bottom: 25px;\">\n",
       "        <div style=\"max-width: 550px; margin: 0 auto;\">\n",
       "            <p><strong><a href=\"https://searchcaster.xyz/search?merkleRoot=0x9c6cf1a0d67f7387b10940a58c36bf4b41725a6a\" target=\"_blank\">merkleRoot</a></strong></p>\n",
       "            <p><strong>@cdixon · fid 25</strong></p>\n",
       "            <div style=\"word-wrap: break-word; margin: 10px 0;\">Murray Gell-Mann Amnesia happens not only across domains (eg tech news to international news) but also within domains (crypto tech news to non crypto tech news).</div>\n",
       "    <p style=\"color: purple; margin: 10px 0 0;\">&#x1F49C; 27 <span style=\"margin-left: 5px; margin-top: 10px;\">&#x1F4AC; 2</span></p></div></div>"
      ],
      "text/plain": [
       "<IPython.core.display.HTML object>"
      ]
     },
     "metadata": {},
     "output_type": "display_data"
    },
    {
     "data": {
      "text/html": [
       "\n",
       "    <div style=\"border: 1px solid #ccc; max-width: 600px; padding: 25px; margin-bottom: 25px;\">\n",
       "        <div style=\"max-width: 550px; margin: 0 auto;\">\n",
       "            <p><strong><a href=\"https://searchcaster.xyz/search?merkleRoot=0x8efe5c2b187811f19157c6ae60974cdd060f81c9\" target=\"_blank\">merkleRoot</a></strong></p>\n",
       "            <p><strong>@zachterrell · fid 457</strong></p>\n",
       "            <div style=\"word-wrap: break-word; margin: 10px 0;\">For anyone building apps on Farcaster: I recently built a library that allows you to \"Login with Farcaster\" without a wallet.<br><a href=\"https://github.com/zachterrell57/farcaster-auth\" target=\"_blank\">https://github.com/zachterrell57/farcaster-auth</a></div>\n",
       "    <p style=\"color: purple; margin: 10px 0 0;\">&#x1F49C; 27 <span style=\"margin-left: 5px; margin-top: 10px;\">&#x1F4AC; 5</span></p></div></div>"
      ],
      "text/plain": [
       "<IPython.core.display.HTML object>"
      ]
     },
     "metadata": {},
     "output_type": "display_data"
    },
    {
     "data": {
      "text/html": [
       "\n",
       "    <div style=\"border: 1px solid #ccc; max-width: 600px; padding: 25px; margin-bottom: 25px;\">\n",
       "        <div style=\"max-width: 550px; margin: 0 auto;\">\n",
       "            <p><strong><a href=\"https://searchcaster.xyz/search?merkleRoot=0xaa4adaa9a75b9c1938195c67f29c2b7941e0d5fa\" target=\"_blank\">merkleRoot</a></strong></p>\n",
       "            <p><strong>@dwr · fid 3</strong></p>\n",
       "            <div style=\"word-wrap: break-word; margin: 10px 0;\">Farcaster hack project idea: generate a QR code for a given profile. If you meet another Farcaster IRL and you scan it, you get an NFT.<br><br>eg Twitter’s UI or Venmo + old school Bump contact sharing </div>\n",
       "    <div style=\"text-align: center;\"><img src=\"https://i.imgur.com/ao6iHYw.jpg\" style=\"max-width: 550px; margin-top: 10px;\"></div><p style=\"color: purple; margin: 10px 0 0;\">&#x1F49C; 27 <span style=\"margin-left: 5px; margin-top: 10px;\">&#x1F4AC; 9</span></p></div></div>"
      ],
      "text/plain": [
       "<IPython.core.display.HTML object>"
      ]
     },
     "metadata": {},
     "output_type": "display_data"
    },
    {
     "data": {
      "text/html": [
       "\n",
       "    <div style=\"border: 1px solid #ccc; max-width: 600px; padding: 25px; margin-bottom: 25px;\">\n",
       "        <div style=\"max-width: 550px; margin: 0 auto;\">\n",
       "            <p><strong><a href=\"https://searchcaster.xyz/search?merkleRoot=0xa1f222fe5f8a71432f8d773b83b79691a5ffcaab\" target=\"_blank\">merkleRoot</a></strong></p>\n",
       "            <p><strong>@colin · fid 378</strong></p>\n",
       "            <div style=\"word-wrap: break-word; margin: 10px 0;\">FC app idea: Buildcaster. Aggregate all casts that are tagged with a specific string (#buildcaster?), and organize them by project & creator, similar to <a href=\"https://buildinpublic.com.\" target=\"_blank\">https://buildinpublic.com.</a><br><br>I'd love to see Unlonely, Perl, etc being built in public.</div>\n",
       "    <p style=\"color: purple; margin: 10px 0 0;\">&#x1F49C; 26 <span style=\"margin-left: 5px; margin-top: 10px;\">&#x1F4AC; 5</span></p></div></div>"
      ],
      "text/plain": [
       "<IPython.core.display.HTML object>"
      ]
     },
     "metadata": {},
     "output_type": "display_data"
    },
    {
     "data": {
      "text/html": [
       "\n",
       "    <div style=\"border: 1px solid #ccc; max-width: 600px; padding: 25px; margin-bottom: 25px;\">\n",
       "        <div style=\"max-width: 550px; margin: 0 auto;\">\n",
       "            <p><strong><a href=\"https://searchcaster.xyz/search?merkleRoot=0x4d353a1ad317dcb070f3d7654b15da6798c562e0\" target=\"_blank\">merkleRoot</a></strong></p>\n",
       "            <p><strong>@phil · fid 129</strong></p>\n",
       "            <div style=\"word-wrap: break-word; margin: 10px 0;\">Broke the 1k mark on FC 👏  </div>\n",
       "    <div style=\"text-align: center;\"><img src=\"https://i.imgur.com/UDjly0n.png\" style=\"max-width: 550px; margin-top: 10px;\"></div><p style=\"color: purple; margin: 10px 0 0;\">&#x1F49C; 26 <span style=\"margin-left: 5px; margin-top: 10px;\">&#x1F4AC; 4</span></p></div></div>"
      ],
      "text/plain": [
       "<IPython.core.display.HTML object>"
      ]
     },
     "metadata": {},
     "output_type": "display_data"
    },
    {
     "data": {
      "text/html": [
       "\n",
       "    <div style=\"border: 1px solid #ccc; max-width: 600px; padding: 25px; margin-bottom: 25px;\">\n",
       "        <div style=\"max-width: 550px; margin: 0 auto;\">\n",
       "            <p><strong><a href=\"https://searchcaster.xyz/search?merkleRoot=0xabc26f6093fd566c6678e8264a0f90d0ef6ab87f\" target=\"_blank\">merkleRoot</a></strong></p>\n",
       "            <p><strong>@briang · fid 548</strong></p>\n",
       "            <div style=\"word-wrap: break-word; margin: 10px 0;\">unlonely stream pushed back 1 hour til 8pm PST bc IRL friends </div>\n",
       "    <div style=\"text-align: center;\"><img src=\"https://i.imgur.com/q4FbI1r.jpg\" style=\"max-width: 550px; margin-top: 10px;\"></div><p style=\"color: purple; margin: 10px 0 0;\">&#x1F49C; 26 <span style=\"margin-left: 5px; margin-top: 10px;\">&#x1F4AC; 4</span></p></div></div>"
      ],
      "text/plain": [
       "<IPython.core.display.HTML object>"
      ]
     },
     "metadata": {},
     "output_type": "display_data"
    },
    {
     "data": {
      "text/html": [
       "\n",
       "    <div style=\"border: 1px solid #ccc; max-width: 600px; padding: 25px; margin-bottom: 25px;\">\n",
       "        <div style=\"max-width: 550px; margin: 0 auto;\">\n",
       "            <p><strong><a href=\"https://searchcaster.xyz/search?merkleRoot=0xc6cb647b7a53ac38fc312ccf993956d9acbaec9d\" target=\"_blank\">merkleRoot</a></strong></p>\n",
       "            <p><strong>@ferj · fid 801</strong></p>\n",
       "            <div style=\"word-wrap: break-word; margin: 10px 0;\">How I meditate: ⛰ 🎸⛰ </div>\n",
       "    <div style=\"text-align: center;\"><img src=\"https://i.imgur.com/AEWqgaA.jpg\" style=\"max-width: 550px; margin-top: 10px;\"></div><p style=\"color: purple; margin: 10px 0 0;\">&#x1F49C; 25 <span style=\"margin-left: 5px; margin-top: 10px;\">&#x1F4AC; 3</span></p></div></div>"
      ],
      "text/plain": [
       "<IPython.core.display.HTML object>"
      ]
     },
     "metadata": {},
     "output_type": "display_data"
    },
    {
     "data": {
      "text/html": [
       "\n",
       "    <div style=\"border: 1px solid #ccc; max-width: 600px; padding: 25px; margin-bottom: 25px;\">\n",
       "        <div style=\"max-width: 550px; margin: 0 auto;\">\n",
       "            <p><strong><a href=\"https://searchcaster.xyz/search?merkleRoot=0x3ac7d04937baa8d421f0f8307ec682a6af515d49\" target=\"_blank\">merkleRoot</a></strong></p>\n",
       "            <p><strong>@lin · fid 478</strong></p>\n",
       "            <div style=\"word-wrap: break-word; margin: 10px 0;\">Thrilled to announce the official launch of Shima Capital Fund I. 🚀 <br><br><a href=\"https://www.prnewswire.com/news-releases/shima-capital-debuts-with-200-million-to-support-web3-founders-through-crypto-bear-market-301607694.html\" target=\"_blank\">https://www.prnewswire.com/news-releases/shima-capital-debuts-with-200-million-to-support-web3-founders-through-crypto-bear-market-301607694.html</a></div>\n",
       "    <p style=\"color: purple; margin: 10px 0 0;\">&#x1F49C; 24 <span style=\"margin-left: 5px; margin-top: 10px;\">&#x1F4AC; 5</span></p></div></div>"
      ],
      "text/plain": [
       "<IPython.core.display.HTML object>"
      ]
     },
     "metadata": {},
     "output_type": "display_data"
    },
    {
     "data": {
      "text/html": [
       "\n",
       "    <div style=\"border: 1px solid #ccc; max-width: 600px; padding: 25px; margin-bottom: 25px;\">\n",
       "        <div style=\"max-width: 550px; margin: 0 auto;\">\n",
       "            <p><strong><a href=\"https://searchcaster.xyz/search?merkleRoot=0x176cac916a05dd654a1c1f30cbde3b2ffecfd22e\" target=\"_blank\">merkleRoot</a></strong></p>\n",
       "            <p><strong>@gaby · fid 83</strong></p>\n",
       "            <div style=\"word-wrap: break-word; margin: 10px 0;\">farcaster needs an in-app music player for sharing songs</div>\n",
       "    <p style=\"color: purple; margin: 10px 0 0;\">&#x1F49C; 24 <span style=\"margin-left: 5px; margin-top: 10px;\">&#x1F4AC; 4</span></p></div></div>"
      ],
      "text/plain": [
       "<IPython.core.display.HTML object>"
      ]
     },
     "metadata": {},
     "output_type": "display_data"
    },
    {
     "data": {
      "text/html": [
       "\n",
       "    <div style=\"border: 1px solid #ccc; max-width: 600px; padding: 25px; margin-bottom: 25px;\">\n",
       "        <div style=\"max-width: 550px; margin: 0 auto;\">\n",
       "            <p><strong><a href=\"https://searchcaster.xyz/search?merkleRoot=0x33649be4a07e05279044295d1177e04c8806ad0b\" target=\"_blank\">merkleRoot</a></strong></p>\n",
       "            <p><strong>@n · fid 274</strong></p>\n",
       "            <div style=\"word-wrap: break-word; margin: 10px 0;\">Farcaster-themed hackathon would be lit</div>\n",
       "    <p style=\"color: purple; margin: 10px 0 0;\">&#x1F49C; 24 <span style=\"margin-left: 5px; margin-top: 10px;\">&#x1F4AC; 2</span></p></div></div>"
      ],
      "text/plain": [
       "<IPython.core.display.HTML object>"
      ]
     },
     "metadata": {},
     "output_type": "display_data"
    },
    {
     "data": {
      "text/html": [
       "\n",
       "    <div style=\"border: 1px solid #ccc; max-width: 600px; padding: 25px; margin-bottom: 25px;\">\n",
       "        <div style=\"max-width: 550px; margin: 0 auto;\">\n",
       "            <p><strong><a href=\"https://searchcaster.xyz/search?merkleRoot=0x71662b89973ceea27e975ee6cc1af8855c6a92ab\" target=\"_blank\">merkleRoot</a></strong></p>\n",
       "            <p><strong>@dwr · fid 3</strong></p>\n",
       "            <div style=\"word-wrap: break-word; margin: 10px 0;\">This looks useful for creating allowlists<br><br><a href=\"http://lanyard.build\" target=\"_blank\">http://lanyard.build</a></div>\n",
       "    <p style=\"color: purple; margin: 10px 0 0;\">&#x1F49C; 23 <span style=\"margin-left: 5px; margin-top: 10px;\">&#x1F4AC; 2</span></p></div></div>"
      ],
      "text/plain": [
       "<IPython.core.display.HTML object>"
      ]
     },
     "metadata": {},
     "output_type": "display_data"
    },
    {
     "data": {
      "text/html": [
       "\n",
       "    <div style=\"border: 1px solid #ccc; max-width: 600px; padding: 25px; margin-bottom: 25px;\">\n",
       "        <div style=\"max-width: 550px; margin: 0 auto;\">\n",
       "            <p><strong><a href=\"https://searchcaster.xyz/search?merkleRoot=0x3de7020227c27c857d499a9aefcee0d4cbf8238f\" target=\"_blank\">merkleRoot</a></strong></p>\n",
       "            <p><strong>@anua · fid 765</strong></p>\n",
       "            <div style=\"word-wrap: break-word; margin: 10px 0;\">👋🏽 long time lurker, first cast</div>\n",
       "    <p style=\"color: purple; margin: 10px 0 0;\">&#x1F49C; 23 <span style=\"margin-left: 5px; margin-top: 10px;\">&#x1F4AC; 8</span></p></div></div>"
      ],
      "text/plain": [
       "<IPython.core.display.HTML object>"
      ]
     },
     "metadata": {},
     "output_type": "display_data"
    },
    {
     "data": {
      "text/html": [
       "\n",
       "    <div style=\"border: 1px solid #ccc; max-width: 600px; padding: 25px; margin-bottom: 25px;\">\n",
       "        <div style=\"max-width: 550px; margin: 0 auto;\">\n",
       "            <p><strong><a href=\"https://searchcaster.xyz/search?merkleRoot=0xf32f526a2fc2f916b3bf72e25adbdadf97a9f575\" target=\"_blank\">merkleRoot</a></strong></p>\n",
       "            <p><strong>@giu · fid 124</strong></p>\n",
       "            <div style=\"word-wrap: break-word; margin: 10px 0;\">Farcaster = Good vibez</div>\n",
       "    <p style=\"color: purple; margin: 10px 0 0;\">&#x1F49C; 23 <span style=\"margin-left: 5px; margin-top: 10px;\">&#x1F4AC; 1</span></p></div></div>"
      ],
      "text/plain": [
       "<IPython.core.display.HTML object>"
      ]
     },
     "metadata": {},
     "output_type": "display_data"
    },
    {
     "data": {
      "text/html": [
       "\n",
       "    <div style=\"border: 1px solid #ccc; max-width: 600px; padding: 25px; margin-bottom: 25px;\">\n",
       "        <div style=\"max-width: 550px; margin: 0 auto;\">\n",
       "            <p><strong><a href=\"https://searchcaster.xyz/search?merkleRoot=0x90c92732e5a4f3345a80cdb5a602052362e6e343\" target=\"_blank\">merkleRoot</a></strong></p>\n",
       "            <p><strong>@brianjckim · fid 426</strong></p>\n",
       "            <div style=\"word-wrap: break-word; margin: 10px 0;\">how i meditate </div>\n",
       "    <div style=\"text-align: center;\"><img src=\"https://i.imgur.com/LLNKaex.jpg\" style=\"max-width: 550px; margin-top: 10px;\"></div><p style=\"color: purple; margin: 10px 0 0;\">&#x1F49C; 22 <span style=\"margin-left: 5px; margin-top: 10px;\">&#x1F4AC; 1</span></p></div></div>"
      ],
      "text/plain": [
       "<IPython.core.display.HTML object>"
      ]
     },
     "metadata": {},
     "output_type": "display_data"
    },
    {
     "data": {
      "text/html": [
       "\n",
       "    <div style=\"border: 1px solid #ccc; max-width: 600px; padding: 25px; margin-bottom: 25px;\">\n",
       "        <div style=\"max-width: 550px; margin: 0 auto;\">\n",
       "            <p><strong><a href=\"https://searchcaster.xyz/search?merkleRoot=0xc11167a93d0439d303ff16e59c2a80786bcedeb7\" target=\"_blank\">merkleRoot</a></strong></p>\n",
       "            <p><strong>@matthew · fid 473</strong></p>\n",
       "            <div style=\"word-wrap: break-word; margin: 10px 0;\">the boys riffing on @event </div>\n",
       "    <div style=\"text-align: center;\"><img src=\"https://i.imgur.com/AwJduFA.jpg\" style=\"max-width: 550px; margin-top: 10px;\"></div><p style=\"color: purple; margin: 10px 0 0;\">&#x1F49C; 22 <span style=\"margin-left: 5px; margin-top: 10px;\">&#x1F4AC; 1</span></p></div></div>"
      ],
      "text/plain": [
       "<IPython.core.display.HTML object>"
      ]
     },
     "metadata": {},
     "output_type": "display_data"
    },
    {
     "data": {
      "text/html": [
       "\n",
       "    <div style=\"border: 1px solid #ccc; max-width: 600px; padding: 25px; margin-bottom: 25px;\">\n",
       "        <div style=\"max-width: 550px; margin: 0 auto;\">\n",
       "            <p><strong><a href=\"https://searchcaster.xyz/search?merkleRoot=0x7ae939f5b7a982bc49c31d95e478ed524b3af663\" target=\"_blank\">merkleRoot</a></strong></p>\n",
       "            <p><strong>@nick · fid 108</strong></p>\n",
       "            <div style=\"word-wrap: break-word; margin: 10px 0;\">Living in our own world </div>\n",
       "    <div style=\"text-align: center;\"><img src=\"https://i.imgur.com/ZtKrWRD.jpg\" style=\"max-width: 550px; margin-top: 10px;\"></div><p style=\"color: purple; margin: 10px 0 0;\">&#x1F49C; 22 <span style=\"margin-left: 5px; margin-top: 10px;\">&#x1F4AC; 5</span></p></div></div>"
      ],
      "text/plain": [
       "<IPython.core.display.HTML object>"
      ]
     },
     "metadata": {},
     "output_type": "display_data"
    },
    {
     "data": {
      "text/html": [
       "\n",
       "    <div style=\"border: 1px solid #ccc; max-width: 600px; padding: 25px; margin-bottom: 25px;\">\n",
       "        <div style=\"max-width: 550px; margin: 0 auto;\">\n",
       "            <p><strong><a href=\"https://searchcaster.xyz/search?merkleRoot=0x881f1a274df6d1b77d84608d0cbab2542be9b91b\" target=\"_blank\">merkleRoot</a></strong></p>\n",
       "            <p><strong>@linda · fid 12</strong></p>\n",
       "            <div style=\"word-wrap: break-word; margin: 10px 0;\">One neat part of working in DAOs that focus on public goods (Gitcoin, Optimism) is getting to work with some incredible people that are “unemployable” who wouldn’t join a company but believe in the DAO’s mission. Some people I wouldn’t have had a chance to work with otherwise</div>\n",
       "    <p style=\"color: purple; margin: 10px 0 0;\">&#x1F49C; 22 <span style=\"margin-left: 5px; margin-top: 10px;\">&#x1F4AC; 3</span></p></div></div>"
      ],
      "text/plain": [
       "<IPython.core.display.HTML object>"
      ]
     },
     "metadata": {},
     "output_type": "display_data"
    },
    {
     "data": {
      "text/html": [
       "\n",
       "    <div style=\"border: 1px solid #ccc; max-width: 600px; padding: 25px; margin-bottom: 25px;\">\n",
       "        <div style=\"max-width: 550px; margin: 0 auto;\">\n",
       "            <p><strong><a href=\"https://searchcaster.xyz/search?merkleRoot=0x156523f440271464cb77ceaf8eb2e94195fc3bc0\" target=\"_blank\">merkleRoot</a></strong></p>\n",
       "            <p><strong>@ace · fid 539</strong></p>\n",
       "            <div style=\"word-wrap: break-word; margin: 10px 0;\">well said on why a16z <> AN at a macro level. <br> </div>\n",
       "    <div style=\"text-align: center;\"><img src=\"https://i.imgur.com/TPClgc9.png\" style=\"max-width: 550px; margin-top: 10px;\"></div><p style=\"color: purple; margin: 10px 0 0;\">&#x1F49C; 22 <span style=\"margin-left: 5px; margin-top: 10px;\">&#x1F4AC; 2</span></p></div></div>"
      ],
      "text/plain": [
       "<IPython.core.display.HTML object>"
      ]
     },
     "metadata": {},
     "output_type": "display_data"
    },
    {
     "data": {
      "text/html": [
       "\n",
       "    <div style=\"border: 1px solid #ccc; max-width: 600px; padding: 25px; margin-bottom: 25px;\">\n",
       "        <div style=\"max-width: 550px; margin: 0 auto;\">\n",
       "            <p><strong><a href=\"https://searchcaster.xyz/search?merkleRoot=0x4689c328dbaa80e2e5152a62df80dab33491670b\" target=\"_blank\">merkleRoot</a></strong></p>\n",
       "            <p><strong>@matallo · fid 626</strong></p>\n",
       "            <div style=\"word-wrap: break-word; margin: 10px 0;\">How I meditate </div>\n",
       "    <div style=\"text-align: center;\"><img src=\"https://i.imgur.com/DplKxLg.jpg\" style=\"max-width: 550px; margin-top: 10px;\"></div><p style=\"color: purple; margin: 10px 0 0;\">&#x1F49C; 22 <span style=\"margin-left: 5px; margin-top: 10px;\">&#x1F4AC; 1</span></p></div></div>"
      ],
      "text/plain": [
       "<IPython.core.display.HTML object>"
      ]
     },
     "metadata": {},
     "output_type": "display_data"
    },
    {
     "data": {
      "text/html": [
       "\n",
       "    <div style=\"border: 1px solid #ccc; max-width: 600px; padding: 25px; margin-bottom: 25px;\">\n",
       "        <div style=\"max-width: 550px; margin: 0 auto;\">\n",
       "            <p><strong><a href=\"https://searchcaster.xyz/search?merkleRoot=0xbea2e75e49299775abc205e01143aa3ae5e0d3d7\" target=\"_blank\">merkleRoot</a></strong></p>\n",
       "            <p><strong>@july · fid 1287</strong></p>\n",
       "            <div style=\"word-wrap: break-word; margin: 10px 0;\">All you farcasters in SF Bay Area<br><br>Any interest in an IRL get together?</div>\n",
       "    <p style=\"color: purple; margin: 10px 0 0;\">&#x1F49C; 22 <span style=\"margin-left: 5px; margin-top: 10px;\">&#x1F4AC; 13</span></p></div></div>"
      ],
      "text/plain": [
       "<IPython.core.display.HTML object>"
      ]
     },
     "metadata": {},
     "output_type": "display_data"
    },
    {
     "data": {
      "text/html": [
       "\n",
       "    <div style=\"border: 1px solid #ccc; max-width: 600px; padding: 25px; margin-bottom: 25px;\">\n",
       "        <div style=\"max-width: 550px; margin: 0 auto;\">\n",
       "            <p><strong><a href=\"https://searchcaster.xyz/search?merkleRoot=0x523156ad84cbb7251abeab95a3f38ab1ac1460b2\" target=\"_blank\">merkleRoot</a></strong></p>\n",
       "            <p><strong>@phil · fid 129</strong></p>\n",
       "            <div style=\"word-wrap: break-word; margin: 10px 0;\">It’s impossible to take a bad photo in Switzerland<br><br>This place gives California a run for its money on natural beauty<br><br>I spent the weekend in Interlaken which happens to look like a scene out of Skyrim </div>\n",
       "    <div style=\"text-align: center;\"><img src=\"https://i.imgur.com/35m1g3N.jpg\" style=\"max-width: 550px; margin-top: 10px;\"></div><p style=\"color: purple; margin: 10px 0 0;\">&#x1F49C; 22 <span style=\"margin-left: 5px; margin-top: 10px;\">&#x1F4AC; 1</span></p></div></div>"
      ],
      "text/plain": [
       "<IPython.core.display.HTML object>"
      ]
     },
     "metadata": {},
     "output_type": "display_data"
    },
    {
     "data": {
      "text/html": [
       "\n",
       "    <div style=\"border: 1px solid #ccc; max-width: 600px; padding: 25px; margin-bottom: 25px;\">\n",
       "        <div style=\"max-width: 550px; margin: 0 auto;\">\n",
       "            <p><strong><a href=\"https://searchcaster.xyz/search?merkleRoot=0x6a7b28c1b4a2f221bd52b45c1c8381f7c1cdb074\" target=\"_blank\">merkleRoot</a></strong></p>\n",
       "            <p><strong>@dwr · fid 3</strong></p>\n",
       "            <div style=\"word-wrap: break-word; margin: 10px 0;\">Looks interesting. Like a more collaborative Excalidraw + Notion hybrid.<br><br><a href=\"https://www.tryeraser.com/\" target=\"_blank\">https://www.tryeraser.com/</a></div>\n",
       "    <p style=\"color: purple; margin: 10px 0 0;\">&#x1F49C; 21 <span style=\"margin-left: 5px; margin-top: 10px;\">&#x1F4AC; 10</span></p></div></div>"
      ],
      "text/plain": [
       "<IPython.core.display.HTML object>"
      ]
     },
     "metadata": {},
     "output_type": "display_data"
    },
    {
     "data": {
      "text/html": [
       "\n",
       "    <div style=\"border: 1px solid #ccc; max-width: 600px; padding: 25px; margin-bottom: 25px;\">\n",
       "        <div style=\"max-width: 550px; margin: 0 auto;\">\n",
       "            <p><strong><a href=\"https://searchcaster.xyz/search?merkleRoot=0x4cd0362819a610c2d01daff2c31699f03f9637a1\" target=\"_blank\">merkleRoot</a></strong></p>\n",
       "            <p><strong>@noah · fid 4</strong></p>\n",
       "            <div style=\"word-wrap: break-word; margin: 10px 0;\">Gm<br>This picture gives me warm fuzzies  </div>\n",
       "    <div style=\"text-align: center;\"><img src=\"https://i.imgur.com/QIr7KMx.jpg\" style=\"max-width: 550px; margin-top: 10px;\"></div><p style=\"color: purple; margin: 10px 0 0;\">&#x1F49C; 21 <span style=\"margin-left: 5px; margin-top: 10px;\">&#x1F4AC; 2</span></p></div></div>"
      ],
      "text/plain": [
       "<IPython.core.display.HTML object>"
      ]
     },
     "metadata": {},
     "output_type": "display_data"
    },
    {
     "data": {
      "text/html": [
       "\n",
       "    <div style=\"border: 1px solid #ccc; max-width: 600px; padding: 25px; margin-bottom: 25px;\">\n",
       "        <div style=\"max-width: 550px; margin: 0 auto;\">\n",
       "            <p><strong><a href=\"https://searchcaster.xyz/search?merkleRoot=0xf8f1260d144429371f7201050fe9e9b80def6ec9\" target=\"_blank\">merkleRoot</a></strong></p>\n",
       "            <p><strong>@ansh · fid 1300</strong></p>\n",
       "            <div style=\"word-wrap: break-word; margin: 10px 0;\">First day of Farcaster<br><br>Vibes are like early days of Clubhouse<br><br>I wonder how the community would scale 🤔<br><br>App has a lot of QoL improvements over Twitter too</div>\n",
       "    <p style=\"color: purple; margin: 10px 0 0;\">&#x1F49C; 21 <span style=\"margin-left: 5px; margin-top: 10px;\">&#x1F4AC; 2</span></p></div></div>"
      ],
      "text/plain": [
       "<IPython.core.display.HTML object>"
      ]
     },
     "metadata": {},
     "output_type": "display_data"
    },
    {
     "data": {
      "text/html": [
       "\n",
       "    <div style=\"border: 1px solid #ccc; max-width: 600px; padding: 25px; margin-bottom: 25px;\">\n",
       "        <div style=\"max-width: 550px; margin: 0 auto;\">\n",
       "            <p><strong><a href=\"https://searchcaster.xyz/search?merkleRoot=0xc894c3479d2aab8e48bd6bfd0eee938f1a2558b3\" target=\"_blank\">merkleRoot</a></strong></p>\n",
       "            <p><strong>@dwr · fid 3</strong></p>\n",
       "            <div style=\"word-wrap: break-word; margin: 10px 0;\">Genuinely surprised Instagram or Snap hasn’t launched a BeReal or Locket clone yet.<br><br>Locket-style widget for just friends on Instagram could help alleviate complaints about the Reels algo feed push.</div>\n",
       "    <p style=\"color: purple; margin: 10px 0 0;\">&#x1F49C; 21 <span style=\"margin-left: 5px; margin-top: 10px;\">&#x1F4AC; 4</span></p></div></div>"
      ],
      "text/plain": [
       "<IPython.core.display.HTML object>"
      ]
     },
     "metadata": {},
     "output_type": "display_data"
    },
    {
     "data": {
      "text/html": [
       "\n",
       "    <div style=\"border: 1px solid #ccc; max-width: 600px; padding: 25px; margin-bottom: 25px;\">\n",
       "        <div style=\"max-width: 550px; margin: 0 auto;\">\n",
       "            <p><strong><a href=\"https://searchcaster.xyz/search?merkleRoot=0x24c39c1f60349f47ad43a5301834e76fae8c83fc\" target=\"_blank\">merkleRoot</a></strong></p>\n",
       "            <p><strong>@wmd · fid 743</strong></p>\n",
       "            <div style=\"word-wrap: break-word; margin: 10px 0;\">The next generation of builders is self-taught. From Sudan to Chile, young builders are already remotely building the future. <br><br>Today, we launch <a href=\"http://colossus.fyi/memo:\" target=\"_blank\">http://colossus.fyi/memo:</a> A global collective of 50+ builders, working on infrastructure for the self-taught. <br><br>Read more 👇</div>\n",
       "    <p style=\"color: purple; margin: 10px 0 0;\">&#x1F49C; 21 <span style=\"margin-left: 5px; margin-top: 10px;\">&#x1F4AC; 3</span></p></div></div>"
      ],
      "text/plain": [
       "<IPython.core.display.HTML object>"
      ]
     },
     "metadata": {},
     "output_type": "display_data"
    },
    {
     "data": {
      "text/html": [
       "\n",
       "    <div style=\"border: 1px solid #ccc; max-width: 600px; padding: 25px; margin-bottom: 25px;\">\n",
       "        <div style=\"max-width: 550px; margin: 0 auto;\">\n",
       "            <p><strong><a href=\"https://searchcaster.xyz/search?merkleRoot=0x25ef91dc5f22e82d7083d216680547bd807c0566\" target=\"_blank\">merkleRoot</a></strong></p>\n",
       "            <p><strong>@whatrocks · fid 224</strong></p>\n",
       "            <div style=\"word-wrap: break-word; margin: 10px 0;\">gm ancient greece </div>\n",
       "    <div style=\"text-align: center;\"><img src=\"https://i.imgur.com/7dbEiUq.jpg\" style=\"max-width: 550px; margin-top: 10px;\"></div><p style=\"color: purple; margin: 10px 0 0;\">&#x1F49C; 21 <span style=\"margin-left: 5px; margin-top: 10px;\">&#x1F4AC; 0</span></p></div></div>"
      ],
      "text/plain": [
       "<IPython.core.display.HTML object>"
      ]
     },
     "metadata": {},
     "output_type": "display_data"
    },
    {
     "data": {
      "text/html": [
       "\n",
       "    <div style=\"border: 1px solid #ccc; max-width: 600px; padding: 25px; margin-bottom: 25px;\">\n",
       "        <div style=\"max-width: 550px; margin: 0 auto;\">\n",
       "            <p><strong><a href=\"https://searchcaster.xyz/search?merkleRoot=0x62efc10a0be6b86f060f1ab53fa3b37d86748aa3\" target=\"_blank\">merkleRoot</a></strong></p>\n",
       "            <p><strong>@les · fid 312</strong></p>\n",
       "            <div style=\"word-wrap: break-word; margin: 10px 0;\">gn.<br><br>This is what FC fomo looks like. <br><br>ps. pumped about the data feed.  </div>\n",
       "    <div style=\"text-align: center;\"><img src=\"https://i.imgur.com/NcMSsii.jpg\" style=\"max-width: 550px; margin-top: 10px;\"></div><p style=\"color: purple; margin: 10px 0 0;\">&#x1F49C; 21 <span style=\"margin-left: 5px; margin-top: 10px;\">&#x1F4AC; 1</span></p></div></div>"
      ],
      "text/plain": [
       "<IPython.core.display.HTML object>"
      ]
     },
     "metadata": {},
     "output_type": "display_data"
    },
    {
     "data": {
      "text/html": [
       "\n",
       "    <div style=\"border: 1px solid #ccc; max-width: 600px; padding: 25px; margin-bottom: 25px;\">\n",
       "        <div style=\"max-width: 550px; margin: 0 auto;\">\n",
       "            <p><strong><a href=\"https://searchcaster.xyz/search?merkleRoot=0x53ec52d483baf2f63c7d2d0b29e98f484839826b\" target=\"_blank\">merkleRoot</a></strong></p>\n",
       "            <p><strong>@evaluate · fid 961</strong></p>\n",
       "            <div style=\"word-wrap: break-word; margin: 10px 0;\">You must have needed lvl 99 determination to start a company pre-internet before tools like gusto, gmail, docusign, notion, etc. Like these people had filing cabinets, checks, and stamps and that’s it.</div>\n",
       "    <p style=\"color: purple; margin: 10px 0 0;\">&#x1F49C; 20 <span style=\"margin-left: 5px; margin-top: 10px;\">&#x1F4AC; 4</span></p></div></div>"
      ],
      "text/plain": [
       "<IPython.core.display.HTML object>"
      ]
     },
     "metadata": {},
     "output_type": "display_data"
    },
    {
     "data": {
      "text/html": [
       "\n",
       "    <div style=\"border: 1px solid #ccc; max-width: 600px; padding: 25px; margin-bottom: 25px;\">\n",
       "        <div style=\"max-width: 550px; margin: 0 auto;\">\n",
       "            <p><strong><a href=\"https://searchcaster.xyz/search?merkleRoot=0xe66f2d2121848f3524c4006efe75f633a081ac35\" target=\"_blank\">merkleRoot</a></strong></p>\n",
       "            <p><strong>@cassie · fid 1325</strong></p>\n",
       "            <div style=\"word-wrap: break-word; margin: 10px 0;\">Farcaster having near feature parity with Twitter already is proof the crypto community is not only paving the future, but they’re gonna do it before you realize you could have been early, anon.</div>\n",
       "    <p style=\"color: purple; margin: 10px 0 0;\">&#x1F49C; 20 <span style=\"margin-left: 5px; margin-top: 10px;\">&#x1F4AC; 1</span></p></div></div>"
      ],
      "text/plain": [
       "<IPython.core.display.HTML object>"
      ]
     },
     "metadata": {},
     "output_type": "display_data"
    },
    {
     "data": {
      "text/html": [
       "\n",
       "    <div style=\"border: 1px solid #ccc; max-width: 600px; padding: 25px; margin-bottom: 25px;\">\n",
       "        <div style=\"max-width: 550px; margin: 0 auto;\">\n",
       "            <p><strong><a href=\"https://searchcaster.xyz/search?merkleRoot=0xc9f3c61ab27b8902c5ec74e41d5db8f9ac314c85\" target=\"_blank\">merkleRoot</a></strong></p>\n",
       "            <p><strong>@kn · fid 258</strong></p>\n",
       "            <div style=\"word-wrap: break-word; margin: 10px 0;\">Anyone wants to build a bot that recasts posts that reach 5 watches count? I'd follow this bot.<br><br>It's a good first project if you want to build on FC. Prob a few hours of work if you use our public DB + replit (or other tools of your choice). Happy to help.</div>\n",
       "    <p style=\"color: purple; margin: 10px 0 0;\">&#x1F49C; 20 <span style=\"margin-left: 5px; margin-top: 10px;\">&#x1F4AC; 1</span></p></div></div>"
      ],
      "text/plain": [
       "<IPython.core.display.HTML object>"
      ]
     },
     "metadata": {},
     "output_type": "display_data"
    },
    {
     "data": {
      "text/html": [
       "\n",
       "    <div style=\"border: 1px solid #ccc; max-width: 600px; padding: 25px; margin-bottom: 25px;\">\n",
       "        <div style=\"max-width: 550px; margin: 0 auto;\">\n",
       "            <p><strong><a href=\"https://searchcaster.xyz/search?merkleRoot=0x82272fe3ab2d0b2cbe4c28110249e986d28e8b20\" target=\"_blank\">merkleRoot</a></strong></p>\n",
       "            <p><strong>@sriramk · fid 43</strong></p>\n",
       "            <div style=\"word-wrap: break-word; margin: 10px 0;\">Something I miss in the all remote workplace: getting to see coworkers desk setups. <br><br>How they set up their keyboard/monitor/apps they use/what they have around them.<br><br>Picked so many productivity tips by just looking over people's shoulders.</div>\n",
       "    <p style=\"color: purple; margin: 10px 0 0;\">&#x1F49C; 20 <span style=\"margin-left: 5px; margin-top: 10px;\">&#x1F4AC; 5</span></p></div></div>"
      ],
      "text/plain": [
       "<IPython.core.display.HTML object>"
      ]
     },
     "metadata": {},
     "output_type": "display_data"
    },
    {
     "data": {
      "text/html": [
       "\n",
       "    <div style=\"border: 1px solid #ccc; max-width: 600px; padding: 25px; margin-bottom: 25px;\">\n",
       "        <div style=\"max-width: 550px; margin: 0 auto;\">\n",
       "            <p><strong><a href=\"https://searchcaster.xyz/search?merkleRoot=0x5657910f75db69156b27bb544d451304fc3fdd56\" target=\"_blank\">merkleRoot</a></strong></p>\n",
       "            <p><strong>@derek · fid 193</strong></p>\n",
       "            <div style=\"word-wrap: break-word; margin: 10px 0;\">web3 needs more non-financial fun. <br><br>who’s building the…<br><br>⟠ bash.org<br>⟠ chain letters<br>⟠ geocities <br>⟠ 24•7 webcams<br>⟠ homestar runner <br>⟠ del.icio.us<br><br>…equivalents<br><br>iykyk.</div>\n",
       "    <p style=\"color: purple; margin: 10px 0 0;\">&#x1F49C; 20 <span style=\"margin-left: 5px; margin-top: 10px;\">&#x1F4AC; 8</span></p></div></div>"
      ],
      "text/plain": [
       "<IPython.core.display.HTML object>"
      ]
     },
     "metadata": {},
     "output_type": "display_data"
    },
    {
     "data": {
      "text/html": [
       "\n",
       "    <div style=\"border: 1px solid #ccc; max-width: 600px; padding: 25px; margin-bottom: 25px;\">\n",
       "        <div style=\"max-width: 550px; margin: 0 auto;\">\n",
       "            <p><strong><a href=\"https://searchcaster.xyz/search?merkleRoot=0x8fcdc7e592aa031faa27c477b18d5eabb66d3173\" target=\"_blank\">merkleRoot</a></strong></p>\n",
       "            <p><strong>@soondooboop · fid 1303</strong></p>\n",
       "            <div style=\"word-wrap: break-word; margin: 10px 0;\">gm ⌐◨-◨</div>\n",
       "    <p style=\"color: purple; margin: 10px 0 0;\">&#x1F49C; 20 <span style=\"margin-left: 5px; margin-top: 10px;\">&#x1F4AC; 3</span></p></div></div>"
      ],
      "text/plain": [
       "<IPython.core.display.HTML object>"
      ]
     },
     "metadata": {},
     "output_type": "display_data"
    },
    {
     "data": {
      "text/html": [
       "\n",
       "    <div style=\"border: 1px solid #ccc; max-width: 600px; padding: 25px; margin-bottom: 25px;\">\n",
       "        <div style=\"max-width: 550px; margin: 0 auto;\">\n",
       "            <p><strong><a href=\"https://searchcaster.xyz/search?merkleRoot=0x3f7da0fa65d17b929e3508e8baedd95a9bd4940b\" target=\"_blank\">merkleRoot</a></strong></p>\n",
       "            <p><strong>@brianjckim · fid 426</strong></p>\n",
       "            <div style=\"word-wrap: break-word; margin: 10px 0;\">linkedin invite from a high school freshman<br><br>what are we doing to our children? </div>\n",
       "    <div style=\"text-align: center;\"><img src=\"https://i.imgur.com/ze6H0Kj.jpg\" style=\"max-width: 550px; margin-top: 10px;\"></div><p style=\"color: purple; margin: 10px 0 0;\">&#x1F49C; 20 <span style=\"margin-left: 5px; margin-top: 10px;\">&#x1F4AC; 6</span></p></div></div>"
      ],
      "text/plain": [
       "<IPython.core.display.HTML object>"
      ]
     },
     "metadata": {},
     "output_type": "display_data"
    },
    {
     "data": {
      "text/html": [
       "\n",
       "    <div style=\"border: 1px solid #ccc; max-width: 600px; padding: 25px; margin-bottom: 25px;\">\n",
       "        <div style=\"max-width: 550px; margin: 0 auto;\">\n",
       "            <p><strong><a href=\"https://searchcaster.xyz/search?merkleRoot=0x0fb5ce6e06d2d754e0f6c079c6a22e6f855cf732\" target=\"_blank\">merkleRoot</a></strong></p>\n",
       "            <p><strong>@matthew · fid 473</strong></p>\n",
       "            <div style=\"word-wrap: break-word; margin: 10px 0;\">Tonight is one of those nights where I want to take an edible and watch inception at volume 11</div>\n",
       "    <p style=\"color: purple; margin: 10px 0 0;\">&#x1F49C; 20 <span style=\"margin-left: 5px; margin-top: 10px;\">&#x1F4AC; 3</span></p></div></div>"
      ],
      "text/plain": [
       "<IPython.core.display.HTML object>"
      ]
     },
     "metadata": {},
     "output_type": "display_data"
    },
    {
     "data": {
      "text/html": [
       "\n",
       "    <div style=\"border: 1px solid #ccc; max-width: 600px; padding: 25px; margin-bottom: 25px;\">\n",
       "        <div style=\"max-width: 550px; margin: 0 auto;\">\n",
       "            <p><strong><a href=\"https://searchcaster.xyz/search?merkleRoot=0x570ac77a692c6985ab45a55df8d6da8f5d0f6e39\" target=\"_blank\">merkleRoot</a></strong></p>\n",
       "            <p><strong>@dk · fid 209</strong></p>\n",
       "            <div style=\"word-wrap: break-word; margin: 10px 0;\">how i meditate<br><br>#medicaster </div>\n",
       "    <div style=\"text-align: center;\"><img src=\"https://i.imgur.com/KbPesXT.jpg\" style=\"max-width: 550px; margin-top: 10px;\"></div><p style=\"color: purple; margin: 10px 0 0;\">&#x1F49C; 19 <span style=\"margin-left: 5px; margin-top: 10px;\">&#x1F4AC; 1</span></p></div></div>"
      ],
      "text/plain": [
       "<IPython.core.display.HTML object>"
      ]
     },
     "metadata": {},
     "output_type": "display_data"
    },
    {
     "data": {
      "text/html": [
       "\n",
       "    <div style=\"border: 1px solid #ccc; max-width: 600px; padding: 25px; margin-bottom: 25px;\">\n",
       "        <div style=\"max-width: 550px; margin: 0 auto;\">\n",
       "            <p><strong><a href=\"https://searchcaster.xyz/search?merkleRoot=0x848b94f6429f40a75814029f0257d25789e26419\" target=\"_blank\">merkleRoot</a></strong></p>\n",
       "            <p><strong>@mario · fid 1282</strong></p>\n",
       "            <div style=\"word-wrap: break-word; margin: 10px 0;\">gm<br><br>a good day for dreaming about living in a small stone house in the English countryside </div>\n",
       "    <div style=\"text-align: center;\"><img src=\"https://i.imgur.com/qUrE8vD.jpg\" style=\"max-width: 550px; margin-top: 10px;\"></div><p style=\"color: purple; margin: 10px 0 0;\">&#x1F49C; 19 <span style=\"margin-left: 5px; margin-top: 10px;\">&#x1F4AC; 1</span></p></div></div>"
      ],
      "text/plain": [
       "<IPython.core.display.HTML object>"
      ]
     },
     "metadata": {},
     "output_type": "display_data"
    },
    {
     "data": {
      "text/html": [
       "\n",
       "    <div style=\"border: 1px solid #ccc; max-width: 600px; padding: 25px; margin-bottom: 25px;\">\n",
       "        <div style=\"max-width: 550px; margin: 0 auto;\">\n",
       "            <p><strong><a href=\"https://searchcaster.xyz/search?merkleRoot=0x745f63e707cfff312c42f4e74cc2cfd5e880fea2\" target=\"_blank\">merkleRoot</a></strong></p>\n",
       "            <p><strong>@nick · fid 108</strong></p>\n",
       "            <div style=\"word-wrap: break-word; margin: 10px 0;\">Hard forks </div>\n",
       "    <div style=\"text-align: center;\"><img src=\"https://i.imgur.com/rGpTkDl.jpg\" style=\"max-width: 550px; margin-top: 10px;\"></div><p style=\"color: purple; margin: 10px 0 0;\">&#x1F49C; 19 <span style=\"margin-left: 5px; margin-top: 10px;\">&#x1F4AC; 5</span></p></div></div>"
      ],
      "text/plain": [
       "<IPython.core.display.HTML object>"
      ]
     },
     "metadata": {},
     "output_type": "display_data"
    },
    {
     "data": {
      "text/html": [
       "\n",
       "    <div style=\"border: 1px solid #ccc; max-width: 600px; padding: 25px; margin-bottom: 25px;\">\n",
       "        <div style=\"max-width: 550px; margin: 0 auto;\">\n",
       "            <p><strong><a href=\"https://searchcaster.xyz/search?merkleRoot=0xe24f0ef474f7ae78a05fb94645a483c83a183a84\" target=\"_blank\">merkleRoot</a></strong></p>\n",
       "            <p><strong>@ace · fid 539</strong></p>\n",
       "            <div style=\"word-wrap: break-word; margin: 10px 0;\">i love asking wholesomeass questions on farcaster.<br><br>where did u grow up? as a cast is helping people find more common roots here :)</div>\n",
       "    <p style=\"color: purple; margin: 10px 0 0;\">&#x1F49C; 19 <span style=\"margin-left: 5px; margin-top: 10px;\">&#x1F4AC; 23</span></p></div></div>"
      ],
      "text/plain": [
       "<IPython.core.display.HTML object>"
      ]
     },
     "metadata": {},
     "output_type": "display_data"
    },
    {
     "data": {
      "text/html": [
       "\n",
       "    <div style=\"border: 1px solid #ccc; max-width: 600px; padding: 25px; margin-bottom: 25px;\">\n",
       "        <div style=\"max-width: 550px; margin: 0 auto;\">\n",
       "            <p><strong><a href=\"https://searchcaster.xyz/search?merkleRoot=0x0fbd340a19bd85b80b188874e52691d45d5ad50b\" target=\"_blank\">merkleRoot</a></strong></p>\n",
       "            <p><strong>@ccarella · fid 472</strong></p>\n",
       "            <div style=\"word-wrap: break-word; margin: 10px 0;\">Today I joined @kamil and the team at CharmVerse as Head of Product. After a year of being a contributor to multiple DAOs, I fell in love with the CV vision and approach to solving some of the most common DAO ops problems.</div>\n",
       "    <p style=\"color: purple; margin: 10px 0 0;\">&#x1F49C; 19 <span style=\"margin-left: 5px; margin-top: 10px;\">&#x1F4AC; 7</span></p></div></div>"
      ],
      "text/plain": [
       "<IPython.core.display.HTML object>"
      ]
     },
     "metadata": {},
     "output_type": "display_data"
    },
    {
     "data": {
      "text/html": [
       "\n",
       "    <div style=\"border: 1px solid #ccc; max-width: 600px; padding: 25px; margin-bottom: 25px;\">\n",
       "        <div style=\"max-width: 550px; margin: 0 auto;\">\n",
       "            <p><strong><a href=\"https://searchcaster.xyz/search?merkleRoot=0x9e44e56e8ab6c519739fddaab10a921a9e8593c3\" target=\"_blank\">merkleRoot</a></strong></p>\n",
       "            <p><strong>@matthew · fid 473</strong></p>\n",
       "            <div style=\"word-wrap: break-word; margin: 10px 0;\">EventCaster updates:<br>- feed is a bit more colorful + has rsvp buttons<br>- virtual event map placeholder<br>- map defaults to most popular location<br>- clicking on pins now goes to the event<br>- loading states<br>- deep linking on mobile + map linking is fixed </div>\n",
       "    <div style=\"text-align: center;\"><img src=\"https://i.imgur.com/TwGlR54.jpg\" style=\"max-width: 550px; margin-top: 10px;\"></div><p style=\"color: purple; margin: 10px 0 0;\">&#x1F49C; 19 <span style=\"margin-left: 5px; margin-top: 10px;\">&#x1F4AC; 3</span></p></div></div>"
      ],
      "text/plain": [
       "<IPython.core.display.HTML object>"
      ]
     },
     "metadata": {},
     "output_type": "display_data"
    },
    {
     "data": {
      "text/html": [
       "\n",
       "    <div style=\"border: 1px solid #ccc; max-width: 600px; padding: 25px; margin-bottom: 25px;\">\n",
       "        <div style=\"max-width: 550px; margin: 0 auto;\">\n",
       "            <p><strong><a href=\"https://searchcaster.xyz/search?merkleRoot=0xe5cebdc6da32571ee8d4983de7abdcf6f194b752\" target=\"_blank\">merkleRoot</a></strong></p>\n",
       "            <p><strong>@dwr · fid 3</strong></p>\n",
       "            <div style=\"word-wrap: break-word; margin: 10px 0;\">Looking to invite more designers to Farcaster! <br><br>If you know a designer who might be interested, have them DM me on Twitter.</div>\n",
       "    <p style=\"color: purple; margin: 10px 0 0;\">&#x1F49C; 18 <span style=\"margin-left: 5px; margin-top: 10px;\">&#x1F4AC; 2</span></p></div></div>"
      ],
      "text/plain": [
       "<IPython.core.display.HTML object>"
      ]
     },
     "metadata": {},
     "output_type": "display_data"
    },
    {
     "data": {
      "text/html": [
       "\n",
       "    <div style=\"border: 1px solid #ccc; max-width: 600px; padding: 25px; margin-bottom: 25px;\">\n",
       "        <div style=\"max-width: 550px; margin: 0 auto;\">\n",
       "            <p><strong><a href=\"https://searchcaster.xyz/search?merkleRoot=0x45c2f75daf0dab64af2837a236a77bbb8c583cd3\" target=\"_blank\">merkleRoot</a></strong></p>\n",
       "            <p><strong>@jessepollak · fid 99</strong></p>\n",
       "            <div style=\"word-wrap: break-word; margin: 10px 0;\">farcaster ecosystem request: an auto generated index of all the usages of *-caster grouped by prefix and linked to most popular casts / links.</div>\n",
       "    <p style=\"color: purple; margin: 10px 0 0;\">&#x1F49C; 18 <span style=\"margin-left: 5px; margin-top: 10px;\">&#x1F4AC; 3</span></p></div></div>"
      ],
      "text/plain": [
       "<IPython.core.display.HTML object>"
      ]
     },
     "metadata": {},
     "output_type": "display_data"
    },
    {
     "data": {
      "text/html": [
       "\n",
       "    <div style=\"border: 1px solid #ccc; max-width: 600px; padding: 25px; margin-bottom: 25px;\">\n",
       "        <div style=\"max-width: 550px; margin: 0 auto;\">\n",
       "            <p><strong><a href=\"https://searchcaster.xyz/search?merkleRoot=0x5cab9d2b20ce607f3d03ce69b8ce845562fc1666\" target=\"_blank\">merkleRoot</a></strong></p>\n",
       "            <p><strong>@nick · fid 108</strong></p>\n",
       "            <div style=\"word-wrap: break-word; margin: 10px 0;\">Lazy investors </div>\n",
       "    <div style=\"text-align: center;\"><img src=\"https://i.imgur.com/LNbikeQ.jpg\" style=\"max-width: 550px; margin-top: 10px;\"></div><p style=\"color: purple; margin: 10px 0 0;\">&#x1F49C; 18 <span style=\"margin-left: 5px; margin-top: 10px;\">&#x1F4AC; 8</span></p></div></div>"
      ],
      "text/plain": [
       "<IPython.core.display.HTML object>"
      ]
     },
     "metadata": {},
     "output_type": "display_data"
    },
    {
     "data": {
      "text/html": [
       "\n",
       "    <div style=\"border: 1px solid #ccc; max-width: 600px; padding: 25px; margin-bottom: 25px;\">\n",
       "        <div style=\"max-width: 550px; margin: 0 auto;\">\n",
       "            <p><strong><a href=\"https://searchcaster.xyz/search?merkleRoot=0x01f53bb5cdeeaf8f2bb9e7bb4b43f78f31d1598b\" target=\"_blank\">merkleRoot</a></strong></p>\n",
       "            <p><strong>@hyper · fid 283</strong></p>\n",
       "            <div style=\"word-wrap: break-word; margin: 10px 0;\">There’s one thing Hannibal, Newton, and Ford all had in common<br><br>They were all obsessed with hyper optimizing their Zettelkasten knowledge graphs</div>\n",
       "    <p style=\"color: purple; margin: 10px 0 0;\">&#x1F49C; 18 <span style=\"margin-left: 5px; margin-top: 10px;\">&#x1F4AC; 2</span></p></div></div>"
      ],
      "text/plain": [
       "<IPython.core.display.HTML object>"
      ]
     },
     "metadata": {},
     "output_type": "display_data"
    },
    {
     "data": {
      "text/html": [
       "\n",
       "    <div style=\"border: 1px solid #ccc; max-width: 600px; padding: 25px; margin-bottom: 25px;\">\n",
       "        <div style=\"max-width: 550px; margin: 0 auto;\">\n",
       "            <p><strong><a href=\"https://searchcaster.xyz/search?merkleRoot=0xd426e24ed6943b264056abc776033eaed34881a1\" target=\"_blank\">merkleRoot</a></strong></p>\n",
       "            <p><strong>@masonic · fid 1231</strong></p>\n",
       "            <div style=\"word-wrap: break-word; margin: 10px 0;\">hi everyone</div>\n",
       "    <p style=\"color: purple; margin: 10px 0 0;\">&#x1F49C; 18 <span style=\"margin-left: 5px; margin-top: 10px;\">&#x1F4AC; 5</span></p></div></div>"
      ],
      "text/plain": [
       "<IPython.core.display.HTML object>"
      ]
     },
     "metadata": {},
     "output_type": "display_data"
    },
    {
     "data": {
      "text/html": [
       "\n",
       "    <div style=\"border: 1px solid #ccc; max-width: 600px; padding: 25px; margin-bottom: 25px;\">\n",
       "        <div style=\"max-width: 550px; margin: 0 auto;\">\n",
       "            <p><strong><a href=\"https://searchcaster.xyz/search?merkleRoot=0xb9926d680cef5609ec8075861a6b895978bd708e\" target=\"_blank\">merkleRoot</a></strong></p>\n",
       "            <p><strong>@ace · fid 539</strong></p>\n",
       "            <div style=\"word-wrap: break-word; margin: 10px 0;\">gm saturday gm hits different</div>\n",
       "    <p style=\"color: purple; margin: 10px 0 0;\">&#x1F49C; 18 <span style=\"margin-left: 5px; margin-top: 10px;\">&#x1F4AC; 0</span></p></div></div>"
      ],
      "text/plain": [
       "<IPython.core.display.HTML object>"
      ]
     },
     "metadata": {},
     "output_type": "display_data"
    },
    {
     "data": {
      "text/html": [
       "\n",
       "    <div style=\"border: 1px solid #ccc; max-width: 600px; padding: 25px; margin-bottom: 25px;\">\n",
       "        <div style=\"max-width: 550px; margin: 0 auto;\">\n",
       "            <p><strong><a href=\"https://searchcaster.xyz/search?merkleRoot=0xb85ed25e6e5d097d875b5634abea5e4065c7e4e8\" target=\"_blank\">merkleRoot</a></strong></p>\n",
       "            <p><strong>@aarthi · fid 645</strong></p>\n",
       "            <div style=\"word-wrap: break-word; margin: 10px 0;\">New Good Time Show episode that some of you may enjoy - @sriramk and I got a chance to interview Tyler Cowen and it was quite fun! <a href=\"https://youtu.be/Nii_umO030A\" target=\"_blank\">https://youtu.be/Nii_umO030A</a></div>\n",
       "    <p style=\"color: purple; margin: 10px 0 0;\">&#x1F49C; 18 <span style=\"margin-left: 5px; margin-top: 10px;\">&#x1F4AC; 2</span></p></div></div>"
      ],
      "text/plain": [
       "<IPython.core.display.HTML object>"
      ]
     },
     "metadata": {},
     "output_type": "display_data"
    },
    {
     "data": {
      "text/html": [
       "\n",
       "    <div style=\"border: 1px solid #ccc; max-width: 600px; padding: 25px; margin-bottom: 25px;\">\n",
       "        <div style=\"max-width: 550px; margin: 0 auto;\">\n",
       "            <p><strong><a href=\"https://searchcaster.xyz/search?merkleRoot=0x460ae5e583978262a3385120bb07033c70f14eb6\" target=\"_blank\">merkleRoot</a></strong></p>\n",
       "            <p><strong>@phil · fid 129</strong></p>\n",
       "            <div style=\"word-wrap: break-word; margin: 10px 0;\">I will never get used to the racket that has developed at airport security. <br><br>The charade of throwing away toothpaste in the name of National Security is completely bonkers. The issue is that this industry now employs so many people it’s completely ingrained into the economy</div>\n",
       "    <p style=\"color: purple; margin: 10px 0 0;\">&#x1F49C; 18 <span style=\"margin-left: 5px; margin-top: 10px;\">&#x1F4AC; 2</span></p></div></div>"
      ],
      "text/plain": [
       "<IPython.core.display.HTML object>"
      ]
     },
     "metadata": {},
     "output_type": "display_data"
    },
    {
     "data": {
      "text/html": [
       "\n",
       "    <div style=\"border: 1px solid #ccc; max-width: 600px; padding: 25px; margin-bottom: 25px;\">\n",
       "        <div style=\"max-width: 550px; margin: 0 auto;\">\n",
       "            <p><strong><a href=\"https://searchcaster.xyz/search?merkleRoot=0xb953b4020d4385f4b11c96059c24e20e8e050a0a\" target=\"_blank\">merkleRoot</a></strong></p>\n",
       "            <p><strong>@v · fid 2</strong></p>\n",
       "            <div style=\"word-wrap: break-word; margin: 10px 0;\">GM devs of farcaster 🌻<br><br>Want to help us ship v2 faster? There are more than 20 open issues and contributions of all sizes are welcome!  <br><br>We just wrote up a quick guide on getting started: <a href=\"https://github.com/farcasterxyz/hub/blob/main/CONTRIBUTING.md\" target=\"_blank\">https://github.com/farcasterxyz/hub/blob/main/CONTRIBUTING.md</a></div>\n",
       "    <p style=\"color: purple; margin: 10px 0 0;\">&#x1F49C; 17 <span style=\"margin-left: 5px; margin-top: 10px;\">&#x1F4AC; 0</span></p></div></div>"
      ],
      "text/plain": [
       "<IPython.core.display.HTML object>"
      ]
     },
     "metadata": {},
     "output_type": "display_data"
    },
    {
     "data": {
      "text/html": [
       "\n",
       "    <div style=\"border: 1px solid #ccc; max-width: 600px; padding: 25px; margin-bottom: 25px;\">\n",
       "        <div style=\"max-width: 550px; margin: 0 auto;\">\n",
       "            <p><strong><a href=\"https://searchcaster.xyz/search?merkleRoot=0xf5e99c0fd1841305aed64387290cc73a3e17f831\" target=\"_blank\">merkleRoot</a></strong></p>\n",
       "            <p><strong>@pdr · fid 474</strong></p>\n",
       "            <div style=\"word-wrap: break-word; margin: 10px 0;\">gn<br><br>desert gradient </div>\n",
       "    <div style=\"text-align: center;\"><img src=\"https://i.imgur.com/4Sft0ZK.jpg\" style=\"max-width: 550px; margin-top: 10px;\"></div><p style=\"color: purple; margin: 10px 0 0;\">&#x1F49C; 17 <span style=\"margin-left: 5px; margin-top: 10px;\">&#x1F4AC; 1</span></p></div></div>"
      ],
      "text/plain": [
       "<IPython.core.display.HTML object>"
      ]
     },
     "metadata": {},
     "output_type": "display_data"
    },
    {
     "data": {
      "text/html": [
       "\n",
       "    <div style=\"border: 1px solid #ccc; max-width: 600px; padding: 25px; margin-bottom: 25px;\">\n",
       "        <div style=\"max-width: 550px; margin: 0 auto;\">\n",
       "            <p><strong><a href=\"https://searchcaster.xyz/search?merkleRoot=0xdeb9b5dfc89bc1769f7c48e090718ddcf66a74cf\" target=\"_blank\">merkleRoot</a></strong></p>\n",
       "            <p><strong>@alvesjtiago · fid 762</strong></p>\n",
       "            <div style=\"word-wrap: break-word; margin: 10px 0;\">Couldn't sleep last night and Castalytics was born 📊<br><br>castalytics.vercel.app </div>\n",
       "    <div style=\"text-align: center;\"><img src=\"https://i.imgur.com/qesdTID.png\" style=\"max-width: 550px; margin-top: 10px;\"></div><p style=\"color: purple; margin: 10px 0 0;\">&#x1F49C; 17 <span style=\"margin-left: 5px; margin-top: 10px;\">&#x1F4AC; 7</span></p></div></div>"
      ],
      "text/plain": [
       "<IPython.core.display.HTML object>"
      ]
     },
     "metadata": {},
     "output_type": "display_data"
    },
    {
     "data": {
      "text/html": [
       "\n",
       "    <div style=\"border: 1px solid #ccc; max-width: 600px; padding: 25px; margin-bottom: 25px;\">\n",
       "        <div style=\"max-width: 550px; margin: 0 auto;\">\n",
       "            <p><strong><a href=\"https://searchcaster.xyz/search?merkleRoot=0x7b95599d167f4c0cae5fb9e8b60185a42ce50c5a\" target=\"_blank\">merkleRoot</a></strong></p>\n",
       "            <p><strong>@dwr · fid 3</strong></p>\n",
       "            <div style=\"word-wrap: break-word; margin: 10px 0;\">Idle Sunday idea — not sure if it even works.<br><br><a href=\"https://en.wikipedia.org/wiki/Keynesian_beauty_contest\" target=\"_blank\">https://en.wikipedia.org/wiki/Keynesian_beauty_contest</a> </div>\n",
       "    <div style=\"text-align: center;\"><img src=\"https://i.imgur.com/bfw61w4.jpg\" style=\"max-width: 550px; margin-top: 10px;\"></div><p style=\"color: purple; margin: 10px 0 0;\">&#x1F49C; 17 <span style=\"margin-left: 5px; margin-top: 10px;\">&#x1F4AC; 7</span></p></div></div>"
      ],
      "text/plain": [
       "<IPython.core.display.HTML object>"
      ]
     },
     "metadata": {},
     "output_type": "display_data"
    },
    {
     "data": {
      "text/html": [
       "\n",
       "    <div style=\"border: 1px solid #ccc; max-width: 600px; padding: 25px; margin-bottom: 25px;\">\n",
       "        <div style=\"max-width: 550px; margin: 0 auto;\">\n",
       "            <p><strong><a href=\"https://searchcaster.xyz/search?merkleRoot=0x271e4d1b55e1a0788875a9d8b74df7441552c0d9\" target=\"_blank\">merkleRoot</a></strong></p>\n",
       "            <p><strong>@0xen · fid 528</strong></p>\n",
       "            <div style=\"word-wrap: break-word; margin: 10px 0;\">Shazam still the wildest and most magical app ever created.</div>\n",
       "    <p style=\"color: purple; margin: 10px 0 0;\">&#x1F49C; 17 <span style=\"margin-left: 5px; margin-top: 10px;\">&#x1F4AC; 3</span></p></div></div>"
      ],
      "text/plain": [
       "<IPython.core.display.HTML object>"
      ]
     },
     "metadata": {},
     "output_type": "display_data"
    },
    {
     "data": {
      "text/html": [
       "\n",
       "    <div style=\"border: 1px solid #ccc; max-width: 600px; padding: 25px; margin-bottom: 25px;\">\n",
       "        <div style=\"max-width: 550px; margin: 0 auto;\">\n",
       "            <p><strong><a href=\"https://searchcaster.xyz/search?merkleRoot=0x88dea6ea28b8758244aec369a67ef5c02fddf31c\" target=\"_blank\">merkleRoot</a></strong></p>\n",
       "            <p><strong>@minh · fid 999</strong></p>\n",
       "            <div style=\"word-wrap: break-word; margin: 10px 0;\">After meeting a group of Farcasters in person yesterday, I'm even more obsessed with Farcaster.</div>\n",
       "    <p style=\"color: purple; margin: 10px 0 0;\">&#x1F49C; 17 <span style=\"margin-left: 5px; margin-top: 10px;\">&#x1F4AC; 1</span></p></div></div>"
      ],
      "text/plain": [
       "<IPython.core.display.HTML object>"
      ]
     },
     "metadata": {},
     "output_type": "display_data"
    },
    {
     "data": {
      "text/html": [
       "\n",
       "    <div style=\"border: 1px solid #ccc; max-width: 600px; padding: 25px; margin-bottom: 25px;\">\n",
       "        <div style=\"max-width: 550px; margin: 0 auto;\">\n",
       "            <p><strong><a href=\"https://searchcaster.xyz/search?merkleRoot=0x3692a8a1f8963f1cfeda76cf2de588b33b96eaec\" target=\"_blank\">merkleRoot</a></strong></p>\n",
       "            <p><strong>@dbasch · fid 1179</strong></p>\n",
       "            <div style=\"word-wrap: break-word; margin: 10px 0;\">The best thing about growing up in the 80s / 90s was that we didn't have to make an effort to spend time offline.</div>\n",
       "    <p style=\"color: purple; margin: 10px 0 0;\">&#x1F49C; 17 <span style=\"margin-left: 5px; margin-top: 10px;\">&#x1F4AC; 4</span></p></div></div>"
      ],
      "text/plain": [
       "<IPython.core.display.HTML object>"
      ]
     },
     "metadata": {},
     "output_type": "display_data"
    },
    {
     "data": {
      "text/html": [
       "\n",
       "    <div style=\"border: 1px solid #ccc; max-width: 600px; padding: 25px; margin-bottom: 25px;\">\n",
       "        <div style=\"max-width: 550px; margin: 0 auto;\">\n",
       "            <p><strong><a href=\"https://searchcaster.xyz/search?merkleRoot=0x82604646a1b04c5d6cf3bccf6baf74b53ba17859\" target=\"_blank\">merkleRoot</a></strong></p>\n",
       "            <p><strong>@brianjckim · fid 426</strong></p>\n",
       "            <div style=\"word-wrap: break-word; margin: 10px 0;\">gm </div>\n",
       "    <div style=\"text-align: center;\"><img src=\"https://i.imgur.com/fTr2DFL.jpg\" style=\"max-width: 550px; margin-top: 10px;\"></div><p style=\"color: purple; margin: 10px 0 0;\">&#x1F49C; 17 <span style=\"margin-left: 5px; margin-top: 10px;\">&#x1F4AC; 2</span></p></div></div>"
      ],
      "text/plain": [
       "<IPython.core.display.HTML object>"
      ]
     },
     "metadata": {},
     "output_type": "display_data"
    },
    {
     "data": {
      "text/html": [
       "\n",
       "    <div style=\"border: 1px solid #ccc; max-width: 600px; padding: 25px; margin-bottom: 25px;\">\n",
       "        <div style=\"max-width: 550px; margin: 0 auto;\">\n",
       "            <p><strong><a href=\"https://searchcaster.xyz/search?merkleRoot=0x6ab94643e19b2465d59216fb740d55cd78e3f4b6\" target=\"_blank\">merkleRoot</a></strong></p>\n",
       "            <p><strong>@ace · fid 539</strong></p>\n",
       "            <div style=\"word-wrap: break-word; margin: 10px 0;\">it’s just so heartwarming to see people organically use what we made. <br><br>long live farcaster 🫡</div>\n",
       "    <p style=\"color: purple; margin: 10px 0 0;\">&#x1F49C; 17 <span style=\"margin-left: 5px; margin-top: 10px;\">&#x1F4AC; 2</span></p></div></div>"
      ],
      "text/plain": [
       "<IPython.core.display.HTML object>"
      ]
     },
     "metadata": {},
     "output_type": "display_data"
    },
    {
     "data": {
      "text/html": [
       "\n",
       "    <div style=\"border: 1px solid #ccc; max-width: 600px; padding: 25px; margin-bottom: 25px;\">\n",
       "        <div style=\"max-width: 550px; margin: 0 auto;\">\n",
       "            <p><strong><a href=\"https://searchcaster.xyz/search?merkleRoot=0x3dc95b9014dd7f0a7159f5dcb2d5a01d829b4433\" target=\"_blank\">merkleRoot</a></strong></p>\n",
       "            <p><strong>@akigue · fid 677</strong></p>\n",
       "            <div style=\"word-wrap: break-word; margin: 10px 0;\">I think FC is the perfect example of this </div>\n",
       "    <div style=\"text-align: center;\"><img src=\"https://i.imgur.com/HRAyO9H.jpg\" style=\"max-width: 550px; margin-top: 10px;\"></div><p style=\"color: purple; margin: 10px 0 0;\">&#x1F49C; 17 <span style=\"margin-left: 5px; margin-top: 10px;\">&#x1F4AC; 1</span></p></div></div>"
      ],
      "text/plain": [
       "<IPython.core.display.HTML object>"
      ]
     },
     "metadata": {},
     "output_type": "display_data"
    },
    {
     "data": {
      "text/html": [
       "\n",
       "    <div style=\"border: 1px solid #ccc; max-width: 600px; padding: 25px; margin-bottom: 25px;\">\n",
       "        <div style=\"max-width: 550px; margin: 0 auto;\">\n",
       "            <p><strong><a href=\"https://searchcaster.xyz/search?merkleRoot=0x11ce3913d401717561179bff8cf674512e03bee7\" target=\"_blank\">merkleRoot</a></strong></p>\n",
       "            <p><strong>@vm · fid 325</strong></p>\n",
       "            <div style=\"word-wrap: break-word; margin: 10px 0;\">surprised we haven't seen a \"round up your transaction/gas to the nearest $ and donate to charity/send to savings\" in web3 yet</div>\n",
       "    <p style=\"color: purple; margin: 10px 0 0;\">&#x1F49C; 17 <span style=\"margin-left: 5px; margin-top: 10px;\">&#x1F4AC; 1</span></p></div></div>"
      ],
      "text/plain": [
       "<IPython.core.display.HTML object>"
      ]
     },
     "metadata": {},
     "output_type": "display_data"
    },
    {
     "data": {
      "text/html": [
       "\n",
       "    <div style=\"border: 1px solid #ccc; max-width: 600px; padding: 25px; margin-bottom: 25px;\">\n",
       "        <div style=\"max-width: 550px; margin: 0 auto;\">\n",
       "            <p><strong><a href=\"https://searchcaster.xyz/search?merkleRoot=0x5b649a630ea8e6453f50d78182f4ddfaae7567b4\" target=\"_blank\">merkleRoot</a></strong></p>\n",
       "            <p><strong>@mk · fid 143</strong></p>\n",
       "            <div style=\"word-wrap: break-word; margin: 10px 0;\">I believe ~90% of people derive truth from other people, not facts, whether they are aware of it or not. I think this is an evolutionary social advantage.<br>It also makes me wary of large groups of people with a common conviction.</div>\n",
       "    <p style=\"color: purple; margin: 10px 0 0;\">&#x1F49C; 16 <span style=\"margin-left: 5px; margin-top: 10px;\">&#x1F4AC; 5</span></p></div></div>"
      ],
      "text/plain": [
       "<IPython.core.display.HTML object>"
      ]
     },
     "metadata": {},
     "output_type": "display_data"
    },
    {
     "data": {
      "text/html": [
       "\n",
       "    <div style=\"border: 1px solid #ccc; max-width: 600px; padding: 25px; margin-bottom: 25px;\">\n",
       "        <div style=\"max-width: 550px; margin: 0 auto;\">\n",
       "            <p><strong><a href=\"https://searchcaster.xyz/search?merkleRoot=0xd279fdbc1b1c254561c11c19a3b335c72806c582\" target=\"_blank\">merkleRoot</a></strong></p>\n",
       "            <p><strong>@colin · fid 378</strong></p>\n",
       "            <div style=\"word-wrap: break-word; margin: 10px 0;\">Never realized that YouTube didn't have a target audience when it launched. Lots of trial-and-error to find the type of content creators that needed it. </div>\n",
       "    <div style=\"text-align: center;\"><img src=\"https://i.imgur.com/wdtk11E.png\" style=\"max-width: 550px; margin-top: 10px;\"></div><p style=\"color: purple; margin: 10px 0 0;\">&#x1F49C; 16 <span style=\"margin-left: 5px; margin-top: 10px;\">&#x1F4AC; 2</span></p></div></div>"
      ],
      "text/plain": [
       "<IPython.core.display.HTML object>"
      ]
     },
     "metadata": {},
     "output_type": "display_data"
    },
    {
     "data": {
      "text/html": [
       "\n",
       "    <div style=\"border: 1px solid #ccc; max-width: 600px; padding: 25px; margin-bottom: 25px;\">\n",
       "        <div style=\"max-width: 550px; margin: 0 auto;\">\n",
       "            <p><strong><a href=\"https://searchcaster.xyz/search?merkleRoot=0xf42f61d7bf598f44322298681ad7c5977298ab36\" target=\"_blank\">merkleRoot</a></strong></p>\n",
       "            <p><strong>@hyper · fid 283</strong></p>\n",
       "            <div style=\"word-wrap: break-word; margin: 10px 0;\">By 2030 gross market cap of all companies started by Farcasters (started after joining) will exceed $1 trilly</div>\n",
       "    <p style=\"color: purple; margin: 10px 0 0;\">&#x1F49C; 16 <span style=\"margin-left: 5px; margin-top: 10px;\">&#x1F4AC; 5</span></p></div></div>"
      ],
      "text/plain": [
       "<IPython.core.display.HTML object>"
      ]
     },
     "metadata": {},
     "output_type": "display_data"
    },
    {
     "data": {
      "text/html": [
       "\n",
       "    <div style=\"border: 1px solid #ccc; max-width: 600px; padding: 25px; margin-bottom: 25px;\">\n",
       "        <div style=\"max-width: 550px; margin: 0 auto;\">\n",
       "            <p><strong><a href=\"https://searchcaster.xyz/search?merkleRoot=0xaecf10a0f3a944ad23ec152aa67378a8215c6df0\" target=\"_blank\">merkleRoot</a></strong></p>\n",
       "            <p><strong>@ace · fid 539</strong></p>\n",
       "            <div style=\"word-wrap: break-word; margin: 10px 0;\">if you stay long enough in the game, you run into each other again. I wrote to a cornell alum whose co. was acquired when I was starting out with one minute (first vc-backed co.).<br><br>he's on farcaster, and wanted to get on @perl 😌- and ofc he's in. </div>\n",
       "    <div style=\"text-align: center;\"><img src=\"https://i.imgur.com/6xE77yQ.png\" style=\"max-width: 550px; margin-top: 10px;\"></div><p style=\"color: purple; margin: 10px 0 0;\">&#x1F49C; 16 <span style=\"margin-left: 5px; margin-top: 10px;\">&#x1F4AC; 1</span></p></div></div>"
      ],
      "text/plain": [
       "<IPython.core.display.HTML object>"
      ]
     },
     "metadata": {},
     "output_type": "display_data"
    },
    {
     "data": {
      "text/html": [
       "\n",
       "    <div style=\"border: 1px solid #ccc; max-width: 600px; padding: 25px; margin-bottom: 25px;\">\n",
       "        <div style=\"max-width: 550px; margin: 0 auto;\">\n",
       "            <p><strong><a href=\"https://searchcaster.xyz/search?merkleRoot=0x98d7b7e3be78c0a8ad2ca3ac5ffef1fecd498ec2\" target=\"_blank\">merkleRoot</a></strong></p>\n",
       "            <p><strong>@ace · fid 539</strong></p>\n",
       "            <div style=\"word-wrap: break-word; margin: 10px 0;\">Who else wants to try @perl alpha? About to whitelist the next wave of alpha users, so.. <br><br> 📣Recast if you want in today!<br><br>Averaging 6 perls per user and the leaderboard is heating up with @gm8xx8 @dylsteck @kamil @tharun @bonam @madhur<br> </div>\n",
       "    <div style=\"text-align: center;\"><img src=\"https://i.imgur.com/OCG7mkc.jpg\" style=\"max-width: 550px; margin-top: 10px;\"></div><p style=\"color: purple; margin: 10px 0 0;\">&#x1F49C; 16 <span style=\"margin-left: 5px; margin-top: 10px;\">&#x1F4AC; 8</span></p></div></div>"
      ],
      "text/plain": [
       "<IPython.core.display.HTML object>"
      ]
     },
     "metadata": {},
     "output_type": "display_data"
    },
    {
     "data": {
      "text/html": [
       "\n",
       "    <div style=\"border: 1px solid #ccc; max-width: 600px; padding: 25px; margin-bottom: 25px;\">\n",
       "        <div style=\"max-width: 550px; margin: 0 auto;\">\n",
       "            <p><strong><a href=\"https://searchcaster.xyz/search?merkleRoot=0x26da6b5b724490304556adb0be725b0d56ccfc9d\" target=\"_blank\">merkleRoot</a></strong></p>\n",
       "            <p><strong>@pushix · fid 359</strong></p>\n",
       "            <div style=\"word-wrap: break-word; margin: 10px 0;\">This is dope @gregskril @w1nt3r </div>\n",
       "    <div style=\"text-align: center;\"><img src=\"https://i.imgur.com/75Tj9BQ.jpg\" style=\"max-width: 550px; margin-top: 10px;\"></div><p style=\"color: purple; margin: 10px 0 0;\">&#x1F49C; 16 <span style=\"margin-left: 5px; margin-top: 10px;\">&#x1F4AC; 1</span></p></div></div>"
      ],
      "text/plain": [
       "<IPython.core.display.HTML object>"
      ]
     },
     "metadata": {},
     "output_type": "display_data"
    },
    {
     "data": {
      "text/html": [
       "\n",
       "    <div style=\"border: 1px solid #ccc; max-width: 600px; padding: 25px; margin-bottom: 25px;\">\n",
       "        <div style=\"max-width: 550px; margin: 0 auto;\">\n",
       "            <p><strong><a href=\"https://searchcaster.xyz/search?merkleRoot=0xc6dc086f08e0052029d5b6ad999682209999322e\" target=\"_blank\">merkleRoot</a></strong></p>\n",
       "            <p><strong>@aizimuthal · fid 783</strong></p>\n",
       "            <div style=\"word-wrap: break-word; margin: 10px 0;\">how i meditate </div>\n",
       "    <div style=\"text-align: center;\"><img src=\"https://i.imgur.com/XMfCbYi.jpg\" style=\"max-width: 550px; margin-top: 10px;\"></div><p style=\"color: purple; margin: 10px 0 0;\">&#x1F49C; 16 <span style=\"margin-left: 5px; margin-top: 10px;\">&#x1F4AC; 1</span></p></div></div>"
      ],
      "text/plain": [
       "<IPython.core.display.HTML object>"
      ]
     },
     "metadata": {},
     "output_type": "display_data"
    },
    {
     "data": {
      "text/html": [
       "\n",
       "    <div style=\"border: 1px solid #ccc; max-width: 600px; padding: 25px; margin-bottom: 25px;\">\n",
       "        <div style=\"max-width: 550px; margin: 0 auto;\">\n",
       "            <p><strong><a href=\"https://searchcaster.xyz/search?merkleRoot=0xba23a8d4087dbf0072bdb27c949ee92e515b3592\" target=\"_blank\">merkleRoot</a></strong></p>\n",
       "            <p><strong>@jacob · fid 8</strong></p>\n",
       "            <div style=\"word-wrap: break-word; margin: 10px 0;\">mid logic:<br>by definition most people are mid<br>therefore the most mid will gain the the most attention <br><br>implications:<br>build for the mid<br><br>posit:<br>mid solutions dont lead to mid adoption<br>smooth brain most likely to work for mid </div>\n",
       "    <div style=\"text-align: center;\"><img src=\"https://i.imgur.com/vscdXX0.jpg\" style=\"max-width: 550px; margin-top: 10px;\"></div><p style=\"color: purple; margin: 10px 0 0;\">&#x1F49C; 16 <span style=\"margin-left: 5px; margin-top: 10px;\">&#x1F4AC; 1</span></p></div></div>"
      ],
      "text/plain": [
       "<IPython.core.display.HTML object>"
      ]
     },
     "metadata": {},
     "output_type": "display_data"
    },
    {
     "data": {
      "text/html": [
       "\n",
       "    <div style=\"border: 1px solid #ccc; max-width: 600px; padding: 25px; margin-bottom: 25px;\">\n",
       "        <div style=\"max-width: 550px; margin: 0 auto;\">\n",
       "            <p><strong><a href=\"https://searchcaster.xyz/search?merkleRoot=0xabdfbb7a80e1a3078912b4e3f372f12a5fd36fd4\" target=\"_blank\">merkleRoot</a></strong></p>\n",
       "            <p><strong>@ace · fid 539</strong></p>\n",
       "            <div style=\"word-wrap: break-word; margin: 10px 0;\">I’d pay a lot of money to see the exact recording of Adam Neumann’s pitch to @pmarca <br><br>Being great at story telling is such an important craft.</div>\n",
       "    <p style=\"color: purple; margin: 10px 0 0;\">&#x1F49C; 16 <span style=\"margin-left: 5px; margin-top: 10px;\">&#x1F4AC; 1</span></p></div></div>"
      ],
      "text/plain": [
       "<IPython.core.display.HTML object>"
      ]
     },
     "metadata": {},
     "output_type": "display_data"
    },
    {
     "data": {
      "text/html": [
       "\n",
       "    <div style=\"border: 1px solid #ccc; max-width: 600px; padding: 25px; margin-bottom: 25px;\">\n",
       "        <div style=\"max-width: 550px; margin: 0 auto;\">\n",
       "            <p><strong><a href=\"https://searchcaster.xyz/search?merkleRoot=0x091e916759b74add5053fec1cfb0b0b49078a208\" target=\"_blank\">merkleRoot</a></strong></p>\n",
       "            <p><strong>@dwr · fid 3</strong></p>\n",
       "            <div style=\"word-wrap: break-word; margin: 10px 0;\">anyone use this type of keyboard? </div>\n",
       "    <div style=\"text-align: center;\"><img src=\"https://i.imgur.com/kHeYghW.jpg\" style=\"max-width: 550px; margin-top: 10px;\"></div><p style=\"color: purple; margin: 10px 0 0;\">&#x1F49C; 16 <span style=\"margin-left: 5px; margin-top: 10px;\">&#x1F4AC; 22</span></p></div></div>"
      ],
      "text/plain": [
       "<IPython.core.display.HTML object>"
      ]
     },
     "metadata": {},
     "output_type": "display_data"
    },
    {
     "data": {
      "text/html": [
       "\n",
       "    <div style=\"border: 1px solid #ccc; max-width: 600px; padding: 25px; margin-bottom: 25px;\">\n",
       "        <div style=\"max-width: 550px; margin: 0 auto;\">\n",
       "            <p><strong><a href=\"https://searchcaster.xyz/search?merkleRoot=0x67daba003a32df5002f3c7dca4ae7c7b50a9a728\" target=\"_blank\">merkleRoot</a></strong></p>\n",
       "            <p><strong>@dwr · fid 3</strong></p>\n",
       "            <div style=\"word-wrap: break-word; margin: 10px 0;\">Interesting new concept from @sriramk:<br><br>“Universal basic status”<br><br><a href=\"https://a16zcrypto.com/social-network-status-traps-web2-learnings/\" target=\"_blank\">https://a16zcrypto.com/social-network-status-traps-web2-learnings/</a></div>\n",
       "    <p style=\"color: purple; margin: 10px 0 0;\">&#x1F49C; 16 <span style=\"margin-left: 5px; margin-top: 10px;\">&#x1F4AC; 8</span></p></div></div>"
      ],
      "text/plain": [
       "<IPython.core.display.HTML object>"
      ]
     },
     "metadata": {},
     "output_type": "display_data"
    },
    {
     "data": {
      "text/html": [
       "\n",
       "    <div style=\"border: 1px solid #ccc; max-width: 600px; padding: 25px; margin-bottom: 25px;\">\n",
       "        <div style=\"max-width: 550px; margin: 0 auto;\">\n",
       "            <p><strong><a href=\"https://searchcaster.xyz/search?merkleRoot=0xc86887e9713e35c809bfd719829a4bc21b77f757\" target=\"_blank\">merkleRoot</a></strong></p>\n",
       "            <p><strong>@ace · fid 539</strong></p>\n",
       "            <div style=\"word-wrap: break-word; margin: 10px 0;\">sharing an idea with clarity is challenging because it takes a lot to create a compelling, relatable context in order for the idea to make sense to those who are not myself.</div>\n",
       "    <p style=\"color: purple; margin: 10px 0 0;\">&#x1F49C; 16 <span style=\"margin-left: 5px; margin-top: 10px;\">&#x1F4AC; 5</span></p></div></div>"
      ],
      "text/plain": [
       "<IPython.core.display.HTML object>"
      ]
     },
     "metadata": {},
     "output_type": "display_data"
    }
   ],
   "source": [
    "# TWLY: This Week Last Year - August 13 - August 19, 2022\n",
    "# Compiled using Farcaster-Indexer & Searchcaster \n",
    "\n",
    "https://github.com/gskril/farcaster-indexer\n",
    "https://searchcaster.xyz"
   ]
  },
  {
   "cell_type": "code",
   "execution_count": null,
   "id": "b0ddc894",
   "metadata": {},
   "outputs": [],
   "source": []
  }
 ],
 "metadata": {
  "kernelspec": {
   "display_name": "Python 3 (ipykernel)",
   "language": "python",
   "name": "python3"
  },
  "language_info": {
   "codemirror_mode": {
    "name": "ipython",
    "version": 3
   },
   "file_extension": ".py",
   "mimetype": "text/x-python",
   "name": "python",
   "nbconvert_exporter": "python",
   "pygments_lexer": "ipython3",
   "version": "3.9.13"
  }
 },
 "nbformat": 4,
 "nbformat_minor": 5
}
