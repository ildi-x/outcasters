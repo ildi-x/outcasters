{
 "cells": [
  {
   "cell_type": "code",
   "execution_count": 1,
   "id": "a49ee2ef",
   "metadata": {
    "scrolled": false
   },
   "outputs": [
    {
     "data": {
      "text/html": [
       "\n",
       "    <div style=\"max-width: 600px; margin-bottom: 25px;\">\n",
       "        <h2 style=\"margin-bottom: 15px;\">Total Casts</h2>\n",
       "        <p style=\"font-size: 18x; margin: 5px 0 5px;\">Including Replies: 6968</p>\n",
       "        <p style=\"font-size: 18x; margin: 5px 0;\">Excluding Replies: 2048</p>\n",
       "    </div>\n"
      ],
      "text/plain": [
       "<IPython.core.display.HTML object>"
      ]
     },
     "metadata": {},
     "output_type": "display_data"
    },
    {
     "data": {
      "text/html": [
       "<h2>Top 30 Most Active Users (Excluding Replies)</h2>"
      ],
      "text/plain": [
       "<IPython.core.display.HTML object>"
      ]
     },
     "metadata": {},
     "output_type": "display_data"
    },
    {
     "data": {
      "text/html": [
       "<p>Only original casts are considered for this calculation. Replies are excluded.</p>"
      ],
      "text/plain": [
       "<IPython.core.display.HTML object>"
      ]
     },
     "metadata": {},
     "output_type": "display_data"
    },
    {
     "data": {
      "text/html": [
       "<ol><li>juan - 62 casts</li><li>dwr - 58 casts</li><li>ace - 49 casts</li><li>alexanderchopan - 46 casts</li><li>abc - 43 casts</li><li>j4ck - 38 casts</li><li>cameron - 30 casts</li><li>fn - 24 casts</li><li>giu - 23 casts</li><li>lndnnft - 23 casts</li><li>mcbain - 21 casts</li><li>matthew - 21 casts</li><li>briang - 20 casts</li><li>pushix - 19 casts</li><li>alexpaden - 19 casts</li><li>yashkarthik - 16 casts</li><li>hyper - 16 casts</li><li>aho - 16 casts</li><li>core - 16 casts</li><li>ccarella - 16 casts</li><li>0xen - 15 casts</li><li>phil - 15 casts</li><li>kepano - 15 casts</li><li>mk - 15 casts</li><li>kn - 14 casts</li><li>bias - 14 casts</li><li>shawki - 13 casts</li><li>dylsteck - 13 casts</li><li>jayme - 13 casts</li><li>ddd4 - 12 casts</li></ol>"
      ],
      "text/plain": [
       "<IPython.core.display.HTML object>"
      ]
     },
     "metadata": {},
     "output_type": "display_data"
    },
    {
     "data": {
      "text/html": [
       "<h2>Top 30 Most Active Users (Including Replies)</h2>"
      ],
      "text/plain": [
       "<IPython.core.display.HTML object>"
      ]
     },
     "metadata": {},
     "output_type": "display_data"
    },
    {
     "data": {
      "text/html": [
       "<p>All casts, including replies, are considered for this calculation.</p>"
      ],
      "text/plain": [
       "<IPython.core.display.HTML object>"
      ]
     },
     "metadata": {},
     "output_type": "display_data"
    },
    {
     "data": {
      "text/html": [
       "<ol><li>j4ck - 234 casts</li><li>dwr - 222 casts</li><li>perl - 189 casts</li><li>cameron - 158 casts</li><li>alexpaden - 152 casts</li><li>juan - 148 casts</li><li>ace - 147 casts</li><li>0xen - 141 casts</li><li>giu - 92 casts</li><li>alexanderchopan - 90 casts</li><li>cassie - 75 casts</li><li>jayme - 74 casts</li><li>phil - 71 casts</li><li>0xwaw - 70 casts</li><li>bias - 70 casts</li><li>ccarella - 69 casts</li><li>briang - 68 casts</li><li>lndnnft - 68 casts</li><li>matthew - 65 casts</li><li>mcbain - 63 casts</li><li>july - 61 casts</li><li>eq - 61 casts</li><li>aho - 59 casts</li><li>karthiksenthil - 58 casts</li><li>a16zcrypto - 55 casts</li><li>manansh - 54 casts</li><li>alpha - 54 casts</li><li>kepano - 52 casts</li><li>pushix - 50 casts</li><li>aman - 50 casts</li></ol>"
      ],
      "text/plain": [
       "<IPython.core.display.HTML object>"
      ]
     },
     "metadata": {},
     "output_type": "display_data"
    },
    {
     "data": {
      "text/html": [
       "<h2>Top 100 casts ranked by total likes</h2>"
      ],
      "text/plain": [
       "<IPython.core.display.HTML object>"
      ]
     },
     "metadata": {},
     "output_type": "display_data"
    },
    {
     "data": {
      "text/html": [
       "\n",
       "    <div style=\"border: 1px solid #ccc; max-width: 600px; padding: 25px; margin-bottom: 25px;\">\n",
       "        <div style=\"max-width: 550px; margin: 0 auto;\">\n",
       "            <p><strong><a href=\"https://searchcaster.xyz/search?merkleRoot=0x35e1b4b7567ecf29f8e1219a83e263825997655e\" target=\"_blank\">merkleRoot</a></strong></p>\n",
       "            <p><strong>@cdixon · fid 25</strong></p>\n",
       "            <div style=\"word-wrap: break-word; margin: 10px 0;\">Crypto is endlessly interesting: computer science, economics, game theory, culture, games, finance, media, product design, go-to-market, legal/policy, and more.</div>\n",
       "    <p style=\"color: purple; margin: 10px 0 0;\">&#x1F49C; 119 <span style=\"margin-left: 5px; margin-top: 10px;\">&#x1F4AC; 12</span></p></div></div>"
      ],
      "text/plain": [
       "<IPython.core.display.HTML object>"
      ]
     },
     "metadata": {},
     "output_type": "display_data"
    },
    {
     "data": {
      "text/html": [
       "\n",
       "    <div style=\"border: 1px solid #ccc; max-width: 600px; padding: 25px; margin-bottom: 25px;\">\n",
       "        <div style=\"max-width: 550px; margin: 0 auto;\">\n",
       "            <p><strong><a href=\"https://searchcaster.xyz/search?merkleRoot=0x8b6736b4e33f3cc990540035474942af0ed83354\" target=\"_blank\">merkleRoot</a></strong></p>\n",
       "            <p><strong>@zebulgar · fid 137</strong></p>\n",
       "            <div style=\"word-wrap: break-word; margin: 10px 0;\">people hold bitcoin as a hedge against currency collapse<br><br>im on farcaster as a hedge against twitter policy team collapse</div>\n",
       "    <p style=\"color: purple; margin: 10px 0 0;\">&#x1F49C; 71 <span style=\"margin-left: 5px; margin-top: 10px;\">&#x1F4AC; 9</span></p></div></div>"
      ],
      "text/plain": [
       "<IPython.core.display.HTML object>"
      ]
     },
     "metadata": {},
     "output_type": "display_data"
    },
    {
     "data": {
      "text/html": [
       "\n",
       "    <div style=\"border: 1px solid #ccc; max-width: 600px; padding: 25px; margin-bottom: 25px;\">\n",
       "        <div style=\"max-width: 550px; margin: 0 auto;\">\n",
       "            <p><strong><a href=\"https://searchcaster.xyz/search?merkleRoot=0x424e7dcf74cb7c3cc80bb05a5825949d43d3c7ea\" target=\"_blank\">merkleRoot</a></strong></p>\n",
       "            <p><strong>@dwr · fid 3</strong></p>\n",
       "            <div style=\"word-wrap: break-word; margin: 10px 0;\">Fun fact: the more steps (i.e. friction) we've added to the Farcaster app sign up flow, the better retention has been.</div>\n",
       "    <p style=\"color: purple; margin: 10px 0 0;\">&#x1F49C; 70 <span style=\"margin-left: 5px; margin-top: 10px;\">&#x1F4AC; 16</span></p></div></div>"
      ],
      "text/plain": [
       "<IPython.core.display.HTML object>"
      ]
     },
     "metadata": {},
     "output_type": "display_data"
    },
    {
     "data": {
      "text/html": [
       "\n",
       "    <div style=\"border: 1px solid #ccc; max-width: 600px; padding: 25px; margin-bottom: 25px;\">\n",
       "        <div style=\"max-width: 550px; margin: 0 auto;\">\n",
       "            <p><strong><a href=\"https://searchcaster.xyz/search?merkleRoot=0xb9154a01170210c63ea20daee358d89295aae10c\" target=\"_blank\">merkleRoot</a></strong></p>\n",
       "            <p><strong>@tim · fid 207</strong></p>\n",
       "            <div style=\"word-wrap: break-word; margin: 10px 0;\">gm (good merge)</div>\n",
       "    <p style=\"color: purple; margin: 10px 0 0;\">&#x1F49C; 68 <span style=\"margin-left: 5px; margin-top: 10px;\">&#x1F4AC; 9</span></p></div></div>"
      ],
      "text/plain": [
       "<IPython.core.display.HTML object>"
      ]
     },
     "metadata": {},
     "output_type": "display_data"
    },
    {
     "data": {
      "text/html": [
       "\n",
       "    <div style=\"border: 1px solid #ccc; max-width: 600px; padding: 25px; margin-bottom: 25px;\">\n",
       "        <div style=\"max-width: 550px; margin: 0 auto;\">\n",
       "            <p><strong><a href=\"https://searchcaster.xyz/search?merkleRoot=0x45f0178b35dcb2920bdc5f10a99ae94090a9ff0c\" target=\"_blank\">merkleRoot</a></strong></p>\n",
       "            <p><strong>@tim · fid 207</strong></p>\n",
       "            <div style=\"word-wrap: break-word; margin: 10px 0;\">proof of stake, y'all.  </div>\n",
       "    <div style=\"text-align: center;\"><img src=\"https://i.imgur.com/xosmNSp.png\" style=\"max-width: 550px; margin-top: 10px;\"></div><p style=\"color: purple; margin: 10px 0 0;\">&#x1F49C; 64 <span style=\"margin-left: 5px; margin-top: 10px;\">&#x1F4AC; 5</span></p></div></div>"
      ],
      "text/plain": [
       "<IPython.core.display.HTML object>"
      ]
     },
     "metadata": {},
     "output_type": "display_data"
    },
    {
     "data": {
      "text/html": [
       "\n",
       "    <div style=\"border: 1px solid #ccc; max-width: 600px; padding: 25px; margin-bottom: 25px;\">\n",
       "        <div style=\"max-width: 550px; margin: 0 auto;\">\n",
       "            <p><strong><a href=\"https://searchcaster.xyz/search?merkleRoot=0xecee33ebf2068cfefd9d86310ca385bc8e0243f3\" target=\"_blank\">merkleRoot</a></strong></p>\n",
       "            <p><strong>@dwr · fid 3</strong></p>\n",
       "            <div style=\"word-wrap: break-word; margin: 10px 0;\">People use products not protocols. Developers want to build on protocols with the most people. Solve for X.</div>\n",
       "    <p style=\"color: purple; margin: 10px 0 0;\">&#x1F49C; 62 <span style=\"margin-left: 5px; margin-top: 10px;\">&#x1F4AC; 2</span></p></div></div>"
      ],
      "text/plain": [
       "<IPython.core.display.HTML object>"
      ]
     },
     "metadata": {},
     "output_type": "display_data"
    },
    {
     "data": {
      "text/html": [
       "\n",
       "    <div style=\"border: 1px solid #ccc; max-width: 600px; padding: 25px; margin-bottom: 25px;\">\n",
       "        <div style=\"max-width: 550px; margin: 0 auto;\">\n",
       "            <p><strong><a href=\"https://searchcaster.xyz/search?merkleRoot=0x9efbb5aa06c35a2f8d898917e73e5443dd154932\" target=\"_blank\">merkleRoot</a></strong></p>\n",
       "            <p><strong>@dwr · fid 3</strong></p>\n",
       "            <div style=\"word-wrap: break-word; margin: 10px 0;\">gm good merge day</div>\n",
       "    <p style=\"color: purple; margin: 10px 0 0;\">&#x1F49C; 61 <span style=\"margin-left: 5px; margin-top: 10px;\">&#x1F4AC; 5</span></p></div></div>"
      ],
      "text/plain": [
       "<IPython.core.display.HTML object>"
      ]
     },
     "metadata": {},
     "output_type": "display_data"
    },
    {
     "data": {
      "text/html": [
       "\n",
       "    <div style=\"border: 1px solid #ccc; max-width: 600px; padding: 25px; margin-bottom: 25px;\">\n",
       "        <div style=\"max-width: 550px; margin: 0 auto;\">\n",
       "            <p><strong><a href=\"https://searchcaster.xyz/search?merkleRoot=0x4796ad77572d10f9cdd876ffc76fcac10a9c624a\" target=\"_blank\">merkleRoot</a></strong></p>\n",
       "            <p><strong>@dwr · fid 3</strong></p>\n",
       "            <div style=\"word-wrap: break-word; margin: 10px 0;\">Just crossed following 3000 accounts on Farcaster!</div>\n",
       "    <p style=\"color: purple; margin: 10px 0 0;\">&#x1F49C; 58 <span style=\"margin-left: 5px; margin-top: 10px;\">&#x1F4AC; 2</span></p></div></div>"
      ],
      "text/plain": [
       "<IPython.core.display.HTML object>"
      ]
     },
     "metadata": {},
     "output_type": "display_data"
    },
    {
     "data": {
      "text/html": [
       "\n",
       "    <div style=\"border: 1px solid #ccc; max-width: 600px; padding: 25px; margin-bottom: 25px;\">\n",
       "        <div style=\"max-width: 550px; margin: 0 auto;\">\n",
       "            <p><strong><a href=\"https://searchcaster.xyz/search?merkleRoot=0xb891db88d58ec40717f3b13db0adc00f036c9580\" target=\"_blank\">merkleRoot</a></strong></p>\n",
       "            <p><strong>@sriramk · fid 43</strong></p>\n",
       "            <div style=\"word-wrap: break-word; margin: 10px 0;\">What a historic moment and accomplishment.</div>\n",
       "    <p style=\"color: purple; margin: 10px 0 0;\">&#x1F49C; 50 <span style=\"margin-left: 5px; margin-top: 10px;\">&#x1F4AC; 0</span></p></div></div>"
      ],
      "text/plain": [
       "<IPython.core.display.HTML object>"
      ]
     },
     "metadata": {},
     "output_type": "display_data"
    },
    {
     "data": {
      "text/html": [
       "\n",
       "    <div style=\"border: 1px solid #ccc; max-width: 600px; padding: 25px; margin-bottom: 25px;\">\n",
       "        <div style=\"max-width: 550px; margin: 0 auto;\">\n",
       "            <p><strong><a href=\"https://searchcaster.xyz/search?merkleRoot=0x4fc6c5fa207f8848c0294e2671437b2187f93e75\" target=\"_blank\">merkleRoot</a></strong></p>\n",
       "            <p><strong>@v · fid 2</strong></p>\n",
       "            <div style=\"word-wrap: break-word; margin: 10px 0;\">....and it's finalized<br><br>gn all, what a day <br><br> </div>\n",
       "    <div style=\"text-align: center;\"><img src=\"https://i.imgur.com/YVjBMxM.png\" style=\"max-width: 550px; margin-top: 10px;\"></div><p style=\"color: purple; margin: 10px 0 0;\">&#x1F49C; 50 <span style=\"margin-left: 5px; margin-top: 10px;\">&#x1F4AC; 2</span></p></div></div>"
      ],
      "text/plain": [
       "<IPython.core.display.HTML object>"
      ]
     },
     "metadata": {},
     "output_type": "display_data"
    },
    {
     "data": {
      "text/html": [
       "\n",
       "    <div style=\"border: 1px solid #ccc; max-width: 600px; padding: 25px; margin-bottom: 25px;\">\n",
       "        <div style=\"max-width: 550px; margin: 0 auto;\">\n",
       "            <p><strong><a href=\"https://searchcaster.xyz/search?merkleRoot=0xf1a3a4104a7d41c0b5d6e416cb6cca0bb68747de\" target=\"_blank\">merkleRoot</a></strong></p>\n",
       "            <p><strong>@dwr · fid 3</strong></p>\n",
       "            <div style=\"word-wrap: break-word; margin: 10px 0;\">If you could have 1 person / account from the bird app move over to Farcaster exclusively, who would it be and why?<br><br>For me, Vitalik.</div>\n",
       "    <p style=\"color: purple; margin: 10px 0 0;\">&#x1F49C; 48 <span style=\"margin-left: 5px; margin-top: 10px;\">&#x1F4AC; 39</span></p></div></div>"
      ],
      "text/plain": [
       "<IPython.core.display.HTML object>"
      ]
     },
     "metadata": {},
     "output_type": "display_data"
    },
    {
     "data": {
      "text/html": [
       "\n",
       "    <div style=\"border: 1px solid #ccc; max-width: 600px; padding: 25px; margin-bottom: 25px;\">\n",
       "        <div style=\"max-width: 550px; margin: 0 auto;\">\n",
       "            <p><strong><a href=\"https://searchcaster.xyz/search?merkleRoot=0xf01b61981edc130b7a19fa0c0322ec9850975502\" target=\"_blank\">merkleRoot</a></strong></p>\n",
       "            <p><strong>@cassie · fid 1325</strong></p>\n",
       "            <div style=\"word-wrap: break-word; margin: 10px 0;\">gn </div>\n",
       "    <div style=\"text-align: center;\"><img src=\"https://i.imgur.com/QKw2i9p.png\" style=\"max-width: 550px; margin-top: 10px;\"></div><p style=\"color: purple; margin: 10px 0 0;\">&#x1F49C; 47 <span style=\"margin-left: 5px; margin-top: 10px;\">&#x1F4AC; 2</span></p></div></div>"
      ],
      "text/plain": [
       "<IPython.core.display.HTML object>"
      ]
     },
     "metadata": {},
     "output_type": "display_data"
    },
    {
     "data": {
      "text/html": [
       "\n",
       "    <div style=\"border: 1px solid #ccc; max-width: 600px; padding: 25px; margin-bottom: 25px;\">\n",
       "        <div style=\"max-width: 550px; margin: 0 auto;\">\n",
       "            <p><strong><a href=\"https://searchcaster.xyz/search?merkleRoot=0x6e65944ae023e0f9edfe8bd2939aab1058b2dd7e\" target=\"_blank\">merkleRoot</a></strong></p>\n",
       "            <p><strong>@tim · fid 207</strong></p>\n",
       "            <div style=\"word-wrap: break-word; margin: 10px 0;\">Feels wild there’s literally only 5 days of POW Ethereum left. We’ve been talking about this for >5Y and we’re now less than a week away. Surreal.</div>\n",
       "    <p style=\"color: purple; margin: 10px 0 0;\">&#x1F49C; 46 <span style=\"margin-left: 5px; margin-top: 10px;\">&#x1F4AC; 3</span></p></div></div>"
      ],
      "text/plain": [
       "<IPython.core.display.HTML object>"
      ]
     },
     "metadata": {},
     "output_type": "display_data"
    },
    {
     "data": {
      "text/html": [
       "\n",
       "    <div style=\"border: 1px solid #ccc; max-width: 600px; padding: 25px; margin-bottom: 25px;\">\n",
       "        <div style=\"max-width: 550px; margin: 0 auto;\">\n",
       "            <p><strong><a href=\"https://searchcaster.xyz/search?merkleRoot=0x7b52b794350d879e1dd3787807f8dbbae0113f27\" target=\"_blank\">merkleRoot</a></strong></p>\n",
       "            <p><strong>@vercelabloh · fid 324</strong></p>\n",
       "            <div style=\"word-wrap: break-word; margin: 10px 0;\">I've finally figured out what Farcaster feels like to me — Clubhouse during Pandemic S1 — you're surrounded by really smart people and learning a lot. You're still on other networks, but this one has the most value.</div>\n",
       "    <p style=\"color: purple; margin: 10px 0 0;\">&#x1F49C; 43 <span style=\"margin-left: 5px; margin-top: 10px;\">&#x1F4AC; 5</span></p></div></div>"
      ],
      "text/plain": [
       "<IPython.core.display.HTML object>"
      ]
     },
     "metadata": {},
     "output_type": "display_data"
    },
    {
     "data": {
      "text/html": [
       "\n",
       "    <div style=\"border: 1px solid #ccc; max-width: 600px; padding: 25px; margin-bottom: 25px;\">\n",
       "        <div style=\"max-width: 550px; margin: 0 auto;\">\n",
       "            <p><strong><a href=\"https://searchcaster.xyz/search?merkleRoot=0x3f9983246c2316c009926e4af0bbcb50789df6e9\" target=\"_blank\">merkleRoot</a></strong></p>\n",
       "            <p><strong>@mason · fid 50</strong></p>\n",
       "            <div style=\"word-wrap: break-word; margin: 10px 0;\">Announcing Proof of Merge: a fully on-chain, dynamic, soulbound NFT that changes as The Merge happens. We use the changing block.difficulty value to detect the merge on-chain. Free mint. a16z's CantBeEvil CCO licensed<br><a href=\"https://www.proofofmerge.xyz/\" target=\"_blank\">https://www.proofofmerge.xyz/</a> </div>\n",
       "    <div style=\"text-align: center;\"><img src=\"https://i.imgur.com/tCowZZd.gif\" style=\"max-width: 550px; margin-top: 10px;\"></div><p style=\"color: purple; margin: 10px 0 0;\">&#x1F49C; 41 <span style=\"margin-left: 5px; margin-top: 10px;\">&#x1F4AC; 8</span></p></div></div>"
      ],
      "text/plain": [
       "<IPython.core.display.HTML object>"
      ]
     },
     "metadata": {},
     "output_type": "display_data"
    },
    {
     "data": {
      "text/html": [
       "\n",
       "    <div style=\"border: 1px solid #ccc; max-width: 600px; padding: 25px; margin-bottom: 25px;\">\n",
       "        <div style=\"max-width: 550px; margin: 0 auto;\">\n",
       "            <p><strong><a href=\"https://searchcaster.xyz/search?merkleRoot=0xbfd36193ef23247055714e082978a966ea85c29f\" target=\"_blank\">merkleRoot</a></strong></p>\n",
       "            <p><strong>@phil · fid 129</strong></p>\n",
       "            <div style=\"word-wrap: break-word; margin: 10px 0;\">Babe wake up, new Thiel talk<br><br><a href=\"https://youtu.be/balGGAd6ZrI\" target=\"_blank\">https://youtu.be/balGGAd6ZrI</a></div>\n",
       "    <p style=\"color: purple; margin: 10px 0 0;\">&#x1F49C; 41 <span style=\"margin-left: 5px; margin-top: 10px;\">&#x1F4AC; 3</span></p></div></div>"
      ],
      "text/plain": [
       "<IPython.core.display.HTML object>"
      ]
     },
     "metadata": {},
     "output_type": "display_data"
    },
    {
     "data": {
      "text/html": [
       "\n",
       "    <div style=\"border: 1px solid #ccc; max-width: 600px; padding: 25px; margin-bottom: 25px;\">\n",
       "        <div style=\"max-width: 550px; margin: 0 auto;\">\n",
       "            <p><strong><a href=\"https://searchcaster.xyz/search?merkleRoot=0x5d2023b864d338a082503d69401edf8ad7d486fc\" target=\"_blank\">merkleRoot</a></strong></p>\n",
       "            <p><strong>@eddy · fid 48</strong></p>\n",
       "            <div style=\"word-wrap: break-word; margin: 10px 0;\">The Merge is huge — technically, economically, geographically. But our phenomenological experience of it is so small: a few lines will print on a terminal.<br><br>For most, their entire experience of the Merge will be reading others’ reactions.</div>\n",
       "    <p style=\"color: purple; margin: 10px 0 0;\">&#x1F49C; 41 <span style=\"margin-left: 5px; margin-top: 10px;\">&#x1F4AC; 2</span></p></div></div>"
      ],
      "text/plain": [
       "<IPython.core.display.HTML object>"
      ]
     },
     "metadata": {},
     "output_type": "display_data"
    },
    {
     "data": {
      "text/html": [
       "\n",
       "    <div style=\"border: 1px solid #ccc; max-width: 600px; padding: 25px; margin-bottom: 25px;\">\n",
       "        <div style=\"max-width: 550px; margin: 0 auto;\">\n",
       "            <p><strong><a href=\"https://searchcaster.xyz/search?merkleRoot=0x1d61e91bf084700c050cc268d20cc1f097d9ca37\" target=\"_blank\">merkleRoot</a></strong></p>\n",
       "            <p><strong>@dwr · fid 3</strong></p>\n",
       "            <div style=\"word-wrap: break-word; margin: 10px 0;\">Hypothetical -- if you could only visit 1 country (other than the one you live in now) for the rest of your life, what would it be and why?<br><br>either France or Japan for me; food + natural beauty</div>\n",
       "    <p style=\"color: purple; margin: 10px 0 0;\">&#x1F49C; 41 <span style=\"margin-left: 5px; margin-top: 10px;\">&#x1F4AC; 54</span></p></div></div>"
      ],
      "text/plain": [
       "<IPython.core.display.HTML object>"
      ]
     },
     "metadata": {},
     "output_type": "display_data"
    },
    {
     "data": {
      "text/html": [
       "\n",
       "    <div style=\"border: 1px solid #ccc; max-width: 600px; padding: 25px; margin-bottom: 25px;\">\n",
       "        <div style=\"max-width: 550px; margin: 0 auto;\">\n",
       "            <p><strong><a href=\"https://searchcaster.xyz/search?merkleRoot=0x96acbd0bf027caa4dc39cc9421bb7429c2dd1c11\" target=\"_blank\">merkleRoot</a></strong></p>\n",
       "            <p><strong>@bli · fid 1338</strong></p>\n",
       "            <div style=\"word-wrap: break-word; margin: 10px 0;\">Just wasted hours trying to solve a config problem only two find the answer in a stackoverflow comment from over a year ago. And it was my own comment... </div>\n",
       "    <div style=\"text-align: center;\"><img src=\"https://i.imgur.com/mcSirEm.jpg\" style=\"max-width: 550px; margin-top: 10px;\"></div><p style=\"color: purple; margin: 10px 0 0;\">&#x1F49C; 39 <span style=\"margin-left: 5px; margin-top: 10px;\">&#x1F4AC; 5</span></p></div></div>"
      ],
      "text/plain": [
       "<IPython.core.display.HTML object>"
      ]
     },
     "metadata": {},
     "output_type": "display_data"
    },
    {
     "data": {
      "text/html": [
       "\n",
       "    <div style=\"border: 1px solid #ccc; max-width: 600px; padding: 25px; margin-bottom: 25px;\">\n",
       "        <div style=\"max-width: 550px; margin: 0 auto;\">\n",
       "            <p><strong><a href=\"https://searchcaster.xyz/search?merkleRoot=0xad747d0d8e5b85daa3b4155ae8c51b886c840379\" target=\"_blank\">merkleRoot</a></strong></p>\n",
       "            <p><strong>@ace · fid 539</strong></p>\n",
       "            <div style=\"word-wrap: break-word; margin: 10px 0;\">would you attend a hypothetical bi-weekly gathering on clubhouse for casters to drink and smoke weed and talk wild on audio?</div>\n",
       "    <p style=\"color: purple; margin: 10px 0 0;\">&#x1F49C; 39 <span style=\"margin-left: 5px; margin-top: 10px;\">&#x1F4AC; 14</span></p></div></div>"
      ],
      "text/plain": [
       "<IPython.core.display.HTML object>"
      ]
     },
     "metadata": {},
     "output_type": "display_data"
    },
    {
     "data": {
      "text/html": [
       "\n",
       "    <div style=\"border: 1px solid #ccc; max-width: 600px; padding: 25px; margin-bottom: 25px;\">\n",
       "        <div style=\"max-width: 550px; margin: 0 auto;\">\n",
       "            <p><strong><a href=\"https://searchcaster.xyz/search?merkleRoot=0x40cd5406647cb266b3a549402c55dd77368e2e30\" target=\"_blank\">merkleRoot</a></strong></p>\n",
       "            <p><strong>@meesh · fid 847</strong></p>\n",
       "            <div style=\"word-wrap: break-word; margin: 10px 0;\">I got banned from talking about web3 at work. TG if you're hiring 💬</div>\n",
       "    <p style=\"color: purple; margin: 10px 0 0;\">&#x1F49C; 39 <span style=\"margin-left: 5px; margin-top: 10px;\">&#x1F4AC; 11</span></p></div></div>"
      ],
      "text/plain": [
       "<IPython.core.display.HTML object>"
      ]
     },
     "metadata": {},
     "output_type": "display_data"
    },
    {
     "data": {
      "text/html": [
       "\n",
       "    <div style=\"border: 1px solid #ccc; max-width: 600px; padding: 25px; margin-bottom: 25px;\">\n",
       "        <div style=\"max-width: 550px; margin: 0 auto;\">\n",
       "            <p><strong><a href=\"https://searchcaster.xyz/search?merkleRoot=0xb8831c796f32eaa4ef1320f48915456b89036970\" target=\"_blank\">merkleRoot</a></strong></p>\n",
       "            <p><strong>@zebulgar · fid 137</strong></p>\n",
       "            <div style=\"word-wrap: break-word; margin: 10px 0;\">We should be imposing age-limits on Congress/Senate<br><br>While also significantly increasing the salary of elected officials<br><br>Make it an appealing career path w/ high upside so more talented folks want to take that path rather than just power-addicts  </div>\n",
       "    <div style=\"text-align: center;\"><img src=\"https://i.imgur.com/wBS0huu.png\" style=\"max-width: 550px; margin-top: 10px;\"></div><p style=\"color: purple; margin: 10px 0 0;\">&#x1F49C; 37 <span style=\"margin-left: 5px; margin-top: 10px;\">&#x1F4AC; 9</span></p></div></div>"
      ],
      "text/plain": [
       "<IPython.core.display.HTML object>"
      ]
     },
     "metadata": {},
     "output_type": "display_data"
    },
    {
     "data": {
      "text/html": [
       "\n",
       "    <div style=\"border: 1px solid #ccc; max-width: 600px; padding: 25px; margin-bottom: 25px;\">\n",
       "        <div style=\"max-width: 550px; margin: 0 auto;\">\n",
       "            <p><strong><a href=\"https://searchcaster.xyz/search?merkleRoot=0xc03abd577c64c748569835460890d7b75547bfab\" target=\"_blank\">merkleRoot</a></strong></p>\n",
       "            <p><strong>@dwr · fid 3</strong></p>\n",
       "            <div style=\"word-wrap: break-word; margin: 10px 0;\">Congrats on launching @scharf @aman <br><br><a href=\"https://stelolabs.com\" target=\"_blank\">https://stelolabs.com</a> </div>\n",
       "    <div style=\"text-align: center;\"><img src=\"https://i.imgur.com/9uYDS3b.jpg\" style=\"max-width: 550px; margin-top: 10px;\"></div><p style=\"color: purple; margin: 10px 0 0;\">&#x1F49C; 37 <span style=\"margin-left: 5px; margin-top: 10px;\">&#x1F4AC; 4</span></p></div></div>"
      ],
      "text/plain": [
       "<IPython.core.display.HTML object>"
      ]
     },
     "metadata": {},
     "output_type": "display_data"
    },
    {
     "data": {
      "text/html": [
       "\n",
       "    <div style=\"border: 1px solid #ccc; max-width: 600px; padding: 25px; margin-bottom: 25px;\">\n",
       "        <div style=\"max-width: 550px; margin: 0 auto;\">\n",
       "            <p><strong><a href=\"https://searchcaster.xyz/search?merkleRoot=0xc81d6e98e8c401de0a5f3cc8a9a62eafe71cd3ef\" target=\"_blank\">merkleRoot</a></strong></p>\n",
       "            <p><strong>@cdixon · fid 25</strong></p>\n",
       "            <div style=\"word-wrap: break-word; margin: 10px 0;\">someone pointed out:<br><br>in movies when they want to show characters are happy they are shown doing hobbies or physical activities.<br><br>when they want to show characters are depressed they are shown watching TV.</div>\n",
       "    <p style=\"color: purple; margin: 10px 0 0;\">&#x1F49C; 36 <span style=\"margin-left: 5px; margin-top: 10px;\">&#x1F4AC; 2</span></p></div></div>"
      ],
      "text/plain": [
       "<IPython.core.display.HTML object>"
      ]
     },
     "metadata": {},
     "output_type": "display_data"
    },
    {
     "data": {
      "text/html": [
       "\n",
       "    <div style=\"border: 1px solid #ccc; max-width: 600px; padding: 25px; margin-bottom: 25px;\">\n",
       "        <div style=\"max-width: 550px; margin: 0 auto;\">\n",
       "            <p><strong><a href=\"https://searchcaster.xyz/search?merkleRoot=0x1ef9bd72718fd5a6487a4ce63c45b74609f2f546\" target=\"_blank\">merkleRoot</a></strong></p>\n",
       "            <p><strong>@ccarella · fid 472</strong></p>\n",
       "            <div style=\"word-wrap: break-word; margin: 10px 0;\">Anyone want to go in on a Noun? 69 Farcasters, 1 ETH each.</div>\n",
       "    <p style=\"color: purple; margin: 10px 0 0;\">&#x1F49C; 35 <span style=\"margin-left: 5px; margin-top: 10px;\">&#x1F4AC; 18</span></p></div></div>"
      ],
      "text/plain": [
       "<IPython.core.display.HTML object>"
      ]
     },
     "metadata": {},
     "output_type": "display_data"
    },
    {
     "data": {
      "text/html": [
       "\n",
       "    <div style=\"border: 1px solid #ccc; max-width: 600px; padding: 25px; margin-bottom: 25px;\">\n",
       "        <div style=\"max-width: 550px; margin: 0 auto;\">\n",
       "            <p><strong><a href=\"https://searchcaster.xyz/search?merkleRoot=0x3d5b7b4507b5e39e281f338e248db7d5807f2b99\" target=\"_blank\">merkleRoot</a></strong></p>\n",
       "            <p><strong>@dwr · fid 3</strong></p>\n",
       "            <div style=\"word-wrap: break-word; margin: 10px 0;\">How I mostly use the bird app these days </div>\n",
       "    <div style=\"text-align: center;\"><img src=\"https://i.imgur.com/7ehR5AE.jpg\" style=\"max-width: 550px; margin-top: 10px;\"></div><p style=\"color: purple; margin: 10px 0 0;\">&#x1F49C; 34 <span style=\"margin-left: 5px; margin-top: 10px;\">&#x1F4AC; 2</span></p></div></div>"
      ],
      "text/plain": [
       "<IPython.core.display.HTML object>"
      ]
     },
     "metadata": {},
     "output_type": "display_data"
    },
    {
     "data": {
      "text/html": [
       "\n",
       "    <div style=\"border: 1px solid #ccc; max-width: 600px; padding: 25px; margin-bottom: 25px;\">\n",
       "        <div style=\"max-width: 550px; margin: 0 auto;\">\n",
       "            <p><strong><a href=\"https://searchcaster.xyz/search?merkleRoot=0x5a004a5c08b6e8c0c31ff551ca5eafa8c6ee995b\" target=\"_blank\">merkleRoot</a></strong></p>\n",
       "            <p><strong>@a16zcrypto · fid 1786</strong></p>\n",
       "            <div style=\"word-wrap: break-word; margin: 10px 0;\">What's your favorite Farcaster account to follow rn?<br><br>and why?</div>\n",
       "    <p style=\"color: purple; margin: 10px 0 0;\">&#x1F49C; 34 <span style=\"margin-left: 5px; margin-top: 10px;\">&#x1F4AC; 16</span></p></div></div>"
      ],
      "text/plain": [
       "<IPython.core.display.HTML object>"
      ]
     },
     "metadata": {},
     "output_type": "display_data"
    },
    {
     "data": {
      "text/html": [
       "\n",
       "    <div style=\"border: 1px solid #ccc; max-width: 600px; padding: 25px; margin-bottom: 25px;\">\n",
       "        <div style=\"max-width: 550px; margin: 0 auto;\">\n",
       "            <p><strong><a href=\"https://searchcaster.xyz/search?merkleRoot=0xca61a5c86634c32f38d9f0ee279ebdbae9abe97e\" target=\"_blank\">merkleRoot</a></strong></p>\n",
       "            <p><strong>@ethandaya · fid 1706</strong></p>\n",
       "            <div style=\"word-wrap: break-word; margin: 10px 0;\">I think a core reason farcaster hits so different rn is not seeing 17x promoted tweets for pfp projects every 3 tweets</div>\n",
       "    <p style=\"color: purple; margin: 10px 0 0;\">&#x1F49C; 34 <span style=\"margin-left: 5px; margin-top: 10px;\">&#x1F4AC; 1</span></p></div></div>"
      ],
      "text/plain": [
       "<IPython.core.display.HTML object>"
      ]
     },
     "metadata": {},
     "output_type": "display_data"
    },
    {
     "data": {
      "text/html": [
       "\n",
       "    <div style=\"border: 1px solid #ccc; max-width: 600px; padding: 25px; margin-bottom: 25px;\">\n",
       "        <div style=\"max-width: 550px; margin: 0 auto;\">\n",
       "            <p><strong><a href=\"https://searchcaster.xyz/search?merkleRoot=0xf44cf51617bf62163559ac30baca11ea170a0468\" target=\"_blank\">merkleRoot</a></strong></p>\n",
       "            <p><strong>@cdixon · fid 25</strong></p>\n",
       "            <div style=\"word-wrap: break-word; margin: 10px 0;\">The number of websites is unbounded. Nevertheless, some websites are very valuable. <br><br>A website’s value is depends on the portion of the aggregate flow of attention it receives.<br><br>The same logic will likely apply to next-gen spaces such as metaverse land.</div>\n",
       "    <p style=\"color: purple; margin: 10px 0 0;\">&#x1F49C; 33 <span style=\"margin-left: 5px; margin-top: 10px;\">&#x1F4AC; 4</span></p></div></div>"
      ],
      "text/plain": [
       "<IPython.core.display.HTML object>"
      ]
     },
     "metadata": {},
     "output_type": "display_data"
    },
    {
     "data": {
      "text/html": [
       "\n",
       "    <div style=\"border: 1px solid #ccc; max-width: 600px; padding: 25px; margin-bottom: 25px;\">\n",
       "        <div style=\"max-width: 550px; margin: 0 auto;\">\n",
       "            <p><strong><a href=\"https://searchcaster.xyz/search?merkleRoot=0x672b4c994e6fed74c87329e7751a42dbbc24d371\" target=\"_blank\">merkleRoot</a></strong></p>\n",
       "            <p><strong>@cdixon · fid 25</strong></p>\n",
       "            <div style=\"word-wrap: break-word; margin: 10px 0;\">Currently part way through this series and really impressed - excellent mix of history, philosophy, cognitive science <br><br>“Awakening from the Meaning Crisis” <br><br><a href=\"https://youtu.be/54l8_ewcOlY\" target=\"_blank\">https://youtu.be/54l8_ewcOlY</a></div>\n",
       "    <p style=\"color: purple; margin: 10px 0 0;\">&#x1F49C; 33 <span style=\"margin-left: 5px; margin-top: 10px;\">&#x1F4AC; 6</span></p></div></div>"
      ],
      "text/plain": [
       "<IPython.core.display.HTML object>"
      ]
     },
     "metadata": {},
     "output_type": "display_data"
    },
    {
     "data": {
      "text/html": [
       "\n",
       "    <div style=\"border: 1px solid #ccc; max-width: 600px; padding: 25px; margin-bottom: 25px;\">\n",
       "        <div style=\"max-width: 550px; margin: 0 auto;\">\n",
       "            <p><strong><a href=\"https://searchcaster.xyz/search?merkleRoot=0x1a7733ccc3b62077bb55c153d6618d882ace95d2\" target=\"_blank\">merkleRoot</a></strong></p>\n",
       "            <p><strong>@dwr · fid 3</strong></p>\n",
       "            <div style=\"word-wrap: break-word; margin: 10px 0;\">Strongly held opinion:<br><br>Why do big companies tend to not get crypto?<br><br>They can’t handle permissionlessness and relinquishing control.</div>\n",
       "    <p style=\"color: purple; margin: 10px 0 0;\">&#x1F49C; 33 <span style=\"margin-left: 5px; margin-top: 10px;\">&#x1F4AC; 16</span></p></div></div>"
      ],
      "text/plain": [
       "<IPython.core.display.HTML object>"
      ]
     },
     "metadata": {},
     "output_type": "display_data"
    },
    {
     "data": {
      "text/html": [
       "\n",
       "    <div style=\"border: 1px solid #ccc; max-width: 600px; padding: 25px; margin-bottom: 25px;\">\n",
       "        <div style=\"max-width: 550px; margin: 0 auto;\">\n",
       "            <p><strong><a href=\"https://searchcaster.xyz/search?merkleRoot=0x06ac873dc5f771c57de12e876199a76e6c4c49ff\" target=\"_blank\">merkleRoot</a></strong></p>\n",
       "            <p><strong>@dwr · fid 3</strong></p>\n",
       "            <div style=\"word-wrap: break-word; margin: 10px 0;\">Congrats to @zoink on the acquisition! <br><br>Figma clicked for me when I made the Farcaster logo.</div>\n",
       "    <p style=\"color: purple; margin: 10px 0 0;\">&#x1F49C; 33 <span style=\"margin-left: 5px; margin-top: 10px;\">&#x1F4AC; 3</span></p></div></div>"
      ],
      "text/plain": [
       "<IPython.core.display.HTML object>"
      ]
     },
     "metadata": {},
     "output_type": "display_data"
    },
    {
     "data": {
      "text/html": [
       "\n",
       "    <div style=\"border: 1px solid #ccc; max-width: 600px; padding: 25px; margin-bottom: 25px;\">\n",
       "        <div style=\"max-width: 550px; margin: 0 auto;\">\n",
       "            <p><strong><a href=\"https://searchcaster.xyz/search?merkleRoot=0x2e510b38a0eaef706b739a142c0089734eba15bb\" target=\"_blank\">merkleRoot</a></strong></p>\n",
       "            <p><strong>@mason · fid 50</strong></p>\n",
       "            <div style=\"word-wrap: break-word; margin: 10px 0;\">Dropping an NFT tomorrow with @michaelblau... ☯️☯️☯️☯️☯️</div>\n",
       "    <p style=\"color: purple; margin: 10px 0 0;\">&#x1F49C; 32 <span style=\"margin-left: 5px; margin-top: 10px;\">&#x1F4AC; 8</span></p></div></div>"
      ],
      "text/plain": [
       "<IPython.core.display.HTML object>"
      ]
     },
     "metadata": {},
     "output_type": "display_data"
    },
    {
     "data": {
      "text/html": [
       "\n",
       "    <div style=\"border: 1px solid #ccc; max-width: 600px; padding: 25px; margin-bottom: 25px;\">\n",
       "        <div style=\"max-width: 550px; margin: 0 auto;\">\n",
       "            <p><strong><a href=\"https://searchcaster.xyz/search?merkleRoot=0x5dc6b1cde251625d1724fa9fb565f19c18fc5d66\" target=\"_blank\">merkleRoot</a></strong></p>\n",
       "            <p><strong>@todd · fid 18</strong></p>\n",
       "            <div style=\"word-wrap: break-word; margin: 10px 0;\">We acquired Fidenza #1!<br><br>It was the first Fidenza minted outside of the artist proof (#0) 🤌 </div>\n",
       "    <div style=\"text-align: center;\"><img src=\"https://i.imgur.com/Izug1CZ.png\" style=\"max-width: 550px; margin-top: 10px;\"></div><p style=\"color: purple; margin: 10px 0 0;\">&#x1F49C; 32 <span style=\"margin-left: 5px; margin-top: 10px;\">&#x1F4AC; 5</span></p></div></div>"
      ],
      "text/plain": [
       "<IPython.core.display.HTML object>"
      ]
     },
     "metadata": {},
     "output_type": "display_data"
    },
    {
     "data": {
      "text/html": [
       "\n",
       "    <div style=\"border: 1px solid #ccc; max-width: 600px; padding: 25px; margin-bottom: 25px;\">\n",
       "        <div style=\"max-width: 550px; margin: 0 auto;\">\n",
       "            <p><strong><a href=\"https://searchcaster.xyz/search?merkleRoot=0x126bf33ef5ab07c7ceaf59f62916ba2627105eda\" target=\"_blank\">merkleRoot</a></strong></p>\n",
       "            <p><strong>@ace · fid 539</strong></p>\n",
       "            <div style=\"word-wrap: break-word; margin: 10px 0;\">📣 @peterkim and I have been heads down thinking/building our v2. Excited to double down on \"social\" with this release.<br><br>🔥Grab your Perl handle from Perl.xyz<br><br>💌Reply @perl if you'd like to join the waitlist<br><br> </div>\n",
       "    <div style=\"text-align: center;\"><img src=\"https://i.imgur.com/SNDAJO4.png\" style=\"max-width: 550px; margin-top: 10px;\"></div><p style=\"color: purple; margin: 10px 0 0;\">&#x1F49C; 32 <span style=\"margin-left: 5px; margin-top: 10px;\">&#x1F4AC; 26</span></p></div></div>"
      ],
      "text/plain": [
       "<IPython.core.display.HTML object>"
      ]
     },
     "metadata": {},
     "output_type": "display_data"
    },
    {
     "data": {
      "text/html": [
       "\n",
       "    <div style=\"border: 1px solid #ccc; max-width: 600px; padding: 25px; margin-bottom: 25px;\">\n",
       "        <div style=\"max-width: 550px; margin: 0 auto;\">\n",
       "            <p><strong><a href=\"https://searchcaster.xyz/search?merkleRoot=0x1e8595468bda9754ccf377a04cdf11b759d32236\" target=\"_blank\">merkleRoot</a></strong></p>\n",
       "            <p><strong>@j4ck · fid 431</strong></p>\n",
       "            <div style=\"word-wrap: break-word; margin: 10px 0;\">Tired of the shortcomings of the old structures, they set out to craft a new world. Theirs would be one of optimism, of thought, of invention, and of code. <br><br>And they called themselves … Farcasters! <br><br>(Orchestral sweeping cinematic ensues) </div>\n",
       "    <div style=\"text-align: center;\"><img src=\"https://i.imgur.com/KKwIWSH.jpg\" style=\"max-width: 550px; margin-top: 10px;\"></div><p style=\"color: purple; margin: 10px 0 0;\">&#x1F49C; 32 <span style=\"margin-left: 5px; margin-top: 10px;\">&#x1F4AC; 4</span></p></div></div>"
      ],
      "text/plain": [
       "<IPython.core.display.HTML object>"
      ]
     },
     "metadata": {},
     "output_type": "display_data"
    },
    {
     "data": {
      "text/html": [
       "\n",
       "    <div style=\"border: 1px solid #ccc; max-width: 600px; padding: 25px; margin-bottom: 25px;\">\n",
       "        <div style=\"max-width: 550px; margin: 0 auto;\">\n",
       "            <p><strong><a href=\"https://searchcaster.xyz/search?merkleRoot=0x97a4e744543c11ac2356842e4fd19ebe08837f88\" target=\"_blank\">merkleRoot</a></strong></p>\n",
       "            <p><strong>@n · fid 274</strong></p>\n",
       "            <div style=\"word-wrap: break-word; margin: 10px 0;\">Happy merge! My feed is full of gm and gn, truly global event</div>\n",
       "    <p style=\"color: purple; margin: 10px 0 0;\">&#x1F49C; 31 <span style=\"margin-left: 5px; margin-top: 10px;\">&#x1F4AC; 3</span></p></div></div>"
      ],
      "text/plain": [
       "<IPython.core.display.HTML object>"
      ]
     },
     "metadata": {},
     "output_type": "display_data"
    },
    {
     "data": {
      "text/html": [
       "\n",
       "    <div style=\"border: 1px solid #ccc; max-width: 600px; padding: 25px; margin-bottom: 25px;\">\n",
       "        <div style=\"max-width: 550px; margin: 0 auto;\">\n",
       "            <p><strong><a href=\"https://searchcaster.xyz/search?merkleRoot=0x57c032f243923e835531ee39aec731c7b84e39db\" target=\"_blank\">merkleRoot</a></strong></p>\n",
       "            <p><strong>@sam · fid 39</strong></p>\n",
       "            <div style=\"word-wrap: break-word; margin: 10px 0;\">gm </div>\n",
       "    <div style=\"text-align: center;\"><img src=\"https://i.imgur.com/FLERCfZ.jpg\" style=\"max-width: 550px; margin-top: 10px;\"></div><p style=\"color: purple; margin: 10px 0 0;\">&#x1F49C; 31 <span style=\"margin-left: 5px; margin-top: 10px;\">&#x1F4AC; 2</span></p></div></div>"
      ],
      "text/plain": [
       "<IPython.core.display.HTML object>"
      ]
     },
     "metadata": {},
     "output_type": "display_data"
    },
    {
     "data": {
      "text/html": [
       "\n",
       "    <div style=\"border: 1px solid #ccc; max-width: 600px; padding: 25px; margin-bottom: 25px;\">\n",
       "        <div style=\"max-width: 550px; margin: 0 auto;\">\n",
       "            <p><strong><a href=\"https://searchcaster.xyz/search?merkleRoot=0x89457ee438ace2328252a7625a504e7ef7b23954\" target=\"_blank\">merkleRoot</a></strong></p>\n",
       "            <p><strong>@jessepollak · fid 99</strong></p>\n",
       "            <div style=\"word-wrap: break-word; margin: 10px 0;\">today is merge day!<br><br>hugely grateful to everyone who’s worked tirelessly over the last many years to make the merge happen. an incredibly achievment, turning the page towards the next chapter of crypto.</div>\n",
       "    <p style=\"color: purple; margin: 10px 0 0;\">&#x1F49C; 31 <span style=\"margin-left: 5px; margin-top: 10px;\">&#x1F4AC; 1</span></p></div></div>"
      ],
      "text/plain": [
       "<IPython.core.display.HTML object>"
      ]
     },
     "metadata": {},
     "output_type": "display_data"
    },
    {
     "data": {
      "text/html": [
       "\n",
       "    <div style=\"border: 1px solid #ccc; max-width: 600px; padding: 25px; margin-bottom: 25px;\">\n",
       "        <div style=\"max-width: 550px; margin: 0 auto;\">\n",
       "            <p><strong><a href=\"https://searchcaster.xyz/search?merkleRoot=0x6c6bb893e0e9bdcacfb6bae9e7a7801fd11a0c5d\" target=\"_blank\">merkleRoot</a></strong></p>\n",
       "            <p><strong>@neuroswish · fid 127</strong></p>\n",
       "            <div style=\"word-wrap: break-word; margin: 10px 0;\">what a time to be on the internet</div>\n",
       "    <p style=\"color: purple; margin: 10px 0 0;\">&#x1F49C; 30 <span style=\"margin-left: 5px; margin-top: 10px;\">&#x1F4AC; 1</span></p></div></div>"
      ],
      "text/plain": [
       "<IPython.core.display.HTML object>"
      ]
     },
     "metadata": {},
     "output_type": "display_data"
    },
    {
     "data": {
      "text/html": [
       "\n",
       "    <div style=\"border: 1px solid #ccc; max-width: 600px; padding: 25px; margin-bottom: 25px;\">\n",
       "        <div style=\"max-width: 550px; margin: 0 auto;\">\n",
       "            <p><strong><a href=\"https://searchcaster.xyz/search?merkleRoot=0xc44794eb8cc3f1d2bde013c27f25b784014b66eb\" target=\"_blank\">merkleRoot</a></strong></p>\n",
       "            <p><strong>@j4ck · fid 431</strong></p>\n",
       "            <div style=\"word-wrap: break-word; margin: 10px 0;\">my first screenshot essay </div>\n",
       "    <div style=\"text-align: center;\"><img src=\"https://i.imgur.com/dAkelFb.jpg\" style=\"max-width: 550px; margin-top: 10px;\"></div><p style=\"color: purple; margin: 10px 0 0;\">&#x1F49C; 30 <span style=\"margin-left: 5px; margin-top: 10px;\">&#x1F4AC; 0</span></p></div></div>"
      ],
      "text/plain": [
       "<IPython.core.display.HTML object>"
      ]
     },
     "metadata": {},
     "output_type": "display_data"
    },
    {
     "data": {
      "text/html": [
       "\n",
       "    <div style=\"border: 1px solid #ccc; max-width: 600px; padding: 25px; margin-bottom: 25px;\">\n",
       "        <div style=\"max-width: 550px; margin: 0 auto;\">\n",
       "            <p><strong><a href=\"https://searchcaster.xyz/search?merkleRoot=0x6a09333fdf57c672488aa21a94c69a7c2da5cef7\" target=\"_blank\">merkleRoot</a></strong></p>\n",
       "            <p><strong>@v · fid 2</strong></p>\n",
       "            <div style=\"word-wrap: break-word; margin: 10px 0;\">LFGGGGG</div>\n",
       "    <p style=\"color: purple; margin: 10px 0 0;\">&#x1F49C; 30 <span style=\"margin-left: 5px; margin-top: 10px;\">&#x1F4AC; 0</span></p></div></div>"
      ],
      "text/plain": [
       "<IPython.core.display.HTML object>"
      ]
     },
     "metadata": {},
     "output_type": "display_data"
    },
    {
     "data": {
      "text/html": [
       "\n",
       "    <div style=\"border: 1px solid #ccc; max-width: 600px; padding: 25px; margin-bottom: 25px;\">\n",
       "        <div style=\"max-width: 550px; margin: 0 auto;\">\n",
       "            <p><strong><a href=\"https://searchcaster.xyz/search?merkleRoot=0x28a98a5283bb30337b7c683e5bd9a0f340b8fc5a\" target=\"_blank\">merkleRoot</a></strong></p>\n",
       "            <p><strong>@dwr · fid 3</strong></p>\n",
       "            <div style=\"word-wrap: break-word; margin: 10px 0;\">I'm hosting my own stream on @unlonely tonight at 7pm PT. <br><br>AMA and I'll play a few classic youtubes.<br><br>Vibe will be earnest and optimistic for the AMA and a bit more chaotic in the video section.<br><br><a href=\"https://www.unlonely.app\" target=\"_blank\">https://www.unlonely.app</a></div>\n",
       "    <p style=\"color: purple; margin: 10px 0 0;\">&#x1F49C; 30 <span style=\"margin-left: 5px; margin-top: 10px;\">&#x1F4AC; 6</span></p></div></div>"
      ],
      "text/plain": [
       "<IPython.core.display.HTML object>"
      ]
     },
     "metadata": {},
     "output_type": "display_data"
    },
    {
     "data": {
      "text/html": [
       "\n",
       "    <div style=\"border: 1px solid #ccc; max-width: 600px; padding: 25px; margin-bottom: 25px;\">\n",
       "        <div style=\"max-width: 550px; margin: 0 auto;\">\n",
       "            <p><strong><a href=\"https://searchcaster.xyz/search?merkleRoot=0xf58a9c28ea8e36d44374bc76ce223bd856260dbe\" target=\"_blank\">merkleRoot</a></strong></p>\n",
       "            <p><strong>@zebulgar · fid 137</strong></p>\n",
       "            <div style=\"word-wrap: break-word; margin: 10px 0;\">Part 2 of casts that can't be tweets<br><br>Intelligence is largely determined by genetics<br><br>& generally higher IQ = more productive member of society<br><br>Which leads to the implication that state-subsidized egg/sperm/embryo creation + sequencing/ranking<br><br>Should absolutely be done</div>\n",
       "    <p style=\"color: purple; margin: 10px 0 0;\">&#x1F49C; 30 <span style=\"margin-left: 5px; margin-top: 10px;\">&#x1F4AC; 7</span></p></div></div>"
      ],
      "text/plain": [
       "<IPython.core.display.HTML object>"
      ]
     },
     "metadata": {},
     "output_type": "display_data"
    },
    {
     "data": {
      "text/html": [
       "\n",
       "    <div style=\"border: 1px solid #ccc; max-width: 600px; padding: 25px; margin-bottom: 25px;\">\n",
       "        <div style=\"max-width: 550px; margin: 0 auto;\">\n",
       "            <p><strong><a href=\"https://searchcaster.xyz/search?merkleRoot=0xed920e74defde7695efd9d13425bca342d88ccfe\" target=\"_blank\">merkleRoot</a></strong></p>\n",
       "            <p><strong>@js · fid 368</strong></p>\n",
       "            <div style=\"word-wrap: break-word; margin: 10px 0;\"></div>\n",
       "    <div style=\"text-align: center;\"><img src=\"https://i.imgur.com/lzPJX0i.jpg\" style=\"max-width: 550px; margin-top: 10px;\"></div><p style=\"color: purple; margin: 10px 0 0;\">&#x1F49C; 30 <span style=\"margin-left: 5px; margin-top: 10px;\">&#x1F4AC; 1</span></p></div></div>"
      ],
      "text/plain": [
       "<IPython.core.display.HTML object>"
      ]
     },
     "metadata": {},
     "output_type": "display_data"
    },
    {
     "data": {
      "text/html": [
       "\n",
       "    <div style=\"border: 1px solid #ccc; max-width: 600px; padding: 25px; margin-bottom: 25px;\">\n",
       "        <div style=\"max-width: 550px; margin: 0 auto;\">\n",
       "            <p><strong><a href=\"https://searchcaster.xyz/search?merkleRoot=0x6eeea898f3ed965d579ae4c05665c79c866e2f9b\" target=\"_blank\">merkleRoot</a></strong></p>\n",
       "            <p><strong>@dwr · fid 3</strong></p>\n",
       "            <div style=\"word-wrap: break-word; margin: 10px 0;\">1-click installer for Stable Diffusion on your Mac<br><br><a href=\"https://github.com/divamgupta/diffusionbee-stable-diffusion-ui\" target=\"_blank\">https://github.com/divamgupta/diffusionbee-stable-diffusion-ui</a></div>\n",
       "    <p style=\"color: purple; margin: 10px 0 0;\">&#x1F49C; 30 <span style=\"margin-left: 5px; margin-top: 10px;\">&#x1F4AC; 4</span></p></div></div>"
      ],
      "text/plain": [
       "<IPython.core.display.HTML object>"
      ]
     },
     "metadata": {},
     "output_type": "display_data"
    },
    {
     "data": {
      "text/html": [
       "\n",
       "    <div style=\"border: 1px solid #ccc; max-width: 600px; padding: 25px; margin-bottom: 25px;\">\n",
       "        <div style=\"max-width: 550px; margin: 0 auto;\">\n",
       "            <p><strong><a href=\"https://searchcaster.xyz/search?merkleRoot=0x1919219604d92f9ec4e0dc0bf612963dc5fe1506\" target=\"_blank\">merkleRoot</a></strong></p>\n",
       "            <p><strong>@dcposch · fid 56</strong></p>\n",
       "            <div style=\"word-wrap: break-word; margin: 10px 0;\">Thicc </div>\n",
       "    <div style=\"text-align: center;\"><img src=\"https://i.imgur.com/wGEXw6s.jpg\" style=\"max-width: 550px; margin-top: 10px;\"></div><p style=\"color: purple; margin: 10px 0 0;\">&#x1F49C; 30 <span style=\"margin-left: 5px; margin-top: 10px;\">&#x1F4AC; 0</span></p></div></div>"
      ],
      "text/plain": [
       "<IPython.core.display.HTML object>"
      ]
     },
     "metadata": {},
     "output_type": "display_data"
    },
    {
     "data": {
      "text/html": [
       "\n",
       "    <div style=\"border: 1px solid #ccc; max-width: 600px; padding: 25px; margin-bottom: 25px;\">\n",
       "        <div style=\"max-width: 550px; margin: 0 auto;\">\n",
       "            <p><strong><a href=\"https://searchcaster.xyz/search?merkleRoot=0xe1b7a1747d3f50594f2bca838c3fd7824962960e\" target=\"_blank\">merkleRoot</a></strong></p>\n",
       "            <p><strong>@mattrickard · fid 1393</strong></p>\n",
       "            <div style=\"word-wrap: break-word; margin: 10px 0;\">first-mover advantage is overrated<br> </div>\n",
       "    <div style=\"text-align: center;\"><img src=\"https://i.imgur.com/cMkfnjp.png\" style=\"max-width: 550px; margin-top: 10px;\"></div><p style=\"color: purple; margin: 10px 0 0;\">&#x1F49C; 29 <span style=\"margin-left: 5px; margin-top: 10px;\">&#x1F4AC; 7</span></p></div></div>"
      ],
      "text/plain": [
       "<IPython.core.display.HTML object>"
      ]
     },
     "metadata": {},
     "output_type": "display_data"
    },
    {
     "data": {
      "text/html": [
       "\n",
       "    <div style=\"border: 1px solid #ccc; max-width: 600px; padding: 25px; margin-bottom: 25px;\">\n",
       "        <div style=\"max-width: 550px; margin: 0 auto;\">\n",
       "            <p><strong><a href=\"https://searchcaster.xyz/search?merkleRoot=0x560ca8926bfc093ea6097106984245a464077879\" target=\"_blank\">merkleRoot</a></strong></p>\n",
       "            <p><strong>@mk · fid 143</strong></p>\n",
       "            <div style=\"word-wrap: break-word; margin: 10px 0;\">The merge is way past my bedtime.</div>\n",
       "    <p style=\"color: purple; margin: 10px 0 0;\">&#x1F49C; 29 <span style=\"margin-left: 5px; margin-top: 10px;\">&#x1F4AC; 3</span></p></div></div>"
      ],
      "text/plain": [
       "<IPython.core.display.HTML object>"
      ]
     },
     "metadata": {},
     "output_type": "display_data"
    },
    {
     "data": {
      "text/html": [
       "\n",
       "    <div style=\"border: 1px solid #ccc; max-width: 600px; padding: 25px; margin-bottom: 25px;\">\n",
       "        <div style=\"max-width: 550px; margin: 0 auto;\">\n",
       "            <p><strong><a href=\"https://searchcaster.xyz/search?merkleRoot=0xe3089417de297a49eaaba50b6b97dea0bac563f6\" target=\"_blank\">merkleRoot</a></strong></p>\n",
       "            <p><strong>@dwr · fid 3</strong></p>\n",
       "            <div style=\"word-wrap: break-word; margin: 10px 0;\">Fun fact: one of the first ideas @balajis pitched when joining Coinbase in 2018. <br><br>The Coinbase Crypto Score could end up being extremely important for influencing policy.<br><br><a href=\"https://twitter.com/brian_armstrong/status/1570133078022160384\" target=\"_blank\">https://twitter.com/brian_armstrong/status/1570133078022160384</a></div>\n",
       "    <p style=\"color: purple; margin: 10px 0 0;\">&#x1F49C; 29 <span style=\"margin-left: 5px; margin-top: 10px;\">&#x1F4AC; 4</span></p></div></div>"
      ],
      "text/plain": [
       "<IPython.core.display.HTML object>"
      ]
     },
     "metadata": {},
     "output_type": "display_data"
    },
    {
     "data": {
      "text/html": [
       "\n",
       "    <div style=\"border: 1px solid #ccc; max-width: 600px; padding: 25px; margin-bottom: 25px;\">\n",
       "        <div style=\"max-width: 550px; margin: 0 auto;\">\n",
       "            <p><strong><a href=\"https://searchcaster.xyz/search?merkleRoot=0x0d7315c50cf9db2255ef681e11ea1f923d8b8005\" target=\"_blank\">merkleRoot</a></strong></p>\n",
       "            <p><strong>@dwr · fid 3</strong></p>\n",
       "            <div style=\"word-wrap: break-word; margin: 10px 0;\">Idea I can’t kick recently: make a podcast player that sends a timestamp to a server every second and if episode probably finishes playing podcast player server mints an NFT on Optimism et al. Developers can permissionlessly use data for recommendation, discovery, etc.</div>\n",
       "    <p style=\"color: purple; margin: 10px 0 0;\">&#x1F49C; 28 <span style=\"margin-left: 5px; margin-top: 10px;\">&#x1F4AC; 6</span></p></div></div>"
      ],
      "text/plain": [
       "<IPython.core.display.HTML object>"
      ]
     },
     "metadata": {},
     "output_type": "display_data"
    },
    {
     "data": {
      "text/html": [
       "\n",
       "    <div style=\"border: 1px solid #ccc; max-width: 600px; padding: 25px; margin-bottom: 25px;\">\n",
       "        <div style=\"max-width: 550px; margin: 0 auto;\">\n",
       "            <p><strong><a href=\"https://searchcaster.xyz/search?merkleRoot=0xe74af244e8af9dfef52897381806c571e327070d\" target=\"_blank\">merkleRoot</a></strong></p>\n",
       "            <p><strong>@dwr · fid 3</strong></p>\n",
       "            <div style=\"word-wrap: break-word; margin: 10px 0;\">Kind of wild it's 2022 and there's not a consumer-friendly e2ee messaging app that doesn't require you to dox yourself with a phone number.</div>\n",
       "    <p style=\"color: purple; margin: 10px 0 0;\">&#x1F49C; 28 <span style=\"margin-left: 5px; margin-top: 10px;\">&#x1F4AC; 7</span></p></div></div>"
      ],
      "text/plain": [
       "<IPython.core.display.HTML object>"
      ]
     },
     "metadata": {},
     "output_type": "display_data"
    },
    {
     "data": {
      "text/html": [
       "\n",
       "    <div style=\"border: 1px solid #ccc; max-width: 600px; padding: 25px; margin-bottom: 25px;\">\n",
       "        <div style=\"max-width: 550px; margin: 0 auto;\">\n",
       "            <p><strong><a href=\"https://searchcaster.xyz/search?merkleRoot=0x4a20db80ad830fe20fe5c5988d3ef01b5f05753e\" target=\"_blank\">merkleRoot</a></strong></p>\n",
       "            <p><strong>@dwr · fid 3</strong></p>\n",
       "            <div style=\"word-wrap: break-word; margin: 10px 0;\">Podcast idea: duelcast<br><br>- Post a question and an opponent<br>- challenger gets 5 min to open<br>- opponent gets 10 min to respond<br>- challenger gets 5 min to close<br>- audience votes who won</div>\n",
       "    <p style=\"color: purple; margin: 10px 0 0;\">&#x1F49C; 28 <span style=\"margin-left: 5px; margin-top: 10px;\">&#x1F4AC; 12</span></p></div></div>"
      ],
      "text/plain": [
       "<IPython.core.display.HTML object>"
      ]
     },
     "metadata": {},
     "output_type": "display_data"
    },
    {
     "data": {
      "text/html": [
       "\n",
       "    <div style=\"border: 1px solid #ccc; max-width: 600px; padding: 25px; margin-bottom: 25px;\">\n",
       "        <div style=\"max-width: 550px; margin: 0 auto;\">\n",
       "            <p><strong><a href=\"https://searchcaster.xyz/search?merkleRoot=0x29245a3da8ffddb0b6e619d86ce26d75a024973a\" target=\"_blank\">merkleRoot</a></strong></p>\n",
       "            <p><strong>@phil · fid 129</strong></p>\n",
       "            <div style=\"word-wrap: break-word; margin: 10px 0;\">The Hacker News crypto-hate has to be one of the biggest blind spots in tech right now<br><br>I know lots of people who get their default opinions from HN, and as a result are not working in or learning about crypto<br><br>This is a big talent arbitrage - let’s see how long it lasts!</div>\n",
       "    <p style=\"color: purple; margin: 10px 0 0;\">&#x1F49C; 28 <span style=\"margin-left: 5px; margin-top: 10px;\">&#x1F4AC; 3</span></p></div></div>"
      ],
      "text/plain": [
       "<IPython.core.display.HTML object>"
      ]
     },
     "metadata": {},
     "output_type": "display_data"
    },
    {
     "data": {
      "text/html": [
       "\n",
       "    <div style=\"border: 1px solid #ccc; max-width: 600px; padding: 25px; margin-bottom: 25px;\">\n",
       "        <div style=\"max-width: 550px; margin: 0 auto;\">\n",
       "            <p><strong><a href=\"https://searchcaster.xyz/search?merkleRoot=0x5eb31bf8014a8a4a768bed73d0b5d2be1b19a3f0\" target=\"_blank\">merkleRoot</a></strong></p>\n",
       "            <p><strong>@liamz · fid 615</strong></p>\n",
       "            <div style=\"word-wrap: break-word; margin: 10px 0;\">quietly building </div>\n",
       "    <div style=\"text-align: center;\"><img src=\"https://i.imgur.com/ffWQ6r0.png\" style=\"max-width: 550px; margin-top: 10px;\"></div><p style=\"color: purple; margin: 10px 0 0;\">&#x1F49C; 27 <span style=\"margin-left: 5px; margin-top: 10px;\">&#x1F4AC; 2</span></p></div></div>"
      ],
      "text/plain": [
       "<IPython.core.display.HTML object>"
      ]
     },
     "metadata": {},
     "output_type": "display_data"
    },
    {
     "data": {
      "text/html": [
       "\n",
       "    <div style=\"border: 1px solid #ccc; max-width: 600px; padding: 25px; margin-bottom: 25px;\">\n",
       "        <div style=\"max-width: 550px; margin: 0 auto;\">\n",
       "            <p><strong><a href=\"https://searchcaster.xyz/search?merkleRoot=0x6a2685bf0c6814dfa5acb135316f30a2c19e0cc5\" target=\"_blank\">merkleRoot</a></strong></p>\n",
       "            <p><strong>@jacob · fid 8</strong></p>\n",
       "            <div style=\"word-wrap: break-word; margin: 10px 0;\">Which essay to publish first: Music NFTs or Nouns? I’ve been writing them concurrently after Hyperstructures.</div>\n",
       "    <p style=\"color: purple; margin: 10px 0 0;\">&#x1F49C; 27 <span style=\"margin-left: 5px; margin-top: 10px;\">&#x1F4AC; 25</span></p></div></div>"
      ],
      "text/plain": [
       "<IPython.core.display.HTML object>"
      ]
     },
     "metadata": {},
     "output_type": "display_data"
    },
    {
     "data": {
      "text/html": [
       "\n",
       "    <div style=\"border: 1px solid #ccc; max-width: 600px; padding: 25px; margin-bottom: 25px;\">\n",
       "        <div style=\"max-width: 550px; margin: 0 auto;\">\n",
       "            <p><strong><a href=\"https://searchcaster.xyz/search?merkleRoot=0xf6347ece01e816d532a9c0839812e6eb9b82b19e\" target=\"_blank\">merkleRoot</a></strong></p>\n",
       "            <p><strong>@eq · fid 647</strong></p>\n",
       "            <div style=\"word-wrap: break-word; margin: 10px 0;\">As a student during recruiting season, I’m really feeling directionless. Any can relate? </div>\n",
       "    <div style=\"text-align: center;\"><img src=\"https://i.imgur.com/xkSXVpd.jpg\" style=\"max-width: 550px; margin-top: 10px;\"></div><p style=\"color: purple; margin: 10px 0 0;\">&#x1F49C; 27 <span style=\"margin-left: 5px; margin-top: 10px;\">&#x1F4AC; 28</span></p></div></div>"
      ],
      "text/plain": [
       "<IPython.core.display.HTML object>"
      ]
     },
     "metadata": {},
     "output_type": "display_data"
    },
    {
     "data": {
      "text/html": [
       "\n",
       "    <div style=\"border: 1px solid #ccc; max-width: 600px; padding: 25px; margin-bottom: 25px;\">\n",
       "        <div style=\"max-width: 550px; margin: 0 auto;\">\n",
       "            <p><strong><a href=\"https://searchcaster.xyz/search?merkleRoot=0xfa6835c5102d564559238aba6994b189aee81e99\" target=\"_blank\">merkleRoot</a></strong></p>\n",
       "            <p><strong>@3lau · fid 81</strong></p>\n",
       "            <div style=\"word-wrap: break-word; margin: 10px 0;\">Proud of my lil bro @michaelblau for this one, and it’s a free mint!<br><br>Proof of Merge: a fully on-chain, non-transferable, and dynamic NFT that will change throughout The Merge:<br><br>proofofmerge.xyz</div>\n",
       "    <p style=\"color: purple; margin: 10px 0 0;\">&#x1F49C; 27 <span style=\"margin-left: 5px; margin-top: 10px;\">&#x1F4AC; 3</span></p></div></div>"
      ],
      "text/plain": [
       "<IPython.core.display.HTML object>"
      ]
     },
     "metadata": {},
     "output_type": "display_data"
    },
    {
     "data": {
      "text/html": [
       "\n",
       "    <div style=\"border: 1px solid #ccc; max-width: 600px; padding: 25px; margin-bottom: 25px;\">\n",
       "        <div style=\"max-width: 550px; margin: 0 auto;\">\n",
       "            <p><strong><a href=\"https://searchcaster.xyz/search?merkleRoot=0x986814d7812693a79fca0c819908ed3ede2fa88b\" target=\"_blank\">merkleRoot</a></strong></p>\n",
       "            <p><strong>@sriramk · fid 43</strong></p>\n",
       "            <div style=\"word-wrap: break-word; margin: 10px 0;\">New late night hobby: watching coding live streams (or videos of live streams).<br><br>George Hotz and Andreas Kling are both fantastic people to watch.</div>\n",
       "    <p style=\"color: purple; margin: 10px 0 0;\">&#x1F49C; 27 <span style=\"margin-left: 5px; margin-top: 10px;\">&#x1F4AC; 5</span></p></div></div>"
      ],
      "text/plain": [
       "<IPython.core.display.HTML object>"
      ]
     },
     "metadata": {},
     "output_type": "display_data"
    },
    {
     "data": {
      "text/html": [
       "\n",
       "    <div style=\"border: 1px solid #ccc; max-width: 600px; padding: 25px; margin-bottom: 25px;\">\n",
       "        <div style=\"max-width: 550px; margin: 0 auto;\">\n",
       "            <p><strong><a href=\"https://searchcaster.xyz/search?merkleRoot=0xdfe3f3ea865930ef7dd5a6e895839cf92270867c\" target=\"_blank\">merkleRoot</a></strong></p>\n",
       "            <p><strong>@amitmukherjee · fid 540</strong></p>\n",
       "            <div style=\"word-wrap: break-word; margin: 10px 0;\">Some web3 investing themes I'm considering:<br><br>web3 vertical marketplaces (aka zillow/credit karma for web3)<br><br>DeSci<br><br>Proof of Physical Work (e.g., Helium, Pollen, Hivemapper)<br><br>Large language processing x web3<br><br>Fragmentation of NFT platform<br><br>lmk if u want to jam on any of these</div>\n",
       "    <p style=\"color: purple; margin: 10px 0 0;\">&#x1F49C; 26 <span style=\"margin-left: 5px; margin-top: 10px;\">&#x1F4AC; 8</span></p></div></div>"
      ],
      "text/plain": [
       "<IPython.core.display.HTML object>"
      ]
     },
     "metadata": {},
     "output_type": "display_data"
    },
    {
     "data": {
      "text/html": [
       "\n",
       "    <div style=\"border: 1px solid #ccc; max-width: 600px; padding: 25px; margin-bottom: 25px;\">\n",
       "        <div style=\"max-width: 550px; margin: 0 auto;\">\n",
       "            <p><strong><a href=\"https://searchcaster.xyz/search?merkleRoot=0xade4702b034edb8e1c267cdc24ac0bf8ee960bac\" target=\"_blank\">merkleRoot</a></strong></p>\n",
       "            <p><strong>@yitong · fid 101</strong></p>\n",
       "            <div style=\"word-wrap: break-word; margin: 10px 0;\">v excited about all the new designer angel investors this figma acquisition will create</div>\n",
       "    <p style=\"color: purple; margin: 10px 0 0;\">&#x1F49C; 26 <span style=\"margin-left: 5px; margin-top: 10px;\">&#x1F4AC; 0</span></p></div></div>"
      ],
      "text/plain": [
       "<IPython.core.display.HTML object>"
      ]
     },
     "metadata": {},
     "output_type": "display_data"
    },
    {
     "data": {
      "text/html": [
       "\n",
       "    <div style=\"border: 1px solid #ccc; max-width: 600px; padding: 25px; margin-bottom: 25px;\">\n",
       "        <div style=\"max-width: 550px; margin: 0 auto;\">\n",
       "            <p><strong><a href=\"https://searchcaster.xyz/search?merkleRoot=0x05ef6a2e711b8a660cb3687239899c10018346e4\" target=\"_blank\">merkleRoot</a></strong></p>\n",
       "            <p><strong>@giu · fid 124</strong></p>\n",
       "            <div style=\"word-wrap: break-word; margin: 10px 0;\">I hate San Francisco. Got the window of my car broken over night.</div>\n",
       "    <p style=\"color: purple; margin: 10px 0 0;\">&#x1F49C; 26 <span style=\"margin-left: 5px; margin-top: 10px;\">&#x1F4AC; 13</span></p></div></div>"
      ],
      "text/plain": [
       "<IPython.core.display.HTML object>"
      ]
     },
     "metadata": {},
     "output_type": "display_data"
    },
    {
     "data": {
      "text/html": [
       "\n",
       "    <div style=\"border: 1px solid #ccc; max-width: 600px; padding: 25px; margin-bottom: 25px;\">\n",
       "        <div style=\"max-width: 550px; margin: 0 auto;\">\n",
       "            <p><strong><a href=\"https://searchcaster.xyz/search?merkleRoot=0x6a73bfd8e69ddf08aaf58dfbee014fbe25e47145\" target=\"_blank\">merkleRoot</a></strong></p>\n",
       "            <p><strong>@neuroswish · fid 127</strong></p>\n",
       "            <div style=\"word-wrap: break-word; margin: 10px 0;\">anyone here play COD<br><br>mw2 was a defining game of my middle school years. cautiously optimistic about this years version</div>\n",
       "    <p style=\"color: purple; margin: 10px 0 0;\">&#x1F49C; 26 <span style=\"margin-left: 5px; margin-top: 10px;\">&#x1F4AC; 13</span></p></div></div>"
      ],
      "text/plain": [
       "<IPython.core.display.HTML object>"
      ]
     },
     "metadata": {},
     "output_type": "display_data"
    },
    {
     "data": {
      "text/html": [
       "\n",
       "    <div style=\"border: 1px solid #ccc; max-width: 600px; padding: 25px; margin-bottom: 25px;\">\n",
       "        <div style=\"max-width: 550px; margin: 0 auto;\">\n",
       "            <p><strong><a href=\"https://searchcaster.xyz/search?merkleRoot=0x83cff0bb7337d9f33fe2dbc80508a9f3254a057d\" target=\"_blank\">merkleRoot</a></strong></p>\n",
       "            <p><strong>@ishverduzco · fid 1602</strong></p>\n",
       "            <div style=\"word-wrap: break-word; margin: 10px 0;\">hilarious </div>\n",
       "    <div style=\"text-align: center;\"><img src=\"https://i.imgur.com/zelY1ye.jpg\" style=\"max-width: 550px; margin-top: 10px;\"></div><p style=\"color: purple; margin: 10px 0 0;\">&#x1F49C; 25 <span style=\"margin-left: 5px; margin-top: 10px;\">&#x1F4AC; 0</span></p></div></div>"
      ],
      "text/plain": [
       "<IPython.core.display.HTML object>"
      ]
     },
     "metadata": {},
     "output_type": "display_data"
    },
    {
     "data": {
      "text/html": [
       "\n",
       "    <div style=\"border: 1px solid #ccc; max-width: 600px; padding: 25px; margin-bottom: 25px;\">\n",
       "        <div style=\"max-width: 550px; margin: 0 auto;\">\n",
       "            <p><strong><a href=\"https://searchcaster.xyz/search?merkleRoot=0x74b974b383997d02a040e69e9112898c4c52b7e6\" target=\"_blank\">merkleRoot</a></strong></p>\n",
       "            <p><strong>@dwr · fid 3</strong></p>\n",
       "            <div style=\"word-wrap: break-word; margin: 10px 0;\">how you know you're crypto boomer, pt 30<br><br>mrw... </div>\n",
       "    <div style=\"text-align: center;\"><img src=\"https://i.imgur.com/XNRzJQC.jpg\" style=\"max-width: 550px; margin-top: 10px;\"></div><p style=\"color: purple; margin: 10px 0 0;\">&#x1F49C; 25 <span style=\"margin-left: 5px; margin-top: 10px;\">&#x1F4AC; 4</span></p></div></div>"
      ],
      "text/plain": [
       "<IPython.core.display.HTML object>"
      ]
     },
     "metadata": {},
     "output_type": "display_data"
    },
    {
     "data": {
      "text/html": [
       "\n",
       "    <div style=\"border: 1px solid #ccc; max-width: 600px; padding: 25px; margin-bottom: 25px;\">\n",
       "        <div style=\"max-width: 550px; margin: 0 auto;\">\n",
       "            <p><strong><a href=\"https://searchcaster.xyz/search?merkleRoot=0xeb2d342440646e5bd3b4c159c7f194713e25b570\" target=\"_blank\">merkleRoot</a></strong></p>\n",
       "            <p><strong>@briang · fid 548</strong></p>\n",
       "            <div style=\"word-wrap: break-word; margin: 10px 0;\">excited for this family vacation </div>\n",
       "    <div style=\"text-align: center;\"><img src=\"https://i.imgur.com/OG3u5DL.jpg\" style=\"max-width: 550px; margin-top: 10px;\"></div><p style=\"color: purple; margin: 10px 0 0;\">&#x1F49C; 25 <span style=\"margin-left: 5px; margin-top: 10px;\">&#x1F4AC; 2</span></p></div></div>"
      ],
      "text/plain": [
       "<IPython.core.display.HTML object>"
      ]
     },
     "metadata": {},
     "output_type": "display_data"
    },
    {
     "data": {
      "text/html": [
       "\n",
       "    <div style=\"border: 1px solid #ccc; max-width: 600px; padding: 25px; margin-bottom: 25px;\">\n",
       "        <div style=\"max-width: 550px; margin: 0 auto;\">\n",
       "            <p><strong><a href=\"https://searchcaster.xyz/search?merkleRoot=0x603f9784f95f5a8eb6c0aecc2c647f3cac16159a\" target=\"_blank\">merkleRoot</a></strong></p>\n",
       "            <p><strong>@ted · fid 239</strong></p>\n",
       "            <div style=\"word-wrap: break-word; margin: 10px 0;\">farcaster, what do you do when you are feeling down?</div>\n",
       "    <p style=\"color: purple; margin: 10px 0 0;\">&#x1F49C; 25 <span style=\"margin-left: 5px; margin-top: 10px;\">&#x1F4AC; 43</span></p></div></div>"
      ],
      "text/plain": [
       "<IPython.core.display.HTML object>"
      ]
     },
     "metadata": {},
     "output_type": "display_data"
    },
    {
     "data": {
      "text/html": [
       "\n",
       "    <div style=\"border: 1px solid #ccc; max-width: 600px; padding: 25px; margin-bottom: 25px;\">\n",
       "        <div style=\"max-width: 550px; margin: 0 auto;\">\n",
       "            <p><strong><a href=\"https://searchcaster.xyz/search?merkleRoot=0xdcc000ff3a799010d1aab488fffa6ccddb41c2fd\" target=\"_blank\">merkleRoot</a></strong></p>\n",
       "            <p><strong>@kn · fid 258</strong></p>\n",
       "            <div style=\"word-wrap: break-word; margin: 10px 0;\">gm Who's going to celebrate 9/15 with proof of steak? 🥩</div>\n",
       "    <p style=\"color: purple; margin: 10px 0 0;\">&#x1F49C; 24 <span style=\"margin-left: 5px; margin-top: 10px;\">&#x1F4AC; 1</span></p></div></div>"
      ],
      "text/plain": [
       "<IPython.core.display.HTML object>"
      ]
     },
     "metadata": {},
     "output_type": "display_data"
    },
    {
     "data": {
      "text/html": [
       "\n",
       "    <div style=\"border: 1px solid #ccc; max-width: 600px; padding: 25px; margin-bottom: 25px;\">\n",
       "        <div style=\"max-width: 550px; margin: 0 auto;\">\n",
       "            <p><strong><a href=\"https://searchcaster.xyz/search?merkleRoot=0xf7496d93bc0fff5ca61a3396e4931ac1d752c59c\" target=\"_blank\">merkleRoot</a></strong></p>\n",
       "            <p><strong>@cassie · fid 1325</strong></p>\n",
       "            <div style=\"word-wrap: break-word; margin: 10px 0;\">The merge is now officially 24 hours away. Been looking forward to this for a long time.</div>\n",
       "    <p style=\"color: purple; margin: 10px 0 0;\">&#x1F49C; 24 <span style=\"margin-left: 5px; margin-top: 10px;\">&#x1F4AC; 0</span></p></div></div>"
      ],
      "text/plain": [
       "<IPython.core.display.HTML object>"
      ]
     },
     "metadata": {},
     "output_type": "display_data"
    },
    {
     "data": {
      "text/html": [
       "\n",
       "    <div style=\"border: 1px solid #ccc; max-width: 600px; padding: 25px; margin-bottom: 25px;\">\n",
       "        <div style=\"max-width: 550px; margin: 0 auto;\">\n",
       "            <p><strong><a href=\"https://searchcaster.xyz/search?merkleRoot=0x7b05fa3ed8065be994fc2be1767b133026106b42\" target=\"_blank\">merkleRoot</a></strong></p>\n",
       "            <p><strong>@briang · fid 548</strong></p>\n",
       "            <div style=\"word-wrap: break-word; margin: 10px 0;\">gm from Iceland. <br><br>glad we were able to fit all the Iceland Farcasters into the photo. good turnout</div>\n",
       "    <p style=\"color: purple; margin: 10px 0 0;\">&#x1F49C; 24 <span style=\"margin-left: 5px; margin-top: 10px;\">&#x1F4AC; 4</span></p></div></div>"
      ],
      "text/plain": [
       "<IPython.core.display.HTML object>"
      ]
     },
     "metadata": {},
     "output_type": "display_data"
    },
    {
     "data": {
      "text/html": [
       "\n",
       "    <div style=\"border: 1px solid #ccc; max-width: 600px; padding: 25px; margin-bottom: 25px;\">\n",
       "        <div style=\"max-width: 550px; margin: 0 auto;\">\n",
       "            <p><strong><a href=\"https://searchcaster.xyz/search?merkleRoot=0x3cc4c7563d1c001bbea490497d252f8fb7d15847\" target=\"_blank\">merkleRoot</a></strong></p>\n",
       "            <p><strong>@pablostanley · fid 1821</strong></p>\n",
       "            <div style=\"word-wrap: break-word; margin: 10px 0;\">Hello, farcasters! Excited to be here and learn from all of you. I hope I can bring value to this community. If anyone needs a product designer to review something you’re building, I’m your guy.</div>\n",
       "    <p style=\"color: purple; margin: 10px 0 0;\">&#x1F49C; 24 <span style=\"margin-left: 5px; margin-top: 10px;\">&#x1F4AC; 8</span></p></div></div>"
      ],
      "text/plain": [
       "<IPython.core.display.HTML object>"
      ]
     },
     "metadata": {},
     "output_type": "display_data"
    },
    {
     "data": {
      "text/html": [
       "\n",
       "    <div style=\"border: 1px solid #ccc; max-width: 600px; padding: 25px; margin-bottom: 25px;\">\n",
       "        <div style=\"max-width: 550px; margin: 0 auto;\">\n",
       "            <p><strong><a href=\"https://searchcaster.xyz/search?merkleRoot=0xe5359386370107da543e7c29b629a2cf9f6a189e\" target=\"_blank\">merkleRoot</a></strong></p>\n",
       "            <p><strong>@alvesjtiago · fid 762</strong></p>\n",
       "            <div style=\"word-wrap: break-word; margin: 10px 0;\">gm<br><br>not sure if it's useful in its current form but here's a very basic essay writer for FC built during the weekend.<br><br>write markdown, continuously render output, export to png, post on FC. that's it for now.<br><br>essays.farcase.xyz </div>\n",
       "    <div style=\"text-align: center;\"><img src=\"https://i.imgur.com/PPnfGPf.png\" style=\"max-width: 550px; margin-top: 10px;\"></div><p style=\"color: purple; margin: 10px 0 0;\">&#x1F49C; 24 <span style=\"margin-left: 5px; margin-top: 10px;\">&#x1F4AC; 5</span></p></div></div>"
      ],
      "text/plain": [
       "<IPython.core.display.HTML object>"
      ]
     },
     "metadata": {},
     "output_type": "display_data"
    },
    {
     "data": {
      "text/html": [
       "\n",
       "    <div style=\"border: 1px solid #ccc; max-width: 600px; padding: 25px; margin-bottom: 25px;\">\n",
       "        <div style=\"max-width: 550px; margin: 0 auto;\">\n",
       "            <p><strong><a href=\"https://searchcaster.xyz/search?merkleRoot=0xdcb6ec443b60a51bbb17a63acb61a57b44665553\" target=\"_blank\">merkleRoot</a></strong></p>\n",
       "            <p><strong>@nonlinear · fid 576</strong></p>\n",
       "            <div style=\"word-wrap: break-word; margin: 10px 0;\">gm u got this </div>\n",
       "    <div style=\"text-align: center;\"><img src=\"https://i.imgur.com/f1pVapc.jpg\" style=\"max-width: 550px; margin-top: 10px;\"></div><p style=\"color: purple; margin: 10px 0 0;\">&#x1F49C; 24 <span style=\"margin-left: 5px; margin-top: 10px;\">&#x1F4AC; 2</span></p></div></div>"
      ],
      "text/plain": [
       "<IPython.core.display.HTML object>"
      ]
     },
     "metadata": {},
     "output_type": "display_data"
    },
    {
     "data": {
      "text/html": [
       "\n",
       "    <div style=\"border: 1px solid #ccc; max-width: 600px; padding: 25px; margin-bottom: 25px;\">\n",
       "        <div style=\"max-width: 550px; margin: 0 auto;\">\n",
       "            <p><strong><a href=\"https://searchcaster.xyz/search?merkleRoot=0xbd7b4b1438a4dd87220c336234829f449bccb992\" target=\"_blank\">merkleRoot</a></strong></p>\n",
       "            <p><strong>@dwr · fid 3</strong></p>\n",
       "            <div style=\"word-wrap: break-word; margin: 10px 0;\">If you squint, I think a well-managed NFT community Discord is closer to network state than people give it credit. The volume of low quality NFTs are too noisy / distracting for most people.</div>\n",
       "    <p style=\"color: purple; margin: 10px 0 0;\">&#x1F49C; 24 <span style=\"margin-left: 5px; margin-top: 10px;\">&#x1F4AC; 4</span></p></div></div>"
      ],
      "text/plain": [
       "<IPython.core.display.HTML object>"
      ]
     },
     "metadata": {},
     "output_type": "display_data"
    },
    {
     "data": {
      "text/html": [
       "\n",
       "    <div style=\"border: 1px solid #ccc; max-width: 600px; padding: 25px; margin-bottom: 25px;\">\n",
       "        <div style=\"max-width: 550px; margin: 0 auto;\">\n",
       "            <p><strong><a href=\"https://searchcaster.xyz/search?merkleRoot=0x8af6515d82bfa3d8bd0024ca8b6a27c156e406c4\" target=\"_blank\">merkleRoot</a></strong></p>\n",
       "            <p><strong>@a16zcrypto · fid 1786</strong></p>\n",
       "            <div style=\"word-wrap: break-word; margin: 10px 0;\">😅 </div>\n",
       "    <div style=\"text-align: center;\"><img src=\"https://i.imgur.com/PEWhrE6.jpg\" style=\"max-width: 550px; margin-top: 10px;\"></div><p style=\"color: purple; margin: 10px 0 0;\">&#x1F49C; 24 <span style=\"margin-left: 5px; margin-top: 10px;\">&#x1F4AC; 4</span></p></div></div>"
      ],
      "text/plain": [
       "<IPython.core.display.HTML object>"
      ]
     },
     "metadata": {},
     "output_type": "display_data"
    },
    {
     "data": {
      "text/html": [
       "\n",
       "    <div style=\"border: 1px solid #ccc; max-width: 600px; padding: 25px; margin-bottom: 25px;\">\n",
       "        <div style=\"max-width: 550px; margin: 0 auto;\">\n",
       "            <p><strong><a href=\"https://searchcaster.xyz/search?merkleRoot=0x2509811a7cf00ecc6655605d51e7f94b4d091aa1\" target=\"_blank\">merkleRoot</a></strong></p>\n",
       "            <p><strong>@cameron · fid 617</strong></p>\n",
       "            <div style=\"word-wrap: break-word; margin: 10px 0;\">Steve Jobs screenshot essay - what a wild mind </div>\n",
       "    <div style=\"text-align: center;\"><img src=\"https://i.imgur.com/6GkLPT2.jpg\" style=\"max-width: 550px; margin-top: 10px;\"></div><p style=\"color: purple; margin: 10px 0 0;\">&#x1F49C; 23 <span style=\"margin-left: 5px; margin-top: 10px;\">&#x1F4AC; 3</span></p></div></div>"
      ],
      "text/plain": [
       "<IPython.core.display.HTML object>"
      ]
     },
     "metadata": {},
     "output_type": "display_data"
    },
    {
     "data": {
      "text/html": [
       "\n",
       "    <div style=\"border: 1px solid #ccc; max-width: 600px; padding: 25px; margin-bottom: 25px;\">\n",
       "        <div style=\"max-width: 550px; margin: 0 auto;\">\n",
       "            <p><strong><a href=\"https://searchcaster.xyz/search?merkleRoot=0x2bace02e15c0bcb47658a0100c9c0c49a5aca974\" target=\"_blank\">merkleRoot</a></strong></p>\n",
       "            <p><strong>@neuroswish · fid 127</strong></p>\n",
       "            <div style=\"word-wrap: break-word; margin: 10px 0;\">on a serious note tho, a big thank you to @tim @trent and the other amazing ethereum devs on their hard work to make such a groundbreaking social and technical feat a reality.<br><br>you are an inspiration to builders everywhere :D</div>\n",
       "    <p style=\"color: purple; margin: 10px 0 0;\">&#x1F49C; 23 <span style=\"margin-left: 5px; margin-top: 10px;\">&#x1F4AC; 2</span></p></div></div>"
      ],
      "text/plain": [
       "<IPython.core.display.HTML object>"
      ]
     },
     "metadata": {},
     "output_type": "display_data"
    },
    {
     "data": {
      "text/html": [
       "\n",
       "    <div style=\"border: 1px solid #ccc; max-width: 600px; padding: 25px; margin-bottom: 25px;\">\n",
       "        <div style=\"max-width: 550px; margin: 0 auto;\">\n",
       "            <p><strong><a href=\"https://searchcaster.xyz/search?merkleRoot=0x1ce110894cabfe8bf7163fad1371c44e8f44580e\" target=\"_blank\">merkleRoot</a></strong></p>\n",
       "            <p><strong>@jayme · fid 373</strong></p>\n",
       "            <div style=\"word-wrap: break-word; margin: 10px 0;\">Screenshot Essay #11<br><br>Cockroach Mindset 🪳 </div>\n",
       "    <div style=\"text-align: center;\"><img src=\"https://i.imgur.com/sF5AflE.png\" style=\"max-width: 550px; margin-top: 10px;\"></div><p style=\"color: purple; margin: 10px 0 0;\">&#x1F49C; 23 <span style=\"margin-left: 5px; margin-top: 10px;\">&#x1F4AC; 3</span></p></div></div>"
      ],
      "text/plain": [
       "<IPython.core.display.HTML object>"
      ]
     },
     "metadata": {},
     "output_type": "display_data"
    },
    {
     "data": {
      "text/html": [
       "\n",
       "    <div style=\"border: 1px solid #ccc; max-width: 600px; padding: 25px; margin-bottom: 25px;\">\n",
       "        <div style=\"max-width: 550px; margin: 0 auto;\">\n",
       "            <p><strong><a href=\"https://searchcaster.xyz/search?merkleRoot=0xa3c4bec58de0d7b46879d4fe1f4f1f98241e9225\" target=\"_blank\">merkleRoot</a></strong></p>\n",
       "            <p><strong>@pushix · fid 359</strong></p>\n",
       "            <div style=\"word-wrap: break-word; margin: 10px 0;\">TIL synthetic nouns are a free to mint, and a great idea (uses your address as a seed).<br><br><a href=\"https://nouns.stephancill.co.za/\" target=\"_blank\">https://nouns.stephancill.co.za/</a><br><br>Fun! ⌐◨-◨</div>\n",
       "    <p style=\"color: purple; margin: 10px 0 0;\">&#x1F49C; 23 <span style=\"margin-left: 5px; margin-top: 10px;\">&#x1F4AC; 3</span></p></div></div>"
      ],
      "text/plain": [
       "<IPython.core.display.HTML object>"
      ]
     },
     "metadata": {},
     "output_type": "display_data"
    },
    {
     "data": {
      "text/html": [
       "\n",
       "    <div style=\"border: 1px solid #ccc; max-width: 600px; padding: 25px; margin-bottom: 25px;\">\n",
       "        <div style=\"max-width: 550px; margin: 0 auto;\">\n",
       "            <p><strong><a href=\"https://searchcaster.xyz/search?merkleRoot=0x0e27becfbb8ec15310216531325609e6832b77ca\" target=\"_blank\">merkleRoot</a></strong></p>\n",
       "            <p><strong>@ajwaxman · fid 176</strong></p>\n",
       "            <div style=\"word-wrap: break-word; margin: 10px 0;\">💡Farcaster idea: Make how early/late you followed an account a more public metric<br><br>“I followed @dhof pre loot”<br><br>“I followed @vitalik before 99% of ppl”<br><br>could translate into tastemaker status / credibility</div>\n",
       "    <p style=\"color: purple; margin: 10px 0 0;\">&#x1F49C; 23 <span style=\"margin-left: 5px; margin-top: 10px;\">&#x1F4AC; 2</span></p></div></div>"
      ],
      "text/plain": [
       "<IPython.core.display.HTML object>"
      ]
     },
     "metadata": {},
     "output_type": "display_data"
    },
    {
     "data": {
      "text/html": [
       "\n",
       "    <div style=\"border: 1px solid #ccc; max-width: 600px; padding: 25px; margin-bottom: 25px;\">\n",
       "        <div style=\"max-width: 550px; margin: 0 auto;\">\n",
       "            <p><strong><a href=\"https://searchcaster.xyz/search?merkleRoot=0xefcab897ef2bf0a8a8950a268a29f0b6633aaccf\" target=\"_blank\">merkleRoot</a></strong></p>\n",
       "            <p><strong>@jayme · fid 373</strong></p>\n",
       "            <div style=\"word-wrap: break-word; margin: 10px 0;\">gm<br><br>We cut all fees on Maindrop!<br><br>Choose an NFT or create one from scratch and send it to anyone with an email, phone number or ENS. Send NFT gifts and on-board folks into web3 ... for free!<br><br>Welcome feedback 🙏<br><br><a href=\"https://www.maindrop.xyz/\" target=\"_blank\">https://www.maindrop.xyz/</a> </div>\n",
       "    <div style=\"text-align: center;\"><img src=\"https://i.imgur.com/gLKrDG1.jpg\" style=\"max-width: 550px; margin-top: 10px;\"></div><p style=\"color: purple; margin: 10px 0 0;\">&#x1F49C; 23 <span style=\"margin-left: 5px; margin-top: 10px;\">&#x1F4AC; 3</span></p></div></div>"
      ],
      "text/plain": [
       "<IPython.core.display.HTML object>"
      ]
     },
     "metadata": {},
     "output_type": "display_data"
    },
    {
     "data": {
      "text/html": [
       "\n",
       "    <div style=\"border: 1px solid #ccc; max-width: 600px; padding: 25px; margin-bottom: 25px;\">\n",
       "        <div style=\"max-width: 550px; margin: 0 auto;\">\n",
       "            <p><strong><a href=\"https://searchcaster.xyz/search?merkleRoot=0x458fd39fe8e6b4a6a334925eed4f870c1a6c2909\" target=\"_blank\">merkleRoot</a></strong></p>\n",
       "            <p><strong>@nyx · fid 217</strong></p>\n",
       "            <div style=\"word-wrap: break-word; margin: 10px 0;\">whew brewing something ADORABLE this am <br> </div>\n",
       "    <div style=\"text-align: center;\"><img src=\"https://i.imgur.com/HWGtI4r.jpg\" style=\"max-width: 550px; margin-top: 10px;\"></div><p style=\"color: purple; margin: 10px 0 0;\">&#x1F49C; 23 <span style=\"margin-left: 5px; margin-top: 10px;\">&#x1F4AC; 0</span></p></div></div>"
      ],
      "text/plain": [
       "<IPython.core.display.HTML object>"
      ]
     },
     "metadata": {},
     "output_type": "display_data"
    },
    {
     "data": {
      "text/html": [
       "\n",
       "    <div style=\"border: 1px solid #ccc; max-width: 600px; padding: 25px; margin-bottom: 25px;\">\n",
       "        <div style=\"max-width: 550px; margin: 0 auto;\">\n",
       "            <p><strong><a href=\"https://searchcaster.xyz/search?merkleRoot=0x7640df0b2349b7c457b71192635e391cac8e7251\" target=\"_blank\">merkleRoot</a></strong></p>\n",
       "            <p><strong>@neuroswish · fid 127</strong></p>\n",
       "            <div style=\"word-wrap: break-word; margin: 10px 0;\">1 year in crypto has taught me more about <br><br>economics, culture, design, security, governance, money, and sociology<br><br>than my previous 24 years of life</div>\n",
       "    <p style=\"color: purple; margin: 10px 0 0;\">&#x1F49C; 22 <span style=\"margin-left: 5px; margin-top: 10px;\">&#x1F4AC; 2</span></p></div></div>"
      ],
      "text/plain": [
       "<IPython.core.display.HTML object>"
      ]
     },
     "metadata": {},
     "output_type": "display_data"
    },
    {
     "data": {
      "text/html": [
       "\n",
       "    <div style=\"border: 1px solid #ccc; max-width: 600px; padding: 25px; margin-bottom: 25px;\">\n",
       "        <div style=\"max-width: 550px; margin: 0 auto;\">\n",
       "            <p><strong><a href=\"https://searchcaster.xyz/search?merkleRoot=0xb6a57e9a202131c0b6b88433341fe6caa60106c1\" target=\"_blank\">merkleRoot</a></strong></p>\n",
       "            <p><strong>@dwr · fid 3</strong></p>\n",
       "            <div style=\"word-wrap: break-word; margin: 10px 0;\">Inter is an underrated public good<br><br><a href=\"https://github.com/rsms/inter\" target=\"_blank\">https://github.com/rsms/inter</a></div>\n",
       "    <p style=\"color: purple; margin: 10px 0 0;\">&#x1F49C; 22 <span style=\"margin-left: 5px; margin-top: 10px;\">&#x1F4AC; 4</span></p></div></div>"
      ],
      "text/plain": [
       "<IPython.core.display.HTML object>"
      ]
     },
     "metadata": {},
     "output_type": "display_data"
    },
    {
     "data": {
      "text/html": [
       "\n",
       "    <div style=\"border: 1px solid #ccc; max-width: 600px; padding: 25px; margin-bottom: 25px;\">\n",
       "        <div style=\"max-width: 550px; margin: 0 auto;\">\n",
       "            <p><strong><a href=\"https://searchcaster.xyz/search?merkleRoot=0x23ff458a432757a0545f007ae9bfdf1d6d34bde1\" target=\"_blank\">merkleRoot</a></strong></p>\n",
       "            <p><strong>@nibnalin · fid 363</strong></p>\n",
       "            <div style=\"word-wrap: break-word; margin: 10px 0;\">Just released ETHdos: A fun social experiment uniquely enabled by Recursive zkSNARKs<br><br>here's my zk proof I'm 2 degrees from Vitalik (it doesn't reveal via who though 👀): <a href=\"https://ethdos.xyz/share/QmU1wcTanvkXg4J7t7YhbVZbghudVJ2muoW66pyQQLSjJ8\" target=\"_blank\">https://ethdos.xyz/share/QmU1wcTanvkXg4J7t7YhbVZbghudVJ2muoW66pyQQLSjJ8</a></div>\n",
       "    <p style=\"color: purple; margin: 10px 0 0;\">&#x1F49C; 22 <span style=\"margin-left: 5px; margin-top: 10px;\">&#x1F4AC; 2</span></p></div></div>"
      ],
      "text/plain": [
       "<IPython.core.display.HTML object>"
      ]
     },
     "metadata": {},
     "output_type": "display_data"
    },
    {
     "data": {
      "text/html": [
       "\n",
       "    <div style=\"border: 1px solid #ccc; max-width: 600px; padding: 25px; margin-bottom: 25px;\">\n",
       "        <div style=\"max-width: 550px; margin: 0 auto;\">\n",
       "            <p><strong><a href=\"https://searchcaster.xyz/search?merkleRoot=0x0649d511c09e6d03c34294a4fdaa17bd1476adf0\" target=\"_blank\">merkleRoot</a></strong></p>\n",
       "            <p><strong>@0xjoyce · fid 1660</strong></p>\n",
       "            <div style=\"word-wrap: break-word; margin: 10px 0;\">Visuals that says: look at me I am a web3 project </div>\n",
       "    <div style=\"text-align: center;\"><img src=\"https://i.imgur.com/XIta8Na.jpg\" style=\"max-width: 550px; margin-top: 10px;\"></div><p style=\"color: purple; margin: 10px 0 0;\">&#x1F49C; 22 <span style=\"margin-left: 5px; margin-top: 10px;\">&#x1F4AC; 3</span></p></div></div>"
      ],
      "text/plain": [
       "<IPython.core.display.HTML object>"
      ]
     },
     "metadata": {},
     "output_type": "display_data"
    },
    {
     "data": {
      "text/html": [
       "\n",
       "    <div style=\"border: 1px solid #ccc; max-width: 600px; padding: 25px; margin-bottom: 25px;\">\n",
       "        <div style=\"max-width: 550px; margin: 0 auto;\">\n",
       "            <p><strong><a href=\"https://searchcaster.xyz/search?merkleRoot=0xb3afc964e5b84bba3ef70077aa4da4afefc36039\" target=\"_blank\">merkleRoot</a></strong></p>\n",
       "            <p><strong>@hyper · fid 283</strong></p>\n",
       "            <div style=\"word-wrap: break-word; margin: 10px 0;\">What if an eng team was split into offense and defense. Whereby the offense was mandated to ship as many new features as possible, as quickly as possible. <br><br>While defense focused on going into the new features and putting them on sturdier footing, and maintaining site reliability</div>\n",
       "    <p style=\"color: purple; margin: 10px 0 0;\">&#x1F49C; 22 <span style=\"margin-left: 5px; margin-top: 10px;\">&#x1F4AC; 11</span></p></div></div>"
      ],
      "text/plain": [
       "<IPython.core.display.HTML object>"
      ]
     },
     "metadata": {},
     "output_type": "display_data"
    },
    {
     "data": {
      "text/html": [
       "\n",
       "    <div style=\"border: 1px solid #ccc; max-width: 600px; padding: 25px; margin-bottom: 25px;\">\n",
       "        <div style=\"max-width: 550px; margin: 0 auto;\">\n",
       "            <p><strong><a href=\"https://searchcaster.xyz/search?merkleRoot=0x66f325e94b30c7a8ed5624c3f7794d6fa04e142c\" target=\"_blank\">merkleRoot</a></strong></p>\n",
       "            <p><strong>@a16zcrypto · fid 1786</strong></p>\n",
       "            <div style=\"word-wrap: break-word; margin: 10px 0;\">The Web3 Developer Stack. 🧰<br><br>Image courtesy of Coinbase.<br><br>What's missing? </div>\n",
       "    <div style=\"text-align: center;\"><img src=\"https://i.imgur.com/ccZYkJP.png\" style=\"max-width: 550px; margin-top: 10px;\"></div><p style=\"color: purple; margin: 10px 0 0;\">&#x1F49C; 22 <span style=\"margin-left: 5px; margin-top: 10px;\">&#x1F4AC; 5</span></p></div></div>"
      ],
      "text/plain": [
       "<IPython.core.display.HTML object>"
      ]
     },
     "metadata": {},
     "output_type": "display_data"
    },
    {
     "data": {
      "text/html": [
       "\n",
       "    <div style=\"border: 1px solid #ccc; max-width: 600px; padding: 25px; margin-bottom: 25px;\">\n",
       "        <div style=\"max-width: 550px; margin: 0 auto;\">\n",
       "            <p><strong><a href=\"https://searchcaster.xyz/search?merkleRoot=0x619201432063c723304d1f25287a6b7c730a22df\" target=\"_blank\">merkleRoot</a></strong></p>\n",
       "            <p><strong>@brianjckim · fid 426</strong></p>\n",
       "            <div style=\"word-wrap: break-word; margin: 10px 0;\">congrats on the launch @scharf @aman!<br><br>adding to the list of web3 products i use every day<br><br><a href=\"https://stelolabs.com\" target=\"_blank\">https://stelolabs.com</a></div>\n",
       "    <p style=\"color: purple; margin: 10px 0 0;\">&#x1F49C; 22 <span style=\"margin-left: 5px; margin-top: 10px;\">&#x1F4AC; 3</span></p></div></div>"
      ],
      "text/plain": [
       "<IPython.core.display.HTML object>"
      ]
     },
     "metadata": {},
     "output_type": "display_data"
    },
    {
     "data": {
      "text/html": [
       "\n",
       "    <div style=\"border: 1px solid #ccc; max-width: 600px; padding: 25px; margin-bottom: 25px;\">\n",
       "        <div style=\"max-width: 550px; margin: 0 auto;\">\n",
       "            <p><strong><a href=\"https://searchcaster.xyz/search?merkleRoot=0x03b9cd1eee92dca5717c2cc2de47e87d42d48045\" target=\"_blank\">merkleRoot</a></strong></p>\n",
       "            <p><strong>@aman · fid 267</strong></p>\n",
       "            <div style=\"word-wrap: break-word; margin: 10px 0;\">gm please welcome my friend @sisun fellow buildoooor building <a href=\"https://ramper.xyz/\" target=\"_blank\">https://ramper.xyz/</a> (embedded mpc wallet for dapps)</div>\n",
       "    <p style=\"color: purple; margin: 10px 0 0;\">&#x1F49C; 22 <span style=\"margin-left: 5px; margin-top: 10px;\">&#x1F4AC; 3</span></p></div></div>"
      ],
      "text/plain": [
       "<IPython.core.display.HTML object>"
      ]
     },
     "metadata": {},
     "output_type": "display_data"
    },
    {
     "data": {
      "text/html": [
       "\n",
       "    <div style=\"border: 1px solid #ccc; max-width: 600px; padding: 25px; margin-bottom: 25px;\">\n",
       "        <div style=\"max-width: 550px; margin: 0 auto;\">\n",
       "            <p><strong><a href=\"https://searchcaster.xyz/search?merkleRoot=0xfcda4f3e434a4fa4c861642eba2d2eb0a57d76a5\" target=\"_blank\">merkleRoot</a></strong></p>\n",
       "            <p><strong>@phil · fid 129</strong></p>\n",
       "            <div style=\"word-wrap: break-word; margin: 10px 0;\">I filed the paperwork today to officially close the Ethereum mining company that I started in 2017<br><br>It was a good run</div>\n",
       "    <p style=\"color: purple; margin: 10px 0 0;\">&#x1F49C; 22 <span style=\"margin-left: 5px; margin-top: 10px;\">&#x1F4AC; 2</span></p></div></div>"
      ],
      "text/plain": [
       "<IPython.core.display.HTML object>"
      ]
     },
     "metadata": {},
     "output_type": "display_data"
    },
    {
     "data": {
      "text/html": [
       "\n",
       "    <div style=\"border: 1px solid #ccc; max-width: 600px; padding: 25px; margin-bottom: 25px;\">\n",
       "        <div style=\"max-width: 550px; margin: 0 auto;\">\n",
       "            <p><strong><a href=\"https://searchcaster.xyz/search?merkleRoot=0x9b8600a17aadcb15aedc77473c809e0282b080bc\" target=\"_blank\">merkleRoot</a></strong></p>\n",
       "            <p><strong>@ace · fid 539</strong></p>\n",
       "            <div style=\"word-wrap: break-word; margin: 10px 0;\">Interstellar was the catalyst for my exodus to SF - matthew mcconaughey’s eyes when he spotted that drone in the sky, and chased it without any hesitation.<br><br>I was stuck doing what no longer excited me then. I had forgotten what it felt like to chase my dream.</div>\n",
       "    <p style=\"color: purple; margin: 10px 0 0;\">&#x1F49C; 22 <span style=\"margin-left: 5px; margin-top: 10px;\">&#x1F4AC; 0</span></p></div></div>"
      ],
      "text/plain": [
       "<IPython.core.display.HTML object>"
      ]
     },
     "metadata": {},
     "output_type": "display_data"
    },
    {
     "data": {
      "text/html": [
       "\n",
       "    <div style=\"border: 1px solid #ccc; max-width: 600px; padding: 25px; margin-bottom: 25px;\">\n",
       "        <div style=\"max-width: 550px; margin: 0 auto;\">\n",
       "            <p><strong><a href=\"https://searchcaster.xyz/search?merkleRoot=0xb9a494512ebff824d94f60451e3fe6bcad860885\" target=\"_blank\">merkleRoot</a></strong></p>\n",
       "            <p><strong>@briang · fid 548</strong></p>\n",
       "            <div style=\"word-wrap: break-word; margin: 10px 0;\">first screenshot essay be nice </div>\n",
       "    <div style=\"text-align: center;\"><img src=\"https://i.imgur.com/gOkrr5T.jpg\" style=\"max-width: 550px; margin-top: 10px;\"></div><p style=\"color: purple; margin: 10px 0 0;\">&#x1F49C; 21 <span style=\"margin-left: 5px; margin-top: 10px;\">&#x1F4AC; 3</span></p></div></div>"
      ],
      "text/plain": [
       "<IPython.core.display.HTML object>"
      ]
     },
     "metadata": {},
     "output_type": "display_data"
    },
    {
     "data": {
      "text/html": [
       "\n",
       "    <div style=\"border: 1px solid #ccc; max-width: 600px; padding: 25px; margin-bottom: 25px;\">\n",
       "        <div style=\"max-width: 550px; margin: 0 auto;\">\n",
       "            <p><strong><a href=\"https://searchcaster.xyz/search?merkleRoot=0xa54c6089a58e0ffd2dfd879b42407d9881ba9983\" target=\"_blank\">merkleRoot</a></strong></p>\n",
       "            <p><strong>@js · fid 368</strong></p>\n",
       "            <div style=\"word-wrap: break-word; margin: 10px 0;\">Tonight, we complete the work of merging all of the ETH into a single \"big\" ETH. Thanks to everyone who contributed along the way.</div>\n",
       "    <p style=\"color: purple; margin: 10px 0 0;\">&#x1F49C; 21 <span style=\"margin-left: 5px; margin-top: 10px;\">&#x1F4AC; 1</span></p></div></div>"
      ],
      "text/plain": [
       "<IPython.core.display.HTML object>"
      ]
     },
     "metadata": {},
     "output_type": "display_data"
    },
    {
     "data": {
      "text/html": [
       "\n",
       "    <div style=\"border: 1px solid #ccc; max-width: 600px; padding: 25px; margin-bottom: 25px;\">\n",
       "        <div style=\"max-width: 550px; margin: 0 auto;\">\n",
       "            <p><strong><a href=\"https://searchcaster.xyz/search?merkleRoot=0x3e4d7315f0e8494da5c27401c9e164a4745c6ee0\" target=\"_blank\">merkleRoot</a></strong></p>\n",
       "            <p><strong>@sjwhitmore · fid 226</strong></p>\n",
       "            <div style=\"word-wrap: break-word; margin: 10px 0;\">I just took my first flying lesson. It was more of a driving lesson because I just drove the plane around the the tarmac. <br><br>Fun thing I learned: you drive a plane (at least a Cessna 172) with your feet! The motion is like skiing -- pressure on the left foot turns you left.</div>\n",
       "    <p style=\"color: purple; margin: 10px 0 0;\">&#x1F49C; 21 <span style=\"margin-left: 5px; margin-top: 10px;\">&#x1F4AC; 4</span></p></div></div>"
      ],
      "text/plain": [
       "<IPython.core.display.HTML object>"
      ]
     },
     "metadata": {},
     "output_type": "display_data"
    },
    {
     "data": {
      "text/html": [
       "\n",
       "    <div style=\"border: 1px solid #ccc; max-width: 600px; padding: 25px; margin-bottom: 25px;\">\n",
       "        <div style=\"max-width: 550px; margin: 0 auto;\">\n",
       "            <p><strong><a href=\"https://searchcaster.xyz/search?merkleRoot=0xae958a1195f3c18ae993bbfed95b273041307032\" target=\"_blank\">merkleRoot</a></strong></p>\n",
       "            <p><strong>@gt · fid 302</strong></p>\n",
       "            <div style=\"word-wrap: break-word; margin: 10px 0;\">GM. What a day already!<br><br>- Merge completed.<br>- Adobe acquires Figma (and sets the price for those stuck at SMB markets).<br>- Roger Federer retires.</div>\n",
       "    <p style=\"color: purple; margin: 10px 0 0;\">&#x1F49C; 21 <span style=\"margin-left: 5px; margin-top: 10px;\">&#x1F4AC; 1</span></p></div></div>"
      ],
      "text/plain": [
       "<IPython.core.display.HTML object>"
      ]
     },
     "metadata": {},
     "output_type": "display_data"
    },
    {
     "data": {
      "text/html": [
       "\n",
       "    <div style=\"border: 1px solid #ccc; max-width: 600px; padding: 25px; margin-bottom: 25px;\">\n",
       "        <div style=\"max-width: 550px; margin: 0 auto;\">\n",
       "            <p><strong><a href=\"https://searchcaster.xyz/search?merkleRoot=0x4ba8f7159123f33128745ef16f7a2935e676e627\" target=\"_blank\">merkleRoot</a></strong></p>\n",
       "            <p><strong>@kepano · fid 1321</strong></p>\n",
       "            <div style=\"word-wrap: break-word; margin: 10px 0;\">Hook up your brain to Farcaster with this new Obsidian.md theme<br><br><a href=\"https://github.com/kepano/obsidian-farcaster-theme\" target=\"_blank\">https://github.com/kepano/obsidian-farcaster-theme</a> </div>\n",
       "    <div style=\"text-align: center;\"><img src=\"https://i.imgur.com/ERRB86Q.jpg\" style=\"max-width: 550px; margin-top: 10px;\"></div><p style=\"color: purple; margin: 10px 0 0;\">&#x1F49C; 21 <span style=\"margin-left: 5px; margin-top: 10px;\">&#x1F4AC; 2</span></p></div></div>"
      ],
      "text/plain": [
       "<IPython.core.display.HTML object>"
      ]
     },
     "metadata": {},
     "output_type": "display_data"
    },
    {
     "data": {
      "text/html": [
       "\n",
       "    <div style=\"border: 1px solid #ccc; max-width: 600px; padding: 25px; margin-bottom: 25px;\">\n",
       "        <div style=\"max-width: 550px; margin: 0 auto;\">\n",
       "            <p><strong><a href=\"https://searchcaster.xyz/search?merkleRoot=0x9e7ba90983477be1d3785ee7861db2a8476f3452\" target=\"_blank\">merkleRoot</a></strong></p>\n",
       "            <p><strong>@corbpage · fid 358</strong></p>\n",
       "            <div style=\"word-wrap: break-word; margin: 10px 0;\">The sexual tension between crypto OGs building nuclear-resistance maximally decentralized dApps and Silicon Valley/Coinbase-style newcomers building Web 2.5 solutions.<br><br>Imho they are both probably right. Really depends on the type of application.<br><br>Tornado Cash != NFT explorer</div>\n",
       "    <p style=\"color: purple; margin: 10px 0 0;\">&#x1F49C; 21 <span style=\"margin-left: 5px; margin-top: 10px;\">&#x1F4AC; 1</span></p></div></div>"
      ],
      "text/plain": [
       "<IPython.core.display.HTML object>"
      ]
     },
     "metadata": {},
     "output_type": "display_data"
    },
    {
     "data": {
      "text/html": [
       "\n",
       "    <div style=\"border: 1px solid #ccc; max-width: 600px; padding: 25px; margin-bottom: 25px;\">\n",
       "        <div style=\"max-width: 550px; margin: 0 auto;\">\n",
       "            <p><strong><a href=\"https://searchcaster.xyz/search?merkleRoot=0x5508f3ecc37d46df9ad3f68c50990d035f3b2964\" target=\"_blank\">merkleRoot</a></strong></p>\n",
       "            <p><strong>@yitong · fid 101</strong></p>\n",
       "            <div style=\"word-wrap: break-word; margin: 10px 0;\">Finally shipped Agora today! <br><br>Gonna grab a bit to eat now 😅 but will return to share a bit on why this has been an especially interesting product to me<br><br><a href=\"https://twitter.com/nounsagora/status/1570529745439436800?s=20&t=OBjasDB6X8s-SCnt-NNOfA\" target=\"_blank\">https://twitter.com/nounsagora/status/1570529745439436800?s=20&t=OBjasDB6X8s-SCnt-NNOfA</a></div>\n",
       "    <p style=\"color: purple; margin: 10px 0 0;\">&#x1F49C; 21 <span style=\"margin-left: 5px; margin-top: 10px;\">&#x1F4AC; 5</span></p></div></div>"
      ],
      "text/plain": [
       "<IPython.core.display.HTML object>"
      ]
     },
     "metadata": {},
     "output_type": "display_data"
    },
    {
     "data": {
      "text/html": [
       "\n",
       "    <div style=\"border: 1px solid #ccc; max-width: 600px; padding: 25px; margin-bottom: 25px;\">\n",
       "        <div style=\"max-width: 550px; margin: 0 auto;\">\n",
       "            <p><strong><a href=\"https://searchcaster.xyz/search?merkleRoot=0xbe300c3d2c45bcafd698a2c79cef1482a6dbd7e8\" target=\"_blank\">merkleRoot</a></strong></p>\n",
       "            <p><strong>@zebulgar · fid 137</strong></p>\n",
       "            <div style=\"word-wrap: break-word; margin: 10px 0;\">1/2 Part 3 of casts I wouldnt tweet<br><br>Elon/NASA's plans for sustained human presence in space are doomed<br><br>In all of human history, settlements only became sustainable and grew with strong economic development<br><br>We are on the precipice of building a strong economy in Low Earth Orbit</div>\n",
       "    <p style=\"color: purple; margin: 10px 0 0;\">&#x1F49C; 21 <span style=\"margin-left: 5px; margin-top: 10px;\">&#x1F4AC; 3</span></p></div></div>"
      ],
      "text/plain": [
       "<IPython.core.display.HTML object>"
      ]
     },
     "metadata": {},
     "output_type": "display_data"
    }
   ],
   "source": [
    "import pandas as pd\n",
    "from pytz import UTC\n",
    "from IPython.display import display, HTML\n",
    "import re\n",
    "\n",
    "# Step 1: Read the 'casts.csv' file into a DataFrame\n",
    "df = pd.read_csv('casts.csv')\n",
    "\n",
    "# Step 2: Convert 'published_at' column to datetime with UTC timezone\n",
    "df['published_at'] = pd.to_datetime(df['published_at'], utc=True)\n",
    "\n",
    "# Step 3: Filter rows based on the date range (September 10, 2022 - Saturday September 16, 2022)\n",
    "start_date = pd.Timestamp('2022-09-10', tz=UTC)\n",
    "end_date = pd.Timestamp('2022-09-16', tz=UTC)\n",
    "filtered_df = df[(df['published_at'] >= start_date) & (df['published_at'] <= end_date)].copy()\n",
    "\n",
    "# Step 4: Filter out replies (exclude casts with non-null parent_hash)\n",
    "original_posts_df = filtered_df.loc[filtered_df['parent_hash'].isnull()]\n",
    "\n",
    "# Step 5: Sort the filtered DataFrame based on 'reactions_count' in descending order\n",
    "sorted_df = original_posts_df.sort_values(by='reactions_count', ascending=False)\n",
    "\n",
    "# Step 10: Count of total casts made in the week including replies\n",
    "total_casts_including_replies = filtered_df.shape[0]\n",
    "\n",
    "# Step 11: Count of total casts made in the week excluding replies\n",
    "total_casts_excluding_replies = original_posts_df.shape[0]\n",
    "\n",
    "# Step 12: Display the count of total casts made in the week including replies and excluding replies\n",
    "total_casts_html = f\"\"\"\n",
    "    <div style=\"max-width: 600px; margin-bottom: 25px;\">\n",
    "        <h2 style=\"margin-bottom: 15px;\">Total Casts</h2>\n",
    "        <p style=\"font-size: 18x; margin: 5px 0 5px;\">Including Replies: {total_casts_including_replies}</p>\n",
    "        <p style=\"font-size: 18x; margin: 5px 0;\">Excluding Replies: {total_casts_excluding_replies}</p>\n",
    "    </div>\n",
    "\"\"\"\n",
    "display(HTML(total_casts_html))\n",
    "\n",
    "# Step 8: Get the top 30 most active users based on unique original casts\n",
    "top_30_active_users = sorted_df['author_username'].value_counts().nlargest(30)\n",
    "\n",
    "# Step 9: Display the top 30 most active users excluding replies\n",
    "active_users_heading_html = \"<h2>Top 30 Most Active Users (Excluding Replies)</h2>\"\n",
    "active_users_description_html = \"<p>Only original casts are considered for this calculation. Replies are excluded.</p>\"\n",
    "active_users_html = \"<ol>\"\n",
    "for user, count in top_30_active_users.items():\n",
    "    active_users_html += f\"<li>{user} - {count} casts</li>\"\n",
    "active_users_html += \"</ol>\"\n",
    "\n",
    "display(HTML(active_users_heading_html))\n",
    "display(HTML(active_users_description_html))\n",
    "display(HTML(active_users_html))\n",
    "\n",
    "# Step 8 (part 2): Get the top 30 most active users based on all casts, including replies\n",
    "top_30_active_users_including_replies = filtered_df['author_username'].value_counts().nlargest(30)\n",
    "\n",
    "# Step 9 (part 2): Display the top 30 most active users including replies\n",
    "active_users_including_replies_heading_html = \"<h2>Top 30 Most Active Users (Including Replies)</h2>\"\n",
    "active_users_including_replies_description_html = \"<p>All casts, including replies, are considered for this calculation.</p>\"\n",
    "active_users_including_replies_html = \"<ol>\"\n",
    "for user, count in top_30_active_users_including_replies.items():\n",
    "    active_users_including_replies_html += f\"<li>{user} - {count} casts</li>\"\n",
    "active_users_including_replies_html += \"</ol>\"\n",
    "\n",
    "display(HTML(active_users_including_replies_heading_html))\n",
    "display(HTML(active_users_including_replies_description_html))\n",
    "display(HTML(active_users_including_replies_html))\n",
    "# Step 6: Display total count of unique casts\n",
    "heading_html = f\"<h2>Top 100 casts ranked by total likes</h2>\"\n",
    "display(HTML(heading_html))\n",
    "\n",
    "# Step 7: Display top 100 original posts in individual cards\n",
    "def create_cast_card(row):\n",
    "    merkle_root_url = f\"https://searchcaster.xyz/search?merkleRoot={row['hash']}\"\n",
    "    text_without_image_urls = re.sub(r'(https?://\\S+\\.(?:png|jpe?g|gif))', '', row['text'])\n",
    "    text_with_hyperlinks = re.sub(r'(https?://\\S+)', r'<a href=\"\\1\" target=\"_blank\">\\1</a>', text_without_image_urls)\n",
    "    text_with_line_breaks = text_with_hyperlinks.replace('\\n', '<br>')\n",
    "    card_html = f\"\"\"\n",
    "    <div style=\"border: 1px solid #ccc; max-width: 600px; padding: 25px; margin-bottom: 25px;\">\n",
    "        <div style=\"max-width: 550px; margin: 0 auto;\">\n",
    "            <p><strong><a href=\"{merkle_root_url}\" target=\"_blank\">merkleRoot</a></strong></p>\n",
    "            <p><strong>@{row['author_username']} · fid {row['author_fid']}</strong></p>\n",
    "            <div style=\"word-wrap: break-word; margin: 10px 0;\">{text_with_line_breaks}</div>\n",
    "    \"\"\"\n",
    "    if 'http' in row['text']:\n",
    "        words = row['text'].split()\n",
    "        for word in words:\n",
    "            if word.startswith('http') and (word.endswith('.jpg') or word.endswith('.png') or word.endswith('.gif')):\n",
    "                card_html += f'<div style=\"text-align: center;\"><img src=\"{word}\" style=\"max-width: 550px; margin-top: 10px;\"></div>'\n",
    "\n",
    "    # Add heart icon and number count for Reactions Count\n",
    "    purple_heart_icon = \"&#x1F49C;\"  # Unicode code point for purple heart icon\n",
    "    card_html += f'<p style=\"color: purple; margin: 10px 0 0;\">{purple_heart_icon} {row[\"reactions_count\"]} '\n",
    "\n",
    "    # Add chat bubble icon and number count for Replies Count\n",
    "    chat_bubble_icon = \"&#x1F4AC;\"  # Unicode code point for chat bubble icon\n",
    "    card_html += f'<span style=\"margin-left: 5px; margin-top: 10px;\">{chat_bubble_icon} {row[\"replies_count\"]}</span></p>'\n",
    "\n",
    "    card_html += \"</div></div>\"\n",
    "    return card_html\n",
    "\n",
    "for index, row in sorted_df.head(100).iterrows():\n",
    "    card = create_cast_card(row)\n",
    "    display(HTML(card))"
   ]
  },
  {
   "cell_type": "code",
   "execution_count": null,
   "id": "1ee152eb",
   "metadata": {},
   "outputs": [],
   "source": []
  }
 ],
 "metadata": {
  "kernelspec": {
   "display_name": "Python 3 (ipykernel)",
   "language": "python",
   "name": "python3"
  },
  "language_info": {
   "codemirror_mode": {
    "name": "ipython",
    "version": 3
   },
   "file_extension": ".py",
   "mimetype": "text/x-python",
   "name": "python",
   "nbconvert_exporter": "python",
   "pygments_lexer": "ipython3",
   "version": "3.9.13"
  }
 },
 "nbformat": 4,
 "nbformat_minor": 5
}
