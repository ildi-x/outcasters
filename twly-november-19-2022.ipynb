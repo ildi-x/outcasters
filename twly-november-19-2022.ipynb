{
 "cells": [
  {
   "cell_type": "markdown",
   "id": "784b1f6d",
   "metadata": {},
   "source": [
    "## OUTCASTERS SNAPSHOT 020"
   ]
  },
  {
   "cell_type": "markdown",
   "id": "398ad3ad",
   "metadata": {},
   "source": [
    "https://outcasters.xyz "
   ]
  },
  {
   "cell_type": "code",
   "execution_count": 1,
   "id": "6471faa5",
   "metadata": {
    "scrolled": false
   },
   "outputs": [
    {
     "data": {
      "text/html": [
       "\n",
       "    <div style=\"max-width: 600px; margin-bottom: 25px;\">\n",
       "        <h2 style=\"margin-bottom: 15px;\">Total Casts</h2>\n",
       "        <p style=\"font-size: 18x; margin: 5px 0 5px;\">Including Replies: 18940</p>\n",
       "        <p style=\"font-size: 18x; margin: 5px 0;\">Excluding Replies: 5556</p>\n",
       "    </div>\n"
      ],
      "text/plain": [
       "<IPython.core.display.HTML object>"
      ]
     },
     "metadata": {},
     "output_type": "display_data"
    },
    {
     "data": {
      "text/html": [
       "<h2>Top 30 Most Active Users (Excluding Replies)</h2>"
      ],
      "text/plain": [
       "<IPython.core.display.HTML object>"
      ]
     },
     "metadata": {},
     "output_type": "display_data"
    },
    {
     "data": {
      "text/html": [
       "<p>Only original casts are considered for this calculation. Replies are excluded.</p>"
      ],
      "text/plain": [
       "<IPython.core.display.HTML object>"
      ]
     },
     "metadata": {},
     "output_type": "display_data"
    },
    {
     "data": {
      "text/html": [
       "<ol><li>welcome - 396 casts</li><li>juan - 88 casts</li><li>ace - 82 casts</li><li>vgr - 63 casts</li><li>abc - 57 casts</li><li>dwr - 56 casts</li><li>ivy - 56 casts</li><li>tg - 47 casts</li><li>preach - 39 casts</li><li>timdaub - 36 casts</li><li>daojoan - 35 casts</li><li>cyrus - 34 casts</li><li>breck - 34 casts</li><li>samir - 33 casts</li><li>giu - 30 casts</li><li>pugson - 30 casts</li><li>mrbriandesign - 28 casts</li><li>les - 26 casts</li><li>molly - 25 casts</li><li>gabrielayuso - 25 casts</li><li>jayce - 25 casts</li><li>futureartist - 25 casts</li><li>cameron - 24 casts</li><li>keccers - 23 casts</li><li>alexanderchopan - 23 casts</li><li>jk - 22 casts</li><li>macbudkowski - 22 casts</li><li>elie - 21 casts</li><li>haute - 20 casts</li><li>etherbrian - 20 casts</li></ol>"
      ],
      "text/plain": [
       "<IPython.core.display.HTML object>"
      ]
     },
     "metadata": {},
     "output_type": "display_data"
    },
    {
     "data": {
      "text/html": [
       "<h2>Top 30 Most Active Users (Including Replies)</h2>"
      ],
      "text/plain": [
       "<IPython.core.display.HTML object>"
      ]
     },
     "metadata": {},
     "output_type": "display_data"
    },
    {
     "data": {
      "text/html": [
       "<p>All casts, including replies, are considered for this calculation.</p>"
      ],
      "text/plain": [
       "<IPython.core.display.HTML object>"
      ]
     },
     "metadata": {},
     "output_type": "display_data"
    },
    {
     "data": {
      "text/html": [
       "<ol><li>briang - 557 casts</li><li>juan - 400 casts</li><li>welcome - 396 casts</li><li>dwr - 390 casts</li><li>ace - 325 casts</li><li>perl - 320 casts</li><li>cameron - 312 casts</li><li>ccarella - 175 casts</li><li>vgr - 160 casts</li><li>preach - 130 casts</li><li>pugson - 130 casts</li><li>ivy - 127 casts</li><li>cyrus - 125 casts</li><li>cassie - 124 casts</li><li>samir - 119 casts</li><li>giu - 111 casts</li><li>macbudkowski - 109 casts</li><li>davidmoon - 108 casts</li><li>timdaub - 107 casts</li><li>jibaros - 104 casts</li><li>les - 103 casts</li><li>fun - 98 casts</li><li>bot - 96 casts</li><li>zico - 96 casts</li><li>bias - 94 casts</li><li>nonlinear - 86 casts</li><li>jayce - 86 casts</li><li>j4ck - 86 casts</li><li>pfista - 85 casts</li><li>jayme - 82 casts</li></ol>"
      ],
      "text/plain": [
       "<IPython.core.display.HTML object>"
      ]
     },
     "metadata": {},
     "output_type": "display_data"
    },
    {
     "data": {
      "text/html": [
       "<h2>Top 100 casts ranked by total likes</h2>"
      ],
      "text/plain": [
       "<IPython.core.display.HTML object>"
      ]
     },
     "metadata": {},
     "output_type": "display_data"
    },
    {
     "data": {
      "text/html": [
       "\n",
       "    <div style=\"border: 1px solid #ccc; max-width: 600px; padding: 25px; margin-bottom: 25px;\">\n",
       "        <div style=\"max-width: 550px; margin: 0 auto;\">\n",
       "            <p><strong><a href=\"https://searchcaster.xyz/search?merkleRoot=0x568058d1cc3f002095f9090f43d8eec4ae674087\" target=\"_blank\">merkleRoot</a></strong></p>\n",
       "            <p><strong>@cassie · fid 1325</strong></p>\n",
       "            <div style=\"word-wrap: break-word; margin: 10px 0;\">I turned in my two weeks notice at Coinbase today.<br><br>👀 What’s next?<br><br>Quilibrium whitepaper this year, and:<br><br>I am joining the Farcaster team! 🤩 Looking forward to see what we can all accomplish together 💜</div>\n",
       "    <p style=\"color: purple; margin: 10px 0 0;\">&#x1F49C; 227 <span style=\"margin-left: 5px; margin-top: 10px;\">&#x1F4AC; 52</span></p></div></div>"
      ],
      "text/plain": [
       "<IPython.core.display.HTML object>"
      ]
     },
     "metadata": {},
     "output_type": "display_data"
    },
    {
     "data": {
      "text/html": [
       "\n",
       "    <div style=\"border: 1px solid #ccc; max-width: 600px; padding: 25px; margin-bottom: 25px;\">\n",
       "        <div style=\"max-width: 550px; margin: 0 auto;\">\n",
       "            <p><strong><a href=\"https://searchcaster.xyz/search?merkleRoot=0xe853fe269f1122989cd66f15528e142a6e6eaeec\" target=\"_blank\">merkleRoot</a></strong></p>\n",
       "            <p><strong>@pmarca · fid 51</strong></p>\n",
       "            <div style=\"word-wrap: break-word; margin: 10px 0;\">A person I have known for more than ten years, who I consider trustworthy, is convinced Farcaster will shortly experience an explosion of fun. I don’t know anything concrete, but if I were exposed, I would be excited.</div>\n",
       "    <p style=\"color: purple; margin: 10px 0 0;\">&#x1F49C; 215 <span style=\"margin-left: 5px; margin-top: 10px;\">&#x1F4AC; 18</span></p></div></div>"
      ],
      "text/plain": [
       "<IPython.core.display.HTML object>"
      ]
     },
     "metadata": {},
     "output_type": "display_data"
    },
    {
     "data": {
      "text/html": [
       "\n",
       "    <div style=\"border: 1px solid #ccc; max-width: 600px; padding: 25px; margin-bottom: 25px;\">\n",
       "        <div style=\"max-width: 550px; margin: 0 auto;\">\n",
       "            <p><strong><a href=\"https://searchcaster.xyz/search?merkleRoot=0xf368adbe7867f308bd80788f4f0c0e06fd437702\" target=\"_blank\">merkleRoot</a></strong></p>\n",
       "            <p><strong>@phil · fid 129</strong></p>\n",
       "            <div style=\"word-wrap: break-word; margin: 10px 0;\">Some personal news: </div>\n",
       "    <div style=\"text-align: center;\"><img src=\"https://i.imgur.com/MpdgkKY.jpg\" style=\"max-width: 550px; margin-top: 10px;\"></div><p style=\"color: purple; margin: 10px 0 0;\">&#x1F49C; 200 <span style=\"margin-left: 5px; margin-top: 10px;\">&#x1F4AC; 73</span></p></div></div>"
      ],
      "text/plain": [
       "<IPython.core.display.HTML object>"
      ]
     },
     "metadata": {},
     "output_type": "display_data"
    },
    {
     "data": {
      "text/html": [
       "\n",
       "    <div style=\"border: 1px solid #ccc; max-width: 600px; padding: 25px; margin-bottom: 25px;\">\n",
       "        <div style=\"max-width: 550px; margin: 0 auto;\">\n",
       "            <p><strong><a href=\"https://searchcaster.xyz/search?merkleRoot=0xeaf79f55bdf69b1244e4c3dae5f32842d5d61070\" target=\"_blank\">merkleRoot</a></strong></p>\n",
       "            <p><strong>@dwr · fid 3</strong></p>\n",
       "            <div style=\"word-wrap: break-word; margin: 10px 0;\">gm happy thanksgiving <br><br>We started with French toast </div>\n",
       "    <div style=\"text-align: center;\"><img src=\"https://i.imgur.com/o7lMLvr.jpg\" style=\"max-width: 550px; margin-top: 10px;\"></div><p style=\"color: purple; margin: 10px 0 0;\">&#x1F49C; 159 <span style=\"margin-left: 5px; margin-top: 10px;\">&#x1F4AC; 10</span></p></div></div>"
      ],
      "text/plain": [
       "<IPython.core.display.HTML object>"
      ]
     },
     "metadata": {},
     "output_type": "display_data"
    },
    {
     "data": {
      "text/html": [
       "\n",
       "    <div style=\"border: 1px solid #ccc; max-width: 600px; padding: 25px; margin-bottom: 25px;\">\n",
       "        <div style=\"max-width: 550px; margin: 0 auto;\">\n",
       "            <p><strong><a href=\"https://searchcaster.xyz/search?merkleRoot=0xebcb98b5cfecf106dd3a3168ea6e644052934554\" target=\"_blank\">merkleRoot</a></strong></p>\n",
       "            <p><strong>@dwr · fid 3</strong></p>\n",
       "            <div style=\"word-wrap: break-word; margin: 10px 0;\">gn first night of xmas music for the season</div>\n",
       "    <p style=\"color: purple; margin: 10px 0 0;\">&#x1F49C; 135 <span style=\"margin-left: 5px; margin-top: 10px;\">&#x1F4AC; 16</span></p></div></div>"
      ],
      "text/plain": [
       "<IPython.core.display.HTML object>"
      ]
     },
     "metadata": {},
     "output_type": "display_data"
    },
    {
     "data": {
      "text/html": [
       "\n",
       "    <div style=\"border: 1px solid #ccc; max-width: 600px; padding: 25px; margin-bottom: 25px;\">\n",
       "        <div style=\"max-width: 550px; margin: 0 auto;\">\n",
       "            <p><strong><a href=\"https://searchcaster.xyz/search?merkleRoot=0x9ac4fd3cd4bbe4fede9c9bfa5f692a1dc5cbcaa7\" target=\"_blank\">merkleRoot</a></strong></p>\n",
       "            <p><strong>@dwr · fid 3</strong></p>\n",
       "            <div style=\"word-wrap: break-word; margin: 10px 0;\">tonight’s menu: lamb saddle </div>\n",
       "    <div style=\"text-align: center;\"><img src=\"https://i.imgur.com/qS4i6xr.jpg\" style=\"max-width: 550px; margin-top: 10px;\"></div><p style=\"color: purple; margin: 10px 0 0;\">&#x1F49C; 115 <span style=\"margin-left: 5px; margin-top: 10px;\">&#x1F4AC; 8</span></p></div></div>"
      ],
      "text/plain": [
       "<IPython.core.display.HTML object>"
      ]
     },
     "metadata": {},
     "output_type": "display_data"
    },
    {
     "data": {
      "text/html": [
       "\n",
       "    <div style=\"border: 1px solid #ccc; max-width: 600px; padding: 25px; margin-bottom: 25px;\">\n",
       "        <div style=\"max-width: 550px; margin: 0 auto;\">\n",
       "            <p><strong><a href=\"https://searchcaster.xyz/search?merkleRoot=0x247dbaa89914fdadc181ad45a7ac69412a0e710b\" target=\"_blank\">merkleRoot</a></strong></p>\n",
       "            <p><strong>@dwr · fid 3</strong></p>\n",
       "            <div style=\"word-wrap: break-word; margin: 10px 0;\">Going to experiment with a word of the day to get a bump on the invite list: if you have a friend waiting on a Farcaster invite, have them send me a Twitter DM with the word --<br><br>gjelina<br><br>Will prioritize that queue for the rest of today.</div>\n",
       "    <p style=\"color: purple; margin: 10px 0 0;\">&#x1F49C; 113 <span style=\"margin-left: 5px; margin-top: 10px;\">&#x1F4AC; 15</span></p></div></div>"
      ],
      "text/plain": [
       "<IPython.core.display.HTML object>"
      ]
     },
     "metadata": {},
     "output_type": "display_data"
    },
    {
     "data": {
      "text/html": [
       "\n",
       "    <div style=\"border: 1px solid #ccc; max-width: 600px; padding: 25px; margin-bottom: 25px;\">\n",
       "        <div style=\"max-width: 550px; margin: 0 auto;\">\n",
       "            <p><strong><a href=\"https://searchcaster.xyz/search?merkleRoot=0x5e783ec1833290322338112b4ccfe40e868bf9cb\" target=\"_blank\">merkleRoot</a></strong></p>\n",
       "            <p><strong>@dwr · fid 3</strong></p>\n",
       "            <div style=\"word-wrap: break-word; margin: 10px 0;\">Yesterday was the first *day* with >1,000 unique people casting. <br><br>~20% of the entire protocol sent a cast yesterday.</div>\n",
       "    <p style=\"color: purple; margin: 10px 0 0;\">&#x1F49C; 102 <span style=\"margin-left: 5px; margin-top: 10px;\">&#x1F4AC; 12</span></p></div></div>"
      ],
      "text/plain": [
       "<IPython.core.display.HTML object>"
      ]
     },
     "metadata": {},
     "output_type": "display_data"
    },
    {
     "data": {
      "text/html": [
       "\n",
       "    <div style=\"border: 1px solid #ccc; max-width: 600px; padding: 25px; margin-bottom: 25px;\">\n",
       "        <div style=\"max-width: 550px; margin: 0 auto;\">\n",
       "            <p><strong><a href=\"https://searchcaster.xyz/search?merkleRoot=0xbc80fa5c5f5abf49af227d6415cb2c393d106a41\" target=\"_blank\">merkleRoot</a></strong></p>\n",
       "            <p><strong>@dwr · fid 3</strong></p>\n",
       "            <div style=\"word-wrap: break-word; margin: 10px 0;\">Yesterday was the first time trailing 7-day DAU for the protocol was >2,000.</div>\n",
       "    <p style=\"color: purple; margin: 10px 0 0;\">&#x1F49C; 102 <span style=\"margin-left: 5px; margin-top: 10px;\">&#x1F4AC; 7</span></p></div></div>"
      ],
      "text/plain": [
       "<IPython.core.display.HTML object>"
      ]
     },
     "metadata": {},
     "output_type": "display_data"
    },
    {
     "data": {
      "text/html": [
       "\n",
       "    <div style=\"border: 1px solid #ccc; max-width: 600px; padding: 25px; margin-bottom: 25px;\">\n",
       "        <div style=\"max-width: 550px; margin: 0 auto;\">\n",
       "            <p><strong><a href=\"https://searchcaster.xyz/search?merkleRoot=0xc32ce10560fffba7de2b0021318ddf9f9d8b6bbf\" target=\"_blank\">merkleRoot</a></strong></p>\n",
       "            <p><strong>@jayme · fid 373</strong></p>\n",
       "            <div style=\"word-wrap: break-word; margin: 10px 0;\">Back in my day our wallet was a binder </div>\n",
       "    <div style=\"text-align: center;\"><img src=\"https://i.imgur.com/OBdRJaH.jpg\" style=\"max-width: 550px; margin-top: 10px;\"></div><p style=\"color: purple; margin: 10px 0 0;\">&#x1F49C; 100 <span style=\"margin-left: 5px; margin-top: 10px;\">&#x1F4AC; 12</span></p></div></div>"
      ],
      "text/plain": [
       "<IPython.core.display.HTML object>"
      ]
     },
     "metadata": {},
     "output_type": "display_data"
    },
    {
     "data": {
      "text/html": [
       "\n",
       "    <div style=\"border: 1px solid #ccc; max-width: 600px; padding: 25px; margin-bottom: 25px;\">\n",
       "        <div style=\"max-width: 550px; margin: 0 auto;\">\n",
       "            <p><strong><a href=\"https://searchcaster.xyz/search?merkleRoot=0x0055775805ba392226710c0eea1eb5c2dc63ca90\" target=\"_blank\">merkleRoot</a></strong></p>\n",
       "            <p><strong>@dwr · fid 3</strong></p>\n",
       "            <div style=\"word-wrap: break-word; margin: 10px 0;\">Have had a few questions about Farcaster monetization recently:<br><br> </div>\n",
       "    <div style=\"text-align: center;\"><img src=\"https://i.imgur.com/RllEwZZ.png\" style=\"max-width: 550px; margin-top: 10px;\"></div><p style=\"color: purple; margin: 10px 0 0;\">&#x1F49C; 96 <span style=\"margin-left: 5px; margin-top: 10px;\">&#x1F4AC; 13</span></p></div></div>"
      ],
      "text/plain": [
       "<IPython.core.display.HTML object>"
      ]
     },
     "metadata": {},
     "output_type": "display_data"
    },
    {
     "data": {
      "text/html": [
       "\n",
       "    <div style=\"border: 1px solid #ccc; max-width: 600px; padding: 25px; margin-bottom: 25px;\">\n",
       "        <div style=\"max-width: 550px; margin: 0 auto;\">\n",
       "            <p><strong><a href=\"https://searchcaster.xyz/search?merkleRoot=0x1476b0c9596b930a69f8c2836b70590b97efb8a9\" target=\"_blank\">merkleRoot</a></strong></p>\n",
       "            <p><strong>@colin · fid 378</strong></p>\n",
       "            <div style=\"word-wrap: break-word; margin: 10px 0;\">Farcaster starter pack<br><br>Did I miss anything? </div>\n",
       "    <div style=\"text-align: center;\"><img src=\"https://i.imgur.com/yE05oBy.jpg\" style=\"max-width: 550px; margin-top: 10px;\"></div><p style=\"color: purple; margin: 10px 0 0;\">&#x1F49C; 96 <span style=\"margin-left: 5px; margin-top: 10px;\">&#x1F4AC; 19</span></p></div></div>"
      ],
      "text/plain": [
       "<IPython.core.display.HTML object>"
      ]
     },
     "metadata": {},
     "output_type": "display_data"
    },
    {
     "data": {
      "text/html": [
       "\n",
       "    <div style=\"border: 1px solid #ccc; max-width: 600px; padding: 25px; margin-bottom: 25px;\">\n",
       "        <div style=\"max-width: 550px; margin: 0 auto;\">\n",
       "            <p><strong><a href=\"https://searchcaster.xyz/search?merkleRoot=0x5b627ab63adce58f5a7b685ac25c0d1c2291a843\" target=\"_blank\">merkleRoot</a></strong></p>\n",
       "            <p><strong>@balajis · fid 37</strong></p>\n",
       "            <div style=\"word-wrap: break-word; margin: 10px 0;\">Suppose Farcaster becomes as decentralized as Ethereum.<br><br>What can be built if you assume a messaging protocol running alongside a smart contracts protocol?</div>\n",
       "    <p style=\"color: purple; margin: 10px 0 0;\">&#x1F49C; 92 <span style=\"margin-left: 5px; margin-top: 10px;\">&#x1F4AC; 22</span></p></div></div>"
      ],
      "text/plain": [
       "<IPython.core.display.HTML object>"
      ]
     },
     "metadata": {},
     "output_type": "display_data"
    },
    {
     "data": {
      "text/html": [
       "\n",
       "    <div style=\"border: 1px solid #ccc; max-width: 600px; padding: 25px; margin-bottom: 25px;\">\n",
       "        <div style=\"max-width: 550px; margin: 0 auto;\">\n",
       "            <p><strong><a href=\"https://searchcaster.xyz/search?merkleRoot=0x062ce37bf88f7efabcb41a8a961db04443c69eeb\" target=\"_blank\">merkleRoot</a></strong></p>\n",
       "            <p><strong>@fredwilson · fid 169</strong></p>\n",
       "            <div style=\"word-wrap: break-word; margin: 10px 0;\">Paul is as good as it gets but this is a bad tweet. First of all, we are already in systemic risk. Contagion is everywhere. But there is only so far that contagion can go because self custody is the ultimate firebreak <a href=\"https://twitter.com/paulg/status/1594446009010212865?t=kuqwg-J5IAGifzq8tp3bvQ&s=19\" target=\"_blank\">https://twitter.com/paulg/status/1594446009010212865?t=kuqwg-J5IAGifzq8tp3bvQ&s=19</a></div>\n",
       "    <p style=\"color: purple; margin: 10px 0 0;\">&#x1F49C; 90 <span style=\"margin-left: 5px; margin-top: 10px;\">&#x1F4AC; 19</span></p></div></div>"
      ],
      "text/plain": [
       "<IPython.core.display.HTML object>"
      ]
     },
     "metadata": {},
     "output_type": "display_data"
    },
    {
     "data": {
      "text/html": [
       "\n",
       "    <div style=\"border: 1px solid #ccc; max-width: 600px; padding: 25px; margin-bottom: 25px;\">\n",
       "        <div style=\"max-width: 550px; margin: 0 auto;\">\n",
       "            <p><strong><a href=\"https://searchcaster.xyz/search?merkleRoot=0x842c61a2cefcf80c81d1feefcc0bf0b5bd91bcf9\" target=\"_blank\">merkleRoot</a></strong></p>\n",
       "            <p><strong>@naveed · fid 1409</strong></p>\n",
       "            <div style=\"word-wrap: break-word; margin: 10px 0;\">Made a thing that makes it easy to send any eth address a message as an NFT<br><br>💬 mintmessage.xyz </div>\n",
       "    <div style=\"text-align: center;\"><img src=\"https://i.imgur.com/kWdt6h2.jpg\" style=\"max-width: 550px; margin-top: 10px;\"></div><p style=\"color: purple; margin: 10px 0 0;\">&#x1F49C; 86 <span style=\"margin-left: 5px; margin-top: 10px;\">&#x1F4AC; 22</span></p></div></div>"
      ],
      "text/plain": [
       "<IPython.core.display.HTML object>"
      ]
     },
     "metadata": {},
     "output_type": "display_data"
    },
    {
     "data": {
      "text/html": [
       "\n",
       "    <div style=\"border: 1px solid #ccc; max-width: 600px; padding: 25px; margin-bottom: 25px;\">\n",
       "        <div style=\"max-width: 550px; margin: 0 auto;\">\n",
       "            <p><strong><a href=\"https://searchcaster.xyz/search?merkleRoot=0xc037f10f06a399e6383463dd34e3f3f9ca3fb534\" target=\"_blank\">merkleRoot</a></strong></p>\n",
       "            <p><strong>@v · fid 2</strong></p>\n",
       "            <div style=\"word-wrap: break-word; margin: 10px 0;\">Babe wake up new @vbuterin dropped <br><br><a href=\"https://vitalik.ca/general/2022/11/19/proof_of_solvency.html\" target=\"_blank\">https://vitalik.ca/general/2022/11/19/proof_of_solvency.html</a></div>\n",
       "    <p style=\"color: purple; margin: 10px 0 0;\">&#x1F49C; 85 <span style=\"margin-left: 5px; margin-top: 10px;\">&#x1F4AC; 8</span></p></div></div>"
      ],
      "text/plain": [
       "<IPython.core.display.HTML object>"
      ]
     },
     "metadata": {},
     "output_type": "display_data"
    },
    {
     "data": {
      "text/html": [
       "\n",
       "    <div style=\"border: 1px solid #ccc; max-width: 600px; padding: 25px; margin-bottom: 25px;\">\n",
       "        <div style=\"max-width: 550px; margin: 0 auto;\">\n",
       "            <p><strong><a href=\"https://searchcaster.xyz/search?merkleRoot=0xad5f76c4b3bfa9974cb572a55c73a9e24cbd6064\" target=\"_blank\">merkleRoot</a></strong></p>\n",
       "            <p><strong>@dwr · fid 3</strong></p>\n",
       "            <div style=\"word-wrap: break-word; margin: 10px 0;\">Sunday AMA!</div>\n",
       "    <p style=\"color: purple; margin: 10px 0 0;\">&#x1F49C; 83 <span style=\"margin-left: 5px; margin-top: 10px;\">&#x1F4AC; 61</span></p></div></div>"
      ],
      "text/plain": [
       "<IPython.core.display.HTML object>"
      ]
     },
     "metadata": {},
     "output_type": "display_data"
    },
    {
     "data": {
      "text/html": [
       "\n",
       "    <div style=\"border: 1px solid #ccc; max-width: 600px; padding: 25px; margin-bottom: 25px;\">\n",
       "        <div style=\"max-width: 550px; margin: 0 auto;\">\n",
       "            <p><strong><a href=\"https://searchcaster.xyz/search?merkleRoot=0x17979d1fd05f3d27d33a937791d7263c25168523\" target=\"_blank\">merkleRoot</a></strong></p>\n",
       "            <p><strong>@dwr · fid 3</strong></p>\n",
       "            <div style=\"word-wrap: break-word; margin: 10px 0;\">Going to post xmas song a day for the next 34 days. <br><br>Day 1<br><br>~3:50 is divine<br><br><a href=\"https://www.youtube.com/watch?v=Y1oLk54R5Xg\" target=\"_blank\">https://www.youtube.com/watch?v=Y1oLk54R5Xg</a></div>\n",
       "    <p style=\"color: purple; margin: 10px 0 0;\">&#x1F49C; 80 <span style=\"margin-left: 5px; margin-top: 10px;\">&#x1F4AC; 17</span></p></div></div>"
      ],
      "text/plain": [
       "<IPython.core.display.HTML object>"
      ]
     },
     "metadata": {},
     "output_type": "display_data"
    },
    {
     "data": {
      "text/html": [
       "\n",
       "    <div style=\"border: 1px solid #ccc; max-width: 600px; padding: 25px; margin-bottom: 25px;\">\n",
       "        <div style=\"max-width: 550px; margin: 0 auto;\">\n",
       "            <p><strong><a href=\"https://searchcaster.xyz/search?merkleRoot=0x97ae92f9ac33054a32341bf1f144e5961b4bb293\" target=\"_blank\">merkleRoot</a></strong></p>\n",
       "            <p><strong>@dwr · fid 3</strong></p>\n",
       "            <div style=\"word-wrap: break-word; margin: 10px 0;\">10 years in crypto and surprised no one has built crypto Bloomberg.<br><br>- Desktop app<br>- TweetDeck functionality and API access to Twitter<br>- Other sources from reddit, Telegram, etc.<br>- Price and asset data<br>- Lightweight block explorer<br>- And now NFTs<br><br>Have been various attempts,</div>\n",
       "    <p style=\"color: purple; margin: 10px 0 0;\">&#x1F49C; 80 <span style=\"margin-left: 5px; margin-top: 10px;\">&#x1F4AC; 18</span></p></div></div>"
      ],
      "text/plain": [
       "<IPython.core.display.HTML object>"
      ]
     },
     "metadata": {},
     "output_type": "display_data"
    },
    {
     "data": {
      "text/html": [
       "\n",
       "    <div style=\"border: 1px solid #ccc; max-width: 600px; padding: 25px; margin-bottom: 25px;\">\n",
       "        <div style=\"max-width: 550px; margin: 0 auto;\">\n",
       "            <p><strong><a href=\"https://searchcaster.xyz/search?merkleRoot=0x2a446b81b2312a6bf17fe22280f50df38eedba46\" target=\"_blank\">merkleRoot</a></strong></p>\n",
       "            <p><strong>@dwr · fid 3</strong></p>\n",
       "            <div style=\"word-wrap: break-word; margin: 10px 0;\">tonight’s menu: shallot pasta </div>\n",
       "    <div style=\"text-align: center;\"><img src=\"https://i.imgur.com/NJjmaOW.jpg\" style=\"max-width: 550px; margin-top: 10px;\"></div><p style=\"color: purple; margin: 10px 0 0;\">&#x1F49C; 78 <span style=\"margin-left: 5px; margin-top: 10px;\">&#x1F4AC; 7</span></p></div></div>"
      ],
      "text/plain": [
       "<IPython.core.display.HTML object>"
      ]
     },
     "metadata": {},
     "output_type": "display_data"
    },
    {
     "data": {
      "text/html": [
       "\n",
       "    <div style=\"border: 1px solid #ccc; max-width: 600px; padding: 25px; margin-bottom: 25px;\">\n",
       "        <div style=\"max-width: 550px; margin: 0 auto;\">\n",
       "            <p><strong><a href=\"https://searchcaster.xyz/search?merkleRoot=0xc6de48673d4b1d42540a929acad5a8102255137b\" target=\"_blank\">merkleRoot</a></strong></p>\n",
       "            <p><strong>@pugson · fid 557</strong></p>\n",
       "            <div style=\"word-wrap: break-word; margin: 10px 0;\">gm. teasing my first farcaster collective community app </div>\n",
       "    <div style=\"text-align: center;\"><img src=\"https://i.imgur.com/6CtIgWl.jpg\" style=\"max-width: 550px; margin-top: 10px;\"></div><p style=\"color: purple; margin: 10px 0 0;\">&#x1F49C; 75 <span style=\"margin-left: 5px; margin-top: 10px;\">&#x1F4AC; 11</span></p></div></div>"
      ],
      "text/plain": [
       "<IPython.core.display.HTML object>"
      ]
     },
     "metadata": {},
     "output_type": "display_data"
    },
    {
     "data": {
      "text/html": [
       "\n",
       "    <div style=\"border: 1px solid #ccc; max-width: 600px; padding: 25px; margin-bottom: 25px;\">\n",
       "        <div style=\"max-width: 550px; margin: 0 auto;\">\n",
       "            <p><strong><a href=\"https://searchcaster.xyz/search?merkleRoot=0x978b4daa4acae8e85355b6fc62b7d94fa42b9703\" target=\"_blank\">merkleRoot</a></strong></p>\n",
       "            <p><strong>@pushix · fid 359</strong></p>\n",
       "            <div style=\"word-wrap: break-word; margin: 10px 0;\">To people managing engineers: do not underestimate how much devs like building.<br><br>Organize hack days, give them a budget and some room to have fun and prototype things (without any scope) and you’ll often find you can find magic.<br><br>Google did this really well when they were a startup. Maps and gmail came from it.</div>\n",
       "    <p style=\"color: purple; margin: 10px 0 0;\">&#x1F49C; 74 <span style=\"margin-left: 5px; margin-top: 10px;\">&#x1F4AC; 6</span></p></div></div>"
      ],
      "text/plain": [
       "<IPython.core.display.HTML object>"
      ]
     },
     "metadata": {},
     "output_type": "display_data"
    },
    {
     "data": {
      "text/html": [
       "\n",
       "    <div style=\"border: 1px solid #ccc; max-width: 600px; padding: 25px; margin-bottom: 25px;\">\n",
       "        <div style=\"max-width: 550px; margin: 0 auto;\">\n",
       "            <p><strong><a href=\"https://searchcaster.xyz/search?merkleRoot=0x622a211f3e2bb03232f6eb23a29e32375bc865fe\" target=\"_blank\">merkleRoot</a></strong></p>\n",
       "            <p><strong>@dwr · fid 3</strong></p>\n",
       "            <div style=\"word-wrap: break-word; margin: 10px 0;\">I'm thrilled to have @cassie joining the team! <br><br>Major level up for our *cryptography* expertise -- now well over 9000. </div>\n",
       "    <div style=\"text-align: center;\"><img src=\"https://i.imgur.com/IXgkV8Q.png\" style=\"max-width: 550px; margin-top: 10px;\"></div><p style=\"color: purple; margin: 10px 0 0;\">&#x1F49C; 71 <span style=\"margin-left: 5px; margin-top: 10px;\">&#x1F4AC; 7</span></p></div></div>"
      ],
      "text/plain": [
       "<IPython.core.display.HTML object>"
      ]
     },
     "metadata": {},
     "output_type": "display_data"
    },
    {
     "data": {
      "text/html": [
       "\n",
       "    <div style=\"border: 1px solid #ccc; max-width: 600px; padding: 25px; margin-bottom: 25px;\">\n",
       "        <div style=\"max-width: 550px; margin: 0 auto;\">\n",
       "            <p><strong><a href=\"https://searchcaster.xyz/search?merkleRoot=0x6dfa8331e03fbfa23adb7bff6cf4cedab330fbaf\" target=\"_blank\">merkleRoot</a></strong></p>\n",
       "            <p><strong>@drew-coffman · fid 3895</strong></p>\n",
       "            <div style=\"word-wrap: break-word; margin: 10px 0;\">what if we started designing apps like this again </div>\n",
       "    <div style=\"text-align: center;\"><img src=\"https://i.imgur.com/3y18Ffo.jpg\" style=\"max-width: 550px; margin-top: 10px;\"></div><p style=\"color: purple; margin: 10px 0 0;\">&#x1F49C; 68 <span style=\"margin-left: 5px; margin-top: 10px;\">&#x1F4AC; 13</span></p></div></div>"
      ],
      "text/plain": [
       "<IPython.core.display.HTML object>"
      ]
     },
     "metadata": {},
     "output_type": "display_data"
    },
    {
     "data": {
      "text/html": [
       "\n",
       "    <div style=\"border: 1px solid #ccc; max-width: 600px; padding: 25px; margin-bottom: 25px;\">\n",
       "        <div style=\"max-width: 550px; margin: 0 auto;\">\n",
       "            <p><strong><a href=\"https://searchcaster.xyz/search?merkleRoot=0x62c4923f3dcf0841ce6b21de41c2162f4f46e1ac\" target=\"_blank\">merkleRoot</a></strong></p>\n",
       "            <p><strong>@pmarca · fid 51</strong></p>\n",
       "            <div style=\"word-wrap: break-word; margin: 10px 0;\">What’s the most interesting thing/person/event in the world right now?</div>\n",
       "    <p style=\"color: purple; margin: 10px 0 0;\">&#x1F49C; 66 <span style=\"margin-left: 5px; margin-top: 10px;\">&#x1F4AC; 74</span></p></div></div>"
      ],
      "text/plain": [
       "<IPython.core.display.HTML object>"
      ]
     },
     "metadata": {},
     "output_type": "display_data"
    },
    {
     "data": {
      "text/html": [
       "\n",
       "    <div style=\"border: 1px solid #ccc; max-width: 600px; padding: 25px; margin-bottom: 25px;\">\n",
       "        <div style=\"max-width: 550px; margin: 0 auto;\">\n",
       "            <p><strong><a href=\"https://searchcaster.xyz/search?merkleRoot=0xcdb1f9dc9e7c835daef4bf5167c20ac6532998b0\" target=\"_blank\">merkleRoot</a></strong></p>\n",
       "            <p><strong>@vbuterin · fid 5650</strong></p>\n",
       "            <div style=\"word-wrap: break-word; margin: 10px 0;\"><a href=\"https://twitter.com/elonmusk/status/1595684143429550080\" target=\"_blank\">https://twitter.com/elonmusk/status/1595684143429550080</a><br><br>Any idea how true this is? Anyone here in far-from-US countries with slow internet connections seeing significant improvements?</div>\n",
       "    <p style=\"color: purple; margin: 10px 0 0;\">&#x1F49C; 64 <span style=\"margin-left: 5px; margin-top: 10px;\">&#x1F4AC; 30</span></p></div></div>"
      ],
      "text/plain": [
       "<IPython.core.display.HTML object>"
      ]
     },
     "metadata": {},
     "output_type": "display_data"
    },
    {
     "data": {
      "text/html": [
       "\n",
       "    <div style=\"border: 1px solid #ccc; max-width: 600px; padding: 25px; margin-bottom: 25px;\">\n",
       "        <div style=\"max-width: 550px; margin: 0 auto;\">\n",
       "            <p><strong><a href=\"https://searchcaster.xyz/search?merkleRoot=0x05798b59d7865a572a58f5a9145539f50ed54ca3\" target=\"_blank\">merkleRoot</a></strong></p>\n",
       "            <p><strong>@v · fid 2</strong></p>\n",
       "            <div style=\"word-wrap: break-word; margin: 10px 0;\">Super excited to have @cassie go from a farcaster user to a farcaster builder ! <br><br>Expect a lot of things to get better faster and stronger, especially around encryption</div>\n",
       "    <p style=\"color: purple; margin: 10px 0 0;\">&#x1F49C; 64 <span style=\"margin-left: 5px; margin-top: 10px;\">&#x1F4AC; 4</span></p></div></div>"
      ],
      "text/plain": [
       "<IPython.core.display.HTML object>"
      ]
     },
     "metadata": {},
     "output_type": "display_data"
    },
    {
     "data": {
      "text/html": [
       "\n",
       "    <div style=\"border: 1px solid #ccc; max-width: 600px; padding: 25px; margin-bottom: 25px;\">\n",
       "        <div style=\"max-width: 550px; margin: 0 auto;\">\n",
       "            <p><strong><a href=\"https://searchcaster.xyz/search?merkleRoot=0xf971a6e07e23710cf4866eb37e4cf74fe8f68e72\" target=\"_blank\">merkleRoot</a></strong></p>\n",
       "            <p><strong>@j4ck · fid 431</strong></p>\n",
       "            <div style=\"word-wrap: break-word; margin: 10px 0;\">i have a lot of fear around writing and publishing <br><br>i’m afraid it’s going to be bad or dumb, or that what i have to say isn’t worthwhile - so i don’t even start <br><br>anyone else? techniques to overcome this?</div>\n",
       "    <p style=\"color: purple; margin: 10px 0 0;\">&#x1F49C; 61 <span style=\"margin-left: 5px; margin-top: 10px;\">&#x1F4AC; 43</span></p></div></div>"
      ],
      "text/plain": [
       "<IPython.core.display.HTML object>"
      ]
     },
     "metadata": {},
     "output_type": "display_data"
    },
    {
     "data": {
      "text/html": [
       "\n",
       "    <div style=\"border: 1px solid #ccc; max-width: 600px; padding: 25px; margin-bottom: 25px;\">\n",
       "        <div style=\"max-width: 550px; margin: 0 auto;\">\n",
       "            <p><strong><a href=\"https://searchcaster.xyz/search?merkleRoot=0x19b29b2d4149b86309257e8e011a0c79c0ca0af2\" target=\"_blank\">merkleRoot</a></strong></p>\n",
       "            <p><strong>@matt69 · fid 5901</strong></p>\n",
       "            <div style=\"word-wrap: break-word; margin: 10px 0;\">born too late to own property<br><br>born too soon to be a teen tik tok star<br><br>born just in time to join Farcaster</div>\n",
       "    <p style=\"color: purple; margin: 10px 0 0;\">&#x1F49C; 59 <span style=\"margin-left: 5px; margin-top: 10px;\">&#x1F4AC; 7</span></p></div></div>"
      ],
      "text/plain": [
       "<IPython.core.display.HTML object>"
      ]
     },
     "metadata": {},
     "output_type": "display_data"
    },
    {
     "data": {
      "text/html": [
       "\n",
       "    <div style=\"border: 1px solid #ccc; max-width: 600px; padding: 25px; margin-bottom: 25px;\">\n",
       "        <div style=\"max-width: 550px; margin: 0 auto;\">\n",
       "            <p><strong><a href=\"https://searchcaster.xyz/search?merkleRoot=0x6c2ee27c5c55ccccae1f435a2a4c3b06e2c9137f\" target=\"_blank\">merkleRoot</a></strong></p>\n",
       "            <p><strong>@greg · fid 347</strong></p>\n",
       "            <div style=\"word-wrap: break-word; margin: 10px 0;\">New searchcaster.xyz just dropped </div>\n",
       "    <div style=\"text-align: center;\"><img src=\"https://i.imgur.com/YaCsgtc.png\" style=\"max-width: 550px; margin-top: 10px;\"></div><p style=\"color: purple; margin: 10px 0 0;\">&#x1F49C; 58 <span style=\"margin-left: 5px; margin-top: 10px;\">&#x1F4AC; 13</span></p></div></div>"
      ],
      "text/plain": [
       "<IPython.core.display.HTML object>"
      ]
     },
     "metadata": {},
     "output_type": "display_data"
    },
    {
     "data": {
      "text/html": [
       "\n",
       "    <div style=\"border: 1px solid #ccc; max-width: 600px; padding: 25px; margin-bottom: 25px;\">\n",
       "        <div style=\"max-width: 550px; margin: 0 auto;\">\n",
       "            <p><strong><a href=\"https://searchcaster.xyz/search?merkleRoot=0x7f61be35c525ac63f6ec5b94a784c4886abf9ccc\" target=\"_blank\">merkleRoot</a></strong></p>\n",
       "            <p><strong>@linda · fid 12</strong></p>\n",
       "            <div style=\"word-wrap: break-word; margin: 10px 0;\">My non-crypto interests:<br><br>- astrobiology<br>- travel (nomadic for past 2.5 years)<br>- minimalism (live out of 1 backpack)<br>- documentary making (working on an Ethereum doc)<br>- video games / board games<br>- food<br>- reading (mostly nonfiction and sci-fi)<br>- history of science/tech (esp Manhattan project)<br>- hiking/walks</div>\n",
       "    <p style=\"color: purple; margin: 10px 0 0;\">&#x1F49C; 57 <span style=\"margin-left: 5px; margin-top: 10px;\">&#x1F4AC; 9</span></p></div></div>"
      ],
      "text/plain": [
       "<IPython.core.display.HTML object>"
      ]
     },
     "metadata": {},
     "output_type": "display_data"
    },
    {
     "data": {
      "text/html": [
       "\n",
       "    <div style=\"border: 1px solid #ccc; max-width: 600px; padding: 25px; margin-bottom: 25px;\">\n",
       "        <div style=\"max-width: 550px; margin: 0 auto;\">\n",
       "            <p><strong><a href=\"https://searchcaster.xyz/search?merkleRoot=0xafce3c641cd066e701daf6eb3fc850438cb2d01f\" target=\"_blank\">merkleRoot</a></strong></p>\n",
       "            <p><strong>@pugson · fid 557</strong></p>\n",
       "            <div style=\"word-wrap: break-word; margin: 10px 0;\">thinking about a farcaster superapp that also ingests community apps (searchcaster, instacaster, launchcaster, unlonely) into a single client. a modular approach where you can enable features that interest you and have a personalized experience with the protocol.</div>\n",
       "    <p style=\"color: purple; margin: 10px 0 0;\">&#x1F49C; 57 <span style=\"margin-left: 5px; margin-top: 10px;\">&#x1F4AC; 18</span></p></div></div>"
      ],
      "text/plain": [
       "<IPython.core.display.HTML object>"
      ]
     },
     "metadata": {},
     "output_type": "display_data"
    },
    {
     "data": {
      "text/html": [
       "\n",
       "    <div style=\"border: 1px solid #ccc; max-width: 600px; padding: 25px; margin-bottom: 25px;\">\n",
       "        <div style=\"max-width: 550px; margin: 0 auto;\">\n",
       "            <p><strong><a href=\"https://searchcaster.xyz/search?merkleRoot=0xa8370c3d755cc4d6b5fbcebe8368844d6149f98f\" target=\"_blank\">merkleRoot</a></strong></p>\n",
       "            <p><strong>@dwr · fid 3</strong></p>\n",
       "            <div style=\"word-wrap: break-word; margin: 10px 0;\">All In Pod cast: Friedberg’s mental model for how the US dollar loses reserve status (mostly Ray Dalio) makes me question all of his science takes.<br><br>Not a Chamath fan, but his model seems Zeihanist and correct.</div>\n",
       "    <p style=\"color: purple; margin: 10px 0 0;\">&#x1F49C; 57 <span style=\"margin-left: 5px; margin-top: 10px;\">&#x1F4AC; 14</span></p></div></div>"
      ],
      "text/plain": [
       "<IPython.core.display.HTML object>"
      ]
     },
     "metadata": {},
     "output_type": "display_data"
    },
    {
     "data": {
      "text/html": [
       "\n",
       "    <div style=\"border: 1px solid #ccc; max-width: 600px; padding: 25px; margin-bottom: 25px;\">\n",
       "        <div style=\"max-width: 550px; margin: 0 auto;\">\n",
       "            <p><strong><a href=\"https://searchcaster.xyz/search?merkleRoot=0x1f90fa67aea782733fd50a30ee9d1f370904381c\" target=\"_blank\">merkleRoot</a></strong></p>\n",
       "            <p><strong>@nonlinear · fid 576</strong></p>\n",
       "            <div style=\"word-wrap: break-word; margin: 10px 0;\">non-crypto things i used to be into:<br><br>- climbing (sport, trad, alpine, ice)<br>- jiu jitsu<br>- economics (rothbard, sowell, hayek et al)<br>- axidraw/generative art<br>- shooting<br>- music (drums, guitar)<br><br>since having a kid and starting @fabric all i do is work and hang out with my family. i'm boring as shit and i fucking love it</div>\n",
       "    <p style=\"color: purple; margin: 10px 0 0;\">&#x1F49C; 56 <span style=\"margin-left: 5px; margin-top: 10px;\">&#x1F4AC; 11</span></p></div></div>"
      ],
      "text/plain": [
       "<IPython.core.display.HTML object>"
      ]
     },
     "metadata": {},
     "output_type": "display_data"
    },
    {
     "data": {
      "text/html": [
       "\n",
       "    <div style=\"border: 1px solid #ccc; max-width: 600px; padding: 25px; margin-bottom: 25px;\">\n",
       "        <div style=\"max-width: 550px; margin: 0 auto;\">\n",
       "            <p><strong><a href=\"https://searchcaster.xyz/search?merkleRoot=0x30176bd3734cc22f1ee0e1d4eda20609f8d4f18e\" target=\"_blank\">merkleRoot</a></strong></p>\n",
       "            <p><strong>@pugson · fid 557</strong></p>\n",
       "            <div style=\"word-wrap: break-word; margin: 10px 0;\">nature house inside a greenhouse in Sweden 🇸🇪 </div>\n",
       "    <div style=\"text-align: center;\"><img src=\"https://i.imgur.com/GRN0EJP.jpg\" style=\"max-width: 550px; margin-top: 10px;\"></div><p style=\"color: purple; margin: 10px 0 0;\">&#x1F49C; 56 <span style=\"margin-left: 5px; margin-top: 10px;\">&#x1F4AC; 6</span></p></div></div>"
      ],
      "text/plain": [
       "<IPython.core.display.HTML object>"
      ]
     },
     "metadata": {},
     "output_type": "display_data"
    },
    {
     "data": {
      "text/html": [
       "\n",
       "    <div style=\"border: 1px solid #ccc; max-width: 600px; padding: 25px; margin-bottom: 25px;\">\n",
       "        <div style=\"max-width: 550px; margin: 0 auto;\">\n",
       "            <p><strong><a href=\"https://searchcaster.xyz/search?merkleRoot=0x7320b3ef78553cb8ce019411f4173794048243a4\" target=\"_blank\">merkleRoot</a></strong></p>\n",
       "            <p><strong>@dwr · fid 3</strong></p>\n",
       "            <div style=\"word-wrap: break-word; margin: 10px 0;\">Sort of amazing how much Web 2.0 product thinking is lost to the sands of time: digg, FriendFeed, Technorati, FeedBurner, Google Reader, plurk, Hot Potato, Lastfm, Turntablefm, Flock Browser, etc.</div>\n",
       "    <p style=\"color: purple; margin: 10px 0 0;\">&#x1F49C; 55 <span style=\"margin-left: 5px; margin-top: 10px;\">&#x1F4AC; 16</span></p></div></div>"
      ],
      "text/plain": [
       "<IPython.core.display.HTML object>"
      ]
     },
     "metadata": {},
     "output_type": "display_data"
    },
    {
     "data": {
      "text/html": [
       "\n",
       "    <div style=\"border: 1px solid #ccc; max-width: 600px; padding: 25px; margin-bottom: 25px;\">\n",
       "        <div style=\"max-width: 550px; margin: 0 auto;\">\n",
       "            <p><strong><a href=\"https://searchcaster.xyz/search?merkleRoot=0xe5ec644abd9e4c4451c4a73b01ad1b6316798b24\" target=\"_blank\">merkleRoot</a></strong></p>\n",
       "            <p><strong>@dwr · fid 3</strong></p>\n",
       "            <div style=\"word-wrap: break-word; margin: 10px 0;\">The consistent stream of book recommendation requests on Farcaster make me think a client that's focused on Goodread's type functionality would do well.</div>\n",
       "    <p style=\"color: purple; margin: 10px 0 0;\">&#x1F49C; 54 <span style=\"margin-left: 5px; margin-top: 10px;\">&#x1F4AC; 10</span></p></div></div>"
      ],
      "text/plain": [
       "<IPython.core.display.HTML object>"
      ]
     },
     "metadata": {},
     "output_type": "display_data"
    },
    {
     "data": {
      "text/html": [
       "\n",
       "    <div style=\"border: 1px solid #ccc; max-width: 600px; padding: 25px; margin-bottom: 25px;\">\n",
       "        <div style=\"max-width: 550px; margin: 0 auto;\">\n",
       "            <p><strong><a href=\"https://searchcaster.xyz/search?merkleRoot=0x2aebb14603e2780b820a107bb07dadbaa55a0b5c\" target=\"_blank\">merkleRoot</a></strong></p>\n",
       "            <p><strong>@ted · fid 239</strong></p>\n",
       "            <div style=\"word-wrap: break-word; margin: 10px 0;\">I know Farcaster is like 99.99999% male, but this it too good not to share.<br><br>ps @briang @unlonely does this count as diversifying the tone </div>\n",
       "    <div style=\"text-align: center;\"><img src=\"https://i.imgur.com/8IpctE5.jpg\" style=\"max-width: 550px; margin-top: 10px;\"></div><p style=\"color: purple; margin: 10px 0 0;\">&#x1F49C; 54 <span style=\"margin-left: 5px; margin-top: 10px;\">&#x1F4AC; 7</span></p></div></div>"
      ],
      "text/plain": [
       "<IPython.core.display.HTML object>"
      ]
     },
     "metadata": {},
     "output_type": "display_data"
    },
    {
     "data": {
      "text/html": [
       "\n",
       "    <div style=\"border: 1px solid #ccc; max-width: 600px; padding: 25px; margin-bottom: 25px;\">\n",
       "        <div style=\"max-width: 550px; margin: 0 auto;\">\n",
       "            <p><strong><a href=\"https://searchcaster.xyz/search?merkleRoot=0x41780bf4efaf4111a3f6d1ad912c23752e9d245e\" target=\"_blank\">merkleRoot</a></strong></p>\n",
       "            <p><strong>@j4ck · fid 431</strong></p>\n",
       "            <div style=\"word-wrap: break-word; margin: 10px 0;\">i still just love the feel and experience of a physical book 🤷‍♂️</div>\n",
       "    <p style=\"color: purple; margin: 10px 0 0;\">&#x1F49C; 53 <span style=\"margin-left: 5px; margin-top: 10px;\">&#x1F4AC; 17</span></p></div></div>"
      ],
      "text/plain": [
       "<IPython.core.display.HTML object>"
      ]
     },
     "metadata": {},
     "output_type": "display_data"
    },
    {
     "data": {
      "text/html": [
       "\n",
       "    <div style=\"border: 1px solid #ccc; max-width: 600px; padding: 25px; margin-bottom: 25px;\">\n",
       "        <div style=\"max-width: 550px; margin: 0 auto;\">\n",
       "            <p><strong><a href=\"https://searchcaster.xyz/search?merkleRoot=0x85d80163d63419d1bdae96f9216665e26872221d\" target=\"_blank\">merkleRoot</a></strong></p>\n",
       "            <p><strong>@cameron · fid 617</strong></p>\n",
       "            <div style=\"word-wrap: break-word; margin: 10px 0;\">How have I not heard this mental model before?<br><br>The Rule of Thirds:<br>“When you're doing anything hard, you're meant to feel good 1/3 of the time, ok 1/3 of the time, and crappy 1/3 of the time. If that ratio is off, check to see if you’re fatiguing or not trying hard enough”<br><br><a href=\"https://www.youtube.com/shorts/cKndqq0\" target=\"_blank\">https://www.youtube.com/shorts/cKndqq0</a></div>\n",
       "    <p style=\"color: purple; margin: 10px 0 0;\">&#x1F49C; 53 <span style=\"margin-left: 5px; margin-top: 10px;\">&#x1F4AC; 16</span></p></div></div>"
      ],
      "text/plain": [
       "<IPython.core.display.HTML object>"
      ]
     },
     "metadata": {},
     "output_type": "display_data"
    },
    {
     "data": {
      "text/html": [
       "\n",
       "    <div style=\"border: 1px solid #ccc; max-width: 600px; padding: 25px; margin-bottom: 25px;\">\n",
       "        <div style=\"max-width: 550px; margin: 0 auto;\">\n",
       "            <p><strong><a href=\"https://searchcaster.xyz/search?merkleRoot=0x84dbfdf2405eb451b066a570a130e6d5af23d21c\" target=\"_blank\">merkleRoot</a></strong></p>\n",
       "            <p><strong>@cameron · fid 617</strong></p>\n",
       "            <div style=\"word-wrap: break-word; margin: 10px 0;\">“I love my movies. I’m making them for me — everyone else is just invited” <br><br>- Quentin Tarantino<br><br><br>Do you feel that way about what you do? Could you?</div>\n",
       "    <p style=\"color: purple; margin: 10px 0 0;\">&#x1F49C; 52 <span style=\"margin-left: 5px; margin-top: 10px;\">&#x1F4AC; 12</span></p></div></div>"
      ],
      "text/plain": [
       "<IPython.core.display.HTML object>"
      ]
     },
     "metadata": {},
     "output_type": "display_data"
    },
    {
     "data": {
      "text/html": [
       "\n",
       "    <div style=\"border: 1px solid #ccc; max-width: 600px; padding: 25px; margin-bottom: 25px;\">\n",
       "        <div style=\"max-width: 550px; margin: 0 auto;\">\n",
       "            <p><strong><a href=\"https://searchcaster.xyz/search?merkleRoot=0x42a72e3edeefbeec0846420d79655b1957129383\" target=\"_blank\">merkleRoot</a></strong></p>\n",
       "            <p><strong>@dwr · fid 3</strong></p>\n",
       "            <div style=\"word-wrap: break-word; margin: 10px 0;\">Have seen a few casts recently about client strategy, so wrote up some thoughts. <br><br>Happy to answer any questions either publicly or privately. Feel free to be blunt. :) </div>\n",
       "    <div style=\"text-align: center;\"><img src=\"https://i.imgur.com/0o6vhcl.png\" style=\"max-width: 550px; margin-top: 10px;\"></div><p style=\"color: purple; margin: 10px 0 0;\">&#x1F49C; 51 <span style=\"margin-left: 5px; margin-top: 10px;\">&#x1F4AC; 5</span></p></div></div>"
      ],
      "text/plain": [
       "<IPython.core.display.HTML object>"
      ]
     },
     "metadata": {},
     "output_type": "display_data"
    },
    {
     "data": {
      "text/html": [
       "\n",
       "    <div style=\"border: 1px solid #ccc; max-width: 600px; padding: 25px; margin-bottom: 25px;\">\n",
       "        <div style=\"max-width: 550px; margin: 0 auto;\">\n",
       "            <p><strong><a href=\"https://searchcaster.xyz/search?merkleRoot=0x9f42ba5858a82a41a76f0227e1dc0af2277de029\" target=\"_blank\">merkleRoot</a></strong></p>\n",
       "            <p><strong>@emodi · fid 604</strong></p>\n",
       "            <div style=\"word-wrap: break-word; margin: 10px 0;\">Non-crypto things I’m into:<br><br>- food & cooking<br>- travel (45 countries & counting)<br>- reading, mostly nonfiction but go hard on great fiction <br>- philosophy, history, science & technology (& any combo of those)<br>- business building<br>- design & architecture <br>- being a dad (where >90% non-work time goes & happiness comes fro</div>\n",
       "    <p style=\"color: purple; margin: 10px 0 0;\">&#x1F49C; 50 <span style=\"margin-left: 5px; margin-top: 10px;\">&#x1F4AC; 12</span></p></div></div>"
      ],
      "text/plain": [
       "<IPython.core.display.HTML object>"
      ]
     },
     "metadata": {},
     "output_type": "display_data"
    },
    {
     "data": {
      "text/html": [
       "\n",
       "    <div style=\"border: 1px solid #ccc; max-width: 600px; padding: 25px; margin-bottom: 25px;\">\n",
       "        <div style=\"max-width: 550px; margin: 0 auto;\">\n",
       "            <p><strong><a href=\"https://searchcaster.xyz/search?merkleRoot=0x207eae4ef146fcffe5a81ce4cef6762c3fe39539\" target=\"_blank\">merkleRoot</a></strong></p>\n",
       "            <p><strong>@dwr · fid 3</strong></p>\n",
       "            <div style=\"word-wrap: break-word; margin: 10px 0;\">Farcaster logo<br><br><a href=\"https://www.figma.com/file/E1RJ5DNTM8eHZpJI1bcaP3/Public-logo?node-id=0%3A1&t=ir8M54A42HVIfqYY-1\" target=\"_blank\">https://www.figma.com/file/E1RJ5DNTM8eHZpJI1bcaP3/Public-logo?node-id=0%3A1&t=ir8M54A42HVIfqYY-1</a></div>\n",
       "    <p style=\"color: purple; margin: 10px 0 0;\">&#x1F49C; 50 <span style=\"margin-left: 5px; margin-top: 10px;\">&#x1F4AC; 4</span></p></div></div>"
      ],
      "text/plain": [
       "<IPython.core.display.HTML object>"
      ]
     },
     "metadata": {},
     "output_type": "display_data"
    },
    {
     "data": {
      "text/html": [
       "\n",
       "    <div style=\"border: 1px solid #ccc; max-width: 600px; padding: 25px; margin-bottom: 25px;\">\n",
       "        <div style=\"max-width: 550px; margin: 0 auto;\">\n",
       "            <p><strong><a href=\"https://searchcaster.xyz/search?merkleRoot=0xa59e245c66dd88a0778fc44f21e11c6809cfa114\" target=\"_blank\">merkleRoot</a></strong></p>\n",
       "            <p><strong>@ted · fid 239</strong></p>\n",
       "            <div style=\"word-wrap: break-word; margin: 10px 0;\">my dad and I have this ritual where we FaceTime each other during the sunset. <br><br>him from the East, me from the West. 3 hours apart, both laughing as we chase the sun with our phones.<br><br>FaceTime never does the view justice, but damn does it feel like a hug and like home.<br><br>thank you iPhone. </div>\n",
       "    <div style=\"text-align: center;\"><img src=\"https://i.imgur.com/qkrgmwj.jpg\" style=\"max-width: 550px; margin-top: 10px;\"></div><p style=\"color: purple; margin: 10px 0 0;\">&#x1F49C; 50 <span style=\"margin-left: 5px; margin-top: 10px;\">&#x1F4AC; 4</span></p></div></div>"
      ],
      "text/plain": [
       "<IPython.core.display.HTML object>"
      ]
     },
     "metadata": {},
     "output_type": "display_data"
    },
    {
     "data": {
      "text/html": [
       "\n",
       "    <div style=\"border: 1px solid #ccc; max-width: 600px; padding: 25px; margin-bottom: 25px;\">\n",
       "        <div style=\"max-width: 550px; margin: 0 auto;\">\n",
       "            <p><strong><a href=\"https://searchcaster.xyz/search?merkleRoot=0x1fb4fdab6e209d48350e13d3bbb6f7deaf33c1da\" target=\"_blank\">merkleRoot</a></strong></p>\n",
       "            <p><strong>@ted · fid 239</strong></p>\n",
       "            <div style=\"word-wrap: break-word; margin: 10px 0;\">non-crypto interests:<br>- surfing and swimming (in the ocean)<br>- cooking (with friends and fam)<br>- gardening (learning from dad)<br>- neuroscience + gut health<br>- hiking / camping (under the stars)<br>- mezcal and disco nights (best together)<br>- cultural anthropology<br>- planning a commune (come join)<br>- walking<br>- biophilic design</div>\n",
       "    <p style=\"color: purple; margin: 10px 0 0;\">&#x1F49C; 50 <span style=\"margin-left: 5px; margin-top: 10px;\">&#x1F4AC; 10</span></p></div></div>"
      ],
      "text/plain": [
       "<IPython.core.display.HTML object>"
      ]
     },
     "metadata": {},
     "output_type": "display_data"
    },
    {
     "data": {
      "text/html": [
       "\n",
       "    <div style=\"border: 1px solid #ccc; max-width: 600px; padding: 25px; margin-bottom: 25px;\">\n",
       "        <div style=\"max-width: 550px; margin: 0 auto;\">\n",
       "            <p><strong><a href=\"https://searchcaster.xyz/search?merkleRoot=0x9236a7e9eb897a7bdf95ccef67ffcd6e20f5df99\" target=\"_blank\">merkleRoot</a></strong></p>\n",
       "            <p><strong>@pmarca · fid 51</strong></p>\n",
       "            <div style=\"word-wrap: break-word; margin: 10px 0;\">Suppose that “bullshit jobs” are real, but not for the reason Graeber says. What are the actual reasons? <a href=\"https://en.wikipedia.org/wiki/Bullshit_Jobs\" target=\"_blank\">https://en.wikipedia.org/wiki/Bullshit_Jobs</a></div>\n",
       "    <p style=\"color: purple; margin: 10px 0 0;\">&#x1F49C; 49 <span style=\"margin-left: 5px; margin-top: 10px;\">&#x1F4AC; 34</span></p></div></div>"
      ],
      "text/plain": [
       "<IPython.core.display.HTML object>"
      ]
     },
     "metadata": {},
     "output_type": "display_data"
    },
    {
     "data": {
      "text/html": [
       "\n",
       "    <div style=\"border: 1px solid #ccc; max-width: 600px; padding: 25px; margin-bottom: 25px;\">\n",
       "        <div style=\"max-width: 550px; margin: 0 auto;\">\n",
       "            <p><strong><a href=\"https://searchcaster.xyz/search?merkleRoot=0x782142214040f8bee081912d973411ce0025e9e6\" target=\"_blank\">merkleRoot</a></strong></p>\n",
       "            <p><strong>@giu · fid 124</strong></p>\n",
       "            <div style=\"word-wrap: break-word; margin: 10px 0;\">Stable diffusion developer adoption 📈📈 </div>\n",
       "    <div style=\"text-align: center;\"><img src=\"https://i.imgur.com/X9YyxOH.jpg\" style=\"max-width: 550px; margin-top: 10px;\"></div><p style=\"color: purple; margin: 10px 0 0;\">&#x1F49C; 48 <span style=\"margin-left: 5px; margin-top: 10px;\">&#x1F4AC; 9</span></p></div></div>"
      ],
      "text/plain": [
       "<IPython.core.display.HTML object>"
      ]
     },
     "metadata": {},
     "output_type": "display_data"
    },
    {
     "data": {
      "text/html": [
       "\n",
       "    <div style=\"border: 1px solid #ccc; max-width: 600px; padding: 25px; margin-bottom: 25px;\">\n",
       "        <div style=\"max-width: 550px; margin: 0 auto;\">\n",
       "            <p><strong><a href=\"https://searchcaster.xyz/search?merkleRoot=0xc840c474c13683b223e43961b901c37f9aca1a1a\" target=\"_blank\">merkleRoot</a></strong></p>\n",
       "            <p><strong>@emodi · fid 604</strong></p>\n",
       "            <div style=\"word-wrap: break-word; margin: 10px 0;\">Startup idea:<br><br>A kind of workspace to get long blocks of uninterrupted focus time in major cities <br><br>Disable your phone and anything else not required for what you want to get done <br><br>Inspired by early morning + airplane  productivity</div>\n",
       "    <p style=\"color: purple; margin: 10px 0 0;\">&#x1F49C; 47 <span style=\"margin-left: 5px; margin-top: 10px;\">&#x1F4AC; 12</span></p></div></div>"
      ],
      "text/plain": [
       "<IPython.core.display.HTML object>"
      ]
     },
     "metadata": {},
     "output_type": "display_data"
    },
    {
     "data": {
      "text/html": [
       "\n",
       "    <div style=\"border: 1px solid #ccc; max-width: 600px; padding: 25px; margin-bottom: 25px;\">\n",
       "        <div style=\"max-width: 550px; margin: 0 auto;\">\n",
       "            <p><strong><a href=\"https://searchcaster.xyz/search?merkleRoot=0x437c31abb4c87298dc323675851bea83c6ae0eb1\" target=\"_blank\">merkleRoot</a></strong></p>\n",
       "            <p><strong>@pushix · fid 359</strong></p>\n",
       "            <div style=\"word-wrap: break-word; margin: 10px 0;\">Just got beta invite to Once Upon, a better etherscan, and hooooly 🤯<br><br>Got some serious meme potential with the transactions degen grid and the holders bar chart. The functionality is intuitive and drills you down to the info you typically want.<br><br>stoked to use this @jomessin  </div>\n",
       "    <div style=\"text-align: center;\"><img src=\"https://i.imgur.com/cFPvO8N.png\" style=\"max-width: 550px; margin-top: 10px;\"></div><p style=\"color: purple; margin: 10px 0 0;\">&#x1F49C; 46 <span style=\"margin-left: 5px; margin-top: 10px;\">&#x1F4AC; 11</span></p></div></div>"
      ],
      "text/plain": [
       "<IPython.core.display.HTML object>"
      ]
     },
     "metadata": {},
     "output_type": "display_data"
    },
    {
     "data": {
      "text/html": [
       "\n",
       "    <div style=\"border: 1px solid #ccc; max-width: 600px; padding: 25px; margin-bottom: 25px;\">\n",
       "        <div style=\"max-width: 550px; margin: 0 auto;\">\n",
       "            <p><strong><a href=\"https://searchcaster.xyz/search?merkleRoot=0x30f8845390420dcf200219fa4652b0816cea4afe\" target=\"_blank\">merkleRoot</a></strong></p>\n",
       "            <p><strong>@giu · fid 124</strong></p>\n",
       "            <div style=\"word-wrap: break-word; margin: 10px 0;\">This is a big deal for Disney </div>\n",
       "    <div style=\"text-align: center;\"><img src=\"https://i.imgur.com/946SLWk.jpg\" style=\"max-width: 550px; margin-top: 10px;\"></div><p style=\"color: purple; margin: 10px 0 0;\">&#x1F49C; 45 <span style=\"margin-left: 5px; margin-top: 10px;\">&#x1F4AC; 13</span></p></div></div>"
      ],
      "text/plain": [
       "<IPython.core.display.HTML object>"
      ]
     },
     "metadata": {},
     "output_type": "display_data"
    },
    {
     "data": {
      "text/html": [
       "\n",
       "    <div style=\"border: 1px solid #ccc; max-width: 600px; padding: 25px; margin-bottom: 25px;\">\n",
       "        <div style=\"max-width: 550px; margin: 0 auto;\">\n",
       "            <p><strong><a href=\"https://searchcaster.xyz/search?merkleRoot=0xe8f66d1a3f855ec3f2c4c48b176b19310fde4330\" target=\"_blank\">merkleRoot</a></strong></p>\n",
       "            <p><strong>@cashjee · fid 2204</strong></p>\n",
       "            <div style=\"word-wrap: break-word; margin: 10px 0;\">Happy Thanksgiving Farcaster community! <br><br>Checkout what we have built at YC: <a href=\"https://www.usenucleus.io/card\" target=\"_blank\">https://www.usenucleus.io/card</a> - a debit card that allows you to spend USDC anywhere directly from your self-custody without needing a centralized exchange! <br><br>Lemme know your thoughts or if you want an invite code in the comments! 🚀 😀</div>\n",
       "    <p style=\"color: purple; margin: 10px 0 0;\">&#x1F49C; 45 <span style=\"margin-left: 5px; margin-top: 10px;\">&#x1F4AC; 24</span></p></div></div>"
      ],
      "text/plain": [
       "<IPython.core.display.HTML object>"
      ]
     },
     "metadata": {},
     "output_type": "display_data"
    },
    {
     "data": {
      "text/html": [
       "\n",
       "    <div style=\"border: 1px solid #ccc; max-width: 600px; padding: 25px; margin-bottom: 25px;\">\n",
       "        <div style=\"max-width: 550px; margin: 0 auto;\">\n",
       "            <p><strong><a href=\"https://searchcaster.xyz/search?merkleRoot=0xf886ac02fc98d48c7bc8e822f27116681fcc9bb0\" target=\"_blank\">merkleRoot</a></strong></p>\n",
       "            <p><strong>@matthew · fid 473</strong></p>\n",
       "            <div style=\"word-wrap: break-word; margin: 10px 0;\">non-crypto things I’m into:<br><br>🌄 Hiking + Biking<br>📚 Reading (non-fiction)<br>🎸 Live music / Raves<br>🌆 Architecture + Cities<br>🍳 Cooking + Baking<br>⛳️ Golf + Tennis<br>💻 Product design<br>🎮 Video games (MC, cod)<br>🚙 Road trips</div>\n",
       "    <p style=\"color: purple; margin: 10px 0 0;\">&#x1F49C; 45 <span style=\"margin-left: 5px; margin-top: 10px;\">&#x1F4AC; 7</span></p></div></div>"
      ],
      "text/plain": [
       "<IPython.core.display.HTML object>"
      ]
     },
     "metadata": {},
     "output_type": "display_data"
    },
    {
     "data": {
      "text/html": [
       "\n",
       "    <div style=\"border: 1px solid #ccc; max-width: 600px; padding: 25px; margin-bottom: 25px;\">\n",
       "        <div style=\"max-width: 550px; margin: 0 auto;\">\n",
       "            <p><strong><a href=\"https://searchcaster.xyz/search?merkleRoot=0x0b4a9487c815c141c3119f12451695e40836d81c\" target=\"_blank\">merkleRoot</a></strong></p>\n",
       "            <p><strong>@dwr · fid 3</strong></p>\n",
       "            <div style=\"word-wrap: break-word; margin: 10px 0;\">Irony of Twitter advertisers leaving (I suspect temporarily) and Twitter hitting all-time high DAU numbers means likely a good time to use Twitter ads for user acquisition for a startup.</div>\n",
       "    <p style=\"color: purple; margin: 10px 0 0;\">&#x1F49C; 45 <span style=\"margin-left: 5px; margin-top: 10px;\">&#x1F4AC; 13</span></p></div></div>"
      ],
      "text/plain": [
       "<IPython.core.display.HTML object>"
      ]
     },
     "metadata": {},
     "output_type": "display_data"
    },
    {
     "data": {
      "text/html": [
       "\n",
       "    <div style=\"border: 1px solid #ccc; max-width: 600px; padding: 25px; margin-bottom: 25px;\">\n",
       "        <div style=\"max-width: 550px; margin: 0 auto;\">\n",
       "            <p><strong><a href=\"https://searchcaster.xyz/search?merkleRoot=0xd4188804f0b087e969bdce77a0e86f6000d2ec1a\" target=\"_blank\">merkleRoot</a></strong></p>\n",
       "            <p><strong>@phil · fid 129</strong></p>\n",
       "            <div style=\"word-wrap: break-word; margin: 10px 0;\">Some non-crypto topics I’m interested in:<br>- Snowboarding <br>- Motorcycles<br>- History and autobiographies more broadly <br>- Sailing <br>- Writing, and specifically self-journaling <br><br>Happy to chat or connect on any of these, especially if you’re in LA</div>\n",
       "    <p style=\"color: purple; margin: 10px 0 0;\">&#x1F49C; 44 <span style=\"margin-left: 5px; margin-top: 10px;\">&#x1F4AC; 22</span></p></div></div>"
      ],
      "text/plain": [
       "<IPython.core.display.HTML object>"
      ]
     },
     "metadata": {},
     "output_type": "display_data"
    },
    {
     "data": {
      "text/html": [
       "\n",
       "    <div style=\"border: 1px solid #ccc; max-width: 600px; padding: 25px; margin-bottom: 25px;\">\n",
       "        <div style=\"max-width: 550px; margin: 0 auto;\">\n",
       "            <p><strong><a href=\"https://searchcaster.xyz/search?merkleRoot=0x42ae8fd6fb91e01aa164f8417dbf0d7e72f2b679\" target=\"_blank\">merkleRoot</a></strong></p>\n",
       "            <p><strong>@dwr · fid 3</strong></p>\n",
       "            <div style=\"word-wrap: break-word; margin: 10px 0;\">A warm Farcaster welcome to @ccheever!<br><br>Expo has been a 10x for us building mobile apps with a small team!</div>\n",
       "    <p style=\"color: purple; margin: 10px 0 0;\">&#x1F49C; 44 <span style=\"margin-left: 5px; margin-top: 10px;\">&#x1F4AC; 6</span></p></div></div>"
      ],
      "text/plain": [
       "<IPython.core.display.HTML object>"
      ]
     },
     "metadata": {},
     "output_type": "display_data"
    },
    {
     "data": {
      "text/html": [
       "\n",
       "    <div style=\"border: 1px solid #ccc; max-width: 600px; padding: 25px; margin-bottom: 25px;\">\n",
       "        <div style=\"max-width: 550px; margin: 0 auto;\">\n",
       "            <p><strong><a href=\"https://searchcaster.xyz/search?merkleRoot=0x68dc45e58c415cee56c8e462a621d9ba428b3a17\" target=\"_blank\">merkleRoot</a></strong></p>\n",
       "            <p><strong>@nonlinear · fid 576</strong></p>\n",
       "            <div style=\"word-wrap: break-word; margin: 10px 0;\">gm happy thanksgiving </div>\n",
       "    <div style=\"text-align: center;\"><img src=\"https://i.imgur.com/F2hkhVd.jpg\" style=\"max-width: 550px; margin-top: 10px;\"></div><p style=\"color: purple; margin: 10px 0 0;\">&#x1F49C; 44 <span style=\"margin-left: 5px; margin-top: 10px;\">&#x1F4AC; 3</span></p></div></div>"
      ],
      "text/plain": [
       "<IPython.core.display.HTML object>"
      ]
     },
     "metadata": {},
     "output_type": "display_data"
    },
    {
     "data": {
      "text/html": [
       "\n",
       "    <div style=\"border: 1px solid #ccc; max-width: 600px; padding: 25px; margin-bottom: 25px;\">\n",
       "        <div style=\"max-width: 550px; margin: 0 auto;\">\n",
       "            <p><strong><a href=\"https://searchcaster.xyz/search?merkleRoot=0x19d8b340d65e077ce64fe132b8059ac829ce6c1a\" target=\"_blank\">merkleRoot</a></strong></p>\n",
       "            <p><strong>@ccarella · fid 472</strong></p>\n",
       "            <div style=\"word-wrap: break-word; margin: 10px 0;\">Governance tab in the FWB app is very cool. Come for the social and while you are here check out what’s going on with Governance. </div>\n",
       "    <div style=\"text-align: center;\"><img src=\"https://i.imgur.com/ycV3sRq.jpg\" style=\"max-width: 550px; margin-top: 10px;\"></div><p style=\"color: purple; margin: 10px 0 0;\">&#x1F49C; 44 <span style=\"margin-left: 5px; margin-top: 10px;\">&#x1F4AC; 5</span></p></div></div>"
      ],
      "text/plain": [
       "<IPython.core.display.HTML object>"
      ]
     },
     "metadata": {},
     "output_type": "display_data"
    },
    {
     "data": {
      "text/html": [
       "\n",
       "    <div style=\"border: 1px solid #ccc; max-width: 600px; padding: 25px; margin-bottom: 25px;\">\n",
       "        <div style=\"max-width: 550px; margin: 0 auto;\">\n",
       "            <p><strong><a href=\"https://searchcaster.xyz/search?merkleRoot=0x5bbcf1f4540a2e3e1466850847a63b1851b89b9b\" target=\"_blank\">merkleRoot</a></strong></p>\n",
       "            <p><strong>@ccarella · fid 472</strong></p>\n",
       "            <div style=\"word-wrap: break-word; margin: 10px 0;\">I didn’t really know if my silent NFT drop would have any collectors but it now has 80 owners including 42 Farcasters. Friends messaged me with joy when they found it and I also LOVE the art. 🎨</div>\n",
       "    <p style=\"color: purple; margin: 10px 0 0;\">&#x1F49C; 43 <span style=\"margin-left: 5px; margin-top: 10px;\">&#x1F4AC; 11</span></p></div></div>"
      ],
      "text/plain": [
       "<IPython.core.display.HTML object>"
      ]
     },
     "metadata": {},
     "output_type": "display_data"
    },
    {
     "data": {
      "text/html": [
       "\n",
       "    <div style=\"border: 1px solid #ccc; max-width: 600px; padding: 25px; margin-bottom: 25px;\">\n",
       "        <div style=\"max-width: 550px; margin: 0 auto;\">\n",
       "            <p><strong><a href=\"https://searchcaster.xyz/search?merkleRoot=0xf4fcaf514e031a9af1943658cbbe6c485584f3e3\" target=\"_blank\">merkleRoot</a></strong></p>\n",
       "            <p><strong>@cameron · fid 617</strong></p>\n",
       "            <div style=\"word-wrap: break-word; margin: 10px 0;\">Happy Thanksgiving to all those who celebrate and to those who don’t - have a wonderful normal Thursday 🫡<br><br>May your sweatpants be comfortable and your sweaters stay cozy & warm 🦃 </div>\n",
       "    <div style=\"text-align: center;\"><img src=\"https://i.imgur.com/tpQYZC2.jpg\" style=\"max-width: 550px; margin-top: 10px;\"></div><p style=\"color: purple; margin: 10px 0 0;\">&#x1F49C; 43 <span style=\"margin-left: 5px; margin-top: 10px;\">&#x1F4AC; 5</span></p></div></div>"
      ],
      "text/plain": [
       "<IPython.core.display.HTML object>"
      ]
     },
     "metadata": {},
     "output_type": "display_data"
    },
    {
     "data": {
      "text/html": [
       "\n",
       "    <div style=\"border: 1px solid #ccc; max-width: 600px; padding: 25px; margin-bottom: 25px;\">\n",
       "        <div style=\"max-width: 550px; margin: 0 auto;\">\n",
       "            <p><strong><a href=\"https://searchcaster.xyz/search?merkleRoot=0x6c277d020100dfeb63b007c621e6f2d5d79252fb\" target=\"_blank\">merkleRoot</a></strong></p>\n",
       "            <p><strong>@dwr · fid 3</strong></p>\n",
       "            <div style=\"word-wrap: break-word; margin: 10px 0;\">I want Mercury but for personal banking.</div>\n",
       "    <p style=\"color: purple; margin: 10px 0 0;\">&#x1F49C; 43 <span style=\"margin-left: 5px; margin-top: 10px;\">&#x1F4AC; 8</span></p></div></div>"
      ],
      "text/plain": [
       "<IPython.core.display.HTML object>"
      ]
     },
     "metadata": {},
     "output_type": "display_data"
    },
    {
     "data": {
      "text/html": [
       "\n",
       "    <div style=\"border: 1px solid #ccc; max-width: 600px; padding: 25px; margin-bottom: 25px;\">\n",
       "        <div style=\"max-width: 550px; margin: 0 auto;\">\n",
       "            <p><strong><a href=\"https://searchcaster.xyz/search?merkleRoot=0x46f31568cb0b433f5969b069262986148cc658c9\" target=\"_blank\">merkleRoot</a></strong></p>\n",
       "            <p><strong>@dwr · fid 3</strong></p>\n",
       "            <div style=\"word-wrap: break-word; margin: 10px 0;\">tonight’s menu </div>\n",
       "    <div style=\"text-align: center;\"><img src=\"https://i.imgur.com/CJAwnh8.jpg\" style=\"max-width: 550px; margin-top: 10px;\"></div><p style=\"color: purple; margin: 10px 0 0;\">&#x1F49C; 42 <span style=\"margin-left: 5px; margin-top: 10px;\">&#x1F4AC; 10</span></p></div></div>"
      ],
      "text/plain": [
       "<IPython.core.display.HTML object>"
      ]
     },
     "metadata": {},
     "output_type": "display_data"
    },
    {
     "data": {
      "text/html": [
       "\n",
       "    <div style=\"border: 1px solid #ccc; max-width: 600px; padding: 25px; margin-bottom: 25px;\">\n",
       "        <div style=\"max-width: 550px; margin: 0 auto;\">\n",
       "            <p><strong><a href=\"https://searchcaster.xyz/search?merkleRoot=0xf1181c598e1f312daf63a6878c211c7adecec021\" target=\"_blank\">merkleRoot</a></strong></p>\n",
       "            <p><strong>@drew-coffman · fid 3895</strong></p>\n",
       "            <div style=\"word-wrap: break-word; margin: 10px 0;\">kind of a bummer to see farcaster posts about follower count<br><br>'wow vitalik only has x followers' 'i have more followers than vitalik' 'it sucks to have so many followers on twitter and only x followers here'<br><br>may simply be a dynamic of this type of network, but i'd love to leave follower counts behind in web 2.0</div>\n",
       "    <p style=\"color: purple; margin: 10px 0 0;\">&#x1F49C; 41 <span style=\"margin-left: 5px; margin-top: 10px;\">&#x1F4AC; 12</span></p></div></div>"
      ],
      "text/plain": [
       "<IPython.core.display.HTML object>"
      ]
     },
     "metadata": {},
     "output_type": "display_data"
    },
    {
     "data": {
      "text/html": [
       "\n",
       "    <div style=\"border: 1px solid #ccc; max-width: 600px; padding: 25px; margin-bottom: 25px;\">\n",
       "        <div style=\"max-width: 550px; margin: 0 auto;\">\n",
       "            <p><strong><a href=\"https://searchcaster.xyz/search?merkleRoot=0x0caae3be12867d523eb8d7e0f1328f9a43747d9d\" target=\"_blank\">merkleRoot</a></strong></p>\n",
       "            <p><strong>@hyperbad · fid 238</strong></p>\n",
       "            <div style=\"word-wrap: break-word; margin: 10px 0;\">Logging off of Twitter and onto Farcaster these days feels like leaving the food fight going on in the cafeteria to join your friends in the library.</div>\n",
       "    <p style=\"color: purple; margin: 10px 0 0;\">&#x1F49C; 41 <span style=\"margin-left: 5px; margin-top: 10px;\">&#x1F4AC; 4</span></p></div></div>"
      ],
      "text/plain": [
       "<IPython.core.display.HTML object>"
      ]
     },
     "metadata": {},
     "output_type": "display_data"
    },
    {
     "data": {
      "text/html": [
       "\n",
       "    <div style=\"border: 1px solid #ccc; max-width: 600px; padding: 25px; margin-bottom: 25px;\">\n",
       "        <div style=\"max-width: 550px; margin: 0 auto;\">\n",
       "            <p><strong><a href=\"https://searchcaster.xyz/search?merkleRoot=0x021667cb2d60556473092014dafc4978500ea67b\" target=\"_blank\">merkleRoot</a></strong></p>\n",
       "            <p><strong>@dwr · fid 3</strong></p>\n",
       "            <div style=\"word-wrap: break-word; margin: 10px 0;\">bouncing out of my chair this morning seeing all of these casts 😀<br><br>farcasters are multi-dimensional!<br><br><a href=\"https://searchcaster.xyz/search?text=non-crypto+interests\" target=\"_blank\">https://searchcaster.xyz/search?text=non-crypto+interests</a></div>\n",
       "    <p style=\"color: purple; margin: 10px 0 0;\">&#x1F49C; 41 <span style=\"margin-left: 5px; margin-top: 10px;\">&#x1F4AC; 6</span></p></div></div>"
      ],
      "text/plain": [
       "<IPython.core.display.HTML object>"
      ]
     },
     "metadata": {},
     "output_type": "display_data"
    },
    {
     "data": {
      "text/html": [
       "\n",
       "    <div style=\"border: 1px solid #ccc; max-width: 600px; padding: 25px; margin-bottom: 25px;\">\n",
       "        <div style=\"max-width: 550px; margin: 0 auto;\">\n",
       "            <p><strong><a href=\"https://searchcaster.xyz/search?merkleRoot=0xbd940f2182f3e8b5a70b3d857555c1c7628fd125\" target=\"_blank\">merkleRoot</a></strong></p>\n",
       "            <p><strong>@scharf · fid 134</strong></p>\n",
       "            <div style=\"word-wrap: break-word; margin: 10px 0;\">I don't think big tech layoffs are because the companies got bloated, it's because rates went up. <br><br>If the ROI (including opportunity cost of capital) on a marginal hire is positive they should be hired. <br><br>As rates increase the opportunity cost of capital increases so this calculation changes.</div>\n",
       "    <p style=\"color: purple; margin: 10px 0 0;\">&#x1F49C; 41 <span style=\"margin-left: 5px; margin-top: 10px;\">&#x1F4AC; 12</span></p></div></div>"
      ],
      "text/plain": [
       "<IPython.core.display.HTML object>"
      ]
     },
     "metadata": {},
     "output_type": "display_data"
    },
    {
     "data": {
      "text/html": [
       "\n",
       "    <div style=\"border: 1px solid #ccc; max-width: 600px; padding: 25px; margin-bottom: 25px;\">\n",
       "        <div style=\"max-width: 550px; margin: 0 auto;\">\n",
       "            <p><strong><a href=\"https://searchcaster.xyz/search?merkleRoot=0x22fb0091249e57c1c19212c914d39f9ea81d4a8f\" target=\"_blank\">merkleRoot</a></strong></p>\n",
       "            <p><strong>@clayallsopp · fid 469</strong></p>\n",
       "            <div style=\"word-wrap: break-word; margin: 10px 0;\">guys be like “I know a spot” and then take you here </div>\n",
       "    <div style=\"text-align: center;\"><img src=\"https://i.imgur.com/lpUoysV.jpg\" style=\"max-width: 550px; margin-top: 10px;\"></div><p style=\"color: purple; margin: 10px 0 0;\">&#x1F49C; 40 <span style=\"margin-left: 5px; margin-top: 10px;\">&#x1F4AC; 8</span></p></div></div>"
      ],
      "text/plain": [
       "<IPython.core.display.HTML object>"
      ]
     },
     "metadata": {},
     "output_type": "display_data"
    },
    {
     "data": {
      "text/html": [
       "\n",
       "    <div style=\"border: 1px solid #ccc; max-width: 600px; padding: 25px; margin-bottom: 25px;\">\n",
       "        <div style=\"max-width: 550px; margin: 0 auto;\">\n",
       "            <p><strong><a href=\"https://searchcaster.xyz/search?merkleRoot=0x06aeec150c70f6054eac29d4f9cc2d20275c16a1\" target=\"_blank\">merkleRoot</a></strong></p>\n",
       "            <p><strong>@greg · fid 347</strong></p>\n",
       "            <div style=\"word-wrap: break-word; margin: 10px 0;\">Noticing ISP's are blocking more and more web3 websites. Two of my own small projects and now arweave. Just had to use a mobile hotspot to upload a few JSON files. Seems like this could become a big problem</div>\n",
       "    <p style=\"color: purple; margin: 10px 0 0;\">&#x1F49C; 40 <span style=\"margin-left: 5px; margin-top: 10px;\">&#x1F4AC; 10</span></p></div></div>"
      ],
      "text/plain": [
       "<IPython.core.display.HTML object>"
      ]
     },
     "metadata": {},
     "output_type": "display_data"
    },
    {
     "data": {
      "text/html": [
       "\n",
       "    <div style=\"border: 1px solid #ccc; max-width: 600px; padding: 25px; margin-bottom: 25px;\">\n",
       "        <div style=\"max-width: 550px; margin: 0 auto;\">\n",
       "            <p><strong><a href=\"https://searchcaster.xyz/search?merkleRoot=0xb707c9a3a6f432956e2491a8ea3f3cd04a7f0e10\" target=\"_blank\">merkleRoot</a></strong></p>\n",
       "            <p><strong>@pfista · fid 451</strong></p>\n",
       "            <div style=\"word-wrap: break-word; margin: 10px 0;\">My non-crypto interests: </div>\n",
       "    <div style=\"text-align: center;\"><img src=\"https://i.imgur.com/1DyrWTk.jpg\" style=\"max-width: 550px; margin-top: 10px;\"></div><p style=\"color: purple; margin: 10px 0 0;\">&#x1F49C; 40 <span style=\"margin-left: 5px; margin-top: 10px;\">&#x1F4AC; 3</span></p></div></div>"
      ],
      "text/plain": [
       "<IPython.core.display.HTML object>"
      ]
     },
     "metadata": {},
     "output_type": "display_data"
    },
    {
     "data": {
      "text/html": [
       "\n",
       "    <div style=\"border: 1px solid #ccc; max-width: 600px; padding: 25px; margin-bottom: 25px;\">\n",
       "        <div style=\"max-width: 550px; margin: 0 auto;\">\n",
       "            <p><strong><a href=\"https://searchcaster.xyz/search?merkleRoot=0x375a2c2dc66e0a5a899ec171e6afaabe39fd40d7\" target=\"_blank\">merkleRoot</a></strong></p>\n",
       "            <p><strong>@dwr · fid 3</strong></p>\n",
       "            <div style=\"word-wrap: break-word; margin: 10px 0;\">Roadmap<br><br>People have been asking for a roadmap, here's a rough plan for what the team is planning to work on. We're only 7 right now. Need to hire. :)<br><br>n.b. delegate keys are important to enabling other developers to build clients that can write messages and data to the protocol<br> </div>\n",
       "    <div style=\"text-align: center;\"><img src=\"https://i.imgur.com/SlW5Po0.png\" style=\"max-width: 550px; margin-top: 10px;\"></div><p style=\"color: purple; margin: 10px 0 0;\">&#x1F49C; 40 <span style=\"margin-left: 5px; margin-top: 10px;\">&#x1F4AC; 6</span></p></div></div>"
      ],
      "text/plain": [
       "<IPython.core.display.HTML object>"
      ]
     },
     "metadata": {},
     "output_type": "display_data"
    },
    {
     "data": {
      "text/html": [
       "\n",
       "    <div style=\"border: 1px solid #ccc; max-width: 600px; padding: 25px; margin-bottom: 25px;\">\n",
       "        <div style=\"max-width: 550px; margin: 0 auto;\">\n",
       "            <p><strong><a href=\"https://searchcaster.xyz/search?merkleRoot=0x5fbb5c1ffe7b65c5435a3589c741c6acd5703876\" target=\"_blank\">merkleRoot</a></strong></p>\n",
       "            <p><strong>@brianjckim · fid 426</strong></p>\n",
       "            <div style=\"word-wrap: break-word; margin: 10px 0;\">non-crypto interests:<br>- animals (esp. dogs)<br>- soccer<br>- golf<br>- walking<br>- abstract art<br>- interior design<br>- wheel throwing<br>- breakfast burritos<br>- horse mackerel sushi<br>- tagliatelle al ragu</div>\n",
       "    <p style=\"color: purple; margin: 10px 0 0;\">&#x1F49C; 40 <span style=\"margin-left: 5px; margin-top: 10px;\">&#x1F4AC; 8</span></p></div></div>"
      ],
      "text/plain": [
       "<IPython.core.display.HTML object>"
      ]
     },
     "metadata": {},
     "output_type": "display_data"
    },
    {
     "data": {
      "text/html": [
       "\n",
       "    <div style=\"border: 1px solid #ccc; max-width: 600px; padding: 25px; margin-bottom: 25px;\">\n",
       "        <div style=\"max-width: 550px; margin: 0 auto;\">\n",
       "            <p><strong><a href=\"https://searchcaster.xyz/search?merkleRoot=0xefa8d7ea05b3a1ff40e1338091e5ad331cfe0d9c\" target=\"_blank\">merkleRoot</a></strong></p>\n",
       "            <p><strong>@briang · fid 548</strong></p>\n",
       "            <div style=\"word-wrap: break-word; margin: 10px 0;\">come learn how to make dumplings tonight on @unlonely<br><br>FRIENDSGIVING BABY<br><br>live in 15 min<br>replies below are not mine and are taken from unlonely chat </div>\n",
       "    <div style=\"text-align: center;\"><img src=\"https://i.imgur.com/RajB4t4.jpg\" style=\"max-width: 550px; margin-top: 10px;\"></div><p style=\"color: purple; margin: 10px 0 0;\">&#x1F49C; 39 <span style=\"margin-left: 5px; margin-top: 10px;\">&#x1F4AC; 171</span></p></div></div>"
      ],
      "text/plain": [
       "<IPython.core.display.HTML object>"
      ]
     },
     "metadata": {},
     "output_type": "display_data"
    },
    {
     "data": {
      "text/html": [
       "\n",
       "    <div style=\"border: 1px solid #ccc; max-width: 600px; padding: 25px; margin-bottom: 25px;\">\n",
       "        <div style=\"max-width: 550px; margin: 0 auto;\">\n",
       "            <p><strong><a href=\"https://searchcaster.xyz/search?merkleRoot=0x740fd6bbe07b061e69be8211006e0747775aa1ea\" target=\"_blank\">merkleRoot</a></strong></p>\n",
       "            <p><strong>@brenner · fid 60</strong></p>\n",
       "            <div style=\"word-wrap: break-word; margin: 10px 0;\">Non-crypto things I’m into:<br>- skiing (both powder & freestyle) 🎿<br>- pottery <br>- clothes / vintage shopping 👕<br>- hot yoga<br>- baking desserts<br>- architecture🏯<br>- group dynamics<br>- seeing musical artists I like perform Live<br>- camping (haven’t been since Aug 2020) 🏕️<br>- Black Rock City 🔥🚶🏻‍♂️<br>- lea</div>\n",
       "    <p style=\"color: purple; margin: 10px 0 0;\">&#x1F49C; 39 <span style=\"margin-left: 5px; margin-top: 10px;\">&#x1F4AC; 6</span></p></div></div>"
      ],
      "text/plain": [
       "<IPython.core.display.HTML object>"
      ]
     },
     "metadata": {},
     "output_type": "display_data"
    },
    {
     "data": {
      "text/html": [
       "\n",
       "    <div style=\"border: 1px solid #ccc; max-width: 600px; padding: 25px; margin-bottom: 25px;\">\n",
       "        <div style=\"max-width: 550px; margin: 0 auto;\">\n",
       "            <p><strong><a href=\"https://searchcaster.xyz/search?merkleRoot=0x378061d133c9b0773cdd727c7fbc5bde123c9980\" target=\"_blank\">merkleRoot</a></strong></p>\n",
       "            <p><strong>@gmo · fid 6015</strong></p>\n",
       "            <div style=\"word-wrap: break-word; margin: 10px 0;\">Day 1 on farcaster lessons:<br><br>1. When you ask a question into the ether, people respond genuinely<br><br>2. When you like things they are not catalogued for you, your likes disappear into oblivion <br><br>3. People have interests outside of crypto which they like to display in list format</div>\n",
       "    <p style=\"color: purple; margin: 10px 0 0;\">&#x1F49C; 39 <span style=\"margin-left: 5px; margin-top: 10px;\">&#x1F4AC; 5</span></p></div></div>"
      ],
      "text/plain": [
       "<IPython.core.display.HTML object>"
      ]
     },
     "metadata": {},
     "output_type": "display_data"
    },
    {
     "data": {
      "text/html": [
       "\n",
       "    <div style=\"border: 1px solid #ccc; max-width: 600px; padding: 25px; margin-bottom: 25px;\">\n",
       "        <div style=\"max-width: 550px; margin: 0 auto;\">\n",
       "            <p><strong><a href=\"https://searchcaster.xyz/search?merkleRoot=0x0818fb95a9ebbe1d679542aa3281fcaff367e1ce\" target=\"_blank\">merkleRoot</a></strong></p>\n",
       "            <p><strong>@n · fid 274</strong></p>\n",
       "            <div style=\"word-wrap: break-word; margin: 10px 0;\">If you were in your early 20s where will you work?</div>\n",
       "    <p style=\"color: purple; margin: 10px 0 0;\">&#x1F49C; 39 <span style=\"margin-left: 5px; margin-top: 10px;\">&#x1F4AC; 47</span></p></div></div>"
      ],
      "text/plain": [
       "<IPython.core.display.HTML object>"
      ]
     },
     "metadata": {},
     "output_type": "display_data"
    },
    {
     "data": {
      "text/html": [
       "\n",
       "    <div style=\"border: 1px solid #ccc; max-width: 600px; padding: 25px; margin-bottom: 25px;\">\n",
       "        <div style=\"max-width: 550px; margin: 0 auto;\">\n",
       "            <p><strong><a href=\"https://searchcaster.xyz/search?merkleRoot=0x2bb929afbbd08ba22aa63dec8870c3c8b5536292\" target=\"_blank\">merkleRoot</a></strong></p>\n",
       "            <p><strong>@yitong · fid 101</strong></p>\n",
       "            <div style=\"word-wrap: break-word; margin: 10px 0;\">Farcaster feels... insufficiently unhinged? 🤪</div>\n",
       "    <p style=\"color: purple; margin: 10px 0 0;\">&#x1F49C; 39 <span style=\"margin-left: 5px; margin-top: 10px;\">&#x1F4AC; 6</span></p></div></div>"
      ],
      "text/plain": [
       "<IPython.core.display.HTML object>"
      ]
     },
     "metadata": {},
     "output_type": "display_data"
    },
    {
     "data": {
      "text/html": [
       "\n",
       "    <div style=\"border: 1px solid #ccc; max-width: 600px; padding: 25px; margin-bottom: 25px;\">\n",
       "        <div style=\"max-width: 550px; margin: 0 auto;\">\n",
       "            <p><strong><a href=\"https://searchcaster.xyz/search?merkleRoot=0xd37b8b044fa254cfc59cd4469ecb73bce11186a6\" target=\"_blank\">merkleRoot</a></strong></p>\n",
       "            <p><strong>@dwr · fid 3</strong></p>\n",
       "            <div style=\"word-wrap: break-word; margin: 10px 0;\">low effort meme  </div>\n",
       "    <div style=\"text-align: center;\"><img src=\"https://i.imgur.com/feLEoxE.jpg\" style=\"max-width: 550px; margin-top: 10px;\"></div><p style=\"color: purple; margin: 10px 0 0;\">&#x1F49C; 39 <span style=\"margin-left: 5px; margin-top: 10px;\">&#x1F4AC; 1</span></p></div></div>"
      ],
      "text/plain": [
       "<IPython.core.display.HTML object>"
      ]
     },
     "metadata": {},
     "output_type": "display_data"
    },
    {
     "data": {
      "text/html": [
       "\n",
       "    <div style=\"border: 1px solid #ccc; max-width: 600px; padding: 25px; margin-bottom: 25px;\">\n",
       "        <div style=\"max-width: 550px; margin: 0 auto;\">\n",
       "            <p><strong><a href=\"https://searchcaster.xyz/search?merkleRoot=0xaf0ed09cede40ec305ffe0087c54f1bc5d7f6e12\" target=\"_blank\">merkleRoot</a></strong></p>\n",
       "            <p><strong>@vgr · fid 4606</strong></p>\n",
       "            <div style=\"word-wrap: break-word; margin: 10px 0;\">Unexpected benefit of recorded business meetings is that you can watch/listen to them at 1.5-2x speed. I think a great new business pattern would be to make it a practice to minimize live attendance expectations (don't attend unless you need to say stuff), and maximize watch-later attendance expectations.</div>\n",
       "    <p style=\"color: purple; margin: 10px 0 0;\">&#x1F49C; 39 <span style=\"margin-left: 5px; margin-top: 10px;\">&#x1F4AC; 9</span></p></div></div>"
      ],
      "text/plain": [
       "<IPython.core.display.HTML object>"
      ]
     },
     "metadata": {},
     "output_type": "display_data"
    },
    {
     "data": {
      "text/html": [
       "\n",
       "    <div style=\"border: 1px solid #ccc; max-width: 600px; padding: 25px; margin-bottom: 25px;\">\n",
       "        <div style=\"max-width: 550px; margin: 0 auto;\">\n",
       "            <p><strong><a href=\"https://searchcaster.xyz/search?merkleRoot=0x8829c5f99eafd11a2d732de6875ba2a9ad6810d0\" target=\"_blank\">merkleRoot</a></strong></p>\n",
       "            <p><strong>@alvesjtiago · fid 762</strong></p>\n",
       "            <div style=\"word-wrap: break-word; margin: 10px 0;\">gm<br><br>yesterday was the first time ever that there were more than 6000 casts in single day 📈<br><br>castalytics.farcase.xyz </div>\n",
       "    <div style=\"text-align: center;\"><img src=\"https://i.imgur.com/Bhw9agr.png\" style=\"max-width: 550px; margin-top: 10px;\"></div><p style=\"color: purple; margin: 10px 0 0;\">&#x1F49C; 39 <span style=\"margin-left: 5px; margin-top: 10px;\">&#x1F4AC; 5</span></p></div></div>"
      ],
      "text/plain": [
       "<IPython.core.display.HTML object>"
      ]
     },
     "metadata": {},
     "output_type": "display_data"
    },
    {
     "data": {
      "text/html": [
       "\n",
       "    <div style=\"border: 1px solid #ccc; max-width: 600px; padding: 25px; margin-bottom: 25px;\">\n",
       "        <div style=\"max-width: 550px; margin: 0 auto;\">\n",
       "            <p><strong><a href=\"https://searchcaster.xyz/search?merkleRoot=0x84f71cbdb3d9182016f514ebd808c13904b5361a\" target=\"_blank\">merkleRoot</a></strong></p>\n",
       "            <p><strong>@vgr · fid 4606</strong></p>\n",
       "            <div style=\"word-wrap: break-word; margin: 10px 0;\">I like this twitteresque UX of the default client but is anyone thinking of any very different UXes that occupy a very different part of the design space induced by the protocol?</div>\n",
       "    <p style=\"color: purple; margin: 10px 0 0;\">&#x1F49C; 39 <span style=\"margin-left: 5px; margin-top: 10px;\">&#x1F4AC; 12</span></p></div></div>"
      ],
      "text/plain": [
       "<IPython.core.display.HTML object>"
      ]
     },
     "metadata": {},
     "output_type": "display_data"
    },
    {
     "data": {
      "text/html": [
       "\n",
       "    <div style=\"border: 1px solid #ccc; max-width: 600px; padding: 25px; margin-bottom: 25px;\">\n",
       "        <div style=\"max-width: 550px; margin: 0 auto;\">\n",
       "            <p><strong><a href=\"https://searchcaster.xyz/search?merkleRoot=0xabdd26b03cb515fc30aa5cddb367a74af631fca3\" target=\"_blank\">merkleRoot</a></strong></p>\n",
       "            <p><strong>@shriphani · fid 436</strong></p>\n",
       "            <div style=\"word-wrap: break-word; margin: 10px 0;\">GM . Torii gate⛩ wip </div>\n",
       "    <div style=\"text-align: center;\"><img src=\"https://i.imgur.com/jtNBzu5.jpg\" style=\"max-width: 550px; margin-top: 10px;\"></div><p style=\"color: purple; margin: 10px 0 0;\">&#x1F49C; 38 <span style=\"margin-left: 5px; margin-top: 10px;\">&#x1F4AC; 5</span></p></div></div>"
      ],
      "text/plain": [
       "<IPython.core.display.HTML object>"
      ]
     },
     "metadata": {},
     "output_type": "display_data"
    },
    {
     "data": {
      "text/html": [
       "\n",
       "    <div style=\"border: 1px solid #ccc; max-width: 600px; padding: 25px; margin-bottom: 25px;\">\n",
       "        <div style=\"max-width: 550px; margin: 0 auto;\">\n",
       "            <p><strong><a href=\"https://searchcaster.xyz/search?merkleRoot=0x62bf64c47323a4ee49055be5faa92adeaadeda21\" target=\"_blank\">merkleRoot</a></strong></p>\n",
       "            <p><strong>@mags · fid 4836</strong></p>\n",
       "            <div style=\"word-wrap: break-word; margin: 10px 0;\">non-crypto things i’m into:<br>• padel<br>• NBA (& my beloved Celtics)<br>• soccer (I’m a minority owner of Atalanta Bergamo in serie A 😍)<br>• business of sports<br>• brand building<br>• sneakers<br>• street art<br>• human behavior & psychology<br>• biographies<br>• reggaeton<br>• tea<br>• mezcal</div>\n",
       "    <p style=\"color: purple; margin: 10px 0 0;\">&#x1F49C; 38 <span style=\"margin-left: 5px; margin-top: 10px;\">&#x1F4AC; 8</span></p></div></div>"
      ],
      "text/plain": [
       "<IPython.core.display.HTML object>"
      ]
     },
     "metadata": {},
     "output_type": "display_data"
    },
    {
     "data": {
      "text/html": [
       "\n",
       "    <div style=\"border: 1px solid #ccc; max-width: 600px; padding: 25px; margin-bottom: 25px;\">\n",
       "        <div style=\"max-width: 550px; margin: 0 auto;\">\n",
       "            <p><strong><a href=\"https://searchcaster.xyz/search?merkleRoot=0x67064e31412512189b59837d72240e7d5ceb5484\" target=\"_blank\">merkleRoot</a></strong></p>\n",
       "            <p><strong>@greg · fid 347</strong></p>\n",
       "            <div style=\"word-wrap: break-word; margin: 10px 0;\">How should DAO treasuries be managed long term? <br><br>- DAO votes on strategic transactions while maintaining custody. Think 1 vote/month to swap x ETH for stETH, or to provide liquidity to y pool on Uniswap. <br><br>- DAO delegates custody of funds (with limitations) to an on-chain fund manager that gets a performance fee.</div>\n",
       "    <p style=\"color: purple; margin: 10px 0 0;\">&#x1F49C; 37 <span style=\"margin-left: 5px; margin-top: 10px;\">&#x1F4AC; 19</span></p></div></div>"
      ],
      "text/plain": [
       "<IPython.core.display.HTML object>"
      ]
     },
     "metadata": {},
     "output_type": "display_data"
    },
    {
     "data": {
      "text/html": [
       "\n",
       "    <div style=\"border: 1px solid #ccc; max-width: 600px; padding: 25px; margin-bottom: 25px;\">\n",
       "        <div style=\"max-width: 550px; margin: 0 auto;\">\n",
       "            <p><strong><a href=\"https://searchcaster.xyz/search?merkleRoot=0xcd8edda4da0630b3efb0e6468a7eb369dd91a6dc\" target=\"_blank\">merkleRoot</a></strong></p>\n",
       "            <p><strong>@mg · fid 125</strong></p>\n",
       "            <div style=\"word-wrap: break-word; margin: 10px 0;\">Request for app:<br><br>Twitter archive static site generator<br><br>1. Download Twitter archive<br>2. Fork static site app<br>3. Upload archive .zip to app directory<br>4. npm install<br>5. Deploy to your URL<br><br>I’d love to preserve my tweet history. Anyone building this?</div>\n",
       "    <p style=\"color: purple; margin: 10px 0 0;\">&#x1F49C; 37 <span style=\"margin-left: 5px; margin-top: 10px;\">&#x1F4AC; 9</span></p></div></div>"
      ],
      "text/plain": [
       "<IPython.core.display.HTML object>"
      ]
     },
     "metadata": {},
     "output_type": "display_data"
    },
    {
     "data": {
      "text/html": [
       "\n",
       "    <div style=\"border: 1px solid #ccc; max-width: 600px; padding: 25px; margin-bottom: 25px;\">\n",
       "        <div style=\"max-width: 550px; margin: 0 auto;\">\n",
       "            <p><strong><a href=\"https://searchcaster.xyz/search?merkleRoot=0x92e68499f882d4931208a3eb832961700c910016\" target=\"_blank\">merkleRoot</a></strong></p>\n",
       "            <p><strong>@cameron · fid 617</strong></p>\n",
       "            <div style=\"word-wrap: break-word; margin: 10px 0;\">Remy just figured out she can yeet herself onto my shoulders if I’m standing still oh boy this is so cute but dangerous for everyone involved </div>\n",
       "    <div style=\"text-align: center;\"><img src=\"https://i.imgur.com/u4oPQUs.jpg\" style=\"max-width: 550px; margin-top: 10px;\"></div><p style=\"color: purple; margin: 10px 0 0;\">&#x1F49C; 37 <span style=\"margin-left: 5px; margin-top: 10px;\">&#x1F4AC; 5</span></p></div></div>"
      ],
      "text/plain": [
       "<IPython.core.display.HTML object>"
      ]
     },
     "metadata": {},
     "output_type": "display_data"
    },
    {
     "data": {
      "text/html": [
       "\n",
       "    <div style=\"border: 1px solid #ccc; max-width: 600px; padding: 25px; margin-bottom: 25px;\">\n",
       "        <div style=\"max-width: 550px; margin: 0 auto;\">\n",
       "            <p><strong><a href=\"https://searchcaster.xyz/search?merkleRoot=0x91e908704708fb33ec2692984e6040db97ff81ac\" target=\"_blank\">merkleRoot</a></strong></p>\n",
       "            <p><strong>@dwr · fid 3</strong></p>\n",
       "            <div style=\"word-wrap: break-word; margin: 10px 0;\">Is anyone working on a decentralized YouTube alternative?<br><br>Note: the file storage doesn't need to be decentralized, just video creator controlled and the ability to have direct distribution if you switch clients.</div>\n",
       "    <p style=\"color: purple; margin: 10px 0 0;\">&#x1F49C; 37 <span style=\"margin-left: 5px; margin-top: 10px;\">&#x1F4AC; 21</span></p></div></div>"
      ],
      "text/plain": [
       "<IPython.core.display.HTML object>"
      ]
     },
     "metadata": {},
     "output_type": "display_data"
    },
    {
     "data": {
      "text/html": [
       "\n",
       "    <div style=\"border: 1px solid #ccc; max-width: 600px; padding: 25px; margin-bottom: 25px;\">\n",
       "        <div style=\"max-width: 550px; margin: 0 auto;\">\n",
       "            <p><strong><a href=\"https://searchcaster.xyz/search?merkleRoot=0x95fd9074c2f87403a8e71ba79f8991270c26bca8\" target=\"_blank\">merkleRoot</a></strong></p>\n",
       "            <p><strong>@rafa · fid 2458</strong></p>\n",
       "            <div style=\"word-wrap: break-word; margin: 10px 0;\">I think people should be able to see how many others are blocking, muting, ghosting them - and what topics they are engaging with are forcefully ignored.<br><br>Knowing how many people are voluntarily there and how many people walk out are important signals to get a stronger sense of reality and approval.</div>\n",
       "    <p style=\"color: purple; margin: 10px 0 0;\">&#x1F49C; 37 <span style=\"margin-left: 5px; margin-top: 10px;\">&#x1F4AC; 10</span></p></div></div>"
      ],
      "text/plain": [
       "<IPython.core.display.HTML object>"
      ]
     },
     "metadata": {},
     "output_type": "display_data"
    },
    {
     "data": {
      "text/html": [
       "\n",
       "    <div style=\"border: 1px solid #ccc; max-width: 600px; padding: 25px; margin-bottom: 25px;\">\n",
       "        <div style=\"max-width: 550px; margin: 0 auto;\">\n",
       "            <p><strong><a href=\"https://searchcaster.xyz/search?merkleRoot=0x940d5a88dafcafac5c57968876a9aa2ac386e4b1\" target=\"_blank\">merkleRoot</a></strong></p>\n",
       "            <p><strong>@ccarella · fid 472</strong></p>\n",
       "            <div style=\"word-wrap: break-word; margin: 10px 0;\">I don't obsessively take pictures of my life anymore because Insta is kind of meh. But now with the FWB app I need to remind myself to take the occasional pic when I'm experiencing a vibe. Like working from a rooftop lounge with some banging downtempo/jazz. </div>\n",
       "    <div style=\"text-align: center;\"><img src=\"https://i.imgur.com/9kGZegt.jpg\" style=\"max-width: 550px; margin-top: 10px;\"></div><p style=\"color: purple; margin: 10px 0 0;\">&#x1F49C; 37 <span style=\"margin-left: 5px; margin-top: 10px;\">&#x1F4AC; 6</span></p></div></div>"
      ],
      "text/plain": [
       "<IPython.core.display.HTML object>"
      ]
     },
     "metadata": {},
     "output_type": "display_data"
    },
    {
     "data": {
      "text/html": [
       "\n",
       "    <div style=\"border: 1px solid #ccc; max-width: 600px; padding: 25px; margin-bottom: 25px;\">\n",
       "        <div style=\"max-width: 550px; margin: 0 auto;\">\n",
       "            <p><strong><a href=\"https://searchcaster.xyz/search?merkleRoot=0xe56b45281aeba2254fbab63714cd5a73b7183190\" target=\"_blank\">merkleRoot</a></strong></p>\n",
       "            <p><strong>@jake · fid 1020</strong></p>\n",
       "            <div style=\"word-wrap: break-word; margin: 10px 0;\">I think Farcaster is probably the only social app besides Twitter that I have spent more than an hour on for 10 straight weeks in the last 3 years. <br><br>No IG, FB, TikTok, Snap, etc…<br><br>Less than 10 weeks consecutively of an hour plus on BitClout, gm, etc…<br><br>Seemingly low threshold but hard to pass.</div>\n",
       "    <p style=\"color: purple; margin: 10px 0 0;\">&#x1F49C; 37 <span style=\"margin-left: 5px; margin-top: 10px;\">&#x1F4AC; 3</span></p></div></div>"
      ],
      "text/plain": [
       "<IPython.core.display.HTML object>"
      ]
     },
     "metadata": {},
     "output_type": "display_data"
    },
    {
     "data": {
      "text/html": [
       "\n",
       "    <div style=\"border: 1px solid #ccc; max-width: 600px; padding: 25px; margin-bottom: 25px;\">\n",
       "        <div style=\"max-width: 550px; margin: 0 auto;\">\n",
       "            <p><strong><a href=\"https://searchcaster.xyz/search?merkleRoot=0xda8be0196f250f56d11aeaa8560298d99dcc1dcb\" target=\"_blank\">merkleRoot</a></strong></p>\n",
       "            <p><strong>@giu · fid 124</strong></p>\n",
       "            <div style=\"word-wrap: break-word; margin: 10px 0;\">Farcaster is growing! It’s just so clear to me compared to even a few months ago. Number of interactions is so much higher 💜💜💜</div>\n",
       "    <p style=\"color: purple; margin: 10px 0 0;\">&#x1F49C; 37 <span style=\"margin-left: 5px; margin-top: 10px;\">&#x1F4AC; 3</span></p></div></div>"
      ],
      "text/plain": [
       "<IPython.core.display.HTML object>"
      ]
     },
     "metadata": {},
     "output_type": "display_data"
    },
    {
     "data": {
      "text/html": [
       "\n",
       "    <div style=\"border: 1px solid #ccc; max-width: 600px; padding: 25px; margin-bottom: 25px;\">\n",
       "        <div style=\"max-width: 550px; margin: 0 auto;\">\n",
       "            <p><strong><a href=\"https://searchcaster.xyz/search?merkleRoot=0x597745635adfe3c2d3e9f1d352c5264fe6ced884\" target=\"_blank\">merkleRoot</a></strong></p>\n",
       "            <p><strong>@greg · fid 347</strong></p>\n",
       "            <div style=\"word-wrap: break-word; margin: 10px 0;\">cold but nice sunset to end the week </div>\n",
       "    <div style=\"text-align: center;\"><img src=\"https://i.imgur.com/qtT986T.jpg\" style=\"max-width: 550px; margin-top: 10px;\"></div><p style=\"color: purple; margin: 10px 0 0;\">&#x1F49C; 36 <span style=\"margin-left: 5px; margin-top: 10px;\">&#x1F4AC; 4</span></p></div></div>"
      ],
      "text/plain": [
       "<IPython.core.display.HTML object>"
      ]
     },
     "metadata": {},
     "output_type": "display_data"
    },
    {
     "data": {
      "text/html": [
       "\n",
       "    <div style=\"border: 1px solid #ccc; max-width: 600px; padding: 25px; margin-bottom: 25px;\">\n",
       "        <div style=\"max-width: 550px; margin: 0 auto;\">\n",
       "            <p><strong><a href=\"https://searchcaster.xyz/search?merkleRoot=0x698a937ec7039ab22e10355e9aada5cf63960b43\" target=\"_blank\">merkleRoot</a></strong></p>\n",
       "            <p><strong>@nonlinear · fid 576</strong></p>\n",
       "            <div style=\"word-wrap: break-word; margin: 10px 0;\">gm </div>\n",
       "    <div style=\"text-align: center;\"><img src=\"https://i.imgur.com/18fLTGC.jpg\" style=\"max-width: 550px; margin-top: 10px;\"></div><p style=\"color: purple; margin: 10px 0 0;\">&#x1F49C; 36 <span style=\"margin-left: 5px; margin-top: 10px;\">&#x1F4AC; 7</span></p></div></div>"
      ],
      "text/plain": [
       "<IPython.core.display.HTML object>"
      ]
     },
     "metadata": {},
     "output_type": "display_data"
    },
    {
     "data": {
      "text/html": [
       "\n",
       "    <div style=\"border: 1px solid #ccc; max-width: 600px; padding: 25px; margin-bottom: 25px;\">\n",
       "        <div style=\"max-width: 550px; margin: 0 auto;\">\n",
       "            <p><strong><a href=\"https://searchcaster.xyz/search?merkleRoot=0x95b184633c8e74d62e8459bb72cdd4dfc9186cdc\" target=\"_blank\">merkleRoot</a></strong></p>\n",
       "            <p><strong>@gmo · fid 6015</strong></p>\n",
       "            <div style=\"word-wrap: break-word; margin: 10px 0;\">Where are the women/POC on this app? I need to hit my quota for diversity follows.</div>\n",
       "    <p style=\"color: purple; margin: 10px 0 0;\">&#x1F49C; 36 <span style=\"margin-left: 5px; margin-top: 10px;\">&#x1F4AC; 17</span></p></div></div>"
      ],
      "text/plain": [
       "<IPython.core.display.HTML object>"
      ]
     },
     "metadata": {},
     "output_type": "display_data"
    },
    {
     "data": {
      "text/html": [
       "\n",
       "    <div style=\"border: 1px solid #ccc; max-width: 600px; padding: 25px; margin-bottom: 25px;\">\n",
       "        <div style=\"max-width: 550px; margin: 0 auto;\">\n",
       "            <p><strong><a href=\"https://searchcaster.xyz/search?merkleRoot=0x6cc09951f40fac26a37ae154c8abe532c769abe3\" target=\"_blank\">merkleRoot</a></strong></p>\n",
       "            <p><strong>@ghostlinkz · fid 3115</strong></p>\n",
       "            <div style=\"word-wrap: break-word; margin: 10px 0;\">GN homies 😴<br><br>I leave you with my list of non-crypto interests: <br><br>- hiphop <br>- poetry <br>- fpv drones <br>- photography + film <br>- graphic design <br>- video games <br>- virtual reality <br>- jdm cars <br>- architecture <br>- data/analytics <br>- streetwear <br>- ml/ai</div>\n",
       "    <p style=\"color: purple; margin: 10px 0 0;\">&#x1F49C; 36 <span style=\"margin-left: 5px; margin-top: 10px;\">&#x1F4AC; 8</span></p></div></div>"
      ],
      "text/plain": [
       "<IPython.core.display.HTML object>"
      ]
     },
     "metadata": {},
     "output_type": "display_data"
    },
    {
     "data": {
      "text/html": [
       "\n",
       "    <div style=\"border: 1px solid #ccc; max-width: 600px; padding: 25px; margin-bottom: 25px;\">\n",
       "        <div style=\"max-width: 550px; margin: 0 auto;\">\n",
       "            <p><strong><a href=\"https://searchcaster.xyz/search?merkleRoot=0x36f78222e4a56fd0e975b93580c619ee19ea6ced\" target=\"_blank\">merkleRoot</a></strong></p>\n",
       "            <p><strong>@garrett · fid 2802</strong></p>\n",
       "            <div style=\"word-wrap: break-word; margin: 10px 0;\">What features could you build into Farcaster to encourage more empathy with other users?</div>\n",
       "    <p style=\"color: purple; margin: 10px 0 0;\">&#x1F49C; 36 <span style=\"margin-left: 5px; margin-top: 10px;\">&#x1F4AC; 16</span></p></div></div>"
      ],
      "text/plain": [
       "<IPython.core.display.HTML object>"
      ]
     },
     "metadata": {},
     "output_type": "display_data"
    },
    {
     "data": {
      "text/html": [
       "\n",
       "    <div style=\"border: 1px solid #ccc; max-width: 600px; padding: 25px; margin-bottom: 25px;\">\n",
       "        <div style=\"max-width: 550px; margin: 0 auto;\">\n",
       "            <p><strong><a href=\"https://searchcaster.xyz/search?merkleRoot=0xeabcb9764c03532e6f6f9022c768b74aaed067d0\" target=\"_blank\">merkleRoot</a></strong></p>\n",
       "            <p><strong>@mikedemarais · fid 534</strong></p>\n",
       "            <div style=\"word-wrap: break-word; margin: 10px 0;\">we all DM’d dwr</div>\n",
       "    <p style=\"color: purple; margin: 10px 0 0;\">&#x1F49C; 36 <span style=\"margin-left: 5px; margin-top: 10px;\">&#x1F4AC; 3</span></p></div></div>"
      ],
      "text/plain": [
       "<IPython.core.display.HTML object>"
      ]
     },
     "metadata": {},
     "output_type": "display_data"
    },
    {
     "data": {
      "text/html": [
       "\n",
       "    <div style=\"border: 1px solid #ccc; max-width: 600px; padding: 25px; margin-bottom: 25px;\">\n",
       "        <div style=\"max-width: 550px; margin: 0 auto;\">\n",
       "            <p><strong><a href=\"https://searchcaster.xyz/search?merkleRoot=0x0a8faa522c4c5937a19c9ca2e9d0a1cad8ef67be\" target=\"_blank\">merkleRoot</a></strong></p>\n",
       "            <p><strong>@phil · fid 129</strong></p>\n",
       "            <div style=\"word-wrap: break-word; margin: 10px 0;\">One phenomenon that I’ll never get used to is the snark and criticism that people feel compelled to express from behind a keyboard<br><br>Plenty of examples on Twitter / Discord; it’s one of the reasons why I limit my time on those services <br><br>Is this just a symptom of digital communication or can it be fixed with better </div>\n",
       "    <p style=\"color: purple; margin: 10px 0 0;\">&#x1F49C; 35 <span style=\"margin-left: 5px; margin-top: 10px;\">&#x1F4AC; 13</span></p></div></div>"
      ],
      "text/plain": [
       "<IPython.core.display.HTML object>"
      ]
     },
     "metadata": {},
     "output_type": "display_data"
    },
    {
     "data": {
      "text/html": [
       "\n",
       "    <div style=\"border: 1px solid #ccc; max-width: 600px; padding: 25px; margin-bottom: 25px;\">\n",
       "        <div style=\"max-width: 550px; margin: 0 auto;\">\n",
       "            <p><strong><a href=\"https://searchcaster.xyz/search?merkleRoot=0x853a640373aa0161b355db9bdc38e9679045a4c6\" target=\"_blank\">merkleRoot</a></strong></p>\n",
       "            <p><strong>@ccarella · fid 472</strong></p>\n",
       "            <div style=\"word-wrap: break-word; margin: 10px 0;\">200 owners of my last NFT. All Farcaster users who were whitelisted if they were following me at the time of its release. </div>\n",
       "    <div style=\"text-align: center;\"><img src=\"https://i.imgur.com/lxbnrBd.jpg\" style=\"max-width: 550px; margin-top: 10px;\"></div><p style=\"color: purple; margin: 10px 0 0;\">&#x1F49C; 35 <span style=\"margin-left: 5px; margin-top: 10px;\">&#x1F4AC; 5</span></p></div></div>"
      ],
      "text/plain": [
       "<IPython.core.display.HTML object>"
      ]
     },
     "metadata": {},
     "output_type": "display_data"
    },
    {
     "data": {
      "text/html": [
       "\n",
       "    <div style=\"border: 1px solid #ccc; max-width: 600px; padding: 25px; margin-bottom: 25px;\">\n",
       "        <div style=\"max-width: 550px; margin: 0 auto;\">\n",
       "            <p><strong><a href=\"https://searchcaster.xyz/search?merkleRoot=0x869eaabefed69e1f0605a4a76c23abecc42831cf\" target=\"_blank\">merkleRoot</a></strong></p>\n",
       "            <p><strong>@dwr · fid 3</strong></p>\n",
       "            <div style=\"word-wrap: break-word; margin: 10px 0;\">Is there a paid service where you can have a podcast broken down into a series of audiogram video clips?</div>\n",
       "    <p style=\"color: purple; margin: 10px 0 0;\">&#x1F49C; 35 <span style=\"margin-left: 5px; margin-top: 10px;\">&#x1F4AC; 19</span></p></div></div>"
      ],
      "text/plain": [
       "<IPython.core.display.HTML object>"
      ]
     },
     "metadata": {},
     "output_type": "display_data"
    },
    {
     "data": {
      "text/html": [
       "\n",
       "    <div style=\"border: 1px solid #ccc; max-width: 600px; padding: 25px; margin-bottom: 25px;\">\n",
       "        <div style=\"max-width: 550px; margin: 0 auto;\">\n",
       "            <p><strong><a href=\"https://searchcaster.xyz/search?merkleRoot=0x4578269c21154b51c5028885238d16811465eda2\" target=\"_blank\">merkleRoot</a></strong></p>\n",
       "            <p><strong>@matthew · fid 473</strong></p>\n",
       "            <div style=\"word-wrap: break-word; margin: 10px 0;\">crypto rn be like </div>\n",
       "    <div style=\"text-align: center;\"><img src=\"https://i.imgur.com/GB5ms4p.jpg\" style=\"max-width: 550px; margin-top: 10px;\"></div><p style=\"color: purple; margin: 10px 0 0;\">&#x1F49C; 35 <span style=\"margin-left: 5px; margin-top: 10px;\">&#x1F4AC; 1</span></p></div></div>"
      ],
      "text/plain": [
       "<IPython.core.display.HTML object>"
      ]
     },
     "metadata": {},
     "output_type": "display_data"
    }
   ],
   "source": [
    "# TWLY: This Week Last Year - November 19 - November 25, 2022\n",
    "# Compiled using Farcaster-Indexer & Searchcaster \n",
    "\n",
    "https://github.com/gskril/farcaster-indexer\n",
    "https://searchcaster.xyz"
   ]
  }
 ],
 "metadata": {
  "kernelspec": {
   "display_name": "Python 3 (ipykernel)",
   "language": "python",
   "name": "python3"
  },
  "language_info": {
   "codemirror_mode": {
    "name": "ipython",
    "version": 3
   },
   "file_extension": ".py",
   "mimetype": "text/x-python",
   "name": "python",
   "nbconvert_exporter": "python",
   "pygments_lexer": "ipython3",
   "version": "3.9.13"
  }
 },
 "nbformat": 4,
 "nbformat_minor": 5
}
