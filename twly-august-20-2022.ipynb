{
 "cells": [
  {
   "cell_type": "markdown",
   "id": "784b1f6d",
   "metadata": {},
   "source": [
    "## OUTCASTERS SNAPSHOT 007"
   ]
  },
  {
   "cell_type": "markdown",
   "id": "398ad3ad",
   "metadata": {},
   "source": [
    "https://outcasters.xyz "
   ]
  },
  {
   "cell_type": "code",
   "execution_count": 1,
   "id": "b0ddc894",
   "metadata": {
    "scrolled": false
   },
   "outputs": [
    {
     "data": {
      "text/html": [
       "\n",
       "    <div style=\"max-width: 600px; margin-bottom: 25px;\">\n",
       "        <h2 style=\"margin-bottom: 15px;\">Total Casts</h2>\n",
       "        <p style=\"font-size: 18x; margin: 5px 0 5px;\">Including Replies: 6408</p>\n",
       "        <p style=\"font-size: 18x; margin: 5px 0;\">Excluding Replies: 1735</p>\n",
       "    </div>\n"
      ],
      "text/plain": [
       "<IPython.core.display.HTML object>"
      ]
     },
     "metadata": {},
     "output_type": "display_data"
    },
    {
     "data": {
      "text/html": [
       "<h2>Top 30 Most Active Users (Excluding Replies)</h2>"
      ],
      "text/plain": [
       "<IPython.core.display.HTML object>"
      ]
     },
     "metadata": {},
     "output_type": "display_data"
    },
    {
     "data": {
      "text/html": [
       "<p>Only original casts are considered for this calculation. Replies are excluded.</p>"
      ],
      "text/plain": [
       "<IPython.core.display.HTML object>"
      ]
     },
     "metadata": {},
     "output_type": "display_data"
    },
    {
     "data": {
      "text/html": [
       "<ol><li>abc - 77 casts</li><li>ace - 72 casts</li><li>dwr - 58 casts</li><li>giomedici - 58 casts</li><li>alexanderchopan - 57 casts</li><li>hyper - 35 casts</li><li>phil - 34 casts</li><li>cassie - 28 casts</li><li>giu - 25 casts</li><li>matthew - 23 casts</li><li>les - 21 casts</li><li>nonlinear - 19 casts</li><li>alvesjtiago - 18 casts</li><li>fn - 18 casts</li><li>payomdousti - 18 casts</li><li>alexpaden - 17 casts</li><li>rio - 17 casts</li><li>kamil - 16 casts</li><li>vm - 16 casts</li><li>ivy - 15 casts</li><li>brianjckim - 15 casts</li><li>july - 15 casts</li><li>dcposch - 14 casts</li><li>briang - 14 casts</li><li>cameron - 14 casts</li><li>noah - 14 casts</li><li>madhur - 13 casts</li><li>jayme - 13 casts</li><li>nick - 13 casts</li><li>daes - 13 casts</li></ol>"
      ],
      "text/plain": [
       "<IPython.core.display.HTML object>"
      ]
     },
     "metadata": {},
     "output_type": "display_data"
    },
    {
     "data": {
      "text/html": [
       "<h2>Top 30 Most Active Users (Including Replies)</h2>"
      ],
      "text/plain": [
       "<IPython.core.display.HTML object>"
      ]
     },
     "metadata": {},
     "output_type": "display_data"
    },
    {
     "data": {
      "text/html": [
       "<p>All casts, including replies, are considered for this calculation.</p>"
      ],
      "text/plain": [
       "<IPython.core.display.HTML object>"
      ]
     },
     "metadata": {},
     "output_type": "display_data"
    },
    {
     "data": {
      "text/html": [
       "<ol><li>dwr - 334 casts</li><li>ace - 236 casts</li><li>perl - 235 casts</li><li>giomedici - 224 casts</li><li>cassie - 158 casts</li><li>alexanderchopan - 137 casts</li><li>phil - 129 casts</li><li>july - 98 casts</li><li>exitcapital - 97 casts</li><li>matthew - 88 casts</li><li>cameron - 80 casts</li><li>abc - 78 casts</li><li>0xen - 70 casts</li><li>vm - 68 casts</li><li>hyper - 66 casts</li><li>alvesjtiago - 64 casts</li><li>rio - 63 casts</li><li>greg - 62 casts</li><li>giu - 60 casts</li><li>syed - 60 casts</li><li>madhur - 58 casts</li><li>manansh - 56 casts</li><li>nonlinear - 55 casts</li><li>v - 55 casts</li><li>jayme - 52 casts</li><li>daes - 51 casts</li><li>les - 51 casts</li><li>kamil - 51 casts</li><li>briang - 49 casts</li><li>payomdousti - 48 casts</li></ol>"
      ],
      "text/plain": [
       "<IPython.core.display.HTML object>"
      ]
     },
     "metadata": {},
     "output_type": "display_data"
    },
    {
     "data": {
      "text/html": [
       "<h2>Top 100 casts ranked by total likes</h2>"
      ],
      "text/plain": [
       "<IPython.core.display.HTML object>"
      ]
     },
     "metadata": {},
     "output_type": "display_data"
    },
    {
     "data": {
      "text/html": [
       "\n",
       "    <div style=\"border: 1px solid #ccc; max-width: 600px; padding: 25px; margin-bottom: 25px;\">\n",
       "        <div style=\"max-width: 550px; margin: 0 auto;\">\n",
       "            <p><strong><a href=\"https://searchcaster.xyz/search?merkleRoot=0x034a5d2fbdb394fd05ce0256d14669a5a4b067f7\" target=\"_blank\">merkleRoot</a></strong></p>\n",
       "            <p><strong>@v · fid 2</strong></p>\n",
       "            <div style=\"word-wrap: break-word; margin: 10px 0;\">today is a big day for me, my co-founder followed me on farcaster  </div>\n",
       "    <div style=\"text-align: center;\"><img src=\"https://i.imgur.com/iAEph1T.png\" style=\"max-width: 550px; margin-top: 10px;\"></div><p style=\"color: purple; margin: 10px 0 0;\">&#x1F49C; 61 <span style=\"margin-left: 5px; margin-top: 10px;\">&#x1F4AC; 5</span></p></div></div>"
      ],
      "text/plain": [
       "<IPython.core.display.HTML object>"
      ]
     },
     "metadata": {},
     "output_type": "display_data"
    },
    {
     "data": {
      "text/html": [
       "\n",
       "    <div style=\"border: 1px solid #ccc; max-width: 600px; padding: 25px; margin-bottom: 25px;\">\n",
       "        <div style=\"max-width: 550px; margin: 0 auto;\">\n",
       "            <p><strong><a href=\"https://searchcaster.xyz/search?merkleRoot=0xe5e6659e51c490b4f68820ef90eb886bdb3a6e58\" target=\"_blank\">merkleRoot</a></strong></p>\n",
       "            <p><strong>@matthew · fid 473</strong></p>\n",
       "            <div style=\"word-wrap: break-word; margin: 10px 0;\">great time tonight at the FC SF meetup! 😄 @event @july @eli @meesh @kn @ted @sam @benlim @henry </div>\n",
       "    <div style=\"text-align: center;\"><img src=\"https://i.imgur.com/VPiTyPs.jpg\" style=\"max-width: 550px; margin-top: 10px;\"></div><p style=\"color: purple; margin: 10px 0 0;\">&#x1F49C; 55 <span style=\"margin-left: 5px; margin-top: 10px;\">&#x1F4AC; 8</span></p></div></div>"
      ],
      "text/plain": [
       "<IPython.core.display.HTML object>"
      ]
     },
     "metadata": {},
     "output_type": "display_data"
    },
    {
     "data": {
      "text/html": [
       "\n",
       "    <div style=\"border: 1px solid #ccc; max-width: 600px; padding: 25px; margin-bottom: 25px;\">\n",
       "        <div style=\"max-width: 550px; margin: 0 auto;\">\n",
       "            <p><strong><a href=\"https://searchcaster.xyz/search?merkleRoot=0xe37e4c54229a7c4dac2e536c713c970640cd94cb\" target=\"_blank\">merkleRoot</a></strong></p>\n",
       "            <p><strong>@robin · fid 369</strong></p>\n",
       "            <div style=\"word-wrap: break-word; margin: 10px 0;\">just threw this together (didn't proofread) </div>\n",
       "    <div style=\"text-align: center;\"><img src=\"https://i.imgur.com/dpC8nFV.png\" style=\"max-width: 550px; margin-top: 10px;\"></div><p style=\"color: purple; margin: 10px 0 0;\">&#x1F49C; 50 <span style=\"margin-left: 5px; margin-top: 10px;\">&#x1F4AC; 6</span></p></div></div>"
      ],
      "text/plain": [
       "<IPython.core.display.HTML object>"
      ]
     },
     "metadata": {},
     "output_type": "display_data"
    },
    {
     "data": {
      "text/html": [
       "\n",
       "    <div style=\"border: 1px solid #ccc; max-width: 600px; padding: 25px; margin-bottom: 25px;\">\n",
       "        <div style=\"max-width: 550px; margin: 0 auto;\">\n",
       "            <p><strong><a href=\"https://searchcaster.xyz/search?merkleRoot=0x7b6b5f432b710415fce592ac5c0ec4879654d6f8\" target=\"_blank\">merkleRoot</a></strong></p>\n",
       "            <p><strong>@nonlinear · fid 576</strong></p>\n",
       "            <div style=\"word-wrap: break-word; margin: 10px 0;\">welcome new farcasters  </div>\n",
       "    <div style=\"text-align: center;\"><img src=\"https://i.imgur.com/irZxnUg.jpg\" style=\"max-width: 550px; margin-top: 10px;\"></div><p style=\"color: purple; margin: 10px 0 0;\">&#x1F49C; 43 <span style=\"margin-left: 5px; margin-top: 10px;\">&#x1F4AC; 3</span></p></div></div>"
      ],
      "text/plain": [
       "<IPython.core.display.HTML object>"
      ]
     },
     "metadata": {},
     "output_type": "display_data"
    },
    {
     "data": {
      "text/html": [
       "\n",
       "    <div style=\"border: 1px solid #ccc; max-width: 600px; padding: 25px; margin-bottom: 25px;\">\n",
       "        <div style=\"max-width: 550px; margin: 0 auto;\">\n",
       "            <p><strong><a href=\"https://searchcaster.xyz/search?merkleRoot=0x8eceaeea9988c7f6ade3c5d4840f43e2181956c9\" target=\"_blank\">merkleRoot</a></strong></p>\n",
       "            <p><strong>@nick · fid 108</strong></p>\n",
       "            <div style=\"word-wrap: break-word; margin: 10px 0;\">Enjoying the purple app lately 😀 </div>\n",
       "    <div style=\"text-align: center;\"><img src=\"https://i.imgur.com/cQ3TqS9.jpg\" style=\"max-width: 550px; margin-top: 10px;\"></div><p style=\"color: purple; margin: 10px 0 0;\">&#x1F49C; 41 <span style=\"margin-left: 5px; margin-top: 10px;\">&#x1F4AC; 5</span></p></div></div>"
      ],
      "text/plain": [
       "<IPython.core.display.HTML object>"
      ]
     },
     "metadata": {},
     "output_type": "display_data"
    },
    {
     "data": {
      "text/html": [
       "\n",
       "    <div style=\"border: 1px solid #ccc; max-width: 600px; padding: 25px; margin-bottom: 25px;\">\n",
       "        <div style=\"max-width: 550px; margin: 0 auto;\">\n",
       "            <p><strong><a href=\"https://searchcaster.xyz/search?merkleRoot=0x608f8cc7bd1ec9def2cc4385bf566717b11255bb\" target=\"_blank\">merkleRoot</a></strong></p>\n",
       "            <p><strong>@dwr · fid 3</strong></p>\n",
       "            <div style=\"word-wrap: break-word; margin: 10px 0;\">Was on two podcasts recently talking about Farcaster:<br><br>Web3 Galaxy Brain with @nicholas <br><a href=\"https://open.spotify.com/episode/0gF2ZU5ZGEo5k13BrKIqVv\" target=\"_blank\">https://open.spotify.com/episode/0gF2ZU5ZGEo5k13BrKIqVv</a><br><br>Village Global Venture Stories with @erik <br><a href=\"https://open.spotify.com/episode/0v0OBh7su4P8UUVtCC2jpd\" target=\"_blank\">https://open.spotify.com/episode/0v0OBh7su4P8UUVtCC2jpd</a></div>\n",
       "    <p style=\"color: purple; margin: 10px 0 0;\">&#x1F49C; 37 <span style=\"margin-left: 5px; margin-top: 10px;\">&#x1F4AC; 2</span></p></div></div>"
      ],
      "text/plain": [
       "<IPython.core.display.HTML object>"
      ]
     },
     "metadata": {},
     "output_type": "display_data"
    },
    {
     "data": {
      "text/html": [
       "\n",
       "    <div style=\"border: 1px solid #ccc; max-width: 600px; padding: 25px; margin-bottom: 25px;\">\n",
       "        <div style=\"max-width: 550px; margin: 0 auto;\">\n",
       "            <p><strong><a href=\"https://searchcaster.xyz/search?merkleRoot=0x6b26ce658153ef356ffd93d2f701d8c5ce31e71e\" target=\"_blank\">merkleRoot</a></strong></p>\n",
       "            <p><strong>@madhur · fid 702</strong></p>\n",
       "            <div style=\"word-wrap: break-word; margin: 10px 0;\">GM <br><br>We crossed 100k casts today. 🎉  </div>\n",
       "    <div style=\"text-align: center;\"><img src=\"https://i.imgur.com/I7me3Pi.png\" style=\"max-width: 550px; margin-top: 10px;\"></div><p style=\"color: purple; margin: 10px 0 0;\">&#x1F49C; 36 <span style=\"margin-left: 5px; margin-top: 10px;\">&#x1F4AC; 1</span></p></div></div>"
      ],
      "text/plain": [
       "<IPython.core.display.HTML object>"
      ]
     },
     "metadata": {},
     "output_type": "display_data"
    },
    {
     "data": {
      "text/html": [
       "\n",
       "    <div style=\"border: 1px solid #ccc; max-width: 600px; padding: 25px; margin-bottom: 25px;\">\n",
       "        <div style=\"max-width: 550px; margin: 0 auto;\">\n",
       "            <p><strong><a href=\"https://searchcaster.xyz/search?merkleRoot=0x0dff3f65b03d115b756bd4782a15189c312f59a5\" target=\"_blank\">merkleRoot</a></strong></p>\n",
       "            <p><strong>@v · fid 2</strong></p>\n",
       "            <div style=\"word-wrap: break-word; margin: 10px 0;\">On most days I love Slack. But this is one of the other days. <br><br> </div>\n",
       "    <div style=\"text-align: center;\"><img src=\"https://i.imgur.com/7NJdJx4.png\" style=\"max-width: 550px; margin-top: 10px;\"></div><p style=\"color: purple; margin: 10px 0 0;\">&#x1F49C; 36 <span style=\"margin-left: 5px; margin-top: 10px;\">&#x1F4AC; 4</span></p></div></div>"
      ],
      "text/plain": [
       "<IPython.core.display.HTML object>"
      ]
     },
     "metadata": {},
     "output_type": "display_data"
    },
    {
     "data": {
      "text/html": [
       "\n",
       "    <div style=\"border: 1px solid #ccc; max-width: 600px; padding: 25px; margin-bottom: 25px;\">\n",
       "        <div style=\"max-width: 550px; margin: 0 auto;\">\n",
       "            <p><strong><a href=\"https://searchcaster.xyz/search?merkleRoot=0x9deafebbfc7e30d232a06e4fa87275f3b1a40af3\" target=\"_blank\">merkleRoot</a></strong></p>\n",
       "            <p><strong>@dwr · fid 3</strong></p>\n",
       "            <div style=\"word-wrap: break-word; margin: 10px 0;\">gm low effort meme to start the week </div>\n",
       "    <div style=\"text-align: center;\"><img src=\"https://i.imgur.com/fqoP5sR.png\" style=\"max-width: 550px; margin-top: 10px;\"></div><p style=\"color: purple; margin: 10px 0 0;\">&#x1F49C; 36 <span style=\"margin-left: 5px; margin-top: 10px;\">&#x1F4AC; 3</span></p></div></div>"
      ],
      "text/plain": [
       "<IPython.core.display.HTML object>"
      ]
     },
     "metadata": {},
     "output_type": "display_data"
    },
    {
     "data": {
      "text/html": [
       "\n",
       "    <div style=\"border: 1px solid #ccc; max-width: 600px; padding: 25px; margin-bottom: 25px;\">\n",
       "        <div style=\"max-width: 550px; margin: 0 auto;\">\n",
       "            <p><strong><a href=\"https://searchcaster.xyz/search?merkleRoot=0xbbcdb286b9635be89483cae7b2e49e2333f6650e\" target=\"_blank\">merkleRoot</a></strong></p>\n",
       "            <p><strong>@nick · fid 108</strong></p>\n",
       "            <div style=\"word-wrap: break-word; margin: 10px 0;\">gm friends </div>\n",
       "    <div style=\"text-align: center;\"><img src=\"https://i.imgur.com/OlVCDhC.jpg\" style=\"max-width: 550px; margin-top: 10px;\"></div><p style=\"color: purple; margin: 10px 0 0;\">&#x1F49C; 35 <span style=\"margin-left: 5px; margin-top: 10px;\">&#x1F4AC; 0</span></p></div></div>"
      ],
      "text/plain": [
       "<IPython.core.display.HTML object>"
      ]
     },
     "metadata": {},
     "output_type": "display_data"
    },
    {
     "data": {
      "text/html": [
       "\n",
       "    <div style=\"border: 1px solid #ccc; max-width: 600px; padding: 25px; margin-bottom: 25px;\">\n",
       "        <div style=\"max-width: 550px; margin: 0 auto;\">\n",
       "            <p><strong><a href=\"https://searchcaster.xyz/search?merkleRoot=0x07e644bdd1abe37fa67738d8a6c5cdf92d02391a\" target=\"_blank\">merkleRoot</a></strong></p>\n",
       "            <p><strong>@benlim · fid 517</strong></p>\n",
       "            <div style=\"word-wrap: break-word; margin: 10px 0;\">FC SF meet-up. </div>\n",
       "    <div style=\"text-align: center;\"><img src=\"https://i.imgur.com/ZFrk6BR.jpg\" style=\"max-width: 550px; margin-top: 10px;\"></div><p style=\"color: purple; margin: 10px 0 0;\">&#x1F49C; 34 <span style=\"margin-left: 5px; margin-top: 10px;\">&#x1F4AC; 2</span></p></div></div>"
      ],
      "text/plain": [
       "<IPython.core.display.HTML object>"
      ]
     },
     "metadata": {},
     "output_type": "display_data"
    },
    {
     "data": {
      "text/html": [
       "\n",
       "    <div style=\"border: 1px solid #ccc; max-width: 600px; padding: 25px; margin-bottom: 25px;\">\n",
       "        <div style=\"max-width: 550px; margin: 0 auto;\">\n",
       "            <p><strong><a href=\"https://searchcaster.xyz/search?merkleRoot=0xa70cabf0cbd3528069cab2c44bcf5cc533748fc6\" target=\"_blank\">merkleRoot</a></strong></p>\n",
       "            <p><strong>@wxl · fid 1280</strong></p>\n",
       "            <div style=\"word-wrap: break-word; margin: 10px 0;\">The ratio of founders and builders on Farcaster relative to other web3 social strikes me as one hell of a signal. All users are not equal</div>\n",
       "    <p style=\"color: purple; margin: 10px 0 0;\">&#x1F49C; 33 <span style=\"margin-left: 5px; margin-top: 10px;\">&#x1F4AC; 2</span></p></div></div>"
      ],
      "text/plain": [
       "<IPython.core.display.HTML object>"
      ]
     },
     "metadata": {},
     "output_type": "display_data"
    },
    {
     "data": {
      "text/html": [
       "\n",
       "    <div style=\"border: 1px solid #ccc; max-width: 600px; padding: 25px; margin-bottom: 25px;\">\n",
       "        <div style=\"max-width: 550px; margin: 0 auto;\">\n",
       "            <p><strong><a href=\"https://searchcaster.xyz/search?merkleRoot=0x01482b0d9bad901a37ef4b3c9e60798f77e16db9\" target=\"_blank\">merkleRoot</a></strong></p>\n",
       "            <p><strong>@pdr · fid 474</strong></p>\n",
       "            <div style=\"word-wrap: break-word; margin: 10px 0;\">gm<br><br>🟪🟪🟪🟪🟪🟪🟪🟪🟪🟪 <br>🟪🟪🟪🟪🟪🟪🟪🟪🟪🟪<br>🟪🟪⬜️⬜️⬜️⬜️⬜️⬜️🟪🟪<br>🟪⬜️⬜️⬜️⬜️⬜️⬜️⬜️⬜️🟪<br>🟪🟪⬜️⬜️🟪🟪⬜️⬜️🟪🟪<br>🟪🟪⬜️⬜️🟪🟪⬜️⬜️🟪🟪<br>🟪🟪⬜️⬜️🟪</div>\n",
       "    <p style=\"color: purple; margin: 10px 0 0;\">&#x1F49C; 32 <span style=\"margin-left: 5px; margin-top: 10px;\">&#x1F4AC; 2</span></p></div></div>"
      ],
      "text/plain": [
       "<IPython.core.display.HTML object>"
      ]
     },
     "metadata": {},
     "output_type": "display_data"
    },
    {
     "data": {
      "text/html": [
       "\n",
       "    <div style=\"border: 1px solid #ccc; max-width: 600px; padding: 25px; margin-bottom: 25px;\">\n",
       "        <div style=\"max-width: 550px; margin: 0 auto;\">\n",
       "            <p><strong><a href=\"https://searchcaster.xyz/search?merkleRoot=0xf26d92604e6b54ecd664d4faf44e797adfadcfaf\" target=\"_blank\">merkleRoot</a></strong></p>\n",
       "            <p><strong>@jc · fid 251</strong></p>\n",
       "            <div style=\"word-wrap: break-word; margin: 10px 0;\">Congrats to @gregskril on becoming an ENS Fellow! Glad to see ecosystems rewarding their builders 🏗<br><br><a href=\"https://discuss.ens.domains/t/ens-ecosystem-fellowship/14133\" target=\"_blank\">https://discuss.ens.domains/t/ens-ecosystem-fellowship/14133</a></div>\n",
       "    <p style=\"color: purple; margin: 10px 0 0;\">&#x1F49C; 32 <span style=\"margin-left: 5px; margin-top: 10px;\">&#x1F4AC; 6</span></p></div></div>"
      ],
      "text/plain": [
       "<IPython.core.display.HTML object>"
      ]
     },
     "metadata": {},
     "output_type": "display_data"
    },
    {
     "data": {
      "text/html": [
       "\n",
       "    <div style=\"border: 1px solid #ccc; max-width: 600px; padding: 25px; margin-bottom: 25px;\">\n",
       "        <div style=\"max-width: 550px; margin: 0 auto;\">\n",
       "            <p><strong><a href=\"https://searchcaster.xyz/search?merkleRoot=0xc28b9dad884e8ccfa2b88c52e98174df4cf97fe3\" target=\"_blank\">merkleRoot</a></strong></p>\n",
       "            <p><strong>@dwr · fid 3</strong></p>\n",
       "            <div style=\"word-wrap: break-word; margin: 10px 0;\">startup: we're early and it's going to be a lot of work. not a good fit for you if you're not interested in that right now <br><br>people proceed to complain about telling people upfront to not work there because it's a lot of work </div>\n",
       "    <div style=\"text-align: center;\"><img src=\"https://i.imgur.com/Mdt4TyR.png\" style=\"max-width: 550px; margin-top: 10px;\"></div><p style=\"color: purple; margin: 10px 0 0;\">&#x1F49C; 32 <span style=\"margin-left: 5px; margin-top: 10px;\">&#x1F4AC; 3</span></p></div></div>"
      ],
      "text/plain": [
       "<IPython.core.display.HTML object>"
      ]
     },
     "metadata": {},
     "output_type": "display_data"
    },
    {
     "data": {
      "text/html": [
       "\n",
       "    <div style=\"border: 1px solid #ccc; max-width: 600px; padding: 25px; margin-bottom: 25px;\">\n",
       "        <div style=\"max-width: 550px; margin: 0 auto;\">\n",
       "            <p><strong><a href=\"https://searchcaster.xyz/search?merkleRoot=0x60d6896d0f0156d3e313319332eb46140d929bd1\" target=\"_blank\">merkleRoot</a></strong></p>\n",
       "            <p><strong>@serjkorj · fid 893</strong></p>\n",
       "            <div style=\"word-wrap: break-word; margin: 10px 0;\"></div>\n",
       "    <div style=\"text-align: center;\"><img src=\"https://i.imgur.com/Q7HEEHU.jpg\" style=\"max-width: 550px; margin-top: 10px;\"></div><p style=\"color: purple; margin: 10px 0 0;\">&#x1F49C; 32 <span style=\"margin-left: 5px; margin-top: 10px;\">&#x1F4AC; 2</span></p></div></div>"
      ],
      "text/plain": [
       "<IPython.core.display.HTML object>"
      ]
     },
     "metadata": {},
     "output_type": "display_data"
    },
    {
     "data": {
      "text/html": [
       "\n",
       "    <div style=\"border: 1px solid #ccc; max-width: 600px; padding: 25px; margin-bottom: 25px;\">\n",
       "        <div style=\"max-width: 550px; margin: 0 auto;\">\n",
       "            <p><strong><a href=\"https://searchcaster.xyz/search?merkleRoot=0x68a49fd7633d245a711071675f5ff4389e80ca1f\" target=\"_blank\">merkleRoot</a></strong></p>\n",
       "            <p><strong>@dwr · fid 3</strong></p>\n",
       "            <div style=\"word-wrap: break-word; margin: 10px 0;\">Lots of organic mentions of Farcaster on the bird app recently.<br><br>Appreciate all of you telling others about Farcaster — word-of-mouth has been really effective for growing the protocol while maintaining quality. <br><br>Thank you!<br><br><a href=\"https://twitter.com/search?q=farcaster&f=live\" target=\"_blank\">https://twitter.com/search?q=farcaster&f=live</a></div>\n",
       "    <p style=\"color: purple; margin: 10px 0 0;\">&#x1F49C; 31 <span style=\"margin-left: 5px; margin-top: 10px;\">&#x1F4AC; 0</span></p></div></div>"
      ],
      "text/plain": [
       "<IPython.core.display.HTML object>"
      ]
     },
     "metadata": {},
     "output_type": "display_data"
    },
    {
     "data": {
      "text/html": [
       "\n",
       "    <div style=\"border: 1px solid #ccc; max-width: 600px; padding: 25px; margin-bottom: 25px;\">\n",
       "        <div style=\"max-width: 550px; margin: 0 auto;\">\n",
       "            <p><strong><a href=\"https://searchcaster.xyz/search?merkleRoot=0x0f6fcc31368734a775e5e0d9ff6ed2678cb3983a\" target=\"_blank\">merkleRoot</a></strong></p>\n",
       "            <p><strong>@hyper · fid 283</strong></p>\n",
       "            <div style=\"word-wrap: break-word; margin: 10px 0;\">The notion that alcohol is good for you in moderation is total bs<br><br>Any benefits from resveratrol in wine are likely outweighed by cons. And there’s no way anything beyond red wine can even make the argument<br><br>This is just like the food pyramid level lie (tho not as pernicious)</div>\n",
       "    <p style=\"color: purple; margin: 10px 0 0;\">&#x1F49C; 31 <span style=\"margin-left: 5px; margin-top: 10px;\">&#x1F4AC; 6</span></p></div></div>"
      ],
      "text/plain": [
       "<IPython.core.display.HTML object>"
      ]
     },
     "metadata": {},
     "output_type": "display_data"
    },
    {
     "data": {
      "text/html": [
       "\n",
       "    <div style=\"border: 1px solid #ccc; max-width: 600px; padding: 25px; margin-bottom: 25px;\">\n",
       "        <div style=\"max-width: 550px; margin: 0 auto;\">\n",
       "            <p><strong><a href=\"https://searchcaster.xyz/search?merkleRoot=0x9055abda66c0d169ae91efb4bc107b2bf21c46c4\" target=\"_blank\">merkleRoot</a></strong></p>\n",
       "            <p><strong>@dwr · fid 3</strong></p>\n",
       "            <div style=\"word-wrap: break-word; margin: 10px 0;\">ZORBS feels underrated </div>\n",
       "    <div style=\"text-align: center;\"><img src=\"https://i.imgur.com/9WthRHG.png\" style=\"max-width: 550px; margin-top: 10px;\"></div><p style=\"color: purple; margin: 10px 0 0;\">&#x1F49C; 31 <span style=\"margin-left: 5px; margin-top: 10px;\">&#x1F4AC; 8</span></p></div></div>"
      ],
      "text/plain": [
       "<IPython.core.display.HTML object>"
      ]
     },
     "metadata": {},
     "output_type": "display_data"
    },
    {
     "data": {
      "text/html": [
       "\n",
       "    <div style=\"border: 1px solid #ccc; max-width: 600px; padding: 25px; margin-bottom: 25px;\">\n",
       "        <div style=\"max-width: 550px; margin: 0 auto;\">\n",
       "            <p><strong><a href=\"https://searchcaster.xyz/search?merkleRoot=0x11f91b4ac4388266b31cd744d6f6a3b45960d32a\" target=\"_blank\">merkleRoot</a></strong></p>\n",
       "            <p><strong>@greg · fid 347</strong></p>\n",
       "            <div style=\"word-wrap: break-word; margin: 10px 0;\">ga </div>\n",
       "    <div style=\"text-align: center;\"><img src=\"https://i.imgur.com/0HWA8Yt.jpg\" style=\"max-width: 550px; margin-top: 10px;\"></div><p style=\"color: purple; margin: 10px 0 0;\">&#x1F49C; 30 <span style=\"margin-left: 5px; margin-top: 10px;\">&#x1F4AC; 2</span></p></div></div>"
      ],
      "text/plain": [
       "<IPython.core.display.HTML object>"
      ]
     },
     "metadata": {},
     "output_type": "display_data"
    },
    {
     "data": {
      "text/html": [
       "\n",
       "    <div style=\"border: 1px solid #ccc; max-width: 600px; padding: 25px; margin-bottom: 25px;\">\n",
       "        <div style=\"max-width: 550px; margin: 0 auto;\">\n",
       "            <p><strong><a href=\"https://searchcaster.xyz/search?merkleRoot=0xb19a500c9d7b575b6493d9aed2f6d5a2a7370acf\" target=\"_blank\">merkleRoot</a></strong></p>\n",
       "            <p><strong>@dwr · fid 3</strong></p>\n",
       "            <div style=\"word-wrap: break-word; margin: 10px 0;\">Going to start casting ideas for v2 when you can build read/write clients<br><br>Sportscaster v0<br>- List of sports games that on right now<br>- Tap into a game to participate in the discussion<br>- Eventually add bots for scores, plays (but to start assume people are 2nd screening)</div>\n",
       "    <p style=\"color: purple; margin: 10px 0 0;\">&#x1F49C; 30 <span style=\"margin-left: 5px; margin-top: 10px;\">&#x1F4AC; 4</span></p></div></div>"
      ],
      "text/plain": [
       "<IPython.core.display.HTML object>"
      ]
     },
     "metadata": {},
     "output_type": "display_data"
    },
    {
     "data": {
      "text/html": [
       "\n",
       "    <div style=\"border: 1px solid #ccc; max-width: 600px; padding: 25px; margin-bottom: 25px;\">\n",
       "        <div style=\"max-width: 550px; margin: 0 auto;\">\n",
       "            <p><strong><a href=\"https://searchcaster.xyz/search?merkleRoot=0xf855756caf9958f76d6d8135eafdb76035afb380\" target=\"_blank\">merkleRoot</a></strong></p>\n",
       "            <p><strong>@emodi · fid 604</strong></p>\n",
       "            <div style=\"word-wrap: break-word; margin: 10px 0;\">Five levels of initiative: <br><br>1) wait until told (lowest initiative); <br><br>2) ask what to do; <br><br>3) recommend, then take resulting action; <br><br>4) act, but advise at once; and <br><br>5) act on own, then routinely report (highest)</div>\n",
       "    <p style=\"color: purple; margin: 10px 0 0;\">&#x1F49C; 30 <span style=\"margin-left: 5px; margin-top: 10px;\">&#x1F4AC; 3</span></p></div></div>"
      ],
      "text/plain": [
       "<IPython.core.display.HTML object>"
      ]
     },
     "metadata": {},
     "output_type": "display_data"
    },
    {
     "data": {
      "text/html": [
       "\n",
       "    <div style=\"border: 1px solid #ccc; max-width: 600px; padding: 25px; margin-bottom: 25px;\">\n",
       "        <div style=\"max-width: 550px; margin: 0 auto;\">\n",
       "            <p><strong><a href=\"https://searchcaster.xyz/search?merkleRoot=0xa59ff3aca96d7fca9fea3baedbdda84b5f45725f\" target=\"_blank\">merkleRoot</a></strong></p>\n",
       "            <p><strong>@dwr · fid 3</strong></p>\n",
       "            <div style=\"word-wrap: break-word; margin: 10px 0;\">A person writing an essay that will eventually be screenshotted and posted on Farcaster, by Jacques-Louis David, neoclassical painting </div>\n",
       "    <div style=\"text-align: center;\"><img src=\"https://i.imgur.com/BH5SUCU.png\" style=\"max-width: 550px; margin-top: 10px;\"></div><p style=\"color: purple; margin: 10px 0 0;\">&#x1F49C; 30 <span style=\"margin-left: 5px; margin-top: 10px;\">&#x1F4AC; 1</span></p></div></div>"
      ],
      "text/plain": [
       "<IPython.core.display.HTML object>"
      ]
     },
     "metadata": {},
     "output_type": "display_data"
    },
    {
     "data": {
      "text/html": [
       "\n",
       "    <div style=\"border: 1px solid #ccc; max-width: 600px; padding: 25px; margin-bottom: 25px;\">\n",
       "        <div style=\"max-width: 550px; margin: 0 auto;\">\n",
       "            <p><strong><a href=\"https://searchcaster.xyz/search?merkleRoot=0x8fca66bd0e0cecdfff2e2a63455daf3f556d5026\" target=\"_blank\">merkleRoot</a></strong></p>\n",
       "            <p><strong>@les · fid 312</strong></p>\n",
       "            <div style=\"word-wrap: break-word; margin: 10px 0;\">Gm.<br>Woke up thinking about product discovery on Farcaster. <br><br>So many builders.</div>\n",
       "    <p style=\"color: purple; margin: 10px 0 0;\">&#x1F49C; 30 <span style=\"margin-left: 5px; margin-top: 10px;\">&#x1F4AC; 7</span></p></div></div>"
      ],
      "text/plain": [
       "<IPython.core.display.HTML object>"
      ]
     },
     "metadata": {},
     "output_type": "display_data"
    },
    {
     "data": {
      "text/html": [
       "\n",
       "    <div style=\"border: 1px solid #ccc; max-width: 600px; padding: 25px; margin-bottom: 25px;\">\n",
       "        <div style=\"max-width: 550px; margin: 0 auto;\">\n",
       "            <p><strong><a href=\"https://searchcaster.xyz/search?merkleRoot=0xcfe590ee9b4589bc4de59a40523dd682f8bb38bf\" target=\"_blank\">merkleRoot</a></strong></p>\n",
       "            <p><strong>@brianjckim · fid 426</strong></p>\n",
       "            <div style=\"word-wrap: break-word; margin: 10px 0;\">omg </div>\n",
       "    <div style=\"text-align: center;\"><img src=\"https://i.imgur.com/cfgYnDK.jpg\" style=\"max-width: 550px; margin-top: 10px;\"></div><p style=\"color: purple; margin: 10px 0 0;\">&#x1F49C; 29 <span style=\"margin-left: 5px; margin-top: 10px;\">&#x1F4AC; 1</span></p></div></div>"
      ],
      "text/plain": [
       "<IPython.core.display.HTML object>"
      ]
     },
     "metadata": {},
     "output_type": "display_data"
    },
    {
     "data": {
      "text/html": [
       "\n",
       "    <div style=\"border: 1px solid #ccc; max-width: 600px; padding: 25px; margin-bottom: 25px;\">\n",
       "        <div style=\"max-width: 550px; margin: 0 auto;\">\n",
       "            <p><strong><a href=\"https://searchcaster.xyz/search?merkleRoot=0x9a31ad2305d1598219ea6b489300890371d82fe4\" target=\"_blank\">merkleRoot</a></strong></p>\n",
       "            <p><strong>@greg · fid 347</strong></p>\n",
       "            <div style=\"word-wrap: break-word; margin: 10px 0;\">gn, last night in Banff </div>\n",
       "    <div style=\"text-align: center;\"><img src=\"https://i.imgur.com/Rg2sLnK.jpg\" style=\"max-width: 550px; margin-top: 10px;\"></div><p style=\"color: purple; margin: 10px 0 0;\">&#x1F49C; 29 <span style=\"margin-left: 5px; margin-top: 10px;\">&#x1F4AC; 1</span></p></div></div>"
      ],
      "text/plain": [
       "<IPython.core.display.HTML object>"
      ]
     },
     "metadata": {},
     "output_type": "display_data"
    },
    {
     "data": {
      "text/html": [
       "\n",
       "    <div style=\"border: 1px solid #ccc; max-width: 600px; padding: 25px; margin-bottom: 25px;\">\n",
       "        <div style=\"max-width: 550px; margin: 0 auto;\">\n",
       "            <p><strong><a href=\"https://searchcaster.xyz/search?merkleRoot=0x83a0040d58671d9bbd7de0dd76541b4274f10a1d\" target=\"_blank\">merkleRoot</a></strong></p>\n",
       "            <p><strong>@dwr · fid 3</strong></p>\n",
       "            <div style=\"word-wrap: break-word; margin: 10px 0;\">Tonight’s movie </div>\n",
       "    <div style=\"text-align: center;\"><img src=\"https://i.imgur.com/a6zdA1F.jpg\" style=\"max-width: 550px; margin-top: 10px;\"></div><p style=\"color: purple; margin: 10px 0 0;\">&#x1F49C; 28 <span style=\"margin-left: 5px; margin-top: 10px;\">&#x1F4AC; 1</span></p></div></div>"
      ],
      "text/plain": [
       "<IPython.core.display.HTML object>"
      ]
     },
     "metadata": {},
     "output_type": "display_data"
    },
    {
     "data": {
      "text/html": [
       "\n",
       "    <div style=\"border: 1px solid #ccc; max-width: 600px; padding: 25px; margin-bottom: 25px;\">\n",
       "        <div style=\"max-width: 550px; margin: 0 auto;\">\n",
       "            <p><strong><a href=\"https://searchcaster.xyz/search?merkleRoot=0x3dc1b9210d78a67f66b7a3a525ce0f8d15b1192d\" target=\"_blank\">merkleRoot</a></strong></p>\n",
       "            <p><strong>@jason · fid 483</strong></p>\n",
       "            <div style=\"word-wrap: break-word; margin: 10px 0;\">The year is 2025. People are making these memes </div>\n",
       "    <div style=\"text-align: center;\"><img src=\"https://i.imgur.com/kf4pwk7.jpg\" style=\"max-width: 550px; margin-top: 10px;\"></div><p style=\"color: purple; margin: 10px 0 0;\">&#x1F49C; 28 <span style=\"margin-left: 5px; margin-top: 10px;\">&#x1F4AC; 0</span></p></div></div>"
      ],
      "text/plain": [
       "<IPython.core.display.HTML object>"
      ]
     },
     "metadata": {},
     "output_type": "display_data"
    },
    {
     "data": {
      "text/html": [
       "\n",
       "    <div style=\"border: 1px solid #ccc; max-width: 600px; padding: 25px; margin-bottom: 25px;\">\n",
       "        <div style=\"max-width: 550px; margin: 0 auto;\">\n",
       "            <p><strong><a href=\"https://searchcaster.xyz/search?merkleRoot=0x85b1bb93edaabfe7aceb8242632deeb9c8a1fd07\" target=\"_blank\">merkleRoot</a></strong></p>\n",
       "            <p><strong>@dwr · fid 3</strong></p>\n",
       "            <div style=\"word-wrap: break-word; margin: 10px 0;\">lol </div>\n",
       "    <div style=\"text-align: center;\"><img src=\"https://i.imgur.com/HwtwWWB.jpg\" style=\"max-width: 550px; margin-top: 10px;\"></div><p style=\"color: purple; margin: 10px 0 0;\">&#x1F49C; 28 <span style=\"margin-left: 5px; margin-top: 10px;\">&#x1F4AC; 5</span></p></div></div>"
      ],
      "text/plain": [
       "<IPython.core.display.HTML object>"
      ]
     },
     "metadata": {},
     "output_type": "display_data"
    },
    {
     "data": {
      "text/html": [
       "\n",
       "    <div style=\"border: 1px solid #ccc; max-width: 600px; padding: 25px; margin-bottom: 25px;\">\n",
       "        <div style=\"max-width: 550px; margin: 0 auto;\">\n",
       "            <p><strong><a href=\"https://searchcaster.xyz/search?merkleRoot=0x5bbbb35a628b4ecbebf098e4ed7a32dfb6ead377\" target=\"_blank\">merkleRoot</a></strong></p>\n",
       "            <p><strong>@linda · fid 12</strong></p>\n",
       "            <div style=\"word-wrap: break-word; margin: 10px 0;\">It felt out of place having my real face as my Farcaster avatar so I'm changing this back to my NFT :)</div>\n",
       "    <p style=\"color: purple; margin: 10px 0 0;\">&#x1F49C; 27 <span style=\"margin-left: 5px; margin-top: 10px;\">&#x1F4AC; 4</span></p></div></div>"
      ],
      "text/plain": [
       "<IPython.core.display.HTML object>"
      ]
     },
     "metadata": {},
     "output_type": "display_data"
    },
    {
     "data": {
      "text/html": [
       "\n",
       "    <div style=\"border: 1px solid #ccc; max-width: 600px; padding: 25px; margin-bottom: 25px;\">\n",
       "        <div style=\"max-width: 550px; margin: 0 auto;\">\n",
       "            <p><strong><a href=\"https://searchcaster.xyz/search?merkleRoot=0xd48e41e389c0175a9f001b1dd3dc38e670daf64c\" target=\"_blank\">merkleRoot</a></strong></p>\n",
       "            <p><strong>@scharf · fid 134</strong></p>\n",
       "            <div style=\"word-wrap: break-word; margin: 10px 0;\">gm, excited to open up the Stelo beta to the Farcaster community<br><br>Stelo gives you confidence to explore the frontier of web3 without the fear of getting phished or scammed<br><br>Drop your email at stelolabs.com then download via link in the next cast <br><br>Happy to answer any questions</div>\n",
       "    <p style=\"color: purple; margin: 10px 0 0;\">&#x1F49C; 27 <span style=\"margin-left: 5px; margin-top: 10px;\">&#x1F4AC; 11</span></p></div></div>"
      ],
      "text/plain": [
       "<IPython.core.display.HTML object>"
      ]
     },
     "metadata": {},
     "output_type": "display_data"
    },
    {
     "data": {
      "text/html": [
       "\n",
       "    <div style=\"border: 1px solid #ccc; max-width: 600px; padding: 25px; margin-bottom: 25px;\">\n",
       "        <div style=\"max-width: 550px; margin: 0 auto;\">\n",
       "            <p><strong><a href=\"https://searchcaster.xyz/search?merkleRoot=0x3407416e4b9dfae81a0da6cc09590d231b3b5a43\" target=\"_blank\">merkleRoot</a></strong></p>\n",
       "            <p><strong>@nick · fid 108</strong></p>\n",
       "            <div style=\"word-wrap: break-word; margin: 10px 0;\">Jealousy is the strongest human emotion </div>\n",
       "    <div style=\"text-align: center;\"><img src=\"https://i.imgur.com/qTmkaZh.jpg\" style=\"max-width: 550px; margin-top: 10px;\"></div><p style=\"color: purple; margin: 10px 0 0;\">&#x1F49C; 27 <span style=\"margin-left: 5px; margin-top: 10px;\">&#x1F4AC; 4</span></p></div></div>"
      ],
      "text/plain": [
       "<IPython.core.display.HTML object>"
      ]
     },
     "metadata": {},
     "output_type": "display_data"
    },
    {
     "data": {
      "text/html": [
       "\n",
       "    <div style=\"border: 1px solid #ccc; max-width: 600px; padding: 25px; margin-bottom: 25px;\">\n",
       "        <div style=\"max-width: 550px; margin: 0 auto;\">\n",
       "            <p><strong><a href=\"https://searchcaster.xyz/search?merkleRoot=0xbaa5cd6ecff49c44abe2bb9d7b865b843e22670f\" target=\"_blank\">merkleRoot</a></strong></p>\n",
       "            <p><strong>@dwr · fid 3</strong></p>\n",
       "            <div style=\"word-wrap: break-word; margin: 10px 0;\">Farcaster app idea: show your on-chain similarity score for another user, i.e. do you own the same assets, similar mints, hold length, earliest transaction, etc. <br><br>Could apply for any two Ethereum addresses (not just Farcaster).</div>\n",
       "    <p style=\"color: purple; margin: 10px 0 0;\">&#x1F49C; 26 <span style=\"margin-left: 5px; margin-top: 10px;\">&#x1F4AC; 6</span></p></div></div>"
      ],
      "text/plain": [
       "<IPython.core.display.HTML object>"
      ]
     },
     "metadata": {},
     "output_type": "display_data"
    },
    {
     "data": {
      "text/html": [
       "\n",
       "    <div style=\"border: 1px solid #ccc; max-width: 600px; padding: 25px; margin-bottom: 25px;\">\n",
       "        <div style=\"max-width: 550px; margin: 0 auto;\">\n",
       "            <p><strong><a href=\"https://searchcaster.xyz/search?merkleRoot=0x34db8bf85a8a0cecc7c72bb2dc03b84412cb8014\" target=\"_blank\">merkleRoot</a></strong></p>\n",
       "            <p><strong>@greg · fid 347</strong></p>\n",
       "            <div style=\"word-wrap: break-word; margin: 10px 0;\">If you own a Lil Noun you can now register a subdomain of lilnouns.eth for free at <a href=\"https://lil.domains!\" target=\"_blank\">https://lil.domains!</a><br><br>The contract already existed but wasn't getting much use because there was no frontend. So I built it ⌐◨-◨</div>\n",
       "    <p style=\"color: purple; margin: 10px 0 0;\">&#x1F49C; 26 <span style=\"margin-left: 5px; margin-top: 10px;\">&#x1F4AC; 7</span></p></div></div>"
      ],
      "text/plain": [
       "<IPython.core.display.HTML object>"
      ]
     },
     "metadata": {},
     "output_type": "display_data"
    },
    {
     "data": {
      "text/html": [
       "\n",
       "    <div style=\"border: 1px solid #ccc; max-width: 600px; padding: 25px; margin-bottom: 25px;\">\n",
       "        <div style=\"max-width: 550px; margin: 0 auto;\">\n",
       "            <p><strong><a href=\"https://searchcaster.xyz/search?merkleRoot=0xbf700c7ad0029811ae3bd52d5ada40e01b920d1e\" target=\"_blank\">merkleRoot</a></strong></p>\n",
       "            <p><strong>@jessepollak · fid 99</strong></p>\n",
       "            <div style=\"word-wrap: break-word; margin: 10px 0;\">coinbase is launching our next protocol today: cbETH.<br><br>we're bringing the security and trust of the coinbase platform to the liquid staking market — convert your staked ETH to cbETH to use in DeFi.<br><br><a href=\"https://help.coinbase.com/en/coinbase/trading-and-funding/staking-rewards/cbeth\" target=\"_blank\">https://help.coinbase.com/en/coinbase/trading-and-funding/staking-rewards/cbeth</a></div>\n",
       "    <p style=\"color: purple; margin: 10px 0 0;\">&#x1F49C; 25 <span style=\"margin-left: 5px; margin-top: 10px;\">&#x1F4AC; 1</span></p></div></div>"
      ],
      "text/plain": [
       "<IPython.core.display.HTML object>"
      ]
     },
     "metadata": {},
     "output_type": "display_data"
    },
    {
     "data": {
      "text/html": [
       "\n",
       "    <div style=\"border: 1px solid #ccc; max-width: 600px; padding: 25px; margin-bottom: 25px;\">\n",
       "        <div style=\"max-width: 550px; margin: 0 auto;\">\n",
       "            <p><strong><a href=\"https://searchcaster.xyz/search?merkleRoot=0xce16b473520af3244fd7cabb833ab4c40db93fea\" target=\"_blank\">merkleRoot</a></strong></p>\n",
       "            <p><strong>@kamil · fid 1191</strong></p>\n",
       "            <div style=\"word-wrap: break-word; margin: 10px 0;\">IT’S LIKE TWITTER BUT BETTER AND IN PURPLE! THE COMMUNITY IS MADE OF BUILDERS! IT’S FAR-CASTER </div>\n",
       "    <div style=\"text-align: center;\"><img src=\"https://i.imgur.com/Z2doB7j.jpg\" style=\"max-width: 550px; margin-top: 10px;\"></div><p style=\"color: purple; margin: 10px 0 0;\">&#x1F49C; 25 <span style=\"margin-left: 5px; margin-top: 10px;\">&#x1F4AC; 1</span></p></div></div>"
      ],
      "text/plain": [
       "<IPython.core.display.HTML object>"
      ]
     },
     "metadata": {},
     "output_type": "display_data"
    },
    {
     "data": {
      "text/html": [
       "\n",
       "    <div style=\"border: 1px solid #ccc; max-width: 600px; padding: 25px; margin-bottom: 25px;\">\n",
       "        <div style=\"max-width: 550px; margin: 0 auto;\">\n",
       "            <p><strong><a href=\"https://searchcaster.xyz/search?merkleRoot=0x6dd2ee271584854d84b836fcb2e038ae8de151e7\" target=\"_blank\">merkleRoot</a></strong></p>\n",
       "            <p><strong>@dwr · fid 3</strong></p>\n",
       "            <div style=\"word-wrap: break-word; margin: 10px 0;\">New feature on desktop and mobile<br><br>For You list has replaced the Trending list—same algo, but if you're already following a bunch of people, you'll only see people you're *not* already following. <br><br>Should improve finding new users to follow<br> </div>\n",
       "    <div style=\"text-align: center;\"><img src=\"https://i.imgur.com/9RjKWHk.png\" style=\"max-width: 550px; margin-top: 10px;\"></div><p style=\"color: purple; margin: 10px 0 0;\">&#x1F49C; 25 <span style=\"margin-left: 5px; margin-top: 10px;\">&#x1F4AC; 3</span></p></div></div>"
      ],
      "text/plain": [
       "<IPython.core.display.HTML object>"
      ]
     },
     "metadata": {},
     "output_type": "display_data"
    },
    {
     "data": {
      "text/html": [
       "\n",
       "    <div style=\"border: 1px solid #ccc; max-width: 600px; padding: 25px; margin-bottom: 25px;\">\n",
       "        <div style=\"max-width: 550px; margin: 0 auto;\">\n",
       "            <p><strong><a href=\"https://searchcaster.xyz/search?merkleRoot=0x2eb23c8957667f9897825237c3e43b42e3951df2\" target=\"_blank\">merkleRoot</a></strong></p>\n",
       "            <p><strong>@greg · fid 347</strong></p>\n",
       "            <div style=\"word-wrap: break-word; margin: 10px 0;\">365 days since my first non-custodial Ethereum transaction! Been a fun year 🥳</div>\n",
       "    <p style=\"color: purple; margin: 10px 0 0;\">&#x1F49C; 24 <span style=\"margin-left: 5px; margin-top: 10px;\">&#x1F4AC; 2</span></p></div></div>"
      ],
      "text/plain": [
       "<IPython.core.display.HTML object>"
      ]
     },
     "metadata": {},
     "output_type": "display_data"
    },
    {
     "data": {
      "text/html": [
       "\n",
       "    <div style=\"border: 1px solid #ccc; max-width: 600px; padding: 25px; margin-bottom: 25px;\">\n",
       "        <div style=\"max-width: 550px; margin: 0 auto;\">\n",
       "            <p><strong><a href=\"https://searchcaster.xyz/search?merkleRoot=0xfea6a529722f1c6c943ae84cd1e0dd6f8683c019\" target=\"_blank\">merkleRoot</a></strong></p>\n",
       "            <p><strong>@dwr · fid 3</strong></p>\n",
       "            <div style=\"word-wrap: break-word; margin: 10px 0;\">On a scale of 1-10, how sad/mad would you be if we retired the desktop client in favor of moving faster on mobile client features + polish (+20-30% closer to Twitter UX parity)?<br><br>1 - I don't use desktop<br>10 - I would stop using Farcaster<br><br>(Assume web client comes in Q1 2023.)</div>\n",
       "    <p style=\"color: purple; margin: 10px 0 0;\">&#x1F49C; 24 <span style=\"margin-left: 5px; margin-top: 10px;\">&#x1F4AC; 98</span></p></div></div>"
      ],
      "text/plain": [
       "<IPython.core.display.HTML object>"
      ]
     },
     "metadata": {},
     "output_type": "display_data"
    },
    {
     "data": {
      "text/html": [
       "\n",
       "    <div style=\"border: 1px solid #ccc; max-width: 600px; padding: 25px; margin-bottom: 25px;\">\n",
       "        <div style=\"max-width: 550px; margin: 0 auto;\">\n",
       "            <p><strong><a href=\"https://searchcaster.xyz/search?merkleRoot=0xaeb34f468c89451d612b29d3a7f42e9fecb07fe9\" target=\"_blank\">merkleRoot</a></strong></p>\n",
       "            <p><strong>@n · fid 274</strong></p>\n",
       "            <div style=\"word-wrap: break-word; margin: 10px 0;\">A big issue with web2 product is feature overload<br><br>I think we will see many 'single feature' apps built on top of social layers like FC, which I honestly can't wait<br><br>- AudioCasters for different topics<br>- Exclusive TradeCasters clubs<br>- StreamCasters for each genre</div>\n",
       "    <p style=\"color: purple; margin: 10px 0 0;\">&#x1F49C; 24 <span style=\"margin-left: 5px; margin-top: 10px;\">&#x1F4AC; 5</span></p></div></div>"
      ],
      "text/plain": [
       "<IPython.core.display.HTML object>"
      ]
     },
     "metadata": {},
     "output_type": "display_data"
    },
    {
     "data": {
      "text/html": [
       "\n",
       "    <div style=\"border: 1px solid #ccc; max-width: 600px; padding: 25px; margin-bottom: 25px;\">\n",
       "        <div style=\"max-width: 550px; margin: 0 auto;\">\n",
       "            <p><strong><a href=\"https://searchcaster.xyz/search?merkleRoot=0x59465aea1874dbefd6da11d72c96865a6d78332d\" target=\"_blank\">merkleRoot</a></strong></p>\n",
       "            <p><strong>@cg · fid 952</strong></p>\n",
       "            <div style=\"word-wrap: break-word; margin: 10px 0;\">just deleted Twitter to force myself away from defaulting to mindlessly scrolling Twitter and instead focusing on mindfully reading and participating on Farcaster</div>\n",
       "    <p style=\"color: purple; margin: 10px 0 0;\">&#x1F49C; 24 <span style=\"margin-left: 5px; margin-top: 10px;\">&#x1F4AC; 5</span></p></div></div>"
      ],
      "text/plain": [
       "<IPython.core.display.HTML object>"
      ]
     },
     "metadata": {},
     "output_type": "display_data"
    },
    {
     "data": {
      "text/html": [
       "\n",
       "    <div style=\"border: 1px solid #ccc; max-width: 600px; padding: 25px; margin-bottom: 25px;\">\n",
       "        <div style=\"max-width: 550px; margin: 0 auto;\">\n",
       "            <p><strong><a href=\"https://searchcaster.xyz/search?merkleRoot=0xf4b88a45d94ca9dd4dc8c4352184ac165706229b\" target=\"_blank\">merkleRoot</a></strong></p>\n",
       "            <p><strong>@jc · fid 251</strong></p>\n",
       "            <div style=\"word-wrap: break-word; margin: 10px 0;\">Announcing the @beb nft domains hackathon that's 100% community funded! <br><br>Excited to see what can be built on the intersection between @beb domains and @farcaster 👀<br><br>More details soon once we improve our SDK </div>\n",
       "    <div style=\"text-align: center;\"><img src=\"https://i.imgur.com/JU3bTUb.png\" style=\"max-width: 550px; margin-top: 10px;\"></div><p style=\"color: purple; margin: 10px 0 0;\">&#x1F49C; 23 <span style=\"margin-left: 5px; margin-top: 10px;\">&#x1F4AC; 2</span></p></div></div>"
      ],
      "text/plain": [
       "<IPython.core.display.HTML object>"
      ]
     },
     "metadata": {},
     "output_type": "display_data"
    },
    {
     "data": {
      "text/html": [
       "\n",
       "    <div style=\"border: 1px solid #ccc; max-width: 600px; padding: 25px; margin-bottom: 25px;\">\n",
       "        <div style=\"max-width: 550px; margin: 0 auto;\">\n",
       "            <p><strong><a href=\"https://searchcaster.xyz/search?merkleRoot=0x281c86dd316ad500152b84e3b9d277f85e6bf911\" target=\"_blank\">merkleRoot</a></strong></p>\n",
       "            <p><strong>@sriramk · fid 43</strong></p>\n",
       "            <div style=\"word-wrap: break-word; margin: 10px 0;\">Fascinating to see the major platforms ban Andrew Tate together. <br><br>What's *new* compared to previous platform policy enforcement is they (TikTok atleast) - seem to be scanning for his content and suppressing it.</div>\n",
       "    <p style=\"color: purple; margin: 10px 0 0;\">&#x1F49C; 23 <span style=\"margin-left: 5px; margin-top: 10px;\">&#x1F4AC; 5</span></p></div></div>"
      ],
      "text/plain": [
       "<IPython.core.display.HTML object>"
      ]
     },
     "metadata": {},
     "output_type": "display_data"
    },
    {
     "data": {
      "text/html": [
       "\n",
       "    <div style=\"border: 1px solid #ccc; max-width: 600px; padding: 25px; margin-bottom: 25px;\">\n",
       "        <div style=\"max-width: 550px; margin: 0 auto;\">\n",
       "            <p><strong><a href=\"https://searchcaster.xyz/search?merkleRoot=0xf65e7e0c7ecf3f47107e8256117e2bd2a4c21a43\" target=\"_blank\">merkleRoot</a></strong></p>\n",
       "            <p><strong>@nick · fid 108</strong></p>\n",
       "            <div style=\"word-wrap: break-word; margin: 10px 0;\">1confirmation offsite, Lake Tahoe 2022 </div>\n",
       "    <div style=\"text-align: center;\"><img src=\"https://i.imgur.com/5fGlFrA.jpg\" style=\"max-width: 550px; margin-top: 10px;\"></div><p style=\"color: purple; margin: 10px 0 0;\">&#x1F49C; 23 <span style=\"margin-left: 5px; margin-top: 10px;\">&#x1F4AC; 2</span></p></div></div>"
      ],
      "text/plain": [
       "<IPython.core.display.HTML object>"
      ]
     },
     "metadata": {},
     "output_type": "display_data"
    },
    {
     "data": {
      "text/html": [
       "\n",
       "    <div style=\"border: 1px solid #ccc; max-width: 600px; padding: 25px; margin-bottom: 25px;\">\n",
       "        <div style=\"max-width: 550px; margin: 0 auto;\">\n",
       "            <p><strong><a href=\"https://searchcaster.xyz/search?merkleRoot=0x416f24cddf0c71b3b8be483bd2dc3fb0131afba4\" target=\"_blank\">merkleRoot</a></strong></p>\n",
       "            <p><strong>@ev · fid 218</strong></p>\n",
       "            <div style=\"word-wrap: break-word; margin: 10px 0;\">This is great <a href=\"https://mysticalsilicon.substack.com/p/you-know-nothing-a-conversational\" target=\"_blank\">https://mysticalsilicon.substack.com/p/you-know-nothing-a-conversational</a></div>\n",
       "    <p style=\"color: purple; margin: 10px 0 0;\">&#x1F49C; 23 <span style=\"margin-left: 5px; margin-top: 10px;\">&#x1F4AC; 5</span></p></div></div>"
      ],
      "text/plain": [
       "<IPython.core.display.HTML object>"
      ]
     },
     "metadata": {},
     "output_type": "display_data"
    },
    {
     "data": {
      "text/html": [
       "\n",
       "    <div style=\"border: 1px solid #ccc; max-width: 600px; padding: 25px; margin-bottom: 25px;\">\n",
       "        <div style=\"max-width: 550px; margin: 0 auto;\">\n",
       "            <p><strong><a href=\"https://searchcaster.xyz/search?merkleRoot=0x934879ac66ba611a3a127def767260ec3023c8e0\" target=\"_blank\">merkleRoot</a></strong></p>\n",
       "            <p><strong>@dwr · fid 3</strong></p>\n",
       "            <div style=\"word-wrap: break-word; margin: 10px 0;\">gm low effort saturday meme </div>\n",
       "    <div style=\"text-align: center;\"><img src=\"https://i.imgur.com/g43d7Ji.jpg\" style=\"max-width: 550px; margin-top: 10px;\"></div><p style=\"color: purple; margin: 10px 0 0;\">&#x1F49C; 22 <span style=\"margin-left: 5px; margin-top: 10px;\">&#x1F4AC; 0</span></p></div></div>"
      ],
      "text/plain": [
       "<IPython.core.display.HTML object>"
      ]
     },
     "metadata": {},
     "output_type": "display_data"
    },
    {
     "data": {
      "text/html": [
       "\n",
       "    <div style=\"border: 1px solid #ccc; max-width: 600px; padding: 25px; margin-bottom: 25px;\">\n",
       "        <div style=\"max-width: 550px; margin: 0 auto;\">\n",
       "            <p><strong><a href=\"https://searchcaster.xyz/search?merkleRoot=0xc70b81ae0fa0561e8a59bc18bfc970a1dd7081c5\" target=\"_blank\">merkleRoot</a></strong></p>\n",
       "            <p><strong>@kepano · fid 1321</strong></p>\n",
       "            <div style=\"word-wrap: break-word; margin: 10px 0;\">It’s best to think of DALL-E as a new kind of camera. I wrote more here: <a href=\"https://stephanango.com/synthography\" target=\"_blank\">https://stephanango.com/synthography</a></div>\n",
       "    <p style=\"color: purple; margin: 10px 0 0;\">&#x1F49C; 22 <span style=\"margin-left: 5px; margin-top: 10px;\">&#x1F4AC; 3</span></p></div></div>"
      ],
      "text/plain": [
       "<IPython.core.display.HTML object>"
      ]
     },
     "metadata": {},
     "output_type": "display_data"
    },
    {
     "data": {
      "text/html": [
       "\n",
       "    <div style=\"border: 1px solid #ccc; max-width: 600px; padding: 25px; margin-bottom: 25px;\">\n",
       "        <div style=\"max-width: 550px; margin: 0 auto;\">\n",
       "            <p><strong><a href=\"https://searchcaster.xyz/search?merkleRoot=0xeffe82b1c28a4293f3d4a3879d075141d682908e\" target=\"_blank\">merkleRoot</a></strong></p>\n",
       "            <p><strong>@ertan · fid 40</strong></p>\n",
       "            <div style=\"word-wrap: break-word; margin: 10px 0;\">Metamask is the Craigslist of web3</div>\n",
       "    <p style=\"color: purple; margin: 10px 0 0;\">&#x1F49C; 22 <span style=\"margin-left: 5px; margin-top: 10px;\">&#x1F4AC; 4</span></p></div></div>"
      ],
      "text/plain": [
       "<IPython.core.display.HTML object>"
      ]
     },
     "metadata": {},
     "output_type": "display_data"
    },
    {
     "data": {
      "text/html": [
       "\n",
       "    <div style=\"border: 1px solid #ccc; max-width: 600px; padding: 25px; margin-bottom: 25px;\">\n",
       "        <div style=\"max-width: 550px; margin: 0 auto;\">\n",
       "            <p><strong><a href=\"https://searchcaster.xyz/search?merkleRoot=0x4b3933a7bec2c0f85d82743567fd27481aa47057\" target=\"_blank\">merkleRoot</a></strong></p>\n",
       "            <p><strong>@brenner · fid 60</strong></p>\n",
       "            <div style=\"word-wrap: break-word; margin: 10px 0;\">Used to think I’d meet my wife on Twitter but maybe by the time I do it’ll be on Farcaster instead</div>\n",
       "    <p style=\"color: purple; margin: 10px 0 0;\">&#x1F49C; 22 <span style=\"margin-left: 5px; margin-top: 10px;\">&#x1F4AC; 5</span></p></div></div>"
      ],
      "text/plain": [
       "<IPython.core.display.HTML object>"
      ]
     },
     "metadata": {},
     "output_type": "display_data"
    },
    {
     "data": {
      "text/html": [
       "\n",
       "    <div style=\"border: 1px solid #ccc; max-width: 600px; padding: 25px; margin-bottom: 25px;\">\n",
       "        <div style=\"max-width: 550px; margin: 0 auto;\">\n",
       "            <p><strong><a href=\"https://searchcaster.xyz/search?merkleRoot=0x98d7649134ee9364ebee07d6a798a4a7469198d3\" target=\"_blank\">merkleRoot</a></strong></p>\n",
       "            <p><strong>@dwr · fid 3</strong></p>\n",
       "            <div style=\"word-wrap: break-word; margin: 10px 0;\">If it wasn’t useful for finding good people for the purple app, I’d seriously consider deleting the bird app. Every time I open it up it’s some very online people faux drama like this: </div>\n",
       "    <div style=\"text-align: center;\"><img src=\"https://i.imgur.com/zLQX2Si.jpg\" style=\"max-width: 550px; margin-top: 10px;\"></div><p style=\"color: purple; margin: 10px 0 0;\">&#x1F49C; 22 <span style=\"margin-left: 5px; margin-top: 10px;\">&#x1F4AC; 5</span></p></div></div>"
      ],
      "text/plain": [
       "<IPython.core.display.HTML object>"
      ]
     },
     "metadata": {},
     "output_type": "display_data"
    },
    {
     "data": {
      "text/html": [
       "\n",
       "    <div style=\"border: 1px solid #ccc; max-width: 600px; padding: 25px; margin-bottom: 25px;\">\n",
       "        <div style=\"max-width: 550px; margin: 0 auto;\">\n",
       "            <p><strong><a href=\"https://searchcaster.xyz/search?merkleRoot=0xa73a3614f7997e2f196879c288e6fddf5779bc7d\" target=\"_blank\">merkleRoot</a></strong></p>\n",
       "            <p><strong>@dcposch · fid 56</strong></p>\n",
       "            <div style=\"word-wrap: break-word; margin: 10px 0;\">gm. it is once again artcaster time </div>\n",
       "    <div style=\"text-align: center;\"><img src=\"https://i.imgur.com/3BvidxZ.jpg\" style=\"max-width: 550px; margin-top: 10px;\"></div><p style=\"color: purple; margin: 10px 0 0;\">&#x1F49C; 22 <span style=\"margin-left: 5px; margin-top: 10px;\">&#x1F4AC; 2</span></p></div></div>"
      ],
      "text/plain": [
       "<IPython.core.display.HTML object>"
      ]
     },
     "metadata": {},
     "output_type": "display_data"
    },
    {
     "data": {
      "text/html": [
       "\n",
       "    <div style=\"border: 1px solid #ccc; max-width: 600px; padding: 25px; margin-bottom: 25px;\">\n",
       "        <div style=\"max-width: 550px; margin: 0 auto;\">\n",
       "            <p><strong><a href=\"https://searchcaster.xyz/search?merkleRoot=0x8d97907e019531cd9c2dcfc066b4aba69190d89d\" target=\"_blank\">merkleRoot</a></strong></p>\n",
       "            <p><strong>@matthew · fid 473</strong></p>\n",
       "            <div style=\"word-wrap: break-word; margin: 10px 0;\">Have some free time this weekend, so I'm back at it with the skyscraper I was building a few weeks ago! Mainly focused on the curvature of the facade right now, but will post updates as I go. </div>\n",
       "    <div style=\"text-align: center;\"><img src=\"https://i.imgur.com/kIqVwog.jpg\" style=\"max-width: 550px; margin-top: 10px;\"></div><p style=\"color: purple; margin: 10px 0 0;\">&#x1F49C; 22 <span style=\"margin-left: 5px; margin-top: 10px;\">&#x1F4AC; 3</span></p></div></div>"
      ],
      "text/plain": [
       "<IPython.core.display.HTML object>"
      ]
     },
     "metadata": {},
     "output_type": "display_data"
    },
    {
     "data": {
      "text/html": [
       "\n",
       "    <div style=\"border: 1px solid #ccc; max-width: 600px; padding: 25px; margin-bottom: 25px;\">\n",
       "        <div style=\"max-width: 550px; margin: 0 auto;\">\n",
       "            <p><strong><a href=\"https://searchcaster.xyz/search?merkleRoot=0x929909db10f399cfee1df7c2d7a0b740f276ee1b\" target=\"_blank\">merkleRoot</a></strong></p>\n",
       "            <p><strong>@pugson · fid 557</strong></p>\n",
       "            <div style=\"word-wrap: break-word; margin: 10px 0;\"></div>\n",
       "    <div style=\"text-align: center;\"><img src=\"https://i.imgur.com/f962Jcn.jpg\" style=\"max-width: 550px; margin-top: 10px;\"></div><p style=\"color: purple; margin: 10px 0 0;\">&#x1F49C; 22 <span style=\"margin-left: 5px; margin-top: 10px;\">&#x1F4AC; 2</span></p></div></div>"
      ],
      "text/plain": [
       "<IPython.core.display.HTML object>"
      ]
     },
     "metadata": {},
     "output_type": "display_data"
    },
    {
     "data": {
      "text/html": [
       "\n",
       "    <div style=\"border: 1px solid #ccc; max-width: 600px; padding: 25px; margin-bottom: 25px;\">\n",
       "        <div style=\"max-width: 550px; margin: 0 auto;\">\n",
       "            <p><strong><a href=\"https://searchcaster.xyz/search?merkleRoot=0xab5cea9d56d51436642dacc0cb5617c2484a81c5\" target=\"_blank\">merkleRoot</a></strong></p>\n",
       "            <p><strong>@aman · fid 267</strong></p>\n",
       "            <div style=\"word-wrap: break-word; margin: 10px 0;\">ge FCs, got tired of hearing about people losing their crypto to phishing on a weekly basis so we built Stelo. <a href=\"https://stelolabs.com/\" target=\"_blank\">https://stelolabs.com/</a><br><br>While financial intermediaries extract rent, by being a chokepoint they proactively & retroactively help prevent fraud and scams.</div>\n",
       "    <p style=\"color: purple; margin: 10px 0 0;\">&#x1F49C; 21 <span style=\"margin-left: 5px; margin-top: 10px;\">&#x1F4AC; 4</span></p></div></div>"
      ],
      "text/plain": [
       "<IPython.core.display.HTML object>"
      ]
     },
     "metadata": {},
     "output_type": "display_data"
    },
    {
     "data": {
      "text/html": [
       "\n",
       "    <div style=\"border: 1px solid #ccc; max-width: 600px; padding: 25px; margin-bottom: 25px;\">\n",
       "        <div style=\"max-width: 550px; margin: 0 auto;\">\n",
       "            <p><strong><a href=\"https://searchcaster.xyz/search?merkleRoot=0x8145970e0aff72fd69c9a55dc2884d022bb5e730\" target=\"_blank\">merkleRoot</a></strong></p>\n",
       "            <p><strong>@n · fid 274</strong></p>\n",
       "            <div style=\"word-wrap: break-word; margin: 10px 0;\">\"Token-gating\" is in every web3 app's pitch, but seems like a feature with few usage beyond private Discord channels<br><br>I'm way more excited about on-chain access control:<br> <br>\"x address has permission to read y content contingent on holding z token\"</div>\n",
       "    <p style=\"color: purple; margin: 10px 0 0;\">&#x1F49C; 21 <span style=\"margin-left: 5px; margin-top: 10px;\">&#x1F4AC; 7</span></p></div></div>"
      ],
      "text/plain": [
       "<IPython.core.display.HTML object>"
      ]
     },
     "metadata": {},
     "output_type": "display_data"
    },
    {
     "data": {
      "text/html": [
       "\n",
       "    <div style=\"border: 1px solid #ccc; max-width: 600px; padding: 25px; margin-bottom: 25px;\">\n",
       "        <div style=\"max-width: 550px; margin: 0 auto;\">\n",
       "            <p><strong><a href=\"https://searchcaster.xyz/search?merkleRoot=0x158fc0ce3014d635f03aa41294c0185707ddb769\" target=\"_blank\">merkleRoot</a></strong></p>\n",
       "            <p><strong>@brianjckim · fid 426</strong></p>\n",
       "            <div style=\"word-wrap: break-word; margin: 10px 0;\">so this is what it felt like to be on the bird app in 2007</div>\n",
       "    <p style=\"color: purple; margin: 10px 0 0;\">&#x1F49C; 21 <span style=\"margin-left: 5px; margin-top: 10px;\">&#x1F4AC; 0</span></p></div></div>"
      ],
      "text/plain": [
       "<IPython.core.display.HTML object>"
      ]
     },
     "metadata": {},
     "output_type": "display_data"
    },
    {
     "data": {
      "text/html": [
       "\n",
       "    <div style=\"border: 1px solid #ccc; max-width: 600px; padding: 25px; margin-bottom: 25px;\">\n",
       "        <div style=\"max-width: 550px; margin: 0 auto;\">\n",
       "            <p><strong><a href=\"https://searchcaster.xyz/search?merkleRoot=0x64555c031dbae223acf660252603abc5db9c11d3\" target=\"_blank\">merkleRoot</a></strong></p>\n",
       "            <p><strong>@js · fid 368</strong></p>\n",
       "            <div style=\"word-wrap: break-word; margin: 10px 0;\">new from @saffron and me<br><br>What can crypto learn from the history of information technologies trying (and often failing) to resist centralized capture?<br><br><a href=\"https://saffron.mirror.xyz/E6UKhw0KAZL1TgAeI_pcWSwkUDHOQ5R28OBHknTzy24\" target=\"_blank\">https://saffron.mirror.xyz/E6UKhw0KAZL1TgAeI_pcWSwkUDHOQ5R28OBHknTzy24</a></div>\n",
       "    <p style=\"color: purple; margin: 10px 0 0;\">&#x1F49C; 21 <span style=\"margin-left: 5px; margin-top: 10px;\">&#x1F4AC; 2</span></p></div></div>"
      ],
      "text/plain": [
       "<IPython.core.display.HTML object>"
      ]
     },
     "metadata": {},
     "output_type": "display_data"
    },
    {
     "data": {
      "text/html": [
       "\n",
       "    <div style=\"border: 1px solid #ccc; max-width: 600px; padding: 25px; margin-bottom: 25px;\">\n",
       "        <div style=\"max-width: 550px; margin: 0 auto;\">\n",
       "            <p><strong><a href=\"https://searchcaster.xyz/search?merkleRoot=0x9fe79511ab03fbd622041db17bcb7d8f3f1bdd8d\" target=\"_blank\">merkleRoot</a></strong></p>\n",
       "            <p><strong>@nick · fid 108</strong></p>\n",
       "            <div style=\"word-wrap: break-word; margin: 10px 0;\">gm </div>\n",
       "    <div style=\"text-align: center;\"><img src=\"https://i.imgur.com/kp6avai.jpg\" style=\"max-width: 550px; margin-top: 10px;\"></div><p style=\"color: purple; margin: 10px 0 0;\">&#x1F49C; 20 <span style=\"margin-left: 5px; margin-top: 10px;\">&#x1F4AC; 0</span></p></div></div>"
      ],
      "text/plain": [
       "<IPython.core.display.HTML object>"
      ]
     },
     "metadata": {},
     "output_type": "display_data"
    },
    {
     "data": {
      "text/html": [
       "\n",
       "    <div style=\"border: 1px solid #ccc; max-width: 600px; padding: 25px; margin-bottom: 25px;\">\n",
       "        <div style=\"max-width: 550px; margin: 0 auto;\">\n",
       "            <p><strong><a href=\"https://searchcaster.xyz/search?merkleRoot=0x557eb600374360a58a84aeac70c1f061872d0a02\" target=\"_blank\">merkleRoot</a></strong></p>\n",
       "            <p><strong>@neuroswish · fid 127</strong></p>\n",
       "            <div style=\"word-wrap: break-word; margin: 10px 0;\">Jiro Dreams of Sushi is a fantastic documentary <br><br>extremely inspiring to see someone master their craft at such an elite level</div>\n",
       "    <p style=\"color: purple; margin: 10px 0 0;\">&#x1F49C; 20 <span style=\"margin-left: 5px; margin-top: 10px;\">&#x1F4AC; 4</span></p></div></div>"
      ],
      "text/plain": [
       "<IPython.core.display.HTML object>"
      ]
     },
     "metadata": {},
     "output_type": "display_data"
    },
    {
     "data": {
      "text/html": [
       "\n",
       "    <div style=\"border: 1px solid #ccc; max-width: 600px; padding: 25px; margin-bottom: 25px;\">\n",
       "        <div style=\"max-width: 550px; margin: 0 auto;\">\n",
       "            <p><strong><a href=\"https://searchcaster.xyz/search?merkleRoot=0x29bdeadaa7a680aac1dc38f20ee0e1b52c0525d0\" target=\"_blank\">merkleRoot</a></strong></p>\n",
       "            <p><strong>@ace · fid 539</strong></p>\n",
       "            <div style=\"word-wrap: break-word; margin: 10px 0;\">gm on farcaster feels like im checking into a friendly work lounge</div>\n",
       "    <p style=\"color: purple; margin: 10px 0 0;\">&#x1F49C; 20 <span style=\"margin-left: 5px; margin-top: 10px;\">&#x1F4AC; 0</span></p></div></div>"
      ],
      "text/plain": [
       "<IPython.core.display.HTML object>"
      ]
     },
     "metadata": {},
     "output_type": "display_data"
    },
    {
     "data": {
      "text/html": [
       "\n",
       "    <div style=\"border: 1px solid #ccc; max-width: 600px; padding: 25px; margin-bottom: 25px;\">\n",
       "        <div style=\"max-width: 550px; margin: 0 auto;\">\n",
       "            <p><strong><a href=\"https://searchcaster.xyz/search?merkleRoot=0x0098f2a4e332c302fb5064a943c72ed67ca8dfac\" target=\"_blank\">merkleRoot</a></strong></p>\n",
       "            <p><strong>@cassie · fid 1325</strong></p>\n",
       "            <div style=\"word-wrap: break-word; margin: 10px 0;\">Farcaster flipped Discord for my daily use. Wow. </div>\n",
       "    <div style=\"text-align: center;\"><img src=\"https://i.imgur.com/OXoebDn.jpg\" style=\"max-width: 550px; margin-top: 10px;\"></div><p style=\"color: purple; margin: 10px 0 0;\">&#x1F49C; 20 <span style=\"margin-left: 5px; margin-top: 10px;\">&#x1F4AC; 3</span></p></div></div>"
      ],
      "text/plain": [
       "<IPython.core.display.HTML object>"
      ]
     },
     "metadata": {},
     "output_type": "display_data"
    },
    {
     "data": {
      "text/html": [
       "\n",
       "    <div style=\"border: 1px solid #ccc; max-width: 600px; padding: 25px; margin-bottom: 25px;\">\n",
       "        <div style=\"max-width: 550px; margin: 0 auto;\">\n",
       "            <p><strong><a href=\"https://searchcaster.xyz/search?merkleRoot=0x0de84a04b4d04795c7eeff4c02d21cd92c3ebb0c\" target=\"_blank\">merkleRoot</a></strong></p>\n",
       "            <p><strong>@macbudkowski · fid 1048</strong></p>\n",
       "            <div style=\"word-wrap: break-word; margin: 10px 0;\">Everyone thinks that startups grow exponentially. But when you look at the data from Facebook, Slack, Dropbox & Lyft, it doesn't seem true.<br><br>V. interesting post, seen similar ideas in \"Cold Start Problem\".<br><br><a href=\"https://longform.asmartbear.com/docs/exponential-growth\" target=\"_blank\">https://longform.asmartbear.com/docs/exponential-growth</a></div>\n",
       "    <p style=\"color: purple; margin: 10px 0 0;\">&#x1F49C; 20 <span style=\"margin-left: 5px; margin-top: 10px;\">&#x1F4AC; 4</span></p></div></div>"
      ],
      "text/plain": [
       "<IPython.core.display.HTML object>"
      ]
     },
     "metadata": {},
     "output_type": "display_data"
    },
    {
     "data": {
      "text/html": [
       "\n",
       "    <div style=\"border: 1px solid #ccc; max-width: 600px; padding: 25px; margin-bottom: 25px;\">\n",
       "        <div style=\"max-width: 550px; margin: 0 auto;\">\n",
       "            <p><strong><a href=\"https://searchcaster.xyz/search?merkleRoot=0x30fb6fac8b99afb3cd5c544a4d09445b9552e397\" target=\"_blank\">merkleRoot</a></strong></p>\n",
       "            <p><strong>@matthew · fid 473</strong></p>\n",
       "            <div style=\"word-wrap: break-word; margin: 10px 0;\">Purple app, purple city </div>\n",
       "    <div style=\"text-align: center;\"><img src=\"https://i.imgur.com/aNR31GW.jpg\" style=\"max-width: 550px; margin-top: 10px;\"></div><p style=\"color: purple; margin: 10px 0 0;\">&#x1F49C; 20 <span style=\"margin-left: 5px; margin-top: 10px;\">&#x1F4AC; 1</span></p></div></div>"
      ],
      "text/plain": [
       "<IPython.core.display.HTML object>"
      ]
     },
     "metadata": {},
     "output_type": "display_data"
    },
    {
     "data": {
      "text/html": [
       "\n",
       "    <div style=\"border: 1px solid #ccc; max-width: 600px; padding: 25px; margin-bottom: 25px;\">\n",
       "        <div style=\"max-width: 550px; margin: 0 auto;\">\n",
       "            <p><strong><a href=\"https://searchcaster.xyz/search?merkleRoot=0xda66175cec14a2e2041ba09852bd2399b1d8491c\" target=\"_blank\">merkleRoot</a></strong></p>\n",
       "            <p><strong>@dwr · fid 3</strong></p>\n",
       "            <div style=\"word-wrap: break-word; margin: 10px 0;\">PSA -- in preparation for our migration from Farcaster v1 to v2 -- and from Rinkeby to Görli -- update to the latest clients on both mobile and desktop. <br><br>For mobile, you might have to manually open the TestFlight app to force an update. Desktop will auto-update within a minute.</div>\n",
       "    <p style=\"color: purple; margin: 10px 0 0;\">&#x1F49C; 20 <span style=\"margin-left: 5px; margin-top: 10px;\">&#x1F4AC; 1</span></p></div></div>"
      ],
      "text/plain": [
       "<IPython.core.display.HTML object>"
      ]
     },
     "metadata": {},
     "output_type": "display_data"
    },
    {
     "data": {
      "text/html": [
       "\n",
       "    <div style=\"border: 1px solid #ccc; max-width: 600px; padding: 25px; margin-bottom: 25px;\">\n",
       "        <div style=\"max-width: 550px; margin: 0 auto;\">\n",
       "            <p><strong><a href=\"https://searchcaster.xyz/search?merkleRoot=0x2cd0c1be6f099171de51238a6f84363f99a41e4e\" target=\"_blank\">merkleRoot</a></strong></p>\n",
       "            <p><strong>@janehk · fid 164</strong></p>\n",
       "            <div style=\"word-wrap: break-word; margin: 10px 0;\">In bed by 9 like a true San Franciscan</div>\n",
       "    <p style=\"color: purple; margin: 10px 0 0;\">&#x1F49C; 20 <span style=\"margin-left: 5px; margin-top: 10px;\">&#x1F4AC; 1</span></p></div></div>"
      ],
      "text/plain": [
       "<IPython.core.display.HTML object>"
      ]
     },
     "metadata": {},
     "output_type": "display_data"
    },
    {
     "data": {
      "text/html": [
       "\n",
       "    <div style=\"border: 1px solid #ccc; max-width: 600px; padding: 25px; margin-bottom: 25px;\">\n",
       "        <div style=\"max-width: 550px; margin: 0 auto;\">\n",
       "            <p><strong><a href=\"https://searchcaster.xyz/search?merkleRoot=0x3648acb9de619a1206ffac8339eab3afaddc0428\" target=\"_blank\">merkleRoot</a></strong></p>\n",
       "            <p><strong>@nick · fid 108</strong></p>\n",
       "            <div style=\"word-wrap: break-word; margin: 10px 0;\">Non-player characters </div>\n",
       "    <div style=\"text-align: center;\"><img src=\"https://i.imgur.com/kVYxA00.jpg\" style=\"max-width: 550px; margin-top: 10px;\"></div><p style=\"color: purple; margin: 10px 0 0;\">&#x1F49C; 20 <span style=\"margin-left: 5px; margin-top: 10px;\">&#x1F4AC; 4</span></p></div></div>"
      ],
      "text/plain": [
       "<IPython.core.display.HTML object>"
      ]
     },
     "metadata": {},
     "output_type": "display_data"
    },
    {
     "data": {
      "text/html": [
       "\n",
       "    <div style=\"border: 1px solid #ccc; max-width: 600px; padding: 25px; margin-bottom: 25px;\">\n",
       "        <div style=\"max-width: 550px; margin: 0 auto;\">\n",
       "            <p><strong><a href=\"https://searchcaster.xyz/search?merkleRoot=0xbb20e59cc094ac8b1e6233a103e8852c3c08ace9\" target=\"_blank\">merkleRoot</a></strong></p>\n",
       "            <p><strong>@srijan · fid 377</strong></p>\n",
       "            <div style=\"word-wrap: break-word; margin: 10px 0;\">gm 🌞 <br><br>this is coming out really well @devfolio 🥰 👀 </div>\n",
       "    <div style=\"text-align: center;\"><img src=\"https://i.imgur.com/DAygvLt.png\" style=\"max-width: 550px; margin-top: 10px;\"></div><p style=\"color: purple; margin: 10px 0 0;\">&#x1F49C; 20 <span style=\"margin-left: 5px; margin-top: 10px;\">&#x1F4AC; 4</span></p></div></div>"
      ],
      "text/plain": [
       "<IPython.core.display.HTML object>"
      ]
     },
     "metadata": {},
     "output_type": "display_data"
    },
    {
     "data": {
      "text/html": [
       "\n",
       "    <div style=\"border: 1px solid #ccc; max-width: 600px; padding: 25px; margin-bottom: 25px;\">\n",
       "        <div style=\"max-width: 550px; margin: 0 auto;\">\n",
       "            <p><strong><a href=\"https://searchcaster.xyz/search?merkleRoot=0xdae1c7a20861e4b95df30760b6558ffe0cd9ffca\" target=\"_blank\">merkleRoot</a></strong></p>\n",
       "            <p><strong>@cassie · fid 1325</strong></p>\n",
       "            <div style=\"word-wrap: break-word; margin: 10px 0;\">nice </div>\n",
       "    <div style=\"text-align: center;\"><img src=\"https://i.imgur.com/L0b0Mtv.png\" style=\"max-width: 550px; margin-top: 10px;\"></div><p style=\"color: purple; margin: 10px 0 0;\">&#x1F49C; 20 <span style=\"margin-left: 5px; margin-top: 10px;\">&#x1F4AC; 4</span></p></div></div>"
      ],
      "text/plain": [
       "<IPython.core.display.HTML object>"
      ]
     },
     "metadata": {},
     "output_type": "display_data"
    },
    {
     "data": {
      "text/html": [
       "\n",
       "    <div style=\"border: 1px solid #ccc; max-width: 600px; padding: 25px; margin-bottom: 25px;\">\n",
       "        <div style=\"max-width: 550px; margin: 0 auto;\">\n",
       "            <p><strong><a href=\"https://searchcaster.xyz/search?merkleRoot=0x0edf1e37ba7a6300d882dfb1d8de0899dac2672b\" target=\"_blank\">merkleRoot</a></strong></p>\n",
       "            <p><strong>@shreyas · fid 421</strong></p>\n",
       "            <div style=\"word-wrap: break-word; margin: 10px 0;\">I'm sorry to say but I'm going back to the magic keyboard, the kinesis was too mighty for me for the time being. <relevant spicy meme incoming>  </div>\n",
       "    <div style=\"text-align: center;\"><img src=\"https://i.imgur.com/DEujECg.png\" style=\"max-width: 550px; margin-top: 10px;\"></div><p style=\"color: purple; margin: 10px 0 0;\">&#x1F49C; 19 <span style=\"margin-left: 5px; margin-top: 10px;\">&#x1F4AC; 4</span></p></div></div>"
      ],
      "text/plain": [
       "<IPython.core.display.HTML object>"
      ]
     },
     "metadata": {},
     "output_type": "display_data"
    },
    {
     "data": {
      "text/html": [
       "\n",
       "    <div style=\"border: 1px solid #ccc; max-width: 600px; padding: 25px; margin-bottom: 25px;\">\n",
       "        <div style=\"max-width: 550px; margin: 0 auto;\">\n",
       "            <p><strong><a href=\"https://searchcaster.xyz/search?merkleRoot=0x34c60cf100c45f6b7eae4dd265d093c763c9d961\" target=\"_blank\">merkleRoot</a></strong></p>\n",
       "            <p><strong>@dwr · fid 3</strong></p>\n",
       "            <div style=\"word-wrap: break-word; margin: 10px 0;\">PSA -- if you know someone who would enjoy Farcaster, have them DM me on Twitter or Telegram for an invite:<br><br>dwr.twitter<br><br>dwromero.telegram</div>\n",
       "    <p style=\"color: purple; margin: 10px 0 0;\">&#x1F49C; 19 <span style=\"margin-left: 5px; margin-top: 10px;\">&#x1F4AC; 2</span></p></div></div>"
      ],
      "text/plain": [
       "<IPython.core.display.HTML object>"
      ]
     },
     "metadata": {},
     "output_type": "display_data"
    },
    {
     "data": {
      "text/html": [
       "\n",
       "    <div style=\"border: 1px solid #ccc; max-width: 600px; padding: 25px; margin-bottom: 25px;\">\n",
       "        <div style=\"max-width: 550px; margin: 0 auto;\">\n",
       "            <p><strong><a href=\"https://searchcaster.xyz/search?merkleRoot=0x3c742f15d491cb89f404aef614a1beacfb5dd542\" target=\"_blank\">merkleRoot</a></strong></p>\n",
       "            <p><strong>@alvesjtiago · fid 762</strong></p>\n",
       "            <div style=\"word-wrap: break-word; margin: 10px 0;\">FarApps is now open source and available at <a href=\"https://github.com/farcase/farapps\" target=\"_blank\">https://github.com/farcase/farapps</a><br><br>@event, @perl, @beb, @fn, Castalytics, Trendcaster, Searchcaster and Instacaster are now added. If you have an app and it's not included feel free to open a PR.<br><br>Visit at <a href=\"https://farapps.vercel.app/\" target=\"_blank\">https://farapps.vercel.app/</a></div>\n",
       "    <p style=\"color: purple; margin: 10px 0 0;\">&#x1F49C; 19 <span style=\"margin-left: 5px; margin-top: 10px;\">&#x1F4AC; 4</span></p></div></div>"
      ],
      "text/plain": [
       "<IPython.core.display.HTML object>"
      ]
     },
     "metadata": {},
     "output_type": "display_data"
    },
    {
     "data": {
      "text/html": [
       "\n",
       "    <div style=\"border: 1px solid #ccc; max-width: 600px; padding: 25px; margin-bottom: 25px;\">\n",
       "        <div style=\"max-width: 550px; margin: 0 auto;\">\n",
       "            <p><strong><a href=\"https://searchcaster.xyz/search?merkleRoot=0x211eb7789ddab43d73d0ddbee37e9dcca72ea9d1\" target=\"_blank\">merkleRoot</a></strong></p>\n",
       "            <p><strong>@brianjckim · fid 426</strong></p>\n",
       "            <div style=\"word-wrap: break-word; margin: 10px 0;\">i’m generally skeptical of building based on vc trends (e.g. creator economy in 2020, fintech in 2019), but i expect american dynamism to be around for quite a while</div>\n",
       "    <p style=\"color: purple; margin: 10px 0 0;\">&#x1F49C; 19 <span style=\"margin-left: 5px; margin-top: 10px;\">&#x1F4AC; 2</span></p></div></div>"
      ],
      "text/plain": [
       "<IPython.core.display.HTML object>"
      ]
     },
     "metadata": {},
     "output_type": "display_data"
    },
    {
     "data": {
      "text/html": [
       "\n",
       "    <div style=\"border: 1px solid #ccc; max-width: 600px; padding: 25px; margin-bottom: 25px;\">\n",
       "        <div style=\"max-width: 550px; margin: 0 auto;\">\n",
       "            <p><strong><a href=\"https://searchcaster.xyz/search?merkleRoot=0x356c2fe10fa9a59cfa647e024d0aae6d493fc68c\" target=\"_blank\">merkleRoot</a></strong></p>\n",
       "            <p><strong>@shawki · fid 73</strong></p>\n",
       "            <div style=\"word-wrap: break-word; margin: 10px 0;\">“The world is a very malleable place. if you know what you want, and go for it with maximum energy and drive and passion, the world will often reconfigure itself around you much more quickly than you would think.” - Marc Andreessen</div>\n",
       "    <p style=\"color: purple; margin: 10px 0 0;\">&#x1F49C; 19 <span style=\"margin-left: 5px; margin-top: 10px;\">&#x1F4AC; 3</span></p></div></div>"
      ],
      "text/plain": [
       "<IPython.core.display.HTML object>"
      ]
     },
     "metadata": {},
     "output_type": "display_data"
    },
    {
     "data": {
      "text/html": [
       "\n",
       "    <div style=\"border: 1px solid #ccc; max-width: 600px; padding: 25px; margin-bottom: 25px;\">\n",
       "        <div style=\"max-width: 550px; margin: 0 auto;\">\n",
       "            <p><strong><a href=\"https://searchcaster.xyz/search?merkleRoot=0x3a6edfe7b9d41dbb71589d6aeeddf654eb83f7bc\" target=\"_blank\">merkleRoot</a></strong></p>\n",
       "            <p><strong>@dcposch · fid 56</strong></p>\n",
       "            <div style=\"word-wrap: break-word; margin: 10px 0;\">ethereum development velocity is honestly amazing.<br><br>i just read @tim's latest writeup about EIP4844, which scales rollups toward Visa-like throughput<br><br>Devnet already live 🚀 <br><br><a href=\"https://docs.google.com/document/d/1KgKZnb5P07rdLBb_nRCaXhzG_4PBoZXtFQNzKO2mrvc/edit#\" target=\"_blank\">https://docs.google.com/document/d/1KgKZnb5P07rdLBb_nRCaXhzG_4PBoZXtFQNzKO2mrvc/edit#</a></div>\n",
       "    <p style=\"color: purple; margin: 10px 0 0;\">&#x1F49C; 19 <span style=\"margin-left: 5px; margin-top: 10px;\">&#x1F4AC; 2</span></p></div></div>"
      ],
      "text/plain": [
       "<IPython.core.display.HTML object>"
      ]
     },
     "metadata": {},
     "output_type": "display_data"
    },
    {
     "data": {
      "text/html": [
       "\n",
       "    <div style=\"border: 1px solid #ccc; max-width: 600px; padding: 25px; margin-bottom: 25px;\">\n",
       "        <div style=\"max-width: 550px; margin: 0 auto;\">\n",
       "            <p><strong><a href=\"https://searchcaster.xyz/search?merkleRoot=0xe1b9935be16aa516daef24cc869267ae9e400905\" target=\"_blank\">merkleRoot</a></strong></p>\n",
       "            <p><strong>@dwr · fid 3</strong></p>\n",
       "            <div style=\"word-wrap: break-word; margin: 10px 0;\">Robert Caro’s cold storage setup </div>\n",
       "    <div style=\"text-align: center;\"><img src=\"https://i.imgur.com/zyY8GzJ.jpg\" style=\"max-width: 550px; margin-top: 10px;\"></div><p style=\"color: purple; margin: 10px 0 0;\">&#x1F49C; 19 <span style=\"margin-left: 5px; margin-top: 10px;\">&#x1F4AC; 2</span></p></div></div>"
      ],
      "text/plain": [
       "<IPython.core.display.HTML object>"
      ]
     },
     "metadata": {},
     "output_type": "display_data"
    },
    {
     "data": {
      "text/html": [
       "\n",
       "    <div style=\"border: 1px solid #ccc; max-width: 600px; padding: 25px; margin-bottom: 25px;\">\n",
       "        <div style=\"max-width: 550px; margin: 0 auto;\">\n",
       "            <p><strong><a href=\"https://searchcaster.xyz/search?merkleRoot=0x3e8c72e8d33e2bf9caa9122ff2504ad5757bc08d\" target=\"_blank\">merkleRoot</a></strong></p>\n",
       "            <p><strong>@hyper · fid 283</strong></p>\n",
       "            <div style=\"word-wrap: break-word; margin: 10px 0;\">Our very own @dwr talking Farcaster with @erik ! <a href=\"https://podcasts.apple.com/us/podcast/village-globals-venture-stories/id1316769266?i=1000577087854\" target=\"_blank\">https://podcasts.apple.com/us/podcast/village-globals-venture-stories/id1316769266?i=1000577087854</a></div>\n",
       "    <p style=\"color: purple; margin: 10px 0 0;\">&#x1F49C; 19 <span style=\"margin-left: 5px; margin-top: 10px;\">&#x1F4AC; 0</span></p></div></div>"
      ],
      "text/plain": [
       "<IPython.core.display.HTML object>"
      ]
     },
     "metadata": {},
     "output_type": "display_data"
    },
    {
     "data": {
      "text/html": [
       "\n",
       "    <div style=\"border: 1px solid #ccc; max-width: 600px; padding: 25px; margin-bottom: 25px;\">\n",
       "        <div style=\"max-width: 550px; margin: 0 auto;\">\n",
       "            <p><strong><a href=\"https://searchcaster.xyz/search?merkleRoot=0xd065f30c665309e94de4fd632bc0fd754096a697\" target=\"_blank\">merkleRoot</a></strong></p>\n",
       "            <p><strong>@jacob · fid 8</strong></p>\n",
       "            <div style=\"word-wrap: break-word; margin: 10px 0;\">raw thought probably has typos </div>\n",
       "    <div style=\"text-align: center;\"><img src=\"https://i.imgur.com/hbgxI9u.jpg\" style=\"max-width: 550px; margin-top: 10px;\"></div><p style=\"color: purple; margin: 10px 0 0;\">&#x1F49C; 19 <span style=\"margin-left: 5px; margin-top: 10px;\">&#x1F4AC; 5</span></p></div></div>"
      ],
      "text/plain": [
       "<IPython.core.display.HTML object>"
      ]
     },
     "metadata": {},
     "output_type": "display_data"
    },
    {
     "data": {
      "text/html": [
       "\n",
       "    <div style=\"border: 1px solid #ccc; max-width: 600px; padding: 25px; margin-bottom: 25px;\">\n",
       "        <div style=\"max-width: 550px; margin: 0 auto;\">\n",
       "            <p><strong><a href=\"https://searchcaster.xyz/search?merkleRoot=0x14db82c931b69ab1488c4ecc403b0af6ed77b074\" target=\"_blank\">merkleRoot</a></strong></p>\n",
       "            <p><strong>@patni · fid 1391</strong></p>\n",
       "            <div style=\"word-wrap: break-word; margin: 10px 0;\">Hey everyone! Excited to join Farcaster!<br><br>Thank you so much @dwr for the invite. <br><br>My name is Patni. I'm a crypto developer. I'm currently building a suite of crypto developer tooling to make it 10x easier for developers to write code against smart contracts!</div>\n",
       "    <p style=\"color: purple; margin: 10px 0 0;\">&#x1F49C; 19 <span style=\"margin-left: 5px; margin-top: 10px;\">&#x1F4AC; 5</span></p></div></div>"
      ],
      "text/plain": [
       "<IPython.core.display.HTML object>"
      ]
     },
     "metadata": {},
     "output_type": "display_data"
    },
    {
     "data": {
      "text/html": [
       "\n",
       "    <div style=\"border: 1px solid #ccc; max-width: 600px; padding: 25px; margin-bottom: 25px;\">\n",
       "        <div style=\"max-width: 550px; margin: 0 auto;\">\n",
       "            <p><strong><a href=\"https://searchcaster.xyz/search?merkleRoot=0x718160d0020d66a1be7663173bf160cbc3dc9ec9\" target=\"_blank\">merkleRoot</a></strong></p>\n",
       "            <p><strong>@0xen · fid 528</strong></p>\n",
       "            <div style=\"word-wrap: break-word; margin: 10px 0;\">Happy Friday<br><br>Computer Work  </div>\n",
       "    <div style=\"text-align: center;\"><img src=\"https://i.imgur.com/lJX4PFD.jpg\" style=\"max-width: 550px; margin-top: 10px;\"></div><p style=\"color: purple; margin: 10px 0 0;\">&#x1F49C; 19 <span style=\"margin-left: 5px; margin-top: 10px;\">&#x1F4AC; 0</span></p></div></div>"
      ],
      "text/plain": [
       "<IPython.core.display.HTML object>"
      ]
     },
     "metadata": {},
     "output_type": "display_data"
    },
    {
     "data": {
      "text/html": [
       "\n",
       "    <div style=\"border: 1px solid #ccc; max-width: 600px; padding: 25px; margin-bottom: 25px;\">\n",
       "        <div style=\"max-width: 550px; margin: 0 auto;\">\n",
       "            <p><strong><a href=\"https://searchcaster.xyz/search?merkleRoot=0x0413f1ded3023c6556b7dceed43bf43b588e449c\" target=\"_blank\">merkleRoot</a></strong></p>\n",
       "            <p><strong>@neuroswish · fid 127</strong></p>\n",
       "            <div style=\"word-wrap: break-word; margin: 10px 0;\">we’re back </div>\n",
       "    <div style=\"text-align: center;\"><img src=\"https://i.imgur.com/ZYbUjvw.jpg\" style=\"max-width: 550px; margin-top: 10px;\"></div><p style=\"color: purple; margin: 10px 0 0;\">&#x1F49C; 19 <span style=\"margin-left: 5px; margin-top: 10px;\">&#x1F4AC; 1</span></p></div></div>"
      ],
      "text/plain": [
       "<IPython.core.display.HTML object>"
      ]
     },
     "metadata": {},
     "output_type": "display_data"
    },
    {
     "data": {
      "text/html": [
       "\n",
       "    <div style=\"border: 1px solid #ccc; max-width: 600px; padding: 25px; margin-bottom: 25px;\">\n",
       "        <div style=\"max-width: 550px; margin: 0 auto;\">\n",
       "            <p><strong><a href=\"https://searchcaster.xyz/search?merkleRoot=0xbf7111cf79b070bc2c3f82a53ae5d60273838057\" target=\"_blank\">merkleRoot</a></strong></p>\n",
       "            <p><strong>@cameron · fid 617</strong></p>\n",
       "            <div style=\"word-wrap: break-word; margin: 10px 0;\">Visited a friend at HBS and stopped by my old classroom again. <br><br>Thought FC would like this plaque on the wall commemorating the invention of the spreadsheet </div>\n",
       "    <div style=\"text-align: center;\"><img src=\"https://i.imgur.com/sGsByCm.jpg\" style=\"max-width: 550px; margin-top: 10px;\"></div><p style=\"color: purple; margin: 10px 0 0;\">&#x1F49C; 19 <span style=\"margin-left: 5px; margin-top: 10px;\">&#x1F4AC; 0</span></p></div></div>"
      ],
      "text/plain": [
       "<IPython.core.display.HTML object>"
      ]
     },
     "metadata": {},
     "output_type": "display_data"
    },
    {
     "data": {
      "text/html": [
       "\n",
       "    <div style=\"border: 1px solid #ccc; max-width: 600px; padding: 25px; margin-bottom: 25px;\">\n",
       "        <div style=\"max-width: 550px; margin: 0 auto;\">\n",
       "            <p><strong><a href=\"https://searchcaster.xyz/search?merkleRoot=0xf9760ace47520f0e0f1c3768546fcd128ef7251e\" target=\"_blank\">merkleRoot</a></strong></p>\n",
       "            <p><strong>@les · fid 312</strong></p>\n",
       "            <div style=\"word-wrap: break-word; margin: 10px 0;\">Family provenance.<br><br>(Much of this will be obvious to this audience) </div>\n",
       "    <div style=\"text-align: center;\"><img src=\"https://i.imgur.com/2WLmyl2.jpg\" style=\"max-width: 550px; margin-top: 10px;\"></div><p style=\"color: purple; margin: 10px 0 0;\">&#x1F49C; 19 <span style=\"margin-left: 5px; margin-top: 10px;\">&#x1F4AC; 3</span></p></div></div>"
      ],
      "text/plain": [
       "<IPython.core.display.HTML object>"
      ]
     },
     "metadata": {},
     "output_type": "display_data"
    },
    {
     "data": {
      "text/html": [
       "\n",
       "    <div style=\"border: 1px solid #ccc; max-width: 600px; padding: 25px; margin-bottom: 25px;\">\n",
       "        <div style=\"max-width: 550px; margin: 0 auto;\">\n",
       "            <p><strong><a href=\"https://searchcaster.xyz/search?merkleRoot=0x836f308a3b66198a92a1b070c1dd11acfdf5e2fb\" target=\"_blank\">merkleRoot</a></strong></p>\n",
       "            <p><strong>@dwr · fid 3</strong></p>\n",
       "            <div style=\"word-wrap: break-word; margin: 10px 0;\">Love the simplicity of this marketing copy </div>\n",
       "    <div style=\"text-align: center;\"><img src=\"https://i.imgur.com/zvSFGyL.jpg\" style=\"max-width: 550px; margin-top: 10px;\"></div><p style=\"color: purple; margin: 10px 0 0;\">&#x1F49C; 19 <span style=\"margin-left: 5px; margin-top: 10px;\">&#x1F4AC; 0</span></p></div></div>"
      ],
      "text/plain": [
       "<IPython.core.display.HTML object>"
      ]
     },
     "metadata": {},
     "output_type": "display_data"
    },
    {
     "data": {
      "text/html": [
       "\n",
       "    <div style=\"border: 1px solid #ccc; max-width: 600px; padding: 25px; margin-bottom: 25px;\">\n",
       "        <div style=\"max-width: 550px; margin: 0 auto;\">\n",
       "            <p><strong><a href=\"https://searchcaster.xyz/search?merkleRoot=0x1120cd3a4c614aeebb5c383cadbe6cfea24bebf6\" target=\"_blank\">merkleRoot</a></strong></p>\n",
       "            <p><strong>@alvesjtiago · fid 762</strong></p>\n",
       "            <div style=\"word-wrap: break-word; margin: 10px 0;\">farapps update:<br>- search by app, categories and founders<br>- categories display<br><br><a href=\"https://farapps.vercel.app\" target=\"_blank\">https://farapps.vercel.app</a> </div>\n",
       "    <div style=\"text-align: center;\"><img src=\"https://i.imgur.com/EHubsuL.png\" style=\"max-width: 550px; margin-top: 10px;\"></div><p style=\"color: purple; margin: 10px 0 0;\">&#x1F49C; 19 <span style=\"margin-left: 5px; margin-top: 10px;\">&#x1F4AC; 4</span></p></div></div>"
      ],
      "text/plain": [
       "<IPython.core.display.HTML object>"
      ]
     },
     "metadata": {},
     "output_type": "display_data"
    },
    {
     "data": {
      "text/html": [
       "\n",
       "    <div style=\"border: 1px solid #ccc; max-width: 600px; padding: 25px; margin-bottom: 25px;\">\n",
       "        <div style=\"max-width: 550px; margin: 0 auto;\">\n",
       "            <p><strong><a href=\"https://searchcaster.xyz/search?merkleRoot=0xb1cfcf2f870ba62cd05985d34bfb26767033ca32\" target=\"_blank\">merkleRoot</a></strong></p>\n",
       "            <p><strong>@rish · fid 194</strong></p>\n",
       "            <div style=\"word-wrap: break-word; margin: 10px 0;\">Fintech companies in 🐂 markets:  - BTC, ETH, BCH and LTC trading now available in app <br><br>Crypto companies in 🐻 markets: <br>- MPC wallet technology<br>- decentralized usernames & identities<br>- ETH liquid staking<br>- increased cross chain and L2 support <br>- new fiat on-ramps <br>- & more<br><br>💙</div>\n",
       "    <p style=\"color: purple; margin: 10px 0 0;\">&#x1F49C; 19 <span style=\"margin-left: 5px; margin-top: 10px;\">&#x1F4AC; 1</span></p></div></div>"
      ],
      "text/plain": [
       "<IPython.core.display.HTML object>"
      ]
     },
     "metadata": {},
     "output_type": "display_data"
    },
    {
     "data": {
      "text/html": [
       "\n",
       "    <div style=\"border: 1px solid #ccc; max-width: 600px; padding: 25px; margin-bottom: 25px;\">\n",
       "        <div style=\"max-width: 550px; margin: 0 auto;\">\n",
       "            <p><strong><a href=\"https://searchcaster.xyz/search?merkleRoot=0xa04528c3d45024bf62bb65974f4fa8b6dc1d7a9d\" target=\"_blank\">merkleRoot</a></strong></p>\n",
       "            <p><strong>@matthew · fid 473</strong></p>\n",
       "            <div style=\"word-wrap: break-word; margin: 10px 0;\">Psyched to see the activity on EC! Even if two of those events were originally posted by me 😂 </div>\n",
       "    <div style=\"text-align: center;\"><img src=\"https://i.imgur.com/7ikpW8W.png\" style=\"max-width: 550px; margin-top: 10px;\"></div><p style=\"color: purple; margin: 10px 0 0;\">&#x1F49C; 19 <span style=\"margin-left: 5px; margin-top: 10px;\">&#x1F4AC; 1</span></p></div></div>"
      ],
      "text/plain": [
       "<IPython.core.display.HTML object>"
      ]
     },
     "metadata": {},
     "output_type": "display_data"
    },
    {
     "data": {
      "text/html": [
       "\n",
       "    <div style=\"border: 1px solid #ccc; max-width: 600px; padding: 25px; margin-bottom: 25px;\">\n",
       "        <div style=\"max-width: 550px; margin: 0 auto;\">\n",
       "            <p><strong><a href=\"https://searchcaster.xyz/search?merkleRoot=0xe7397bb07fe4e411d0436f6d804fb1990fa433f9\" target=\"_blank\">merkleRoot</a></strong></p>\n",
       "            <p><strong>@dwr · fid 3</strong></p>\n",
       "            <div style=\"word-wrap: break-word; margin: 10px 0;\">Good essay from our very own @js <br><br>Mentions one of my favorite books \"The Master Switch\"<br><br><a href=\"https://saffron.mirror.xyz/E6UKhw0KAZL1TgAeI_pcWSwkUDHOQ5R28OBHknTzy24\" target=\"_blank\">https://saffron.mirror.xyz/E6UKhw0KAZL1TgAeI_pcWSwkUDHOQ5R28OBHknTzy24</a></div>\n",
       "    <p style=\"color: purple; margin: 10px 0 0;\">&#x1F49C; 18 <span style=\"margin-left: 5px; margin-top: 10px;\">&#x1F4AC; 1</span></p></div></div>"
      ],
      "text/plain": [
       "<IPython.core.display.HTML object>"
      ]
     },
     "metadata": {},
     "output_type": "display_data"
    },
    {
     "data": {
      "text/html": [
       "\n",
       "    <div style=\"border: 1px solid #ccc; max-width: 600px; padding: 25px; margin-bottom: 25px;\">\n",
       "        <div style=\"max-width: 550px; margin: 0 auto;\">\n",
       "            <p><strong><a href=\"https://searchcaster.xyz/search?merkleRoot=0x91937c9c8e0ca5abc46c4b549ea6a10b8f4db770\" target=\"_blank\">merkleRoot</a></strong></p>\n",
       "            <p><strong>@linda · fid 12</strong></p>\n",
       "            <div style=\"word-wrap: break-word; margin: 10px 0;\">Been watching a lot of commentary videos on the rise & fall of popular YouTube creators. Noticing common themes are becoming popular/rich too quickly & losing touch with what the audience cared about in the first place, giving too much attention to trolls in front their audience</div>\n",
       "    <p style=\"color: purple; margin: 10px 0 0;\">&#x1F49C; 18 <span style=\"margin-left: 5px; margin-top: 10px;\">&#x1F4AC; 4</span></p></div></div>"
      ],
      "text/plain": [
       "<IPython.core.display.HTML object>"
      ]
     },
     "metadata": {},
     "output_type": "display_data"
    },
    {
     "data": {
      "text/html": [
       "\n",
       "    <div style=\"border: 1px solid #ccc; max-width: 600px; padding: 25px; margin-bottom: 25px;\">\n",
       "        <div style=\"max-width: 550px; margin: 0 auto;\">\n",
       "            <p><strong><a href=\"https://searchcaster.xyz/search?merkleRoot=0x9dc179f95a8beee41701c5ea2d69e472752cc23d\" target=\"_blank\">merkleRoot</a></strong></p>\n",
       "            <p><strong>@dwr · fid 3</strong></p>\n",
       "            <div style=\"word-wrap: break-word; margin: 10px 0;\">Farcaster app idea: collect all the screenshot essays on a single, Pinterest-style layout webpage.<br><br><a href=\"https://paulcollett.github.io/react-masonry-css/demo/\" target=\"_blank\">https://paulcollett.github.io/react-masonry-css/demo/</a></div>\n",
       "    <p style=\"color: purple; margin: 10px 0 0;\">&#x1F49C; 18 <span style=\"margin-left: 5px; margin-top: 10px;\">&#x1F4AC; 3</span></p></div></div>"
      ],
      "text/plain": [
       "<IPython.core.display.HTML object>"
      ]
     },
     "metadata": {},
     "output_type": "display_data"
    },
    {
     "data": {
      "text/html": [
       "\n",
       "    <div style=\"border: 1px solid #ccc; max-width: 600px; padding: 25px; margin-bottom: 25px;\">\n",
       "        <div style=\"max-width: 550px; margin: 0 auto;\">\n",
       "            <p><strong><a href=\"https://searchcaster.xyz/search?merkleRoot=0x6161252cd047f13ade9046c8fd9a6dad6acb3e58\" target=\"_blank\">merkleRoot</a></strong></p>\n",
       "            <p><strong>@ishika · fid 754</strong></p>\n",
       "            <div style=\"word-wrap: break-word; margin: 10px 0;\">This is going to be a game changer I can already feel it 😛  </div>\n",
       "    <div style=\"text-align: center;\"><img src=\"https://i.imgur.com/oshq4tk.png\" style=\"max-width: 550px; margin-top: 10px;\"></div><p style=\"color: purple; margin: 10px 0 0;\">&#x1F49C; 18 <span style=\"margin-left: 5px; margin-top: 10px;\">&#x1F4AC; 1</span></p></div></div>"
      ],
      "text/plain": [
       "<IPython.core.display.HTML object>"
      ]
     },
     "metadata": {},
     "output_type": "display_data"
    },
    {
     "data": {
      "text/html": [
       "\n",
       "    <div style=\"border: 1px solid #ccc; max-width: 600px; padding: 25px; margin-bottom: 25px;\">\n",
       "        <div style=\"max-width: 550px; margin: 0 auto;\">\n",
       "            <p><strong><a href=\"https://searchcaster.xyz/search?merkleRoot=0x5ecf2c3f3753c138856365a3fc2f4d72c2f865be\" target=\"_blank\">merkleRoot</a></strong></p>\n",
       "            <p><strong>@ccarella · fid 472</strong></p>\n",
       "            <div style=\"word-wrap: break-word; margin: 10px 0;\">Are we going to do a Farcaster feed party during the Merge and should we make a POAP for it?</div>\n",
       "    <p style=\"color: purple; margin: 10px 0 0;\">&#x1F49C; 18 <span style=\"margin-left: 5px; margin-top: 10px;\">&#x1F4AC; 4</span></p></div></div>"
      ],
      "text/plain": [
       "<IPython.core.display.HTML object>"
      ]
     },
     "metadata": {},
     "output_type": "display_data"
    },
    {
     "data": {
      "text/html": [
       "\n",
       "    <div style=\"border: 1px solid #ccc; max-width: 600px; padding: 25px; margin-bottom: 25px;\">\n",
       "        <div style=\"max-width: 550px; margin: 0 auto;\">\n",
       "            <p><strong><a href=\"https://searchcaster.xyz/search?merkleRoot=0x3dda27699313b6e97dd540ac34ae5595b1322561\" target=\"_blank\">merkleRoot</a></strong></p>\n",
       "            <p><strong>@kchamp · fid 1372</strong></p>\n",
       "            <div style=\"word-wrap: break-word; margin: 10px 0;\">self portrait of your author, flexing </div>\n",
       "    <div style=\"text-align: center;\"><img src=\"https://i.imgur.com/5sFGfIU.jpg\" style=\"max-width: 550px; margin-top: 10px;\"></div><p style=\"color: purple; margin: 10px 0 0;\">&#x1F49C; 18 <span style=\"margin-left: 5px; margin-top: 10px;\">&#x1F4AC; 2</span></p></div></div>"
      ],
      "text/plain": [
       "<IPython.core.display.HTML object>"
      ]
     },
     "metadata": {},
     "output_type": "display_data"
    },
    {
     "data": {
      "text/html": [
       "\n",
       "    <div style=\"border: 1px solid #ccc; max-width: 600px; padding: 25px; margin-bottom: 25px;\">\n",
       "        <div style=\"max-width: 550px; margin: 0 auto;\">\n",
       "            <p><strong><a href=\"https://searchcaster.xyz/search?merkleRoot=0xad483d5c047191f795e4483dc96d197913bcac57\" target=\"_blank\">merkleRoot</a></strong></p>\n",
       "            <p><strong>@daes · fid 1357</strong></p>\n",
       "            <div style=\"word-wrap: break-word; margin: 10px 0;\">Just registered questcaster.xyz <br><br>onchain missions and quests for FCs anyone?</div>\n",
       "    <p style=\"color: purple; margin: 10px 0 0;\">&#x1F49C; 18 <span style=\"margin-left: 5px; margin-top: 10px;\">&#x1F4AC; 0</span></p></div></div>"
      ],
      "text/plain": [
       "<IPython.core.display.HTML object>"
      ]
     },
     "metadata": {},
     "output_type": "display_data"
    },
    {
     "data": {
      "text/html": [
       "\n",
       "    <div style=\"border: 1px solid #ccc; max-width: 600px; padding: 25px; margin-bottom: 25px;\">\n",
       "        <div style=\"max-width: 550px; margin: 0 auto;\">\n",
       "            <p><strong><a href=\"https://searchcaster.xyz/search?merkleRoot=0x2d4f0e4e5138e8bc91fd1f6e0c5150edb30f0374\" target=\"_blank\">merkleRoot</a></strong></p>\n",
       "            <p><strong>@phil · fid 129</strong></p>\n",
       "            <div style=\"word-wrap: break-word; margin: 10px 0;\">Here’s an underrated interview with @fredwilson from our last Bright Moments team offsite<br><br>I’m intentionally NOT sharing this one on the bird app to promote the “FC has the best crypto alpha” meme<br><br><a href=\"https://vimeo.com/709098678\" target=\"_blank\">https://vimeo.com/709098678</a></div>\n",
       "    <p style=\"color: purple; margin: 10px 0 0;\">&#x1F49C; 18 <span style=\"margin-left: 5px; margin-top: 10px;\">&#x1F4AC; 2</span></p></div></div>"
      ],
      "text/plain": [
       "<IPython.core.display.HTML object>"
      ]
     },
     "metadata": {},
     "output_type": "display_data"
    },
    {
     "data": {
      "text/html": [
       "\n",
       "    <div style=\"border: 1px solid #ccc; max-width: 600px; padding: 25px; margin-bottom: 25px;\">\n",
       "        <div style=\"max-width: 550px; margin: 0 auto;\">\n",
       "            <p><strong><a href=\"https://searchcaster.xyz/search?merkleRoot=0x0e480535f414bbee6c7bcba5d66e5950c47c21ab\" target=\"_blank\">merkleRoot</a></strong></p>\n",
       "            <p><strong>@alvesjtiago · fid 762</strong></p>\n",
       "            <div style=\"word-wrap: break-word; margin: 10px 0;\">gm<br><br>this has become my morning read:<br>- @fn top news (www.farcasternews.xyz)<br>- castalytics latest top casts section (castalytics.vercel.app)<br>- @ace perl collection (perl.xyz/profile/ace) </div>\n",
       "    <div style=\"text-align: center;\"><img src=\"https://i.imgur.com/xHUBRCH.png\" style=\"max-width: 550px; margin-top: 10px;\"></div><p style=\"color: purple; margin: 10px 0 0;\">&#x1F49C; 17 <span style=\"margin-left: 5px; margin-top: 10px;\">&#x1F4AC; 2</span></p></div></div>"
      ],
      "text/plain": [
       "<IPython.core.display.HTML object>"
      ]
     },
     "metadata": {},
     "output_type": "display_data"
    },
    {
     "data": {
      "text/html": [
       "\n",
       "    <div style=\"border: 1px solid #ccc; max-width: 600px; padding: 25px; margin-bottom: 25px;\">\n",
       "        <div style=\"max-width: 550px; margin: 0 auto;\">\n",
       "            <p><strong><a href=\"https://searchcaster.xyz/search?merkleRoot=0xa559d90e50b51590a4d06f66986476c48b5e668f\" target=\"_blank\">merkleRoot</a></strong></p>\n",
       "            <p><strong>@brianjckim · fid 426</strong></p>\n",
       "            <div style=\"word-wrap: break-word; margin: 10px 0;\">i just spoke with arguably the most based individual on farcaster 🤭</div>\n",
       "    <p style=\"color: purple; margin: 10px 0 0;\">&#x1F49C; 17 <span style=\"margin-left: 5px; margin-top: 10px;\">&#x1F4AC; 7</span></p></div></div>"
      ],
      "text/plain": [
       "<IPython.core.display.HTML object>"
      ]
     },
     "metadata": {},
     "output_type": "display_data"
    },
    {
     "data": {
      "text/html": [
       "\n",
       "    <div style=\"border: 1px solid #ccc; max-width: 600px; padding: 25px; margin-bottom: 25px;\">\n",
       "        <div style=\"max-width: 550px; margin: 0 auto;\">\n",
       "            <p><strong><a href=\"https://searchcaster.xyz/search?merkleRoot=0x1df0b907070d55882864749914bb2c8212fb2c67\" target=\"_blank\">merkleRoot</a></strong></p>\n",
       "            <p><strong>@dwr · fid 3</strong></p>\n",
       "            <div style=\"word-wrap: break-word; margin: 10px 0;\">People complaining about working hard to a dumpling, by Pablo Picasso </div>\n",
       "    <div style=\"text-align: center;\"><img src=\"https://i.imgur.com/CpWc37G.png\" style=\"max-width: 550px; margin-top: 10px;\"></div><p style=\"color: purple; margin: 10px 0 0;\">&#x1F49C; 17 <span style=\"margin-left: 5px; margin-top: 10px;\">&#x1F4AC; 1</span></p></div></div>"
      ],
      "text/plain": [
       "<IPython.core.display.HTML object>"
      ]
     },
     "metadata": {},
     "output_type": "display_data"
    },
    {
     "data": {
      "text/html": [
       "\n",
       "    <div style=\"border: 1px solid #ccc; max-width: 600px; padding: 25px; margin-bottom: 25px;\">\n",
       "        <div style=\"max-width: 550px; margin: 0 auto;\">\n",
       "            <p><strong><a href=\"https://searchcaster.xyz/search?merkleRoot=0x3a8c6f8771a2af0411ea00c7a6a0408eac115055\" target=\"_blank\">merkleRoot</a></strong></p>\n",
       "            <p><strong>@neuroswish · fid 127</strong></p>\n",
       "            <div style=\"word-wrap: break-word; margin: 10px 0;\">I don't get music NFTs :/ </div>\n",
       "    <div style=\"text-align: center;\"><img src=\"https://i.imgur.com/NRnYcM1.png\" style=\"max-width: 550px; margin-top: 10px;\"></div><p style=\"color: purple; margin: 10px 0 0;\">&#x1F49C; 17 <span style=\"margin-left: 5px; margin-top: 10px;\">&#x1F4AC; 14</span></p></div></div>"
      ],
      "text/plain": [
       "<IPython.core.display.HTML object>"
      ]
     },
     "metadata": {},
     "output_type": "display_data"
    },
    {
     "data": {
      "text/html": [
       "\n",
       "    <div style=\"border: 1px solid #ccc; max-width: 600px; padding: 25px; margin-bottom: 25px;\">\n",
       "        <div style=\"max-width: 550px; margin: 0 auto;\">\n",
       "            <p><strong><a href=\"https://searchcaster.xyz/search?merkleRoot=0xb6c6bc9db022b8e894f4ade92dcf8705a63bf4c2\" target=\"_blank\">merkleRoot</a></strong></p>\n",
       "            <p><strong>@0xen · fid 528</strong></p>\n",
       "            <div style=\"word-wrap: break-word; margin: 10px 0;\">Momentous day - 420 follower milestone unlocked.</div>\n",
       "    <p style=\"color: purple; margin: 10px 0 0;\">&#x1F49C; 17 <span style=\"margin-left: 5px; margin-top: 10px;\">&#x1F4AC; 2</span></p></div></div>"
      ],
      "text/plain": [
       "<IPython.core.display.HTML object>"
      ]
     },
     "metadata": {},
     "output_type": "display_data"
    },
    {
     "data": {
      "text/html": [
       "\n",
       "    <div style=\"border: 1px solid #ccc; max-width: 600px; padding: 25px; margin-bottom: 25px;\">\n",
       "        <div style=\"max-width: 550px; margin: 0 auto;\">\n",
       "            <p><strong><a href=\"https://searchcaster.xyz/search?merkleRoot=0x8569eb2996e2e61207ac1371e4fa91813481344c\" target=\"_blank\">merkleRoot</a></strong></p>\n",
       "            <p><strong>@ace · fid 539</strong></p>\n",
       "            <div style=\"word-wrap: break-word; margin: 10px 0;\"><a href=\"https://same.energy/\" target=\"_blank\">https://same.energy/</a> could be great for mood boarding too. <br><br>thnx for the rec @gaby </div>\n",
       "    <div style=\"text-align: center;\"><img src=\"https://i.imgur.com/gXgslci.jpg\" style=\"max-width: 550px; margin-top: 10px;\"></div><p style=\"color: purple; margin: 10px 0 0;\">&#x1F49C; 17 <span style=\"margin-left: 5px; margin-top: 10px;\">&#x1F4AC; 5</span></p></div></div>"
      ],
      "text/plain": [
       "<IPython.core.display.HTML object>"
      ]
     },
     "metadata": {},
     "output_type": "display_data"
    }
   ],
   "source": [
    "# TWLY: This Week Last Year - August 20 - August 26, 2022\n",
    "# Compiled using Farcaster-Indexer & Searchcaster \n",
    "\n",
    "https://github.com/gskril/farcaster-indexer\n",
    "https://searchcaster.xyz"
   ]
  },
  {
   "cell_type": "code",
   "execution_count": null,
   "id": "e9e68639",
   "metadata": {},
   "outputs": [],
   "source": []
  }
 ],
 "metadata": {
  "kernelspec": {
   "display_name": "Python 3 (ipykernel)",
   "language": "python",
   "name": "python3"
  },
  "language_info": {
   "codemirror_mode": {
    "name": "ipython",
    "version": 3
   },
   "file_extension": ".py",
   "mimetype": "text/x-python",
   "name": "python",
   "nbconvert_exporter": "python",
   "pygments_lexer": "ipython3",
   "version": "3.9.13"
  }
 },
 "nbformat": 4,
 "nbformat_minor": 5
}
