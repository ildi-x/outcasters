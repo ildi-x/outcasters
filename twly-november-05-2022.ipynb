{
 "cells": [
  {
   "cell_type": "markdown",
   "id": "784b1f6d",
   "metadata": {},
   "source": [
    "## OUTCASTERS SNAPSHOT 018"
   ]
  },
  {
   "cell_type": "markdown",
   "id": "398ad3ad",
   "metadata": {},
   "source": [
    "https://outcasters.xyz "
   ]
  },
  {
   "cell_type": "code",
   "execution_count": 1,
   "id": "6471faa5",
   "metadata": {
    "scrolled": false
   },
   "outputs": [
    {
     "data": {
      "text/html": [
       "\n",
       "    <div style=\"max-width: 600px; margin-bottom: 25px;\">\n",
       "        <h2 style=\"margin-bottom: 15px;\">Total Casts</h2>\n",
       "        <p style=\"font-size: 18x; margin: 5px 0 5px;\">Including Replies: 16504</p>\n",
       "        <p style=\"font-size: 18x; margin: 5px 0;\">Excluding Replies: 5019</p>\n",
       "    </div>\n"
      ],
      "text/plain": [
       "<IPython.core.display.HTML object>"
      ]
     },
     "metadata": {},
     "output_type": "display_data"
    },
    {
     "data": {
      "text/html": [
       "<h2>Top 30 Most Active Users (Excluding Replies)</h2>"
      ],
      "text/plain": [
       "<IPython.core.display.HTML object>"
      ]
     },
     "metadata": {},
     "output_type": "display_data"
    },
    {
     "data": {
      "text/html": [
       "<p>Only original casts are considered for this calculation. Replies are excluded.</p>"
      ],
      "text/plain": [
       "<IPython.core.display.HTML object>"
      ]
     },
     "metadata": {},
     "output_type": "display_data"
    },
    {
     "data": {
      "text/html": [
       "<ol><li>welcome - 272 casts</li><li>juan - 104 casts</li><li>tg - 104 casts</li><li>ivy - 83 casts</li><li>ace - 70 casts</li><li>ccarella - 46 casts</li><li>cameron - 40 casts</li><li>abc - 39 casts</li><li>borodutch - 34 casts</li><li>les - 34 casts</li><li>polluterofminds - 32 casts</li><li>preach - 32 casts</li><li>keccers - 31 casts</li><li>vgr - 29 casts</li><li>dwr - 29 casts</li><li>futureartist - 29 casts</li><li>wade - 27 casts</li><li>giu - 27 casts</li><li>trish - 25 casts</li><li>pfista - 25 casts</li><li>macbudkowski - 24 casts</li><li>ed - 23 casts</li><li>kazani - 23 casts</li><li>jk - 23 casts</li><li>j4ck - 22 casts</li><li>briang - 21 casts</li><li>tayyab - 20 casts</li><li>maurerbot - 20 casts</li><li>symbiotech - 20 casts</li><li>xx - 20 casts</li></ol>"
      ],
      "text/plain": [
       "<IPython.core.display.HTML object>"
      ]
     },
     "metadata": {},
     "output_type": "display_data"
    },
    {
     "data": {
      "text/html": [
       "<h2>Top 30 Most Active Users (Including Replies)</h2>"
      ],
      "text/plain": [
       "<IPython.core.display.HTML object>"
      ]
     },
     "metadata": {},
     "output_type": "display_data"
    },
    {
     "data": {
      "text/html": [
       "<p>All casts, including replies, are considered for this calculation.</p>"
      ],
      "text/plain": [
       "<IPython.core.display.HTML object>"
      ]
     },
     "metadata": {},
     "output_type": "display_data"
    },
    {
     "data": {
      "text/html": [
       "<ol><li>juan - 487 casts</li><li>briang - 435 casts</li><li>cameron - 321 casts</li><li>welcome - 272 casts</li><li>dragonbanec - 253 casts</li><li>ccarella - 212 casts</li><li>perl - 196 casts</li><li>j4ck - 186 casts</li><li>dwr - 183 casts</li><li>ace - 181 casts</li><li>ivy - 165 casts</li><li>borodutch - 153 casts</li><li>nonlinear - 135 casts</li><li>jayce - 126 casts</li><li>benersing - 122 casts</li><li>coachcoale - 119 casts</li><li>eatenbyplants - 118 casts</li><li>conft - 118 casts</li><li>bias - 111 casts</li><li>macbudkowski - 110 casts</li><li>tg - 105 casts</li><li>0xen - 102 casts</li><li>pfista - 101 casts</li><li>polluterofminds - 90 casts</li><li>rhys - 85 casts</li><li>phil - 83 casts</li><li>les - 75 casts</li><li>keccers - 75 casts</li><li>preach - 73 casts</li><li>cassie - 73 casts</li></ol>"
      ],
      "text/plain": [
       "<IPython.core.display.HTML object>"
      ]
     },
     "metadata": {},
     "output_type": "display_data"
    },
    {
     "data": {
      "text/html": [
       "<h2>Top 100 casts ranked by total likes</h2>"
      ],
      "text/plain": [
       "<IPython.core.display.HTML object>"
      ]
     },
     "metadata": {},
     "output_type": "display_data"
    },
    {
     "data": {
      "text/html": [
       "\n",
       "    <div style=\"border: 1px solid #ccc; max-width: 600px; padding: 25px; margin-bottom: 25px;\">\n",
       "        <div style=\"max-width: 550px; margin: 0 auto;\">\n",
       "            <p><strong><a href=\"https://searchcaster.xyz/search?merkleRoot=0x9f994c979923fd48ca1fb7d1a7e8bf9fa7578e76\" target=\"_blank\">merkleRoot</a></strong></p>\n",
       "            <p><strong>@dwr · fid 3</strong></p>\n",
       "            <div style=\"word-wrap: break-word; margin: 10px 0;\">If I could nudge Farcasters to do one thing: share stuff you're interested in *outside* of the main topics here -- crypto, web3, business, Farcaster. Don't worry about if it will \"flop\" from an engagement standpoint.<br><br>Helps make everyone a bit more multi-dimensional.</div>\n",
       "    <p style=\"color: purple; margin: 10px 0 0;\">&#x1F49C; 268 <span style=\"margin-left: 5px; margin-top: 10px;\">&#x1F4AC; 39</span></p></div></div>"
      ],
      "text/plain": [
       "<IPython.core.display.HTML object>"
      ]
     },
     "metadata": {},
     "output_type": "display_data"
    },
    {
     "data": {
      "text/html": [
       "\n",
       "    <div style=\"border: 1px solid #ccc; max-width: 600px; padding: 25px; margin-bottom: 25px;\">\n",
       "        <div style=\"max-width: 550px; margin: 0 auto;\">\n",
       "            <p><strong><a href=\"https://searchcaster.xyz/search?merkleRoot=0x33874dcca38d5e605caa00931197501c8eba3274\" target=\"_blank\">merkleRoot</a></strong></p>\n",
       "            <p><strong>@dwr · fid 3</strong></p>\n",
       "            <div style=\"word-wrap: break-word; margin: 10px 0;\">PSA -- we're continuing with our deliberate growth strategy. We had been growing a bit too fast in October and quality was suffering.<br><br><a href=\"https://farcasterxyz.notion.site/Deliberate-growth-ea4c45c89ca14960b3b1ff3013754c7e\" target=\"_blank\">https://farcasterxyz.notion.site/Deliberate-growth-ea4c45c89ca14960b3b1ff3013754c7e</a> </div>\n",
       "    <div style=\"text-align: center;\"><img src=\"https://i.imgur.com/wfWiTCH.png\" style=\"max-width: 550px; margin-top: 10px;\"></div><p style=\"color: purple; margin: 10px 0 0;\">&#x1F49C; 113 <span style=\"margin-left: 5px; margin-top: 10px;\">&#x1F4AC; 19</span></p></div></div>"
      ],
      "text/plain": [
       "<IPython.core.display.HTML object>"
      ]
     },
     "metadata": {},
     "output_type": "display_data"
    },
    {
     "data": {
      "text/html": [
       "\n",
       "    <div style=\"border: 1px solid #ccc; max-width: 600px; padding: 25px; margin-bottom: 25px;\">\n",
       "        <div style=\"max-width: 550px; margin: 0 auto;\">\n",
       "            <p><strong><a href=\"https://searchcaster.xyz/search?merkleRoot=0x8bd5fdf2f8a60e298ad48c18a027dafb2d2278fd\" target=\"_blank\">merkleRoot</a></strong></p>\n",
       "            <p><strong>@dystopiabreaker · fid 4893</strong></p>\n",
       "            <div style=\"word-wrap: break-word; margin: 10px 0;\">hi everyone! i’m on farcaster now :D</div>\n",
       "    <p style=\"color: purple; margin: 10px 0 0;\">&#x1F49C; 96 <span style=\"margin-left: 5px; margin-top: 10px;\">&#x1F4AC; 28</span></p></div></div>"
      ],
      "text/plain": [
       "<IPython.core.display.HTML object>"
      ]
     },
     "metadata": {},
     "output_type": "display_data"
    },
    {
     "data": {
      "text/html": [
       "\n",
       "    <div style=\"border: 1px solid #ccc; max-width: 600px; padding: 25px; margin-bottom: 25px;\">\n",
       "        <div style=\"max-width: 550px; margin: 0 auto;\">\n",
       "            <p><strong><a href=\"https://searchcaster.xyz/search?merkleRoot=0x7e0970a3bf98e04b4a83d042a1c9782c1e144ae9\" target=\"_blank\">merkleRoot</a></strong></p>\n",
       "            <p><strong>@jacob · fid 8</strong></p>\n",
       "            <div style=\"word-wrap: break-word; margin: 10px 0;\">The past year of crypto turmoil has made me very optimistic about two things in particular: <br><br>1. Protocols <br>2. Coinbase</div>\n",
       "    <p style=\"color: purple; margin: 10px 0 0;\">&#x1F49C; 86 <span style=\"margin-left: 5px; margin-top: 10px;\">&#x1F4AC; 6</span></p></div></div>"
      ],
      "text/plain": [
       "<IPython.core.display.HTML object>"
      ]
     },
     "metadata": {},
     "output_type": "display_data"
    },
    {
     "data": {
      "text/html": [
       "\n",
       "    <div style=\"border: 1px solid #ccc; max-width: 600px; padding: 25px; margin-bottom: 25px;\">\n",
       "        <div style=\"max-width: 550px; margin: 0 auto;\">\n",
       "            <p><strong><a href=\"https://searchcaster.xyz/search?merkleRoot=0xd3e1aaa5391a5361fefee6d26be7ab7d90b9ffe1\" target=\"_blank\">merkleRoot</a></strong></p>\n",
       "            <p><strong>@cdixon · fid 25</strong></p>\n",
       "            <div style=\"word-wrap: break-word; margin: 10px 0;\">Social networks need global name spaces to get mainstream adoption.</div>\n",
       "    <p style=\"color: purple; margin: 10px 0 0;\">&#x1F49C; 84 <span style=\"margin-left: 5px; margin-top: 10px;\">&#x1F4AC; 15</span></p></div></div>"
      ],
      "text/plain": [
       "<IPython.core.display.HTML object>"
      ]
     },
     "metadata": {},
     "output_type": "display_data"
    },
    {
     "data": {
      "text/html": [
       "\n",
       "    <div style=\"border: 1px solid #ccc; max-width: 600px; padding: 25px; margin-bottom: 25px;\">\n",
       "        <div style=\"max-width: 550px; margin: 0 auto;\">\n",
       "            <p><strong><a href=\"https://searchcaster.xyz/search?merkleRoot=0x2b5fa945533592efe4892d715c777dd7a949f8fa\" target=\"_blank\">merkleRoot</a></strong></p>\n",
       "            <p><strong>@pugson · fid 557</strong></p>\n",
       "            <div style=\"word-wrap: break-word; margin: 10px 0;\">lots of high quality desktop apps being released lately. people are doing great things with electron. example: <a href=\"https://lazy.so\" target=\"_blank\">https://lazy.so</a></div>\n",
       "    <p style=\"color: purple; margin: 10px 0 0;\">&#x1F49C; 83 <span style=\"margin-left: 5px; margin-top: 10px;\">&#x1F4AC; 10</span></p></div></div>"
      ],
      "text/plain": [
       "<IPython.core.display.HTML object>"
      ]
     },
     "metadata": {},
     "output_type": "display_data"
    },
    {
     "data": {
      "text/html": [
       "\n",
       "    <div style=\"border: 1px solid #ccc; max-width: 600px; padding: 25px; margin-bottom: 25px;\">\n",
       "        <div style=\"max-width: 550px; margin: 0 auto;\">\n",
       "            <p><strong><a href=\"https://searchcaster.xyz/search?merkleRoot=0x60def808493df5247ec57165a85829cf1d682f24\" target=\"_blank\">merkleRoot</a></strong></p>\n",
       "            <p><strong>@dwr · fid 3</strong></p>\n",
       "            <div style=\"word-wrap: break-word; margin: 10px 0;\">It took many years, but finally to the point where I don’t check Hacker News every day. <br><br>Partially spending more time on Farcaster, partially succumbing to the Twitter algo feed, partially chat groups.</div>\n",
       "    <p style=\"color: purple; margin: 10px 0 0;\">&#x1F49C; 82 <span style=\"margin-left: 5px; margin-top: 10px;\">&#x1F4AC; 13</span></p></div></div>"
      ],
      "text/plain": [
       "<IPython.core.display.HTML object>"
      ]
     },
     "metadata": {},
     "output_type": "display_data"
    },
    {
     "data": {
      "text/html": [
       "\n",
       "    <div style=\"border: 1px solid #ccc; max-width: 600px; padding: 25px; margin-bottom: 25px;\">\n",
       "        <div style=\"max-width: 550px; margin: 0 auto;\">\n",
       "            <p><strong><a href=\"https://searchcaster.xyz/search?merkleRoot=0xf7a75c320c987a14d65ab4b2600888cdd4384a16\" target=\"_blank\">merkleRoot</a></strong></p>\n",
       "            <p><strong>@steinman · fid 4880</strong></p>\n",
       "            <div style=\"word-wrap: break-word; margin: 10px 0;\">Hey Farcasters - first real post. I left startup life to run all national security crypto policy (+cyber, telecom, supply chain) for the United States while serving on the National Security Council from 2017-2021, at the White House. <br><br>Now back, building a new startup.<br><br>Feel free to AMA. <br><br>Will answer what I can.</div>\n",
       "    <p style=\"color: purple; margin: 10px 0 0;\">&#x1F49C; 81 <span style=\"margin-left: 5px; margin-top: 10px;\">&#x1F4AC; 22</span></p></div></div>"
      ],
      "text/plain": [
       "<IPython.core.display.HTML object>"
      ]
     },
     "metadata": {},
     "output_type": "display_data"
    },
    {
     "data": {
      "text/html": [
       "\n",
       "    <div style=\"border: 1px solid #ccc; max-width: 600px; padding: 25px; margin-bottom: 25px;\">\n",
       "        <div style=\"max-width: 550px; margin: 0 auto;\">\n",
       "            <p><strong><a href=\"https://searchcaster.xyz/search?merkleRoot=0x8a7e61724f58e5adcd6c10601a456a022f8dd28b\" target=\"_blank\">merkleRoot</a></strong></p>\n",
       "            <p><strong>@dwr · fid 3</strong></p>\n",
       "            <div style=\"word-wrap: break-word; margin: 10px 0;\">Facebook — still the biggest social network — was sign up-gated for 2.5 years. </div>\n",
       "    <div style=\"text-align: center;\"><img src=\"https://i.imgur.com/NTFV0q4.png\" style=\"max-width: 550px; margin-top: 10px;\"></div><p style=\"color: purple; margin: 10px 0 0;\">&#x1F49C; 81 <span style=\"margin-left: 5px; margin-top: 10px;\">&#x1F4AC; 11</span></p></div></div>"
      ],
      "text/plain": [
       "<IPython.core.display.HTML object>"
      ]
     },
     "metadata": {},
     "output_type": "display_data"
    },
    {
     "data": {
      "text/html": [
       "\n",
       "    <div style=\"border: 1px solid #ccc; max-width: 600px; padding: 25px; margin-bottom: 25px;\">\n",
       "        <div style=\"max-width: 550px; margin: 0 auto;\">\n",
       "            <p><strong><a href=\"https://searchcaster.xyz/search?merkleRoot=0xfc7d616035d2e54a15e1fc11f82b63428170f34a\" target=\"_blank\">merkleRoot</a></strong></p>\n",
       "            <p><strong>@0xen · fid 528</strong></p>\n",
       "            <div style=\"word-wrap: break-word; margin: 10px 0;\">Happy Saturday - if you follow me on FC then you're allowlisted for the  ✨FREE✨  mint of Ornament #27. <br><br>Getcha one!<br><br>Minting ends in 2 days. <br><br><a href=\"https://app.manifold.xyz/c/Ornament27\" target=\"_blank\">https://app.manifold.xyz/c/Ornament27</a></div>\n",
       "    <p style=\"color: purple; margin: 10px 0 0;\">&#x1F49C; 77 <span style=\"margin-left: 5px; margin-top: 10px;\">&#x1F4AC; 26</span></p></div></div>"
      ],
      "text/plain": [
       "<IPython.core.display.HTML object>"
      ]
     },
     "metadata": {},
     "output_type": "display_data"
    },
    {
     "data": {
      "text/html": [
       "\n",
       "    <div style=\"border: 1px solid #ccc; max-width: 600px; padding: 25px; margin-bottom: 25px;\">\n",
       "        <div style=\"max-width: 550px; margin: 0 auto;\">\n",
       "            <p><strong><a href=\"https://searchcaster.xyz/search?merkleRoot=0xc4e284bc8c1ac21ad42b44b975a4dfc42bc32f30\" target=\"_blank\">merkleRoot</a></strong></p>\n",
       "            <p><strong>@dwr · fid 3</strong></p>\n",
       "            <div style=\"word-wrap: break-word; margin: 10px 0;\">It's a hell of a week when US midterm elections are only the third biggest story.</div>\n",
       "    <p style=\"color: purple; margin: 10px 0 0;\">&#x1F49C; 77 <span style=\"margin-left: 5px; margin-top: 10px;\">&#x1F4AC; 4</span></p></div></div>"
      ],
      "text/plain": [
       "<IPython.core.display.HTML object>"
      ]
     },
     "metadata": {},
     "output_type": "display_data"
    },
    {
     "data": {
      "text/html": [
       "\n",
       "    <div style=\"border: 1px solid #ccc; max-width: 600px; padding: 25px; margin-bottom: 25px;\">\n",
       "        <div style=\"max-width: 550px; margin: 0 auto;\">\n",
       "            <p><strong><a href=\"https://searchcaster.xyz/search?merkleRoot=0x6151bb1ae2d74e212dc266c858f382d3115b184e\" target=\"_blank\">merkleRoot</a></strong></p>\n",
       "            <p><strong>@schwittlick · fid 4967</strong></p>\n",
       "            <div style=\"word-wrap: break-word; margin: 10px 0;\">gm everybody 🌞<br><br>Since I‘m new here I wanted to introduce myself. I do all kinds of art, mostly with vintage plotters. That‘s what I‘ll be sharing with you here.<br><br>So far I‘ve been involved with Tezos but I am getting into the Eth world a little more lately.<br><br><a href=\"https://schwittlick.net//\" target=\"_blank\">https://schwittlick.net//</a> <a href=\"https://i.imgur.com/fiubB\" target=\"_blank\">https://i.imgur.com/fiubB</a></div>\n",
       "    <p style=\"color: purple; margin: 10px 0 0;\">&#x1F49C; 73 <span style=\"margin-left: 5px; margin-top: 10px;\">&#x1F4AC; 13</span></p></div></div>"
      ],
      "text/plain": [
       "<IPython.core.display.HTML object>"
      ]
     },
     "metadata": {},
     "output_type": "display_data"
    },
    {
     "data": {
      "text/html": [
       "\n",
       "    <div style=\"border: 1px solid #ccc; max-width: 600px; padding: 25px; margin-bottom: 25px;\">\n",
       "        <div style=\"max-width: 550px; margin: 0 auto;\">\n",
       "            <p><strong><a href=\"https://searchcaster.xyz/search?merkleRoot=0xcbab08d8f59a1a0f06ffb02437c48fba1cf324c8\" target=\"_blank\">merkleRoot</a></strong></p>\n",
       "            <p><strong>@greg · fid 347</strong></p>\n",
       "            <div style=\"word-wrap: break-word; margin: 10px 0;\">Just saw the new Dalle API and wanted to give it a try, so I added it to 🤖. Cast \"@ bot imagine {prompt}\" and you should get a response in < 20 seconds:<br><br>@bot imagine a young man with curly hair, wearing a hoodie, coding on his laptop while traveling across Switzerland by train with mountains out the window</div>\n",
       "    <p style=\"color: purple; margin: 10px 0 0;\">&#x1F49C; 71 <span style=\"margin-left: 5px; margin-top: 10px;\">&#x1F4AC; 31</span></p></div></div>"
      ],
      "text/plain": [
       "<IPython.core.display.HTML object>"
      ]
     },
     "metadata": {},
     "output_type": "display_data"
    },
    {
     "data": {
      "text/html": [
       "\n",
       "    <div style=\"border: 1px solid #ccc; max-width: 600px; padding: 25px; margin-bottom: 25px;\">\n",
       "        <div style=\"max-width: 550px; margin: 0 auto;\">\n",
       "            <p><strong><a href=\"https://searchcaster.xyz/search?merkleRoot=0xc9eea36cc2114bc5aa7b91643f6b404ccec89cfe\" target=\"_blank\">merkleRoot</a></strong></p>\n",
       "            <p><strong>@ccarella · fid 472</strong></p>\n",
       "            <div style=\"word-wrap: break-word; margin: 10px 0;\">I got access to Rewind.ai and its totally mindblowing. <br>@stammy 👏👏👏</div>\n",
       "    <p style=\"color: purple; margin: 10px 0 0;\">&#x1F49C; 67 <span style=\"margin-left: 5px; margin-top: 10px;\">&#x1F4AC; 18</span></p></div></div>"
      ],
      "text/plain": [
       "<IPython.core.display.HTML object>"
      ]
     },
     "metadata": {},
     "output_type": "display_data"
    },
    {
     "data": {
      "text/html": [
       "\n",
       "    <div style=\"border: 1px solid #ccc; max-width: 600px; padding: 25px; margin-bottom: 25px;\">\n",
       "        <div style=\"max-width: 550px; margin: 0 auto;\">\n",
       "            <p><strong><a href=\"https://searchcaster.xyz/search?merkleRoot=0xd372d777e6bd551992ef994c470c135110278313\" target=\"_blank\">merkleRoot</a></strong></p>\n",
       "            <p><strong>@fredwilson · fid 169</strong></p>\n",
       "            <div style=\"word-wrap: break-word; margin: 10px 0;\">NFT creator royalties are incredibly important and there are clouds on the horizon that concern me. I talked about this today. <a href=\"https://avc.mirror.xyz/ZtJmyJB_nSscJ9uYjyrHhNMkKs6cLl7lQUvrl614BQc\" target=\"_blank\">https://avc.mirror.xyz/ZtJmyJB_nSscJ9uYjyrHhNMkKs6cLl7lQUvrl614BQc</a></div>\n",
       "    <p style=\"color: purple; margin: 10px 0 0;\">&#x1F49C; 65 <span style=\"margin-left: 5px; margin-top: 10px;\">&#x1F4AC; 12</span></p></div></div>"
      ],
      "text/plain": [
       "<IPython.core.display.HTML object>"
      ]
     },
     "metadata": {},
     "output_type": "display_data"
    },
    {
     "data": {
      "text/html": [
       "\n",
       "    <div style=\"border: 1px solid #ccc; max-width: 600px; padding: 25px; margin-bottom: 25px;\">\n",
       "        <div style=\"max-width: 550px; margin: 0 auto;\">\n",
       "            <p><strong><a href=\"https://searchcaster.xyz/search?merkleRoot=0xcf2af97585667a135956339426b8641f78924f68\" target=\"_blank\">merkleRoot</a></strong></p>\n",
       "            <p><strong>@eddy · fid 48</strong></p>\n",
       "            <div style=\"word-wrap: break-word; margin: 10px 0;\">Farcaster early release: we’ve built an Ethereum light client called Helios. With this, you don’t need to trust the endpoint you query.<br><br>It’s written in Rust and can be compiled to be used in many contexts.<br><br>Contributions and feature suggestions welcome!<br><br><a href=\"https://a16zcrypto.com/building-helios-ethereum-light-clie\" target=\"_blank\">https://a16zcrypto.com/building-helios-ethereum-light-clie</a></div>\n",
       "    <p style=\"color: purple; margin: 10px 0 0;\">&#x1F49C; 63 <span style=\"margin-left: 5px; margin-top: 10px;\">&#x1F4AC; 7</span></p></div></div>"
      ],
      "text/plain": [
       "<IPython.core.display.HTML object>"
      ]
     },
     "metadata": {},
     "output_type": "display_data"
    },
    {
     "data": {
      "text/html": [
       "\n",
       "    <div style=\"border: 1px solid #ccc; max-width: 600px; padding: 25px; margin-bottom: 25px;\">\n",
       "        <div style=\"max-width: 550px; margin: 0 auto;\">\n",
       "            <p><strong><a href=\"https://searchcaster.xyz/search?merkleRoot=0xb39503f6573da1cb6e8aa5db7700b7904aeeed35\" target=\"_blank\">merkleRoot</a></strong></p>\n",
       "            <p><strong>@kc · fid 3085</strong></p>\n",
       "            <div style=\"word-wrap: break-word; margin: 10px 0;\">If World Wide Web was invented today, it would be a controversial idea. Anyone in the world can publish without moderation? The content can so easily be seen on any browser? How do you stop bad actors spreading misinformation? It gonna be the hellscape. It must be advancing Putin’s agenda.</div>\n",
       "    <p style=\"color: purple; margin: 10px 0 0;\">&#x1F49C; 62 <span style=\"margin-left: 5px; margin-top: 10px;\">&#x1F4AC; 8</span></p></div></div>"
      ],
      "text/plain": [
       "<IPython.core.display.HTML object>"
      ]
     },
     "metadata": {},
     "output_type": "display_data"
    },
    {
     "data": {
      "text/html": [
       "\n",
       "    <div style=\"border: 1px solid #ccc; max-width: 600px; padding: 25px; margin-bottom: 25px;\">\n",
       "        <div style=\"max-width: 550px; margin: 0 auto;\">\n",
       "            <p><strong><a href=\"https://searchcaster.xyz/search?merkleRoot=0x5601b8e4d2d303ba293f8963b7638a31a02f5bb7\" target=\"_blank\">merkleRoot</a></strong></p>\n",
       "            <p><strong>@3lau · fid 81</strong></p>\n",
       "            <div style=\"word-wrap: break-word; margin: 10px 0;\">fave meme of the day </div>\n",
       "    <div style=\"text-align: center;\"><img src=\"https://i.imgur.com/RTOiM8K.jpg\" style=\"max-width: 550px; margin-top: 10px;\"></div><p style=\"color: purple; margin: 10px 0 0;\">&#x1F49C; 56 <span style=\"margin-left: 5px; margin-top: 10px;\">&#x1F4AC; 1</span></p></div></div>"
      ],
      "text/plain": [
       "<IPython.core.display.HTML object>"
      ]
     },
     "metadata": {},
     "output_type": "display_data"
    },
    {
     "data": {
      "text/html": [
       "\n",
       "    <div style=\"border: 1px solid #ccc; max-width: 600px; padding: 25px; margin-bottom: 25px;\">\n",
       "        <div style=\"max-width: 550px; margin: 0 auto;\">\n",
       "            <p><strong><a href=\"https://searchcaster.xyz/search?merkleRoot=0x3b88d4223b422aac9fbcb00b92d02714be0263e1\" target=\"_blank\">merkleRoot</a></strong></p>\n",
       "            <p><strong>@fredwilson · fid 169</strong></p>\n",
       "            <div style=\"word-wrap: break-word; margin: 10px 0;\">Hello Farcasters. Here is some Ethiopian jazz to start your day with. <br><a href=\"https://on.soundcloud.com/bf5MC\" target=\"_blank\">https://on.soundcloud.com/bf5MC</a> (cc @aweissman )</div>\n",
       "    <p style=\"color: purple; margin: 10px 0 0;\">&#x1F49C; 55 <span style=\"margin-left: 5px; margin-top: 10px;\">&#x1F4AC; 10</span></p></div></div>"
      ],
      "text/plain": [
       "<IPython.core.display.HTML object>"
      ]
     },
     "metadata": {},
     "output_type": "display_data"
    },
    {
     "data": {
      "text/html": [
       "\n",
       "    <div style=\"border: 1px solid #ccc; max-width: 600px; padding: 25px; margin-bottom: 25px;\">\n",
       "        <div style=\"max-width: 550px; margin: 0 auto;\">\n",
       "            <p><strong><a href=\"https://searchcaster.xyz/search?merkleRoot=0x8f3e37bfa6ebe277a692f1165eefd7e09c2f54c6\" target=\"_blank\">merkleRoot</a></strong></p>\n",
       "            <p><strong>@dwr · fid 3</strong></p>\n",
       "            <div style=\"word-wrap: break-word; margin: 10px 0;\">Where do you find inspiration?</div>\n",
       "    <p style=\"color: purple; margin: 10px 0 0;\">&#x1F49C; 55 <span style=\"margin-left: 5px; margin-top: 10px;\">&#x1F4AC; 88</span></p></div></div>"
      ],
      "text/plain": [
       "<IPython.core.display.HTML object>"
      ]
     },
     "metadata": {},
     "output_type": "display_data"
    },
    {
     "data": {
      "text/html": [
       "\n",
       "    <div style=\"border: 1px solid #ccc; max-width: 600px; padding: 25px; margin-bottom: 25px;\">\n",
       "        <div style=\"max-width: 550px; margin: 0 auto;\">\n",
       "            <p><strong><a href=\"https://searchcaster.xyz/search?merkleRoot=0x26af683cf1d8ff8a72b38f4e21635328c0d2d5a5\" target=\"_blank\">merkleRoot</a></strong></p>\n",
       "            <p><strong>@hiten · fid 3524</strong></p>\n",
       "            <div style=\"word-wrap: break-word; margin: 10px 0;\">If you’re raising money right now or in early Q1 of 2023, shoot me a DC. I have a narrative and pitch deck guide to share, for free. It’ll teach you how to tell your story and turn it into an effective pitch deck. Hundreds of millions have been raised using the guide, I’m told.</div>\n",
       "    <p style=\"color: purple; margin: 10px 0 0;\">&#x1F49C; 55 <span style=\"margin-left: 5px; margin-top: 10px;\">&#x1F4AC; 28</span></p></div></div>"
      ],
      "text/plain": [
       "<IPython.core.display.HTML object>"
      ]
     },
     "metadata": {},
     "output_type": "display_data"
    },
    {
     "data": {
      "text/html": [
       "\n",
       "    <div style=\"border: 1px solid #ccc; max-width: 600px; padding: 25px; margin-bottom: 25px;\">\n",
       "        <div style=\"max-width: 550px; margin: 0 auto;\">\n",
       "            <p><strong><a href=\"https://searchcaster.xyz/search?merkleRoot=0x22a45b62f7ab96090c370f8f24f60e7facbd6958\" target=\"_blank\">merkleRoot</a></strong></p>\n",
       "            <p><strong>@ted · fid 239</strong></p>\n",
       "            <div style=\"word-wrap: break-word; margin: 10px 0;\">gm, which is yours?<br><br><br>shout out to wawa for the chart </div>\n",
       "    <div style=\"text-align: center;\"><img src=\"https://i.imgur.com/g5VButC.jpg\" style=\"max-width: 550px; margin-top: 10px;\"></div><p style=\"color: purple; margin: 10px 0 0;\">&#x1F49C; 55 <span style=\"margin-left: 5px; margin-top: 10px;\">&#x1F4AC; 41</span></p></div></div>"
      ],
      "text/plain": [
       "<IPython.core.display.HTML object>"
      ]
     },
     "metadata": {},
     "output_type": "display_data"
    },
    {
     "data": {
      "text/html": [
       "\n",
       "    <div style=\"border: 1px solid #ccc; max-width: 600px; padding: 25px; margin-bottom: 25px;\">\n",
       "        <div style=\"max-width: 550px; margin: 0 auto;\">\n",
       "            <p><strong><a href=\"https://searchcaster.xyz/search?merkleRoot=0x0ad3cc0b773996b8f69b9825e4639e5e4dc8abfb\" target=\"_blank\">merkleRoot</a></strong></p>\n",
       "            <p><strong>@nick · fid 108</strong></p>\n",
       "            <div style=\"word-wrap: break-word; margin: 10px 0;\">How are you doing today?</div>\n",
       "    <p style=\"color: purple; margin: 10px 0 0;\">&#x1F49C; 54 <span style=\"margin-left: 5px; margin-top: 10px;\">&#x1F4AC; 25</span></p></div></div>"
      ],
      "text/plain": [
       "<IPython.core.display.HTML object>"
      ]
     },
     "metadata": {},
     "output_type": "display_data"
    },
    {
     "data": {
      "text/html": [
       "\n",
       "    <div style=\"border: 1px solid #ccc; max-width: 600px; padding: 25px; margin-bottom: 25px;\">\n",
       "        <div style=\"max-width: 550px; margin: 0 auto;\">\n",
       "            <p><strong><a href=\"https://searchcaster.xyz/search?merkleRoot=0x35e5b70339b0cfbf7e3fc8944d0d052b9ea35297\" target=\"_blank\">merkleRoot</a></strong></p>\n",
       "            <p><strong>@dhof · fid 1102</strong></p>\n",
       "            <div style=\"word-wrap: break-word; margin: 10px 0;\">let's say you're building something that is likely a consumer thing one day but will be a developer thing for quite some time before that<br><br>what is your rollout strategy?</div>\n",
       "    <p style=\"color: purple; margin: 10px 0 0;\">&#x1F49C; 52 <span style=\"margin-left: 5px; margin-top: 10px;\">&#x1F4AC; 20</span></p></div></div>"
      ],
      "text/plain": [
       "<IPython.core.display.HTML object>"
      ]
     },
     "metadata": {},
     "output_type": "display_data"
    },
    {
     "data": {
      "text/html": [
       "\n",
       "    <div style=\"border: 1px solid #ccc; max-width: 600px; padding: 25px; margin-bottom: 25px;\">\n",
       "        <div style=\"max-width: 550px; margin: 0 auto;\">\n",
       "            <p><strong><a href=\"https://searchcaster.xyz/search?merkleRoot=0xcafad85ca66e067c06d7aed2b19228f391563ca1\" target=\"_blank\">merkleRoot</a></strong></p>\n",
       "            <p><strong>@hyperbad · fid 238</strong></p>\n",
       "            <div style=\"word-wrap: break-word; margin: 10px 0;\">\"This is our Lehman Brothers\" - crypto every 6 months</div>\n",
       "    <p style=\"color: purple; margin: 10px 0 0;\">&#x1F49C; 52 <span style=\"margin-left: 5px; margin-top: 10px;\">&#x1F4AC; 5</span></p></div></div>"
      ],
      "text/plain": [
       "<IPython.core.display.HTML object>"
      ]
     },
     "metadata": {},
     "output_type": "display_data"
    },
    {
     "data": {
      "text/html": [
       "\n",
       "    <div style=\"border: 1px solid #ccc; max-width: 600px; padding: 25px; margin-bottom: 25px;\">\n",
       "        <div style=\"max-width: 550px; margin: 0 auto;\">\n",
       "            <p><strong><a href=\"https://searchcaster.xyz/search?merkleRoot=0xf97fffc92a6ad30e295450619aef8d2efdf10405\" target=\"_blank\">merkleRoot</a></strong></p>\n",
       "            <p><strong>@dwr · fid 3</strong></p>\n",
       "            <div style=\"word-wrap: break-word; margin: 10px 0;\">It's bizarre that financial press still uses photos of anachronistic floor traders when talking about arbitrary market movements. </div>\n",
       "    <div style=\"text-align: center;\"><img src=\"https://i.imgur.com/KzqVbLv.png\" style=\"max-width: 550px; margin-top: 10px;\"></div><p style=\"color: purple; margin: 10px 0 0;\">&#x1F49C; 50 <span style=\"margin-left: 5px; margin-top: 10px;\">&#x1F4AC; 15</span></p></div></div>"
      ],
      "text/plain": [
       "<IPython.core.display.HTML object>"
      ]
     },
     "metadata": {},
     "output_type": "display_data"
    },
    {
     "data": {
      "text/html": [
       "\n",
       "    <div style=\"border: 1px solid #ccc; max-width: 600px; padding: 25px; margin-bottom: 25px;\">\n",
       "        <div style=\"max-width: 550px; margin: 0 auto;\">\n",
       "            <p><strong><a href=\"https://searchcaster.xyz/search?merkleRoot=0x323a0deb0b11e3e464e1003c9f6b1f8ec9eafd47\" target=\"_blank\">merkleRoot</a></strong></p>\n",
       "            <p><strong>@balajis · fid 37</strong></p>\n",
       "            <div style=\"word-wrap: break-word; margin: 10px 0;\">There’s a useful intermediate between “open protocol” and “closed API”.<br><br>That intermediate is “open source, open state, open execution, private keys”.<br><br>That’s a smart contract where you *do* retain the admin keys, but all state and execution are on-chain. Different than typical API with opaque server.<br><br></div>\n",
       "    <p style=\"color: purple; margin: 10px 0 0;\">&#x1F49C; 49 <span style=\"margin-left: 5px; margin-top: 10px;\">&#x1F4AC; 8</span></p></div></div>"
      ],
      "text/plain": [
       "<IPython.core.display.HTML object>"
      ]
     },
     "metadata": {},
     "output_type": "display_data"
    },
    {
     "data": {
      "text/html": [
       "\n",
       "    <div style=\"border: 1px solid #ccc; max-width: 600px; padding: 25px; margin-bottom: 25px;\">\n",
       "        <div style=\"max-width: 550px; margin: 0 auto;\">\n",
       "            <p><strong><a href=\"https://searchcaster.xyz/search?merkleRoot=0xde4d97706f4e368b71f0adbbded518ccd06eaa45\" target=\"_blank\">merkleRoot</a></strong></p>\n",
       "            <p><strong>@0xen · fid 528</strong></p>\n",
       "            <div style=\"word-wrap: break-word; margin: 10px 0;\">narrator: the assets, in fact, were not fine. </div>\n",
       "    <div style=\"text-align: center;\"><img src=\"https://i.imgur.com/FRThjcp.jpg\" style=\"max-width: 550px; margin-top: 10px;\"></div><p style=\"color: purple; margin: 10px 0 0;\">&#x1F49C; 49 <span style=\"margin-left: 5px; margin-top: 10px;\">&#x1F4AC; 6</span></p></div></div>"
      ],
      "text/plain": [
       "<IPython.core.display.HTML object>"
      ]
     },
     "metadata": {},
     "output_type": "display_data"
    },
    {
     "data": {
      "text/html": [
       "\n",
       "    <div style=\"border: 1px solid #ccc; max-width: 600px; padding: 25px; margin-bottom: 25px;\">\n",
       "        <div style=\"max-width: 550px; margin: 0 auto;\">\n",
       "            <p><strong><a href=\"https://searchcaster.xyz/search?merkleRoot=0x2d1819d266bdc096e5e39b7bdf806e9dfe0e41ff\" target=\"_blank\">merkleRoot</a></strong></p>\n",
       "            <p><strong>@matthew · fid 473</strong></p>\n",
       "            <div style=\"word-wrap: break-word; margin: 10px 0;\">FC meetup squad @jayce @meesh @briang @yanisme + anak (soon to be on FC) </div>\n",
       "    <div style=\"text-align: center;\"><img src=\"https://i.imgur.com/w45iCxT.jpg\" style=\"max-width: 550px; margin-top: 10px;\"></div><p style=\"color: purple; margin: 10px 0 0;\">&#x1F49C; 49 <span style=\"margin-left: 5px; margin-top: 10px;\">&#x1F4AC; 6</span></p></div></div>"
      ],
      "text/plain": [
       "<IPython.core.display.HTML object>"
      ]
     },
     "metadata": {},
     "output_type": "display_data"
    },
    {
     "data": {
      "text/html": [
       "\n",
       "    <div style=\"border: 1px solid #ccc; max-width: 600px; padding: 25px; margin-bottom: 25px;\">\n",
       "        <div style=\"max-width: 550px; margin: 0 auto;\">\n",
       "            <p><strong><a href=\"https://searchcaster.xyz/search?merkleRoot=0x0dd985d00a042ce408227be924240f65a49edc0d\" target=\"_blank\">merkleRoot</a></strong></p>\n",
       "            <p><strong>@v · fid 2</strong></p>\n",
       "            <div style=\"word-wrap: break-word; margin: 10px 0;\">hearing a lot of talk about proof-of-reserves for exchanges<br><br>can someone tl;dr how you do a proof of reserves from a truly cold wallet?</div>\n",
       "    <p style=\"color: purple; margin: 10px 0 0;\">&#x1F49C; 49 <span style=\"margin-left: 5px; margin-top: 10px;\">&#x1F4AC; 9</span></p></div></div>"
      ],
      "text/plain": [
       "<IPython.core.display.HTML object>"
      ]
     },
     "metadata": {},
     "output_type": "display_data"
    },
    {
     "data": {
      "text/html": [
       "\n",
       "    <div style=\"border: 1px solid #ccc; max-width: 600px; padding: 25px; margin-bottom: 25px;\">\n",
       "        <div style=\"max-width: 550px; margin: 0 auto;\">\n",
       "            <p><strong><a href=\"https://searchcaster.xyz/search?merkleRoot=0x03fa3ef92a9819ed31680f62469485d4dd101b7f\" target=\"_blank\">merkleRoot</a></strong></p>\n",
       "            <p><strong>@giu · fid 124</strong></p>\n",
       "            <div style=\"word-wrap: break-word; margin: 10px 0;\">Let that sink in! 😂🤣 </div>\n",
       "    <div style=\"text-align: center;\"><img src=\"https://i.imgur.com/Kwoynf8.jpg\" style=\"max-width: 550px; margin-top: 10px;\"></div><p style=\"color: purple; margin: 10px 0 0;\">&#x1F49C; 49 <span style=\"margin-left: 5px; margin-top: 10px;\">&#x1F4AC; 7</span></p></div></div>"
      ],
      "text/plain": [
       "<IPython.core.display.HTML object>"
      ]
     },
     "metadata": {},
     "output_type": "display_data"
    },
    {
     "data": {
      "text/html": [
       "\n",
       "    <div style=\"border: 1px solid #ccc; max-width: 600px; padding: 25px; margin-bottom: 25px;\">\n",
       "        <div style=\"max-width: 550px; margin: 0 auto;\">\n",
       "            <p><strong><a href=\"https://searchcaster.xyz/search?merkleRoot=0x0db0c4001894464790b0e619aef4ef653ac9a8d1\" target=\"_blank\">merkleRoot</a></strong></p>\n",
       "            <p><strong>@zachterrell · fid 457</strong></p>\n",
       "            <div style=\"word-wrap: break-word; margin: 10px 0;\">*sips coffee* damn that's crazy<br> </div>\n",
       "    <div style=\"text-align: center;\"><img src=\"https://i.imgur.com/KgWLyB8.png\" style=\"max-width: 550px; margin-top: 10px;\"></div><p style=\"color: purple; margin: 10px 0 0;\">&#x1F49C; 48 <span style=\"margin-left: 5px; margin-top: 10px;\">&#x1F4AC; 10</span></p></div></div>"
      ],
      "text/plain": [
       "<IPython.core.display.HTML object>"
      ]
     },
     "metadata": {},
     "output_type": "display_data"
    },
    {
     "data": {
      "text/html": [
       "\n",
       "    <div style=\"border: 1px solid #ccc; max-width: 600px; padding: 25px; margin-bottom: 25px;\">\n",
       "        <div style=\"max-width: 550px; margin: 0 auto;\">\n",
       "            <p><strong><a href=\"https://searchcaster.xyz/search?merkleRoot=0xc893528f72bd94d239b931b0c2d5e8fd828e6a04\" target=\"_blank\">merkleRoot</a></strong></p>\n",
       "            <p><strong>@zachterrell · fid 457</strong></p>\n",
       "            <div style=\"word-wrap: break-word; margin: 10px 0;\"></div>\n",
       "    <div style=\"text-align: center;\"><img src=\"https://i.imgur.com/LfefOW3.jpg\" style=\"max-width: 550px; margin-top: 10px;\"></div><p style=\"color: purple; margin: 10px 0 0;\">&#x1F49C; 48 <span style=\"margin-left: 5px; margin-top: 10px;\">&#x1F4AC; 3</span></p></div></div>"
      ],
      "text/plain": [
       "<IPython.core.display.HTML object>"
      ]
     },
     "metadata": {},
     "output_type": "display_data"
    },
    {
     "data": {
      "text/html": [
       "\n",
       "    <div style=\"border: 1px solid #ccc; max-width: 600px; padding: 25px; margin-bottom: 25px;\">\n",
       "        <div style=\"max-width: 550px; margin: 0 auto;\">\n",
       "            <p><strong><a href=\"https://searchcaster.xyz/search?merkleRoot=0x1ff3668e8d9b9c9289476e57b08995093338a133\" target=\"_blank\">merkleRoot</a></strong></p>\n",
       "            <p><strong>@ace · fid 539</strong></p>\n",
       "            <div style=\"word-wrap: break-word; margin: 10px 0;\">what kind of product person are you? <br><br>I’m closer to 0 to 1, with a heavy focus on design. </div>\n",
       "    <div style=\"text-align: center;\"><img src=\"https://i.imgur.com/Zyy4L4O.jpg\" style=\"max-width: 550px; margin-top: 10px;\"></div><p style=\"color: purple; margin: 10px 0 0;\">&#x1F49C; 46 <span style=\"margin-left: 5px; margin-top: 10px;\">&#x1F4AC; 21</span></p></div></div>"
      ],
      "text/plain": [
       "<IPython.core.display.HTML object>"
      ]
     },
     "metadata": {},
     "output_type": "display_data"
    },
    {
     "data": {
      "text/html": [
       "\n",
       "    <div style=\"border: 1px solid #ccc; max-width: 600px; padding: 25px; margin-bottom: 25px;\">\n",
       "        <div style=\"max-width: 550px; margin: 0 auto;\">\n",
       "            <p><strong><a href=\"https://searchcaster.xyz/search?merkleRoot=0x0a22e9737b09aee13d7e723c8be80ad22c3d7541\" target=\"_blank\">merkleRoot</a></strong></p>\n",
       "            <p><strong>@brenner · fid 60</strong></p>\n",
       "            <div style=\"word-wrap: break-word; margin: 10px 0;\">Fasting for 24h to see if that helps my gut at all. gl to me</div>\n",
       "    <p style=\"color: purple; margin: 10px 0 0;\">&#x1F49C; 46 <span style=\"margin-left: 5px; margin-top: 10px;\">&#x1F4AC; 19</span></p></div></div>"
      ],
      "text/plain": [
       "<IPython.core.display.HTML object>"
      ]
     },
     "metadata": {},
     "output_type": "display_data"
    },
    {
     "data": {
      "text/html": [
       "\n",
       "    <div style=\"border: 1px solid #ccc; max-width: 600px; padding: 25px; margin-bottom: 25px;\">\n",
       "        <div style=\"max-width: 550px; margin: 0 auto;\">\n",
       "            <p><strong><a href=\"https://searchcaster.xyz/search?merkleRoot=0x68d0a88db29a3a2bc7edc893976de949e2d6897d\" target=\"_blank\">merkleRoot</a></strong></p>\n",
       "            <p><strong>@dwr · fid 3</strong></p>\n",
       "            <div style=\"word-wrap: break-word; margin: 10px 0;\">Growth rates aren't everything. </div>\n",
       "    <div style=\"text-align: center;\"><img src=\"https://i.imgur.com/k3B8k26.gif\" style=\"max-width: 550px; margin-top: 10px;\"></div><p style=\"color: purple; margin: 10px 0 0;\">&#x1F49C; 45 <span style=\"margin-left: 5px; margin-top: 10px;\">&#x1F4AC; 6</span></p></div></div>"
      ],
      "text/plain": [
       "<IPython.core.display.HTML object>"
      ]
     },
     "metadata": {},
     "output_type": "display_data"
    },
    {
     "data": {
      "text/html": [
       "\n",
       "    <div style=\"border: 1px solid #ccc; max-width: 600px; padding: 25px; margin-bottom: 25px;\">\n",
       "        <div style=\"max-width: 550px; margin: 0 auto;\">\n",
       "            <p><strong><a href=\"https://searchcaster.xyz/search?merkleRoot=0xb86854b39214b431f9561cd39abfef59bc9832a3\" target=\"_blank\">merkleRoot</a></strong></p>\n",
       "            <p><strong>@ncitron · fid 941</strong></p>\n",
       "            <div style=\"word-wrap: break-word; margin: 10px 0;\">Today we're announcing Helios, a fast, portable, and secure Ethereum light client written in Rust.<br><br>Helios syncs in two seconds, uses no storage, and provides trustless access to Ethereum.<br><br>Code: <a href=\"https://github.com/a16z/helios\" target=\"_blank\">https://github.com/a16z/helios</a><br><br>Post: a16zcrypto.com/building-helios-ethereum-light-clie</div>\n",
       "    <p style=\"color: purple; margin: 10px 0 0;\">&#x1F49C; 45 <span style=\"margin-left: 5px; margin-top: 10px;\">&#x1F4AC; 8</span></p></div></div>"
      ],
      "text/plain": [
       "<IPython.core.display.HTML object>"
      ]
     },
     "metadata": {},
     "output_type": "display_data"
    },
    {
     "data": {
      "text/html": [
       "\n",
       "    <div style=\"border: 1px solid #ccc; max-width: 600px; padding: 25px; margin-bottom: 25px;\">\n",
       "        <div style=\"max-width: 550px; margin: 0 auto;\">\n",
       "            <p><strong><a href=\"https://searchcaster.xyz/search?merkleRoot=0x96e1f9ec406c4c17aab2e9d714ad92433690864d\" target=\"_blank\">merkleRoot</a></strong></p>\n",
       "            <p><strong>@jofnd · fid 4744</strong></p>\n",
       "            <div style=\"word-wrap: break-word; margin: 10px 0;\">Just decided on taking flying classes after experiencing a wonderful flight on a single-engine private plane; can't wait to fly to my next hackathon/conference 😆 <br><br>Anyone ever took up/thought about taking up flying? </div>\n",
       "    <div style=\"text-align: center;\"><img src=\"https://i.imgur.com/TyhWgCi.jpg\" style=\"max-width: 550px; margin-top: 10px;\"></div><p style=\"color: purple; margin: 10px 0 0;\">&#x1F49C; 45 <span style=\"margin-left: 5px; margin-top: 10px;\">&#x1F4AC; 18</span></p></div></div>"
      ],
      "text/plain": [
       "<IPython.core.display.HTML object>"
      ]
     },
     "metadata": {},
     "output_type": "display_data"
    },
    {
     "data": {
      "text/html": [
       "\n",
       "    <div style=\"border: 1px solid #ccc; max-width: 600px; padding: 25px; margin-bottom: 25px;\">\n",
       "        <div style=\"max-width: 550px; margin: 0 auto;\">\n",
       "            <p><strong><a href=\"https://searchcaster.xyz/search?merkleRoot=0x6d218965cc33bcd79b21bf3d0f7b2f86281d9e53\" target=\"_blank\">merkleRoot</a></strong></p>\n",
       "            <p><strong>@davemorin · fid 642</strong></p>\n",
       "            <div style=\"word-wrap: break-word; margin: 10px 0;\">Never thought I would say this in the age of screen time parenting. Realized tonight that I much prefer my kids playing video games together in the same room than them playing ANY game online. It is actually social in a way no online game can possibly be.</div>\n",
       "    <p style=\"color: purple; margin: 10px 0 0;\">&#x1F49C; 45 <span style=\"margin-left: 5px; margin-top: 10px;\">&#x1F4AC; 9</span></p></div></div>"
      ],
      "text/plain": [
       "<IPython.core.display.HTML object>"
      ]
     },
     "metadata": {},
     "output_type": "display_data"
    },
    {
     "data": {
      "text/html": [
       "\n",
       "    <div style=\"border: 1px solid #ccc; max-width: 600px; padding: 25px; margin-bottom: 25px;\">\n",
       "        <div style=\"max-width: 550px; margin: 0 auto;\">\n",
       "            <p><strong><a href=\"https://searchcaster.xyz/search?merkleRoot=0x5d68daecee69964f93284091aeee2bbc0c02c747\" target=\"_blank\">merkleRoot</a></strong></p>\n",
       "            <p><strong>@ccarella · fid 472</strong></p>\n",
       "            <div style=\"word-wrap: break-word; margin: 10px 0;\">The core challenge of Lil Nouns is low governance engagement. There are 2K+ owners but only ~50 who vote. 3 of those 50 have many Lils and sway the vote. But those 3 are irrelevant and outnumbered if voter engagement was high.</div>\n",
       "    <p style=\"color: purple; margin: 10px 0 0;\">&#x1F49C; 44 <span style=\"margin-left: 5px; margin-top: 10px;\">&#x1F4AC; 19</span></p></div></div>"
      ],
      "text/plain": [
       "<IPython.core.display.HTML object>"
      ]
     },
     "metadata": {},
     "output_type": "display_data"
    },
    {
     "data": {
      "text/html": [
       "\n",
       "    <div style=\"border: 1px solid #ccc; max-width: 600px; padding: 25px; margin-bottom: 25px;\">\n",
       "        <div style=\"max-width: 550px; margin: 0 auto;\">\n",
       "            <p><strong><a href=\"https://searchcaster.xyz/search?merkleRoot=0xad8915d19762c33dc1a102a591f87f2c6adb8fea\" target=\"_blank\">merkleRoot</a></strong></p>\n",
       "            <p><strong>@dwr · fid 3</strong></p>\n",
       "            <div style=\"word-wrap: break-word; margin: 10px 0;\">Work in progress: <br><br>The challenge with quickly scaling a group -- whether it's a startup or a social network -- is if you are growing by X% per month (or XX% per month), the avg. tenure of the group is decreasing which means you're more likely to import norms / behaviors from other groups (startups or social networks)</div>\n",
       "    <p style=\"color: purple; margin: 10px 0 0;\">&#x1F49C; 43 <span style=\"margin-left: 5px; margin-top: 10px;\">&#x1F4AC; 9</span></p></div></div>"
      ],
      "text/plain": [
       "<IPython.core.display.HTML object>"
      ]
     },
     "metadata": {},
     "output_type": "display_data"
    },
    {
     "data": {
      "text/html": [
       "\n",
       "    <div style=\"border: 1px solid #ccc; max-width: 600px; padding: 25px; margin-bottom: 25px;\">\n",
       "        <div style=\"max-width: 550px; margin: 0 auto;\">\n",
       "            <p><strong><a href=\"https://searchcaster.xyz/search?merkleRoot=0xdf557dc9f885f419eb75bd906f319bb0e1dcb878\" target=\"_blank\">merkleRoot</a></strong></p>\n",
       "            <p><strong>@pushix · fid 359</strong></p>\n",
       "            <div style=\"word-wrap: break-word; margin: 10px 0;\">I've started using <a href=\"https://www.loom.com/\" target=\"_blank\">https://www.loom.com/</a> to make videos (for customers/coworkers, to show a new feature/bug, etc...), and I love it!<br><br>Making short videos with good defaults for cam + screen recording is one of those weird things that you never knew you wanted until you use it<br><br>loom maxi over here</div>\n",
       "    <p style=\"color: purple; margin: 10px 0 0;\">&#x1F49C; 43 <span style=\"margin-left: 5px; margin-top: 10px;\">&#x1F4AC; 14</span></p></div></div>"
      ],
      "text/plain": [
       "<IPython.core.display.HTML object>"
      ]
     },
     "metadata": {},
     "output_type": "display_data"
    },
    {
     "data": {
      "text/html": [
       "\n",
       "    <div style=\"border: 1px solid #ccc; max-width: 600px; padding: 25px; margin-bottom: 25px;\">\n",
       "        <div style=\"max-width: 550px; margin: 0 auto;\">\n",
       "            <p><strong><a href=\"https://searchcaster.xyz/search?merkleRoot=0x8467de589d91acb97c674025ad1d0d594badd106\" target=\"_blank\">merkleRoot</a></strong></p>\n",
       "            <p><strong>@juan · fid 1655</strong></p>\n",
       "            <div style=\"word-wrap: break-word; margin: 10px 0;\">Today is my first day at reNFT :)!!!!<br><br>Dummy hyped. <br><br>juan@renft.io</div>\n",
       "    <p style=\"color: purple; margin: 10px 0 0;\">&#x1F49C; 43 <span style=\"margin-left: 5px; margin-top: 10px;\">&#x1F4AC; 10</span></p></div></div>"
      ],
      "text/plain": [
       "<IPython.core.display.HTML object>"
      ]
     },
     "metadata": {},
     "output_type": "display_data"
    },
    {
     "data": {
      "text/html": [
       "\n",
       "    <div style=\"border: 1px solid #ccc; max-width: 600px; padding: 25px; margin-bottom: 25px;\">\n",
       "        <div style=\"max-width: 550px; margin: 0 auto;\">\n",
       "            <p><strong><a href=\"https://searchcaster.xyz/search?merkleRoot=0x8f64c29f0b39311af240e10139ffff228f625b16\" target=\"_blank\">merkleRoot</a></strong></p>\n",
       "            <p><strong>@nonlinear · fid 576</strong></p>\n",
       "            <div style=\"word-wrap: break-word; margin: 10px 0;\">gm another glooooomy day in seattle </div>\n",
       "    <div style=\"text-align: center;\"><img src=\"https://i.imgur.com/rTrh3xj.jpg\" style=\"max-width: 550px; margin-top: 10px;\"></div><p style=\"color: purple; margin: 10px 0 0;\">&#x1F49C; 43 <span style=\"margin-left: 5px; margin-top: 10px;\">&#x1F4AC; 10</span></p></div></div>"
      ],
      "text/plain": [
       "<IPython.core.display.HTML object>"
      ]
     },
     "metadata": {},
     "output_type": "display_data"
    },
    {
     "data": {
      "text/html": [
       "\n",
       "    <div style=\"border: 1px solid #ccc; max-width: 600px; padding: 25px; margin-bottom: 25px;\">\n",
       "        <div style=\"max-width: 550px; margin: 0 auto;\">\n",
       "            <p><strong><a href=\"https://searchcaster.xyz/search?merkleRoot=0x10e96d1d424af95b4a9811ed9144c66d7a3ab738\" target=\"_blank\">merkleRoot</a></strong></p>\n",
       "            <p><strong>@nyx · fid 217</strong></p>\n",
       "            <div style=\"word-wrap: break-word; margin: 10px 0;\">using my ledger feels like stress feeding a tamagotchi<br> </div>\n",
       "    <div style=\"text-align: center;\"><img src=\"https://i.imgur.com/gJ4Ubhf.png\" style=\"max-width: 550px; margin-top: 10px;\"></div><p style=\"color: purple; margin: 10px 0 0;\">&#x1F49C; 42 <span style=\"margin-left: 5px; margin-top: 10px;\">&#x1F4AC; 4</span></p></div></div>"
      ],
      "text/plain": [
       "<IPython.core.display.HTML object>"
      ]
     },
     "metadata": {},
     "output_type": "display_data"
    },
    {
     "data": {
      "text/html": [
       "\n",
       "    <div style=\"border: 1px solid #ccc; max-width: 600px; padding: 25px; margin-bottom: 25px;\">\n",
       "        <div style=\"max-width: 550px; margin: 0 auto;\">\n",
       "            <p><strong><a href=\"https://searchcaster.xyz/search?merkleRoot=0xe4a635712ef8ea48f94da655df6e82340c048678\" target=\"_blank\">merkleRoot</a></strong></p>\n",
       "            <p><strong>@pugson · fid 557</strong></p>\n",
       "            <div style=\"word-wrap: break-word; margin: 10px 0;\">november/december goal: fix my sleep </div>\n",
       "    <div style=\"text-align: center;\"><img src=\"https://i.imgur.com/ULoSYJ0.jpg\" style=\"max-width: 550px; margin-top: 10px;\"></div><p style=\"color: purple; margin: 10px 0 0;\">&#x1F49C; 42 <span style=\"margin-left: 5px; margin-top: 10px;\">&#x1F4AC; 17</span></p></div></div>"
      ],
      "text/plain": [
       "<IPython.core.display.HTML object>"
      ]
     },
     "metadata": {},
     "output_type": "display_data"
    },
    {
     "data": {
      "text/html": [
       "\n",
       "    <div style=\"border: 1px solid #ccc; max-width: 600px; padding: 25px; margin-bottom: 25px;\">\n",
       "        <div style=\"max-width: 550px; margin: 0 auto;\">\n",
       "            <p><strong><a href=\"https://searchcaster.xyz/search?merkleRoot=0x678b28d9b95e7f565defce57ac977ed94af71465\" target=\"_blank\">merkleRoot</a></strong></p>\n",
       "            <p><strong>@dwr · fid 3</strong></p>\n",
       "            <div style=\"word-wrap: break-word; margin: 10px 0;\">How to get verified on Farcaster :)<br><br><a href=\"https://farcasterxyz.notion.site/How-to-get-a-purple-checkmark-fb66f0cb0f5f4f24b699b8f288a2f14a\" target=\"_blank\">https://farcasterxyz.notion.site/How-to-get-a-purple-checkmark-fb66f0cb0f5f4f24b699b8f288a2f14a</a></div>\n",
       "    <p style=\"color: purple; margin: 10px 0 0;\">&#x1F49C; 41 <span style=\"margin-left: 5px; margin-top: 10px;\">&#x1F4AC; 10</span></p></div></div>"
      ],
      "text/plain": [
       "<IPython.core.display.HTML object>"
      ]
     },
     "metadata": {},
     "output_type": "display_data"
    },
    {
     "data": {
      "text/html": [
       "\n",
       "    <div style=\"border: 1px solid #ccc; max-width: 600px; padding: 25px; margin-bottom: 25px;\">\n",
       "        <div style=\"max-width: 550px; margin: 0 auto;\">\n",
       "            <p><strong><a href=\"https://searchcaster.xyz/search?merkleRoot=0xe8845dfa8316a3d5e0ea93c12b750bbe16d06f12\" target=\"_blank\">merkleRoot</a></strong></p>\n",
       "            <p><strong>@ccarella · fid 472</strong></p>\n",
       "            <div style=\"word-wrap: break-word; margin: 10px 0;\">⌐◨-◨  Congrats to ZORA for passing Nouns Proposal #167 to fund Nouns.build.</div>\n",
       "    <p style=\"color: purple; margin: 10px 0 0;\">&#x1F49C; 40 <span style=\"margin-left: 5px; margin-top: 10px;\">&#x1F4AC; 6</span></p></div></div>"
      ],
      "text/plain": [
       "<IPython.core.display.HTML object>"
      ]
     },
     "metadata": {},
     "output_type": "display_data"
    },
    {
     "data": {
      "text/html": [
       "\n",
       "    <div style=\"border: 1px solid #ccc; max-width: 600px; padding: 25px; margin-bottom: 25px;\">\n",
       "        <div style=\"max-width: 550px; margin: 0 auto;\">\n",
       "            <p><strong><a href=\"https://searchcaster.xyz/search?merkleRoot=0x85fded96cd27daa43bf6c65d171ee9d21784bb84\" target=\"_blank\">merkleRoot</a></strong></p>\n",
       "            <p><strong>@cameron · fid 617</strong></p>\n",
       "            <div style=\"word-wrap: break-word; margin: 10px 0;\">Finally feel good about this UX 🤌<br><br>Once I tweak for mobile it will be ready for some testing ✨<br><br>Anyone here like window shopping for NFTs? 👀 </div>\n",
       "    <div style=\"text-align: center;\"><img src=\"https://i.imgur.com/9na1wiv.jpg\" style=\"max-width: 550px; margin-top: 10px;\"></div><p style=\"color: purple; margin: 10px 0 0;\">&#x1F49C; 39 <span style=\"margin-left: 5px; margin-top: 10px;\">&#x1F4AC; 8</span></p></div></div>"
      ],
      "text/plain": [
       "<IPython.core.display.HTML object>"
      ]
     },
     "metadata": {},
     "output_type": "display_data"
    },
    {
     "data": {
      "text/html": [
       "\n",
       "    <div style=\"border: 1px solid #ccc; max-width: 600px; padding: 25px; margin-bottom: 25px;\">\n",
       "        <div style=\"max-width: 550px; margin: 0 auto;\">\n",
       "            <p><strong><a href=\"https://searchcaster.xyz/search?merkleRoot=0x547c2bb025aacdcdcc20c7edce16cdc92d109eab\" target=\"_blank\">merkleRoot</a></strong></p>\n",
       "            <p><strong>@j4ck · fid 431</strong></p>\n",
       "            <div style=\"word-wrap: break-word; margin: 10px 0;\">i lifted weights with @tylerbenmark this morning for the first time since my senior year of high school<br><br>felt good. big thanks to him for asking my 8x until i came along 😂<br><br>how do you liftcasters maintain consistency and discipline??</div>\n",
       "    <p style=\"color: purple; margin: 10px 0 0;\">&#x1F49C; 39 <span style=\"margin-left: 5px; margin-top: 10px;\">&#x1F4AC; 37</span></p></div></div>"
      ],
      "text/plain": [
       "<IPython.core.display.HTML object>"
      ]
     },
     "metadata": {},
     "output_type": "display_data"
    },
    {
     "data": {
      "text/html": [
       "\n",
       "    <div style=\"border: 1px solid #ccc; max-width: 600px; padding: 25px; margin-bottom: 25px;\">\n",
       "        <div style=\"max-width: 550px; margin: 0 auto;\">\n",
       "            <p><strong><a href=\"https://searchcaster.xyz/search?merkleRoot=0xba9d7bffd9b56b115ff46676819d78436504bdee\" target=\"_blank\">merkleRoot</a></strong></p>\n",
       "            <p><strong>@nick · fid 108</strong></p>\n",
       "            <div style=\"word-wrap: break-word; margin: 10px 0;\">Wild day. AMA</div>\n",
       "    <p style=\"color: purple; margin: 10px 0 0;\">&#x1F49C; 38 <span style=\"margin-left: 5px; margin-top: 10px;\">&#x1F4AC; 12</span></p></div></div>"
      ],
      "text/plain": [
       "<IPython.core.display.HTML object>"
      ]
     },
     "metadata": {},
     "output_type": "display_data"
    },
    {
     "data": {
      "text/html": [
       "\n",
       "    <div style=\"border: 1px solid #ccc; max-width: 600px; padding: 25px; margin-bottom: 25px;\">\n",
       "        <div style=\"max-width: 550px; margin: 0 auto;\">\n",
       "            <p><strong><a href=\"https://searchcaster.xyz/search?merkleRoot=0x315c5000b56114546f1eb3762e4f4946cb410b66\" target=\"_blank\">merkleRoot</a></strong></p>\n",
       "            <p><strong>@dwr · fid 3</strong></p>\n",
       "            <div style=\"word-wrap: break-word; margin: 10px 0;\">Glimpse into how AI-powered creative tools are going to increase productivity.<br><br><a href=\"https://twitter.com/matthieurouif/status/1589539286814461953\" target=\"_blank\">https://twitter.com/matthieurouif/status/1589539286814461953</a></div>\n",
       "    <p style=\"color: purple; margin: 10px 0 0;\">&#x1F49C; 38 <span style=\"margin-left: 5px; margin-top: 10px;\">&#x1F4AC; 5</span></p></div></div>"
      ],
      "text/plain": [
       "<IPython.core.display.HTML object>"
      ]
     },
     "metadata": {},
     "output_type": "display_data"
    },
    {
     "data": {
      "text/html": [
       "\n",
       "    <div style=\"border: 1px solid #ccc; max-width: 600px; padding: 25px; margin-bottom: 25px;\">\n",
       "        <div style=\"max-width: 550px; margin: 0 auto;\">\n",
       "            <p><strong><a href=\"https://searchcaster.xyz/search?merkleRoot=0x51eed70551d35a8c50ac4250c3a7361c45cc9c54\" target=\"_blank\">merkleRoot</a></strong></p>\n",
       "            <p><strong>@kiyo · fid 689</strong></p>\n",
       "            <div style=\"word-wrap: break-word; margin: 10px 0;\">gm, coffee lovers<br><br>what is your favorite coffee grinder?<br><br>i've tried a lot, but my current best under $300 is Baratza Encore. this is one of the bestsellers in Japan too, OEMed by Melitta as VARIO-E </div>\n",
       "    <div style=\"text-align: center;\"><img src=\"https://i.imgur.com/NmHrtBy.png\" style=\"max-width: 550px; margin-top: 10px;\"></div><p style=\"color: purple; margin: 10px 0 0;\">&#x1F49C; 38 <span style=\"margin-left: 5px; margin-top: 10px;\">&#x1F4AC; 29</span></p></div></div>"
      ],
      "text/plain": [
       "<IPython.core.display.HTML object>"
      ]
     },
     "metadata": {},
     "output_type": "display_data"
    },
    {
     "data": {
      "text/html": [
       "\n",
       "    <div style=\"border: 1px solid #ccc; max-width: 600px; padding: 25px; margin-bottom: 25px;\">\n",
       "        <div style=\"max-width: 550px; margin: 0 auto;\">\n",
       "            <p><strong><a href=\"https://searchcaster.xyz/search?merkleRoot=0x1eb4d28f3c7de645813a2f3443e3d69e6051f4f3\" target=\"_blank\">merkleRoot</a></strong></p>\n",
       "            <p><strong>@vgr · fid 4606</strong></p>\n",
       "            <div style=\"word-wrap: break-word; margin: 10px 0;\">First attempt at biriyani. Not bad but definitely room for improvement. </div>\n",
       "    <div style=\"text-align: center;\"><img src=\"https://i.imgur.com/KgcjFvf.jpg\" style=\"max-width: 550px; margin-top: 10px;\"></div><p style=\"color: purple; margin: 10px 0 0;\">&#x1F49C; 38 <span style=\"margin-left: 5px; margin-top: 10px;\">&#x1F4AC; 13</span></p></div></div>"
      ],
      "text/plain": [
       "<IPython.core.display.HTML object>"
      ]
     },
     "metadata": {},
     "output_type": "display_data"
    },
    {
     "data": {
      "text/html": [
       "\n",
       "    <div style=\"border: 1px solid #ccc; max-width: 600px; padding: 25px; margin-bottom: 25px;\">\n",
       "        <div style=\"max-width: 550px; margin: 0 auto;\">\n",
       "            <p><strong><a href=\"https://searchcaster.xyz/search?merkleRoot=0x70a1371e3a9f0c5b0fa1295516b3088dbf66376a\" target=\"_blank\">merkleRoot</a></strong></p>\n",
       "            <p><strong>@jc · fid 251</strong></p>\n",
       "            <div style=\"word-wrap: break-word; margin: 10px 0;\">Many were skeptical of cameras on phones in 2001, not a surprise they are skeptical of VR, the nature of humanity.<br><br><a href=\"https://www.youtube.com/watch?v=6ywODcJ8yu8\" target=\"_blank\">https://www.youtube.com/watch?v=6ywODcJ8yu8</a></div>\n",
       "    <p style=\"color: purple; margin: 10px 0 0;\">&#x1F49C; 37 <span style=\"margin-left: 5px; margin-top: 10px;\">&#x1F4AC; 6</span></p></div></div>"
      ],
      "text/plain": [
       "<IPython.core.display.HTML object>"
      ]
     },
     "metadata": {},
     "output_type": "display_data"
    },
    {
     "data": {
      "text/html": [
       "\n",
       "    <div style=\"border: 1px solid #ccc; max-width: 600px; padding: 25px; margin-bottom: 25px;\">\n",
       "        <div style=\"max-width: 550px; margin: 0 auto;\">\n",
       "            <p><strong><a href=\"https://searchcaster.xyz/search?merkleRoot=0x87f45f13bcb458c861da9eea6c0d7e00bbed8b7b\" target=\"_blank\">merkleRoot</a></strong></p>\n",
       "            <p><strong>@zen · fid 4909</strong></p>\n",
       "            <div style=\"word-wrap: break-word; margin: 10px 0;\">gm</div>\n",
       "    <p style=\"color: purple; margin: 10px 0 0;\">&#x1F49C; 36 <span style=\"margin-left: 5px; margin-top: 10px;\">&#x1F4AC; 8</span></p></div></div>"
      ],
      "text/plain": [
       "<IPython.core.display.HTML object>"
      ]
     },
     "metadata": {},
     "output_type": "display_data"
    },
    {
     "data": {
      "text/html": [
       "\n",
       "    <div style=\"border: 1px solid #ccc; max-width: 600px; padding: 25px; margin-bottom: 25px;\">\n",
       "        <div style=\"max-width: 550px; margin: 0 auto;\">\n",
       "            <p><strong><a href=\"https://searchcaster.xyz/search?merkleRoot=0x5d5ac12273676467429c46957d090b7b2e243e75\" target=\"_blank\">merkleRoot</a></strong></p>\n",
       "            <p><strong>@fredwilson · fid 169</strong></p>\n",
       "            <div style=\"word-wrap: break-word; margin: 10px 0;\">The view of Paris from the top of the Pompidou Museum is my favorite </div>\n",
       "    <div style=\"text-align: center;\"><img src=\"https://i.imgur.com/SAFDnp6.jpg\" style=\"max-width: 550px; margin-top: 10px;\"></div><p style=\"color: purple; margin: 10px 0 0;\">&#x1F49C; 36 <span style=\"margin-left: 5px; margin-top: 10px;\">&#x1F4AC; 8</span></p></div></div>"
      ],
      "text/plain": [
       "<IPython.core.display.HTML object>"
      ]
     },
     "metadata": {},
     "output_type": "display_data"
    },
    {
     "data": {
      "text/html": [
       "\n",
       "    <div style=\"border: 1px solid #ccc; max-width: 600px; padding: 25px; margin-bottom: 25px;\">\n",
       "        <div style=\"max-width: 550px; margin: 0 auto;\">\n",
       "            <p><strong><a href=\"https://searchcaster.xyz/search?merkleRoot=0x66c45bdcdd4690a4829fa0ffb95ad1fad51f8ba6\" target=\"_blank\">merkleRoot</a></strong></p>\n",
       "            <p><strong>@dwr · fid 3</strong></p>\n",
       "            <div style=\"word-wrap: break-word; margin: 10px 0;\">Welcome to all of the recent arrivals to Farcaster!<br><br>Here's a good place to start:<br><br><a href=\"https://farcasterxyz.notion.site/Farcaster-screenshot-essays-dae3d2a2a1484d1f89691399dd47c0fc\" target=\"_blank\">https://farcasterxyz.notion.site/Farcaster-screenshot-essays-dae3d2a2a1484d1f89691399dd47c0fc</a></div>\n",
       "    <p style=\"color: purple; margin: 10px 0 0;\">&#x1F49C; 35 <span style=\"margin-left: 5px; margin-top: 10px;\">&#x1F4AC; 2</span></p></div></div>"
      ],
      "text/plain": [
       "<IPython.core.display.HTML object>"
      ]
     },
     "metadata": {},
     "output_type": "display_data"
    },
    {
     "data": {
      "text/html": [
       "\n",
       "    <div style=\"border: 1px solid #ccc; max-width: 600px; padding: 25px; margin-bottom: 25px;\">\n",
       "        <div style=\"max-width: 550px; margin: 0 auto;\">\n",
       "            <p><strong><a href=\"https://searchcaster.xyz/search?merkleRoot=0x313528506e740991c829d2194ed2647e7353ea77\" target=\"_blank\">merkleRoot</a></strong></p>\n",
       "            <p><strong>@pfista · fid 451</strong></p>\n",
       "            <div style=\"word-wrap: break-word; margin: 10px 0;\">I'm gonna try the building in public thing. Follow along here! </div>\n",
       "    <div style=\"text-align: center;\"><img src=\"https://i.imgur.com/Rn0LkRB.png\" style=\"max-width: 550px; margin-top: 10px;\"></div><p style=\"color: purple; margin: 10px 0 0;\">&#x1F49C; 35 <span style=\"margin-left: 5px; margin-top: 10px;\">&#x1F4AC; 37</span></p></div></div>"
      ],
      "text/plain": [
       "<IPython.core.display.HTML object>"
      ]
     },
     "metadata": {},
     "output_type": "display_data"
    },
    {
     "data": {
      "text/html": [
       "\n",
       "    <div style=\"border: 1px solid #ccc; max-width: 600px; padding: 25px; margin-bottom: 25px;\">\n",
       "        <div style=\"max-width: 550px; margin: 0 auto;\">\n",
       "            <p><strong><a href=\"https://searchcaster.xyz/search?merkleRoot=0xb631a9dd3ca431a24a80734bff249de65db16f43\" target=\"_blank\">merkleRoot</a></strong></p>\n",
       "            <p><strong>@n · fid 274</strong></p>\n",
       "            <div style=\"word-wrap: break-word; margin: 10px 0;\">As a 20s something, throughout my career I have only known <br><br>- low to no interest rate <br>- massive next-day VC fundings<br>- \"Growth mode\" pre-revenue startups with 500+ headcount<br><br>So how did the world work before?</div>\n",
       "    <p style=\"color: purple; margin: 10px 0 0;\">&#x1F49C; 35 <span style=\"margin-left: 5px; margin-top: 10px;\">&#x1F4AC; 10</span></p></div></div>"
      ],
      "text/plain": [
       "<IPython.core.display.HTML object>"
      ]
     },
     "metadata": {},
     "output_type": "display_data"
    },
    {
     "data": {
      "text/html": [
       "\n",
       "    <div style=\"border: 1px solid #ccc; max-width: 600px; padding: 25px; margin-bottom: 25px;\">\n",
       "        <div style=\"max-width: 550px; margin: 0 auto;\">\n",
       "            <p><strong><a href=\"https://searchcaster.xyz/search?merkleRoot=0xeb78ed1f502fd4504ad286f5d060d058fdcc24fa\" target=\"_blank\">merkleRoot</a></strong></p>\n",
       "            <p><strong>@franzi · fid 4190</strong></p>\n",
       "            <div style=\"word-wrap: break-word; margin: 10px 0;\">Want to work with me + other awesome humans? Say no more! 😉 We're looking for a project manager to join our team at the EF.<br>If you like versatile tasks, help teams execute on goals & foster a smooth work environment, this one is for you. ✨<br><a href=\"https://jobs.lever.co/ethereumfoundation/d58c7609-667c-4aee-a2c8-e3d91b3c55\" target=\"_blank\">https://jobs.lever.co/ethereumfoundation/d58c7609-667c-4aee-a2c8-e3d91b3c55</a></div>\n",
       "    <p style=\"color: purple; margin: 10px 0 0;\">&#x1F49C; 35 <span style=\"margin-left: 5px; margin-top: 10px;\">&#x1F4AC; 2</span></p></div></div>"
      ],
      "text/plain": [
       "<IPython.core.display.HTML object>"
      ]
     },
     "metadata": {},
     "output_type": "display_data"
    },
    {
     "data": {
      "text/html": [
       "\n",
       "    <div style=\"border: 1px solid #ccc; max-width: 600px; padding: 25px; margin-bottom: 25px;\">\n",
       "        <div style=\"max-width: 550px; margin: 0 auto;\">\n",
       "            <p><strong><a href=\"https://searchcaster.xyz/search?merkleRoot=0xf80ecd3c9098b5475075c16b0483d589c6f04e43\" target=\"_blank\">merkleRoot</a></strong></p>\n",
       "            <p><strong>@v · fid 2</strong></p>\n",
       "            <div style=\"word-wrap: break-word; margin: 10px 0;\">Sunday AMA! <br><br>Taking any questions about the Farcaster protocol, clients, @dwr or anything that's top of mind for you</div>\n",
       "    <p style=\"color: purple; margin: 10px 0 0;\">&#x1F49C; 35 <span style=\"margin-left: 5px; margin-top: 10px;\">&#x1F4AC; 30</span></p></div></div>"
      ],
      "text/plain": [
       "<IPython.core.display.HTML object>"
      ]
     },
     "metadata": {},
     "output_type": "display_data"
    },
    {
     "data": {
      "text/html": [
       "\n",
       "    <div style=\"border: 1px solid #ccc; max-width: 600px; padding: 25px; margin-bottom: 25px;\">\n",
       "        <div style=\"max-width: 550px; margin: 0 auto;\">\n",
       "            <p><strong><a href=\"https://searchcaster.xyz/search?merkleRoot=0x2adc7d8fc356d82d266b3a0a80c06d721d5e681f\" target=\"_blank\">merkleRoot</a></strong></p>\n",
       "            <p><strong>@ace · fid 539</strong></p>\n",
       "            <div style=\"word-wrap: break-word; margin: 10px 0;\">i love stumbling upon good founder stories. from 0 to 1. <br><br>which recent ones are your favorites?</div>\n",
       "    <p style=\"color: purple; margin: 10px 0 0;\">&#x1F49C; 35 <span style=\"margin-left: 5px; margin-top: 10px;\">&#x1F4AC; 16</span></p></div></div>"
      ],
      "text/plain": [
       "<IPython.core.display.HTML object>"
      ]
     },
     "metadata": {},
     "output_type": "display_data"
    },
    {
     "data": {
      "text/html": [
       "\n",
       "    <div style=\"border: 1px solid #ccc; max-width: 600px; padding: 25px; margin-bottom: 25px;\">\n",
       "        <div style=\"max-width: 550px; margin: 0 auto;\">\n",
       "            <p><strong><a href=\"https://searchcaster.xyz/search?merkleRoot=0x63441993c1dd8a833b53fa13feb6ef44aefbe104\" target=\"_blank\">merkleRoot</a></strong></p>\n",
       "            <p><strong>@linda · fid 12</strong></p>\n",
       "            <div style=\"word-wrap: break-word; margin: 10px 0;\">This is my favorite snack of all time. Anytime I find it in a Korean grocery store I always stock up </div>\n",
       "    <div style=\"text-align: center;\"><img src=\"https://i.imgur.com/1pijEbv.jpg\" style=\"max-width: 550px; margin-top: 10px;\"></div><p style=\"color: purple; margin: 10px 0 0;\">&#x1F49C; 34 <span style=\"margin-left: 5px; margin-top: 10px;\">&#x1F4AC; 9</span></p></div></div>"
      ],
      "text/plain": [
       "<IPython.core.display.HTML object>"
      ]
     },
     "metadata": {},
     "output_type": "display_data"
    },
    {
     "data": {
      "text/html": [
       "\n",
       "    <div style=\"border: 1px solid #ccc; max-width: 600px; padding: 25px; margin-bottom: 25px;\">\n",
       "        <div style=\"max-width: 550px; margin: 0 auto;\">\n",
       "            <p><strong><a href=\"https://searchcaster.xyz/search?merkleRoot=0x8d3d6919c9270a0186c34cfb6dfa8fedd983c54e\" target=\"_blank\">merkleRoot</a></strong></p>\n",
       "            <p><strong>@brenner · fid 60</strong></p>\n",
       "            <div style=\"word-wrap: break-word; margin: 10px 0;\">Really starting to appreciate Lindy-ness.<br><br>FTX came quick and out of nowhere (May 2019)<br>Coinbase has been around for *a decade* (June 2012)<br><br>I have definitely trusted Coinbase w my money more than FTX. I could never imagine Coinbase doing something that'd put them in the same position FTX is in</div>\n",
       "    <p style=\"color: purple; margin: 10px 0 0;\">&#x1F49C; 34 <span style=\"margin-left: 5px; margin-top: 10px;\">&#x1F4AC; 4</span></p></div></div>"
      ],
      "text/plain": [
       "<IPython.core.display.HTML object>"
      ]
     },
     "metadata": {},
     "output_type": "display_data"
    },
    {
     "data": {
      "text/html": [
       "\n",
       "    <div style=\"border: 1px solid #ccc; max-width: 600px; padding: 25px; margin-bottom: 25px;\">\n",
       "        <div style=\"max-width: 550px; margin: 0 auto;\">\n",
       "            <p><strong><a href=\"https://searchcaster.xyz/search?merkleRoot=0x8c3b899fb1a14141d165e7cc6abdcda4566dde3a\" target=\"_blank\">merkleRoot</a></strong></p>\n",
       "            <p><strong>@jacob · fid 8</strong></p>\n",
       "            <div style=\"word-wrap: break-word; margin: 10px 0;\">Tether is still an outstanding and systemic risk to crypto.</div>\n",
       "    <p style=\"color: purple; margin: 10px 0 0;\">&#x1F49C; 33 <span style=\"margin-left: 5px; margin-top: 10px;\">&#x1F4AC; 6</span></p></div></div>"
      ],
      "text/plain": [
       "<IPython.core.display.HTML object>"
      ]
     },
     "metadata": {},
     "output_type": "display_data"
    },
    {
     "data": {
      "text/html": [
       "\n",
       "    <div style=\"border: 1px solid #ccc; max-width: 600px; padding: 25px; margin-bottom: 25px;\">\n",
       "        <div style=\"max-width: 550px; margin: 0 auto;\">\n",
       "            <p><strong><a href=\"https://searchcaster.xyz/search?merkleRoot=0xd95d822a2e320f86eaae4829fbc2d2127521d5cb\" target=\"_blank\">merkleRoot</a></strong></p>\n",
       "            <p><strong>@mme · fid 5011</strong></p>\n",
       "            <div style=\"word-wrap: break-word; margin: 10px 0;\">I hate CORS !!!</div>\n",
       "    <p style=\"color: purple; margin: 10px 0 0;\">&#x1F49C; 33 <span style=\"margin-left: 5px; margin-top: 10px;\">&#x1F4AC; 11</span></p></div></div>"
      ],
      "text/plain": [
       "<IPython.core.display.HTML object>"
      ]
     },
     "metadata": {},
     "output_type": "display_data"
    },
    {
     "data": {
      "text/html": [
       "\n",
       "    <div style=\"border: 1px solid #ccc; max-width: 600px; padding: 25px; margin-bottom: 25px;\">\n",
       "        <div style=\"max-width: 550px; margin: 0 auto;\">\n",
       "            <p><strong><a href=\"https://searchcaster.xyz/search?merkleRoot=0xeab218ca6b8d4405d8657f6e76476fd7080cd3ad\" target=\"_blank\">merkleRoot</a></strong></p>\n",
       "            <p><strong>@fredwilson · fid 169</strong></p>\n",
       "            <div style=\"word-wrap: break-word; margin: 10px 0;\">We went to see the 18 year old French phenom Victor Wembanyana last night here in Paris </div>\n",
       "    <div style=\"text-align: center;\"><img src=\"https://i.imgur.com/AVMyPA5.jpg\" style=\"max-width: 550px; margin-top: 10px;\"></div><p style=\"color: purple; margin: 10px 0 0;\">&#x1F49C; 33 <span style=\"margin-left: 5px; margin-top: 10px;\">&#x1F4AC; 7</span></p></div></div>"
      ],
      "text/plain": [
       "<IPython.core.display.HTML object>"
      ]
     },
     "metadata": {},
     "output_type": "display_data"
    },
    {
     "data": {
      "text/html": [
       "\n",
       "    <div style=\"border: 1px solid #ccc; max-width: 600px; padding: 25px; margin-bottom: 25px;\">\n",
       "        <div style=\"max-width: 550px; margin: 0 auto;\">\n",
       "            <p><strong><a href=\"https://searchcaster.xyz/search?merkleRoot=0x2787fdb8d941e0251e0ca6e71ba17b579b2cc42f\" target=\"_blank\">merkleRoot</a></strong></p>\n",
       "            <p><strong>@tim · fid 207</strong></p>\n",
       "            <div style=\"word-wrap: break-word; margin: 10px 0;\">a few weeks post merge, devcon & covid, finally back at inbox \"0\" across everything 🧘gn!</div>\n",
       "    <p style=\"color: purple; margin: 10px 0 0;\">&#x1F49C; 33 <span style=\"margin-left: 5px; margin-top: 10px;\">&#x1F4AC; 3</span></p></div></div>"
      ],
      "text/plain": [
       "<IPython.core.display.HTML object>"
      ]
     },
     "metadata": {},
     "output_type": "display_data"
    },
    {
     "data": {
      "text/html": [
       "\n",
       "    <div style=\"border: 1px solid #ccc; max-width: 600px; padding: 25px; margin-bottom: 25px;\">\n",
       "        <div style=\"max-width: 550px; margin: 0 auto;\">\n",
       "            <p><strong><a href=\"https://searchcaster.xyz/search?merkleRoot=0x2d42c93a0b1232b6ffc450b4e2edb1edcc4ce56f\" target=\"_blank\">merkleRoot</a></strong></p>\n",
       "            <p><strong>@pushix · fid 359</strong></p>\n",
       "            <div style=\"word-wrap: break-word; margin: 10px 0;\">Just finished @w1nt3r 's class to build an EVM from scratch. It was super fun and I learned a ton, highly recommend!<br><br>cc @shriphani @borodutch @whatrocks some classmates 🚀  </div>\n",
       "    <div style=\"text-align: center;\"><img src=\"https://i.imgur.com/w1eQIzl.png\" style=\"max-width: 550px; margin-top: 10px;\"></div><p style=\"color: purple; margin: 10px 0 0;\">&#x1F49C; 33 <span style=\"margin-left: 5px; margin-top: 10px;\">&#x1F4AC; 4</span></p></div></div>"
      ],
      "text/plain": [
       "<IPython.core.display.HTML object>"
      ]
     },
     "metadata": {},
     "output_type": "display_data"
    },
    {
     "data": {
      "text/html": [
       "\n",
       "    <div style=\"border: 1px solid #ccc; max-width: 600px; padding: 25px; margin-bottom: 25px;\">\n",
       "        <div style=\"max-width: 550px; margin: 0 auto;\">\n",
       "            <p><strong><a href=\"https://searchcaster.xyz/search?merkleRoot=0x2e9cb6397734500775c30957ba1f17a5bbdb6bfa\" target=\"_blank\">merkleRoot</a></strong></p>\n",
       "            <p><strong>@ace · fid 539</strong></p>\n",
       "            <div style=\"word-wrap: break-word; margin: 10px 0;\">throwback from '15. 1y after I had quit my job. <br><br>$1 coin I picked up from the street was the only money I had made that year. <br><br>hard times. zero regrets. all the dogshit that wore me down made who i am today. not perfect, but good enough for me to love myself. </div>\n",
       "    <div style=\"text-align: center;\"><img src=\"https://i.imgur.com/fsKKa5p.png\" style=\"max-width: 550px; margin-top: 10px;\"></div><p style=\"color: purple; margin: 10px 0 0;\">&#x1F49C; 32 <span style=\"margin-left: 5px; margin-top: 10px;\">&#x1F4AC; 5</span></p></div></div>"
      ],
      "text/plain": [
       "<IPython.core.display.HTML object>"
      ]
     },
     "metadata": {},
     "output_type": "display_data"
    },
    {
     "data": {
      "text/html": [
       "\n",
       "    <div style=\"border: 1px solid #ccc; max-width: 600px; padding: 25px; margin-bottom: 25px;\">\n",
       "        <div style=\"max-width: 550px; margin: 0 auto;\">\n",
       "            <p><strong><a href=\"https://searchcaster.xyz/search?merkleRoot=0x652c927da31630511a13c12c1c910dcb54ac2f41\" target=\"_blank\">merkleRoot</a></strong></p>\n",
       "            <p><strong>@dcposch · fid 56</strong></p>\n",
       "            <div style=\"word-wrap: break-word; margin: 10px 0;\">In crypto, the gap between fuck around and find out is a short one</div>\n",
       "    <p style=\"color: purple; margin: 10px 0 0;\">&#x1F49C; 32 <span style=\"margin-left: 5px; margin-top: 10px;\">&#x1F4AC; 0</span></p></div></div>"
      ],
      "text/plain": [
       "<IPython.core.display.HTML object>"
      ]
     },
     "metadata": {},
     "output_type": "display_data"
    },
    {
     "data": {
      "text/html": [
       "\n",
       "    <div style=\"border: 1px solid #ccc; max-width: 600px; padding: 25px; margin-bottom: 25px;\">\n",
       "        <div style=\"max-width: 550px; margin: 0 auto;\">\n",
       "            <p><strong><a href=\"https://searchcaster.xyz/search?merkleRoot=0x0ac76c5fdc54b57c5999006ab10d9a812259b3f4\" target=\"_blank\">merkleRoot</a></strong></p>\n",
       "            <p><strong>@brianjckim · fid 426</strong></p>\n",
       "            <div style=\"word-wrap: break-word; margin: 10px 0;\">gm - first epl match </div>\n",
       "    <div style=\"text-align: center;\"><img src=\"https://i.imgur.com/yiEoZZ6.jpg\" style=\"max-width: 550px; margin-top: 10px;\"></div><p style=\"color: purple; margin: 10px 0 0;\">&#x1F49C; 32 <span style=\"margin-left: 5px; margin-top: 10px;\">&#x1F4AC; 2</span></p></div></div>"
      ],
      "text/plain": [
       "<IPython.core.display.HTML object>"
      ]
     },
     "metadata": {},
     "output_type": "display_data"
    },
    {
     "data": {
      "text/html": [
       "\n",
       "    <div style=\"border: 1px solid #ccc; max-width: 600px; padding: 25px; margin-bottom: 25px;\">\n",
       "        <div style=\"max-width: 550px; margin: 0 auto;\">\n",
       "            <p><strong><a href=\"https://searchcaster.xyz/search?merkleRoot=0xfc5db6d51315cc948cefd84ee30c2124dd203b84\" target=\"_blank\">merkleRoot</a></strong></p>\n",
       "            <p><strong>@dystopiabreaker · fid 4893</strong></p>\n",
       "            <div style=\"word-wrap: break-word; margin: 10px 0;\">i find mastodon and similar a bit annoying, because i think they’re doomed approaches that refuse to ack the platform/network dynamics that they compete with</div>\n",
       "    <p style=\"color: purple; margin: 10px 0 0;\">&#x1F49C; 32 <span style=\"margin-left: 5px; margin-top: 10px;\">&#x1F4AC; 4</span></p></div></div>"
      ],
      "text/plain": [
       "<IPython.core.display.HTML object>"
      ]
     },
     "metadata": {},
     "output_type": "display_data"
    },
    {
     "data": {
      "text/html": [
       "\n",
       "    <div style=\"border: 1px solid #ccc; max-width: 600px; padding: 25px; margin-bottom: 25px;\">\n",
       "        <div style=\"max-width: 550px; margin: 0 auto;\">\n",
       "            <p><strong><a href=\"https://searchcaster.xyz/search?merkleRoot=0x5ea2f46cf4c14521243b4bc9f1233d3044040993\" target=\"_blank\">merkleRoot</a></strong></p>\n",
       "            <p><strong>@ccarella · fid 472</strong></p>\n",
       "            <div style=\"word-wrap: break-word; margin: 10px 0;\">I have not been making a lot of art lately but I made this one over the weekend. Trying to capture Miami after my last few pieces were Colombia and Honduras. </div>\n",
       "    <div style=\"text-align: center;\"><img src=\"https://i.imgur.com/ybsyB9L.jpg\" style=\"max-width: 550px; margin-top: 10px;\"></div><p style=\"color: purple; margin: 10px 0 0;\">&#x1F49C; 32 <span style=\"margin-left: 5px; margin-top: 10px;\">&#x1F4AC; 4</span></p></div></div>"
      ],
      "text/plain": [
       "<IPython.core.display.HTML object>"
      ]
     },
     "metadata": {},
     "output_type": "display_data"
    },
    {
     "data": {
      "text/html": [
       "\n",
       "    <div style=\"border: 1px solid #ccc; max-width: 600px; padding: 25px; margin-bottom: 25px;\">\n",
       "        <div style=\"max-width: 550px; margin: 0 auto;\">\n",
       "            <p><strong><a href=\"https://searchcaster.xyz/search?merkleRoot=0x5caf1b4cbe6eea3ab0f4cde9027c8ad9fe32fd6d\" target=\"_blank\">merkleRoot</a></strong></p>\n",
       "            <p><strong>@emodi · fid 604</strong></p>\n",
       "            <div style=\"word-wrap: break-word; margin: 10px 0;\">Excited to share a FC beta of our no-code flow for creator-owned smart contracts + 721 minting<br><br>› Deploy to Eth or Polygon mainnet or testnet<br>› 1/1, 1/N or ∞ tokens<br>› Image, video, & music NFTs!<br>› Mint limits per wallet<br>› Beautifully designed mint pages 🤌<br>› Pair w our token-gating feature<br><br>tools.highli</div>\n",
       "    <p style=\"color: purple; margin: 10px 0 0;\">&#x1F49C; 32 <span style=\"margin-left: 5px; margin-top: 10px;\">&#x1F4AC; 6</span></p></div></div>"
      ],
      "text/plain": [
       "<IPython.core.display.HTML object>"
      ]
     },
     "metadata": {},
     "output_type": "display_data"
    },
    {
     "data": {
      "text/html": [
       "\n",
       "    <div style=\"border: 1px solid #ccc; max-width: 600px; padding: 25px; margin-bottom: 25px;\">\n",
       "        <div style=\"max-width: 550px; margin: 0 auto;\">\n",
       "            <p><strong><a href=\"https://searchcaster.xyz/search?merkleRoot=0xd8c9ff1a0859981866506ec83a0affff8fd7eaae\" target=\"_blank\">merkleRoot</a></strong></p>\n",
       "            <p><strong>@cryptogirls · fid 2163</strong></p>\n",
       "            <div style=\"word-wrap: break-word; margin: 10px 0;\">🖤🙏🥳 **Just finished writing a BIG article about Web 3.0 Social.**<br><br><a href=\"https://mirror.xyz/cryptogirlsdao.eth/QAew-FifPYFFjFXJXFDUv3bl1v4adYgyhRY8l2gWjlk\" target=\"_blank\">https://mirror.xyz/cryptogirlsdao.eth/QAew-FifPYFFjFXJXFDUv3bl1v4adYgyhRY8l2gWjlk</a></div>\n",
       "    <p style=\"color: purple; margin: 10px 0 0;\">&#x1F49C; 32 <span style=\"margin-left: 5px; margin-top: 10px;\">&#x1F4AC; 9</span></p></div></div>"
      ],
      "text/plain": [
       "<IPython.core.display.HTML object>"
      ]
     },
     "metadata": {},
     "output_type": "display_data"
    },
    {
     "data": {
      "text/html": [
       "\n",
       "    <div style=\"border: 1px solid #ccc; max-width: 600px; padding: 25px; margin-bottom: 25px;\">\n",
       "        <div style=\"max-width: 550px; margin: 0 auto;\">\n",
       "            <p><strong><a href=\"https://searchcaster.xyz/search?merkleRoot=0x96cdae3330a0ba43bccb8f810ee1a5782204b5cc\" target=\"_blank\">merkleRoot</a></strong></p>\n",
       "            <p><strong>@yitong · fid 101</strong></p>\n",
       "            <div style=\"word-wrap: break-word; margin: 10px 0;\">Fell from my bike right before my half ironman so couldn't do it in the end, but that didn't stop me from hanging with my two great friends as they crushed it!<br><br>Congrats @charliecf and Bask!!! 🏊🏻🚴🏻🏃🏻‍♂️ </div>\n",
       "    <div style=\"text-align: center;\"><img src=\"https://i.imgur.com/pIHMY5t.jpg\" style=\"max-width: 550px; margin-top: 10px;\"></div><p style=\"color: purple; margin: 10px 0 0;\">&#x1F49C; 32 <span style=\"margin-left: 5px; margin-top: 10px;\">&#x1F4AC; 2</span></p></div></div>"
      ],
      "text/plain": [
       "<IPython.core.display.HTML object>"
      ]
     },
     "metadata": {},
     "output_type": "display_data"
    },
    {
     "data": {
      "text/html": [
       "\n",
       "    <div style=\"border: 1px solid #ccc; max-width: 600px; padding: 25px; margin-bottom: 25px;\">\n",
       "        <div style=\"max-width: 550px; margin: 0 auto;\">\n",
       "            <p><strong><a href=\"https://searchcaster.xyz/search?merkleRoot=0x4cf5942cc7c8b1e9024f670a81f283784cbfe49b\" target=\"_blank\">merkleRoot</a></strong></p>\n",
       "            <p><strong>@jacob · fid 8</strong></p>\n",
       "            <div style=\"word-wrap: break-word; margin: 10px 0;\">I rewatched Virgil Abloh’s Harvard Talk again recently. <br><br>It’s an inspiring hour of insight and pragmatic advice on how to create your own language and signature, told through his explanation of his own practices of creating.<br><br>He made every but feel very accessible and possible. <br><br><a href=\"https://youtu.be/qie5VITX6eQ\" target=\"_blank\">https://youtu.be/qie5VITX6eQ</a></div>\n",
       "    <p style=\"color: purple; margin: 10px 0 0;\">&#x1F49C; 32 <span style=\"margin-left: 5px; margin-top: 10px;\">&#x1F4AC; 4</span></p></div></div>"
      ],
      "text/plain": [
       "<IPython.core.display.HTML object>"
      ]
     },
     "metadata": {},
     "output_type": "display_data"
    },
    {
     "data": {
      "text/html": [
       "\n",
       "    <div style=\"border: 1px solid #ccc; max-width: 600px; padding: 25px; margin-bottom: 25px;\">\n",
       "        <div style=\"max-width: 550px; margin: 0 auto;\">\n",
       "            <p><strong><a href=\"https://searchcaster.xyz/search?merkleRoot=0xfeb9ad84755c0b163a05db11b0ada50fb0b27c39\" target=\"_blank\">merkleRoot</a></strong></p>\n",
       "            <p><strong>@tim · fid 207</strong></p>\n",
       "            <div style=\"word-wrap: break-word; margin: 10px 0;\">extremely rare that I'd post a job opening, esp. if it's not for a core protocol role, but I think this is a very cool opportunity to work closely with @sinahab & get connected to some of the most interesting builders in crypto 👀<br><br><a href=\"https://www.zeitgeist.xyz/operations\" target=\"_blank\">https://www.zeitgeist.xyz/operations</a></div>\n",
       "    <p style=\"color: purple; margin: 10px 0 0;\">&#x1F49C; 32 <span style=\"margin-left: 5px; margin-top: 10px;\">&#x1F4AC; 4</span></p></div></div>"
      ],
      "text/plain": [
       "<IPython.core.display.HTML object>"
      ]
     },
     "metadata": {},
     "output_type": "display_data"
    },
    {
     "data": {
      "text/html": [
       "\n",
       "    <div style=\"border: 1px solid #ccc; max-width: 600px; padding: 25px; margin-bottom: 25px;\">\n",
       "        <div style=\"max-width: 550px; margin: 0 auto;\">\n",
       "            <p><strong><a href=\"https://searchcaster.xyz/search?merkleRoot=0x07b2a7d5e9cb791dc4ed48350a395b580017a1ad\" target=\"_blank\">merkleRoot</a></strong></p>\n",
       "            <p><strong>@jacobfranek · fid 4883</strong></p>\n",
       "            <div style=\"word-wrap: break-word; margin: 10px 0;\">Hey all!<br><br>New here. Curious how others are personally/professionally approaching Farcaster?<br><br>- Mirror/Duplicate Twitter content<br>- Focus on different content (e.g., conversations vs. broadcasting)<br>- Research/exploration<br>- Dating app<br>- Other?</div>\n",
       "    <p style=\"color: purple; margin: 10px 0 0;\">&#x1F49C; 32 <span style=\"margin-left: 5px; margin-top: 10px;\">&#x1F4AC; 20</span></p></div></div>"
      ],
      "text/plain": [
       "<IPython.core.display.HTML object>"
      ]
     },
     "metadata": {},
     "output_type": "display_data"
    },
    {
     "data": {
      "text/html": [
       "\n",
       "    <div style=\"border: 1px solid #ccc; max-width: 600px; padding: 25px; margin-bottom: 25px;\">\n",
       "        <div style=\"max-width: 550px; margin: 0 auto;\">\n",
       "            <p><strong><a href=\"https://searchcaster.xyz/search?merkleRoot=0x26330cb9235996d759c5ff65b4c5cbacffd00e0b\" target=\"_blank\">merkleRoot</a></strong></p>\n",
       "            <p><strong>@ajx · fid 594</strong></p>\n",
       "            <div style=\"word-wrap: break-word; margin: 10px 0;\">In other news I voted for the first time as a US citizen! (14 yrs since I moved here) </div>\n",
       "    <div style=\"text-align: center;\"><img src=\"https://i.imgur.com/k62hDBt.jpg\" style=\"max-width: 550px; margin-top: 10px;\"></div><p style=\"color: purple; margin: 10px 0 0;\">&#x1F49C; 32 <span style=\"margin-left: 5px; margin-top: 10px;\">&#x1F4AC; 4</span></p></div></div>"
      ],
      "text/plain": [
       "<IPython.core.display.HTML object>"
      ]
     },
     "metadata": {},
     "output_type": "display_data"
    },
    {
     "data": {
      "text/html": [
       "\n",
       "    <div style=\"border: 1px solid #ccc; max-width: 600px; padding: 25px; margin-bottom: 25px;\">\n",
       "        <div style=\"max-width: 550px; margin: 0 auto;\">\n",
       "            <p><strong><a href=\"https://searchcaster.xyz/search?merkleRoot=0xa292833f9ee6b15a1a3b59aad67dcfc2ba686d13\" target=\"_blank\">merkleRoot</a></strong></p>\n",
       "            <p><strong>@vm · fid 325</strong></p>\n",
       "            <div style=\"word-wrap: break-word; margin: 10px 0;\">things under $20 i've bought this year that have drastically improved my qol:<br><br>- slightly higher pressure shower head<br>- white noise machine<br>- eye mask for sleeping<br>- arch support orthotic insoles</div>\n",
       "    <p style=\"color: purple; margin: 10px 0 0;\">&#x1F49C; 31 <span style=\"margin-left: 5px; margin-top: 10px;\">&#x1F4AC; 11</span></p></div></div>"
      ],
      "text/plain": [
       "<IPython.core.display.HTML object>"
      ]
     },
     "metadata": {},
     "output_type": "display_data"
    },
    {
     "data": {
      "text/html": [
       "\n",
       "    <div style=\"border: 1px solid #ccc; max-width: 600px; padding: 25px; margin-bottom: 25px;\">\n",
       "        <div style=\"max-width: 550px; margin: 0 auto;\">\n",
       "            <p><strong><a href=\"https://searchcaster.xyz/search?merkleRoot=0x2adce46c78452a100ce9ab77915b45be1234b110\" target=\"_blank\">merkleRoot</a></strong></p>\n",
       "            <p><strong>@0xen · fid 528</strong></p>\n",
       "            <div style=\"word-wrap: break-word; margin: 10px 0;\">thinking about this cursed ad campaign this morning. </div>\n",
       "    <div style=\"text-align: center;\"><img src=\"https://i.imgur.com/GGu8qnA.jpg\" style=\"max-width: 550px; margin-top: 10px;\"></div><p style=\"color: purple; margin: 10px 0 0;\">&#x1F49C; 31 <span style=\"margin-left: 5px; margin-top: 10px;\">&#x1F4AC; 6</span></p></div></div>"
      ],
      "text/plain": [
       "<IPython.core.display.HTML object>"
      ]
     },
     "metadata": {},
     "output_type": "display_data"
    },
    {
     "data": {
      "text/html": [
       "\n",
       "    <div style=\"border: 1px solid #ccc; max-width: 600px; padding: 25px; margin-bottom: 25px;\">\n",
       "        <div style=\"max-width: 550px; margin: 0 auto;\">\n",
       "            <p><strong><a href=\"https://searchcaster.xyz/search?merkleRoot=0xcf6d647181f7837f413c9c597eec3110b73d6442\" target=\"_blank\">merkleRoot</a></strong></p>\n",
       "            <p><strong>@nick · fid 108</strong></p>\n",
       "            <div style=\"word-wrap: break-word; margin: 10px 0;\">Polymarket thriving, Kalshi and PredictIt dying. Bullish crypto prediction markets </div>\n",
       "    <div style=\"text-align: center;\"><img src=\"https://i.imgur.com/xxL9IFe.jpg\" style=\"max-width: 550px; margin-top: 10px;\"></div><p style=\"color: purple; margin: 10px 0 0;\">&#x1F49C; 31 <span style=\"margin-left: 5px; margin-top: 10px;\">&#x1F4AC; 8</span></p></div></div>"
      ],
      "text/plain": [
       "<IPython.core.display.HTML object>"
      ]
     },
     "metadata": {},
     "output_type": "display_data"
    },
    {
     "data": {
      "text/html": [
       "\n",
       "    <div style=\"border: 1px solid #ccc; max-width: 600px; padding: 25px; margin-bottom: 25px;\">\n",
       "        <div style=\"max-width: 550px; margin: 0 auto;\">\n",
       "            <p><strong><a href=\"https://searchcaster.xyz/search?merkleRoot=0xa4bbe2b59818730f95f8d82001a8e430adf22746\" target=\"_blank\">merkleRoot</a></strong></p>\n",
       "            <p><strong>@macbudkowski · fid 1048</strong></p>\n",
       "            <div style=\"word-wrap: break-word; margin: 10px 0;\">Something good coming out of this FTX drama. </div>\n",
       "    <div style=\"text-align: center;\"><img src=\"https://i.imgur.com/B40TeVL.png\" style=\"max-width: 550px; margin-top: 10px;\"></div><p style=\"color: purple; margin: 10px 0 0;\">&#x1F49C; 31 <span style=\"margin-left: 5px; margin-top: 10px;\">&#x1F4AC; 7</span></p></div></div>"
      ],
      "text/plain": [
       "<IPython.core.display.HTML object>"
      ]
     },
     "metadata": {},
     "output_type": "display_data"
    },
    {
     "data": {
      "text/html": [
       "\n",
       "    <div style=\"border: 1px solid #ccc; max-width: 600px; padding: 25px; margin-bottom: 25px;\">\n",
       "        <div style=\"max-width: 550px; margin: 0 auto;\">\n",
       "            <p><strong><a href=\"https://searchcaster.xyz/search?merkleRoot=0x8337161fe9316707d3c8288cae2539a2ce31031b\" target=\"_blank\">merkleRoot</a></strong></p>\n",
       "            <p><strong>@drew-coffman · fid 3895</strong></p>\n",
       "            <div style=\"word-wrap: break-word; margin: 10px 0;\">some days you just need to stream old weather channel software and listen to jazz </div>\n",
       "    <div style=\"text-align: center;\"><img src=\"https://i.imgur.com/oNwCGML.jpg\" style=\"max-width: 550px; margin-top: 10px;\"></div><p style=\"color: purple; margin: 10px 0 0;\">&#x1F49C; 31 <span style=\"margin-left: 5px; margin-top: 10px;\">&#x1F4AC; 8</span></p></div></div>"
      ],
      "text/plain": [
       "<IPython.core.display.HTML object>"
      ]
     },
     "metadata": {},
     "output_type": "display_data"
    },
    {
     "data": {
      "text/html": [
       "\n",
       "    <div style=\"border: 1px solid #ccc; max-width: 600px; padding: 25px; margin-bottom: 25px;\">\n",
       "        <div style=\"max-width: 550px; margin: 0 auto;\">\n",
       "            <p><strong><a href=\"https://searchcaster.xyz/search?merkleRoot=0x0f77c1b49c21d7869f6f8cf6f3a26dfe97b67e5d\" target=\"_blank\">merkleRoot</a></strong></p>\n",
       "            <p><strong>@wes · fid 3120</strong></p>\n",
       "            <div style=\"word-wrap: break-word; margin: 10px 0;\">Compiled an 8-page list of notes + references to capture the essence of the 8-hour @balajis x Lex Fridman convo<br><br>Hope you enjoy reading the notes as much as I did writing them🫡<br><br><a href=\"https://docs.google.com/document/d/1DkxyL8SF2bVTtyeIlSWNVgNuyKexeb7MZny_GpTAGSU/edit?usp=sharing\" target=\"_blank\">https://docs.google.com/document/d/1DkxyL8SF2bVTtyeIlSWNVgNuyKexeb7MZny_GpTAGSU/edit?usp=sharing</a></div>\n",
       "    <p style=\"color: purple; margin: 10px 0 0;\">&#x1F49C; 31 <span style=\"margin-left: 5px; margin-top: 10px;\">&#x1F4AC; 10</span></p></div></div>"
      ],
      "text/plain": [
       "<IPython.core.display.HTML object>"
      ]
     },
     "metadata": {},
     "output_type": "display_data"
    },
    {
     "data": {
      "text/html": [
       "\n",
       "    <div style=\"border: 1px solid #ccc; max-width: 600px; padding: 25px; margin-bottom: 25px;\">\n",
       "        <div style=\"max-width: 550px; margin: 0 auto;\">\n",
       "            <p><strong><a href=\"https://searchcaster.xyz/search?merkleRoot=0xaf43e3e33456af644b7aa0bc4594ca9c2af2dc3f\" target=\"_blank\">merkleRoot</a></strong></p>\n",
       "            <p><strong>@3lau · fid 81</strong></p>\n",
       "            <div style=\"word-wrap: break-word; margin: 10px 0;\">Thoughts on the “secondary royalty” debate.<br><br>1. They aren’t royalties they are secondary sales “commissions” - why tf did we ever mislabel them?<br><br>2. Everyone knew they weren’t enforceable on-chain yet the media narrative perpetuated that falsehood.<br><br>3. I guess this conceptually has PMF, centralization is th</div>\n",
       "    <p style=\"color: purple; margin: 10px 0 0;\">&#x1F49C; 31 <span style=\"margin-left: 5px; margin-top: 10px;\">&#x1F4AC; 6</span></p></div></div>"
      ],
      "text/plain": [
       "<IPython.core.display.HTML object>"
      ]
     },
     "metadata": {},
     "output_type": "display_data"
    },
    {
     "data": {
      "text/html": [
       "\n",
       "    <div style=\"border: 1px solid #ccc; max-width: 600px; padding: 25px; margin-bottom: 25px;\">\n",
       "        <div style=\"max-width: 550px; margin: 0 auto;\">\n",
       "            <p><strong><a href=\"https://searchcaster.xyz/search?merkleRoot=0xc5198e5ef77b9f5b8b7629eea235043b48fd54cf\" target=\"_blank\">merkleRoot</a></strong></p>\n",
       "            <p><strong>@cassie · fid 1325</strong></p>\n",
       "            <div style=\"word-wrap: break-word; margin: 10px 0;\">Just in time for the clocks to rewind, here's my next blog post on the future of crypto without blockchain.<br><br><a href=\"https://cassieheart.substack.com/p/slipping-the-surly-bonds-of-linearization\" target=\"_blank\">https://cassieheart.substack.com/p/slipping-the-surly-bonds-of-linearization</a></div>\n",
       "    <p style=\"color: purple; margin: 10px 0 0;\">&#x1F49C; 30 <span style=\"margin-left: 5px; margin-top: 10px;\">&#x1F4AC; 7</span></p></div></div>"
      ],
      "text/plain": [
       "<IPython.core.display.HTML object>"
      ]
     },
     "metadata": {},
     "output_type": "display_data"
    },
    {
     "data": {
      "text/html": [
       "\n",
       "    <div style=\"border: 1px solid #ccc; max-width: 600px; padding: 25px; margin-bottom: 25px;\">\n",
       "        <div style=\"max-width: 550px; margin: 0 auto;\">\n",
       "            <p><strong><a href=\"https://searchcaster.xyz/search?merkleRoot=0x5de3fa89def21b3f2d5074c7a0dc05dbe0ced9b8\" target=\"_blank\">merkleRoot</a></strong></p>\n",
       "            <p><strong>@giu · fid 124</strong></p>\n",
       "            <div style=\"word-wrap: break-word; margin: 10px 0;\">gm to every programmer out there!<br> </div>\n",
       "    <div style=\"text-align: center;\"><img src=\"https://i.imgur.com/iHVnHqp.jpg\" style=\"max-width: 550px; margin-top: 10px;\"></div><p style=\"color: purple; margin: 10px 0 0;\">&#x1F49C; 30 <span style=\"margin-left: 5px; margin-top: 10px;\">&#x1F4AC; 2</span></p></div></div>"
      ],
      "text/plain": [
       "<IPython.core.display.HTML object>"
      ]
     },
     "metadata": {},
     "output_type": "display_data"
    },
    {
     "data": {
      "text/html": [
       "\n",
       "    <div style=\"border: 1px solid #ccc; max-width: 600px; padding: 25px; margin-bottom: 25px;\">\n",
       "        <div style=\"max-width: 550px; margin: 0 auto;\">\n",
       "            <p><strong><a href=\"https://searchcaster.xyz/search?merkleRoot=0x1dc6297a85a8419e9df77813917c77601f215245\" target=\"_blank\">merkleRoot</a></strong></p>\n",
       "            <p><strong>@mags · fid 4836</strong></p>\n",
       "            <div style=\"word-wrap: break-word; margin: 10px 0;\">gm, if you don’t follow me on twitter-<br><br>i just launched Double Down, a $30m fund investing in mainstream adoption of web3 ($200-500k checks) & working w/ founders on marketing/branding/GTM 🚀<br><br>i released my fund deck as an NFT collection if you’d like to learn more :) <a href=\"https://opensea.io/collection/double-down-fun\" target=\"_blank\">https://opensea.io/collection/double-down-fun</a></div>\n",
       "    <p style=\"color: purple; margin: 10px 0 0;\">&#x1F49C; 30 <span style=\"margin-left: 5px; margin-top: 10px;\">&#x1F4AC; 8</span></p></div></div>"
      ],
      "text/plain": [
       "<IPython.core.display.HTML object>"
      ]
     },
     "metadata": {},
     "output_type": "display_data"
    },
    {
     "data": {
      "text/html": [
       "\n",
       "    <div style=\"border: 1px solid #ccc; max-width: 600px; padding: 25px; margin-bottom: 25px;\">\n",
       "        <div style=\"max-width: 550px; margin: 0 auto;\">\n",
       "            <p><strong><a href=\"https://searchcaster.xyz/search?merkleRoot=0x430cc1dbe5ec99ef8938093be8ef1905da151b2c\" target=\"_blank\">merkleRoot</a></strong></p>\n",
       "            <p><strong>@j4ck · fid 431</strong></p>\n",
       "            <div style=\"word-wrap: break-word; margin: 10px 0;\">people complaining about FC feeling different <br><br>change is the only constant <br><br>🌊🌊🌊</div>\n",
       "    <p style=\"color: purple; margin: 10px 0 0;\">&#x1F49C; 30 <span style=\"margin-left: 5px; margin-top: 10px;\">&#x1F4AC; 4</span></p></div></div>"
      ],
      "text/plain": [
       "<IPython.core.display.HTML object>"
      ]
     },
     "metadata": {},
     "output_type": "display_data"
    },
    {
     "data": {
      "text/html": [
       "\n",
       "    <div style=\"border: 1px solid #ccc; max-width: 600px; padding: 25px; margin-bottom: 25px;\">\n",
       "        <div style=\"max-width: 550px; margin: 0 auto;\">\n",
       "            <p><strong><a href=\"https://searchcaster.xyz/search?merkleRoot=0x0cae70522875941a1efdb9894fa0bd214bf79003\" target=\"_blank\">merkleRoot</a></strong></p>\n",
       "            <p><strong>@packy · fid 57</strong></p>\n",
       "            <div style=\"word-wrap: break-word; margin: 10px 0;\">slow news day</div>\n",
       "    <p style=\"color: purple; margin: 10px 0 0;\">&#x1F49C; 30 <span style=\"margin-left: 5px; margin-top: 10px;\">&#x1F4AC; 6</span></p></div></div>"
      ],
      "text/plain": [
       "<IPython.core.display.HTML object>"
      ]
     },
     "metadata": {},
     "output_type": "display_data"
    },
    {
     "data": {
      "text/html": [
       "\n",
       "    <div style=\"border: 1px solid #ccc; max-width: 600px; padding: 25px; margin-bottom: 25px;\">\n",
       "        <div style=\"max-width: 550px; margin: 0 auto;\">\n",
       "            <p><strong><a href=\"https://searchcaster.xyz/search?merkleRoot=0x2170c24017c7a377217035947e3ea14833bcebef\" target=\"_blank\">merkleRoot</a></strong></p>\n",
       "            <p><strong>@scharf · fid 134</strong></p>\n",
       "            <div style=\"word-wrap: break-word; margin: 10px 0;\">The danger of listening to incredibly smart and persuasive people is that they're often not paired up with a real intellectual sparring partner. <br><br>When you only hear one side of the argument presented well it's easy to believe that side when it might actually just be that that person is very good debating</div>\n",
       "    <p style=\"color: purple; margin: 10px 0 0;\">&#x1F49C; 29 <span style=\"margin-left: 5px; margin-top: 10px;\">&#x1F4AC; 4</span></p></div></div>"
      ],
      "text/plain": [
       "<IPython.core.display.HTML object>"
      ]
     },
     "metadata": {},
     "output_type": "display_data"
    },
    {
     "data": {
      "text/html": [
       "\n",
       "    <div style=\"border: 1px solid #ccc; max-width: 600px; padding: 25px; margin-bottom: 25px;\">\n",
       "        <div style=\"max-width: 550px; margin: 0 auto;\">\n",
       "            <p><strong><a href=\"https://searchcaster.xyz/search?merkleRoot=0x4dae4c764fcc8b706a3058ae78706edb1066bbd4\" target=\"_blank\">merkleRoot</a></strong></p>\n",
       "            <p><strong>@chrismccann · fid 5053</strong></p>\n",
       "            <div style=\"word-wrap: break-word; margin: 10px 0;\">hello world</div>\n",
       "    <p style=\"color: purple; margin: 10px 0 0;\">&#x1F49C; 29 <span style=\"margin-left: 5px; margin-top: 10px;\">&#x1F4AC; 13</span></p></div></div>"
      ],
      "text/plain": [
       "<IPython.core.display.HTML object>"
      ]
     },
     "metadata": {},
     "output_type": "display_data"
    },
    {
     "data": {
      "text/html": [
       "\n",
       "    <div style=\"border: 1px solid #ccc; max-width: 600px; padding: 25px; margin-bottom: 25px;\">\n",
       "        <div style=\"max-width: 550px; margin: 0 auto;\">\n",
       "            <p><strong><a href=\"https://searchcaster.xyz/search?merkleRoot=0x87a784989b0ec7878156aec8992b638a22d8e2b8\" target=\"_blank\">merkleRoot</a></strong></p>\n",
       "            <p><strong>@cameron · fid 617</strong></p>\n",
       "            <div style=\"word-wrap: break-word; margin: 10px 0;\">Gm<br><br>Excited to share a new, no risk way to explore NFTs!<br><br>Introducing WishLyst ✨<br><br>Filter, Explore, and Wish for NFTs that you love…but might not be able to collect just yet.<br><br>I’m showcasing the beautiful Crypto Coven project first and will expand if users like it<br><br>I appreciate any and all feedback 🫡<br>www.WishLy</div>\n",
       "    <p style=\"color: purple; margin: 10px 0 0;\">&#x1F49C; 29 <span style=\"margin-left: 5px; margin-top: 10px;\">&#x1F4AC; 4</span></p></div></div>"
      ],
      "text/plain": [
       "<IPython.core.display.HTML object>"
      ]
     },
     "metadata": {},
     "output_type": "display_data"
    },
    {
     "data": {
      "text/html": [
       "\n",
       "    <div style=\"border: 1px solid #ccc; max-width: 600px; padding: 25px; margin-bottom: 25px;\">\n",
       "        <div style=\"max-width: 550px; margin: 0 auto;\">\n",
       "            <p><strong><a href=\"https://searchcaster.xyz/search?merkleRoot=0x8dec80a139a26c144a374d1b30e14ce9d47d1110\" target=\"_blank\">merkleRoot</a></strong></p>\n",
       "            <p><strong>@cassie · fid 1325</strong></p>\n",
       "            <div style=\"word-wrap: break-word; margin: 10px 0;\"></div>\n",
       "    <div style=\"text-align: center;\"><img src=\"https://i.imgur.com/egjeLUK.jpg\" style=\"max-width: 550px; margin-top: 10px;\"></div><p style=\"color: purple; margin: 10px 0 0;\">&#x1F49C; 29 <span style=\"margin-left: 5px; margin-top: 10px;\">&#x1F4AC; 2</span></p></div></div>"
      ],
      "text/plain": [
       "<IPython.core.display.HTML object>"
      ]
     },
     "metadata": {},
     "output_type": "display_data"
    },
    {
     "data": {
      "text/html": [
       "\n",
       "    <div style=\"border: 1px solid #ccc; max-width: 600px; padding: 25px; margin-bottom: 25px;\">\n",
       "        <div style=\"max-width: 550px; margin: 0 auto;\">\n",
       "            <p><strong><a href=\"https://searchcaster.xyz/search?merkleRoot=0x4a7343ffde90afd8f577df996df5692fc8962bab\" target=\"_blank\">merkleRoot</a></strong></p>\n",
       "            <p><strong>@rish · fid 194</strong></p>\n",
       "            <div style=\"word-wrap: break-word; margin: 10px 0;\">don’t remember where I heard this but might have been at Coinbase<br><br>“Those who manage risk well lose until they win”</div>\n",
       "    <p style=\"color: purple; margin: 10px 0 0;\">&#x1F49C; 29 <span style=\"margin-left: 5px; margin-top: 10px;\">&#x1F4AC; 3</span></p></div></div>"
      ],
      "text/plain": [
       "<IPython.core.display.HTML object>"
      ]
     },
     "metadata": {},
     "output_type": "display_data"
    },
    {
     "data": {
      "text/html": [
       "\n",
       "    <div style=\"border: 1px solid #ccc; max-width: 600px; padding: 25px; margin-bottom: 25px;\">\n",
       "        <div style=\"max-width: 550px; margin: 0 auto;\">\n",
       "            <p><strong><a href=\"https://searchcaster.xyz/search?merkleRoot=0xd78866b59c09488fb74dfa3972e329c7adf7dad5\" target=\"_blank\">merkleRoot</a></strong></p>\n",
       "            <p><strong>@brenner · fid 60</strong></p>\n",
       "            <div style=\"word-wrap: break-word; margin: 10px 0;\">Hey Dad, what did you used to do for work?<br><br>Well, sometimes I had to figure out what service to use to optimize image sizes so the load times were reasonable. So basically manual labor</div>\n",
       "    <p style=\"color: purple; margin: 10px 0 0;\">&#x1F49C; 28 <span style=\"margin-left: 5px; margin-top: 10px;\">&#x1F4AC; 3</span></p></div></div>"
      ],
      "text/plain": [
       "<IPython.core.display.HTML object>"
      ]
     },
     "metadata": {},
     "output_type": "display_data"
    }
   ],
   "source": [
    "# TWLY: This Week Last Year - November 05 - November 11, 2022\n",
    "# Compiled using Farcaster-Indexer & Searchcaster \n",
    "\n",
    "https://github.com/gskril/farcaster-indexer\n",
    "https://searchcaster.xyz"
   ]
  }
 ],
 "metadata": {
  "kernelspec": {
   "display_name": "Python 3 (ipykernel)",
   "language": "python",
   "name": "python3"
  },
  "language_info": {
   "codemirror_mode": {
    "name": "ipython",
    "version": 3
   },
   "file_extension": ".py",
   "mimetype": "text/x-python",
   "name": "python",
   "nbconvert_exporter": "python",
   "pygments_lexer": "ipython3",
   "version": "3.9.13"
  }
 },
 "nbformat": 4,
 "nbformat_minor": 5
}
