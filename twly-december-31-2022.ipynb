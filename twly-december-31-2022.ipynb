{
 "cells": [
  {
   "cell_type": "markdown",
   "id": "784b1f6d",
   "metadata": {},
   "source": [
    "## OUTCASTERS SNAPSHOT 026"
   ]
  },
  {
   "cell_type": "markdown",
   "id": "398ad3ad",
   "metadata": {},
   "source": [
    "https://outcasters.xyz "
   ]
  },
  {
   "cell_type": "code",
   "execution_count": null,
   "id": "9a47ba7c",
   "metadata": {},
   "outputs": [],
   "source": [
    "# TWLY: This Week Last Year - December 31 2022 - January 06, 2023\n",
    "# Compiled using Farcaster-Indexer & Searchcaster \n",
    "\n",
    "https://github.com/gskril/farcaster-indexer\n",
    "https://searchcaster.xyz"
   ]
  },
  {
   "cell_type": "code",
   "execution_count": 2,
   "id": "6471faa5",
   "metadata": {
    "scrolled": false
   },
   "outputs": [
    {
     "data": {
      "text/html": [
       "\n",
       "    <div style=\"max-width: 600px; margin-bottom: 25px;\">\n",
       "        <h2 style=\"margin-bottom: 15px;\">Total Casts</h2>\n",
       "        <p style=\"font-size: 18x; margin: 5px 0 5px;\">Including Replies: 9042</p>\n",
       "        <p style=\"font-size: 18x; margin: 5px 0;\">Excluding Replies: 2913</p>\n",
       "    </div>\n"
      ],
      "text/plain": [
       "<IPython.core.display.HTML object>"
      ]
     },
     "metadata": {},
     "output_type": "display_data"
    },
    {
     "data": {
      "text/html": [
       "<h2>Top 30 Most Active Users (Excluding Replies)</h2>"
      ],
      "text/plain": [
       "<IPython.core.display.HTML object>"
      ]
     },
     "metadata": {},
     "output_type": "display_data"
    },
    {
     "data": {
      "text/html": [
       "<p>Only original casts are considered for this calculation. Replies are excluded.</p>"
      ],
      "text/plain": [
       "<IPython.core.display.HTML object>"
      ]
     },
     "metadata": {},
     "output_type": "display_data"
    },
    {
     "data": {
      "text/html": [
       "<ol><li>juan - 72 casts</li><li>alexanderchopan - 57 casts</li><li>vgr - 52 casts</li><li>pdr - 38 casts</li><li>timdaub - 37 casts</li><li>les - 36 casts</li><li>ace - 29 casts</li><li>dwr - 27 casts</li><li>giu - 26 casts</li><li>abc - 22 casts</li><li>ivy - 22 casts</li><li>samantha - 21 casts</li><li>0xen - 19 casts</li><li>borodutch - 18 casts</li><li>tg - 18 casts</li><li>prompterminal - 17 casts</li><li>preach - 16 casts</li><li>mk - 16 casts</li><li>ccarella - 16 casts</li><li>mrbriandesign - 15 casts</li><li>kevinoconnell - 15 casts</li><li>deeparocks - 15 casts</li><li>aaronrferguson - 15 casts</li><li>kazuma - 15 casts</li><li>gm8xx8 - 15 casts</li><li>j4ck - 14 casts</li><li>gokhan - 14 casts</li><li>polluterofminds - 14 casts</li><li>mcbain - 13 casts</li><li>cameron - 13 casts</li></ol>"
      ],
      "text/plain": [
       "<IPython.core.display.HTML object>"
      ]
     },
     "metadata": {},
     "output_type": "display_data"
    },
    {
     "data": {
      "text/html": [
       "<h2>Top 30 Most Active Users (Including Replies)</h2>"
      ],
      "text/plain": [
       "<IPython.core.display.HTML object>"
      ]
     },
     "metadata": {},
     "output_type": "display_data"
    },
    {
     "data": {
      "text/html": [
       "<p>All casts, including replies, are considered for this calculation.</p>"
      ],
      "text/plain": [
       "<IPython.core.display.HTML object>"
      ]
     },
     "metadata": {},
     "output_type": "display_data"
    },
    {
     "data": {
      "text/html": [
       "<ol><li>juan - 189 casts</li><li>cameron - 178 casts</li><li>samantha - 137 casts</li><li>pdr - 132 casts</li><li>vgr - 127 casts</li><li>les - 117 casts</li><li>alexanderchopan - 117 casts</li><li>timdaub - 107 casts</li><li>dwr - 105 casts</li><li>ccarella - 102 casts</li><li>borodutch - 100 casts</li><li>blobs - 96 casts</li><li>slowcrypto - 95 casts</li><li>nor - 93 casts</li><li>j4ck - 88 casts</li><li>mc10 - 73 casts</li><li>aaronrferguson - 72 casts</li><li>perl - 69 casts</li><li>payton - 67 casts</li><li>giu - 65 casts</li><li>sallyh - 58 casts</li><li>ace - 58 casts</li><li>zico - 57 casts</li><li>morereese - 57 casts</li><li>v - 56 casts</li><li>matthew - 55 casts</li><li>0xen - 54 casts</li><li>kmacbeth - 54 casts</li><li>benersing - 53 casts</li><li>preach - 51 casts</li></ol>"
      ],
      "text/plain": [
       "<IPython.core.display.HTML object>"
      ]
     },
     "metadata": {},
     "output_type": "display_data"
    },
    {
     "data": {
      "text/html": [
       "<h2>Top 100 casts ranked by total likes</h2>"
      ],
      "text/plain": [
       "<IPython.core.display.HTML object>"
      ]
     },
     "metadata": {},
     "output_type": "display_data"
    },
    {
     "data": {
      "text/html": [
       "\n",
       "    <div style=\"border: 1px solid #ccc; max-width: 600px; padding: 25px; margin-bottom: 25px;\">\n",
       "        <div style=\"max-width: 550px; margin: 0 auto;\">\n",
       "            <p><strong><a href=\"https://searchcaster.xyz/search?merkleRoot=0x38a2430f304b07c7d4f0678646057ba786a87bef\" target=\"_blank\">merkleRoot</a></strong></p>\n",
       "            <p><strong>@dwr · fid 3</strong></p>\n",
       "            <div style=\"word-wrap: break-word; margin: 10px 0;\">New on desktop and iOS: <br><br>🔐Sign in with QR code<br><br>Securely transfer your Farcaster recovery phrase between 2 devices. <br><br>Foundation for a web client without asking a user to type their recovery phrase in a browser (good security UX) and multi-device, multi-platform E2EE direct casts. </div>\n",
       "    <div style=\"text-align: center;\"><img src=\"https://i.imgur.com/qbCgA4N.png\" style=\"max-width: 550px; margin-top: 10px;\"></div><p style=\"color: purple; margin: 10px 0 0;\">&#x1F49C; 172 <span style=\"margin-left: 5px; margin-top: 10px;\">&#x1F4AC; 21</span></p></div></div>"
      ],
      "text/plain": [
       "<IPython.core.display.HTML object>"
      ]
     },
     "metadata": {},
     "output_type": "display_data"
    },
    {
     "data": {
      "text/html": [
       "\n",
       "    <div style=\"border: 1px solid #ccc; max-width: 600px; padding: 25px; margin-bottom: 25px;\">\n",
       "        <div style=\"max-width: 550px; margin: 0 auto;\">\n",
       "            <p><strong><a href=\"https://searchcaster.xyz/search?merkleRoot=0xcdacf904886d17cada535232fbcaa77edb3aad94\" target=\"_blank\">merkleRoot</a></strong></p>\n",
       "            <p><strong>@dwr · fid 3</strong></p>\n",
       "            <div style=\"word-wrap: break-word; margin: 10px 0;\">Most people in crypto: talk decentralized, act centralized.</div>\n",
       "    <p style=\"color: purple; margin: 10px 0 0;\">&#x1F49C; 97 <span style=\"margin-left: 5px; margin-top: 10px;\">&#x1F4AC; 16</span></p></div></div>"
      ],
      "text/plain": [
       "<IPython.core.display.HTML object>"
      ]
     },
     "metadata": {},
     "output_type": "display_data"
    },
    {
     "data": {
      "text/html": [
       "\n",
       "    <div style=\"border: 1px solid #ccc; max-width: 600px; padding: 25px; margin-bottom: 25px;\">\n",
       "        <div style=\"max-width: 550px; margin: 0 auto;\">\n",
       "            <p><strong><a href=\"https://searchcaster.xyz/search?merkleRoot=0x29f13dcd17bc53cba257f56ba85bc8ff88e90b6c\" target=\"_blank\">merkleRoot</a></strong></p>\n",
       "            <p><strong>@garrytan · fid 72</strong></p>\n",
       "            <div style=\"word-wrap: break-word; margin: 10px 0;\">In 2008 I showed up to Y Combinator Startup School to take photos of speakers and learn how to start a startup. <br><br>I was an engineer and designer and had never started a company before. </div>\n",
       "    <div style=\"text-align: center;\"><img src=\"https://i.imgur.com/l97iEhm.jpg\" style=\"max-width: 550px; margin-top: 10px;\"></div><p style=\"color: purple; margin: 10px 0 0;\">&#x1F49C; 93 <span style=\"margin-left: 5px; margin-top: 10px;\">&#x1F4AC; 8</span></p></div></div>"
      ],
      "text/plain": [
       "<IPython.core.display.HTML object>"
      ]
     },
     "metadata": {},
     "output_type": "display_data"
    },
    {
     "data": {
      "text/html": [
       "\n",
       "    <div style=\"border: 1px solid #ccc; max-width: 600px; padding: 25px; margin-bottom: 25px;\">\n",
       "        <div style=\"max-width: 550px; margin: 0 auto;\">\n",
       "            <p><strong><a href=\"https://searchcaster.xyz/search?merkleRoot=0xa75714607adadb5fa53d7a80960809fe10f2d4c5\" target=\"_blank\">merkleRoot</a></strong></p>\n",
       "            <p><strong>@linda · fid 12</strong></p>\n",
       "            <div style=\"word-wrap: break-word; margin: 10px 0;\">Nördlingen is a town in Germany built in a 15 million year old meteorite crater and encircled by city walls. Many believe this inspired the city in Attack on Titan </div>\n",
       "    <div style=\"text-align: center;\"><img src=\"https://i.imgur.com/925iuHH.jpg\" style=\"max-width: 550px; margin-top: 10px;\"></div><p style=\"color: purple; margin: 10px 0 0;\">&#x1F49C; 86 <span style=\"margin-left: 5px; margin-top: 10px;\">&#x1F4AC; 10</span></p></div></div>"
      ],
      "text/plain": [
       "<IPython.core.display.HTML object>"
      ]
     },
     "metadata": {},
     "output_type": "display_data"
    },
    {
     "data": {
      "text/html": [
       "\n",
       "    <div style=\"border: 1px solid #ccc; max-width: 600px; padding: 25px; margin-bottom: 25px;\">\n",
       "        <div style=\"max-width: 550px; margin: 0 auto;\">\n",
       "            <p><strong><a href=\"https://searchcaster.xyz/search?merkleRoot=0xae119a34807289e183d008180fdcf92ef82cc98b\" target=\"_blank\">merkleRoot</a></strong></p>\n",
       "            <p><strong>@fredwilson · fid 169</strong></p>\n",
       "            <div style=\"word-wrap: break-word; margin: 10px 0;\">Hi Farcasters. I wrote a post this morning looking forward to 2023. It's a bit gloomy but it has an optimistic ending (to 2023) <a href=\"https://avc.mirror.xyz/bMwrXoKcn0tevyolNja2ZvjFTKrzsDAjF9v4w65D87Y\" target=\"_blank\">https://avc.mirror.xyz/bMwrXoKcn0tevyolNja2ZvjFTKrzsDAjF9v4w65D87Y</a></div>\n",
       "    <p style=\"color: purple; margin: 10px 0 0;\">&#x1F49C; 85 <span style=\"margin-left: 5px; margin-top: 10px;\">&#x1F4AC; 11</span></p></div></div>"
      ],
      "text/plain": [
       "<IPython.core.display.HTML object>"
      ]
     },
     "metadata": {},
     "output_type": "display_data"
    },
    {
     "data": {
      "text/html": [
       "\n",
       "    <div style=\"border: 1px solid #ccc; max-width: 600px; padding: 25px; margin-bottom: 25px;\">\n",
       "        <div style=\"max-width: 550px; margin: 0 auto;\">\n",
       "            <p><strong><a href=\"https://searchcaster.xyz/search?merkleRoot=0xc800d16ff9e693976610669baafbdc5e256a08a8\" target=\"_blank\">merkleRoot</a></strong></p>\n",
       "            <p><strong>@meesh · fid 847</strong></p>\n",
       "            <div style=\"word-wrap: break-word; margin: 10px 0;\">After half a year of cast-yelling about web3’s immense need for good product design and user research…happy to say that this is my last week designing in web2 ✌️ <br><br>Stoked to be ALL IN come end of January, and creating the future of technology with all of you!</div>\n",
       "    <p style=\"color: purple; margin: 10px 0 0;\">&#x1F49C; 79 <span style=\"margin-left: 5px; margin-top: 10px;\">&#x1F4AC; 24</span></p></div></div>"
      ],
      "text/plain": [
       "<IPython.core.display.HTML object>"
      ]
     },
     "metadata": {},
     "output_type": "display_data"
    },
    {
     "data": {
      "text/html": [
       "\n",
       "    <div style=\"border: 1px solid #ccc; max-width: 600px; padding: 25px; margin-bottom: 25px;\">\n",
       "        <div style=\"max-width: 550px; margin: 0 auto;\">\n",
       "            <p><strong><a href=\"https://searchcaster.xyz/search?merkleRoot=0x61f3c4644456fe0f0020a1ac417c12dfdef52175\" target=\"_blank\">merkleRoot</a></strong></p>\n",
       "            <p><strong>@dwr · fid 3</strong></p>\n",
       "            <div style=\"word-wrap: break-word; margin: 10px 0;\">Public roadmap for the next 6 months from @v <br><br><a href=\"https://www.youtube.com/watch?v=-5KtJFcmkuo\" target=\"_blank\">https://www.youtube.com/watch?v=-5KtJFcmkuo</a></div>\n",
       "    <p style=\"color: purple; margin: 10px 0 0;\">&#x1F49C; 77 <span style=\"margin-left: 5px; margin-top: 10px;\">&#x1F4AC; 5</span></p></div></div>"
      ],
      "text/plain": [
       "<IPython.core.display.HTML object>"
      ]
     },
     "metadata": {},
     "output_type": "display_data"
    },
    {
     "data": {
      "text/html": [
       "\n",
       "    <div style=\"border: 1px solid #ccc; max-width: 600px; padding: 25px; margin-bottom: 25px;\">\n",
       "        <div style=\"max-width: 550px; margin: 0 auto;\">\n",
       "            <p><strong><a href=\"https://searchcaster.xyz/search?merkleRoot=0x276c9aa4f3eace9b77088742711e30ecfafaeb06\" target=\"_blank\">merkleRoot</a></strong></p>\n",
       "            <p><strong>@dwr · fid 3</strong></p>\n",
       "            <div style=\"word-wrap: break-word; margin: 10px 0;\">TIL (would have said less alcohol consumption was correlated with income and education) </div>\n",
       "    <div style=\"text-align: center;\"><img src=\"https://i.imgur.com/f2J1aM4.jpg\" style=\"max-width: 550px; margin-top: 10px;\"></div><p style=\"color: purple; margin: 10px 0 0;\">&#x1F49C; 68 <span style=\"margin-left: 5px; margin-top: 10px;\">&#x1F4AC; 24</span></p></div></div>"
      ],
      "text/plain": [
       "<IPython.core.display.HTML object>"
      ]
     },
     "metadata": {},
     "output_type": "display_data"
    },
    {
     "data": {
      "text/html": [
       "\n",
       "    <div style=\"border: 1px solid #ccc; max-width: 600px; padding: 25px; margin-bottom: 25px;\">\n",
       "        <div style=\"max-width: 550px; margin: 0 auto;\">\n",
       "            <p><strong><a href=\"https://searchcaster.xyz/search?merkleRoot=0x771a68de122df517788ce3d4dff807acd38cb763\" target=\"_blank\">merkleRoot</a></strong></p>\n",
       "            <p><strong>@v · fid 2</strong></p>\n",
       "            <div style=\"word-wrap: break-word; margin: 10px 0;\">Farcaster will have its first community dev call this Thursday at 10am PT, where we'll discuss our 6 month roadmap for the protocol.<br><br>If you have other topics you want to see discussed, please reply to this. <br><br>For details on how to join, see my replies below.</div>\n",
       "    <p style=\"color: purple; margin: 10px 0 0;\">&#x1F49C; 64 <span style=\"margin-left: 5px; margin-top: 10px;\">&#x1F4AC; 9</span></p></div></div>"
      ],
      "text/plain": [
       "<IPython.core.display.HTML object>"
      ]
     },
     "metadata": {},
     "output_type": "display_data"
    },
    {
     "data": {
      "text/html": [
       "\n",
       "    <div style=\"border: 1px solid #ccc; max-width: 600px; padding: 25px; margin-bottom: 25px;\">\n",
       "        <div style=\"max-width: 550px; margin: 0 auto;\">\n",
       "            <p><strong><a href=\"https://searchcaster.xyz/search?merkleRoot=0x8cc82a66e20df4050b2355ceea3ac8ab4c957a5d\" target=\"_blank\">merkleRoot</a></strong></p>\n",
       "            <p><strong>@neuroswish · fid 127</strong></p>\n",
       "            <div style=\"word-wrap: break-word; margin: 10px 0;\">very sad how we’ve cyclically ended up in a world where airbnbs are worse than hotels and ubers worse than taxis</div>\n",
       "    <p style=\"color: purple; margin: 10px 0 0;\">&#x1F49C; 62 <span style=\"margin-left: 5px; margin-top: 10px;\">&#x1F4AC; 15</span></p></div></div>"
      ],
      "text/plain": [
       "<IPython.core.display.HTML object>"
      ]
     },
     "metadata": {},
     "output_type": "display_data"
    },
    {
     "data": {
      "text/html": [
       "\n",
       "    <div style=\"border: 1px solid #ccc; max-width: 600px; padding: 25px; margin-bottom: 25px;\">\n",
       "        <div style=\"max-width: 550px; margin: 0 auto;\">\n",
       "            <p><strong><a href=\"https://searchcaster.xyz/search?merkleRoot=0x589d787b72b4f6ea7bd072f93b8bb261740435f7\" target=\"_blank\">merkleRoot</a></strong></p>\n",
       "            <p><strong>@fredwilson · fid 169</strong></p>\n",
       "            <div style=\"word-wrap: break-word; margin: 10px 0;\">the last four NFTs I have collected have all come from seeing them in the Farcaster NFT tab. it is possibly the best thing about Farcaster and there are many things that are great about Farcaster.  </div>\n",
       "    <div style=\"text-align: center;\"><img src=\"https://i.imgur.com/EmtFAMS.jpg\" style=\"max-width: 550px; margin-top: 10px;\"></div><p style=\"color: purple; margin: 10px 0 0;\">&#x1F49C; 57 <span style=\"margin-left: 5px; margin-top: 10px;\">&#x1F4AC; 8</span></p></div></div>"
      ],
      "text/plain": [
       "<IPython.core.display.HTML object>"
      ]
     },
     "metadata": {},
     "output_type": "display_data"
    },
    {
     "data": {
      "text/html": [
       "\n",
       "    <div style=\"border: 1px solid #ccc; max-width: 600px; padding: 25px; margin-bottom: 25px;\">\n",
       "        <div style=\"max-width: 550px; margin: 0 auto;\">\n",
       "            <p><strong><a href=\"https://searchcaster.xyz/search?merkleRoot=0xda5f995b5f3d25e1b8f6ddfc2368fcf53c714745\" target=\"_blank\">merkleRoot</a></strong></p>\n",
       "            <p><strong>@v · fid 2</strong></p>\n",
       "            <div style=\"word-wrap: break-word; margin: 10px 0;\">GM 🌄 <br><br>Today's video builds on the last few to show how the three layers - identity, data and apps - connect together to create a useful, decentralized social network<br><br><a href=\"https://youtu.be/1TVI2uKgHtY\" target=\"_blank\">https://youtu.be/1TVI2uKgHtY</a></div>\n",
       "    <p style=\"color: purple; margin: 10px 0 0;\">&#x1F49C; 56 <span style=\"margin-left: 5px; margin-top: 10px;\">&#x1F4AC; 6</span></p></div></div>"
      ],
      "text/plain": [
       "<IPython.core.display.HTML object>"
      ]
     },
     "metadata": {},
     "output_type": "display_data"
    },
    {
     "data": {
      "text/html": [
       "\n",
       "    <div style=\"border: 1px solid #ccc; max-width: 600px; padding: 25px; margin-bottom: 25px;\">\n",
       "        <div style=\"max-width: 550px; margin: 0 auto;\">\n",
       "            <p><strong><a href=\"https://searchcaster.xyz/search?merkleRoot=0x82d28281a42bcf5d0398da8e90157e749be01149\" target=\"_blank\">merkleRoot</a></strong></p>\n",
       "            <p><strong>@dwr · fid 3</strong></p>\n",
       "            <div style=\"word-wrap: break-word; margin: 10px 0;\">Who's hiring? (January 2023)<br><br>Reply below with a role you're hiring for and ideally a link.<br><br>For Merkle Manufactory:<br><br>- Staff level backend engineer <br><br><a href=\"https://www.notion.so/farcasterxyz/Open-Roles-27586d01276441b3802bfb0237c07ec3\" target=\"_blank\">https://www.notion.so/farcasterxyz/Open-Roles-27586d01276441b3802bfb0237c07ec3</a></div>\n",
       "    <p style=\"color: purple; margin: 10px 0 0;\">&#x1F49C; 55 <span style=\"margin-left: 5px; margin-top: 10px;\">&#x1F4AC; 21</span></p></div></div>"
      ],
      "text/plain": [
       "<IPython.core.display.HTML object>"
      ]
     },
     "metadata": {},
     "output_type": "display_data"
    },
    {
     "data": {
      "text/html": [
       "\n",
       "    <div style=\"border: 1px solid #ccc; max-width: 600px; padding: 25px; margin-bottom: 25px;\">\n",
       "        <div style=\"max-width: 550px; margin: 0 auto;\">\n",
       "            <p><strong><a href=\"https://searchcaster.xyz/search?merkleRoot=0xa92327cd081803433f25ce78f1f51b9d973b0263\" target=\"_blank\">merkleRoot</a></strong></p>\n",
       "            <p><strong>@betashop · fid 602</strong></p>\n",
       "            <div style=\"word-wrap: break-word; margin: 10px 0;\">show FC:<br><br>Purple | Farcaster Superpowers<br><br>🔎 Search FC with our AI engine, recommended casts to engage with. Sort/filter by most watched, replied, comments, etc<br><br>🐦 Twitcaster: enter any Twitter handle and we'll recommend Farcaster posts for you to engage with; helps people leave the twtr nest<br><br><a href=\"https://getpurple.xy\" target=\"_blank\">https://getpurple.xy</a></div>\n",
       "    <p style=\"color: purple; margin: 10px 0 0;\">&#x1F49C; 53 <span style=\"margin-left: 5px; margin-top: 10px;\">&#x1F4AC; 12</span></p></div></div>"
      ],
      "text/plain": [
       "<IPython.core.display.HTML object>"
      ]
     },
     "metadata": {},
     "output_type": "display_data"
    },
    {
     "data": {
      "text/html": [
       "\n",
       "    <div style=\"border: 1px solid #ccc; max-width: 600px; padding: 25px; margin-bottom: 25px;\">\n",
       "        <div style=\"max-width: 550px; margin: 0 auto;\">\n",
       "            <p><strong><a href=\"https://searchcaster.xyz/search?merkleRoot=0x93b4eec6edac8c5b098fd2057fecbb477ec62430\" target=\"_blank\">merkleRoot</a></strong></p>\n",
       "            <p><strong>@ricburton · fid 2511</strong></p>\n",
       "            <div style=\"word-wrap: break-word; margin: 10px 0;\">Sneak peak for my Farcaster fam </div>\n",
       "    <div style=\"text-align: center;\"><img src=\"https://i.imgur.com/LpRDqhL.jpg\" style=\"max-width: 550px; margin-top: 10px;\"></div><p style=\"color: purple; margin: 10px 0 0;\">&#x1F49C; 53 <span style=\"margin-left: 5px; margin-top: 10px;\">&#x1F4AC; 7</span></p></div></div>"
      ],
      "text/plain": [
       "<IPython.core.display.HTML object>"
      ]
     },
     "metadata": {},
     "output_type": "display_data"
    },
    {
     "data": {
      "text/html": [
       "\n",
       "    <div style=\"border: 1px solid #ccc; max-width: 600px; padding: 25px; margin-bottom: 25px;\">\n",
       "        <div style=\"max-width: 550px; margin: 0 auto;\">\n",
       "            <p><strong><a href=\"https://searchcaster.xyz/search?merkleRoot=0x8129a0d6d6ae0044efcb1dea2bbd4c2b949f9c30\" target=\"_blank\">merkleRoot</a></strong></p>\n",
       "            <p><strong>@payton · fid 4423</strong></p>\n",
       "            <div style=\"word-wrap: break-word; margin: 10px 0;\">Happy New Year from Pixel Pool: the Farcaster Video Client<br><br><a href=\"https://www.pixelpool.xyz/watch?v=lmVUuNWUTvsl\" target=\"_blank\">https://www.pixelpool.xyz/watch?v=lmVUuNWUTvsl</a> (via Pixel Pool)</div>\n",
       "    <p style=\"color: purple; margin: 10px 0 0;\">&#x1F49C; 52 <span style=\"margin-left: 5px; margin-top: 10px;\">&#x1F4AC; 17</span></p></div></div>"
      ],
      "text/plain": [
       "<IPython.core.display.HTML object>"
      ]
     },
     "metadata": {},
     "output_type": "display_data"
    },
    {
     "data": {
      "text/html": [
       "\n",
       "    <div style=\"border: 1px solid #ccc; max-width: 600px; padding: 25px; margin-bottom: 25px;\">\n",
       "        <div style=\"max-width: 550px; margin: 0 auto;\">\n",
       "            <p><strong><a href=\"https://searchcaster.xyz/search?merkleRoot=0x6183f8ae95fad5701c6dcaff2134c0ca00f1b388\" target=\"_blank\">merkleRoot</a></strong></p>\n",
       "            <p><strong>@dwr · fid 3</strong></p>\n",
       "            <div style=\"word-wrap: break-word; margin: 10px 0;\">Would be neat if someone made a Farcaster user directory with instant search like this.<br><br><a href=\"https://www.ycombinator.com/companies/founders\" target=\"_blank\">https://www.ycombinator.com/companies/founders</a></div>\n",
       "    <p style=\"color: purple; margin: 10px 0 0;\">&#x1F49C; 51 <span style=\"margin-left: 5px; margin-top: 10px;\">&#x1F4AC; 4</span></p></div></div>"
      ],
      "text/plain": [
       "<IPython.core.display.HTML object>"
      ]
     },
     "metadata": {},
     "output_type": "display_data"
    },
    {
     "data": {
      "text/html": [
       "\n",
       "    <div style=\"border: 1px solid #ccc; max-width: 600px; padding: 25px; margin-bottom: 25px;\">\n",
       "        <div style=\"max-width: 550px; margin: 0 auto;\">\n",
       "            <p><strong><a href=\"https://searchcaster.xyz/search?merkleRoot=0x8d09a473a00f336f52d30e8335eac82769230eea\" target=\"_blank\">merkleRoot</a></strong></p>\n",
       "            <p><strong>@dwr · fid 3</strong></p>\n",
       "            <div style=\"word-wrap: break-word; margin: 10px 0;\">Neat website<br><br><a href=\"https://www.learngpt.com\" target=\"_blank\">https://www.learngpt.com</a></div>\n",
       "    <p style=\"color: purple; margin: 10px 0 0;\">&#x1F49C; 51 <span style=\"margin-left: 5px; margin-top: 10px;\">&#x1F4AC; 7</span></p></div></div>"
      ],
      "text/plain": [
       "<IPython.core.display.HTML object>"
      ]
     },
     "metadata": {},
     "output_type": "display_data"
    },
    {
     "data": {
      "text/html": [
       "\n",
       "    <div style=\"border: 1px solid #ccc; max-width: 600px; padding: 25px; margin-bottom: 25px;\">\n",
       "        <div style=\"max-width: 550px; margin: 0 auto;\">\n",
       "            <p><strong><a href=\"https://searchcaster.xyz/search?merkleRoot=0xc7f6fb68c38c45a96b027b0339bda3eafc071cd8\" target=\"_blank\">merkleRoot</a></strong></p>\n",
       "            <p><strong>@vbuterin · fid 5650</strong></p>\n",
       "            <div style=\"word-wrap: break-word; margin: 10px 0;\">The line of anti-corporate thought that criticizes corporations for not caring about workers, the environment, etc, and the line of anti-corporate thought that criticizes corporations for being soulless and bland are actually quite different, and sometimes can even lead to opposite conclusions.</div>\n",
       "    <p style=\"color: purple; margin: 10px 0 0;\">&#x1F49C; 50 <span style=\"margin-left: 5px; margin-top: 10px;\">&#x1F4AC; 6</span></p></div></div>"
      ],
      "text/plain": [
       "<IPython.core.display.HTML object>"
      ]
     },
     "metadata": {},
     "output_type": "display_data"
    },
    {
     "data": {
      "text/html": [
       "\n",
       "    <div style=\"border: 1px solid #ccc; max-width: 600px; padding: 25px; margin-bottom: 25px;\">\n",
       "        <div style=\"max-width: 550px; margin: 0 auto;\">\n",
       "            <p><strong><a href=\"https://searchcaster.xyz/search?merkleRoot=0xfe8c6f9f88fc4541fb48596a436e5d0225a12066\" target=\"_blank\">merkleRoot</a></strong></p>\n",
       "            <p><strong>@greg · fid 347</strong></p>\n",
       "            <div style=\"word-wrap: break-word; margin: 10px 0;\">setting up my calendar for the month :) </div>\n",
       "    <div style=\"text-align: center;\"><img src=\"https://i.imgur.com/CJci49Q.png\" style=\"max-width: 550px; margin-top: 10px;\"></div><p style=\"color: purple; margin: 10px 0 0;\">&#x1F49C; 48 <span style=\"margin-left: 5px; margin-top: 10px;\">&#x1F4AC; 13</span></p></div></div>"
      ],
      "text/plain": [
       "<IPython.core.display.HTML object>"
      ]
     },
     "metadata": {},
     "output_type": "display_data"
    },
    {
     "data": {
      "text/html": [
       "\n",
       "    <div style=\"border: 1px solid #ccc; max-width: 600px; padding: 25px; margin-bottom: 25px;\">\n",
       "        <div style=\"max-width: 550px; margin: 0 auto;\">\n",
       "            <p><strong><a href=\"https://searchcaster.xyz/search?merkleRoot=0xac48932fda4fb00c485a726bc3aee7847dc18b0c\" target=\"_blank\">merkleRoot</a></strong></p>\n",
       "            <p><strong>@colin · fid 378</strong></p>\n",
       "            <div style=\"word-wrap: break-word; margin: 10px 0;\">I’m spending a couple weeks traveling around Canada and my takeaways are 1) I’m very glad I don’t currently live where its cold, and 2) vacation & detaching from work is very important for mental health</div>\n",
       "    <p style=\"color: purple; margin: 10px 0 0;\">&#x1F49C; 48 <span style=\"margin-left: 5px; margin-top: 10px;\">&#x1F4AC; 9</span></p></div></div>"
      ],
      "text/plain": [
       "<IPython.core.display.HTML object>"
      ]
     },
     "metadata": {},
     "output_type": "display_data"
    },
    {
     "data": {
      "text/html": [
       "\n",
       "    <div style=\"border: 1px solid #ccc; max-width: 600px; padding: 25px; margin-bottom: 25px;\">\n",
       "        <div style=\"max-width: 550px; margin: 0 auto;\">\n",
       "            <p><strong><a href=\"https://searchcaster.xyz/search?merkleRoot=0x7d25840ec80d3b5ccba2eb9305b818395d6d8202\" target=\"_blank\">merkleRoot</a></strong></p>\n",
       "            <p><strong>@jake · fid 1020</strong></p>\n",
       "            <div style=\"word-wrap: break-word; margin: 10px 0;\">My ideal Twitter/Farcaster feed would be algorithmlessly chronological based on the likes of probably 10 to 100 people. Decentralized social should have all sorts of such configurability to design your own perfect feed. I think it will. The protocols won’t care & the best clients will win.</div>\n",
       "    <p style=\"color: purple; margin: 10px 0 0;\">&#x1F49C; 47 <span style=\"margin-left: 5px; margin-top: 10px;\">&#x1F4AC; 6</span></p></div></div>"
      ],
      "text/plain": [
       "<IPython.core.display.HTML object>"
      ]
     },
     "metadata": {},
     "output_type": "display_data"
    },
    {
     "data": {
      "text/html": [
       "\n",
       "    <div style=\"border: 1px solid #ccc; max-width: 600px; padding: 25px; margin-bottom: 25px;\">\n",
       "        <div style=\"max-width: 550px; margin: 0 auto;\">\n",
       "            <p><strong><a href=\"https://searchcaster.xyz/search?merkleRoot=0x8e12b0c1faac48ac7819db3432d2bb1ecb1b540a\" target=\"_blank\">merkleRoot</a></strong></p>\n",
       "            <p><strong>@ted · fid 239</strong></p>\n",
       "            <div style=\"word-wrap: break-word; margin: 10px 0;\">Growing up, I spent hours on TED to learn about the future. Now I spend 0.<br><br>The best talks predate 2015 (maybe 2010) before TED’s focus on inspirational storytelling influenced how we process intellectual work + the value we assign to it — for the worse.<br><br>TED’s emotional propaganda signaled the fall of intellectu</div>\n",
       "    <p style=\"color: purple; margin: 10px 0 0;\">&#x1F49C; 46 <span style=\"margin-left: 5px; margin-top: 10px;\">&#x1F4AC; 10</span></p></div></div>"
      ],
      "text/plain": [
       "<IPython.core.display.HTML object>"
      ]
     },
     "metadata": {},
     "output_type": "display_data"
    },
    {
     "data": {
      "text/html": [
       "\n",
       "    <div style=\"border: 1px solid #ccc; max-width: 600px; padding: 25px; margin-bottom: 25px;\">\n",
       "        <div style=\"max-width: 550px; margin: 0 auto;\">\n",
       "            <p><strong><a href=\"https://searchcaster.xyz/search?merkleRoot=0x8ddbb0cb5ea9febf55cdf85dbc5cd73cf8b82818\" target=\"_blank\">merkleRoot</a></strong></p>\n",
       "            <p><strong>@cassie · fid 1325</strong></p>\n",
       "            <div style=\"word-wrap: break-word; margin: 10px 0;\"></div>\n",
       "    <div style=\"text-align: center;\"><img src=\"https://i.imgur.com/kZuPAUR.jpg\" style=\"max-width: 550px; margin-top: 10px;\"></div><p style=\"color: purple; margin: 10px 0 0;\">&#x1F49C; 46 <span style=\"margin-left: 5px; margin-top: 10px;\">&#x1F4AC; 5</span></p></div></div>"
      ],
      "text/plain": [
       "<IPython.core.display.HTML object>"
      ]
     },
     "metadata": {},
     "output_type": "display_data"
    },
    {
     "data": {
      "text/html": [
       "\n",
       "    <div style=\"border: 1px solid #ccc; max-width: 600px; padding: 25px; margin-bottom: 25px;\">\n",
       "        <div style=\"max-width: 550px; margin: 0 auto;\">\n",
       "            <p><strong><a href=\"https://searchcaster.xyz/search?merkleRoot=0x6608c4acf4bb768795bcf4a44c22dcc33383a135\" target=\"_blank\">merkleRoot</a></strong></p>\n",
       "            <p><strong>@corbpage · fid 358</strong></p>\n",
       "            <div style=\"word-wrap: break-word; margin: 10px 0;\">crypto is undefeated on naming things poorly</div>\n",
       "    <p style=\"color: purple; margin: 10px 0 0;\">&#x1F49C; 45 <span style=\"margin-left: 5px; margin-top: 10px;\">&#x1F4AC; 17</span></p></div></div>"
      ],
      "text/plain": [
       "<IPython.core.display.HTML object>"
      ]
     },
     "metadata": {},
     "output_type": "display_data"
    },
    {
     "data": {
      "text/html": [
       "\n",
       "    <div style=\"border: 1px solid #ccc; max-width: 600px; padding: 25px; margin-bottom: 25px;\">\n",
       "        <div style=\"max-width: 550px; margin: 0 auto;\">\n",
       "            <p><strong><a href=\"https://searchcaster.xyz/search?merkleRoot=0xd5e6cbd6a4272aca07085012d9c9916e2b541133\" target=\"_blank\">merkleRoot</a></strong></p>\n",
       "            <p><strong>@emodi · fid 604</strong></p>\n",
       "            <div style=\"word-wrap: break-word; margin: 10px 0;\">John von Neumann making the case for funding computer research, 1945: <br><br>“The projected device, or rather the species of devices … is so radically new that many of its uses will become clear only after it has been put into operation. These uses which are not … predictable now, are likely to be the most important o</div>\n",
       "    <p style=\"color: purple; margin: 10px 0 0;\">&#x1F49C; 44 <span style=\"margin-left: 5px; margin-top: 10px;\">&#x1F4AC; 2</span></p></div></div>"
      ],
      "text/plain": [
       "<IPython.core.display.HTML object>"
      ]
     },
     "metadata": {},
     "output_type": "display_data"
    },
    {
     "data": {
      "text/html": [
       "\n",
       "    <div style=\"border: 1px solid #ccc; max-width: 600px; padding: 25px; margin-bottom: 25px;\">\n",
       "        <div style=\"max-width: 550px; margin: 0 auto;\">\n",
       "            <p><strong><a href=\"https://searchcaster.xyz/search?merkleRoot=0xa8947d40f88092698049d6f5717b923a28a623d4\" target=\"_blank\">merkleRoot</a></strong></p>\n",
       "            <p><strong>@dwr · fid 3</strong></p>\n",
       "            <div style=\"word-wrap: break-word; margin: 10px 0;\">Farcaster invite word of the day (today and tomorrow):<br><br>montana<br><br>Have friends or colleagues send me a Twitter DM with montana and will send them an invite.</div>\n",
       "    <p style=\"color: purple; margin: 10px 0 0;\">&#x1F49C; 43 <span style=\"margin-left: 5px; margin-top: 10px;\">&#x1F4AC; 6</span></p></div></div>"
      ],
      "text/plain": [
       "<IPython.core.display.HTML object>"
      ]
     },
     "metadata": {},
     "output_type": "display_data"
    },
    {
     "data": {
      "text/html": [
       "\n",
       "    <div style=\"border: 1px solid #ccc; max-width: 600px; padding: 25px; margin-bottom: 25px;\">\n",
       "        <div style=\"max-width: 550px; margin: 0 auto;\">\n",
       "            <p><strong><a href=\"https://searchcaster.xyz/search?merkleRoot=0xee3375cb2808adbee3ab2cef29e31ac612bc604b\" target=\"_blank\">merkleRoot</a></strong></p>\n",
       "            <p><strong>@mk · fid 143</strong></p>\n",
       "            <div style=\"word-wrap: break-word; margin: 10px 0;\">gm ☕️<br><br>FC artists, if I’m not following you lmk. 🙏</div>\n",
       "    <p style=\"color: purple; margin: 10px 0 0;\">&#x1F49C; 43 <span style=\"margin-left: 5px; margin-top: 10px;\">&#x1F4AC; 17</span></p></div></div>"
      ],
      "text/plain": [
       "<IPython.core.display.HTML object>"
      ]
     },
     "metadata": {},
     "output_type": "display_data"
    },
    {
     "data": {
      "text/html": [
       "\n",
       "    <div style=\"border: 1px solid #ccc; max-width: 600px; padding: 25px; margin-bottom: 25px;\">\n",
       "        <div style=\"max-width: 550px; margin: 0 auto;\">\n",
       "            <p><strong><a href=\"https://searchcaster.xyz/search?merkleRoot=0x7a5f7a4a72adf0b8f5214a354f78d1532c7a04c4\" target=\"_blank\">merkleRoot</a></strong></p>\n",
       "            <p><strong>@dwr · fid 3</strong></p>\n",
       "            <div style=\"word-wrap: break-word; margin: 10px 0;\">What's the latest and greatest in managing legal contracts for a startup without hiring an in-house lawyer or using expensive outside counsel?</div>\n",
       "    <p style=\"color: purple; margin: 10px 0 0;\">&#x1F49C; 43 <span style=\"margin-left: 5px; margin-top: 10px;\">&#x1F4AC; 20</span></p></div></div>"
      ],
      "text/plain": [
       "<IPython.core.display.HTML object>"
      ]
     },
     "metadata": {},
     "output_type": "display_data"
    },
    {
     "data": {
      "text/html": [
       "\n",
       "    <div style=\"border: 1px solid #ccc; max-width: 600px; padding: 25px; margin-bottom: 25px;\">\n",
       "        <div style=\"max-width: 550px; margin: 0 auto;\">\n",
       "            <p><strong><a href=\"https://searchcaster.xyz/search?merkleRoot=0x5fcf413fc0f442d1a2325bc03bca3befacfbb813\" target=\"_blank\">merkleRoot</a></strong></p>\n",
       "            <p><strong>@hish · fid 2521</strong></p>\n",
       "            <div style=\"word-wrap: break-word; margin: 10px 0;\">Here’s sneak peek of an upcoming feature on Tribes.xyz. Can you guess what it is? <br><br>Want early access to our Android or iOS app? DM me </div>\n",
       "    <div style=\"text-align: center;\"><img src=\"https://i.imgur.com/MWDc1oy.jpg\" style=\"max-width: 550px; margin-top: 10px;\"></div><p style=\"color: purple; margin: 10px 0 0;\">&#x1F49C; 42 <span style=\"margin-left: 5px; margin-top: 10px;\">&#x1F4AC; 15</span></p></div></div>"
      ],
      "text/plain": [
       "<IPython.core.display.HTML object>"
      ]
     },
     "metadata": {},
     "output_type": "display_data"
    },
    {
     "data": {
      "text/html": [
       "\n",
       "    <div style=\"border: 1px solid #ccc; max-width: 600px; padding: 25px; margin-bottom: 25px;\">\n",
       "        <div style=\"max-width: 550px; margin: 0 auto;\">\n",
       "            <p><strong><a href=\"https://searchcaster.xyz/search?merkleRoot=0xf93203203bc1033a69a06443b0ae935219c83c8c\" target=\"_blank\">merkleRoot</a></strong></p>\n",
       "            <p><strong>@jayme · fid 373</strong></p>\n",
       "            <div style=\"word-wrap: break-word; margin: 10px 0;\">I would love your input on research my wife is doing on \"Raising Founders\"<br><br>1. Where did you grow up? Suburbs or City?<br>2. Where did you go to school? Public, private or home school?<br>3. Favorite entrepreneur / change-maker?</div>\n",
       "    <p style=\"color: purple; margin: 10px 0 0;\">&#x1F49C; 42 <span style=\"margin-left: 5px; margin-top: 10px;\">&#x1F4AC; 45</span></p></div></div>"
      ],
      "text/plain": [
       "<IPython.core.display.HTML object>"
      ]
     },
     "metadata": {},
     "output_type": "display_data"
    },
    {
     "data": {
      "text/html": [
       "\n",
       "    <div style=\"border: 1px solid #ccc; max-width: 600px; padding: 25px; margin-bottom: 25px;\">\n",
       "        <div style=\"max-width: 550px; margin: 0 auto;\">\n",
       "            <p><strong><a href=\"https://searchcaster.xyz/search?merkleRoot=0xf604ab2c62225ea47e88b2394c0cd5cdf31770ea\" target=\"_blank\">merkleRoot</a></strong></p>\n",
       "            <p><strong>@ccarella · fid 472</strong></p>\n",
       "            <div style=\"word-wrap: break-word; margin: 10px 0;\">“To the Future Together”<br>Free Mint, 1 Week<br><br><a href=\"https://create.zora.co/collections/0x9b70b96dfabbdd37cb0046b26ed4c62d50eb3b62\" target=\"_blank\">https://create.zora.co/collections/0x9b70b96dfabbdd37cb0046b26ed4c62d50eb3b62</a> </div>\n",
       "    <div style=\"text-align: center;\"><img src=\"https://i.imgur.com/z2TEZPJ.jpg\" style=\"max-width: 550px; margin-top: 10px;\"></div><p style=\"color: purple; margin: 10px 0 0;\">&#x1F49C; 41 <span style=\"margin-left: 5px; margin-top: 10px;\">&#x1F4AC; 10</span></p></div></div>"
      ],
      "text/plain": [
       "<IPython.core.display.HTML object>"
      ]
     },
     "metadata": {},
     "output_type": "display_data"
    },
    {
     "data": {
      "text/html": [
       "\n",
       "    <div style=\"border: 1px solid #ccc; max-width: 600px; padding: 25px; margin-bottom: 25px;\">\n",
       "        <div style=\"max-width: 550px; margin: 0 auto;\">\n",
       "            <p><strong><a href=\"https://searchcaster.xyz/search?merkleRoot=0x3f4f68192a4386e7352357f092b33f935077c844\" target=\"_blank\">merkleRoot</a></strong></p>\n",
       "            <p><strong>@dwr · fid 3</strong></p>\n",
       "            <div style=\"word-wrap: break-word; margin: 10px 0;\">Neat first video from @payton for his Farcaster video client (!) called Pixel Pool<br><br><a href=\"https://www.pixelpool.xyz/watch?v=lmVUuNWUTvsl\" target=\"_blank\">https://www.pixelpool.xyz/watch?v=lmVUuNWUTvsl</a></div>\n",
       "    <p style=\"color: purple; margin: 10px 0 0;\">&#x1F49C; 41 <span style=\"margin-left: 5px; margin-top: 10px;\">&#x1F4AC; 2</span></p></div></div>"
      ],
      "text/plain": [
       "<IPython.core.display.HTML object>"
      ]
     },
     "metadata": {},
     "output_type": "display_data"
    },
    {
     "data": {
      "text/html": [
       "\n",
       "    <div style=\"border: 1px solid #ccc; max-width: 600px; padding: 25px; margin-bottom: 25px;\">\n",
       "        <div style=\"max-width: 550px; margin: 0 auto;\">\n",
       "            <p><strong><a href=\"https://searchcaster.xyz/search?merkleRoot=0xb08f4bf7fc3a96d2c1c95c086ccba80743c4d934\" target=\"_blank\">merkleRoot</a></strong></p>\n",
       "            <p><strong>@matthew · fid 473</strong></p>\n",
       "            <div style=\"word-wrap: break-word; margin: 10px 0;\">Would love feedback on the new sign-in-with-farcaster page for @event. Do you understand what’s being asked? Is there any way it could be clearer? context: it uses Rainbowkit to sign in when you click the button, and directs you to an error page if you try using your connected address. </div>\n",
       "    <div style=\"text-align: center;\"><img src=\"https://i.imgur.com/PVZBFTk.jpg\" style=\"max-width: 550px; margin-top: 10px;\"></div><p style=\"color: purple; margin: 10px 0 0;\">&#x1F49C; 41 <span style=\"margin-left: 5px; margin-top: 10px;\">&#x1F4AC; 19</span></p></div></div>"
      ],
      "text/plain": [
       "<IPython.core.display.HTML object>"
      ]
     },
     "metadata": {},
     "output_type": "display_data"
    },
    {
     "data": {
      "text/html": [
       "\n",
       "    <div style=\"border: 1px solid #ccc; max-width: 600px; padding: 25px; margin-bottom: 25px;\">\n",
       "        <div style=\"max-width: 550px; margin: 0 auto;\">\n",
       "            <p><strong><a href=\"https://searchcaster.xyz/search?merkleRoot=0xe7858a08146233edda66dd3bbbc023c95ea35287\" target=\"_blank\">merkleRoot</a></strong></p>\n",
       "            <p><strong>@fredwilson · fid 169</strong></p>\n",
       "            <div style=\"word-wrap: break-word; margin: 10px 0;\">Hi Farcasters. I like to write two posts over the New Year holiday. One looking back at the year that is ending and one looking forward to the year that is starting. I posted my look back at 2022 just now <a href=\"https://avc.mirror.xyz/3Hp2OYp53x2t_yK6YQAVcHReqYkfzIfGbUlb4SCv9ps\" target=\"_blank\">https://avc.mirror.xyz/3Hp2OYp53x2t_yK6YQAVcHReqYkfzIfGbUlb4SCv9ps</a></div>\n",
       "    <p style=\"color: purple; margin: 10px 0 0;\">&#x1F49C; 38 <span style=\"margin-left: 5px; margin-top: 10px;\">&#x1F4AC; 2</span></p></div></div>"
      ],
      "text/plain": [
       "<IPython.core.display.HTML object>"
      ]
     },
     "metadata": {},
     "output_type": "display_data"
    },
    {
     "data": {
      "text/html": [
       "\n",
       "    <div style=\"border: 1px solid #ccc; max-width: 600px; padding: 25px; margin-bottom: 25px;\">\n",
       "        <div style=\"max-width: 550px; margin: 0 auto;\">\n",
       "            <p><strong><a href=\"https://searchcaster.xyz/search?merkleRoot=0x7f7ca52b7617e26b9e8f9f861337702cdc1ffa68\" target=\"_blank\">merkleRoot</a></strong></p>\n",
       "            <p><strong>@giu · fid 124</strong></p>\n",
       "            <div style=\"word-wrap: break-word; margin: 10px 0;\">I think nuclear fusion is one of the most important technologies being developed this decade.</div>\n",
       "    <p style=\"color: purple; margin: 10px 0 0;\">&#x1F49C; 38 <span style=\"margin-left: 5px; margin-top: 10px;\">&#x1F4AC; 8</span></p></div></div>"
      ],
      "text/plain": [
       "<IPython.core.display.HTML object>"
      ]
     },
     "metadata": {},
     "output_type": "display_data"
    },
    {
     "data": {
      "text/html": [
       "\n",
       "    <div style=\"border: 1px solid #ccc; max-width: 600px; padding: 25px; margin-bottom: 25px;\">\n",
       "        <div style=\"max-width: 550px; margin: 0 auto;\">\n",
       "            <p><strong><a href=\"https://searchcaster.xyz/search?merkleRoot=0x6bf1a37c630e5cbc70a3d54a7e5a6c6d461242b2\" target=\"_blank\">merkleRoot</a></strong></p>\n",
       "            <p><strong>@ccarella · fid 472</strong></p>\n",
       "            <div style=\"word-wrap: break-word; margin: 10px 0;\">I learned about Fleek on FC via @freeparticle’s answer to a question about hosting. It’s pretty cool and I’m deploying a project in it this week.<br><br>“The new open web: permissionless, trustless, censorship resistant, and free of centralized gatekeepers.”<br><br>aka website on IPFS<br><br><a href=\"https://fleek.co\" target=\"_blank\">https://fleek.co</a></div>\n",
       "    <p style=\"color: purple; margin: 10px 0 0;\">&#x1F49C; 38 <span style=\"margin-left: 5px; margin-top: 10px;\">&#x1F4AC; 7</span></p></div></div>"
      ],
      "text/plain": [
       "<IPython.core.display.HTML object>"
      ]
     },
     "metadata": {},
     "output_type": "display_data"
    },
    {
     "data": {
      "text/html": [
       "\n",
       "    <div style=\"border: 1px solid #ccc; max-width: 600px; padding: 25px; margin-bottom: 25px;\">\n",
       "        <div style=\"max-width: 550px; margin: 0 auto;\">\n",
       "            <p><strong><a href=\"https://searchcaster.xyz/search?merkleRoot=0xddf08b5c10571a9992d1ac712345ef5fdac0a319\" target=\"_blank\">merkleRoot</a></strong></p>\n",
       "            <p><strong>@dwr · fid 3</strong></p>\n",
       "            <div style=\"word-wrap: break-word; margin: 10px 0;\">I read the report as Apple counter intel folks spreading details within the company to find leaks. Too many un-Apple-like details.<br><br>But this bit from Gruber:<br><br>> This headset project is very much real and, I believe, very much shipping this year.<br><br>LFG! <br><br><a href=\"https://daringfireball.net/2023/01/information_apple_headset\" target=\"_blank\">https://daringfireball.net/2023/01/information_apple_headset</a></div>\n",
       "    <p style=\"color: purple; margin: 10px 0 0;\">&#x1F49C; 36 <span style=\"margin-left: 5px; margin-top: 10px;\">&#x1F4AC; 8</span></p></div></div>"
      ],
      "text/plain": [
       "<IPython.core.display.HTML object>"
      ]
     },
     "metadata": {},
     "output_type": "display_data"
    },
    {
     "data": {
      "text/html": [
       "\n",
       "    <div style=\"border: 1px solid #ccc; max-width: 600px; padding: 25px; margin-bottom: 25px;\">\n",
       "        <div style=\"max-width: 550px; margin: 0 auto;\">\n",
       "            <p><strong><a href=\"https://searchcaster.xyz/search?merkleRoot=0xd3823d1c5b48c26a4c682cd57ccacf109d7a7e2f\" target=\"_blank\">merkleRoot</a></strong></p>\n",
       "            <p><strong>@linda · fid 12</strong></p>\n",
       "            <div style=\"word-wrap: break-word; margin: 10px 0;\">Went kayaking around the icebergs in Torres del Paine and it was beautiful! And then at the end our kayak flipped over and we fell into freezing glacier water but it was still worth it 😅  </div>\n",
       "    <div style=\"text-align: center;\"><img src=\"https://i.imgur.com/DYKhuad.jpg\" style=\"max-width: 550px; margin-top: 10px;\"></div><p style=\"color: purple; margin: 10px 0 0;\">&#x1F49C; 35 <span style=\"margin-left: 5px; margin-top: 10px;\">&#x1F4AC; 4</span></p></div></div>"
      ],
      "text/plain": [
       "<IPython.core.display.HTML object>"
      ]
     },
     "metadata": {},
     "output_type": "display_data"
    },
    {
     "data": {
      "text/html": [
       "\n",
       "    <div style=\"border: 1px solid #ccc; max-width: 600px; padding: 25px; margin-bottom: 25px;\">\n",
       "        <div style=\"max-width: 550px; margin: 0 auto;\">\n",
       "            <p><strong><a href=\"https://searchcaster.xyz/search?merkleRoot=0xe0433b0e16c91cd3a2431af35dd5d701eb839350\" target=\"_blank\">merkleRoot</a></strong></p>\n",
       "            <p><strong>@jacob · fid 8</strong></p>\n",
       "            <div style=\"word-wrap: break-word; margin: 10px 0;\">2023 </div>\n",
       "    <div style=\"text-align: center;\"><img src=\"https://i.imgur.com/zz0s1ua.jpg\" style=\"max-width: 550px; margin-top: 10px;\"></div><p style=\"color: purple; margin: 10px 0 0;\">&#x1F49C; 35 <span style=\"margin-left: 5px; margin-top: 10px;\">&#x1F4AC; 3</span></p></div></div>"
      ],
      "text/plain": [
       "<IPython.core.display.HTML object>"
      ]
     },
     "metadata": {},
     "output_type": "display_data"
    },
    {
     "data": {
      "text/html": [
       "\n",
       "    <div style=\"border: 1px solid #ccc; max-width: 600px; padding: 25px; margin-bottom: 25px;\">\n",
       "        <div style=\"max-width: 550px; margin: 0 auto;\">\n",
       "            <p><strong><a href=\"https://searchcaster.xyz/search?merkleRoot=0xbaedd97bedfb00286638d2286eaadd5fa5013eed\" target=\"_blank\">merkleRoot</a></strong></p>\n",
       "            <p><strong>@pushix · fid 359</strong></p>\n",
       "            <div style=\"word-wrap: break-word; margin: 10px 0;\">Read a lot of non fiction recently so I’m treating myself. Book 1/6, never read them! I’m pretty excited LFG 🚀 </div>\n",
       "    <div style=\"text-align: center;\"><img src=\"https://i.imgur.com/0w875nd.jpg\" style=\"max-width: 550px; margin-top: 10px;\"></div><p style=\"color: purple; margin: 10px 0 0;\">&#x1F49C; 35 <span style=\"margin-left: 5px; margin-top: 10px;\">&#x1F4AC; 9</span></p></div></div>"
      ],
      "text/plain": [
       "<IPython.core.display.HTML object>"
      ]
     },
     "metadata": {},
     "output_type": "display_data"
    },
    {
     "data": {
      "text/html": [
       "\n",
       "    <div style=\"border: 1px solid #ccc; max-width: 600px; padding: 25px; margin-bottom: 25px;\">\n",
       "        <div style=\"max-width: 550px; margin: 0 auto;\">\n",
       "            <p><strong><a href=\"https://searchcaster.xyz/search?merkleRoot=0x4d2fe6fdc30dd36c6080048559d732de40aa3f9c\" target=\"_blank\">merkleRoot</a></strong></p>\n",
       "            <p><strong>@mk · fid 143</strong></p>\n",
       "            <div style=\"word-wrap: break-word; margin: 10px 0;\">gm ☕️ </div>\n",
       "    <div style=\"text-align: center;\"><img src=\"https://i.imgur.com/etzjWN2.jpg\" style=\"max-width: 550px; margin-top: 10px;\"></div><p style=\"color: purple; margin: 10px 0 0;\">&#x1F49C; 34 <span style=\"margin-left: 5px; margin-top: 10px;\">&#x1F4AC; 1</span></p></div></div>"
      ],
      "text/plain": [
       "<IPython.core.display.HTML object>"
      ]
     },
     "metadata": {},
     "output_type": "display_data"
    },
    {
     "data": {
      "text/html": [
       "\n",
       "    <div style=\"border: 1px solid #ccc; max-width: 600px; padding: 25px; margin-bottom: 25px;\">\n",
       "        <div style=\"max-width: 550px; margin: 0 auto;\">\n",
       "            <p><strong><a href=\"https://searchcaster.xyz/search?merkleRoot=0xdc61e6f281f38ffeef4eca8c13622f8f680d1f55\" target=\"_blank\">merkleRoot</a></strong></p>\n",
       "            <p><strong>@cameron · fid 617</strong></p>\n",
       "            <div style=\"word-wrap: break-word; margin: 10px 0;\">Saw a big dumb hole that made me feel like the ant on a space rock that I am </div>\n",
       "    <div style=\"text-align: center;\"><img src=\"https://i.imgur.com/FAr4pjy.jpg\" style=\"max-width: 550px; margin-top: 10px;\"></div><p style=\"color: purple; margin: 10px 0 0;\">&#x1F49C; 34 <span style=\"margin-left: 5px; margin-top: 10px;\">&#x1F4AC; 5</span></p></div></div>"
      ],
      "text/plain": [
       "<IPython.core.display.HTML object>"
      ]
     },
     "metadata": {},
     "output_type": "display_data"
    },
    {
     "data": {
      "text/html": [
       "\n",
       "    <div style=\"border: 1px solid #ccc; max-width: 600px; padding: 25px; margin-bottom: 25px;\">\n",
       "        <div style=\"max-width: 550px; margin: 0 auto;\">\n",
       "            <p><strong><a href=\"https://searchcaster.xyz/search?merkleRoot=0x8626f5a8a6a393b7ea0ebb00df068d27b1cce37b\" target=\"_blank\">merkleRoot</a></strong></p>\n",
       "            <p><strong>@seanbonner · fid 4952</strong></p>\n",
       "            <div style=\"word-wrap: break-word; margin: 10px 0;\">Hello from the top of Mt Takao, Tokyo. Here to welcome in the first sunrise of 2023! </div>\n",
       "    <div style=\"text-align: center;\"><img src=\"https://i.imgur.com/4TE6LIp.jpg\" style=\"max-width: 550px; margin-top: 10px;\"></div><p style=\"color: purple; margin: 10px 0 0;\">&#x1F49C; 34 <span style=\"margin-left: 5px; margin-top: 10px;\">&#x1F4AC; 4</span></p></div></div>"
      ],
      "text/plain": [
       "<IPython.core.display.HTML object>"
      ]
     },
     "metadata": {},
     "output_type": "display_data"
    },
    {
     "data": {
      "text/html": [
       "\n",
       "    <div style=\"border: 1px solid #ccc; max-width: 600px; padding: 25px; margin-bottom: 25px;\">\n",
       "        <div style=\"max-width: 550px; margin: 0 auto;\">\n",
       "            <p><strong><a href=\"https://searchcaster.xyz/search?merkleRoot=0xad35d5de762b3dc5ad05f0126becdc60b559340b\" target=\"_blank\">merkleRoot</a></strong></p>\n",
       "            <p><strong>@v · fid 2</strong></p>\n",
       "            <div style=\"word-wrap: break-word; margin: 10px 0;\">GN Farcasters 🌧️ <br><br>Here's a video preview of our roadmap for the next 6 months and what we're focussed on<br><br><a href=\"https://youtu.be/-5KtJFcmkuo\" target=\"_blank\">https://youtu.be/-5KtJFcmkuo</a></div>\n",
       "    <p style=\"color: purple; margin: 10px 0 0;\">&#x1F49C; 33 <span style=\"margin-left: 5px; margin-top: 10px;\">&#x1F4AC; 5</span></p></div></div>"
      ],
      "text/plain": [
       "<IPython.core.display.HTML object>"
      ]
     },
     "metadata": {},
     "output_type": "display_data"
    },
    {
     "data": {
      "text/html": [
       "\n",
       "    <div style=\"border: 1px solid #ccc; max-width: 600px; padding: 25px; margin-bottom: 25px;\">\n",
       "        <div style=\"max-width: 550px; margin: 0 auto;\">\n",
       "            <p><strong><a href=\"https://searchcaster.xyz/search?merkleRoot=0xa43038bfd60fd947a77ca1f99ef96a4a9a66bacb\" target=\"_blank\">merkleRoot</a></strong></p>\n",
       "            <p><strong>@v · fid 2</strong></p>\n",
       "            <div style=\"word-wrap: break-word; margin: 10px 0;\">GM 🌦️ <br><br>Today's 5-minute explainer covers delta-graphs, the data structure used to synchronize the social network across different hubs<br><br><a href=\"https://youtu.be/JcO9UA2R6JY\" target=\"_blank\">https://youtu.be/JcO9UA2R6JY</a></div>\n",
       "    <p style=\"color: purple; margin: 10px 0 0;\">&#x1F49C; 33 <span style=\"margin-left: 5px; margin-top: 10px;\">&#x1F4AC; 5</span></p></div></div>"
      ],
      "text/plain": [
       "<IPython.core.display.HTML object>"
      ]
     },
     "metadata": {},
     "output_type": "display_data"
    },
    {
     "data": {
      "text/html": [
       "\n",
       "    <div style=\"border: 1px solid #ccc; max-width: 600px; padding: 25px; margin-bottom: 25px;\">\n",
       "        <div style=\"max-width: 550px; margin: 0 auto;\">\n",
       "            <p><strong><a href=\"https://searchcaster.xyz/search?merkleRoot=0xc63f41a8a521340a160e42989e2f630dceff4698\" target=\"_blank\">merkleRoot</a></strong></p>\n",
       "            <p><strong>@nonlinear · fid 576</strong></p>\n",
       "            <div style=\"word-wrap: break-word; margin: 10px 0;\">gm coffeecasters </div>\n",
       "    <div style=\"text-align: center;\"><img src=\"https://i.imgur.com/IotvTlu.jpg\" style=\"max-width: 550px; margin-top: 10px;\"></div><p style=\"color: purple; margin: 10px 0 0;\">&#x1F49C; 33 <span style=\"margin-left: 5px; margin-top: 10px;\">&#x1F4AC; 7</span></p></div></div>"
      ],
      "text/plain": [
       "<IPython.core.display.HTML object>"
      ]
     },
     "metadata": {},
     "output_type": "display_data"
    },
    {
     "data": {
      "text/html": [
       "\n",
       "    <div style=\"border: 1px solid #ccc; max-width: 600px; padding: 25px; margin-bottom: 25px;\">\n",
       "        <div style=\"max-width: 550px; margin: 0 auto;\">\n",
       "            <p><strong><a href=\"https://searchcaster.xyz/search?merkleRoot=0xa154e62f240d4fccb61d075ba4d804f98d63d279\" target=\"_blank\">merkleRoot</a></strong></p>\n",
       "            <p><strong>@briang · fid 548</strong></p>\n",
       "            <div style=\"word-wrap: break-word; margin: 10px 0;\">wish my feed would have less general, google-able questions and more actually interesting content<br><br>like I don’t wanna learn what XYZs favorite brand of coffee is or what they would do if they were Jesus for a day<br><br>show me something cool, teach me something, or do something funny</div>\n",
       "    <p style=\"color: purple; margin: 10px 0 0;\">&#x1F49C; 33 <span style=\"margin-left: 5px; margin-top: 10px;\">&#x1F4AC; 16</span></p></div></div>"
      ],
      "text/plain": [
       "<IPython.core.display.HTML object>"
      ]
     },
     "metadata": {},
     "output_type": "display_data"
    },
    {
     "data": {
      "text/html": [
       "\n",
       "    <div style=\"border: 1px solid #ccc; max-width: 600px; padding: 25px; margin-bottom: 25px;\">\n",
       "        <div style=\"max-width: 550px; margin: 0 auto;\">\n",
       "            <p><strong><a href=\"https://searchcaster.xyz/search?merkleRoot=0xdf8d7e19f508bb6cf37127e4f3952b0556d061b9\" target=\"_blank\">merkleRoot</a></strong></p>\n",
       "            <p><strong>@minh · fid 999</strong></p>\n",
       "            <div style=\"word-wrap: break-word; margin: 10px 0;\">In 2023, shrooms are going to exponentially outpace alcohol in growth.</div>\n",
       "    <p style=\"color: purple; margin: 10px 0 0;\">&#x1F49C; 32 <span style=\"margin-left: 5px; margin-top: 10px;\">&#x1F4AC; 11</span></p></div></div>"
      ],
      "text/plain": [
       "<IPython.core.display.HTML object>"
      ]
     },
     "metadata": {},
     "output_type": "display_data"
    },
    {
     "data": {
      "text/html": [
       "\n",
       "    <div style=\"border: 1px solid #ccc; max-width: 600px; padding: 25px; margin-bottom: 25px;\">\n",
       "        <div style=\"max-width: 550px; margin: 0 auto;\">\n",
       "            <p><strong><a href=\"https://searchcaster.xyz/search?merkleRoot=0x0d7aa1e364f3c753fba8662852ed5f627dc0a125\" target=\"_blank\">merkleRoot</a></strong></p>\n",
       "            <p><strong>@kn · fid 258</strong></p>\n",
       "            <div style=\"word-wrap: break-word; margin: 10px 0;\">HNY from NY 🎉 </div>\n",
       "    <div style=\"text-align: center;\"><img src=\"https://i.imgur.com/iJRSwuQ.jpg\" style=\"max-width: 550px; margin-top: 10px;\"></div><p style=\"color: purple; margin: 10px 0 0;\">&#x1F49C; 32 <span style=\"margin-left: 5px; margin-top: 10px;\">&#x1F4AC; 1</span></p></div></div>"
      ],
      "text/plain": [
       "<IPython.core.display.HTML object>"
      ]
     },
     "metadata": {},
     "output_type": "display_data"
    },
    {
     "data": {
      "text/html": [
       "\n",
       "    <div style=\"border: 1px solid #ccc; max-width: 600px; padding: 25px; margin-bottom: 25px;\">\n",
       "        <div style=\"max-width: 550px; margin: 0 auto;\">\n",
       "            <p><strong><a href=\"https://searchcaster.xyz/search?merkleRoot=0x0f7dbc76867db6f7e79ceb9689c38495d3039a1f\" target=\"_blank\">merkleRoot</a></strong></p>\n",
       "            <p><strong>@greg · fid 347</strong></p>\n",
       "            <div style=\"word-wrap: break-word; margin: 10px 0;\">feeling refreshed and ready for the year </div>\n",
       "    <div style=\"text-align: center;\"><img src=\"https://i.imgur.com/MDwWtab.jpg\" style=\"max-width: 550px; margin-top: 10px;\"></div><p style=\"color: purple; margin: 10px 0 0;\">&#x1F49C; 32 <span style=\"margin-left: 5px; margin-top: 10px;\">&#x1F4AC; 1</span></p></div></div>"
      ],
      "text/plain": [
       "<IPython.core.display.HTML object>"
      ]
     },
     "metadata": {},
     "output_type": "display_data"
    },
    {
     "data": {
      "text/html": [
       "\n",
       "    <div style=\"border: 1px solid #ccc; max-width: 600px; padding: 25px; margin-bottom: 25px;\">\n",
       "        <div style=\"max-width: 550px; margin: 0 auto;\">\n",
       "            <p><strong><a href=\"https://searchcaster.xyz/search?merkleRoot=0xb3113d1d7315d88fa56e73627ffcf81634c93916\" target=\"_blank\">merkleRoot</a></strong></p>\n",
       "            <p><strong>@cameron · fid 617</strong></p>\n",
       "            <div style=\"word-wrap: break-word; margin: 10px 0;\">How do you process idols and inspirations in your life?<br><br>Do you want to be like somebody? <br><br>Do you want to emulate a specific trait?<br><br>Do you want to literally be them?<br><br>Been trying to visualize end states recently and realized I might not understand how other people actually think 😂</div>\n",
       "    <p style=\"color: purple; margin: 10px 0 0;\">&#x1F49C; 32 <span style=\"margin-left: 5px; margin-top: 10px;\">&#x1F4AC; 13</span></p></div></div>"
      ],
      "text/plain": [
       "<IPython.core.display.HTML object>"
      ]
     },
     "metadata": {},
     "output_type": "display_data"
    },
    {
     "data": {
      "text/html": [
       "\n",
       "    <div style=\"border: 1px solid #ccc; max-width: 600px; padding: 25px; margin-bottom: 25px;\">\n",
       "        <div style=\"max-width: 550px; margin: 0 auto;\">\n",
       "            <p><strong><a href=\"https://searchcaster.xyz/search?merkleRoot=0x4a14271374738a91abb7894a0cfce8b184162ba3\" target=\"_blank\">merkleRoot</a></strong></p>\n",
       "            <p><strong>@amitmukherjee · fid 540</strong></p>\n",
       "            <div style=\"word-wrap: break-word; margin: 10px 0;\">In my entire personal network, I think I know only 1 person who actually lifts weights. Why is this? I wonder (1) what percentage of my friends regularly work out and don't talk about it and (2) what percentage of these people lift weights versus doing other stuff. <br><br>I imagine it's (1) 50% and (2) 5-10%.</div>\n",
       "    <p style=\"color: purple; margin: 10px 0 0;\">&#x1F49C; 32 <span style=\"margin-left: 5px; margin-top: 10px;\">&#x1F4AC; 19</span></p></div></div>"
      ],
      "text/plain": [
       "<IPython.core.display.HTML object>"
      ]
     },
     "metadata": {},
     "output_type": "display_data"
    },
    {
     "data": {
      "text/html": [
       "\n",
       "    <div style=\"border: 1px solid #ccc; max-width: 600px; padding: 25px; margin-bottom: 25px;\">\n",
       "        <div style=\"max-width: 550px; margin: 0 auto;\">\n",
       "            <p><strong><a href=\"https://searchcaster.xyz/search?merkleRoot=0x6d3a768c79c6d57853a523b3d0583f9a9ec555ff\" target=\"_blank\">merkleRoot</a></strong></p>\n",
       "            <p><strong>@matoken · fid 6918</strong></p>\n",
       "            <div style=\"word-wrap: break-word; margin: 10px 0;\">Any active NFT artists active on Farcaster? Would love to follow some</div>\n",
       "    <p style=\"color: purple; margin: 10px 0 0;\">&#x1F49C; 31 <span style=\"margin-left: 5px; margin-top: 10px;\">&#x1F4AC; 13</span></p></div></div>"
      ],
      "text/plain": [
       "<IPython.core.display.HTML object>"
      ]
     },
     "metadata": {},
     "output_type": "display_data"
    },
    {
     "data": {
      "text/html": [
       "\n",
       "    <div style=\"border: 1px solid #ccc; max-width: 600px; padding: 25px; margin-bottom: 25px;\">\n",
       "        <div style=\"max-width: 550px; margin: 0 auto;\">\n",
       "            <p><strong><a href=\"https://searchcaster.xyz/search?merkleRoot=0x33cb8e02b1ad89d23693d39a663bc23706114853\" target=\"_blank\">merkleRoot</a></strong></p>\n",
       "            <p><strong>@ted · fid 239</strong></p>\n",
       "            <div style=\"word-wrap: break-word; margin: 10px 0;\">I think people who don’t like salads just haven’t had a good salad yet</div>\n",
       "    <p style=\"color: purple; margin: 10px 0 0;\">&#x1F49C; 31 <span style=\"margin-left: 5px; margin-top: 10px;\">&#x1F4AC; 8</span></p></div></div>"
      ],
      "text/plain": [
       "<IPython.core.display.HTML object>"
      ]
     },
     "metadata": {},
     "output_type": "display_data"
    },
    {
     "data": {
      "text/html": [
       "\n",
       "    <div style=\"border: 1px solid #ccc; max-width: 600px; padding: 25px; margin-bottom: 25px;\">\n",
       "        <div style=\"max-width: 550px; margin: 0 auto;\">\n",
       "            <p><strong><a href=\"https://searchcaster.xyz/search?merkleRoot=0xa204fc251502f681fb40e52fb1da6d5c165c184d\" target=\"_blank\">merkleRoot</a></strong></p>\n",
       "            <p><strong>@briang · fid 548</strong></p>\n",
       "            <div style=\"word-wrap: break-word; margin: 10px 0;\">excited to launch the first creator token for @unlonely! $BRIAN will let you control what my stream looks like, one example shown below. Here’s how it works: 0.01 ETH gets you 20 $BRIAN. Funds raised go to paying ppl who help build content(editing streams to short videos, etc). </div>\n",
       "    <div style=\"text-align: center;\"><img src=\"https://i.imgur.com/63OLRAV.jpg\" style=\"max-width: 550px; margin-top: 10px;\"></div><p style=\"color: purple; margin: 10px 0 0;\">&#x1F49C; 31 <span style=\"margin-left: 5px; margin-top: 10px;\">&#x1F4AC; 13</span></p></div></div>"
      ],
      "text/plain": [
       "<IPython.core.display.HTML object>"
      ]
     },
     "metadata": {},
     "output_type": "display_data"
    },
    {
     "data": {
      "text/html": [
       "\n",
       "    <div style=\"border: 1px solid #ccc; max-width: 600px; padding: 25px; margin-bottom: 25px;\">\n",
       "        <div style=\"max-width: 550px; margin: 0 auto;\">\n",
       "            <p><strong><a href=\"https://searchcaster.xyz/search?merkleRoot=0x6261152e37028051ecbe4e9ad9c0a4c16c347ea6\" target=\"_blank\">merkleRoot</a></strong></p>\n",
       "            <p><strong>@dwr · fid 3</strong></p>\n",
       "            <div style=\"word-wrap: break-word; margin: 10px 0;\">Useful Farcaster APIs built by @pixel:<br><br>Worth pointing out that with Farcaster, if you find existing APIs to be lacking you can just build new APIs yourself.<br><br><a href=\"https://api.phrasetown.com/docs\" target=\"_blank\">https://api.phrasetown.com/docs</a></div>\n",
       "    <p style=\"color: purple; margin: 10px 0 0;\">&#x1F49C; 31 <span style=\"margin-left: 5px; margin-top: 10px;\">&#x1F4AC; 4</span></p></div></div>"
      ],
      "text/plain": [
       "<IPython.core.display.HTML object>"
      ]
     },
     "metadata": {},
     "output_type": "display_data"
    },
    {
     "data": {
      "text/html": [
       "\n",
       "    <div style=\"border: 1px solid #ccc; max-width: 600px; padding: 25px; margin-bottom: 25px;\">\n",
       "        <div style=\"max-width: 550px; margin: 0 auto;\">\n",
       "            <p><strong><a href=\"https://searchcaster.xyz/search?merkleRoot=0xcd559776fc5e98879cfd24ffde0949ef41602b6f\" target=\"_blank\">merkleRoot</a></strong></p>\n",
       "            <p><strong>@v · fid 2</strong></p>\n",
       "            <div style=\"word-wrap: break-word; margin: 10px 0;\">New food pyramid recommendations are comically bad, their implementations are even worse. <br><br><a href=\"https://www.piratewires.com/p/tufts-food-compass\" target=\"_blank\">https://www.piratewires.com/p/tufts-food-compass</a></div>\n",
       "    <p style=\"color: purple; margin: 10px 0 0;\">&#x1F49C; 31 <span style=\"margin-left: 5px; margin-top: 10px;\">&#x1F4AC; 8</span></p></div></div>"
      ],
      "text/plain": [
       "<IPython.core.display.HTML object>"
      ]
     },
     "metadata": {},
     "output_type": "display_data"
    },
    {
     "data": {
      "text/html": [
       "\n",
       "    <div style=\"border: 1px solid #ccc; max-width: 600px; padding: 25px; margin-bottom: 25px;\">\n",
       "        <div style=\"max-width: 550px; margin: 0 auto;\">\n",
       "            <p><strong><a href=\"https://searchcaster.xyz/search?merkleRoot=0x9646fbcadbbe572e8da10a43bebe86527ff4ce99\" target=\"_blank\">merkleRoot</a></strong></p>\n",
       "            <p><strong>@greg · fid 347</strong></p>\n",
       "            <div style=\"word-wrap: break-word; margin: 10px 0;\">finally got around to making a github template for kickstarting new web3 frontend projects <a href=\"https://github.com/gskril/web3-starter\" target=\"_blank\">https://github.com/gskril/web3-starter</a> <br><br>pretty simple, but confident this will save me a ton of time this year so figured I'd share</div>\n",
       "    <p style=\"color: purple; margin: 10px 0 0;\">&#x1F49C; 31 <span style=\"margin-left: 5px; margin-top: 10px;\">&#x1F4AC; 5</span></p></div></div>"
      ],
      "text/plain": [
       "<IPython.core.display.HTML object>"
      ]
     },
     "metadata": {},
     "output_type": "display_data"
    },
    {
     "data": {
      "text/html": [
       "\n",
       "    <div style=\"border: 1px solid #ccc; max-width: 600px; padding: 25px; margin-bottom: 25px;\">\n",
       "        <div style=\"max-width: 550px; margin: 0 auto;\">\n",
       "            <p><strong><a href=\"https://searchcaster.xyz/search?merkleRoot=0x779442417fcbeac113bc9ee25e8239fdeeac9074\" target=\"_blank\">merkleRoot</a></strong></p>\n",
       "            <p><strong>@july · fid 1287</strong></p>\n",
       "            <div style=\"word-wrap: break-word; margin: 10px 0;\">Why study the classics?<br><br>Perhaps everything is a remix of the past. With slightly different interpretations, unique to that time, we copy the past and remix it. Then, why not study the past original remixes that have stood the test of time and have survived. A path to better understand ourselves and the world around us</div>\n",
       "    <p style=\"color: purple; margin: 10px 0 0;\">&#x1F49C; 30 <span style=\"margin-left: 5px; margin-top: 10px;\">&#x1F4AC; 3</span></p></div></div>"
      ],
      "text/plain": [
       "<IPython.core.display.HTML object>"
      ]
     },
     "metadata": {},
     "output_type": "display_data"
    },
    {
     "data": {
      "text/html": [
       "\n",
       "    <div style=\"border: 1px solid #ccc; max-width: 600px; padding: 25px; margin-bottom: 25px;\">\n",
       "        <div style=\"max-width: 550px; margin: 0 auto;\">\n",
       "            <p><strong><a href=\"https://searchcaster.xyz/search?merkleRoot=0x3f546d0c3fb3dd0a64bda411488297eb2cb5c9f3\" target=\"_blank\">merkleRoot</a></strong></p>\n",
       "            <p><strong>@brianjckim · fid 426</strong></p>\n",
       "            <div style=\"word-wrap: break-word; margin: 10px 0;\">bookmarking this for future reference </div>\n",
       "    <div style=\"text-align: center;\"><img src=\"https://i.imgur.com/kiNxKUz.png\" style=\"max-width: 550px; margin-top: 10px;\"></div><p style=\"color: purple; margin: 10px 0 0;\">&#x1F49C; 30 <span style=\"margin-left: 5px; margin-top: 10px;\">&#x1F4AC; 2</span></p></div></div>"
      ],
      "text/plain": [
       "<IPython.core.display.HTML object>"
      ]
     },
     "metadata": {},
     "output_type": "display_data"
    },
    {
     "data": {
      "text/html": [
       "\n",
       "    <div style=\"border: 1px solid #ccc; max-width: 600px; padding: 25px; margin-bottom: 25px;\">\n",
       "        <div style=\"max-width: 550px; margin: 0 auto;\">\n",
       "            <p><strong><a href=\"https://searchcaster.xyz/search?merkleRoot=0xdb76ec7e6babbf121aacdbbaf4d7c650eacc102d\" target=\"_blank\">merkleRoot</a></strong></p>\n",
       "            <p><strong>@lndnnft · fid 1117</strong></p>\n",
       "            <div style=\"word-wrap: break-word; margin: 10px 0;\">2022 was by far the best year of my life, can’t thank all of you enough 💜 <br><br>Can’t wait to make 2023 even better </div>\n",
       "    <div style=\"text-align: center;\"><img src=\"https://i.imgur.com/0IQ3rov.jpg\" style=\"max-width: 550px; margin-top: 10px;\"></div><p style=\"color: purple; margin: 10px 0 0;\">&#x1F49C; 29 <span style=\"margin-left: 5px; margin-top: 10px;\">&#x1F4AC; 4</span></p></div></div>"
      ],
      "text/plain": [
       "<IPython.core.display.HTML object>"
      ]
     },
     "metadata": {},
     "output_type": "display_data"
    },
    {
     "data": {
      "text/html": [
       "\n",
       "    <div style=\"border: 1px solid #ccc; max-width: 600px; padding: 25px; margin-bottom: 25px;\">\n",
       "        <div style=\"max-width: 550px; margin: 0 auto;\">\n",
       "            <p><strong><a href=\"https://searchcaster.xyz/search?merkleRoot=0xf74012429c07a829d31beb9ad3f43c209ef35af1\" target=\"_blank\">merkleRoot</a></strong></p>\n",
       "            <p><strong>@v · fid 2</strong></p>\n",
       "            <div style=\"word-wrap: break-word; margin: 10px 0;\">Congrats @garrytan !<br><br><a href=\"https://twitter.com/garrytan/status/1609637042002219008?s=46&t=kTOZUm2ObhvQmuwfYka1cA\" target=\"_blank\">https://twitter.com/garrytan/status/1609637042002219008?s=46&t=kTOZUm2ObhvQmuwfYka1cA</a></div>\n",
       "    <p style=\"color: purple; margin: 10px 0 0;\">&#x1F49C; 29 <span style=\"margin-left: 5px; margin-top: 10px;\">&#x1F4AC; 0</span></p></div></div>"
      ],
      "text/plain": [
       "<IPython.core.display.HTML object>"
      ]
     },
     "metadata": {},
     "output_type": "display_data"
    },
    {
     "data": {
      "text/html": [
       "\n",
       "    <div style=\"border: 1px solid #ccc; max-width: 600px; padding: 25px; margin-bottom: 25px;\">\n",
       "        <div style=\"max-width: 550px; margin: 0 auto;\">\n",
       "            <p><strong><a href=\"https://searchcaster.xyz/search?merkleRoot=0x2146ab83e0a1d478992cad6ab89f48d6a8558115\" target=\"_blank\">merkleRoot</a></strong></p>\n",
       "            <p><strong>@jl · fid 5525</strong></p>\n",
       "            <div style=\"word-wrap: break-word; margin: 10px 0;\">Is it just me, or does the volume of high quality non-fiction content written every year greatly exceed the volume of fiction content?<br><br>Would love to stumble across some new sci-fi fiction series, but always find myself going back to my favorites (Dune, anything Asimov, etc)</div>\n",
       "    <p style=\"color: purple; margin: 10px 0 0;\">&#x1F49C; 29 <span style=\"margin-left: 5px; margin-top: 10px;\">&#x1F4AC; 10</span></p></div></div>"
      ],
      "text/plain": [
       "<IPython.core.display.HTML object>"
      ]
     },
     "metadata": {},
     "output_type": "display_data"
    },
    {
     "data": {
      "text/html": [
       "\n",
       "    <div style=\"border: 1px solid #ccc; max-width: 600px; padding: 25px; margin-bottom: 25px;\">\n",
       "        <div style=\"max-width: 550px; margin: 0 auto;\">\n",
       "            <p><strong><a href=\"https://searchcaster.xyz/search?merkleRoot=0x37d8db3ec9d1e2c893d6f6f49aca760b73fbb1bd\" target=\"_blank\">merkleRoot</a></strong></p>\n",
       "            <p><strong>@matthew · fid 473</strong></p>\n",
       "            <div style=\"word-wrap: break-word; margin: 10px 0;\">Hell is trying to work with time zones in javascript</div>\n",
       "    <p style=\"color: purple; margin: 10px 0 0;\">&#x1F49C; 29 <span style=\"margin-left: 5px; margin-top: 10px;\">&#x1F4AC; 9</span></p></div></div>"
      ],
      "text/plain": [
       "<IPython.core.display.HTML object>"
      ]
     },
     "metadata": {},
     "output_type": "display_data"
    },
    {
     "data": {
      "text/html": [
       "\n",
       "    <div style=\"border: 1px solid #ccc; max-width: 600px; padding: 25px; margin-bottom: 25px;\">\n",
       "        <div style=\"max-width: 550px; margin: 0 auto;\">\n",
       "            <p><strong><a href=\"https://searchcaster.xyz/search?merkleRoot=0x54c3a72349e0abc4a93646ee1ec838042a1613d9\" target=\"_blank\">merkleRoot</a></strong></p>\n",
       "            <p><strong>@borodutch · fid 1356</strong></p>\n",
       "            <div style=\"word-wrap: break-word; margin: 10px 0;\">what is a healthy thing that you do but is for some reason mildly socially inacceptable?<br><br>e.g. all of my notifications are off after 6pm so mostly people can't reach me (i think it pisses off our amazon delivery person)</div>\n",
       "    <p style=\"color: purple; margin: 10px 0 0;\">&#x1F49C; 29 <span style=\"margin-left: 5px; margin-top: 10px;\">&#x1F4AC; 32</span></p></div></div>"
      ],
      "text/plain": [
       "<IPython.core.display.HTML object>"
      ]
     },
     "metadata": {},
     "output_type": "display_data"
    },
    {
     "data": {
      "text/html": [
       "\n",
       "    <div style=\"border: 1px solid #ccc; max-width: 600px; padding: 25px; margin-bottom: 25px;\">\n",
       "        <div style=\"max-width: 550px; margin: 0 auto;\">\n",
       "            <p><strong><a href=\"https://searchcaster.xyz/search?merkleRoot=0xfac696a0efd5b7f08124efab9bd61a1464f34d53\" target=\"_blank\">merkleRoot</a></strong></p>\n",
       "            <p><strong>@tim · fid 207</strong></p>\n",
       "            <div style=\"word-wrap: break-word; margin: 10px 0;\">one thing I sort of used to be afraid of but no longer am is that the current blockchain era wasn't like 1990's computing, but more like 1960s AI, with a 50 year winter ahead of us to \"make things work\" <br><br>used to think the odds might be 20-30%, now i'd say sub 5%!</div>\n",
       "    <p style=\"color: purple; margin: 10px 0 0;\">&#x1F49C; 28 <span style=\"margin-left: 5px; margin-top: 10px;\">&#x1F4AC; 4</span></p></div></div>"
      ],
      "text/plain": [
       "<IPython.core.display.HTML object>"
      ]
     },
     "metadata": {},
     "output_type": "display_data"
    },
    {
     "data": {
      "text/html": [
       "\n",
       "    <div style=\"border: 1px solid #ccc; max-width: 600px; padding: 25px; margin-bottom: 25px;\">\n",
       "        <div style=\"max-width: 550px; margin: 0 auto;\">\n",
       "            <p><strong><a href=\"https://searchcaster.xyz/search?merkleRoot=0xf5cb3fc1fae7ceb135271001dc7c66e466820669\" target=\"_blank\">merkleRoot</a></strong></p>\n",
       "            <p><strong>@hyper · fid 283</strong></p>\n",
       "            <div style=\"word-wrap: break-word; margin: 10px 0;\">I don’t have a reading list, I just buy every book I have conviction is interesting or worth my time and then read 20 or so pages of a bunch until I get to one I can’t put down</div>\n",
       "    <p style=\"color: purple; margin: 10px 0 0;\">&#x1F49C; 28 <span style=\"margin-left: 5px; margin-top: 10px;\">&#x1F4AC; 5</span></p></div></div>"
      ],
      "text/plain": [
       "<IPython.core.display.HTML object>"
      ]
     },
     "metadata": {},
     "output_type": "display_data"
    },
    {
     "data": {
      "text/html": [
       "\n",
       "    <div style=\"border: 1px solid #ccc; max-width: 600px; padding: 25px; margin-bottom: 25px;\">\n",
       "        <div style=\"max-width: 550px; margin: 0 auto;\">\n",
       "            <p><strong><a href=\"https://searchcaster.xyz/search?merkleRoot=0x5f0520ac359b35af8507dd4a561d3a7e6aea2837\" target=\"_blank\">merkleRoot</a></strong></p>\n",
       "            <p><strong>@libovness · fid 6</strong></p>\n",
       "            <div style=\"word-wrap: break-word; margin: 10px 0;\">Shower thought: As having kids in the US grows more expensive, having more kids will eventually become a status symbol. Maybe it already is.</div>\n",
       "    <p style=\"color: purple; margin: 10px 0 0;\">&#x1F49C; 28 <span style=\"margin-left: 5px; margin-top: 10px;\">&#x1F4AC; 11</span></p></div></div>"
      ],
      "text/plain": [
       "<IPython.core.display.HTML object>"
      ]
     },
     "metadata": {},
     "output_type": "display_data"
    },
    {
     "data": {
      "text/html": [
       "\n",
       "    <div style=\"border: 1px solid #ccc; max-width: 600px; padding: 25px; margin-bottom: 25px;\">\n",
       "        <div style=\"max-width: 550px; margin: 0 auto;\">\n",
       "            <p><strong><a href=\"https://searchcaster.xyz/search?merkleRoot=0x0bcb196fe5eb53b7c2e907a32f46589065687e62\" target=\"_blank\">merkleRoot</a></strong></p>\n",
       "            <p><strong>@alexanderchopan · fid 880</strong></p>\n",
       "            <div style=\"word-wrap: break-word; margin: 10px 0;\"></div>\n",
       "    <div style=\"text-align: center;\"><img src=\"https://i.imgur.com/iMj3gkA.jpg\" style=\"max-width: 550px; margin-top: 10px;\"></div><p style=\"color: purple; margin: 10px 0 0;\">&#x1F49C; 28 <span style=\"margin-left: 5px; margin-top: 10px;\">&#x1F4AC; 2</span></p></div></div>"
      ],
      "text/plain": [
       "<IPython.core.display.HTML object>"
      ]
     },
     "metadata": {},
     "output_type": "display_data"
    },
    {
     "data": {
      "text/html": [
       "\n",
       "    <div style=\"border: 1px solid #ccc; max-width: 600px; padding: 25px; margin-bottom: 25px;\">\n",
       "        <div style=\"max-width: 550px; margin: 0 auto;\">\n",
       "            <p><strong><a href=\"https://searchcaster.xyz/search?merkleRoot=0x4f7252d7d0da79a4c0bd153c7a7b712ddb1d7817\" target=\"_blank\">merkleRoot</a></strong></p>\n",
       "            <p><strong>@dwr · fid 3</strong></p>\n",
       "            <div style=\"word-wrap: break-word; margin: 10px 0;\">This was an surprisingly delightful UX. I tapped on the AA customer service number and was prompted to text with them instead. </div>\n",
       "    <div style=\"text-align: center;\"><img src=\"https://i.imgur.com/B4Ghzay.jpg\" style=\"max-width: 550px; margin-top: 10px;\"></div><p style=\"color: purple; margin: 10px 0 0;\">&#x1F49C; 28 <span style=\"margin-left: 5px; margin-top: 10px;\">&#x1F4AC; 5</span></p></div></div>"
      ],
      "text/plain": [
       "<IPython.core.display.HTML object>"
      ]
     },
     "metadata": {},
     "output_type": "display_data"
    },
    {
     "data": {
      "text/html": [
       "\n",
       "    <div style=\"border: 1px solid #ccc; max-width: 600px; padding: 25px; margin-bottom: 25px;\">\n",
       "        <div style=\"max-width: 550px; margin: 0 auto;\">\n",
       "            <p><strong><a href=\"https://searchcaster.xyz/search?merkleRoot=0xdd7f4ef735e824c52ce249bba25f6b313933dc8e\" target=\"_blank\">merkleRoot</a></strong></p>\n",
       "            <p><strong>@briang · fid 548</strong></p>\n",
       "            <div style=\"word-wrap: break-word; margin: 10px 0;\">damn poaster is shutting down<br>guess yall will be seeing more of my unhinged thoughts</div>\n",
       "    <p style=\"color: purple; margin: 10px 0 0;\">&#x1F49C; 27 <span style=\"margin-left: 5px; margin-top: 10px;\">&#x1F4AC; 16</span></p></div></div>"
      ],
      "text/plain": [
       "<IPython.core.display.HTML object>"
      ]
     },
     "metadata": {},
     "output_type": "display_data"
    },
    {
     "data": {
      "text/html": [
       "\n",
       "    <div style=\"border: 1px solid #ccc; max-width: 600px; padding: 25px; margin-bottom: 25px;\">\n",
       "        <div style=\"max-width: 550px; margin: 0 auto;\">\n",
       "            <p><strong><a href=\"https://searchcaster.xyz/search?merkleRoot=0x6683b7adb33bafa747d656ba8eb63b705ab5c638\" target=\"_blank\">merkleRoot</a></strong></p>\n",
       "            <p><strong>@j4ck · fid 431</strong></p>\n",
       "            <div style=\"word-wrap: break-word; margin: 10px 0;\">so who’s going to ETH Denver?</div>\n",
       "    <p style=\"color: purple; margin: 10px 0 0;\">&#x1F49C; 27 <span style=\"margin-left: 5px; margin-top: 10px;\">&#x1F4AC; 16</span></p></div></div>"
      ],
      "text/plain": [
       "<IPython.core.display.HTML object>"
      ]
     },
     "metadata": {},
     "output_type": "display_data"
    },
    {
     "data": {
      "text/html": [
       "\n",
       "    <div style=\"border: 1px solid #ccc; max-width: 600px; padding: 25px; margin-bottom: 25px;\">\n",
       "        <div style=\"max-width: 550px; margin: 0 auto;\">\n",
       "            <p><strong><a href=\"https://searchcaster.xyz/search?merkleRoot=0x6102ad861b0b19becbf660c54f4d91b15819ccad\" target=\"_blank\">merkleRoot</a></strong></p>\n",
       "            <p><strong>@yitong · fid 101</strong></p>\n",
       "            <div style=\"word-wrap: break-word; margin: 10px 0;\">Agree or disagree:<br><br>The majority of crypto activity is capital formation & speculation via <br>tokens.<br><br>For tokens to have value, they must either capture value from the protocol or govern them in significant ways.<br><br>Unlikely that we see token value capture due to security risk, so governance must work or it's all a larp.</div>\n",
       "    <p style=\"color: purple; margin: 10px 0 0;\">&#x1F49C; 26 <span style=\"margin-left: 5px; margin-top: 10px;\">&#x1F4AC; 14</span></p></div></div>"
      ],
      "text/plain": [
       "<IPython.core.display.HTML object>"
      ]
     },
     "metadata": {},
     "output_type": "display_data"
    },
    {
     "data": {
      "text/html": [
       "\n",
       "    <div style=\"border: 1px solid #ccc; max-width: 600px; padding: 25px; margin-bottom: 25px;\">\n",
       "        <div style=\"max-width: 550px; margin: 0 auto;\">\n",
       "            <p><strong><a href=\"https://searchcaster.xyz/search?merkleRoot=0xd4f1e74cd1df840a8e974a53b442daf23af0ed82\" target=\"_blank\">merkleRoot</a></strong></p>\n",
       "            <p><strong>@mcbain · fid 1626</strong></p>\n",
       "            <div style=\"word-wrap: break-word; margin: 10px 0;\">Excited to announce WalletCon<br><br>The first conference entirely dedicated to the Wallet Experience!<br><br>WalletCon.com</div>\n",
       "    <p style=\"color: purple; margin: 10px 0 0;\">&#x1F49C; 26 <span style=\"margin-left: 5px; margin-top: 10px;\">&#x1F4AC; 6</span></p></div></div>"
      ],
      "text/plain": [
       "<IPython.core.display.HTML object>"
      ]
     },
     "metadata": {},
     "output_type": "display_data"
    },
    {
     "data": {
      "text/html": [
       "\n",
       "    <div style=\"border: 1px solid #ccc; max-width: 600px; padding: 25px; margin-bottom: 25px;\">\n",
       "        <div style=\"max-width: 550px; margin: 0 auto;\">\n",
       "            <p><strong><a href=\"https://searchcaster.xyz/search?merkleRoot=0x4fc74e77a0b608965c80c7e270dfd279a05a63f3\" target=\"_blank\">merkleRoot</a></strong></p>\n",
       "            <p><strong>@aaronrferguson · fid 7637</strong></p>\n",
       "            <div style=\"word-wrap: break-word; margin: 10px 0;\">Hello Farcaster!<br><br>My name is Aaron Ferguson and I’m an artist living with type-1 diabetes based out of Ottawa, Ontario. <br><br>My art practice explores themes of perception, isolation and disability. <br><br>I’m a programmer by trade, but also obsessed with art. <br><br>Web 3.0 is a perfect confluence of my passions.<br><br>Happy to be h</div>\n",
       "    <p style=\"color: purple; margin: 10px 0 0;\">&#x1F49C; 26 <span style=\"margin-left: 5px; margin-top: 10px;\">&#x1F4AC; 7</span></p></div></div>"
      ],
      "text/plain": [
       "<IPython.core.display.HTML object>"
      ]
     },
     "metadata": {},
     "output_type": "display_data"
    },
    {
     "data": {
      "text/html": [
       "\n",
       "    <div style=\"border: 1px solid #ccc; max-width: 600px; padding: 25px; margin-bottom: 25px;\">\n",
       "        <div style=\"max-width: 550px; margin: 0 auto;\">\n",
       "            <p><strong><a href=\"https://searchcaster.xyz/search?merkleRoot=0x519f29175f5b28e48d97faafb7937bf51e1ae067\" target=\"_blank\">merkleRoot</a></strong></p>\n",
       "            <p><strong>@v · fid 2</strong></p>\n",
       "            <div style=\"word-wrap: break-word; margin: 10px 0;\">HNY Farcasters! 🎉 <br><br>Here's a video overview of our recovery system in v2, which protects users against the loss of their keys<br><br><a href=\"https://youtu.be/DnAG4mXlOFI\" target=\"_blank\">https://youtu.be/DnAG4mXlOFI</a></div>\n",
       "    <p style=\"color: purple; margin: 10px 0 0;\">&#x1F49C; 26 <span style=\"margin-left: 5px; margin-top: 10px;\">&#x1F4AC; 2</span></p></div></div>"
      ],
      "text/plain": [
       "<IPython.core.display.HTML object>"
      ]
     },
     "metadata": {},
     "output_type": "display_data"
    },
    {
     "data": {
      "text/html": [
       "\n",
       "    <div style=\"border: 1px solid #ccc; max-width: 600px; padding: 25px; margin-bottom: 25px;\">\n",
       "        <div style=\"max-width: 550px; margin: 0 auto;\">\n",
       "            <p><strong><a href=\"https://searchcaster.xyz/search?merkleRoot=0xfc36ce905a3428d836556c675cd8bf88d5f7d616\" target=\"_blank\">merkleRoot</a></strong></p>\n",
       "            <p><strong>@pugson · fid 557</strong></p>\n",
       "            <div style=\"word-wrap: break-word; margin: 10px 0;\">gm 📍 </div>\n",
       "    <div style=\"text-align: center;\"><img src=\"https://i.imgur.com/YlXr6rx.jpg\" style=\"max-width: 550px; margin-top: 10px;\"></div><p style=\"color: purple; margin: 10px 0 0;\">&#x1F49C; 26 <span style=\"margin-left: 5px; margin-top: 10px;\">&#x1F4AC; 0</span></p></div></div>"
      ],
      "text/plain": [
       "<IPython.core.display.HTML object>"
      ]
     },
     "metadata": {},
     "output_type": "display_data"
    },
    {
     "data": {
      "text/html": [
       "\n",
       "    <div style=\"border: 1px solid #ccc; max-width: 600px; padding: 25px; margin-bottom: 25px;\">\n",
       "        <div style=\"max-width: 550px; margin: 0 auto;\">\n",
       "            <p><strong><a href=\"https://searchcaster.xyz/search?merkleRoot=0x2b9c7382afef0ee8d0aa910781d626568f43543b\" target=\"_blank\">merkleRoot</a></strong></p>\n",
       "            <p><strong>@borodutch · fid 1356</strong></p>\n",
       "            <div style=\"word-wrap: break-word; margin: 10px 0;\">gm, what's your favorite sort of coffee?</div>\n",
       "    <p style=\"color: purple; margin: 10px 0 0;\">&#x1F49C; 26 <span style=\"margin-left: 5px; margin-top: 10px;\">&#x1F4AC; 33</span></p></div></div>"
      ],
      "text/plain": [
       "<IPython.core.display.HTML object>"
      ]
     },
     "metadata": {},
     "output_type": "display_data"
    },
    {
     "data": {
      "text/html": [
       "\n",
       "    <div style=\"border: 1px solid #ccc; max-width: 600px; padding: 25px; margin-bottom: 25px;\">\n",
       "        <div style=\"max-width: 550px; margin: 0 auto;\">\n",
       "            <p><strong><a href=\"https://searchcaster.xyz/search?merkleRoot=0x8ec1250674cf8487d0a6433e8b3aaea5db22d022\" target=\"_blank\">merkleRoot</a></strong></p>\n",
       "            <p><strong>@v · fid 2</strong></p>\n",
       "            <div style=\"word-wrap: break-word; margin: 10px 0;\">GM ⛈️ <br><br>Today's video covers conflicts between deltas and how they are handled by the delta graph<br><br><a href=\"https://youtu.be/QtAS4PkrGOc\" target=\"_blank\">https://youtu.be/QtAS4PkrGOc</a></div>\n",
       "    <p style=\"color: purple; margin: 10px 0 0;\">&#x1F49C; 26 <span style=\"margin-left: 5px; margin-top: 10px;\">&#x1F4AC; 2</span></p></div></div>"
      ],
      "text/plain": [
       "<IPython.core.display.HTML object>"
      ]
     },
     "metadata": {},
     "output_type": "display_data"
    },
    {
     "data": {
      "text/html": [
       "\n",
       "    <div style=\"border: 1px solid #ccc; max-width: 600px; padding: 25px; margin-bottom: 25px;\">\n",
       "        <div style=\"max-width: 550px; margin: 0 auto;\">\n",
       "            <p><strong><a href=\"https://searchcaster.xyz/search?merkleRoot=0xb6f353e1218d1649efa7db40d76dde9ad0dc6da5\" target=\"_blank\">merkleRoot</a></strong></p>\n",
       "            <p><strong>@phil · fid 129</strong></p>\n",
       "            <div style=\"word-wrap: break-word; margin: 10px 0;\">Lex’s book list seems to be a “never meet your heroes” moment for some.<br><br>Sure, we can quibble over the proposed timeline and the selections on the list, but that’s not the point.<br><br>It seems that the mere act of having an opinion on “the classics” has activated a very strange beehive.<br><br>I’m still trying to f</div>\n",
       "    <p style=\"color: purple; margin: 10px 0 0;\">&#x1F49C; 26 <span style=\"margin-left: 5px; margin-top: 10px;\">&#x1F4AC; 15</span></p></div></div>"
      ],
      "text/plain": [
       "<IPython.core.display.HTML object>"
      ]
     },
     "metadata": {},
     "output_type": "display_data"
    },
    {
     "data": {
      "text/html": [
       "\n",
       "    <div style=\"border: 1px solid #ccc; max-width: 600px; padding: 25px; margin-bottom: 25px;\">\n",
       "        <div style=\"max-width: 550px; margin: 0 auto;\">\n",
       "            <p><strong><a href=\"https://searchcaster.xyz/search?merkleRoot=0x731c0aa5a1066b42d98ae02f42b493ef8e6b72d3\" target=\"_blank\">merkleRoot</a></strong></p>\n",
       "            <p><strong>@0xen · fid 528</strong></p>\n",
       "            <div style=\"word-wrap: break-word; margin: 10px 0;\">Nobody was minting the new Sparklers collection but I like them so much I went ahead and minted them all myself so that I could give them their own Gallery 😀 <br><br>Check it out:<br><br><a href=\"https://gallery.so/Oxen/2Jph4Y6YT7ue6IYEZD5hA3qMYkV\" target=\"_blank\">https://gallery.so/Oxen/2Jph4Y6YT7ue6IYEZD5hA3qMYkV</a></div>\n",
       "    <p style=\"color: purple; margin: 10px 0 0;\">&#x1F49C; 25 <span style=\"margin-left: 5px; margin-top: 10px;\">&#x1F4AC; 5</span></p></div></div>"
      ],
      "text/plain": [
       "<IPython.core.display.HTML object>"
      ]
     },
     "metadata": {},
     "output_type": "display_data"
    },
    {
     "data": {
      "text/html": [
       "\n",
       "    <div style=\"border: 1px solid #ccc; max-width: 600px; padding: 25px; margin-bottom: 25px;\">\n",
       "        <div style=\"max-width: 550px; margin: 0 auto;\">\n",
       "            <p><strong><a href=\"https://searchcaster.xyz/search?merkleRoot=0x586b38e72099ef697c6bdb81d26c3a916a4cc043\" target=\"_blank\">merkleRoot</a></strong></p>\n",
       "            <p><strong>@ace · fid 539</strong></p>\n",
       "            <div style=\"word-wrap: break-word; margin: 10px 0;\">people who say \"mainstream social is done\" are underestimating a very simple but powerful fact - people's tastes change over time. <br><br>social product cycles are shockingly similar to the cycle of fashion.<br><br>they come and go.</div>\n",
       "    <p style=\"color: purple; margin: 10px 0 0;\">&#x1F49C; 25 <span style=\"margin-left: 5px; margin-top: 10px;\">&#x1F4AC; 6</span></p></div></div>"
      ],
      "text/plain": [
       "<IPython.core.display.HTML object>"
      ]
     },
     "metadata": {},
     "output_type": "display_data"
    },
    {
     "data": {
      "text/html": [
       "\n",
       "    <div style=\"border: 1px solid #ccc; max-width: 600px; padding: 25px; margin-bottom: 25px;\">\n",
       "        <div style=\"max-width: 550px; margin: 0 auto;\">\n",
       "            <p><strong><a href=\"https://searchcaster.xyz/search?merkleRoot=0x98f2e4cebbfc5f51e3aa335b8a70250dcb12ce7f\" target=\"_blank\">merkleRoot</a></strong></p>\n",
       "            <p><strong>@jc · fid 251</strong></p>\n",
       "            <div style=\"word-wrap: break-word; margin: 10px 0;\">What are your go-to sources of electronic mixes?<br><br>For me it's CLUBLIFE by Tiesto, A State of Trance, Chris Luno<br><br><a href=\"https://www.youtube.com/watch?v=ujLBD9pFPtY\" target=\"_blank\">https://www.youtube.com/watch?v=ujLBD9pFPtY</a></div>\n",
       "    <p style=\"color: purple; margin: 10px 0 0;\">&#x1F49C; 25 <span style=\"margin-left: 5px; margin-top: 10px;\">&#x1F4AC; 11</span></p></div></div>"
      ],
      "text/plain": [
       "<IPython.core.display.HTML object>"
      ]
     },
     "metadata": {},
     "output_type": "display_data"
    },
    {
     "data": {
      "text/html": [
       "\n",
       "    <div style=\"border: 1px solid #ccc; max-width: 600px; padding: 25px; margin-bottom: 25px;\">\n",
       "        <div style=\"max-width: 550px; margin: 0 auto;\">\n",
       "            <p><strong><a href=\"https://searchcaster.xyz/search?merkleRoot=0x6d78bb6e89c5e96cff5ddf234d68aec3d246fabc\" target=\"_blank\">merkleRoot</a></strong></p>\n",
       "            <p><strong>@brianjckim · fid 426</strong></p>\n",
       "            <div style=\"word-wrap: break-word; margin: 10px 0;\">it’s already been five years since i started learning how to code… one of the best decisions i’ve ever made<br><br>shoutout to @robin for all the help in the early days 🙌</div>\n",
       "    <p style=\"color: purple; margin: 10px 0 0;\">&#x1F49C; 25 <span style=\"margin-left: 5px; margin-top: 10px;\">&#x1F4AC; 2</span></p></div></div>"
      ],
      "text/plain": [
       "<IPython.core.display.HTML object>"
      ]
     },
     "metadata": {},
     "output_type": "display_data"
    },
    {
     "data": {
      "text/html": [
       "\n",
       "    <div style=\"border: 1px solid #ccc; max-width: 600px; padding: 25px; margin-bottom: 25px;\">\n",
       "        <div style=\"max-width: 550px; margin: 0 auto;\">\n",
       "            <p><strong><a href=\"https://searchcaster.xyz/search?merkleRoot=0xbaa28489820538f09a562eb6059987a56906841d\" target=\"_blank\">merkleRoot</a></strong></p>\n",
       "            <p><strong>@pinged · fid 7074</strong></p>\n",
       "            <div style=\"word-wrap: break-word; margin: 10px 0;\">In a tweet, I mentioned that one should be able to ELI5 BLS signature aggregation; so I’m going to try it here!<br><br>Suppose you and two friends own a bank account. All the checks that you write need all three of your signatures — but a particular check only has space for 1 signature. How can you all sign this check?</div>\n",
       "    <p style=\"color: purple; margin: 10px 0 0;\">&#x1F49C; 25 <span style=\"margin-left: 5px; margin-top: 10px;\">&#x1F4AC; 1</span></p></div></div>"
      ],
      "text/plain": [
       "<IPython.core.display.HTML object>"
      ]
     },
     "metadata": {},
     "output_type": "display_data"
    },
    {
     "data": {
      "text/html": [
       "\n",
       "    <div style=\"border: 1px solid #ccc; max-width: 600px; padding: 25px; margin-bottom: 25px;\">\n",
       "        <div style=\"max-width: 550px; margin: 0 auto;\">\n",
       "            <p><strong><a href=\"https://searchcaster.xyz/search?merkleRoot=0x04a6e2e6be78e67ea7349a3dcd98c44834872c2d\" target=\"_blank\">merkleRoot</a></strong></p>\n",
       "            <p><strong>@ted · fid 239</strong></p>\n",
       "            <div style=\"word-wrap: break-word; margin: 10px 0;\">lucky me, lucky mud. <br><br>thank you doesn’t begin to describe the gratitude I feel to have a digital home where I can turn for optimism, adventure, brilliance, and perspective. happy new year, FC. cheers to more of this in 2023.</div>\n",
       "    <p style=\"color: purple; margin: 10px 0 0;\">&#x1F49C; 25 <span style=\"margin-left: 5px; margin-top: 10px;\">&#x1F4AC; 2</span></p></div></div>"
      ],
      "text/plain": [
       "<IPython.core.display.HTML object>"
      ]
     },
     "metadata": {},
     "output_type": "display_data"
    },
    {
     "data": {
      "text/html": [
       "\n",
       "    <div style=\"border: 1px solid #ccc; max-width: 600px; padding: 25px; margin-bottom: 25px;\">\n",
       "        <div style=\"max-width: 550px; margin: 0 auto;\">\n",
       "            <p><strong><a href=\"https://searchcaster.xyz/search?merkleRoot=0x6325a240a632a0b1e4e3f5bacab71e78600af408\" target=\"_blank\">merkleRoot</a></strong></p>\n",
       "            <p><strong>@ccarella · fid 472</strong></p>\n",
       "            <div style=\"word-wrap: break-word; margin: 10px 0;\">I followed a bunch of Farcaster on @interface. The feature I'm currently loving is push notifications when transactions are made by the people you are following. It makes the blockchain feel so alive. Especially when following the builder dao / DEF community.</div>\n",
       "    <p style=\"color: purple; margin: 10px 0 0;\">&#x1F49C; 24 <span style=\"margin-left: 5px; margin-top: 10px;\">&#x1F4AC; 3</span></p></div></div>"
      ],
      "text/plain": [
       "<IPython.core.display.HTML object>"
      ]
     },
     "metadata": {},
     "output_type": "display_data"
    },
    {
     "data": {
      "text/html": [
       "\n",
       "    <div style=\"border: 1px solid #ccc; max-width: 600px; padding: 25px; margin-bottom: 25px;\">\n",
       "        <div style=\"max-width: 550px; margin: 0 auto;\">\n",
       "            <p><strong><a href=\"https://searchcaster.xyz/search?merkleRoot=0xdc1ec8a4ca5fd53f221f1bc28a0a7fa07c84dd0b\" target=\"_blank\">merkleRoot</a></strong></p>\n",
       "            <p><strong>@brenner · fid 60</strong></p>\n",
       "            <div style=\"word-wrap: break-word; margin: 10px 0;\">CDMX for the month with @kyle, @nir, @richie, @danhunt, @evin, @mei, @0xzakk, and more. <br><br>I’m gonna eat so many tacos</div>\n",
       "    <p style=\"color: purple; margin: 10px 0 0;\">&#x1F49C; 24 <span style=\"margin-left: 5px; margin-top: 10px;\">&#x1F4AC; 2</span></p></div></div>"
      ],
      "text/plain": [
       "<IPython.core.display.HTML object>"
      ]
     },
     "metadata": {},
     "output_type": "display_data"
    },
    {
     "data": {
      "text/html": [
       "\n",
       "    <div style=\"border: 1px solid #ccc; max-width: 600px; padding: 25px; margin-bottom: 25px;\">\n",
       "        <div style=\"max-width: 550px; margin: 0 auto;\">\n",
       "            <p><strong><a href=\"https://searchcaster.xyz/search?merkleRoot=0x6903d91e8054726b56504304a2be1c83f0671a26\" target=\"_blank\">merkleRoot</a></strong></p>\n",
       "            <p><strong>@vm · fid 325</strong></p>\n",
       "            <div style=\"word-wrap: break-word; margin: 10px 0;\">gm  </div>\n",
       "    <div style=\"text-align: center;\"><img src=\"https://i.imgur.com/MJIYlbO.jpg\" style=\"max-width: 550px; margin-top: 10px;\"></div><p style=\"color: purple; margin: 10px 0 0;\">&#x1F49C; 24 <span style=\"margin-left: 5px; margin-top: 10px;\">&#x1F4AC; 1</span></p></div></div>"
      ],
      "text/plain": [
       "<IPython.core.display.HTML object>"
      ]
     },
     "metadata": {},
     "output_type": "display_data"
    },
    {
     "data": {
      "text/html": [
       "\n",
       "    <div style=\"border: 1px solid #ccc; max-width: 600px; padding: 25px; margin-bottom: 25px;\">\n",
       "        <div style=\"max-width: 550px; margin: 0 auto;\">\n",
       "            <p><strong><a href=\"https://searchcaster.xyz/search?merkleRoot=0xb724b0b045cdf358f9034feb8c1dd9b6bdc7d7de\" target=\"_blank\">merkleRoot</a></strong></p>\n",
       "            <p><strong>@adrienne · fid 5818</strong></p>\n",
       "            <div style=\"word-wrap: break-word; margin: 10px 0;\">Curious- who has read the Sufficient Decentralization blog and the farcaster protocol documentation?<br><br> answer:<br>1) yes/no<br>2) how “technical” you are<br>3) did you understand it all?<br><br><a href=\"https://www.varunsrinivasan.com//2022/01/11/sufficient-decentralization-for-social-networks\" target=\"_blank\">https://www.varunsrinivasan.com//2022/01/11/sufficient-decentralization-for-social-networks</a><br><br><a href=\"https://github.com/farcasterxyz/protocol\" target=\"_blank\">https://github.com/farcasterxyz/protocol</a></div>\n",
       "    <p style=\"color: purple; margin: 10px 0 0;\">&#x1F49C; 24 <span style=\"margin-left: 5px; margin-top: 10px;\">&#x1F4AC; 18</span></p></div></div>"
      ],
      "text/plain": [
       "<IPython.core.display.HTML object>"
      ]
     },
     "metadata": {},
     "output_type": "display_data"
    },
    {
     "data": {
      "text/html": [
       "\n",
       "    <div style=\"border: 1px solid #ccc; max-width: 600px; padding: 25px; margin-bottom: 25px;\">\n",
       "        <div style=\"max-width: 550px; margin: 0 auto;\">\n",
       "            <p><strong><a href=\"https://searchcaster.xyz/search?merkleRoot=0x5f9e3482959ab4744733d50bbc3e7846fd686aba\" target=\"_blank\">merkleRoot</a></strong></p>\n",
       "            <p><strong>@whatrocks · fid 224</strong></p>\n",
       "            <div style=\"word-wrap: break-word; margin: 10px 0;\">GLASS ONION it’s real good</div>\n",
       "    <p style=\"color: purple; margin: 10px 0 0;\">&#x1F49C; 24 <span style=\"margin-left: 5px; margin-top: 10px;\">&#x1F4AC; 5</span></p></div></div>"
      ],
      "text/plain": [
       "<IPython.core.display.HTML object>"
      ]
     },
     "metadata": {},
     "output_type": "display_data"
    },
    {
     "data": {
      "text/html": [
       "\n",
       "    <div style=\"border: 1px solid #ccc; max-width: 600px; padding: 25px; margin-bottom: 25px;\">\n",
       "        <div style=\"max-width: 550px; margin: 0 auto;\">\n",
       "            <p><strong><a href=\"https://searchcaster.xyz/search?merkleRoot=0xea9fee9f5c435dda79a8f8718180f0bce6802f49\" target=\"_blank\">merkleRoot</a></strong></p>\n",
       "            <p><strong>@tg · fid 5009</strong></p>\n",
       "            <div style=\"word-wrap: break-word; margin: 10px 0;\"></div>\n",
       "    <div style=\"text-align: center;\"><img src=\"https://i.imgur.com/MlwlY4f.jpg\" style=\"max-width: 550px; margin-top: 10px;\"></div><p style=\"color: purple; margin: 10px 0 0;\">&#x1F49C; 24 <span style=\"margin-left: 5px; margin-top: 10px;\">&#x1F4AC; 4</span></p></div></div>"
      ],
      "text/plain": [
       "<IPython.core.display.HTML object>"
      ]
     },
     "metadata": {},
     "output_type": "display_data"
    },
    {
     "data": {
      "text/html": [
       "\n",
       "    <div style=\"border: 1px solid #ccc; max-width: 600px; padding: 25px; margin-bottom: 25px;\">\n",
       "        <div style=\"max-width: 550px; margin: 0 auto;\">\n",
       "            <p><strong><a href=\"https://searchcaster.xyz/search?merkleRoot=0xd6a70a97332f5f0da4387c3f7229e85163da82b1\" target=\"_blank\">merkleRoot</a></strong></p>\n",
       "            <p><strong>@brianjckim · fid 426</strong></p>\n",
       "            <div style=\"word-wrap: break-word; margin: 10px 0;\">happy new year farcaster </div>\n",
       "    <div style=\"text-align: center;\"><img src=\"https://i.imgur.com/hhYzxDJ.jpg\" style=\"max-width: 550px; margin-top: 10px;\"></div><p style=\"color: purple; margin: 10px 0 0;\">&#x1F49C; 24 <span style=\"margin-left: 5px; margin-top: 10px;\">&#x1F4AC; 1</span></p></div></div>"
      ],
      "text/plain": [
       "<IPython.core.display.HTML object>"
      ]
     },
     "metadata": {},
     "output_type": "display_data"
    },
    {
     "data": {
      "text/html": [
       "\n",
       "    <div style=\"border: 1px solid #ccc; max-width: 600px; padding: 25px; margin-bottom: 25px;\">\n",
       "        <div style=\"max-width: 550px; margin: 0 auto;\">\n",
       "            <p><strong><a href=\"https://searchcaster.xyz/search?merkleRoot=0xa8c40f69c81516b9d44ccfdfc949c31077d40ccd\" target=\"_blank\">merkleRoot</a></strong></p>\n",
       "            <p><strong>@ace · fid 539</strong></p>\n",
       "            <div style=\"word-wrap: break-word; margin: 10px 0;\">is anyone noticing that no post is getting any likes? might be a bug</div>\n",
       "    <p style=\"color: purple; margin: 10px 0 0;\">&#x1F49C; 23 <span style=\"margin-left: 5px; margin-top: 10px;\">&#x1F4AC; 5</span></p></div></div>"
      ],
      "text/plain": [
       "<IPython.core.display.HTML object>"
      ]
     },
     "metadata": {},
     "output_type": "display_data"
    },
    {
     "data": {
      "text/html": [
       "\n",
       "    <div style=\"border: 1px solid #ccc; max-width: 600px; padding: 25px; margin-bottom: 25px;\">\n",
       "        <div style=\"max-width: 550px; margin: 0 auto;\">\n",
       "            <p><strong><a href=\"https://searchcaster.xyz/search?merkleRoot=0xb7fc3c31f599d720e1ae747e6dde9ce03e8f15b5\" target=\"_blank\">merkleRoot</a></strong></p>\n",
       "            <p><strong>@payton · fid 4423</strong></p>\n",
       "            <div style=\"word-wrap: break-word; margin: 10px 0;\">Happy new year from the great north woods of Wisconsin 🫡<br><br>Everyone is asleep, so I am working on the video client for fun... almost ready for v0.0.1 </div>\n",
       "    <div style=\"text-align: center;\"><img src=\"https://i.imgur.com/qtovUiH.jpg\" style=\"max-width: 550px; margin-top: 10px;\"></div><p style=\"color: purple; margin: 10px 0 0;\">&#x1F49C; 23 <span style=\"margin-left: 5px; margin-top: 10px;\">&#x1F4AC; 3</span></p></div></div>"
      ],
      "text/plain": [
       "<IPython.core.display.HTML object>"
      ]
     },
     "metadata": {},
     "output_type": "display_data"
    },
    {
     "data": {
      "text/html": [
       "\n",
       "    <div style=\"border: 1px solid #ccc; max-width: 600px; padding: 25px; margin-bottom: 25px;\">\n",
       "        <div style=\"max-width: 550px; margin: 0 auto;\">\n",
       "            <p><strong><a href=\"https://searchcaster.xyz/search?merkleRoot=0x80a874a1ec3004f7b300b021ee0f39cd3088a584\" target=\"_blank\">merkleRoot</a></strong></p>\n",
       "            <p><strong>@ripe · fid 2266</strong></p>\n",
       "            <div style=\"word-wrap: break-word; margin: 10px 0;\">⌐◨-◨<br>⌐◨-◨<br>⌐◨-◨<br><br>public minting is now open at <a href=\"https://zorggles.wtf\" target=\"_blank\">https://zorggles.wtf</a> <br><br>have a zorggley 2023 y'all! </div>\n",
       "    <div style=\"text-align: center;\"><img src=\"https://i.imgur.com/fL9JT0Y.jpg\" style=\"max-width: 550px; margin-top: 10px;\"></div><p style=\"color: purple; margin: 10px 0 0;\">&#x1F49C; 23 <span style=\"margin-left: 5px; margin-top: 10px;\">&#x1F4AC; 4</span></p></div></div>"
      ],
      "text/plain": [
       "<IPython.core.display.HTML object>"
      ]
     },
     "metadata": {},
     "output_type": "display_data"
    },
    {
     "data": {
      "text/html": [
       "\n",
       "    <div style=\"border: 1px solid #ccc; max-width: 600px; padding: 25px; margin-bottom: 25px;\">\n",
       "        <div style=\"max-width: 550px; margin: 0 auto;\">\n",
       "            <p><strong><a href=\"https://searchcaster.xyz/search?merkleRoot=0x22a481019ec079ea41ab2abeed57e7cb627e371c\" target=\"_blank\">merkleRoot</a></strong></p>\n",
       "            <p><strong>@fredwilson · fid 169</strong></p>\n",
       "            <div style=\"word-wrap: break-word; margin: 10px 0;\">Hi Farcasters. A feature that I always loved on Twitter that I would enjoy seeing replicated on Farcaster is \"recast with comment\". I don't love the naked recast. I want to explain why I'm recasting (cc @v @dwr )</div>\n",
       "    <p style=\"color: purple; margin: 10px 0 0;\">&#x1F49C; 23 <span style=\"margin-left: 5px; margin-top: 10px;\">&#x1F4AC; 2</span></p></div></div>"
      ],
      "text/plain": [
       "<IPython.core.display.HTML object>"
      ]
     },
     "metadata": {},
     "output_type": "display_data"
    },
    {
     "data": {
      "text/html": [
       "\n",
       "    <div style=\"border: 1px solid #ccc; max-width: 600px; padding: 25px; margin-bottom: 25px;\">\n",
       "        <div style=\"max-width: 550px; margin: 0 auto;\">\n",
       "            <p><strong><a href=\"https://searchcaster.xyz/search?merkleRoot=0xabccab5d7cd208a01b7c3f5bc7e8d8528ed12eec\" target=\"_blank\">merkleRoot</a></strong></p>\n",
       "            <p><strong>@pfista · fid 451</strong></p>\n",
       "            <div style=\"word-wrap: break-word; margin: 10px 0;\">48 hours left to own tax maon, fo free + gas<br><br>I'll airdrop 5 of these for free, just comment below<br><br><a href=\"https://create.zora.co/collections/0xdb3699d3be0c7488e1551fee9da75d3b405e1d3b\" target=\"_blank\">https://create.zora.co/collections/0xdb3699d3be0c7488e1551fee9da75d3b405e1d3b</a></div>\n",
       "    <p style=\"color: purple; margin: 10px 0 0;\">&#x1F49C; 23 <span style=\"margin-left: 5px; margin-top: 10px;\">&#x1F4AC; 14</span></p></div></div>"
      ],
      "text/plain": [
       "<IPython.core.display.HTML object>"
      ]
     },
     "metadata": {},
     "output_type": "display_data"
    },
    {
     "data": {
      "text/html": [
       "\n",
       "    <div style=\"border: 1px solid #ccc; max-width: 600px; padding: 25px; margin-bottom: 25px;\">\n",
       "        <div style=\"max-width: 550px; margin: 0 auto;\">\n",
       "            <p><strong><a href=\"https://searchcaster.xyz/search?merkleRoot=0xd7a6385905c37f17803aed0b8fea31d2b33ff7bb\" target=\"_blank\">merkleRoot</a></strong></p>\n",
       "            <p><strong>@dwr · fid 3</strong></p>\n",
       "            <div style=\"word-wrap: break-word; margin: 10px 0;\">Surprised there's not a self-hosted version of Tumblr. </div>\n",
       "    <div style=\"text-align: center;\"><img src=\"https://i.imgur.com/mNCwZY5.png\" style=\"max-width: 550px; margin-top: 10px;\"></div><p style=\"color: purple; margin: 10px 0 0;\">&#x1F49C; 23 <span style=\"margin-left: 5px; margin-top: 10px;\">&#x1F4AC; 5</span></p></div></div>"
      ],
      "text/plain": [
       "<IPython.core.display.HTML object>"
      ]
     },
     "metadata": {},
     "output_type": "display_data"
    }
   ],
   "source": [
    "import pandas as pd\n",
    "from pytz import UTC\n",
    "from IPython.display import display, HTML\n",
    "import re\n",
    "\n",
    "# Step 1: Read the 'casts.csv' file into a DataFrame\n",
    "df = pd.read_csv('casts.csv')\n",
    "\n",
    "# Step 2: Convert 'published_at' column to datetime with UTC timezone\n",
    "df['published_at'] = pd.to_datetime(df['published_at'], utc=True)\n",
    "\n",
    "# Step 3: Filter rows based on the date range (Dec 31, 2022 - Jan 06, 2023)\n",
    "start_date = pd.Timestamp('2022-12-31', tz=UTC)\n",
    "end_date = pd.Timestamp('2023-01-06', tz=UTC)\n",
    "filtered_df = df[(df['published_at'] >= start_date) & (df['published_at'] <= end_date)].copy()\n",
    "\n",
    "# Step 4: Filter out replies (exclude casts with non-null parent_hash)\n",
    "original_posts_df = filtered_df.loc[filtered_df['parent_hash'].isnull()]\n",
    "\n",
    "# Step 5: Sort the filtered DataFrame based on 'reactions_count' in descending order\n",
    "sorted_df = original_posts_df.sort_values(by='reactions_count', ascending=False)\n",
    "\n",
    "# Step 10: Count of total casts made in the week including replies\n",
    "total_casts_including_replies = filtered_df.shape[0]\n",
    "\n",
    "# Step 11: Count of total casts made in the week excluding replies\n",
    "total_casts_excluding_replies = original_posts_df.shape[0]\n",
    "\n",
    "# Step 12: Display the count of total casts made in the week including replies and excluding replies\n",
    "total_casts_html = f\"\"\"\n",
    "    <div style=\"max-width: 600px; margin-bottom: 25px;\">\n",
    "        <h2 style=\"margin-bottom: 15px;\">Total Casts</h2>\n",
    "        <p style=\"font-size: 18x; margin: 5px 0 5px;\">Including Replies: {total_casts_including_replies}</p>\n",
    "        <p style=\"font-size: 18x; margin: 5px 0;\">Excluding Replies: {total_casts_excluding_replies}</p>\n",
    "    </div>\n",
    "\"\"\"\n",
    "display(HTML(total_casts_html))\n",
    "\n",
    "# Step 8: Get the top 30 most active users based on unique original casts\n",
    "top_30_active_users = sorted_df['author_username'].value_counts().nlargest(30)\n",
    "\n",
    "# Step 9: Display the top 30 most active users excluding replies\n",
    "active_users_heading_html = \"<h2>Top 30 Most Active Users (Excluding Replies)</h2>\"\n",
    "active_users_description_html = \"<p>Only original casts are considered for this calculation. Replies are excluded.</p>\"\n",
    "active_users_html = \"<ol>\"\n",
    "for user, count in top_30_active_users.items():\n",
    "    active_users_html += f\"<li>{user} - {count} casts</li>\"\n",
    "active_users_html += \"</ol>\"\n",
    "\n",
    "display(HTML(active_users_heading_html))\n",
    "display(HTML(active_users_description_html))\n",
    "display(HTML(active_users_html))\n",
    "\n",
    "# Step 8 (part 2): Get the top 30 most active users based on all casts, including replies\n",
    "top_30_active_users_including_replies = filtered_df['author_username'].value_counts().nlargest(30)\n",
    "\n",
    "# Step 9 (part 2): Display the top 30 most active users including replies\n",
    "active_users_including_replies_heading_html = \"<h2>Top 30 Most Active Users (Including Replies)</h2>\"\n",
    "active_users_including_replies_description_html = \"<p>All casts, including replies, are considered for this calculation.</p>\"\n",
    "active_users_including_replies_html = \"<ol>\"\n",
    "for user, count in top_30_active_users_including_replies.items():\n",
    "    active_users_including_replies_html += f\"<li>{user} - {count} casts</li>\"\n",
    "active_users_including_replies_html += \"</ol>\"\n",
    "\n",
    "display(HTML(active_users_including_replies_heading_html))\n",
    "display(HTML(active_users_including_replies_description_html))\n",
    "display(HTML(active_users_including_replies_html))\n",
    "# Step 6: Display total count of unique casts\n",
    "heading_html = f\"<h2>Top 100 casts ranked by total likes</h2>\"\n",
    "display(HTML(heading_html))\n",
    "\n",
    "# Step 7: Display top 100 original posts in individual cards\n",
    "def create_cast_card(row):\n",
    "    merkle_root_url = f\"https://searchcaster.xyz/search?merkleRoot={row['hash']}\"\n",
    "    text_without_image_urls = re.sub(r'(https?://\\S+\\.(?:png|jpe?g|gif))', '', row['text'])\n",
    "    text_with_hyperlinks = re.sub(r'(https?://\\S+)', r'<a href=\"\\1\" target=\"_blank\">\\1</a>', text_without_image_urls)\n",
    "    text_with_line_breaks = text_with_hyperlinks.replace('\\n', '<br>')\n",
    "    card_html = f\"\"\"\n",
    "    <div style=\"border: 1px solid #ccc; max-width: 600px; padding: 25px; margin-bottom: 25px;\">\n",
    "        <div style=\"max-width: 550px; margin: 0 auto;\">\n",
    "            <p><strong><a href=\"{merkle_root_url}\" target=\"_blank\">merkleRoot</a></strong></p>\n",
    "            <p><strong>@{row['author_username']} · fid {row['author_fid']}</strong></p>\n",
    "            <div style=\"word-wrap: break-word; margin: 10px 0;\">{text_with_line_breaks}</div>\n",
    "    \"\"\"\n",
    "    if 'http' in row['text']:\n",
    "        words = row['text'].split()\n",
    "        for word in words:\n",
    "            if word.startswith('http') and (word.endswith('.jpg') or word.endswith('.png') or word.endswith('.gif')):\n",
    "                card_html += f'<div style=\"text-align: center;\"><img src=\"{word}\" style=\"max-width: 550px; margin-top: 10px;\"></div>'\n",
    "\n",
    "    # Add heart icon and number count for Reactions Count\n",
    "    purple_heart_icon = \"&#x1F49C;\"  # Unicode code point for purple heart icon\n",
    "    card_html += f'<p style=\"color: purple; margin: 10px 0 0;\">{purple_heart_icon} {row[\"reactions_count\"]} '\n",
    "\n",
    "    # Add chat bubble icon and number count for Replies Count\n",
    "    chat_bubble_icon = \"&#x1F4AC;\"  # Unicode code point for chat bubble icon\n",
    "    card_html += f'<span style=\"margin-left: 5px; margin-top: 10px;\">{chat_bubble_icon} {row[\"replies_count\"]}</span></p>'\n",
    "\n",
    "    card_html += \"</div></div>\"\n",
    "    return card_html\n",
    "\n",
    "for index, row in sorted_df.head(100).iterrows():\n",
    "    card = create_cast_card(row)\n",
    "    display(HTML(card))"
   ]
  }
 ],
 "metadata": {
  "kernelspec": {
   "display_name": "Python 3 (ipykernel)",
   "language": "python",
   "name": "python3"
  },
  "language_info": {
   "codemirror_mode": {
    "name": "ipython",
    "version": 3
   },
   "file_extension": ".py",
   "mimetype": "text/x-python",
   "name": "python",
   "nbconvert_exporter": "python",
   "pygments_lexer": "ipython3",
   "version": "3.9.13"
  }
 },
 "nbformat": 4,
 "nbformat_minor": 5
}
