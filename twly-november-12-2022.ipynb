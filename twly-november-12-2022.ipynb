{
 "cells": [
  {
   "cell_type": "markdown",
   "id": "784b1f6d",
   "metadata": {},
   "source": [
    "## OUTCASTERS SNAPSHOT 019"
   ]
  },
  {
   "cell_type": "markdown",
   "id": "398ad3ad",
   "metadata": {},
   "source": [
    "https://outcasters.xyz "
   ]
  },
  {
   "cell_type": "code",
   "execution_count": 1,
   "id": "6471faa5",
   "metadata": {
    "scrolled": false
   },
   "outputs": [
    {
     "data": {
      "text/html": [
       "\n",
       "    <div style=\"max-width: 600px; margin-bottom: 25px;\">\n",
       "        <h2 style=\"margin-bottom: 15px;\">Total Casts</h2>\n",
       "        <p style=\"font-size: 18x; margin: 5px 0 5px;\">Including Replies: 12757</p>\n",
       "        <p style=\"font-size: 18x; margin: 5px 0;\">Excluding Replies: 4078</p>\n",
       "    </div>\n"
      ],
      "text/plain": [
       "<IPython.core.display.HTML object>"
      ]
     },
     "metadata": {},
     "output_type": "display_data"
    },
    {
     "data": {
      "text/html": [
       "<h2>Top 30 Most Active Users (Excluding Replies)</h2>"
      ],
      "text/plain": [
       "<IPython.core.display.HTML object>"
      ]
     },
     "metadata": {},
     "output_type": "display_data"
    },
    {
     "data": {
      "text/html": [
       "<p>Only original casts are considered for this calculation. Replies are excluded.</p>"
      ],
      "text/plain": [
       "<IPython.core.display.HTML object>"
      ]
     },
     "metadata": {},
     "output_type": "display_data"
    },
    {
     "data": {
      "text/html": [
       "<ol><li>welcome - 322 casts</li><li>tg - 137 casts</li><li>ace - 66 casts</li><li>juan - 63 casts</li><li>alexanderchopan - 50 casts</li><li>abc - 44 casts</li><li>cameron - 38 casts</li><li>dwr - 36 casts</li><li>les - 31 casts</li><li>giu - 29 casts</li><li>mrbriandesign - 27 casts</li><li>gabrielayuso - 24 casts</li><li>cyrus - 23 casts</li><li>keccers - 23 casts</li><li>ivy - 23 casts</li><li>warren - 23 casts</li><li>vgr - 22 casts</li><li>maurerbot - 21 casts</li><li>alexpaden - 20 casts</li><li>preach - 19 casts</li><li>drew-coffman - 19 casts</li><li>ccarella - 19 casts</li><li>bias - 19 casts</li><li>j4ck - 19 casts</li><li>wade - 18 casts</li><li>emodi - 18 casts</li><li>coachcoale - 17 casts</li><li>briang - 17 casts</li><li>matthew - 16 casts</li><li>lsl - 16 casts</li></ol>"
      ],
      "text/plain": [
       "<IPython.core.display.HTML object>"
      ]
     },
     "metadata": {},
     "output_type": "display_data"
    },
    {
     "data": {
      "text/html": [
       "<h2>Top 30 Most Active Users (Including Replies)</h2>"
      ],
      "text/plain": [
       "<IPython.core.display.HTML object>"
      ]
     },
     "metadata": {},
     "output_type": "display_data"
    },
    {
     "data": {
      "text/html": [
       "<p>All casts, including replies, are considered for this calculation.</p>"
      ],
      "text/plain": [
       "<IPython.core.display.HTML object>"
      ]
     },
     "metadata": {},
     "output_type": "display_data"
    },
    {
     "data": {
      "text/html": [
       "<ol><li>cameron - 343 casts</li><li>welcome - 322 casts</li><li>juan - 322 casts</li><li>briang - 274 casts</li><li>ace - 179 casts</li><li>perl - 174 casts</li><li>tg - 157 casts</li><li>j4ck - 137 casts</li><li>dwr - 130 casts</li><li>dragonbanec - 129 casts</li><li>coachcoale - 128 casts</li><li>alexanderchopan - 122 casts</li><li>bias - 117 casts</li><li>zico - 112 casts</li><li>ccarella - 95 casts</li><li>pfista - 92 casts</li><li>les - 92 casts</li><li>0xen - 85 casts</li><li>cyrus - 81 casts</li><li>slowcrypto - 81 casts</li><li>alexpaden - 79 casts</li><li>giu - 79 casts</li><li>macbudkowski - 76 casts</li><li>karthiksenthil - 76 casts</li><li>conft - 76 casts</li><li>ljw-wavydude - 74 casts</li><li>so - 72 casts</li><li>matthew - 71 casts</li><li>eatenbyplants - 69 casts</li><li>lsl - 66 casts</li></ol>"
      ],
      "text/plain": [
       "<IPython.core.display.HTML object>"
      ]
     },
     "metadata": {},
     "output_type": "display_data"
    },
    {
     "data": {
      "text/html": [
       "<h2>Top 100 casts ranked by total likes</h2>"
      ],
      "text/plain": [
       "<IPython.core.display.HTML object>"
      ]
     },
     "metadata": {},
     "output_type": "display_data"
    },
    {
     "data": {
      "text/html": [
       "\n",
       "    <div style=\"border: 1px solid #ccc; max-width: 600px; padding: 25px; margin-bottom: 25px;\">\n",
       "        <div style=\"max-width: 550px; margin: 0 auto;\">\n",
       "            <p><strong><a href=\"https://searchcaster.xyz/search?merkleRoot=0x4e3f6af18391eece280b856c38d02d5dec548379\" target=\"_blank\">merkleRoot</a></strong></p>\n",
       "            <p><strong>@amitmukherjee · fid 540</strong></p>\n",
       "            <div style=\"word-wrap: break-word; margin: 10px 0;\">My wife, baby and I just moved into our new home in the NY suburbs (port washington). <br><br>Her sister lives down the street and her mom is a 15-20 min car ride away. They've helped so much already. I've never had support like this before.  </div>\n",
       "    <div style=\"text-align: center;\"><img src=\"https://i.imgur.com/NRoK5yE.png\" style=\"max-width: 550px; margin-top: 10px;\"></div><p style=\"color: purple; margin: 10px 0 0;\">&#x1F49C; 135 <span style=\"margin-left: 5px; margin-top: 10px;\">&#x1F4AC; 41</span></p></div></div>"
      ],
      "text/plain": [
       "<IPython.core.display.HTML object>"
      ]
     },
     "metadata": {},
     "output_type": "display_data"
    },
    {
     "data": {
      "text/html": [
       "\n",
       "    <div style=\"border: 1px solid #ccc; max-width: 600px; padding: 25px; margin-bottom: 25px;\">\n",
       "        <div style=\"max-width: 550px; margin: 0 auto;\">\n",
       "            <p><strong><a href=\"https://searchcaster.xyz/search?merkleRoot=0x0641808244a1bc20b0b84d6f6223beb67cafd221\" target=\"_blank\">merkleRoot</a></strong></p>\n",
       "            <p><strong>@pmarca · fid 51</strong></p>\n",
       "            <div style=\"word-wrap: break-word; margin: 10px 0;\">Did I miss anything?</div>\n",
       "    <p style=\"color: purple; margin: 10px 0 0;\">&#x1F49C; 108 <span style=\"margin-left: 5px; margin-top: 10px;\">&#x1F4AC; 25</span></p></div></div>"
      ],
      "text/plain": [
       "<IPython.core.display.HTML object>"
      ]
     },
     "metadata": {},
     "output_type": "display_data"
    },
    {
     "data": {
      "text/html": [
       "\n",
       "    <div style=\"border: 1px solid #ccc; max-width: 600px; padding: 25px; margin-bottom: 25px;\">\n",
       "        <div style=\"max-width: 550px; margin: 0 auto;\">\n",
       "            <p><strong><a href=\"https://searchcaster.xyz/search?merkleRoot=0x48e9a4c9bf005d720c337f0f0b77a79e82deac8d\" target=\"_blank\">merkleRoot</a></strong></p>\n",
       "            <p><strong>@dwr · fid 3</strong></p>\n",
       "            <div style=\"word-wrap: break-word; margin: 10px 0;\">gm hoping to start this week off more optimistic. what's the most interesting URL you've come across in the last few weeks? (ideally not related to FTX)</div>\n",
       "    <p style=\"color: purple; margin: 10px 0 0;\">&#x1F49C; 101 <span style=\"margin-left: 5px; margin-top: 10px;\">&#x1F4AC; 31</span></p></div></div>"
      ],
      "text/plain": [
       "<IPython.core.display.HTML object>"
      ]
     },
     "metadata": {},
     "output_type": "display_data"
    },
    {
     "data": {
      "text/html": [
       "\n",
       "    <div style=\"border: 1px solid #ccc; max-width: 600px; padding: 25px; margin-bottom: 25px;\">\n",
       "        <div style=\"max-width: 550px; margin: 0 auto;\">\n",
       "            <p><strong><a href=\"https://searchcaster.xyz/search?merkleRoot=0x18e1d86ac5f2b8229362c77f87ceef02982eee6b\" target=\"_blank\">merkleRoot</a></strong></p>\n",
       "            <p><strong>@gaby · fid 83</strong></p>\n",
       "            <div style=\"word-wrap: break-word; margin: 10px 0;\">Just accidentally revealed to my running group this morning that I work in crypto</div>\n",
       "    <p style=\"color: purple; margin: 10px 0 0;\">&#x1F49C; 98 <span style=\"margin-left: 5px; margin-top: 10px;\">&#x1F4AC; 20</span></p></div></div>"
      ],
      "text/plain": [
       "<IPython.core.display.HTML object>"
      ]
     },
     "metadata": {},
     "output_type": "display_data"
    },
    {
     "data": {
      "text/html": [
       "\n",
       "    <div style=\"border: 1px solid #ccc; max-width: 600px; padding: 25px; margin-bottom: 25px;\">\n",
       "        <div style=\"max-width: 550px; margin: 0 auto;\">\n",
       "            <p><strong><a href=\"https://searchcaster.xyz/search?merkleRoot=0xa4a6e7163dabab3a67e8f9ebcc5ebbc7988bf58a\" target=\"_blank\">merkleRoot</a></strong></p>\n",
       "            <p><strong>@fredwilson · fid 169</strong></p>\n",
       "            <div style=\"word-wrap: break-word; margin: 10px 0;\">Hi Farcasters. Katie Haun and I co-wrote a post about the last week and how we think about it in the context of a long term view on web3. Here is the post on my web3 blog <a href=\"https://avc.mirror.xyz/0yXYaQUllC1da64aEpcMTK3d4UQ49bCVqUnfJ_xBtIs\" target=\"_blank\">https://avc.mirror.xyz/0yXYaQUllC1da64aEpcMTK3d4UQ49bCVqUnfJ_xBtIs</a></div>\n",
       "    <p style=\"color: purple; margin: 10px 0 0;\">&#x1F49C; 82 <span style=\"margin-left: 5px; margin-top: 10px;\">&#x1F4AC; 7</span></p></div></div>"
      ],
      "text/plain": [
       "<IPython.core.display.HTML object>"
      ]
     },
     "metadata": {},
     "output_type": "display_data"
    },
    {
     "data": {
      "text/html": [
       "\n",
       "    <div style=\"border: 1px solid #ccc; max-width: 600px; padding: 25px; margin-bottom: 25px;\">\n",
       "        <div style=\"max-width: 550px; margin: 0 auto;\">\n",
       "            <p><strong><a href=\"https://searchcaster.xyz/search?merkleRoot=0xc9640fc293a10d9a8424e2b207afff9da3ae21e5\" target=\"_blank\">merkleRoot</a></strong></p>\n",
       "            <p><strong>@jessepollak · fid 99</strong></p>\n",
       "            <div style=\"word-wrap: break-word; margin: 10px 0;\">PSA<br><br>the most secure custody w/public company audits: Coinbase<br><br>the most secure self-custody w/onchain visibility: Coinbase Wallet <br><br>both: the best UX in crypto, full access to web3 dapps, & a deep commitment to the open, onchain cryptoeconomy</div>\n",
       "    <p style=\"color: purple; margin: 10px 0 0;\">&#x1F49C; 75 <span style=\"margin-left: 5px; margin-top: 10px;\">&#x1F4AC; 10</span></p></div></div>"
      ],
      "text/plain": [
       "<IPython.core.display.HTML object>"
      ]
     },
     "metadata": {},
     "output_type": "display_data"
    },
    {
     "data": {
      "text/html": [
       "\n",
       "    <div style=\"border: 1px solid #ccc; max-width: 600px; padding: 25px; margin-bottom: 25px;\">\n",
       "        <div style=\"max-width: 550px; margin: 0 auto;\">\n",
       "            <p><strong><a href=\"https://searchcaster.xyz/search?merkleRoot=0x64199ae66d3a049c87e73ca2be06ed8f2ce4ecf5\" target=\"_blank\">merkleRoot</a></strong></p>\n",
       "            <p><strong>@dwr · fid 3</strong></p>\n",
       "            <div style=\"word-wrap: break-word; margin: 10px 0;\">gm the world if Venice had a coffee shop with decent seating for a coffee meeting </div>\n",
       "    <div style=\"text-align: center;\"><img src=\"https://i.imgur.com/Fs5O9P9.jpg\" style=\"max-width: 550px; margin-top: 10px;\"></div><p style=\"color: purple; margin: 10px 0 0;\">&#x1F49C; 73 <span style=\"margin-left: 5px; margin-top: 10px;\">&#x1F4AC; 15</span></p></div></div>"
      ],
      "text/plain": [
       "<IPython.core.display.HTML object>"
      ]
     },
     "metadata": {},
     "output_type": "display_data"
    },
    {
     "data": {
      "text/html": [
       "\n",
       "    <div style=\"border: 1px solid #ccc; max-width: 600px; padding: 25px; margin-bottom: 25px;\">\n",
       "        <div style=\"max-width: 550px; margin: 0 auto;\">\n",
       "            <p><strong><a href=\"https://searchcaster.xyz/search?merkleRoot=0xf9db454e5b1cd4eed3aadec0621a5d99bb633629\" target=\"_blank\">merkleRoot</a></strong></p>\n",
       "            <p><strong>@amitmukherjee · fid 540</strong></p>\n",
       "            <div style=\"word-wrap: break-word; margin: 10px 0;\">Thinking about throwing a post-apocalyptic-themed crypto holiday party here in NYC. Who's in?</div>\n",
       "    <p style=\"color: purple; margin: 10px 0 0;\">&#x1F49C; 68 <span style=\"margin-left: 5px; margin-top: 10px;\">&#x1F4AC; 25</span></p></div></div>"
      ],
      "text/plain": [
       "<IPython.core.display.HTML object>"
      ]
     },
     "metadata": {},
     "output_type": "display_data"
    },
    {
     "data": {
      "text/html": [
       "\n",
       "    <div style=\"border: 1px solid #ccc; max-width: 600px; padding: 25px; margin-bottom: 25px;\">\n",
       "        <div style=\"max-width: 550px; margin: 0 auto;\">\n",
       "            <p><strong><a href=\"https://searchcaster.xyz/search?merkleRoot=0xe8eb97ac8d60fa5f345b0d24ab0d249e2f49b225\" target=\"_blank\">merkleRoot</a></strong></p>\n",
       "            <p><strong>@3lau · fid 81</strong></p>\n",
       "            <div style=\"word-wrap: break-word; margin: 10px 0;\">A note from my grandpa:<br><br>“Hi Justin I just want to find out if you got hurt with the crypto it seems like there’s a lot of companies that just closing up I’m hearing on the news now they lost billions and billions of dollars I hope you’re OK give me a call<br>Love you”<br><br>I told him we were ok :) lol</div>\n",
       "    <p style=\"color: purple; margin: 10px 0 0;\">&#x1F49C; 65 <span style=\"margin-left: 5px; margin-top: 10px;\">&#x1F4AC; 12</span></p></div></div>"
      ],
      "text/plain": [
       "<IPython.core.display.HTML object>"
      ]
     },
     "metadata": {},
     "output_type": "display_data"
    },
    {
     "data": {
      "text/html": [
       "\n",
       "    <div style=\"border: 1px solid #ccc; max-width: 600px; padding: 25px; margin-bottom: 25px;\">\n",
       "        <div style=\"max-width: 550px; margin: 0 auto;\">\n",
       "            <p><strong><a href=\"https://searchcaster.xyz/search?merkleRoot=0xdab50841261eff2a8638eba4b0df2c021189cddb\" target=\"_blank\">merkleRoot</a></strong></p>\n",
       "            <p><strong>@coffeebot · fid 5159</strong></p>\n",
       "            <div style=\"word-wrap: break-word; margin: 10px 0;\">GM Farcaster! This is coffebot! I’m here to help you make new friends on farcaster by randomly pairing you with another caster to chat with! To join for this week, follow @coffeebot and comment your telegram link (make sure it’s in the format mko4444.telegram). In 24 hours you will receive your pair ☕️</div>\n",
       "    <p style=\"color: purple; margin: 10px 0 0;\">&#x1F49C; 62 <span style=\"margin-left: 5px; margin-top: 10px;\">&#x1F4AC; 56</span></p></div></div>"
      ],
      "text/plain": [
       "<IPython.core.display.HTML object>"
      ]
     },
     "metadata": {},
     "output_type": "display_data"
    },
    {
     "data": {
      "text/html": [
       "\n",
       "    <div style=\"border: 1px solid #ccc; max-width: 600px; padding: 25px; margin-bottom: 25px;\">\n",
       "        <div style=\"max-width: 550px; margin: 0 auto;\">\n",
       "            <p><strong><a href=\"https://searchcaster.xyz/search?merkleRoot=0xbed42271928bad55e4f6dc931c085d3b07653012\" target=\"_blank\">merkleRoot</a></strong></p>\n",
       "            <p><strong>@cassie · fid 1325</strong></p>\n",
       "            <div style=\"word-wrap: break-word; margin: 10px 0;\">gm 🌞 </div>\n",
       "    <div style=\"text-align: center;\"><img src=\"https://i.imgur.com/2zWG3o3.jpg\" style=\"max-width: 550px; margin-top: 10px;\"></div><p style=\"color: purple; margin: 10px 0 0;\">&#x1F49C; 62 <span style=\"margin-left: 5px; margin-top: 10px;\">&#x1F4AC; 7</span></p></div></div>"
      ],
      "text/plain": [
       "<IPython.core.display.HTML object>"
      ]
     },
     "metadata": {},
     "output_type": "display_data"
    },
    {
     "data": {
      "text/html": [
       "\n",
       "    <div style=\"border: 1px solid #ccc; max-width: 600px; padding: 25px; margin-bottom: 25px;\">\n",
       "        <div style=\"max-width: 550px; margin: 0 auto;\">\n",
       "            <p><strong><a href=\"https://searchcaster.xyz/search?merkleRoot=0x52f972b8c4341269c263b094257ef4dbe66b6f99\" target=\"_blank\">merkleRoot</a></strong></p>\n",
       "            <p><strong>@cameron · fid 617</strong></p>\n",
       "            <div style=\"word-wrap: break-word; margin: 10px 0;\">So…sorta feels like low hanging fruit to just build a boring CEX rn and maybe not run a multi-year hedge fund scam on top of it?</div>\n",
       "    <p style=\"color: purple; margin: 10px 0 0;\">&#x1F49C; 58 <span style=\"margin-left: 5px; margin-top: 10px;\">&#x1F4AC; 15</span></p></div></div>"
      ],
      "text/plain": [
       "<IPython.core.display.HTML object>"
      ]
     },
     "metadata": {},
     "output_type": "display_data"
    },
    {
     "data": {
      "text/html": [
       "\n",
       "    <div style=\"border: 1px solid #ccc; max-width: 600px; padding: 25px; margin-bottom: 25px;\">\n",
       "        <div style=\"max-width: 550px; margin: 0 auto;\">\n",
       "            <p><strong><a href=\"https://searchcaster.xyz/search?merkleRoot=0xa08111a7140596ae9b74d0e9f14c2765c024da76\" target=\"_blank\">merkleRoot</a></strong></p>\n",
       "            <p><strong>@dwr · fid 3</strong></p>\n",
       "            <div style=\"word-wrap: break-word; margin: 10px 0;\">Looking for brutally honest feedback: what frustrates you most about Farcaster? Don't have to be nice, just honest. :)<br><br>Send me a DM on Telegram (since I'm on my desktop) or DM on Twitter.<br><br>dwromero.telegram<br><br>dwr.twitter</div>\n",
       "    <p style=\"color: purple; margin: 10px 0 0;\">&#x1F49C; 57 <span style=\"margin-left: 5px; margin-top: 10px;\">&#x1F4AC; 68</span></p></div></div>"
      ],
      "text/plain": [
       "<IPython.core.display.HTML object>"
      ]
     },
     "metadata": {},
     "output_type": "display_data"
    },
    {
     "data": {
      "text/html": [
       "\n",
       "    <div style=\"border: 1px solid #ccc; max-width: 600px; padding: 25px; margin-bottom: 25px;\">\n",
       "        <div style=\"max-width: 550px; margin: 0 auto;\">\n",
       "            <p><strong><a href=\"https://searchcaster.xyz/search?merkleRoot=0x9f456f896dde3e4a179f4224bd918c590c87b139\" target=\"_blank\">merkleRoot</a></strong></p>\n",
       "            <p><strong>@dwr · fid 3</strong></p>\n",
       "            <div style=\"word-wrap: break-word; margin: 10px 0;\"></div>\n",
       "    <div style=\"text-align: center;\"><img src=\"https://i.imgur.com/ctFqSdX.jpg\" style=\"max-width: 550px; margin-top: 10px;\"></div><p style=\"color: purple; margin: 10px 0 0;\">&#x1F49C; 56 <span style=\"margin-left: 5px; margin-top: 10px;\">&#x1F4AC; 11</span></p></div></div>"
      ],
      "text/plain": [
       "<IPython.core.display.HTML object>"
      ]
     },
     "metadata": {},
     "output_type": "display_data"
    },
    {
     "data": {
      "text/html": [
       "\n",
       "    <div style=\"border: 1px solid #ccc; max-width: 600px; padding: 25px; margin-bottom: 25px;\">\n",
       "        <div style=\"max-width: 550px; margin: 0 auto;\">\n",
       "            <p><strong><a href=\"https://searchcaster.xyz/search?merkleRoot=0x35d5c572a4fa828708f8a7699b530db4aa36fbd3\" target=\"_blank\">merkleRoot</a></strong></p>\n",
       "            <p><strong>@fredwilson · fid 169</strong></p>\n",
       "            <div style=\"word-wrap: break-word; margin: 10px 0;\">Farcaster app idea: an app that pulls all of your casts and stores them in Arweave.</div>\n",
       "    <p style=\"color: purple; margin: 10px 0 0;\">&#x1F49C; 54 <span style=\"margin-left: 5px; margin-top: 10px;\">&#x1F4AC; 12</span></p></div></div>"
      ],
      "text/plain": [
       "<IPython.core.display.HTML object>"
      ]
     },
     "metadata": {},
     "output_type": "display_data"
    },
    {
     "data": {
      "text/html": [
       "\n",
       "    <div style=\"border: 1px solid #ccc; max-width: 600px; padding: 25px; margin-bottom: 25px;\">\n",
       "        <div style=\"max-width: 550px; margin: 0 auto;\">\n",
       "            <p><strong><a href=\"https://searchcaster.xyz/search?merkleRoot=0xf6dc65bb6342afe2b2270fba43da9572bcf32c02\" target=\"_blank\">merkleRoot</a></strong></p>\n",
       "            <p><strong>@ace · fid 539</strong></p>\n",
       "            <div style=\"word-wrap: break-word; margin: 10px 0;\">LA has incredibly talented past, present, and future founders + 🔥 investors.<br><br>What's missing = focal point. I don't think Santa Monica/Venice is it. <br><br>I'd love to get something going regularly in Arts District early next year. <br><br>#LongLA</div>\n",
       "    <p style=\"color: purple; margin: 10px 0 0;\">&#x1F49C; 50 <span style=\"margin-left: 5px; margin-top: 10px;\">&#x1F4AC; 24</span></p></div></div>"
      ],
      "text/plain": [
       "<IPython.core.display.HTML object>"
      ]
     },
     "metadata": {},
     "output_type": "display_data"
    },
    {
     "data": {
      "text/html": [
       "\n",
       "    <div style=\"border: 1px solid #ccc; max-width: 600px; padding: 25px; margin-bottom: 25px;\">\n",
       "        <div style=\"max-width: 550px; margin: 0 auto;\">\n",
       "            <p><strong><a href=\"https://searchcaster.xyz/search?merkleRoot=0x4f483b3f6479e6cc94cae9e1093681b82b553660\" target=\"_blank\">merkleRoot</a></strong></p>\n",
       "            <p><strong>@dwr · fid 3</strong></p>\n",
       "            <div style=\"word-wrap: break-word; margin: 10px 0;\">This is neat. <br><br><a href=\"http://query.wtf\" target=\"_blank\">http://query.wtf</a></div>\n",
       "    <p style=\"color: purple; margin: 10px 0 0;\">&#x1F49C; 50 <span style=\"margin-left: 5px; margin-top: 10px;\">&#x1F4AC; 6</span></p></div></div>"
      ],
      "text/plain": [
       "<IPython.core.display.HTML object>"
      ]
     },
     "metadata": {},
     "output_type": "display_data"
    },
    {
     "data": {
      "text/html": [
       "\n",
       "    <div style=\"border: 1px solid #ccc; max-width: 600px; padding: 25px; margin-bottom: 25px;\">\n",
       "        <div style=\"max-width: 550px; margin: 0 auto;\">\n",
       "            <p><strong><a href=\"https://searchcaster.xyz/search?merkleRoot=0xa0c82c9ac1393fa2f4009a1294115d0cd145f6c5\" target=\"_blank\">merkleRoot</a></strong></p>\n",
       "            <p><strong>@sriramk · fid 43</strong></p>\n",
       "            <div style=\"word-wrap: break-word; margin: 10px 0;\">As a parent I now find myself doing all the things my dad used to do - and I hated back then.<br><br>What are things parents here find yourself doing and going \"ok, I owe my parents an apology..\"</div>\n",
       "    <p style=\"color: purple; margin: 10px 0 0;\">&#x1F49C; 49 <span style=\"margin-left: 5px; margin-top: 10px;\">&#x1F4AC; 18</span></p></div></div>"
      ],
      "text/plain": [
       "<IPython.core.display.HTML object>"
      ]
     },
     "metadata": {},
     "output_type": "display_data"
    },
    {
     "data": {
      "text/html": [
       "\n",
       "    <div style=\"border: 1px solid #ccc; max-width: 600px; padding: 25px; margin-bottom: 25px;\">\n",
       "        <div style=\"max-width: 550px; margin: 0 auto;\">\n",
       "            <p><strong><a href=\"https://searchcaster.xyz/search?merkleRoot=0x19ebb3f4919a2d58fad2564b88239d05e8be4b48\" target=\"_blank\">merkleRoot</a></strong></p>\n",
       "            <p><strong>@fredwilson · fid 169</strong></p>\n",
       "            <div style=\"word-wrap: break-word; margin: 10px 0;\">Hi Farcasters. Here's some jazz to start your day with courtesy of Snarky Puppy <a href=\"https://soundcloud.com/snarkypuppy/take-it-feat-bernard-wright\" target=\"_blank\">https://soundcloud.com/snarkypuppy/take-it-feat-bernard-wright</a> (cc @aweissman )</div>\n",
       "    <p style=\"color: purple; margin: 10px 0 0;\">&#x1F49C; 49 <span style=\"margin-left: 5px; margin-top: 10px;\">&#x1F4AC; 5</span></p></div></div>"
      ],
      "text/plain": [
       "<IPython.core.display.HTML object>"
      ]
     },
     "metadata": {},
     "output_type": "display_data"
    },
    {
     "data": {
      "text/html": [
       "\n",
       "    <div style=\"border: 1px solid #ccc; max-width: 600px; padding: 25px; margin-bottom: 25px;\">\n",
       "        <div style=\"max-width: 550px; margin: 0 auto;\">\n",
       "            <p><strong><a href=\"https://searchcaster.xyz/search?merkleRoot=0x157c96cd5db83f1a675c03a2143e9bb5d8bcf4f6\" target=\"_blank\">merkleRoot</a></strong></p>\n",
       "            <p><strong>@dwr · fid 3</strong></p>\n",
       "            <div style=\"word-wrap: break-word; margin: 10px 0;\">Given the rate of AI advancement, what does homework look like in 5 years? <br><br>Do teachers just rely on in-person, handwritten exams and in-class essays as the only way to prove comprehension?</div>\n",
       "    <p style=\"color: purple; margin: 10px 0 0;\">&#x1F49C; 47 <span style=\"margin-left: 5px; margin-top: 10px;\">&#x1F4AC; 35</span></p></div></div>"
      ],
      "text/plain": [
       "<IPython.core.display.HTML object>"
      ]
     },
     "metadata": {},
     "output_type": "display_data"
    },
    {
     "data": {
      "text/html": [
       "\n",
       "    <div style=\"border: 1px solid #ccc; max-width: 600px; padding: 25px; margin-bottom: 25px;\">\n",
       "        <div style=\"max-width: 550px; margin: 0 auto;\">\n",
       "            <p><strong><a href=\"https://searchcaster.xyz/search?merkleRoot=0x1d3f954f3c3f49e29bca8269d0875e541a4c3ca9\" target=\"_blank\">merkleRoot</a></strong></p>\n",
       "            <p><strong>@dwr · fid 3</strong></p>\n",
       "            <div style=\"word-wrap: break-word; margin: 10px 0;\">My ideal personal finance app:<br><br>- Connect accounts with Plaid but data lives in my iCloud or Dropbox (like old school Dropbox)<br><br>- Cash balance across bank, brokerage, crypto<br><br>- Public equities with live price data (including pre-market and post-market)<br><br>- Private investments using Carta, Pulley 409a number</div>\n",
       "    <p style=\"color: purple; margin: 10px 0 0;\">&#x1F49C; 47 <span style=\"margin-left: 5px; margin-top: 10px;\">&#x1F4AC; 13</span></p></div></div>"
      ],
      "text/plain": [
       "<IPython.core.display.HTML object>"
      ]
     },
     "metadata": {},
     "output_type": "display_data"
    },
    {
     "data": {
      "text/html": [
       "\n",
       "    <div style=\"border: 1px solid #ccc; max-width: 600px; padding: 25px; margin-bottom: 25px;\">\n",
       "        <div style=\"max-width: 550px; margin: 0 auto;\">\n",
       "            <p><strong><a href=\"https://searchcaster.xyz/search?merkleRoot=0xd57f7035cb56bb1a6b55bedb7d89e61532cc4549\" target=\"_blank\">merkleRoot</a></strong></p>\n",
       "            <p><strong>@matthew · fid 473</strong></p>\n",
       "            <div style=\"word-wrap: break-word; margin: 10px 0;\">if i had a third favorite place in the world after nyc and sf, it would be hawaii. what an amazing place. have you been? </div>\n",
       "    <div style=\"text-align: center;\"><img src=\"https://i.imgur.com/lowAUge.jpg\" style=\"max-width: 550px; margin-top: 10px;\"></div><p style=\"color: purple; margin: 10px 0 0;\">&#x1F49C; 47 <span style=\"margin-left: 5px; margin-top: 10px;\">&#x1F4AC; 17</span></p></div></div>"
      ],
      "text/plain": [
       "<IPython.core.display.HTML object>"
      ]
     },
     "metadata": {},
     "output_type": "display_data"
    },
    {
     "data": {
      "text/html": [
       "\n",
       "    <div style=\"border: 1px solid #ccc; max-width: 600px; padding: 25px; margin-bottom: 25px;\">\n",
       "        <div style=\"max-width: 550px; margin: 0 auto;\">\n",
       "            <p><strong><a href=\"https://searchcaster.xyz/search?merkleRoot=0xb4a049a0a4da4add678fdf65851b409122f96454\" target=\"_blank\">merkleRoot</a></strong></p>\n",
       "            <p><strong>@jayme · fid 373</strong></p>\n",
       "            <div style=\"word-wrap: break-word; margin: 10px 0;\">We tested @launch on lens this week try multiple protocols. <br><br>A couple challenges made us pause:<br>1. No one is shipping stuff yet<br>2. Spam is a big concern <br><br>I’m optimistic about a multi-social protocol world but it’s really early and Farcaster is special rn.</div>\n",
       "    <p style=\"color: purple; margin: 10px 0 0;\">&#x1F49C; 44 <span style=\"margin-left: 5px; margin-top: 10px;\">&#x1F4AC; 10</span></p></div></div>"
      ],
      "text/plain": [
       "<IPython.core.display.HTML object>"
      ]
     },
     "metadata": {},
     "output_type": "display_data"
    },
    {
     "data": {
      "text/html": [
       "\n",
       "    <div style=\"border: 1px solid #ccc; max-width: 600px; padding: 25px; margin-bottom: 25px;\">\n",
       "        <div style=\"max-width: 550px; margin: 0 auto;\">\n",
       "            <p><strong><a href=\"https://searchcaster.xyz/search?merkleRoot=0x13de8def74dd93edb755d286370153ff03e15b83\" target=\"_blank\">merkleRoot</a></strong></p>\n",
       "            <p><strong>@annelaure · fid 5088</strong></p>\n",
       "            <div style=\"word-wrap: break-word; margin: 10px 0;\">I have a confession to make: I'm not a crypto girl, I know nothing about web3, and I bought my first NFT just to get a cool little check mark on here. Who should I follow who also talks about other stuff, e.g. AI, psychology, creativity, business, philosophy, history...?<br><br>paging @dwr @v @vgr</div>\n",
       "    <p style=\"color: purple; margin: 10px 0 0;\">&#x1F49C; 44 <span style=\"margin-left: 5px; margin-top: 10px;\">&#x1F4AC; 16</span></p></div></div>"
      ],
      "text/plain": [
       "<IPython.core.display.HTML object>"
      ]
     },
     "metadata": {},
     "output_type": "display_data"
    },
    {
     "data": {
      "text/html": [
       "\n",
       "    <div style=\"border: 1px solid #ccc; max-width: 600px; padding: 25px; margin-bottom: 25px;\">\n",
       "        <div style=\"max-width: 550px; margin: 0 auto;\">\n",
       "            <p><strong><a href=\"https://searchcaster.xyz/search?merkleRoot=0x18fa661c651b9925476f8895f34bd1b91a7086f6\" target=\"_blank\">merkleRoot</a></strong></p>\n",
       "            <p><strong>@v · fid 2</strong></p>\n",
       "            <div style=\"word-wrap: break-word; margin: 10px 0;\">yo goerli people<br><br>can you please stop this craziness <br><br>thanks<br><br> </div>\n",
       "    <div style=\"text-align: center;\"><img src=\"https://i.imgur.com/rPaggWW.png\" style=\"max-width: 550px; margin-top: 10px;\"></div><p style=\"color: purple; margin: 10px 0 0;\">&#x1F49C; 43 <span style=\"margin-left: 5px; margin-top: 10px;\">&#x1F4AC; 8</span></p></div></div>"
      ],
      "text/plain": [
       "<IPython.core.display.HTML object>"
      ]
     },
     "metadata": {},
     "output_type": "display_data"
    },
    {
     "data": {
      "text/html": [
       "\n",
       "    <div style=\"border: 1px solid #ccc; max-width: 600px; padding: 25px; margin-bottom: 25px;\">\n",
       "        <div style=\"max-width: 550px; margin: 0 auto;\">\n",
       "            <p><strong><a href=\"https://searchcaster.xyz/search?merkleRoot=0x5e049157341d45304b2ea90397cea99c78b4aa4d\" target=\"_blank\">merkleRoot</a></strong></p>\n",
       "            <p><strong>@kyle · fid 303</strong></p>\n",
       "            <div style=\"word-wrap: break-word; margin: 10px 0;\">Next week, we'll open up Daylight to everyone. Until then, you can mint the Dawn Pass for fun, access before Monday, and OG status. It's free and you might find something fun on the other side to cheer you up rn. <a href=\"https://www.daylight.xyz/\" target=\"_blank\">https://www.daylight.xyz/</a></div>\n",
       "    <p style=\"color: purple; margin: 10px 0 0;\">&#x1F49C; 43 <span style=\"margin-left: 5px; margin-top: 10px;\">&#x1F4AC; 11</span></p></div></div>"
      ],
      "text/plain": [
       "<IPython.core.display.HTML object>"
      ]
     },
     "metadata": {},
     "output_type": "display_data"
    },
    {
     "data": {
      "text/html": [
       "\n",
       "    <div style=\"border: 1px solid #ccc; max-width: 600px; padding: 25px; margin-bottom: 25px;\">\n",
       "        <div style=\"max-width: 550px; margin: 0 auto;\">\n",
       "            <p><strong><a href=\"https://searchcaster.xyz/search?merkleRoot=0x1833f19ae1c3b1c0ddf411357715d8058f981fa2\" target=\"_blank\">merkleRoot</a></strong></p>\n",
       "            <p><strong>@0xen · fid 528</strong></p>\n",
       "            <div style=\"word-wrap: break-word; margin: 10px 0;\">Happy Furcaster Saturday </div>\n",
       "    <div style=\"text-align: center;\"><img src=\"https://i.imgur.com/BbzWu69.jpg\" style=\"max-width: 550px; margin-top: 10px;\"></div><p style=\"color: purple; margin: 10px 0 0;\">&#x1F49C; 42 <span style=\"margin-left: 5px; margin-top: 10px;\">&#x1F4AC; 8</span></p></div></div>"
      ],
      "text/plain": [
       "<IPython.core.display.HTML object>"
      ]
     },
     "metadata": {},
     "output_type": "display_data"
    },
    {
     "data": {
      "text/html": [
       "\n",
       "    <div style=\"border: 1px solid #ccc; max-width: 600px; padding: 25px; margin-bottom: 25px;\">\n",
       "        <div style=\"max-width: 550px; margin: 0 auto;\">\n",
       "            <p><strong><a href=\"https://searchcaster.xyz/search?merkleRoot=0xc73b96559b88906da02be3114387c8c84b56f4b2\" target=\"_blank\">merkleRoot</a></strong></p>\n",
       "            <p><strong>@matthew · fid 473</strong></p>\n",
       "            <div style=\"word-wrap: break-word; margin: 10px 0;\">Had an interesting night chatting w/ folks at the internet archive about the future of social media. <br><br>Lots of people excited about Mastodon, though I really do not think it solves the same use-case / behavior as Twitter. Seems like it could be used to make a better Discord though.<br><br>Very bullish on FC too after that.</div>\n",
       "    <p style=\"color: purple; margin: 10px 0 0;\">&#x1F49C; 42 <span style=\"margin-left: 5px; margin-top: 10px;\">&#x1F4AC; 6</span></p></div></div>"
      ],
      "text/plain": [
       "<IPython.core.display.HTML object>"
      ]
     },
     "metadata": {},
     "output_type": "display_data"
    },
    {
     "data": {
      "text/html": [
       "\n",
       "    <div style=\"border: 1px solid #ccc; max-width: 600px; padding: 25px; margin-bottom: 25px;\">\n",
       "        <div style=\"max-width: 550px; margin: 0 auto;\">\n",
       "            <p><strong><a href=\"https://searchcaster.xyz/search?merkleRoot=0xcbc524ca13b6d819e82f803b601e686ffcd0901c\" target=\"_blank\">merkleRoot</a></strong></p>\n",
       "            <p><strong>@cameron · fid 617</strong></p>\n",
       "            <div style=\"word-wrap: break-word; margin: 10px 0;\">The thing that hurts the most about adulthood is being absolute trash at any new game I try to play. <br><br>I still crush my nephew at smash bros but damn am I bad at anything that came out after 2014</div>\n",
       "    <p style=\"color: purple; margin: 10px 0 0;\">&#x1F49C; 41 <span style=\"margin-left: 5px; margin-top: 10px;\">&#x1F4AC; 14</span></p></div></div>"
      ],
      "text/plain": [
       "<IPython.core.display.HTML object>"
      ]
     },
     "metadata": {},
     "output_type": "display_data"
    },
    {
     "data": {
      "text/html": [
       "\n",
       "    <div style=\"border: 1px solid #ccc; max-width: 600px; padding: 25px; margin-bottom: 25px;\">\n",
       "        <div style=\"max-width: 550px; margin: 0 auto;\">\n",
       "            <p><strong><a href=\"https://searchcaster.xyz/search?merkleRoot=0xa5e1fa17be9bca1e616fead73ed5d8762f890106\" target=\"_blank\">merkleRoot</a></strong></p>\n",
       "            <p><strong>@dcposch · fid 56</strong></p>\n",
       "            <div style=\"word-wrap: break-word; margin: 10px 0;\">I want a pure stablecoin on-ramp and off-ramp. Like you kyc, wire money and receive USDC to an address, or vice versa.<br><br>Not an exchange; you can use uniswap for that</div>\n",
       "    <p style=\"color: purple; margin: 10px 0 0;\">&#x1F49C; 41 <span style=\"margin-left: 5px; margin-top: 10px;\">&#x1F4AC; 18</span></p></div></div>"
      ],
      "text/plain": [
       "<IPython.core.display.HTML object>"
      ]
     },
     "metadata": {},
     "output_type": "display_data"
    },
    {
     "data": {
      "text/html": [
       "\n",
       "    <div style=\"border: 1px solid #ccc; max-width: 600px; padding: 25px; margin-bottom: 25px;\">\n",
       "        <div style=\"max-width: 550px; margin: 0 auto;\">\n",
       "            <p><strong><a href=\"https://searchcaster.xyz/search?merkleRoot=0xeb27d43d92e7e83dabb4d16979c81023301625f9\" target=\"_blank\">merkleRoot</a></strong></p>\n",
       "            <p><strong>@dwr · fid 3</strong></p>\n",
       "            <div style=\"word-wrap: break-word; margin: 10px 0;\">Grade A terrible abuse of Twitter threads for algo engagement (ironic given the content).<br><br><a href=\"https://twitter.com/liamkircher/status/1592866981145104385\" target=\"_blank\">https://twitter.com/liamkircher/status/1592866981145104385</a></div>\n",
       "    <p style=\"color: purple; margin: 10px 0 0;\">&#x1F49C; 40 <span style=\"margin-left: 5px; margin-top: 10px;\">&#x1F4AC; 13</span></p></div></div>"
      ],
      "text/plain": [
       "<IPython.core.display.HTML object>"
      ]
     },
     "metadata": {},
     "output_type": "display_data"
    },
    {
     "data": {
      "text/html": [
       "\n",
       "    <div style=\"border: 1px solid #ccc; max-width: 600px; padding: 25px; margin-bottom: 25px;\">\n",
       "        <div style=\"max-width: 550px; margin: 0 auto;\">\n",
       "            <p><strong><a href=\"https://searchcaster.xyz/search?merkleRoot=0x28bf92888bfc1d83d28b6a3424a4bab65595c550\" target=\"_blank\">merkleRoot</a></strong></p>\n",
       "            <p><strong>@dwr · fid 3</strong></p>\n",
       "            <div style=\"word-wrap: break-word; margin: 10px 0;\">Bigger second order effects on your day to day life by 2030: cheap energy or self-driving cars?</div>\n",
       "    <p style=\"color: purple; margin: 10px 0 0;\">&#x1F49C; 40 <span style=\"margin-left: 5px; margin-top: 10px;\">&#x1F4AC; 42</span></p></div></div>"
      ],
      "text/plain": [
       "<IPython.core.display.HTML object>"
      ]
     },
     "metadata": {},
     "output_type": "display_data"
    },
    {
     "data": {
      "text/html": [
       "\n",
       "    <div style=\"border: 1px solid #ccc; max-width: 600px; padding: 25px; margin-bottom: 25px;\">\n",
       "        <div style=\"max-width: 550px; margin: 0 auto;\">\n",
       "            <p><strong><a href=\"https://searchcaster.xyz/search?merkleRoot=0x4011e5a447c9967bf26f686f8d55d5c611bdf9d2\" target=\"_blank\">merkleRoot</a></strong></p>\n",
       "            <p><strong>@brianjckim · fid 426</strong></p>\n",
       "            <div style=\"word-wrap: break-word; margin: 10px 0;\">from a close friend </div>\n",
       "    <div style=\"text-align: center;\"><img src=\"https://i.imgur.com/7ZWl88a.jpg\" style=\"max-width: 550px; margin-top: 10px;\"></div><p style=\"color: purple; margin: 10px 0 0;\">&#x1F49C; 39 <span style=\"margin-left: 5px; margin-top: 10px;\">&#x1F4AC; 3</span></p></div></div>"
      ],
      "text/plain": [
       "<IPython.core.display.HTML object>"
      ]
     },
     "metadata": {},
     "output_type": "display_data"
    },
    {
     "data": {
      "text/html": [
       "\n",
       "    <div style=\"border: 1px solid #ccc; max-width: 600px; padding: 25px; margin-bottom: 25px;\">\n",
       "        <div style=\"max-width: 550px; margin: 0 auto;\">\n",
       "            <p><strong><a href=\"https://searchcaster.xyz/search?merkleRoot=0xaf1139e2e52d40470032a0ceddc53a1f249119f5\" target=\"_blank\">merkleRoot</a></strong></p>\n",
       "            <p><strong>@cameron · fid 617</strong></p>\n",
       "            <div style=\"word-wrap: break-word; margin: 10px 0;\">Last current thing post<br><br>If you had bookmarked the Sequoia FTX essay to read later, they’ve deleted it now<br><br>Here’s the wayback machine indexed version 🫡<br><a href=\"https://web.archive.org/web/20221027180943/https://www.sequoiacap.com/article/sam-bankman-fried-spotlight/\" target=\"_blank\">https://web.archive.org/web/20221027180943/https://www.sequoiacap.com/article/sam-bankman-fried-spotlight/</a></div>\n",
       "    <p style=\"color: purple; margin: 10px 0 0;\">&#x1F49C; 39 <span style=\"margin-left: 5px; margin-top: 10px;\">&#x1F4AC; 6</span></p></div></div>"
      ],
      "text/plain": [
       "<IPython.core.display.HTML object>"
      ]
     },
     "metadata": {},
     "output_type": "display_data"
    },
    {
     "data": {
      "text/html": [
       "\n",
       "    <div style=\"border: 1px solid #ccc; max-width: 600px; padding: 25px; margin-bottom: 25px;\">\n",
       "        <div style=\"max-width: 550px; margin: 0 auto;\">\n",
       "            <p><strong><a href=\"https://searchcaster.xyz/search?merkleRoot=0xffe769498dbaef677cf5739505ddb9781c3ff960\" target=\"_blank\">merkleRoot</a></strong></p>\n",
       "            <p><strong>@cameron · fid 617</strong></p>\n",
       "            <div style=\"word-wrap: break-word; margin: 10px 0;\">Protip: It’s 1000% more fun to tell yourself “you have 30 minutes to ship this feature” and race to code it under the time limit<br><br>Unrelated: RIP to my future CTO</div>\n",
       "    <p style=\"color: purple; margin: 10px 0 0;\">&#x1F49C; 38 <span style=\"margin-left: 5px; margin-top: 10px;\">&#x1F4AC; 7</span></p></div></div>"
      ],
      "text/plain": [
       "<IPython.core.display.HTML object>"
      ]
     },
     "metadata": {},
     "output_type": "display_data"
    },
    {
     "data": {
      "text/html": [
       "\n",
       "    <div style=\"border: 1px solid #ccc; max-width: 600px; padding: 25px; margin-bottom: 25px;\">\n",
       "        <div style=\"max-width: 550px; margin: 0 auto;\">\n",
       "            <p><strong><a href=\"https://searchcaster.xyz/search?merkleRoot=0xb96927f359d9f2110c750e8195d5d818d3631d20\" target=\"_blank\">merkleRoot</a></strong></p>\n",
       "            <p><strong>@colin · fid 378</strong></p>\n",
       "            <div style=\"word-wrap: break-word; margin: 10px 0;\">Random thought: I like the idea of treating content (blogposts & articles) as an ever-evolving thing, moreso like Wikipedia and less-so frozen in time.<br><br>Would be neat to keep a record of updates, show what content changed (as a result of what new information you came across), etc.</div>\n",
       "    <p style=\"color: purple; margin: 10px 0 0;\">&#x1F49C; 37 <span style=\"margin-left: 5px; margin-top: 10px;\">&#x1F4AC; 10</span></p></div></div>"
      ],
      "text/plain": [
       "<IPython.core.display.HTML object>"
      ]
     },
     "metadata": {},
     "output_type": "display_data"
    },
    {
     "data": {
      "text/html": [
       "\n",
       "    <div style=\"border: 1px solid #ccc; max-width: 600px; padding: 25px; margin-bottom: 25px;\">\n",
       "        <div style=\"max-width: 550px; margin: 0 auto;\">\n",
       "            <p><strong><a href=\"https://searchcaster.xyz/search?merkleRoot=0x34b0a09f5a54f375e100e7223d4f7e174c6fd08f\" target=\"_blank\">merkleRoot</a></strong></p>\n",
       "            <p><strong>@dwr · fid 3</strong></p>\n",
       "            <div style=\"word-wrap: break-word; margin: 10px 0;\">This is neat: a large language model for scientific papers.<br><br><a href=\"https://galactica.org/\" target=\"_blank\">https://galactica.org/</a></div>\n",
       "    <p style=\"color: purple; margin: 10px 0 0;\">&#x1F49C; 37 <span style=\"margin-left: 5px; margin-top: 10px;\">&#x1F4AC; 11</span></p></div></div>"
      ],
      "text/plain": [
       "<IPython.core.display.HTML object>"
      ]
     },
     "metadata": {},
     "output_type": "display_data"
    },
    {
     "data": {
      "text/html": [
       "\n",
       "    <div style=\"border: 1px solid #ccc; max-width: 600px; padding: 25px; margin-bottom: 25px;\">\n",
       "        <div style=\"max-width: 550px; margin: 0 auto;\">\n",
       "            <p><strong><a href=\"https://searchcaster.xyz/search?merkleRoot=0xd6242fb989ebf6a431eb06a84500a7d2d6cd6026\" target=\"_blank\">merkleRoot</a></strong></p>\n",
       "            <p><strong>@jackson · fid 106</strong></p>\n",
       "            <div style=\"word-wrap: break-word; margin: 10px 0;\">who is pushing you past your cache? </div>\n",
       "    <div style=\"text-align: center;\"><img src=\"https://i.imgur.com/vnvodyA.jpg\" style=\"max-width: 550px; margin-top: 10px;\"></div><p style=\"color: purple; margin: 10px 0 0;\">&#x1F49C; 37 <span style=\"margin-left: 5px; margin-top: 10px;\">&#x1F4AC; 7</span></p></div></div>"
      ],
      "text/plain": [
       "<IPython.core.display.HTML object>"
      ]
     },
     "metadata": {},
     "output_type": "display_data"
    },
    {
     "data": {
      "text/html": [
       "\n",
       "    <div style=\"border: 1px solid #ccc; max-width: 600px; padding: 25px; margin-bottom: 25px;\">\n",
       "        <div style=\"max-width: 550px; margin: 0 auto;\">\n",
       "            <p><strong><a href=\"https://searchcaster.xyz/search?merkleRoot=0x1f108965876004966746764edd3551135b07dc0b\" target=\"_blank\">merkleRoot</a></strong></p>\n",
       "            <p><strong>@dwr · fid 3</strong></p>\n",
       "            <div style=\"word-wrap: break-word; margin: 10px 0;\">🫡<br><br><a href=\"https://github.com/yi-sun\" target=\"_blank\">https://github.com/yi-sun</a> </div>\n",
       "    <div style=\"text-align: center;\"><img src=\"https://i.imgur.com/rGK3y6U.png\" style=\"max-width: 550px; margin-top: 10px;\"></div><p style=\"color: purple; margin: 10px 0 0;\">&#x1F49C; 37 <span style=\"margin-left: 5px; margin-top: 10px;\">&#x1F4AC; 9</span></p></div></div>"
      ],
      "text/plain": [
       "<IPython.core.display.HTML object>"
      ]
     },
     "metadata": {},
     "output_type": "display_data"
    },
    {
     "data": {
      "text/html": [
       "\n",
       "    <div style=\"border: 1px solid #ccc; max-width: 600px; padding: 25px; margin-bottom: 25px;\">\n",
       "        <div style=\"max-width: 550px; margin: 0 auto;\">\n",
       "            <p><strong><a href=\"https://searchcaster.xyz/search?merkleRoot=0x938726a65ffdae8ff1803ae76b06121523a3be09\" target=\"_blank\">merkleRoot</a></strong></p>\n",
       "            <p><strong>@ace · fid 539</strong></p>\n",
       "            <div style=\"word-wrap: break-word; margin: 10px 0;\">how do you say “gm” in another language? <br><br>had:<br>bd (buenos diaz)<br>ㄱㅁ (good morning in korean)<br><br>what else?</div>\n",
       "    <p style=\"color: purple; margin: 10px 0 0;\">&#x1F49C; 37 <span style=\"margin-left: 5px; margin-top: 10px;\">&#x1F4AC; 41</span></p></div></div>"
      ],
      "text/plain": [
       "<IPython.core.display.HTML object>"
      ]
     },
     "metadata": {},
     "output_type": "display_data"
    },
    {
     "data": {
      "text/html": [
       "\n",
       "    <div style=\"border: 1px solid #ccc; max-width: 600px; padding: 25px; margin-bottom: 25px;\">\n",
       "        <div style=\"max-width: 550px; margin: 0 auto;\">\n",
       "            <p><strong><a href=\"https://searchcaster.xyz/search?merkleRoot=0x5f603f16b9b24111adf43f380df888d4fd435295\" target=\"_blank\">merkleRoot</a></strong></p>\n",
       "            <p><strong>@dwr · fid 3</strong></p>\n",
       "            <div style=\"word-wrap: break-word; margin: 10px 0;\">In case you know anyone...<br><br><a href=\"https://twitter.com/dwr/status/1592648701809680387\" target=\"_blank\">https://twitter.com/dwr/status/1592648701809680387</a></div>\n",
       "    <p style=\"color: purple; margin: 10px 0 0;\">&#x1F49C; 37 <span style=\"margin-left: 5px; margin-top: 10px;\">&#x1F4AC; 2</span></p></div></div>"
      ],
      "text/plain": [
       "<IPython.core.display.HTML object>"
      ]
     },
     "metadata": {},
     "output_type": "display_data"
    },
    {
     "data": {
      "text/html": [
       "\n",
       "    <div style=\"border: 1px solid #ccc; max-width: 600px; padding: 25px; margin-bottom: 25px;\">\n",
       "        <div style=\"max-width: 550px; margin: 0 auto;\">\n",
       "            <p><strong><a href=\"https://searchcaster.xyz/search?merkleRoot=0xcda3eeb71a3be2c837d6f5106caf24e9994ab933\" target=\"_blank\">merkleRoot</a></strong></p>\n",
       "            <p><strong>@yitong · fid 101</strong></p>\n",
       "            <div style=\"word-wrap: break-word; margin: 10px 0;\">Lots of cool new protocol releases today:<br><br>Uniswap Permit2 & universal router<br>Partybid v2<br>Papr<br><br>Good reading list for this weekend!</div>\n",
       "    <p style=\"color: purple; margin: 10px 0 0;\">&#x1F49C; 36 <span style=\"margin-left: 5px; margin-top: 10px;\">&#x1F4AC; 3</span></p></div></div>"
      ],
      "text/plain": [
       "<IPython.core.display.HTML object>"
      ]
     },
     "metadata": {},
     "output_type": "display_data"
    },
    {
     "data": {
      "text/html": [
       "\n",
       "    <div style=\"border: 1px solid #ccc; max-width: 600px; padding: 25px; margin-bottom: 25px;\">\n",
       "        <div style=\"max-width: 550px; margin: 0 auto;\">\n",
       "            <p><strong><a href=\"https://searchcaster.xyz/search?merkleRoot=0x06ce1f88f0091ad84abcdc41265a0f3472360a22\" target=\"_blank\">merkleRoot</a></strong></p>\n",
       "            <p><strong>@dwr · fid 3</strong></p>\n",
       "            <div style=\"word-wrap: break-word; margin: 10px 0;\">This was an excellent read.<br><br><a href=\"https://maggieappleton.com/command-bar\" target=\"_blank\">https://maggieappleton.com/command-bar</a></div>\n",
       "    <p style=\"color: purple; margin: 10px 0 0;\">&#x1F49C; 36 <span style=\"margin-left: 5px; margin-top: 10px;\">&#x1F4AC; 6</span></p></div></div>"
      ],
      "text/plain": [
       "<IPython.core.display.HTML object>"
      ]
     },
     "metadata": {},
     "output_type": "display_data"
    },
    {
     "data": {
      "text/html": [
       "\n",
       "    <div style=\"border: 1px solid #ccc; max-width: 600px; padding: 25px; margin-bottom: 25px;\">\n",
       "        <div style=\"max-width: 550px; margin: 0 auto;\">\n",
       "            <p><strong><a href=\"https://searchcaster.xyz/search?merkleRoot=0x1e0664d5130339f87114a3859cbe43a00759dcd4\" target=\"_blank\">merkleRoot</a></strong></p>\n",
       "            <p><strong>@gabrielayuso · fid 834</strong></p>\n",
       "            <div style=\"word-wrap: break-word; margin: 10px 0;\">Mobile web3 is so broken.<br><br>MetaMask is stuck in this state and Rainbow wallet is not showing the pop-up to sign messages/transactions 🤦 </div>\n",
       "    <div style=\"text-align: center;\"><img src=\"https://i.imgur.com/LeTMvMW.jpg\" style=\"max-width: 550px; margin-top: 10px;\"></div><p style=\"color: purple; margin: 10px 0 0;\">&#x1F49C; 36 <span style=\"margin-left: 5px; margin-top: 10px;\">&#x1F4AC; 9</span></p></div></div>"
      ],
      "text/plain": [
       "<IPython.core.display.HTML object>"
      ]
     },
     "metadata": {},
     "output_type": "display_data"
    },
    {
     "data": {
      "text/html": [
       "\n",
       "    <div style=\"border: 1px solid #ccc; max-width: 600px; padding: 25px; margin-bottom: 25px;\">\n",
       "        <div style=\"max-width: 550px; margin: 0 auto;\">\n",
       "            <p><strong><a href=\"https://searchcaster.xyz/search?merkleRoot=0x88c1972efa9045be539f5fca4aed3d42355db41f\" target=\"_blank\">merkleRoot</a></strong></p>\n",
       "            <p><strong>@tim · fid 207</strong></p>\n",
       "            <div style=\"word-wrap: break-word; margin: 10px 0;\">After this week, I think one of the most important products you could build in crypto is “USDC/T minting for retail”. Like a crypto exchange, but never custodial: you send fiat, and it mints USD* to your specified address, never taking custody. Need to trade using DeFi.</div>\n",
       "    <p style=\"color: purple; margin: 10px 0 0;\">&#x1F49C; 35 <span style=\"margin-left: 5px; margin-top: 10px;\">&#x1F4AC; 8</span></p></div></div>"
      ],
      "text/plain": [
       "<IPython.core.display.HTML object>"
      ]
     },
     "metadata": {},
     "output_type": "display_data"
    },
    {
     "data": {
      "text/html": [
       "\n",
       "    <div style=\"border: 1px solid #ccc; max-width: 600px; padding: 25px; margin-bottom: 25px;\">\n",
       "        <div style=\"max-width: 550px; margin: 0 auto;\">\n",
       "            <p><strong><a href=\"https://searchcaster.xyz/search?merkleRoot=0x9321675d6864d5d262a300247e4f2d296d203643\" target=\"_blank\">merkleRoot</a></strong></p>\n",
       "            <p><strong>@dwr · fid 3</strong></p>\n",
       "            <div style=\"word-wrap: break-word; margin: 10px 0;\">Interesting<br><br><a href=\"https://twitter.com/jgebbia/status/1592609795584163840\" target=\"_blank\">https://twitter.com/jgebbia/status/1592609795584163840</a></div>\n",
       "    <p style=\"color: purple; margin: 10px 0 0;\">&#x1F49C; 35 <span style=\"margin-left: 5px; margin-top: 10px;\">&#x1F4AC; 12</span></p></div></div>"
      ],
      "text/plain": [
       "<IPython.core.display.HTML object>"
      ]
     },
     "metadata": {},
     "output_type": "display_data"
    },
    {
     "data": {
      "text/html": [
       "\n",
       "    <div style=\"border: 1px solid #ccc; max-width: 600px; padding: 25px; margin-bottom: 25px;\">\n",
       "        <div style=\"max-width: 550px; margin: 0 auto;\">\n",
       "            <p><strong><a href=\"https://searchcaster.xyz/search?merkleRoot=0x2982e6876565f02cf413f0abe524d4642ffe15a4\" target=\"_blank\">merkleRoot</a></strong></p>\n",
       "            <p><strong>@leonidas · fid 5469</strong></p>\n",
       "            <div style=\"word-wrap: break-word; margin: 10px 0;\">Dank Early Ethereum NFTs: Farcaster Edition </div>\n",
       "    <div style=\"text-align: center;\"><img src=\"https://i.imgur.com/UTPl7t4.jpg\" style=\"max-width: 550px; margin-top: 10px;\"></div><p style=\"color: purple; margin: 10px 0 0;\">&#x1F49C; 34 <span style=\"margin-left: 5px; margin-top: 10px;\">&#x1F4AC; 6</span></p></div></div>"
      ],
      "text/plain": [
       "<IPython.core.display.HTML object>"
      ]
     },
     "metadata": {},
     "output_type": "display_data"
    },
    {
     "data": {
      "text/html": [
       "\n",
       "    <div style=\"border: 1px solid #ccc; max-width: 600px; padding: 25px; margin-bottom: 25px;\">\n",
       "        <div style=\"max-width: 550px; margin: 0 auto;\">\n",
       "            <p><strong><a href=\"https://searchcaster.xyz/search?merkleRoot=0x502568af6a6a13ed2edc6b3ad6f753f9c401cff7\" target=\"_blank\">merkleRoot</a></strong></p>\n",
       "            <p><strong>@zd · fid 296</strong></p>\n",
       "            <div style=\"word-wrap: break-word; margin: 10px 0;\">honestly my favorite part of farcaster is how it makes me feel<br><br>every time i open twitter i tense up<br><br>every time i open farcaster i don’t<br><br>likely due to the size + quality of the user base, but awesome nonetheless</div>\n",
       "    <p style=\"color: purple; margin: 10px 0 0;\">&#x1F49C; 34 <span style=\"margin-left: 5px; margin-top: 10px;\">&#x1F4AC; 4</span></p></div></div>"
      ],
      "text/plain": [
       "<IPython.core.display.HTML object>"
      ]
     },
     "metadata": {},
     "output_type": "display_data"
    },
    {
     "data": {
      "text/html": [
       "\n",
       "    <div style=\"border: 1px solid #ccc; max-width: 600px; padding: 25px; margin-bottom: 25px;\">\n",
       "        <div style=\"max-width: 550px; margin: 0 auto;\">\n",
       "            <p><strong><a href=\"https://searchcaster.xyz/search?merkleRoot=0x90b40ded0f7d6d69ee7074f2687970656e575307\" target=\"_blank\">merkleRoot</a></strong></p>\n",
       "            <p><strong>@n · fid 274</strong></p>\n",
       "            <div style=\"word-wrap: break-word; margin: 10px 0;\">A lot of crypto startups in 2021 pivoted to AI in 2022<br><br>It takes little effort to launch a product in a hot market, but seeing little results while consistently shipping incremental improvement is more challenging</div>\n",
       "    <p style=\"color: purple; margin: 10px 0 0;\">&#x1F49C; 33 <span style=\"margin-left: 5px; margin-top: 10px;\">&#x1F4AC; 6</span></p></div></div>"
      ],
      "text/plain": [
       "<IPython.core.display.HTML object>"
      ]
     },
     "metadata": {},
     "output_type": "display_data"
    },
    {
     "data": {
      "text/html": [
       "\n",
       "    <div style=\"border: 1px solid #ccc; max-width: 600px; padding: 25px; margin-bottom: 25px;\">\n",
       "        <div style=\"max-width: 550px; margin: 0 auto;\">\n",
       "            <p><strong><a href=\"https://searchcaster.xyz/search?merkleRoot=0x8df8272e321478f261eda22d67a98feabe5c7e0f\" target=\"_blank\">merkleRoot</a></strong></p>\n",
       "            <p><strong>@zachterrell · fid 457</strong></p>\n",
       "            <div style=\"word-wrap: break-word; margin: 10px 0;\">gm </div>\n",
       "    <div style=\"text-align: center;\"><img src=\"https://i.imgur.com/LSaCLR0.png\" style=\"max-width: 550px; margin-top: 10px;\"></div><p style=\"color: purple; margin: 10px 0 0;\">&#x1F49C; 33 <span style=\"margin-left: 5px; margin-top: 10px;\">&#x1F4AC; 3</span></p></div></div>"
      ],
      "text/plain": [
       "<IPython.core.display.HTML object>"
      ]
     },
     "metadata": {},
     "output_type": "display_data"
    },
    {
     "data": {
      "text/html": [
       "\n",
       "    <div style=\"border: 1px solid #ccc; max-width: 600px; padding: 25px; margin-bottom: 25px;\">\n",
       "        <div style=\"max-width: 550px; margin: 0 auto;\">\n",
       "            <p><strong><a href=\"https://searchcaster.xyz/search?merkleRoot=0x4ade5217edcb27f689761ad69fe80946ccab0f90\" target=\"_blank\">merkleRoot</a></strong></p>\n",
       "            <p><strong>@greg · fid 347</strong></p>\n",
       "            <div style=\"word-wrap: break-word; margin: 10px 0;\">Get a little Goerli ETH by asking 🤖: <br><br>yo @bot imma need you to faucet me some of that ETH<br><br>(just include the word \"faucet\")</div>\n",
       "    <p style=\"color: purple; margin: 10px 0 0;\">&#x1F49C; 33 <span style=\"margin-left: 5px; margin-top: 10px;\">&#x1F4AC; 26</span></p></div></div>"
      ],
      "text/plain": [
       "<IPython.core.display.HTML object>"
      ]
     },
     "metadata": {},
     "output_type": "display_data"
    },
    {
     "data": {
      "text/html": [
       "\n",
       "    <div style=\"border: 1px solid #ccc; max-width: 600px; padding: 25px; margin-bottom: 25px;\">\n",
       "        <div style=\"max-width: 550px; margin: 0 auto;\">\n",
       "            <p><strong><a href=\"https://searchcaster.xyz/search?merkleRoot=0xced084613c77dd9c929c12c0cb4ff20e2ebe51de\" target=\"_blank\">merkleRoot</a></strong></p>\n",
       "            <p><strong>@yancey · fid 1495</strong></p>\n",
       "            <div style=\"word-wrap: break-word; margin: 10px 0;\">DAOs are the smoke not the fire<br><br>The fire is people discovering the power of creating together online</div>\n",
       "    <p style=\"color: purple; margin: 10px 0 0;\">&#x1F49C; 33 <span style=\"margin-left: 5px; margin-top: 10px;\">&#x1F4AC; 1</span></p></div></div>"
      ],
      "text/plain": [
       "<IPython.core.display.HTML object>"
      ]
     },
     "metadata": {},
     "output_type": "display_data"
    },
    {
     "data": {
      "text/html": [
       "\n",
       "    <div style=\"border: 1px solid #ccc; max-width: 600px; padding: 25px; margin-bottom: 25px;\">\n",
       "        <div style=\"max-width: 550px; margin: 0 auto;\">\n",
       "            <p><strong><a href=\"https://searchcaster.xyz/search?merkleRoot=0xf5eb1ab1d27b3a3f22fc9203633c61401575ff2c\" target=\"_blank\">merkleRoot</a></strong></p>\n",
       "            <p><strong>@jmj · fid 204</strong></p>\n",
       "            <div style=\"word-wrap: break-word; margin: 10px 0;\">Best writing I’ve seen on crypto the past week courtesy of @antonio.<br><br>Thanks for giving the world a more optimistic view (and historical perspective)<br><br><a href=\"https://blog.spindl.xyz/p/the-ftx-freakout\" target=\"_blank\">https://blog.spindl.xyz/p/the-ftx-freakout</a></div>\n",
       "    <p style=\"color: purple; margin: 10px 0 0;\">&#x1F49C; 33 <span style=\"margin-left: 5px; margin-top: 10px;\">&#x1F4AC; 3</span></p></div></div>"
      ],
      "text/plain": [
       "<IPython.core.display.HTML object>"
      ]
     },
     "metadata": {},
     "output_type": "display_data"
    },
    {
     "data": {
      "text/html": [
       "\n",
       "    <div style=\"border: 1px solid #ccc; max-width: 600px; padding: 25px; margin-bottom: 25px;\">\n",
       "        <div style=\"max-width: 550px; margin: 0 auto;\">\n",
       "            <p><strong><a href=\"https://searchcaster.xyz/search?merkleRoot=0x65d46119fef53206a28b86f9854095f571a07870\" target=\"_blank\">merkleRoot</a></strong></p>\n",
       "            <p><strong>@dwr · fid 3</strong></p>\n",
       "            <div style=\"word-wrap: break-word; margin: 10px 0;\">A warm Farcaster welcome to @geoffreylitt — creator of the excellent Twemex.</div>\n",
       "    <p style=\"color: purple; margin: 10px 0 0;\">&#x1F49C; 32 <span style=\"margin-left: 5px; margin-top: 10px;\">&#x1F4AC; 8</span></p></div></div>"
      ],
      "text/plain": [
       "<IPython.core.display.HTML object>"
      ]
     },
     "metadata": {},
     "output_type": "display_data"
    },
    {
     "data": {
      "text/html": [
       "\n",
       "    <div style=\"border: 1px solid #ccc; max-width: 600px; padding: 25px; margin-bottom: 25px;\">\n",
       "        <div style=\"max-width: 550px; margin: 0 auto;\">\n",
       "            <p><strong><a href=\"https://searchcaster.xyz/search?merkleRoot=0x99862dcfa655b2e19927f0791ac141274aaf1a52\" target=\"_blank\">merkleRoot</a></strong></p>\n",
       "            <p><strong>@dwr · fid 3</strong></p>\n",
       "            <div style=\"word-wrap: break-word; margin: 10px 0;\">Farcaster microapp idea: aggregate responses to frequent cast types, like looking for recommendations for books or podcasts</div>\n",
       "    <p style=\"color: purple; margin: 10px 0 0;\">&#x1F49C; 32 <span style=\"margin-left: 5px; margin-top: 10px;\">&#x1F4AC; 6</span></p></div></div>"
      ],
      "text/plain": [
       "<IPython.core.display.HTML object>"
      ]
     },
     "metadata": {},
     "output_type": "display_data"
    },
    {
     "data": {
      "text/html": [
       "\n",
       "    <div style=\"border: 1px solid #ccc; max-width: 600px; padding: 25px; margin-bottom: 25px;\">\n",
       "        <div style=\"max-width: 550px; margin: 0 auto;\">\n",
       "            <p><strong><a href=\"https://searchcaster.xyz/search?merkleRoot=0x6e2565f26b95a3865d7ed9885bea9361b56119ae\" target=\"_blank\">merkleRoot</a></strong></p>\n",
       "            <p><strong>@colin · fid 378</strong></p>\n",
       "            <div style=\"word-wrap: break-word; margin: 10px 0;\">I always pointed to FTX as an example of building a successful company while keeping a small team, but naturally that analogy doesn’t work anymore.<br><br>What other companies have become successful while staying lean?</div>\n",
       "    <p style=\"color: purple; margin: 10px 0 0;\">&#x1F49C; 32 <span style=\"margin-left: 5px; margin-top: 10px;\">&#x1F4AC; 27</span></p></div></div>"
      ],
      "text/plain": [
       "<IPython.core.display.HTML object>"
      ]
     },
     "metadata": {},
     "output_type": "display_data"
    },
    {
     "data": {
      "text/html": [
       "\n",
       "    <div style=\"border: 1px solid #ccc; max-width: 600px; padding: 25px; margin-bottom: 25px;\">\n",
       "        <div style=\"max-width: 550px; margin: 0 auto;\">\n",
       "            <p><strong><a href=\"https://searchcaster.xyz/search?merkleRoot=0x83f38fc0affd05987645f4e5ea3ce6174fb1a9a1\" target=\"_blank\">merkleRoot</a></strong></p>\n",
       "            <p><strong>@zachterrell · fid 457</strong></p>\n",
       "            <div style=\"word-wrap: break-word; margin: 10px 0;\">New metric on farcaster.network: </div>\n",
       "    <div style=\"text-align: center;\"><img src=\"https://i.imgur.com/yHZI6v2.jpg\" style=\"max-width: 550px; margin-top: 10px;\"></div><p style=\"color: purple; margin: 10px 0 0;\">&#x1F49C; 32 <span style=\"margin-left: 5px; margin-top: 10px;\">&#x1F4AC; 7</span></p></div></div>"
      ],
      "text/plain": [
       "<IPython.core.display.HTML object>"
      ]
     },
     "metadata": {},
     "output_type": "display_data"
    },
    {
     "data": {
      "text/html": [
       "\n",
       "    <div style=\"border: 1px solid #ccc; max-width: 600px; padding: 25px; margin-bottom: 25px;\">\n",
       "        <div style=\"max-width: 550px; margin: 0 auto;\">\n",
       "            <p><strong><a href=\"https://searchcaster.xyz/search?merkleRoot=0x483aabf294112e5e32f3ea33a7659e740a71d2a3\" target=\"_blank\">merkleRoot</a></strong></p>\n",
       "            <p><strong>@frankdegods · fid 5429</strong></p>\n",
       "            <div style=\"word-wrap: break-word; margin: 10px 0;\">this is my solana nft </div>\n",
       "    <div style=\"text-align: center;\"><img src=\"https://i.imgur.com/qtUf6Fg.jpg\" style=\"max-width: 550px; margin-top: 10px;\"></div><p style=\"color: purple; margin: 10px 0 0;\">&#x1F49C; 32 <span style=\"margin-left: 5px; margin-top: 10px;\">&#x1F4AC; 16</span></p></div></div>"
      ],
      "text/plain": [
       "<IPython.core.display.HTML object>"
      ]
     },
     "metadata": {},
     "output_type": "display_data"
    },
    {
     "data": {
      "text/html": [
       "\n",
       "    <div style=\"border: 1px solid #ccc; max-width: 600px; padding: 25px; margin-bottom: 25px;\">\n",
       "        <div style=\"max-width: 550px; margin: 0 auto;\">\n",
       "            <p><strong><a href=\"https://searchcaster.xyz/search?merkleRoot=0xf9fe5843270ab17d78613d7a33160469400af950\" target=\"_blank\">merkleRoot</a></strong></p>\n",
       "            <p><strong>@drew-coffman · fid 3895</strong></p>\n",
       "            <div style=\"word-wrap: break-word; margin: 10px 0;\">big day for the FWB squad </div>\n",
       "    <div style=\"text-align: center;\"><img src=\"https://i.imgur.com/LYF9Ufw.jpg\" style=\"max-width: 550px; margin-top: 10px;\"></div><p style=\"color: purple; margin: 10px 0 0;\">&#x1F49C; 32 <span style=\"margin-left: 5px; margin-top: 10px;\">&#x1F4AC; 3</span></p></div></div>"
      ],
      "text/plain": [
       "<IPython.core.display.HTML object>"
      ]
     },
     "metadata": {},
     "output_type": "display_data"
    },
    {
     "data": {
      "text/html": [
       "\n",
       "    <div style=\"border: 1px solid #ccc; max-width: 600px; padding: 25px; margin-bottom: 25px;\">\n",
       "        <div style=\"max-width: 550px; margin: 0 auto;\">\n",
       "            <p><strong><a href=\"https://searchcaster.xyz/search?merkleRoot=0xe1e1f23cf5a5e2a64aee5d85614b7b776c1a3e83\" target=\"_blank\">merkleRoot</a></strong></p>\n",
       "            <p><strong>@rafa · fid 2458</strong></p>\n",
       "            <div style=\"word-wrap: break-word; margin: 10px 0;\">getting a general feeling that folks are burnt out from a brutal year. need more vacation.</div>\n",
       "    <p style=\"color: purple; margin: 10px 0 0;\">&#x1F49C; 32 <span style=\"margin-left: 5px; margin-top: 10px;\">&#x1F4AC; 9</span></p></div></div>"
      ],
      "text/plain": [
       "<IPython.core.display.HTML object>"
      ]
     },
     "metadata": {},
     "output_type": "display_data"
    },
    {
     "data": {
      "text/html": [
       "\n",
       "    <div style=\"border: 1px solid #ccc; max-width: 600px; padding: 25px; margin-bottom: 25px;\">\n",
       "        <div style=\"max-width: 550px; margin: 0 auto;\">\n",
       "            <p><strong><a href=\"https://searchcaster.xyz/search?merkleRoot=0x1f559a67d1db19b4d0152db00fa8d893e2ec6db5\" target=\"_blank\">merkleRoot</a></strong></p>\n",
       "            <p><strong>@ace · fid 539</strong></p>\n",
       "            <div style=\"word-wrap: break-word; margin: 10px 0;\">fardrop.xyz by @greg is 🔥- creates an allowlist for your followers. <br><br>@greg has shipped a fuck ton of stuff now that i think about it.  </div>\n",
       "    <div style=\"text-align: center;\"><img src=\"https://i.imgur.com/JfqOiFm.jpg\" style=\"max-width: 550px; margin-top: 10px;\"></div><p style=\"color: purple; margin: 10px 0 0;\">&#x1F49C; 32 <span style=\"margin-left: 5px; margin-top: 10px;\">&#x1F4AC; 6</span></p></div></div>"
      ],
      "text/plain": [
       "<IPython.core.display.HTML object>"
      ]
     },
     "metadata": {},
     "output_type": "display_data"
    },
    {
     "data": {
      "text/html": [
       "\n",
       "    <div style=\"border: 1px solid #ccc; max-width: 600px; padding: 25px; margin-bottom: 25px;\">\n",
       "        <div style=\"max-width: 550px; margin: 0 auto;\">\n",
       "            <p><strong><a href=\"https://searchcaster.xyz/search?merkleRoot=0x0f95254d20850ab9fd3254ee98f0269eeca033bf\" target=\"_blank\">merkleRoot</a></strong></p>\n",
       "            <p><strong>@vgr · fid 4606</strong></p>\n",
       "            <div style=\"word-wrap: break-word; margin: 10px 0;\">A third kind of digital sociality is emerging that’s neither global public nor cozyweb. Not sure what to call it, but email is the archaic prototypes and if hubs work they’ll be the second example. A bit like Singapore or Korea: web of public underground tunnels. Not friends, but not a Warren-plaza public either.</div>\n",
       "    <p style=\"color: purple; margin: 10px 0 0;\">&#x1F49C; 31 <span style=\"margin-left: 5px; margin-top: 10px;\">&#x1F4AC; 4</span></p></div></div>"
      ],
      "text/plain": [
       "<IPython.core.display.HTML object>"
      ]
     },
     "metadata": {},
     "output_type": "display_data"
    },
    {
     "data": {
      "text/html": [
       "\n",
       "    <div style=\"border: 1px solid #ccc; max-width: 600px; padding: 25px; margin-bottom: 25px;\">\n",
       "        <div style=\"max-width: 550px; margin: 0 auto;\">\n",
       "            <p><strong><a href=\"https://searchcaster.xyz/search?merkleRoot=0xce8d35149d83f4fc710160b2f8d6bfe73a5c2258\" target=\"_blank\">merkleRoot</a></strong></p>\n",
       "            <p><strong>@jc · fid 251</strong></p>\n",
       "            <div style=\"word-wrap: break-word; margin: 10px 0;\">In light of a crazy crypto week, we need to stay optimistic and to keep 🏗️🏗️🏗️, we'll hear about this week from the naysayers for years to come.<br><br>On another note, have a laugh at some technological pessimism since the 1850s (\"the telegraph is dangerous\")! <a href=\"https://pessimistsarchive.org\" target=\"_blank\">https://pessimistsarchive.org</a></div>\n",
       "    <p style=\"color: purple; margin: 10px 0 0;\">&#x1F49C; 31 <span style=\"margin-left: 5px; margin-top: 10px;\">&#x1F4AC; 3</span></p></div></div>"
      ],
      "text/plain": [
       "<IPython.core.display.HTML object>"
      ]
     },
     "metadata": {},
     "output_type": "display_data"
    },
    {
     "data": {
      "text/html": [
       "\n",
       "    <div style=\"border: 1px solid #ccc; max-width: 600px; padding: 25px; margin-bottom: 25px;\">\n",
       "        <div style=\"max-width: 550px; margin: 0 auto;\">\n",
       "            <p><strong><a href=\"https://searchcaster.xyz/search?merkleRoot=0xa2239cf345abfbce6efec9f79daabd0ff512955d\" target=\"_blank\">merkleRoot</a></strong></p>\n",
       "            <p><strong>@briang · fid 548</strong></p>\n",
       "            <div style=\"word-wrap: break-word; margin: 10px 0;\">is farcaster an echo-chamber? yes or no</div>\n",
       "    <p style=\"color: purple; margin: 10px 0 0;\">&#x1F49C; 31 <span style=\"margin-left: 5px; margin-top: 10px;\">&#x1F4AC; 33</span></p></div></div>"
      ],
      "text/plain": [
       "<IPython.core.display.HTML object>"
      ]
     },
     "metadata": {},
     "output_type": "display_data"
    },
    {
     "data": {
      "text/html": [
       "\n",
       "    <div style=\"border: 1px solid #ccc; max-width: 600px; padding: 25px; margin-bottom: 25px;\">\n",
       "        <div style=\"max-width: 550px; margin: 0 auto;\">\n",
       "            <p><strong><a href=\"https://searchcaster.xyz/search?merkleRoot=0xcb9f18e77d426211443a5324920f93e9141cc712\" target=\"_blank\">merkleRoot</a></strong></p>\n",
       "            <p><strong>@briang · fid 548</strong></p>\n",
       "            <div style=\"word-wrap: break-word; margin: 10px 0;\">so much good individual journalism being posted on Twitter — the issue is I don’t know what’s real and what’s completely fake. wish there tools for fact checking individual twitter accounts</div>\n",
       "    <p style=\"color: purple; margin: 10px 0 0;\">&#x1F49C; 31 <span style=\"margin-left: 5px; margin-top: 10px;\">&#x1F4AC; 8</span></p></div></div>"
      ],
      "text/plain": [
       "<IPython.core.display.HTML object>"
      ]
     },
     "metadata": {},
     "output_type": "display_data"
    },
    {
     "data": {
      "text/html": [
       "\n",
       "    <div style=\"border: 1px solid #ccc; max-width: 600px; padding: 25px; margin-bottom: 25px;\">\n",
       "        <div style=\"max-width: 550px; margin: 0 auto;\">\n",
       "            <p><strong><a href=\"https://searchcaster.xyz/search?merkleRoot=0x05ce78f878d2fe14de410903f0db64af604d87fa\" target=\"_blank\">merkleRoot</a></strong></p>\n",
       "            <p><strong>@jenk · fid 3290</strong></p>\n",
       "            <div style=\"word-wrap: break-word; margin: 10px 0;\">Officially a SuperRare artist 💎<br><br>Genesis piece coming soon. </div>\n",
       "    <div style=\"text-align: center;\"><img src=\"https://i.imgur.com/EN7dwkN.jpg\" style=\"max-width: 550px; margin-top: 10px;\"></div><p style=\"color: purple; margin: 10px 0 0;\">&#x1F49C; 31 <span style=\"margin-left: 5px; margin-top: 10px;\">&#x1F4AC; 8</span></p></div></div>"
      ],
      "text/plain": [
       "<IPython.core.display.HTML object>"
      ]
     },
     "metadata": {},
     "output_type": "display_data"
    },
    {
     "data": {
      "text/html": [
       "\n",
       "    <div style=\"border: 1px solid #ccc; max-width: 600px; padding: 25px; margin-bottom: 25px;\">\n",
       "        <div style=\"max-width: 550px; margin: 0 auto;\">\n",
       "            <p><strong><a href=\"https://searchcaster.xyz/search?merkleRoot=0xb06d8572c7110cd73229d2d822340df718c5a340\" target=\"_blank\">merkleRoot</a></strong></p>\n",
       "            <p><strong>@ace · fid 539</strong></p>\n",
       "            <div style=\"word-wrap: break-word; margin: 10px 0;\">🔥 Sharing my startup decks🔥<br><br>These decks closed my rounds in the past w/ Greylock and others.<br><br>* @perl investor list is TBA, but @dwr and @balajis did invest. 💜   <br><br>If you'd like to share your own decks (that closed rounds), reply here to add them.<br><br><a href=\"https://go.perl.xyz/FundraisingDeck\" target=\"_blank\">https://go.perl.xyz/FundraisingDeck</a></div>\n",
       "    <p style=\"color: purple; margin: 10px 0 0;\">&#x1F49C; 31 <span style=\"margin-left: 5px; margin-top: 10px;\">&#x1F4AC; 8</span></p></div></div>"
      ],
      "text/plain": [
       "<IPython.core.display.HTML object>"
      ]
     },
     "metadata": {},
     "output_type": "display_data"
    },
    {
     "data": {
      "text/html": [
       "\n",
       "    <div style=\"border: 1px solid #ccc; max-width: 600px; padding: 25px; margin-bottom: 25px;\">\n",
       "        <div style=\"max-width: 550px; margin: 0 auto;\">\n",
       "            <p><strong><a href=\"https://searchcaster.xyz/search?merkleRoot=0x36a85c605a0e2156e2bfcd2d02818e4bed0d55fe\" target=\"_blank\">merkleRoot</a></strong></p>\n",
       "            <p><strong>@mk · fid 143</strong></p>\n",
       "            <div style=\"word-wrap: break-word; margin: 10px 0;\">gm ☕️ </div>\n",
       "    <div style=\"text-align: center;\"><img src=\"https://i.imgur.com/7jgv4dR.jpg\" style=\"max-width: 550px; margin-top: 10px;\"></div><p style=\"color: purple; margin: 10px 0 0;\">&#x1F49C; 31 <span style=\"margin-left: 5px; margin-top: 10px;\">&#x1F4AC; 2</span></p></div></div>"
      ],
      "text/plain": [
       "<IPython.core.display.HTML object>"
      ]
     },
     "metadata": {},
     "output_type": "display_data"
    },
    {
     "data": {
      "text/html": [
       "\n",
       "    <div style=\"border: 1px solid #ccc; max-width: 600px; padding: 25px; margin-bottom: 25px;\">\n",
       "        <div style=\"max-width: 550px; margin: 0 auto;\">\n",
       "            <p><strong><a href=\"https://searchcaster.xyz/search?merkleRoot=0xd5dffd1721b4118077b29d6f8e9ec181adc36a96\" target=\"_blank\">merkleRoot</a></strong></p>\n",
       "            <p><strong>@briang · fid 548</strong></p>\n",
       "            <div style=\"word-wrap: break-word; margin: 10px 0;\">homemade dumplings for my moms bday! </div>\n",
       "    <div style=\"text-align: center;\"><img src=\"https://i.imgur.com/4IPy821.jpg\" style=\"max-width: 550px; margin-top: 10px;\"></div><p style=\"color: purple; margin: 10px 0 0;\">&#x1F49C; 30 <span style=\"margin-left: 5px; margin-top: 10px;\">&#x1F4AC; 1</span></p></div></div>"
      ],
      "text/plain": [
       "<IPython.core.display.HTML object>"
      ]
     },
     "metadata": {},
     "output_type": "display_data"
    },
    {
     "data": {
      "text/html": [
       "\n",
       "    <div style=\"border: 1px solid #ccc; max-width: 600px; padding: 25px; margin-bottom: 25px;\">\n",
       "        <div style=\"max-width: 550px; margin: 0 auto;\">\n",
       "            <p><strong><a href=\"https://searchcaster.xyz/search?merkleRoot=0x7822aabf31a90c8bab42740e0f3fcd7119a7e51d\" target=\"_blank\">merkleRoot</a></strong></p>\n",
       "            <p><strong>@v · fid 2</strong></p>\n",
       "            <div style=\"word-wrap: break-word; margin: 10px 0;\">Problems with decentralizing the Farcaster follow graph (and a few solutions): <a href=\"https://hackmd.io/@farcasterxyz/HkcscxJ8i\" target=\"_blank\">https://hackmd.io/@farcasterxyz/HkcscxJ8i</a></div>\n",
       "    <p style=\"color: purple; margin: 10px 0 0;\">&#x1F49C; 30 <span style=\"margin-left: 5px; margin-top: 10px;\">&#x1F4AC; 8</span></p></div></div>"
      ],
      "text/plain": [
       "<IPython.core.display.HTML object>"
      ]
     },
     "metadata": {},
     "output_type": "display_data"
    },
    {
     "data": {
      "text/html": [
       "\n",
       "    <div style=\"border: 1px solid #ccc; max-width: 600px; padding: 25px; margin-bottom: 25px;\">\n",
       "        <div style=\"max-width: 550px; margin: 0 auto;\">\n",
       "            <p><strong><a href=\"https://searchcaster.xyz/search?merkleRoot=0x41d9bada7ec197c696101b2a3c408f19bea9412b\" target=\"_blank\">merkleRoot</a></strong></p>\n",
       "            <p><strong>@matthew · fid 473</strong></p>\n",
       "            <div style=\"word-wrap: break-word; margin: 10px 0;\">We're up to eight cities on citycaster.xyz! Thank you to @yanisme for adding Paris to the list. Anyone else casting from 🇫🇷?<br><br>If you don't see your city, feel free to create a group and I'll add it to the site. :)</div>\n",
       "    <p style=\"color: purple; margin: 10px 0 0;\">&#x1F49C; 30 <span style=\"margin-left: 5px; margin-top: 10px;\">&#x1F4AC; 9</span></p></div></div>"
      ],
      "text/plain": [
       "<IPython.core.display.HTML object>"
      ]
     },
     "metadata": {},
     "output_type": "display_data"
    },
    {
     "data": {
      "text/html": [
       "\n",
       "    <div style=\"border: 1px solid #ccc; max-width: 600px; padding: 25px; margin-bottom: 25px;\">\n",
       "        <div style=\"max-width: 550px; margin: 0 auto;\">\n",
       "            <p><strong><a href=\"https://searchcaster.xyz/search?merkleRoot=0x53c7757c466e1ae8346c171b9740c1fa5afdd143\" target=\"_blank\">merkleRoot</a></strong></p>\n",
       "            <p><strong>@deeze · fid 5486</strong></p>\n",
       "            <div style=\"word-wrap: break-word; margin: 10px 0;\">AHHHH I’M CASTINGGGGGGGGG</div>\n",
       "    <p style=\"color: purple; margin: 10px 0 0;\">&#x1F49C; 30 <span style=\"margin-left: 5px; margin-top: 10px;\">&#x1F4AC; 8</span></p></div></div>"
      ],
      "text/plain": [
       "<IPython.core.display.HTML object>"
      ]
     },
     "metadata": {},
     "output_type": "display_data"
    },
    {
     "data": {
      "text/html": [
       "\n",
       "    <div style=\"border: 1px solid #ccc; max-width: 600px; padding: 25px; margin-bottom: 25px;\">\n",
       "        <div style=\"max-width: 550px; margin: 0 auto;\">\n",
       "            <p><strong><a href=\"https://searchcaster.xyz/search?merkleRoot=0xaf419d176a35682e81dca1d69f60a51ff638bfbe\" target=\"_blank\">merkleRoot</a></strong></p>\n",
       "            <p><strong>@whatrocks · fid 224</strong></p>\n",
       "            <div style=\"word-wrap: break-word; margin: 10px 0;\">Apple Watch fitness rings but for ebook progress and it’s SOCIAL</div>\n",
       "    <p style=\"color: purple; margin: 10px 0 0;\">&#x1F49C; 30 <span style=\"margin-left: 5px; margin-top: 10px;\">&#x1F4AC; 6</span></p></div></div>"
      ],
      "text/plain": [
       "<IPython.core.display.HTML object>"
      ]
     },
     "metadata": {},
     "output_type": "display_data"
    },
    {
     "data": {
      "text/html": [
       "\n",
       "    <div style=\"border: 1px solid #ccc; max-width: 600px; padding: 25px; margin-bottom: 25px;\">\n",
       "        <div style=\"max-width: 550px; margin: 0 auto;\">\n",
       "            <p><strong><a href=\"https://searchcaster.xyz/search?merkleRoot=0x9cac9921a3260dee7f80feda2f82c489cf536a2b\" target=\"_blank\">merkleRoot</a></strong></p>\n",
       "            <p><strong>@july · fid 1287</strong></p>\n",
       "            <div style=\"word-wrap: break-word; margin: 10px 0;\">My Favorite pianists that play Rachmaninoff's Piano Concerto No.3:<br><br>- Vladimir Horowitz<br>- Vladimir Askenazy<br>- Evgeny Kissin<br>- Martha Argerich<br>- Lang Lang<br>- Arthur Rubenstein<br><br># of times I've listened to it in my life: Kissin and Askenazy are top <br><br>But Horowitz is Horowitz<br><br><a href=\"https://www.youtube.com/watch?v=3ZY_mKSgpeI\" target=\"_blank\">https://www.youtube.com/watch?v=3ZY_mKSgpeI</a></div>\n",
       "    <p style=\"color: purple; margin: 10px 0 0;\">&#x1F49C; 30 <span style=\"margin-left: 5px; margin-top: 10px;\">&#x1F4AC; 9</span></p></div></div>"
      ],
      "text/plain": [
       "<IPython.core.display.HTML object>"
      ]
     },
     "metadata": {},
     "output_type": "display_data"
    },
    {
     "data": {
      "text/html": [
       "\n",
       "    <div style=\"border: 1px solid #ccc; max-width: 600px; padding: 25px; margin-bottom: 25px;\">\n",
       "        <div style=\"max-width: 550px; margin: 0 auto;\">\n",
       "            <p><strong><a href=\"https://searchcaster.xyz/search?merkleRoot=0x3869e688026ce50f100ad37cedb2ae08b7f3663e\" target=\"_blank\">merkleRoot</a></strong></p>\n",
       "            <p><strong>@pushix · fid 359</strong></p>\n",
       "            <div style=\"word-wrap: break-word; margin: 10px 0;\">Banksy is at work in Ukraine. Powerful stuff </div>\n",
       "    <div style=\"text-align: center;\"><img src=\"https://i.imgur.com/rmed5dM.jpg\" style=\"max-width: 550px; margin-top: 10px;\"></div><p style=\"color: purple; margin: 10px 0 0;\">&#x1F49C; 29 <span style=\"margin-left: 5px; margin-top: 10px;\">&#x1F4AC; 3</span></p></div></div>"
      ],
      "text/plain": [
       "<IPython.core.display.HTML object>"
      ]
     },
     "metadata": {},
     "output_type": "display_data"
    },
    {
     "data": {
      "text/html": [
       "\n",
       "    <div style=\"border: 1px solid #ccc; max-width: 600px; padding: 25px; margin-bottom: 25px;\">\n",
       "        <div style=\"max-width: 550px; margin: 0 auto;\">\n",
       "            <p><strong><a href=\"https://searchcaster.xyz/search?merkleRoot=0x53183442356bdb46e9d26757a9d77ebc51e0cdc9\" target=\"_blank\">merkleRoot</a></strong></p>\n",
       "            <p><strong>@fredwilson · fid 169</strong></p>\n",
       "            <div style=\"word-wrap: break-word; margin: 10px 0;\">Hi Farcasters. I found this fun track on SoundCloud this morning <a href=\"https://soundcloud.com/silencenogood/omgkirby-channel-tres-2081\" target=\"_blank\">https://soundcloud.com/silencenogood/omgkirby-channel-tres-2081</a>   But it is also an NFT that you can buy on OpenSea so I made an offer on it and hope it ends up in my wallet soon.</div>\n",
       "    <p style=\"color: purple; margin: 10px 0 0;\">&#x1F49C; 29 <span style=\"margin-left: 5px; margin-top: 10px;\">&#x1F4AC; 4</span></p></div></div>"
      ],
      "text/plain": [
       "<IPython.core.display.HTML object>"
      ]
     },
     "metadata": {},
     "output_type": "display_data"
    },
    {
     "data": {
      "text/html": [
       "\n",
       "    <div style=\"border: 1px solid #ccc; max-width: 600px; padding: 25px; margin-bottom: 25px;\">\n",
       "        <div style=\"max-width: 550px; margin: 0 auto;\">\n",
       "            <p><strong><a href=\"https://searchcaster.xyz/search?merkleRoot=0xd54529fbda966d9c407b669ac23797e6b9aeb63e\" target=\"_blank\">merkleRoot</a></strong></p>\n",
       "            <p><strong>@ace · fid 539</strong></p>\n",
       "            <div style=\"word-wrap: break-word; margin: 10px 0;\">If you diggg @cdixon 's thoughts on web3/future, I've compiled his best threads from mirror. xyz<br><br><a href=\"https://go.perl.xyz/cdixon\" target=\"_blank\">https://go.perl.xyz/cdixon</a><br>Reply @perl to save the series</div>\n",
       "    <p style=\"color: purple; margin: 10px 0 0;\">&#x1F49C; 29 <span style=\"margin-left: 5px; margin-top: 10px;\">&#x1F4AC; 7</span></p></div></div>"
      ],
      "text/plain": [
       "<IPython.core.display.HTML object>"
      ]
     },
     "metadata": {},
     "output_type": "display_data"
    },
    {
     "data": {
      "text/html": [
       "\n",
       "    <div style=\"border: 1px solid #ccc; max-width: 600px; padding: 25px; margin-bottom: 25px;\">\n",
       "        <div style=\"max-width: 550px; margin: 0 auto;\">\n",
       "            <p><strong><a href=\"https://searchcaster.xyz/search?merkleRoot=0x316b11b2cb6a93f7782c84120f0330b001a1eb49\" target=\"_blank\">merkleRoot</a></strong></p>\n",
       "            <p><strong>@alexanderchopan · fid 880</strong></p>\n",
       "            <div style=\"word-wrap: break-word; margin: 10px 0;\">Yes or no <br><br>mobile wallets with in-wallet browsers will have more users than wallets that do not</div>\n",
       "    <p style=\"color: purple; margin: 10px 0 0;\">&#x1F49C; 29 <span style=\"margin-left: 5px; margin-top: 10px;\">&#x1F4AC; 20</span></p></div></div>"
      ],
      "text/plain": [
       "<IPython.core.display.HTML object>"
      ]
     },
     "metadata": {},
     "output_type": "display_data"
    },
    {
     "data": {
      "text/html": [
       "\n",
       "    <div style=\"border: 1px solid #ccc; max-width: 600px; padding: 25px; margin-bottom: 25px;\">\n",
       "        <div style=\"max-width: 550px; margin: 0 auto;\">\n",
       "            <p><strong><a href=\"https://searchcaster.xyz/search?merkleRoot=0x07449fb261c552002496e661ac84b8cad5aa2dbc\" target=\"_blank\">merkleRoot</a></strong></p>\n",
       "            <p><strong>@vgr · fid 4606</strong></p>\n",
       "            <div style=\"word-wrap: break-word; margin: 10px 0;\">Twitter is starting to feel dead</div>\n",
       "    <p style=\"color: purple; margin: 10px 0 0;\">&#x1F49C; 28 <span style=\"margin-left: 5px; margin-top: 10px;\">&#x1F4AC; 8</span></p></div></div>"
      ],
      "text/plain": [
       "<IPython.core.display.HTML object>"
      ]
     },
     "metadata": {},
     "output_type": "display_data"
    },
    {
     "data": {
      "text/html": [
       "\n",
       "    <div style=\"border: 1px solid #ccc; max-width: 600px; padding: 25px; margin-bottom: 25px;\">\n",
       "        <div style=\"max-width: 550px; margin: 0 auto;\">\n",
       "            <p><strong><a href=\"https://searchcaster.xyz/search?merkleRoot=0xf7d93f7b4d6a202fbdbd0f77923f0941b8b92e17\" target=\"_blank\">merkleRoot</a></strong></p>\n",
       "            <p><strong>@ccarella · fid 472</strong></p>\n",
       "            <div style=\"word-wrap: break-word; margin: 10px 0;\">My next NFT drop will be silent and you’ll only find out about it through @daylight</div>\n",
       "    <p style=\"color: purple; margin: 10px 0 0;\">&#x1F49C; 28 <span style=\"margin-left: 5px; margin-top: 10px;\">&#x1F4AC; 2</span></p></div></div>"
      ],
      "text/plain": [
       "<IPython.core.display.HTML object>"
      ]
     },
     "metadata": {},
     "output_type": "display_data"
    },
    {
     "data": {
      "text/html": [
       "\n",
       "    <div style=\"border: 1px solid #ccc; max-width: 600px; padding: 25px; margin-bottom: 25px;\">\n",
       "        <div style=\"max-width: 550px; margin: 0 auto;\">\n",
       "            <p><strong><a href=\"https://searchcaster.xyz/search?merkleRoot=0x641f8103bbdc48acae4bc13ace916cdcd55754b8\" target=\"_blank\">merkleRoot</a></strong></p>\n",
       "            <p><strong>@0xen · fid 528</strong></p>\n",
       "            <div style=\"word-wrap: break-word; margin: 10px 0;\">Ornament #29 - out now, open for a few days. <br><br> .01 ETH <br><br>🌊 🌊🌊<br><br><a href=\"https://app.manifold.xyz/c/ornament29\" target=\"_blank\">https://app.manifold.xyz/c/ornament29</a></div>\n",
       "    <p style=\"color: purple; margin: 10px 0 0;\">&#x1F49C; 28 <span style=\"margin-left: 5px; margin-top: 10px;\">&#x1F4AC; 3</span></p></div></div>"
      ],
      "text/plain": [
       "<IPython.core.display.HTML object>"
      ]
     },
     "metadata": {},
     "output_type": "display_data"
    },
    {
     "data": {
      "text/html": [
       "\n",
       "    <div style=\"border: 1px solid #ccc; max-width: 600px; padding: 25px; margin-bottom: 25px;\">\n",
       "        <div style=\"max-width: 550px; margin: 0 auto;\">\n",
       "            <p><strong><a href=\"https://searchcaster.xyz/search?merkleRoot=0x29b7d89e0461318975679217bb8265c71c9bda01\" target=\"_blank\">merkleRoot</a></strong></p>\n",
       "            <p><strong>@jayme · fid 373</strong></p>\n",
       "            <div style=\"word-wrap: break-word; margin: 10px 0;\">Recession-Proof<br><br>A lot of great products are built in recessions. The tough times force clarity and a sense of purpose. People are in pain and want to have fun, make money, and both, if possible. Some inspiration ... </div>\n",
       "    <div style=\"text-align: center;\"><img src=\"https://i.imgur.com/VpZCbG8.png\" style=\"max-width: 550px; margin-top: 10px;\"></div><p style=\"color: purple; margin: 10px 0 0;\">&#x1F49C; 28 <span style=\"margin-left: 5px; margin-top: 10px;\">&#x1F4AC; 9</span></p></div></div>"
      ],
      "text/plain": [
       "<IPython.core.display.HTML object>"
      ]
     },
     "metadata": {},
     "output_type": "display_data"
    },
    {
     "data": {
      "text/html": [
       "\n",
       "    <div style=\"border: 1px solid #ccc; max-width: 600px; padding: 25px; margin-bottom: 25px;\">\n",
       "        <div style=\"max-width: 550px; margin: 0 auto;\">\n",
       "            <p><strong><a href=\"https://searchcaster.xyz/search?merkleRoot=0x5da8fb37c85e80feb46559d26515df0b1315a432\" target=\"_blank\">merkleRoot</a></strong></p>\n",
       "            <p><strong>@amitmukherjee · fid 540</strong></p>\n",
       "            <div style=\"word-wrap: break-word; margin: 10px 0;\">Just blocked off the last two weeks of the year. This has been an incredibly intense year (launch of Chainforest, bought a new home, had my first baby, Terra + FTX crypto insanity), and it's time to take a step back, reflect, get into integrity, and get prepared for a kickass 2023.</div>\n",
       "    <p style=\"color: purple; margin: 10px 0 0;\">&#x1F49C; 27 <span style=\"margin-left: 5px; margin-top: 10px;\">&#x1F4AC; 3</span></p></div></div>"
      ],
      "text/plain": [
       "<IPython.core.display.HTML object>"
      ]
     },
     "metadata": {},
     "output_type": "display_data"
    },
    {
     "data": {
      "text/html": [
       "\n",
       "    <div style=\"border: 1px solid #ccc; max-width: 600px; padding: 25px; margin-bottom: 25px;\">\n",
       "        <div style=\"max-width: 550px; margin: 0 auto;\">\n",
       "            <p><strong><a href=\"https://searchcaster.xyz/search?merkleRoot=0xfdd7513290bfb900f0c1abdf015bea87085be3a1\" target=\"_blank\">merkleRoot</a></strong></p>\n",
       "            <p><strong>@emodi · fid 604</strong></p>\n",
       "            <div style=\"word-wrap: break-word; margin: 10px 0;\">Saw this on the bird app earlier but trust this community for the facts:<br><br>What’s better at this point, Apple Maps or Google Maps?</div>\n",
       "    <p style=\"color: purple; margin: 10px 0 0;\">&#x1F49C; 27 <span style=\"margin-left: 5px; margin-top: 10px;\">&#x1F4AC; 35</span></p></div></div>"
      ],
      "text/plain": [
       "<IPython.core.display.HTML object>"
      ]
     },
     "metadata": {},
     "output_type": "display_data"
    },
    {
     "data": {
      "text/html": [
       "\n",
       "    <div style=\"border: 1px solid #ccc; max-width: 600px; padding: 25px; margin-bottom: 25px;\">\n",
       "        <div style=\"max-width: 550px; margin: 0 auto;\">\n",
       "            <p><strong><a href=\"https://searchcaster.xyz/search?merkleRoot=0xd0cbd868235d2341123bbbbc0aa90d92ad7bbcff\" target=\"_blank\">merkleRoot</a></strong></p>\n",
       "            <p><strong>@nyx · fid 217</strong></p>\n",
       "            <div style=\"word-wrap: break-word; margin: 10px 0;\">I’m in marfa this week for the artblocks annual open house — if you are also in town let me knooow </div>\n",
       "    <div style=\"text-align: center;\"><img src=\"https://i.imgur.com/446NjiU.jpg\" style=\"max-width: 550px; margin-top: 10px;\"></div><p style=\"color: purple; margin: 10px 0 0;\">&#x1F49C; 27 <span style=\"margin-left: 5px; margin-top: 10px;\">&#x1F4AC; 3</span></p></div></div>"
      ],
      "text/plain": [
       "<IPython.core.display.HTML object>"
      ]
     },
     "metadata": {},
     "output_type": "display_data"
    },
    {
     "data": {
      "text/html": [
       "\n",
       "    <div style=\"border: 1px solid #ccc; max-width: 600px; padding: 25px; margin-bottom: 25px;\">\n",
       "        <div style=\"max-width: 550px; margin: 0 auto;\">\n",
       "            <p><strong><a href=\"https://searchcaster.xyz/search?merkleRoot=0xcf8db96eb3fc6147054f05a735c528d92ff0b05d\" target=\"_blank\">merkleRoot</a></strong></p>\n",
       "            <p><strong>@rafa · fid 2458</strong></p>\n",
       "            <div style=\"word-wrap: break-word; margin: 10px 0;\">Ok, so Mirror has been working on some cool new functionality and it’s awesome to see how @levy and Spencer Noon are using it.<br><br>Check below for some token-gated access to some cool value, and a sneak peak to what Mirror is working on:</div>\n",
       "    <p style=\"color: purple; margin: 10px 0 0;\">&#x1F49C; 27 <span style=\"margin-left: 5px; margin-top: 10px;\">&#x1F4AC; 5</span></p></div></div>"
      ],
      "text/plain": [
       "<IPython.core.display.HTML object>"
      ]
     },
     "metadata": {},
     "output_type": "display_data"
    },
    {
     "data": {
      "text/html": [
       "\n",
       "    <div style=\"border: 1px solid #ccc; max-width: 600px; padding: 25px; margin-bottom: 25px;\">\n",
       "        <div style=\"max-width: 550px; margin: 0 auto;\">\n",
       "            <p><strong><a href=\"https://searchcaster.xyz/search?merkleRoot=0xdfe74c85a34e408bd3fc81f73869e707b94d18c5\" target=\"_blank\">merkleRoot</a></strong></p>\n",
       "            <p><strong>@daylight · fid 1258</strong></p>\n",
       "            <div style=\"word-wrap: break-word; margin: 10px 0;\">Excited to announce that Daylight is out of closed beta - our web app is free and now available to anyone with an Ethereum address!<br><br>Your wallet has special abilities you don't know about, and Daylight uncovers them for you: mints, airdrops, unlocks, votes, etc. Link in thread--></div>\n",
       "    <p style=\"color: purple; margin: 10px 0 0;\">&#x1F49C; 27 <span style=\"margin-left: 5px; margin-top: 10px;\">&#x1F4AC; 1</span></p></div></div>"
      ],
      "text/plain": [
       "<IPython.core.display.HTML object>"
      ]
     },
     "metadata": {},
     "output_type": "display_data"
    },
    {
     "data": {
      "text/html": [
       "\n",
       "    <div style=\"border: 1px solid #ccc; max-width: 600px; padding: 25px; margin-bottom: 25px;\">\n",
       "        <div style=\"max-width: 550px; margin: 0 auto;\">\n",
       "            <p><strong><a href=\"https://searchcaster.xyz/search?merkleRoot=0x4d5bf41bdd11ec9e2eb370da447f0f77a559055f\" target=\"_blank\">merkleRoot</a></strong></p>\n",
       "            <p><strong>@dwr · fid 3</strong></p>\n",
       "            <div style=\"word-wrap: break-word; margin: 10px 0;\">I don’t live in either place, but for tech, seems like SF is back and Miami was a COVID mirage.<br><br>NY benefitted the most from young people moving there, but TBD on results. LA on a smaller scale.<br><br>Who’s Austin?</div>\n",
       "    <p style=\"color: purple; margin: 10px 0 0;\">&#x1F49C; 27 <span style=\"margin-left: 5px; margin-top: 10px;\">&#x1F4AC; 11</span></p></div></div>"
      ],
      "text/plain": [
       "<IPython.core.display.HTML object>"
      ]
     },
     "metadata": {},
     "output_type": "display_data"
    },
    {
     "data": {
      "text/html": [
       "\n",
       "    <div style=\"border: 1px solid #ccc; max-width: 600px; padding: 25px; margin-bottom: 25px;\">\n",
       "        <div style=\"max-width: 550px; margin: 0 auto;\">\n",
       "            <p><strong><a href=\"https://searchcaster.xyz/search?merkleRoot=0xfcb48da7a7623a6537123d339dc96505ac29798d\" target=\"_blank\">merkleRoot</a></strong></p>\n",
       "            <p><strong>@greg · fid 347</strong></p>\n",
       "            <div style=\"word-wrap: break-word; margin: 10px 0;\">gm, just got film pics back from recent travels </div>\n",
       "    <div style=\"text-align: center;\"><img src=\"https://i.imgur.com/tZkhDiL.jpg\" style=\"max-width: 550px; margin-top: 10px;\"></div><p style=\"color: purple; margin: 10px 0 0;\">&#x1F49C; 27 <span style=\"margin-left: 5px; margin-top: 10px;\">&#x1F4AC; 5</span></p></div></div>"
      ],
      "text/plain": [
       "<IPython.core.display.HTML object>"
      ]
     },
     "metadata": {},
     "output_type": "display_data"
    },
    {
     "data": {
      "text/html": [
       "\n",
       "    <div style=\"border: 1px solid #ccc; max-width: 600px; padding: 25px; margin-bottom: 25px;\">\n",
       "        <div style=\"max-width: 550px; margin: 0 auto;\">\n",
       "            <p><strong><a href=\"https://searchcaster.xyz/search?merkleRoot=0xd6e545a36d6e8979d02ab7b4d0195207b870d319\" target=\"_blank\">merkleRoot</a></strong></p>\n",
       "            <p><strong>@jacob · fid 8</strong></p>\n",
       "            <div style=\"word-wrap: break-word; margin: 10px 0;\">There is now a site that aggregates all Nouns DAO auctions. <br><br>Aggregated secondary markets should show up soon too. <br><br><a href=\"https://noun.market/\" target=\"_blank\">https://noun.market/</a> </div>\n",
       "    <div style=\"text-align: center;\"><img src=\"https://i.imgur.com/8udk9kN.jpg\" style=\"max-width: 550px; margin-top: 10px;\"></div><p style=\"color: purple; margin: 10px 0 0;\">&#x1F49C; 27 <span style=\"margin-left: 5px; margin-top: 10px;\">&#x1F4AC; 0</span></p></div></div>"
      ],
      "text/plain": [
       "<IPython.core.display.HTML object>"
      ]
     },
     "metadata": {},
     "output_type": "display_data"
    },
    {
     "data": {
      "text/html": [
       "\n",
       "    <div style=\"border: 1px solid #ccc; max-width: 600px; padding: 25px; margin-bottom: 25px;\">\n",
       "        <div style=\"max-width: 550px; margin: 0 auto;\">\n",
       "            <p><strong><a href=\"https://searchcaster.xyz/search?merkleRoot=0x519e2baa23bdd325ccec3336bc618498641ea26e\" target=\"_blank\">merkleRoot</a></strong></p>\n",
       "            <p><strong>@nikitakoshi · fid 5184</strong></p>\n",
       "            <div style=\"word-wrap: break-word; margin: 10px 0;\">Farcaster redesigned </div>\n",
       "    <div style=\"text-align: center;\"><img src=\"https://i.imgur.com/tXUeQEP.jpg\" style=\"max-width: 550px; margin-top: 10px;\"></div><p style=\"color: purple; margin: 10px 0 0;\">&#x1F49C; 27 <span style=\"margin-left: 5px; margin-top: 10px;\">&#x1F4AC; 2</span></p></div></div>"
      ],
      "text/plain": [
       "<IPython.core.display.HTML object>"
      ]
     },
     "metadata": {},
     "output_type": "display_data"
    },
    {
     "data": {
      "text/html": [
       "\n",
       "    <div style=\"border: 1px solid #ccc; max-width: 600px; padding: 25px; margin-bottom: 25px;\">\n",
       "        <div style=\"max-width: 550px; margin: 0 auto;\">\n",
       "            <p><strong><a href=\"https://searchcaster.xyz/search?merkleRoot=0x4cf875f0524332de2d4e056aa9b7323753170170\" target=\"_blank\">merkleRoot</a></strong></p>\n",
       "            <p><strong>@sam · fid 39</strong></p>\n",
       "            <div style=\"word-wrap: break-word; margin: 10px 0;\">If writing is thinking, AI-assisted writing should help you think, not write the damn thing for you. As such the current solutions I’m seeing, including Notion, fall short.</div>\n",
       "    <p style=\"color: purple; margin: 10px 0 0;\">&#x1F49C; 26 <span style=\"margin-left: 5px; margin-top: 10px;\">&#x1F4AC; 7</span></p></div></div>"
      ],
      "text/plain": [
       "<IPython.core.display.HTML object>"
      ]
     },
     "metadata": {},
     "output_type": "display_data"
    },
    {
     "data": {
      "text/html": [
       "\n",
       "    <div style=\"border: 1px solid #ccc; max-width: 600px; padding: 25px; margin-bottom: 25px;\">\n",
       "        <div style=\"max-width: 550px; margin: 0 auto;\">\n",
       "            <p><strong><a href=\"https://searchcaster.xyz/search?merkleRoot=0x8269417d7a58b0a7ecdcdd510966c4328b11d343\" target=\"_blank\">merkleRoot</a></strong></p>\n",
       "            <p><strong>@colin · fid 378</strong></p>\n",
       "            <div style=\"word-wrap: break-word; margin: 10px 0;\">I’ve been using my iPad all morning as a MacBook replacement, and I am absolutely struggling.<br><br>Slow responsiveness, finicky window positioning, apps keep getting killed due to memory 😔 feels like my productivity is cut in half</div>\n",
       "    <p style=\"color: purple; margin: 10px 0 0;\">&#x1F49C; 26 <span style=\"margin-left: 5px; margin-top: 10px;\">&#x1F4AC; 8</span></p></div></div>"
      ],
      "text/plain": [
       "<IPython.core.display.HTML object>"
      ]
     },
     "metadata": {},
     "output_type": "display_data"
    },
    {
     "data": {
      "text/html": [
       "\n",
       "    <div style=\"border: 1px solid #ccc; max-width: 600px; padding: 25px; margin-bottom: 25px;\">\n",
       "        <div style=\"max-width: 550px; margin: 0 auto;\">\n",
       "            <p><strong><a href=\"https://searchcaster.xyz/search?merkleRoot=0x5940b474cb7178881ce718b5ed1c965dbd7934e5\" target=\"_blank\">merkleRoot</a></strong></p>\n",
       "            <p><strong>@tim · fid 207</strong></p>\n",
       "            <div style=\"word-wrap: break-word; margin: 10px 0;\">at the risk of being shadowbanned on FC, this might be wildest piece of mainstream journalism I've ever seen... and of course it's about SBF <a href=\"https://www.vox.com/future-perfect/23462333/sam-bankman-fried-ftx-cryptocurrency-effective-altruism-crypto-bahamas-philanthropy\" target=\"_blank\">https://www.vox.com/future-perfect/23462333/sam-bankman-fried-ftx-cryptocurrency-effective-altruism-crypto-bahamas-philanthropy</a></div>\n",
       "    <p style=\"color: purple; margin: 10px 0 0;\">&#x1F49C; 26 <span style=\"margin-left: 5px; margin-top: 10px;\">&#x1F4AC; 13</span></p></div></div>"
      ],
      "text/plain": [
       "<IPython.core.display.HTML object>"
      ]
     },
     "metadata": {},
     "output_type": "display_data"
    },
    {
     "data": {
      "text/html": [
       "\n",
       "    <div style=\"border: 1px solid #ccc; max-width: 600px; padding: 25px; margin-bottom: 25px;\">\n",
       "        <div style=\"max-width: 550px; margin: 0 auto;\">\n",
       "            <p><strong><a href=\"https://searchcaster.xyz/search?merkleRoot=0x2a455421bbd8d8c6f3ebe3cca8b46dbe044c2715\" target=\"_blank\">merkleRoot</a></strong></p>\n",
       "            <p><strong>@kn · fid 258</strong></p>\n",
       "            <div style=\"word-wrap: break-word; margin: 10px 0;\">gm ♨️ </div>\n",
       "    <div style=\"text-align: center;\"><img src=\"https://i.imgur.com/KY7sCNE.jpg\" style=\"max-width: 550px; margin-top: 10px;\"></div><p style=\"color: purple; margin: 10px 0 0;\">&#x1F49C; 26 <span style=\"margin-left: 5px; margin-top: 10px;\">&#x1F4AC; 1</span></p></div></div>"
      ],
      "text/plain": [
       "<IPython.core.display.HTML object>"
      ]
     },
     "metadata": {},
     "output_type": "display_data"
    },
    {
     "data": {
      "text/html": [
       "\n",
       "    <div style=\"border: 1px solid #ccc; max-width: 600px; padding: 25px; margin-bottom: 25px;\">\n",
       "        <div style=\"max-width: 550px; margin: 0 auto;\">\n",
       "            <p><strong><a href=\"https://searchcaster.xyz/search?merkleRoot=0xbab68a5e986c23a771ce67030f082074f0fb792d\" target=\"_blank\">merkleRoot</a></strong></p>\n",
       "            <p><strong>@stelo · fid 3185</strong></p>\n",
       "            <div style=\"word-wrap: break-word; margin: 10px 0;\">Dropping some fc alpha before it hits the blue app.<br><br>If you've ever used a Safe (formerly Gnosis Safe) before you know how confusing signing transactions is.<br><br>Stelo now supports transaction simulation + risk analysis from the perspective of the Safe. <br><br>Your wallet vs. Stelo. </div>\n",
       "    <div style=\"text-align: center;\"><img src=\"https://i.imgur.com/QRlTBM4.jpg\" style=\"max-width: 550px; margin-top: 10px;\"></div><p style=\"color: purple; margin: 10px 0 0;\">&#x1F49C; 26 <span style=\"margin-left: 5px; margin-top: 10px;\">&#x1F4AC; 5</span></p></div></div>"
      ],
      "text/plain": [
       "<IPython.core.display.HTML object>"
      ]
     },
     "metadata": {},
     "output_type": "display_data"
    },
    {
     "data": {
      "text/html": [
       "\n",
       "    <div style=\"border: 1px solid #ccc; max-width: 600px; padding: 25px; margin-bottom: 25px;\">\n",
       "        <div style=\"max-width: 550px; margin: 0 auto;\">\n",
       "            <p><strong><a href=\"https://searchcaster.xyz/search?merkleRoot=0xa25eafa71ee76b352e86e22308d5a9bf06f16e67\" target=\"_blank\">merkleRoot</a></strong></p>\n",
       "            <p><strong>@tim · fid 207</strong></p>\n",
       "            <div style=\"word-wrap: break-word; margin: 10px 0;\">From the outside, this culturally feels like EA’s “TheDAO moment”. <br><br>We’re a few days after the “I think TheDAO is getting drained” Reddit post, past “can you guys stop trading”, but not quite at a fork announcement or ETC.</div>\n",
       "    <p style=\"color: purple; margin: 10px 0 0;\">&#x1F49C; 26 <span style=\"margin-left: 5px; margin-top: 10px;\">&#x1F4AC; 5</span></p></div></div>"
      ],
      "text/plain": [
       "<IPython.core.display.HTML object>"
      ]
     },
     "metadata": {},
     "output_type": "display_data"
    },
    {
     "data": {
      "text/html": [
       "\n",
       "    <div style=\"border: 1px solid #ccc; max-width: 600px; padding: 25px; margin-bottom: 25px;\">\n",
       "        <div style=\"max-width: 550px; margin: 0 auto;\">\n",
       "            <p><strong><a href=\"https://searchcaster.xyz/search?merkleRoot=0x75139fcc79b4cf5a0c373acbede1efa43f0f483a\" target=\"_blank\">merkleRoot</a></strong></p>\n",
       "            <p><strong>@ace · fid 539</strong></p>\n",
       "            <div style=\"word-wrap: break-word; margin: 10px 0;\">Unlike the corrupt crypto orgy hosted by FTX, AI is making real, practical progress.<br><br>🔎 Search from your twitter people<br>💰 No code + gpt3 app acquired within 48d<br>🔥 Search surpassing Google<br>🎨 GPT3 <> Figma<br><br><a href=\"https://go.perl.xyz/gpt3?test=2\" target=\"_blank\">https://go.perl.xyz/gpt3?test=2</a></div>\n",
       "    <p style=\"color: purple; margin: 10px 0 0;\">&#x1F49C; 26 <span style=\"margin-left: 5px; margin-top: 10px;\">&#x1F4AC; 5</span></p></div></div>"
      ],
      "text/plain": [
       "<IPython.core.display.HTML object>"
      ]
     },
     "metadata": {},
     "output_type": "display_data"
    },
    {
     "data": {
      "text/html": [
       "\n",
       "    <div style=\"border: 1px solid #ccc; max-width: 600px; padding: 25px; margin-bottom: 25px;\">\n",
       "        <div style=\"max-width: 550px; margin: 0 auto;\">\n",
       "            <p><strong><a href=\"https://searchcaster.xyz/search?merkleRoot=0xbb6134a73399c9bab1b858a10a0ad2bf9e76ea5f\" target=\"_blank\">merkleRoot</a></strong></p>\n",
       "            <p><strong>@v · fid 2</strong></p>\n",
       "            <div style=\"word-wrap: break-word; margin: 10px 0;\">cryptographers will name their algorithms things like \"plonks\", \"babyjubjub\" and \"chacha\", say them with a straight face, and expect us to take them seriously</div>\n",
       "    <p style=\"color: purple; margin: 10px 0 0;\">&#x1F49C; 26 <span style=\"margin-left: 5px; margin-top: 10px;\">&#x1F4AC; 5</span></p></div></div>"
      ],
      "text/plain": [
       "<IPython.core.display.HTML object>"
      ]
     },
     "metadata": {},
     "output_type": "display_data"
    },
    {
     "data": {
      "text/html": [
       "\n",
       "    <div style=\"border: 1px solid #ccc; max-width: 600px; padding: 25px; margin-bottom: 25px;\">\n",
       "        <div style=\"max-width: 550px; margin: 0 auto;\">\n",
       "            <p><strong><a href=\"https://searchcaster.xyz/search?merkleRoot=0x6b774c68610813de6d8d2b260ad37a6b26e81b67\" target=\"_blank\">merkleRoot</a></strong></p>\n",
       "            <p><strong>@meesh · fid 847</strong></p>\n",
       "            <div style=\"word-wrap: break-word; margin: 10px 0;\">ga my friends! Felt very odd not casting a million times a day, but just got back from vacation with @jayce (celebrating our anniversary in Sayulita) 🌊<br><br>We ate a lot of seafood and almost got matching tattoos. Does anyone have interesting couples tattoo ideas? (Yes, we’re that cheesy) </div>\n",
       "    <div style=\"text-align: center;\"><img src=\"https://i.imgur.com/Xxdf91q.jpg\" style=\"max-width: 550px; margin-top: 10px;\"></div><p style=\"color: purple; margin: 10px 0 0;\">&#x1F49C; 25 <span style=\"margin-left: 5px; margin-top: 10px;\">&#x1F4AC; 6</span></p></div></div>"
      ],
      "text/plain": [
       "<IPython.core.display.HTML object>"
      ]
     },
     "metadata": {},
     "output_type": "display_data"
    }
   ],
   "source": [
    "# TWLY: This Week Last Year - November 12 - November 18, 2022\n",
    "# Compiled using Farcaster-Indexer & Searchcaster \n",
    "\n",
    "https://github.com/gskril/farcaster-indexer\n",
    "https://searchcaster.xyz"
   ]
  }
 ],
 "metadata": {
  "kernelspec": {
   "display_name": "Python 3 (ipykernel)",
   "language": "python",
   "name": "python3"
  },
  "language_info": {
   "codemirror_mode": {
    "name": "ipython",
    "version": 3
   },
   "file_extension": ".py",
   "mimetype": "text/x-python",
   "name": "python",
   "nbconvert_exporter": "python",
   "pygments_lexer": "ipython3",
   "version": "3.9.13"
  }
 },
 "nbformat": 4,
 "nbformat_minor": 5
}
