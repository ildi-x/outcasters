{
 "cells": [
  {
   "cell_type": "markdown",
   "id": "784b1f6d",
   "metadata": {},
   "source": [
    "## OUTCASTERS SNAPSHOT 004"
   ]
  },
  {
   "cell_type": "markdown",
   "id": "398ad3ad",
   "metadata": {},
   "source": [
    "https://outcasters.xyz "
   ]
  },
  {
   "cell_type": "code",
   "execution_count": 1,
   "id": "7211bb91",
   "metadata": {
    "scrolled": false
   },
   "outputs": [
    {
     "data": {
      "text/html": [
       "\n",
       "    <div style=\"max-width: 600px; margin-bottom: 25px;\">\n",
       "        <h2 style=\"margin-bottom: 15px;\">Total Casts</h2>\n",
       "        <p style=\"font-size: 18x; margin: 5px 0 5px;\">Including Replies: 3437</p>\n",
       "        <p style=\"font-size: 18x; margin: 5px 0;\">Excluding Replies: 1072</p>\n",
       "    </div>\n"
      ],
      "text/plain": [
       "<IPython.core.display.HTML object>"
      ]
     },
     "metadata": {},
     "output_type": "display_data"
    },
    {
     "data": {
      "text/html": [
       "<h2>Top 30 Most Active Users (Excluding Replies)</h2>"
      ],
      "text/plain": [
       "<IPython.core.display.HTML object>"
      ]
     },
     "metadata": {},
     "output_type": "display_data"
    },
    {
     "data": {
      "text/html": [
       "<p>Only original casts are considered for this calculation. Replies are excluded.</p>"
      ],
      "text/plain": [
       "<IPython.core.display.HTML object>"
      ]
     },
     "metadata": {},
     "output_type": "display_data"
    },
    {
     "data": {
      "text/html": [
       "<ol><li>alexanderchopan - 77 casts</li><li>ace - 46 casts</li><li>dwr - 33 casts</li><li>briang - 24 casts</li><li>cameron - 18 casts</li><li>0xen - 17 casts</li><li>giu - 17 casts</li><li>cdt - 16 casts</li><li>dcposch - 14 casts</li><li>brenner - 14 casts</li><li>kn - 14 casts</li><li>hyper - 14 casts</li><li>dylsteck - 14 casts</li><li>matthew - 13 casts</li><li>vm - 13 casts</li><li>pushix - 13 casts</li><li>les - 13 casts</li><li>noah - 12 casts</li><li>babbs - 12 casts</li><li>nonlinear - 11 casts</li><li>alexphan - 10 casts</li><li>nayshins - 10 casts</li><li>ccarella - 10 casts</li><li>agostbiro - 10 casts</li><li>emodi - 9 casts</li><li>neuroswish - 9 casts</li><li>levy - 9 casts</li><li>mattdesl - 9 casts</li><li>benlim - 9 casts</li><li>gabrielayuso - 8 casts</li></ol>"
      ],
      "text/plain": [
       "<IPython.core.display.HTML object>"
      ]
     },
     "metadata": {},
     "output_type": "display_data"
    },
    {
     "data": {
      "text/html": [
       "<h2>Top 30 Most Active Users (Including Replies)</h2>"
      ],
      "text/plain": [
       "<IPython.core.display.HTML object>"
      ]
     },
     "metadata": {},
     "output_type": "display_data"
    },
    {
     "data": {
      "text/html": [
       "<p>All casts, including replies, are considered for this calculation.</p>"
      ],
      "text/plain": [
       "<IPython.core.display.HTML object>"
      ]
     },
     "metadata": {},
     "output_type": "display_data"
    },
    {
     "data": {
      "text/html": [
       "<ol><li>alexanderchopan - 197 casts</li><li>dwr - 153 casts</li><li>ace - 113 casts</li><li>0xen - 74 casts</li><li>cameron - 67 casts</li><li>dcposch - 56 casts</li><li>babbs - 56 casts</li><li>noah - 53 casts</li><li>briang - 52 casts</li><li>vm - 46 casts</li><li>matthew - 45 casts</li><li>les - 42 casts</li><li>kn - 42 casts</li><li>greg - 39 casts</li><li>cdt - 38 casts</li><li>jc - 37 casts</li><li>neuroswish - 37 casts</li><li>nayshins - 36 casts</li><li>whatrocks - 36 casts</li><li>brenner - 34 casts</li><li>dylsteck - 34 casts</li><li>ccarella - 32 casts</li><li>giu - 32 casts</li><li>pushix - 32 casts</li><li>osama - 31 casts</li><li>phil - 30 casts</li><li>jayme - 30 casts</li><li>v - 28 casts</li><li>peter - 28 casts</li><li>hyper - 28 casts</li></ol>"
      ],
      "text/plain": [
       "<IPython.core.display.HTML object>"
      ]
     },
     "metadata": {},
     "output_type": "display_data"
    },
    {
     "data": {
      "text/html": [
       "<h2>Top 100 casts ranked by total likes</h2>"
      ],
      "text/plain": [
       "<IPython.core.display.HTML object>"
      ]
     },
     "metadata": {},
     "output_type": "display_data"
    },
    {
     "data": {
      "text/html": [
       "\n",
       "    <div style=\"border: 1px solid #ccc; max-width: 600px; padding: 25px; margin-bottom: 25px;\">\n",
       "        <div style=\"max-width: 550px; margin: 0 auto;\">\n",
       "            <p><strong><a href=\"https://searchcaster.xyz/search?merkleRoot=0x765ac3221ff1419ead7aea97d55b60c325f8dfd6\" target=\"_blank\">merkleRoot</a></strong></p>\n",
       "            <p><strong>@dwr · fid 3</strong></p>\n",
       "            <div style=\"word-wrap: break-word; margin: 10px 0;\">Big visual update on the desktop app!<br><br>For the nerds: we've moved from Primer (<a href=\"https://primer.style)\" target=\"_blank\">https://primer.style)</a> to Tailwind. This will allow us to re-use a lot more React code between desktop, mobile and eventually the web.<br><br>Shout out to @gt for the refactor! </div>\n",
       "    <div style=\"text-align: center;\"><img src=\"https://i.imgur.com/Azn4iSg.jpg\" style=\"max-width: 550px; margin-top: 10px;\"></div><p style=\"color: purple; margin: 10px 0 0;\">&#x1F49C; 46 <span style=\"margin-left: 5px; margin-top: 10px;\">&#x1F4AC; 9</span></p></div></div>"
      ],
      "text/plain": [
       "<IPython.core.display.HTML object>"
      ]
     },
     "metadata": {},
     "output_type": "display_data"
    },
    {
     "data": {
      "text/html": [
       "\n",
       "    <div style=\"border: 1px solid #ccc; max-width: 600px; padding: 25px; margin-bottom: 25px;\">\n",
       "        <div style=\"max-width: 550px; margin: 0 auto;\">\n",
       "            <p><strong><a href=\"https://searchcaster.xyz/search?merkleRoot=0x9a4308bea6c6f89f59a6d9f19b705440adac84bd\" target=\"_blank\">merkleRoot</a></strong></p>\n",
       "            <p><strong>@jayme · fid 373</strong></p>\n",
       "            <div style=\"word-wrap: break-word; margin: 10px 0;\">Launchcaster<br><br>A tag and place to share something you've made with FC community </div>\n",
       "    <div style=\"text-align: center;\"><img src=\"https://i.imgur.com/VidYkMn.png\" style=\"max-width: 550px; margin-top: 10px;\"></div><p style=\"color: purple; margin: 10px 0 0;\">&#x1F49C; 43 <span style=\"margin-left: 5px; margin-top: 10px;\">&#x1F4AC; 9</span></p></div></div>"
      ],
      "text/plain": [
       "<IPython.core.display.HTML object>"
      ]
     },
     "metadata": {},
     "output_type": "display_data"
    },
    {
     "data": {
      "text/html": [
       "\n",
       "    <div style=\"border: 1px solid #ccc; max-width: 600px; padding: 25px; margin-bottom: 25px;\">\n",
       "        <div style=\"max-width: 550px; margin: 0 auto;\">\n",
       "            <p><strong><a href=\"https://searchcaster.xyz/search?merkleRoot=0xbdbe08530f64e0440190cb7a2b0fc86fb41b1955\" target=\"_blank\">merkleRoot</a></strong></p>\n",
       "            <p><strong>@gaby · fid 83</strong></p>\n",
       "            <div style=\"word-wrap: break-word; margin: 10px 0;\">Chefcaster, continued </div>\n",
       "    <div style=\"text-align: center;\"><img src=\"https://i.imgur.com/J5s219g.jpg\" style=\"max-width: 550px; margin-top: 10px;\"></div><p style=\"color: purple; margin: 10px 0 0;\">&#x1F49C; 35 <span style=\"margin-left: 5px; margin-top: 10px;\">&#x1F4AC; 3</span></p></div></div>"
      ],
      "text/plain": [
       "<IPython.core.display.HTML object>"
      ]
     },
     "metadata": {},
     "output_type": "display_data"
    },
    {
     "data": {
      "text/html": [
       "\n",
       "    <div style=\"border: 1px solid #ccc; max-width: 600px; padding: 25px; margin-bottom: 25px;\">\n",
       "        <div style=\"max-width: 550px; margin: 0 auto;\">\n",
       "            <p><strong><a href=\"https://searchcaster.xyz/search?merkleRoot=0x087190ff9763329421060cd86961954d958e5f9f\" target=\"_blank\">merkleRoot</a></strong></p>\n",
       "            <p><strong>@dwr · fid 3</strong></p>\n",
       "            <div style=\"word-wrap: break-word; margin: 10px 0;\">New feature alert! 📣<br><br>Notification aggregations just shipped on mobile (and will be on desktop later tonight). Notifications feed and unread icon should be much snappier now, too. </div>\n",
       "    <div style=\"text-align: center;\"><img src=\"https://i.imgur.com/p12rNDS.jpg\" style=\"max-width: 550px; margin-top: 10px;\"></div><p style=\"color: purple; margin: 10px 0 0;\">&#x1F49C; 35 <span style=\"margin-left: 5px; margin-top: 10px;\">&#x1F4AC; 5</span></p></div></div>"
      ],
      "text/plain": [
       "<IPython.core.display.HTML object>"
      ]
     },
     "metadata": {},
     "output_type": "display_data"
    },
    {
     "data": {
      "text/html": [
       "\n",
       "    <div style=\"border: 1px solid #ccc; max-width: 600px; padding: 25px; margin-bottom: 25px;\">\n",
       "        <div style=\"max-width: 550px; margin: 0 auto;\">\n",
       "            <p><strong><a href=\"https://searchcaster.xyz/search?merkleRoot=0x66e4951a930e36e716801276b8aaa451fa912f1d\" target=\"_blank\">merkleRoot</a></strong></p>\n",
       "            <p><strong>@dcposch · fid 56</strong></p>\n",
       "            <div style=\"word-wrap: break-word; margin: 10px 0;\">the best time to build a thousand nuclear plants was 50 years ago, the second best time is now - chinese proverb </div>\n",
       "    <div style=\"text-align: center;\"><img src=\"https://i.imgur.com/vjHD37R.jpg\" style=\"max-width: 550px; margin-top: 10px;\"></div><p style=\"color: purple; margin: 10px 0 0;\">&#x1F49C; 33 <span style=\"margin-left: 5px; margin-top: 10px;\">&#x1F4AC; 2</span></p></div></div>"
      ],
      "text/plain": [
       "<IPython.core.display.HTML object>"
      ]
     },
     "metadata": {},
     "output_type": "display_data"
    },
    {
     "data": {
      "text/html": [
       "\n",
       "    <div style=\"border: 1px solid #ccc; max-width: 600px; padding: 25px; margin-bottom: 25px;\">\n",
       "        <div style=\"max-width: 550px; margin: 0 auto;\">\n",
       "            <p><strong><a href=\"https://searchcaster.xyz/search?merkleRoot=0x25be036061585c3c0f713d432db82f2351ed00df\" target=\"_blank\">merkleRoot</a></strong></p>\n",
       "            <p><strong>@ted · fid 239</strong></p>\n",
       "            <div style=\"word-wrap: break-word; margin: 10px 0;\">LA’s best kept secret is the $1 street tacos and homemade horchata sold from the back of a pickup truck </div>\n",
       "    <div style=\"text-align: center;\"><img src=\"https://i.imgur.com/EAtjapm.jpg\" style=\"max-width: 550px; margin-top: 10px;\"></div><p style=\"color: purple; margin: 10px 0 0;\">&#x1F49C; 30 <span style=\"margin-left: 5px; margin-top: 10px;\">&#x1F4AC; 3</span></p></div></div>"
      ],
      "text/plain": [
       "<IPython.core.display.HTML object>"
      ]
     },
     "metadata": {},
     "output_type": "display_data"
    },
    {
     "data": {
      "text/html": [
       "\n",
       "    <div style=\"border: 1px solid #ccc; max-width: 600px; padding: 25px; margin-bottom: 25px;\">\n",
       "        <div style=\"max-width: 550px; margin: 0 auto;\">\n",
       "            <p><strong><a href=\"https://searchcaster.xyz/search?merkleRoot=0x58a5322f7b54fb88f47019e11c85454bf00c094d\" target=\"_blank\">merkleRoot</a></strong></p>\n",
       "            <p><strong>@jc · fid 251</strong></p>\n",
       "            <div style=\"word-wrap: break-word; margin: 10px 0;\">gm, farcaster is the best place to kickstart your pseudonym, just hit over 1,000 followers! Proud to be farcaster-made 😎 </div>\n",
       "    <div style=\"text-align: center;\"><img src=\"https://i.imgur.com/Ii6lx6t.jpg\" style=\"max-width: 550px; margin-top: 10px;\"></div><p style=\"color: purple; margin: 10px 0 0;\">&#x1F49C; 29 <span style=\"margin-left: 5px; margin-top: 10px;\">&#x1F4AC; 0</span></p></div></div>"
      ],
      "text/plain": [
       "<IPython.core.display.HTML object>"
      ]
     },
     "metadata": {},
     "output_type": "display_data"
    },
    {
     "data": {
      "text/html": [
       "\n",
       "    <div style=\"border: 1px solid #ccc; max-width: 600px; padding: 25px; margin-bottom: 25px;\">\n",
       "        <div style=\"max-width: 550px; margin: 0 auto;\">\n",
       "            <p><strong><a href=\"https://searchcaster.xyz/search?merkleRoot=0x6f3ae3f1270656d6c9a7aab3c9e33d200032ced5\" target=\"_blank\">merkleRoot</a></strong></p>\n",
       "            <p><strong>@greg · fid 347</strong></p>\n",
       "            <div style=\"word-wrap: break-word; margin: 10px 0;\">last minute travel > planned travel<br><br>see you tomorrow LA!</div>\n",
       "    <p style=\"color: purple; margin: 10px 0 0;\">&#x1F49C; 28 <span style=\"margin-left: 5px; margin-top: 10px;\">&#x1F4AC; 4</span></p></div></div>"
      ],
      "text/plain": [
       "<IPython.core.display.HTML object>"
      ]
     },
     "metadata": {},
     "output_type": "display_data"
    },
    {
     "data": {
      "text/html": [
       "\n",
       "    <div style=\"border: 1px solid #ccc; max-width: 600px; padding: 25px; margin-bottom: 25px;\">\n",
       "        <div style=\"max-width: 550px; margin: 0 auto;\">\n",
       "            <p><strong><a href=\"https://searchcaster.xyz/search?merkleRoot=0x34132ea17ec48ca154bc2cbdd0b56189769d4a20\" target=\"_blank\">merkleRoot</a></strong></p>\n",
       "            <p><strong>@matthew · fid 473</strong></p>\n",
       "            <div style=\"word-wrap: break-word; margin: 10px 0;\">GA, time to walk to sausalito </div>\n",
       "    <div style=\"text-align: center;\"><img src=\"https://i.imgur.com/Ori2Zkd.jpg\" style=\"max-width: 550px; margin-top: 10px;\"></div><p style=\"color: purple; margin: 10px 0 0;\">&#x1F49C; 27 <span style=\"margin-left: 5px; margin-top: 10px;\">&#x1F4AC; 5</span></p></div></div>"
      ],
      "text/plain": [
       "<IPython.core.display.HTML object>"
      ]
     },
     "metadata": {},
     "output_type": "display_data"
    },
    {
     "data": {
      "text/html": [
       "\n",
       "    <div style=\"border: 1px solid #ccc; max-width: 600px; padding: 25px; margin-bottom: 25px;\">\n",
       "        <div style=\"max-width: 550px; margin: 0 auto;\">\n",
       "            <p><strong><a href=\"https://searchcaster.xyz/search?merkleRoot=0x4f70e7b36a3d77340eaa71c646e636002b451423\" target=\"_blank\">merkleRoot</a></strong></p>\n",
       "            <p><strong>@dwr · fid 3</strong></p>\n",
       "            <div style=\"word-wrap: break-word; margin: 10px 0;\">New feature on mobile: <br><br>Auto-grouping of NFTs in the same collection on NFT profile tabs<br><br>We’ll continue to iterate here to help make it easier to showcase your favorite NFTs and hide spammy ones. </div>\n",
       "    <div style=\"text-align: center;\"><img src=\"https://i.imgur.com/Sq4qIWV.jpg\" style=\"max-width: 550px; margin-top: 10px;\"></div><p style=\"color: purple; margin: 10px 0 0;\">&#x1F49C; 27 <span style=\"margin-left: 5px; margin-top: 10px;\">&#x1F4AC; 4</span></p></div></div>"
      ],
      "text/plain": [
       "<IPython.core.display.HTML object>"
      ]
     },
     "metadata": {},
     "output_type": "display_data"
    },
    {
     "data": {
      "text/html": [
       "\n",
       "    <div style=\"border: 1px solid #ccc; max-width: 600px; padding: 25px; margin-bottom: 25px;\">\n",
       "        <div style=\"max-width: 550px; margin: 0 auto;\">\n",
       "            <p><strong><a href=\"https://searchcaster.xyz/search?merkleRoot=0xed41cb015f73d1c8e2001f83c1b2e4c0c3809465\" target=\"_blank\">merkleRoot</a></strong></p>\n",
       "            <p><strong>@dwr · fid 3</strong></p>\n",
       "            <div style=\"word-wrap: break-word; margin: 10px 0;\">This is good / intellectually honest criticism.<br><br><a href=\"https://twitter.com/benedictevans/status/1553350060301320193\" target=\"_blank\">https://twitter.com/benedictevans/status/1553350060301320193</a></div>\n",
       "    <p style=\"color: purple; margin: 10px 0 0;\">&#x1F49C; 25 <span style=\"margin-left: 5px; margin-top: 10px;\">&#x1F4AC; 2</span></p></div></div>"
      ],
      "text/plain": [
       "<IPython.core.display.HTML object>"
      ]
     },
     "metadata": {},
     "output_type": "display_data"
    },
    {
     "data": {
      "text/html": [
       "\n",
       "    <div style=\"border: 1px solid #ccc; max-width: 600px; padding: 25px; margin-bottom: 25px;\">\n",
       "        <div style=\"max-width: 550px; margin: 0 auto;\">\n",
       "            <p><strong><a href=\"https://searchcaster.xyz/search?merkleRoot=0x4e79328df620cd6a19b41ea01c634ccdca10a552\" target=\"_blank\">merkleRoot</a></strong></p>\n",
       "            <p><strong>@nick · fid 108</strong></p>\n",
       "            <div style=\"word-wrap: break-word; margin: 10px 0;\">Great consumer products that just use Ethereum on the backend ftw<br><br>Farcaster and Arpeggi are two of my favorites </div>\n",
       "    <div style=\"text-align: center;\"><img src=\"https://i.imgur.com/hLMbIfr.jpg\" style=\"max-width: 550px; margin-top: 10px;\"></div><p style=\"color: purple; margin: 10px 0 0;\">&#x1F49C; 25 <span style=\"margin-left: 5px; margin-top: 10px;\">&#x1F4AC; 3</span></p></div></div>"
      ],
      "text/plain": [
       "<IPython.core.display.HTML object>"
      ]
     },
     "metadata": {},
     "output_type": "display_data"
    },
    {
     "data": {
      "text/html": [
       "\n",
       "    <div style=\"border: 1px solid #ccc; max-width: 600px; padding: 25px; margin-bottom: 25px;\">\n",
       "        <div style=\"max-width: 550px; margin: 0 auto;\">\n",
       "            <p><strong><a href=\"https://searchcaster.xyz/search?merkleRoot=0x52d5ff91e916861c5b2683647a0f6e58841d23bc\" target=\"_blank\">merkleRoot</a></strong></p>\n",
       "            <p><strong>@whatrocks · fid 224</strong></p>\n",
       "            <div style=\"word-wrap: break-word; margin: 10px 0;\">Exceedingly too close for comfort at Tennessee Valley </div>\n",
       "    <div style=\"text-align: center;\"><img src=\"https://i.imgur.com/7pqKbIN.jpg\" style=\"max-width: 550px; margin-top: 10px;\"></div><p style=\"color: purple; margin: 10px 0 0;\">&#x1F49C; 24 <span style=\"margin-left: 5px; margin-top: 10px;\">&#x1F4AC; 3</span></p></div></div>"
      ],
      "text/plain": [
       "<IPython.core.display.HTML object>"
      ]
     },
     "metadata": {},
     "output_type": "display_data"
    },
    {
     "data": {
      "text/html": [
       "\n",
       "    <div style=\"border: 1px solid #ccc; max-width: 600px; padding: 25px; margin-bottom: 25px;\">\n",
       "        <div style=\"max-width: 550px; margin: 0 auto;\">\n",
       "            <p><strong><a href=\"https://searchcaster.xyz/search?merkleRoot=0x57ea1ebe3e11b89b2d20beaa6866e808cc535027\" target=\"_blank\">merkleRoot</a></strong></p>\n",
       "            <p><strong>@ace · fid 539</strong></p>\n",
       "            <div style=\"word-wrap: break-word; margin: 10px 0;\">First stab at Founding Clams NFTs for @perl 🔮 </div>\n",
       "    <div style=\"text-align: center;\"><img src=\"https://i.imgur.com/IZCZaEW.jpg\" style=\"max-width: 550px; margin-top: 10px;\"></div><p style=\"color: purple; margin: 10px 0 0;\">&#x1F49C; 24 <span style=\"margin-left: 5px; margin-top: 10px;\">&#x1F4AC; 1</span></p></div></div>"
      ],
      "text/plain": [
       "<IPython.core.display.HTML object>"
      ]
     },
     "metadata": {},
     "output_type": "display_data"
    },
    {
     "data": {
      "text/html": [
       "\n",
       "    <div style=\"border: 1px solid #ccc; max-width: 600px; padding: 25px; margin-bottom: 25px;\">\n",
       "        <div style=\"max-width: 550px; margin: 0 auto;\">\n",
       "            <p><strong><a href=\"https://searchcaster.xyz/search?merkleRoot=0xeaea78f5996ad403dbd42db94711ad0ef6f28a3b\" target=\"_blank\">merkleRoot</a></strong></p>\n",
       "            <p><strong>@kn · fid 258</strong></p>\n",
       "            <div style=\"word-wrap: break-word; margin: 10px 0;\">gm 👋 dropping new experiments on the preview version of Farcaster News (@fn) in a few hours - watch this thread if you can help assess if they are useful 🙇‍♂️🙏</div>\n",
       "    <p style=\"color: purple; margin: 10px 0 0;\">&#x1F49C; 24 <span style=\"margin-left: 5px; margin-top: 10px;\">&#x1F4AC; 2</span></p></div></div>"
      ],
      "text/plain": [
       "<IPython.core.display.HTML object>"
      ]
     },
     "metadata": {},
     "output_type": "display_data"
    },
    {
     "data": {
      "text/html": [
       "\n",
       "    <div style=\"border: 1px solid #ccc; max-width: 600px; padding: 25px; margin-bottom: 25px;\">\n",
       "        <div style=\"max-width: 550px; margin: 0 auto;\">\n",
       "            <p><strong><a href=\"https://searchcaster.xyz/search?merkleRoot=0x748bc14261d37482d47f39e3eba236a40168c889\" target=\"_blank\">merkleRoot</a></strong></p>\n",
       "            <p><strong>@dcposch · fid 56</strong></p>\n",
       "            <div style=\"word-wrap: break-word; margin: 10px 0;\">\"Kill a cockroach and you are hero, kill a butterfly and you are a villain. Morality has aesthetic standards\" -Nietzsche</div>\n",
       "    <p style=\"color: purple; margin: 10px 0 0;\">&#x1F49C; 23 <span style=\"margin-left: 5px; margin-top: 10px;\">&#x1F4AC; 2</span></p></div></div>"
      ],
      "text/plain": [
       "<IPython.core.display.HTML object>"
      ]
     },
     "metadata": {},
     "output_type": "display_data"
    },
    {
     "data": {
      "text/html": [
       "\n",
       "    <div style=\"border: 1px solid #ccc; max-width: 600px; padding: 25px; margin-bottom: 25px;\">\n",
       "        <div style=\"max-width: 550px; margin: 0 auto;\">\n",
       "            <p><strong><a href=\"https://searchcaster.xyz/search?merkleRoot=0x6e85fe5312343626ea35dffb2a82f4e46ff9970f\" target=\"_blank\">merkleRoot</a></strong></p>\n",
       "            <p><strong>@dwr · fid 3</strong></p>\n",
       "            <div style=\"word-wrap: break-word; margin: 10px 0;\">Feels like there’s an opportunity for a prosumer “news wire” service that’s like the WSJ with 10x the volume of articles and 1/10th the length. Priced cheaper than Bloomberg terminal and only via app with insanely snappy UX.</div>\n",
       "    <p style=\"color: purple; margin: 10px 0 0;\">&#x1F49C; 23 <span style=\"margin-left: 5px; margin-top: 10px;\">&#x1F4AC; 7</span></p></div></div>"
      ],
      "text/plain": [
       "<IPython.core.display.HTML object>"
      ]
     },
     "metadata": {},
     "output_type": "display_data"
    },
    {
     "data": {
      "text/html": [
       "\n",
       "    <div style=\"border: 1px solid #ccc; max-width: 600px; padding: 25px; margin-bottom: 25px;\">\n",
       "        <div style=\"max-width: 550px; margin: 0 auto;\">\n",
       "            <p><strong><a href=\"https://searchcaster.xyz/search?merkleRoot=0x5ae6c2173775642186d8825043cccf0cffe05f6d\" target=\"_blank\">merkleRoot</a></strong></p>\n",
       "            <p><strong>@ace · fid 539</strong></p>\n",
       "            <div style=\"word-wrap: break-word; margin: 10px 0;\">Founding Clam<br>- Farcaster edition </div>\n",
       "    <div style=\"text-align: center;\"><img src=\"https://i.imgur.com/ZFmbiwy.jpg\" style=\"max-width: 550px; margin-top: 10px;\"></div><p style=\"color: purple; margin: 10px 0 0;\">&#x1F49C; 23 <span style=\"margin-left: 5px; margin-top: 10px;\">&#x1F4AC; 2</span></p></div></div>"
      ],
      "text/plain": [
       "<IPython.core.display.HTML object>"
      ]
     },
     "metadata": {},
     "output_type": "display_data"
    },
    {
     "data": {
      "text/html": [
       "\n",
       "    <div style=\"border: 1px solid #ccc; max-width: 600px; padding: 25px; margin-bottom: 25px;\">\n",
       "        <div style=\"max-width: 550px; margin: 0 auto;\">\n",
       "            <p><strong><a href=\"https://searchcaster.xyz/search?merkleRoot=0xe02d795ecb3993dab46a6b36bc3a2a790e3cca8c\" target=\"_blank\">merkleRoot</a></strong></p>\n",
       "            <p><strong>@dwr · fid 3</strong></p>\n",
       "            <div style=\"word-wrap: break-word; margin: 10px 0;\">Just realized I didn't follow @gregskril on the bird app and was initially embarrassed but realized it was actually a sign that he's an authentic native Farcaster. 💯</div>\n",
       "    <p style=\"color: purple; margin: 10px 0 0;\">&#x1F49C; 23 <span style=\"margin-left: 5px; margin-top: 10px;\">&#x1F4AC; 1</span></p></div></div>"
      ],
      "text/plain": [
       "<IPython.core.display.HTML object>"
      ]
     },
     "metadata": {},
     "output_type": "display_data"
    },
    {
     "data": {
      "text/html": [
       "\n",
       "    <div style=\"border: 1px solid #ccc; max-width: 600px; padding: 25px; margin-bottom: 25px;\">\n",
       "        <div style=\"max-width: 550px; margin: 0 auto;\">\n",
       "            <p><strong><a href=\"https://searchcaster.xyz/search?merkleRoot=0x6093aeea553ca499219917e2e492156a2119a241\" target=\"_blank\">merkleRoot</a></strong></p>\n",
       "            <p><strong>@bgrill · fid 311</strong></p>\n",
       "            <div style=\"word-wrap: break-word; margin: 10px 0;\">gm </div>\n",
       "    <div style=\"text-align: center;\"><img src=\"https://i.imgur.com/VJKmsbU.jpg\" style=\"max-width: 550px; margin-top: 10px;\"></div><p style=\"color: purple; margin: 10px 0 0;\">&#x1F49C; 23 <span style=\"margin-left: 5px; margin-top: 10px;\">&#x1F4AC; 1</span></p></div></div>"
      ],
      "text/plain": [
       "<IPython.core.display.HTML object>"
      ]
     },
     "metadata": {},
     "output_type": "display_data"
    },
    {
     "data": {
      "text/html": [
       "\n",
       "    <div style=\"border: 1px solid #ccc; max-width: 600px; padding: 25px; margin-bottom: 25px;\">\n",
       "        <div style=\"max-width: 550px; margin: 0 auto;\">\n",
       "            <p><strong><a href=\"https://searchcaster.xyz/search?merkleRoot=0x10776f2810774ca7efdec42ffdf6f77fc2fabb3b\" target=\"_blank\">merkleRoot</a></strong></p>\n",
       "            <p><strong>@family · fid 1151</strong></p>\n",
       "            <div style=\"word-wrap: break-word; margin: 10px 0;\">is this thing on 🔊</div>\n",
       "    <p style=\"color: purple; margin: 10px 0 0;\">&#x1F49C; 22 <span style=\"margin-left: 5px; margin-top: 10px;\">&#x1F4AC; 2</span></p></div></div>"
      ],
      "text/plain": [
       "<IPython.core.display.HTML object>"
      ]
     },
     "metadata": {},
     "output_type": "display_data"
    },
    {
     "data": {
      "text/html": [
       "\n",
       "    <div style=\"border: 1px solid #ccc; max-width: 600px; padding: 25px; margin-bottom: 25px;\">\n",
       "        <div style=\"max-width: 550px; margin: 0 auto;\">\n",
       "            <p><strong><a href=\"https://searchcaster.xyz/search?merkleRoot=0x226d7d5c4f35036cab2f1b3f057484f3393215b4\" target=\"_blank\">merkleRoot</a></strong></p>\n",
       "            <p><strong>@brianjckim · fid 426</strong></p>\n",
       "            <div style=\"word-wrap: break-word; margin: 10px 0;\">i’ve so far enjoyed every single call i’ve done with someone i met on farcaster</div>\n",
       "    <p style=\"color: purple; margin: 10px 0 0;\">&#x1F49C; 22 <span style=\"margin-left: 5px; margin-top: 10px;\">&#x1F4AC; 3</span></p></div></div>"
      ],
      "text/plain": [
       "<IPython.core.display.HTML object>"
      ]
     },
     "metadata": {},
     "output_type": "display_data"
    },
    {
     "data": {
      "text/html": [
       "\n",
       "    <div style=\"border: 1px solid #ccc; max-width: 600px; padding: 25px; margin-bottom: 25px;\">\n",
       "        <div style=\"max-width: 550px; margin: 0 auto;\">\n",
       "            <p><strong><a href=\"https://searchcaster.xyz/search?merkleRoot=0x156aa706a56b8eab23d7c97c11d68ae85ac35de2\" target=\"_blank\">merkleRoot</a></strong></p>\n",
       "            <p><strong>@dwr · fid 3</strong></p>\n",
       "            <div style=\"word-wrap: break-word; margin: 10px 0;\">gm thought this map was neat </div>\n",
       "    <div style=\"text-align: center;\"><img src=\"https://i.imgur.com/O1uE1Hh.jpg\" style=\"max-width: 550px; margin-top: 10px;\"></div><p style=\"color: purple; margin: 10px 0 0;\">&#x1F49C; 22 <span style=\"margin-left: 5px; margin-top: 10px;\">&#x1F4AC; 3</span></p></div></div>"
      ],
      "text/plain": [
       "<IPython.core.display.HTML object>"
      ]
     },
     "metadata": {},
     "output_type": "display_data"
    },
    {
     "data": {
      "text/html": [
       "\n",
       "    <div style=\"border: 1px solid #ccc; max-width: 600px; padding: 25px; margin-bottom: 25px;\">\n",
       "        <div style=\"max-width: 550px; margin: 0 auto;\">\n",
       "            <p><strong><a href=\"https://searchcaster.xyz/search?merkleRoot=0xc6ad04f08671cde6c300b96074b2814d0b32f7a3\" target=\"_blank\">merkleRoot</a></strong></p>\n",
       "            <p><strong>@pfista · fid 451</strong></p>\n",
       "            <div style=\"word-wrap: break-word; margin: 10px 0;\">gm </div>\n",
       "    <div style=\"text-align: center;\"><img src=\"https://i.imgur.com/g9kKQNu.jpg\" style=\"max-width: 550px; margin-top: 10px;\"></div><p style=\"color: purple; margin: 10px 0 0;\">&#x1F49C; 22 <span style=\"margin-left: 5px; margin-top: 10px;\">&#x1F4AC; 1</span></p></div></div>"
      ],
      "text/plain": [
       "<IPython.core.display.HTML object>"
      ]
     },
     "metadata": {},
     "output_type": "display_data"
    },
    {
     "data": {
      "text/html": [
       "\n",
       "    <div style=\"border: 1px solid #ccc; max-width: 600px; padding: 25px; margin-bottom: 25px;\">\n",
       "        <div style=\"max-width: 550px; margin: 0 auto;\">\n",
       "            <p><strong><a href=\"https://searchcaster.xyz/search?merkleRoot=0x4d7709a43a85a1084f60a0c845abae719c13005f\" target=\"_blank\">merkleRoot</a></strong></p>\n",
       "            <p><strong>@jacob · fid 8</strong></p>\n",
       "            <div style=\"word-wrap: break-word; margin: 10px 0;\"></div>\n",
       "    <div style=\"text-align: center;\"><img src=\"https://i.imgur.com/puTudUd.png\" style=\"max-width: 550px; margin-top: 10px;\"></div><p style=\"color: purple; margin: 10px 0 0;\">&#x1F49C; 21 <span style=\"margin-left: 5px; margin-top: 10px;\">&#x1F4AC; 0</span></p></div></div>"
      ],
      "text/plain": [
       "<IPython.core.display.HTML object>"
      ]
     },
     "metadata": {},
     "output_type": "display_data"
    },
    {
     "data": {
      "text/html": [
       "\n",
       "    <div style=\"border: 1px solid #ccc; max-width: 600px; padding: 25px; margin-bottom: 25px;\">\n",
       "        <div style=\"max-width: 550px; margin: 0 auto;\">\n",
       "            <p><strong><a href=\"https://searchcaster.xyz/search?merkleRoot=0x3a2d443d29e23757c7220034ccaeca76fd6305bb\" target=\"_blank\">merkleRoot</a></strong></p>\n",
       "            <p><strong>@todd · fid 18</strong></p>\n",
       "            <div style=\"word-wrap: break-word; margin: 10px 0;\">Met a team today that both met on Farcaster and is building on it.<br><br>Wen Farcaster ecosystem fund?!</div>\n",
       "    <p style=\"color: purple; margin: 10px 0 0;\">&#x1F49C; 21 <span style=\"margin-left: 5px; margin-top: 10px;\">&#x1F4AC; 3</span></p></div></div>"
      ],
      "text/plain": [
       "<IPython.core.display.HTML object>"
      ]
     },
     "metadata": {},
     "output_type": "display_data"
    },
    {
     "data": {
      "text/html": [
       "\n",
       "    <div style=\"border: 1px solid #ccc; max-width: 600px; padding: 25px; margin-bottom: 25px;\">\n",
       "        <div style=\"max-width: 550px; margin: 0 auto;\">\n",
       "            <p><strong><a href=\"https://searchcaster.xyz/search?merkleRoot=0x54a01f420cc0ceea480b2dc4c31e9dbaed672f3b\" target=\"_blank\">merkleRoot</a></strong></p>\n",
       "            <p><strong>@dwr · fid 3</strong></p>\n",
       "            <div style=\"word-wrap: break-word; margin: 10px 0;\">The Gettysburg Address is 1451 characters or 5.18 tweets. <br><br>Maybe if you can't express your idea in 5 tweets or fewer time to reconsider?</div>\n",
       "    <p style=\"color: purple; margin: 10px 0 0;\">&#x1F49C; 21 <span style=\"margin-left: 5px; margin-top: 10px;\">&#x1F4AC; 6</span></p></div></div>"
      ],
      "text/plain": [
       "<IPython.core.display.HTML object>"
      ]
     },
     "metadata": {},
     "output_type": "display_data"
    },
    {
     "data": {
      "text/html": [
       "\n",
       "    <div style=\"border: 1px solid #ccc; max-width: 600px; padding: 25px; margin-bottom: 25px;\">\n",
       "        <div style=\"max-width: 550px; margin: 0 auto;\">\n",
       "            <p><strong><a href=\"https://searchcaster.xyz/search?merkleRoot=0x08a0b5e124a308b6f5d4a80da2fa6f6f704fc2c8\" target=\"_blank\">merkleRoot</a></strong></p>\n",
       "            <p><strong>@gaby · fid 83</strong></p>\n",
       "            <div style=\"word-wrap: break-word; margin: 10px 0;\">Needed another annoying personality trait besides crypto so I started training for a half marathon. The transformation is complete</div>\n",
       "    <p style=\"color: purple; margin: 10px 0 0;\">&#x1F49C; 21 <span style=\"margin-left: 5px; margin-top: 10px;\">&#x1F4AC; 2</span></p></div></div>"
      ],
      "text/plain": [
       "<IPython.core.display.HTML object>"
      ]
     },
     "metadata": {},
     "output_type": "display_data"
    },
    {
     "data": {
      "text/html": [
       "\n",
       "    <div style=\"border: 1px solid #ccc; max-width: 600px; padding: 25px; margin-bottom: 25px;\">\n",
       "        <div style=\"max-width: 550px; margin: 0 auto;\">\n",
       "            <p><strong><a href=\"https://searchcaster.xyz/search?merkleRoot=0x29d9e44fd41dab7a983cc5f9e60dd6455f6012c7\" target=\"_blank\">merkleRoot</a></strong></p>\n",
       "            <p><strong>@cye · fid 1132</strong></p>\n",
       "            <div style=\"word-wrap: break-word; margin: 10px 0;\">👋 gm Farcaster frens! It seems every day, there’s a new scam in the crypto/web3 space that makes headlines. Over the past few months, we’ve been hard at work building a better solution to address this problem. Today, we’re stoked to launch Radar. <a href=\"https://bit.ly/3QjhqFh\" target=\"_blank\">https://bit.ly/3QjhqFh</a></div>\n",
       "    <p style=\"color: purple; margin: 10px 0 0;\">&#x1F49C; 21 <span style=\"margin-left: 5px; margin-top: 10px;\">&#x1F4AC; 7</span></p></div></div>"
      ],
      "text/plain": [
       "<IPython.core.display.HTML object>"
      ]
     },
     "metadata": {},
     "output_type": "display_data"
    },
    {
     "data": {
      "text/html": [
       "\n",
       "    <div style=\"border: 1px solid #ccc; max-width: 600px; padding: 25px; margin-bottom: 25px;\">\n",
       "        <div style=\"max-width: 550px; margin: 0 auto;\">\n",
       "            <p><strong><a href=\"https://searchcaster.xyz/search?merkleRoot=0xb44aa9ba4880872bf9d64239a0af1c4484439d7f\" target=\"_blank\">merkleRoot</a></strong></p>\n",
       "            <p><strong>@jc · fid 251</strong></p>\n",
       "            <div style=\"word-wrap: break-word; margin: 10px 0;\">supercaster </div>\n",
       "    <div style=\"text-align: center;\"><img src=\"https://i.imgur.com/WLGebpf.jpg\" style=\"max-width: 550px; margin-top: 10px;\"></div><p style=\"color: purple; margin: 10px 0 0;\">&#x1F49C; 21 <span style=\"margin-left: 5px; margin-top: 10px;\">&#x1F4AC; 2</span></p></div></div>"
      ],
      "text/plain": [
       "<IPython.core.display.HTML object>"
      ]
     },
     "metadata": {},
     "output_type": "display_data"
    },
    {
     "data": {
      "text/html": [
       "\n",
       "    <div style=\"border: 1px solid #ccc; max-width: 600px; padding: 25px; margin-bottom: 25px;\">\n",
       "        <div style=\"max-width: 550px; margin: 0 auto;\">\n",
       "            <p><strong><a href=\"https://searchcaster.xyz/search?merkleRoot=0x6fcc1db651482b3aaced9c3736d8e9bd9e0efd63\" target=\"_blank\">merkleRoot</a></strong></p>\n",
       "            <p><strong>@dcposch · fid 56</strong></p>\n",
       "            <div style=\"word-wrap: break-word; margin: 10px 0;\">Today's Solana hack is a big L for closed-source wallets.<br><br>I just witnessed one big incident response zoom. Lots of speculation, low visibility. Seems Phantom and Slope each leaked secrets, but nobody can compare their keygen or key-handling code for commonalities.</div>\n",
       "    <p style=\"color: purple; margin: 10px 0 0;\">&#x1F49C; 21 <span style=\"margin-left: 5px; margin-top: 10px;\">&#x1F4AC; 3</span></p></div></div>"
      ],
      "text/plain": [
       "<IPython.core.display.HTML object>"
      ]
     },
     "metadata": {},
     "output_type": "display_data"
    },
    {
     "data": {
      "text/html": [
       "\n",
       "    <div style=\"border: 1px solid #ccc; max-width: 600px; padding: 25px; margin-bottom: 25px;\">\n",
       "        <div style=\"max-width: 550px; margin: 0 auto;\">\n",
       "            <p><strong><a href=\"https://searchcaster.xyz/search?merkleRoot=0x7f1c6c06d7634d3e6ccaa25509996d31c1003f76\" target=\"_blank\">merkleRoot</a></strong></p>\n",
       "            <p><strong>@dwr · fid 3</strong></p>\n",
       "            <div style=\"word-wrap: break-word; margin: 10px 0;\">Do you have your phone set to Silent Mode:<br><br>1. 100% of the time<br><br>2. Most of the time<br><br>3. Abut 50-50<br><br>4. 0% (you turn it off when you want it silent)</div>\n",
       "    <p style=\"color: purple; margin: 10px 0 0;\">&#x1F49C; 21 <span style=\"margin-left: 5px; margin-top: 10px;\">&#x1F4AC; 75</span></p></div></div>"
      ],
      "text/plain": [
       "<IPython.core.display.HTML object>"
      ]
     },
     "metadata": {},
     "output_type": "display_data"
    },
    {
     "data": {
      "text/html": [
       "\n",
       "    <div style=\"border: 1px solid #ccc; max-width: 600px; padding: 25px; margin-bottom: 25px;\">\n",
       "        <div style=\"max-width: 550px; margin: 0 auto;\">\n",
       "            <p><strong><a href=\"https://searchcaster.xyz/search?merkleRoot=0xfa566ce1bd85904fa1683bd1c7b0311600bd5236\" target=\"_blank\">merkleRoot</a></strong></p>\n",
       "            <p><strong>@nick · fid 108</strong></p>\n",
       "            <div style=\"word-wrap: break-word; margin: 10px 0;\">Senator Masters 🇺🇸 </div>\n",
       "    <div style=\"text-align: center;\"><img src=\"https://i.imgur.com/FHcNQWs.jpg\" style=\"max-width: 550px; margin-top: 10px;\"></div><p style=\"color: purple; margin: 10px 0 0;\">&#x1F49C; 20 <span style=\"margin-left: 5px; margin-top: 10px;\">&#x1F4AC; 2</span></p></div></div>"
      ],
      "text/plain": [
       "<IPython.core.display.HTML object>"
      ]
     },
     "metadata": {},
     "output_type": "display_data"
    },
    {
     "data": {
      "text/html": [
       "\n",
       "    <div style=\"border: 1px solid #ccc; max-width: 600px; padding: 25px; margin-bottom: 25px;\">\n",
       "        <div style=\"max-width: 550px; margin: 0 auto;\">\n",
       "            <p><strong><a href=\"https://searchcaster.xyz/search?merkleRoot=0x418333ef8db658eaa404064bf0c3f438c65809cc\" target=\"_blank\">merkleRoot</a></strong></p>\n",
       "            <p><strong>@datz · fid 1083</strong></p>\n",
       "            <div style=\"word-wrap: break-word; margin: 10px 0;\">Great seeing you @linda at our DeStore space with my friends @kiyo & @kz !🚀<br><br>Definitely will invite you for DeStore grand opening party!🍸🥂 </div>\n",
       "    <div style=\"text-align: center;\"><img src=\"https://i.imgur.com/mc5GUip.jpg\" style=\"max-width: 550px; margin-top: 10px;\"></div><p style=\"color: purple; margin: 10px 0 0;\">&#x1F49C; 20 <span style=\"margin-left: 5px; margin-top: 10px;\">&#x1F4AC; 2</span></p></div></div>"
      ],
      "text/plain": [
       "<IPython.core.display.HTML object>"
      ]
     },
     "metadata": {},
     "output_type": "display_data"
    },
    {
     "data": {
      "text/html": [
       "\n",
       "    <div style=\"border: 1px solid #ccc; max-width: 600px; padding: 25px; margin-bottom: 25px;\">\n",
       "        <div style=\"max-width: 550px; margin: 0 auto;\">\n",
       "            <p><strong><a href=\"https://searchcaster.xyz/search?merkleRoot=0xbd24b2a92499c9c3b4f886a2b2cb2b003159d1aa\" target=\"_blank\">merkleRoot</a></strong></p>\n",
       "            <p><strong>@antonio · fid 53</strong></p>\n",
       "            <div style=\"word-wrap: break-word; margin: 10px 0;\">My latest for Pull Request, on privacy and Web 3. <br><br>There's a legal reckoning coming, and Web 3 needs to start thinking seriously about how to build with privacy (the legal definition, not an abstract one) in mind. <br><a href=\"https://www.thepullrequest.com/p/the-right-to-never-be-forgotten\" target=\"_blank\">https://www.thepullrequest.com/p/the-right-to-never-be-forgotten</a></div>\n",
       "    <p style=\"color: purple; margin: 10px 0 0;\">&#x1F49C; 20 <span style=\"margin-left: 5px; margin-top: 10px;\">&#x1F4AC; 0</span></p></div></div>"
      ],
      "text/plain": [
       "<IPython.core.display.HTML object>"
      ]
     },
     "metadata": {},
     "output_type": "display_data"
    },
    {
     "data": {
      "text/html": [
       "\n",
       "    <div style=\"border: 1px solid #ccc; max-width: 600px; padding: 25px; margin-bottom: 25px;\">\n",
       "        <div style=\"max-width: 550px; margin: 0 auto;\">\n",
       "            <p><strong><a href=\"https://searchcaster.xyz/search?merkleRoot=0x475890c01a09ed3332cf2fa0520f8ee59346030f\" target=\"_blank\">merkleRoot</a></strong></p>\n",
       "            <p><strong>@antonio · fid 53</strong></p>\n",
       "            <div style=\"word-wrap: break-word; margin: 10px 0;\">My piece on @balajis's 'The Network State' (which I liked and recommend) in Tablet. <br><br>Pull Request peeps: the version with all the AGM sauce on it comes out tomorrow.<br><a href=\"https://www.tabletmag.com/sections/news/articles/live-die-network-state-antonio-garcia-martinez-balaji-srinivasan\" target=\"_blank\">https://www.tabletmag.com/sections/news/articles/live-die-network-state-antonio-garcia-martinez-balaji-srinivasan</a></div>\n",
       "    <p style=\"color: purple; margin: 10px 0 0;\">&#x1F49C; 20 <span style=\"margin-left: 5px; margin-top: 10px;\">&#x1F4AC; 0</span></p></div></div>"
      ],
      "text/plain": [
       "<IPython.core.display.HTML object>"
      ]
     },
     "metadata": {},
     "output_type": "display_data"
    },
    {
     "data": {
      "text/html": [
       "\n",
       "    <div style=\"border: 1px solid #ccc; max-width: 600px; padding: 25px; margin-bottom: 25px;\">\n",
       "        <div style=\"max-width: 550px; margin: 0 auto;\">\n",
       "            <p><strong><a href=\"https://searchcaster.xyz/search?merkleRoot=0x838eebef617115e3160ab3072be65b597ef445e8\" target=\"_blank\">merkleRoot</a></strong></p>\n",
       "            <p><strong>@brenner · fid 60</strong></p>\n",
       "            <div style=\"word-wrap: break-word; margin: 10px 0;\">You've made a lot of transactions on-chain, but do you even know what you've been doing?<br><br>You could go look through your Etherscan... but you're already tired just thinking about that.<br><br>Enter Logbook📜, Metagame's fourth Artifact.</div>\n",
       "    <p style=\"color: purple; margin: 10px 0 0;\">&#x1F49C; 20 <span style=\"margin-left: 5px; margin-top: 10px;\">&#x1F4AC; 2</span></p></div></div>"
      ],
      "text/plain": [
       "<IPython.core.display.HTML object>"
      ]
     },
     "metadata": {},
     "output_type": "display_data"
    },
    {
     "data": {
      "text/html": [
       "\n",
       "    <div style=\"border: 1px solid #ccc; max-width: 600px; padding: 25px; margin-bottom: 25px;\">\n",
       "        <div style=\"max-width: 550px; margin: 0 auto;\">\n",
       "            <p><strong><a href=\"https://searchcaster.xyz/search?merkleRoot=0x13626f0dd6c7abb40bb085891dfb0d6fd42773b8\" target=\"_blank\">merkleRoot</a></strong></p>\n",
       "            <p><strong>@mk · fid 143</strong></p>\n",
       "            <div style=\"word-wrap: break-word; margin: 10px 0;\">gm<br><br>Just returned from two weeks otg. Could have done two more. </div>\n",
       "    <div style=\"text-align: center;\"><img src=\"https://i.imgur.com/upjSGLC.jpg\" style=\"max-width: 550px; margin-top: 10px;\"></div><p style=\"color: purple; margin: 10px 0 0;\">&#x1F49C; 19 <span style=\"margin-left: 5px; margin-top: 10px;\">&#x1F4AC; 0</span></p></div></div>"
      ],
      "text/plain": [
       "<IPython.core.display.HTML object>"
      ]
     },
     "metadata": {},
     "output_type": "display_data"
    },
    {
     "data": {
      "text/html": [
       "\n",
       "    <div style=\"border: 1px solid #ccc; max-width: 600px; padding: 25px; margin-bottom: 25px;\">\n",
       "        <div style=\"max-width: 550px; margin: 0 auto;\">\n",
       "            <p><strong><a href=\"https://searchcaster.xyz/search?merkleRoot=0x4afeaf2d812bff9483efe12ba2e1dd4066f89468\" target=\"_blank\">merkleRoot</a></strong></p>\n",
       "            <p><strong>@peter · fid 577</strong></p>\n",
       "            <div style=\"word-wrap: break-word; margin: 10px 0;\">gn, first concert since COVID </div>\n",
       "    <div style=\"text-align: center;\"><img src=\"https://i.imgur.com/0gkE1ra.jpg\" style=\"max-width: 550px; margin-top: 10px;\"></div><p style=\"color: purple; margin: 10px 0 0;\">&#x1F49C; 19 <span style=\"margin-left: 5px; margin-top: 10px;\">&#x1F4AC; 1</span></p></div></div>"
      ],
      "text/plain": [
       "<IPython.core.display.HTML object>"
      ]
     },
     "metadata": {},
     "output_type": "display_data"
    },
    {
     "data": {
      "text/html": [
       "\n",
       "    <div style=\"border: 1px solid #ccc; max-width: 600px; padding: 25px; margin-bottom: 25px;\">\n",
       "        <div style=\"max-width: 550px; margin: 0 auto;\">\n",
       "            <p><strong><a href=\"https://searchcaster.xyz/search?merkleRoot=0x022f9bcb203acef3c2b8ca4df1a1143ca1c4c8c5\" target=\"_blank\">merkleRoot</a></strong></p>\n",
       "            <p><strong>@pzakin · fid 257</strong></p>\n",
       "            <div style=\"word-wrap: break-word; margin: 10px 0;\">Something I've wanted to build for a long time: a tool that will transform PDFs into well-formatted hypertext. Built-in commenting, annotating with peers etc...</div>\n",
       "    <p style=\"color: purple; margin: 10px 0 0;\">&#x1F49C; 19 <span style=\"margin-left: 5px; margin-top: 10px;\">&#x1F4AC; 6</span></p></div></div>"
      ],
      "text/plain": [
       "<IPython.core.display.HTML object>"
      ]
     },
     "metadata": {},
     "output_type": "display_data"
    },
    {
     "data": {
      "text/html": [
       "\n",
       "    <div style=\"border: 1px solid #ccc; max-width: 600px; padding: 25px; margin-bottom: 25px;\">\n",
       "        <div style=\"max-width: 550px; margin: 0 auto;\">\n",
       "            <p><strong><a href=\"https://searchcaster.xyz/search?merkleRoot=0x00c32307aae1c20fdfc6385b2c3ef73c2c9fbce8\" target=\"_blank\">merkleRoot</a></strong></p>\n",
       "            <p><strong>@zachterrell · fid 457</strong></p>\n",
       "            <div style=\"word-wrap: break-word; margin: 10px 0;\">gm from long island </div>\n",
       "    <div style=\"text-align: center;\"><img src=\"https://i.imgur.com/f03nUfW.jpg\" style=\"max-width: 550px; margin-top: 10px;\"></div><p style=\"color: purple; margin: 10px 0 0;\">&#x1F49C; 19 <span style=\"margin-left: 5px; margin-top: 10px;\">&#x1F4AC; 1</span></p></div></div>"
      ],
      "text/plain": [
       "<IPython.core.display.HTML object>"
      ]
     },
     "metadata": {},
     "output_type": "display_data"
    },
    {
     "data": {
      "text/html": [
       "\n",
       "    <div style=\"border: 1px solid #ccc; max-width: 600px; padding: 25px; margin-bottom: 25px;\">\n",
       "        <div style=\"max-width: 550px; margin: 0 auto;\">\n",
       "            <p><strong><a href=\"https://searchcaster.xyz/search?merkleRoot=0x255e7a93b70d7eafa575582584345429b6d58b82\" target=\"_blank\">merkleRoot</a></strong></p>\n",
       "            <p><strong>@colin · fid 378</strong></p>\n",
       "            <div style=\"word-wrap: break-word; margin: 10px 0;\">FC feature request: from the notification pane, an easy way to follow people that followed me: <br><br>@dwr  </div>\n",
       "    <div style=\"text-align: center;\"><img src=\"https://i.imgur.com/TRr0K5d.png\" style=\"max-width: 550px; margin-top: 10px;\"></div><p style=\"color: purple; margin: 10px 0 0;\">&#x1F49C; 19 <span style=\"margin-left: 5px; margin-top: 10px;\">&#x1F4AC; 6</span></p></div></div>"
      ],
      "text/plain": [
       "<IPython.core.display.HTML object>"
      ]
     },
     "metadata": {},
     "output_type": "display_data"
    },
    {
     "data": {
      "text/html": [
       "\n",
       "    <div style=\"border: 1px solid #ccc; max-width: 600px; padding: 25px; margin-bottom: 25px;\">\n",
       "        <div style=\"max-width: 550px; margin: 0 auto;\">\n",
       "            <p><strong><a href=\"https://searchcaster.xyz/search?merkleRoot=0xe809178e369c5b1cc89c4c03efbaaba1fd235a56\" target=\"_blank\">merkleRoot</a></strong></p>\n",
       "            <p><strong>@dwr · fid 3</strong></p>\n",
       "            <div style=\"word-wrap: break-word; margin: 10px 0;\">Seems like a todo app that’s hyper-focused on pairs of people would do well. No need for focusing on teams, just partners in the general sense of the term.</div>\n",
       "    <p style=\"color: purple; margin: 10px 0 0;\">&#x1F49C; 19 <span style=\"margin-left: 5px; margin-top: 10px;\">&#x1F4AC; 7</span></p></div></div>"
      ],
      "text/plain": [
       "<IPython.core.display.HTML object>"
      ]
     },
     "metadata": {},
     "output_type": "display_data"
    },
    {
     "data": {
      "text/html": [
       "\n",
       "    <div style=\"border: 1px solid #ccc; max-width: 600px; padding: 25px; margin-bottom: 25px;\">\n",
       "        <div style=\"max-width: 550px; margin: 0 auto;\">\n",
       "            <p><strong><a href=\"https://searchcaster.xyz/search?merkleRoot=0x622e1c54b1cfafb63cb566807e556fb6cb9ace23\" target=\"_blank\">merkleRoot</a></strong></p>\n",
       "            <p><strong>@salvino · fid 734</strong></p>\n",
       "            <div style=\"word-wrap: break-word; margin: 10px 0;\">got to meet/get dinner with the infamous tinkerer @gregskril tonight!<br><br>shout out to farcaster for the new fren</div>\n",
       "    <p style=\"color: purple; margin: 10px 0 0;\">&#x1F49C; 19 <span style=\"margin-left: 5px; margin-top: 10px;\">&#x1F4AC; 2</span></p></div></div>"
      ],
      "text/plain": [
       "<IPython.core.display.HTML object>"
      ]
     },
     "metadata": {},
     "output_type": "display_data"
    },
    {
     "data": {
      "text/html": [
       "\n",
       "    <div style=\"border: 1px solid #ccc; max-width: 600px; padding: 25px; margin-bottom: 25px;\">\n",
       "        <div style=\"max-width: 550px; margin: 0 auto;\">\n",
       "            <p><strong><a href=\"https://searchcaster.xyz/search?merkleRoot=0x807fdf7b42a80466c6c36b778fcc5bac4b368188\" target=\"_blank\">merkleRoot</a></strong></p>\n",
       "            <p><strong>@nonlinear · fid 576</strong></p>\n",
       "            <div style=\"word-wrap: break-word; margin: 10px 0;\">fc irl w/ @peterkim !!! </div>\n",
       "    <div style=\"text-align: center;\"><img src=\"https://i.imgur.com/qKLUycc.jpg\" style=\"max-width: 550px; margin-top: 10px;\"></div><p style=\"color: purple; margin: 10px 0 0;\">&#x1F49C; 19 <span style=\"margin-left: 5px; margin-top: 10px;\">&#x1F4AC; 1</span></p></div></div>"
      ],
      "text/plain": [
       "<IPython.core.display.HTML object>"
      ]
     },
     "metadata": {},
     "output_type": "display_data"
    },
    {
     "data": {
      "text/html": [
       "\n",
       "    <div style=\"border: 1px solid #ccc; max-width: 600px; padding: 25px; margin-bottom: 25px;\">\n",
       "        <div style=\"max-width: 550px; margin: 0 auto;\">\n",
       "            <p><strong><a href=\"https://searchcaster.xyz/search?merkleRoot=0xe20dc7f5ba51f4653e549a74ca0337674799450d\" target=\"_blank\">merkleRoot</a></strong></p>\n",
       "            <p><strong>@mg · fid 125</strong></p>\n",
       "            <div style=\"word-wrap: break-word; margin: 10px 0;\">Kicking off a new personal blog with an experiment.<br><br>Would it be interesting to post early previews of new posts here on FC first, with an open public pull request for people to add edits/questions/suggestions?<br><br>PR → <a href=\"https://bit.ly/3ONLVSP\" target=\"_blank\">https://bit.ly/3ONLVSP</a><br>Blog post → <a href=\"https://bit.ly/3BuvzeF\" target=\"_blank\">https://bit.ly/3BuvzeF</a><br><br>Lmk!</div>\n",
       "    <p style=\"color: purple; margin: 10px 0 0;\">&#x1F49C; 19 <span style=\"margin-left: 5px; margin-top: 10px;\">&#x1F4AC; 5</span></p></div></div>"
      ],
      "text/plain": [
       "<IPython.core.display.HTML object>"
      ]
     },
     "metadata": {},
     "output_type": "display_data"
    },
    {
     "data": {
      "text/html": [
       "\n",
       "    <div style=\"border: 1px solid #ccc; max-width: 600px; padding: 25px; margin-bottom: 25px;\">\n",
       "        <div style=\"max-width: 550px; margin: 0 auto;\">\n",
       "            <p><strong><a href=\"https://searchcaster.xyz/search?merkleRoot=0x0e23125df86cc43b5481830da8d47891d54e993e\" target=\"_blank\">merkleRoot</a></strong></p>\n",
       "            <p><strong>@nick · fid 108</strong></p>\n",
       "            <div style=\"word-wrap: break-word; margin: 10px 0;\">Why does an increase in wealth tend to decrease creativity? </div>\n",
       "    <div style=\"text-align: center;\"><img src=\"https://i.imgur.com/YUTCnMi.jpg\" style=\"max-width: 550px; margin-top: 10px;\"></div><p style=\"color: purple; margin: 10px 0 0;\">&#x1F49C; 19 <span style=\"margin-left: 5px; margin-top: 10px;\">&#x1F4AC; 12</span></p></div></div>"
      ],
      "text/plain": [
       "<IPython.core.display.HTML object>"
      ]
     },
     "metadata": {},
     "output_type": "display_data"
    },
    {
     "data": {
      "text/html": [
       "\n",
       "    <div style=\"border: 1px solid #ccc; max-width: 600px; padding: 25px; margin-bottom: 25px;\">\n",
       "        <div style=\"max-width: 550px; margin: 0 auto;\">\n",
       "            <p><strong><a href=\"https://searchcaster.xyz/search?merkleRoot=0xc9fa86e1be1571cf642d8b7a7e06580f87b75f4a\" target=\"_blank\">merkleRoot</a></strong></p>\n",
       "            <p><strong>@corbpage · fid 358</strong></p>\n",
       "            <div style=\"word-wrap: break-word; margin: 10px 0;\">💬🗺️ Web3 Social Market Map 🗺️💬<br><br>Here's a comprehensive view into post-launch projects building Web3 social and chat apps!<br><br>Including those building on top of @farcaster!<br><br><a href=\"https://twitter.com/corbpage/status/1554469752168390656\" target=\"_blank\">https://twitter.com/corbpage/status/1554469752168390656</a> </div>\n",
       "    <div style=\"text-align: center;\"><img src=\"https://i.imgur.com/VZ3sdkr.jpg\" style=\"max-width: 550px; margin-top: 10px;\"></div><p style=\"color: purple; margin: 10px 0 0;\">&#x1F49C; 19 <span style=\"margin-left: 5px; margin-top: 10px;\">&#x1F4AC; 6</span></p></div></div>"
      ],
      "text/plain": [
       "<IPython.core.display.HTML object>"
      ]
     },
     "metadata": {},
     "output_type": "display_data"
    },
    {
     "data": {
      "text/html": [
       "\n",
       "    <div style=\"border: 1px solid #ccc; max-width: 600px; padding: 25px; margin-bottom: 25px;\">\n",
       "        <div style=\"max-width: 550px; margin: 0 auto;\">\n",
       "            <p><strong><a href=\"https://searchcaster.xyz/search?merkleRoot=0x25b8941eb5c5181e5c502c9fc611bc3730f10a99\" target=\"_blank\">merkleRoot</a></strong></p>\n",
       "            <p><strong>@brenner · fid 60</strong></p>\n",
       "            <div style=\"word-wrap: break-word; margin: 10px 0;\">Nyc is down for Hyperstructures </div>\n",
       "    <div style=\"text-align: center;\"><img src=\"https://i.imgur.com/6wCBJgL.jpg\" style=\"max-width: 550px; margin-top: 10px;\"></div><p style=\"color: purple; margin: 10px 0 0;\">&#x1F49C; 19 <span style=\"margin-left: 5px; margin-top: 10px;\">&#x1F4AC; 1</span></p></div></div>"
      ],
      "text/plain": [
       "<IPython.core.display.HTML object>"
      ]
     },
     "metadata": {},
     "output_type": "display_data"
    },
    {
     "data": {
      "text/html": [
       "\n",
       "    <div style=\"border: 1px solid #ccc; max-width: 600px; padding: 25px; margin-bottom: 25px;\">\n",
       "        <div style=\"max-width: 550px; margin: 0 auto;\">\n",
       "            <p><strong><a href=\"https://searchcaster.xyz/search?merkleRoot=0x80228386616c44cde30a5e0816e226b55631ac3c\" target=\"_blank\">merkleRoot</a></strong></p>\n",
       "            <p><strong>@family · fid 1151</strong></p>\n",
       "            <div style=\"word-wrap: break-word; margin: 10px 0;\">ICYMI: Yesterday we released ConnectKit –– a powerful React component library for adding a user-friendly wallet connection experience to your app. It's available now in public beta: docs.family.co</div>\n",
       "    <p style=\"color: purple; margin: 10px 0 0;\">&#x1F49C; 19 <span style=\"margin-left: 5px; margin-top: 10px;\">&#x1F4AC; 2</span></p></div></div>"
      ],
      "text/plain": [
       "<IPython.core.display.HTML object>"
      ]
     },
     "metadata": {},
     "output_type": "display_data"
    },
    {
     "data": {
      "text/html": [
       "\n",
       "    <div style=\"border: 1px solid #ccc; max-width: 600px; padding: 25px; margin-bottom: 25px;\">\n",
       "        <div style=\"max-width: 550px; margin: 0 auto;\">\n",
       "            <p><strong><a href=\"https://searchcaster.xyz/search?merkleRoot=0x4a203db82cad979670469a1139bfefaf783de2c9\" target=\"_blank\">merkleRoot</a></strong></p>\n",
       "            <p><strong>@neuroswish · fid 127</strong></p>\n",
       "            <div style=\"word-wrap: break-word; margin: 10px 0;\">friday night you know what that means </div>\n",
       "    <div style=\"text-align: center;\"><img src=\"https://i.imgur.com/GfkTjCx.jpg\" style=\"max-width: 550px; margin-top: 10px;\"></div><p style=\"color: purple; margin: 10px 0 0;\">&#x1F49C; 18 <span style=\"margin-left: 5px; margin-top: 10px;\">&#x1F4AC; 2</span></p></div></div>"
      ],
      "text/plain": [
       "<IPython.core.display.HTML object>"
      ]
     },
     "metadata": {},
     "output_type": "display_data"
    },
    {
     "data": {
      "text/html": [
       "\n",
       "    <div style=\"border: 1px solid #ccc; max-width: 600px; padding: 25px; margin-bottom: 25px;\">\n",
       "        <div style=\"max-width: 550px; margin: 0 auto;\">\n",
       "            <p><strong><a href=\"https://searchcaster.xyz/search?merkleRoot=0x25442c10bce759c63f981282d21771cc9a1abffc\" target=\"_blank\">merkleRoot</a></strong></p>\n",
       "            <p><strong>@dmlb · fid 297</strong></p>\n",
       "            <div style=\"word-wrap: break-word; margin: 10px 0;\">Bebcaster x FarCarte collab:<br><br>now farcarte.xyz has links to bebcaster groups - you can see who's around and join your local FC community </div>\n",
       "    <div style=\"text-align: center;\"><img src=\"https://i.imgur.com/7vfTeag.jpg\" style=\"max-width: 550px; margin-top: 10px;\"></div><p style=\"color: purple; margin: 10px 0 0;\">&#x1F49C; 18 <span style=\"margin-left: 5px; margin-top: 10px;\">&#x1F4AC; 4</span></p></div></div>"
      ],
      "text/plain": [
       "<IPython.core.display.HTML object>"
      ]
     },
     "metadata": {},
     "output_type": "display_data"
    },
    {
     "data": {
      "text/html": [
       "\n",
       "    <div style=\"border: 1px solid #ccc; max-width: 600px; padding: 25px; margin-bottom: 25px;\">\n",
       "        <div style=\"max-width: 550px; margin: 0 auto;\">\n",
       "            <p><strong><a href=\"https://searchcaster.xyz/search?merkleRoot=0xf4e0d30a424cbff714b272cff6f0657772ae0c94\" target=\"_blank\">merkleRoot</a></strong></p>\n",
       "            <p><strong>@dwr · fid 3</strong></p>\n",
       "            <div style=\"word-wrap: break-word; margin: 10px 0;\">Your favorite developer docs?<br><br>1. Venture-backed company<br><br>2. Open source or community-driven project</div>\n",
       "    <p style=\"color: purple; margin: 10px 0 0;\">&#x1F49C; 18 <span style=\"margin-left: 5px; margin-top: 10px;\">&#x1F4AC; 16</span></p></div></div>"
      ],
      "text/plain": [
       "<IPython.core.display.HTML object>"
      ]
     },
     "metadata": {},
     "output_type": "display_data"
    },
    {
     "data": {
      "text/html": [
       "\n",
       "    <div style=\"border: 1px solid #ccc; max-width: 600px; padding: 25px; margin-bottom: 25px;\">\n",
       "        <div style=\"max-width: 550px; margin: 0 auto;\">\n",
       "            <p><strong><a href=\"https://searchcaster.xyz/search?merkleRoot=0xfc05a30a0bcf29cc0da7459bbed242a72c6542dc\" target=\"_blank\">merkleRoot</a></strong></p>\n",
       "            <p><strong>@cortex · fid 1155</strong></p>\n",
       "            <div style=\"word-wrap: break-word; margin: 10px 0;\">ga 👀👀</div>\n",
       "    <p style=\"color: purple; margin: 10px 0 0;\">&#x1F49C; 18 <span style=\"margin-left: 5px; margin-top: 10px;\">&#x1F4AC; 0</span></p></div></div>"
      ],
      "text/plain": [
       "<IPython.core.display.HTML object>"
      ]
     },
     "metadata": {},
     "output_type": "display_data"
    },
    {
     "data": {
      "text/html": [
       "\n",
       "    <div style=\"border: 1px solid #ccc; max-width: 600px; padding: 25px; margin-bottom: 25px;\">\n",
       "        <div style=\"max-width: 550px; margin: 0 auto;\">\n",
       "            <p><strong><a href=\"https://searchcaster.xyz/search?merkleRoot=0xf77739336fb20879fda558b4fd8eaaf52b134054\" target=\"_blank\">merkleRoot</a></strong></p>\n",
       "            <p><strong>@n · fid 274</strong></p>\n",
       "            <div style=\"word-wrap: break-word; margin: 10px 0;\">Some of my favorite memories on FC:<br><br>- Thicc CAST button<br>- Recast button on the right side resulting in mass recasts instead of likes<br>-  A 10px x 4000px image taking over the feed</div>\n",
       "    <p style=\"color: purple; margin: 10px 0 0;\">&#x1F49C; 18 <span style=\"margin-left: 5px; margin-top: 10px;\">&#x1F4AC; 2</span></p></div></div>"
      ],
      "text/plain": [
       "<IPython.core.display.HTML object>"
      ]
     },
     "metadata": {},
     "output_type": "display_data"
    },
    {
     "data": {
      "text/html": [
       "\n",
       "    <div style=\"border: 1px solid #ccc; max-width: 600px; padding: 25px; margin-bottom: 25px;\">\n",
       "        <div style=\"max-width: 550px; margin: 0 auto;\">\n",
       "            <p><strong><a href=\"https://searchcaster.xyz/search?merkleRoot=0xb8b3cfa571afe6b303bf89d33f621351240643eb\" target=\"_blank\">merkleRoot</a></strong></p>\n",
       "            <p><strong>@madeline · fid 824</strong></p>\n",
       "            <div style=\"word-wrap: break-word; margin: 10px 0;\">the problem with DAOs is people join them the same way they sign up for clubs in high school-- write down name, then walk away</div>\n",
       "    <p style=\"color: purple; margin: 10px 0 0;\">&#x1F49C; 18 <span style=\"margin-left: 5px; margin-top: 10px;\">&#x1F4AC; 4</span></p></div></div>"
      ],
      "text/plain": [
       "<IPython.core.display.HTML object>"
      ]
     },
     "metadata": {},
     "output_type": "display_data"
    },
    {
     "data": {
      "text/html": [
       "\n",
       "    <div style=\"border: 1px solid #ccc; max-width: 600px; padding: 25px; margin-bottom: 25px;\">\n",
       "        <div style=\"max-width: 550px; margin: 0 auto;\">\n",
       "            <p><strong><a href=\"https://searchcaster.xyz/search?merkleRoot=0x3dc3f32ad3b55d951e474e7d6b7149c03e2acf9e\" target=\"_blank\">merkleRoot</a></strong></p>\n",
       "            <p><strong>@sam · fid 39</strong></p>\n",
       "            <div style=\"word-wrap: break-word; margin: 10px 0;\">dude what </div>\n",
       "    <div style=\"text-align: center;\"><img src=\"https://i.imgur.com/k042iZI.jpg\" style=\"max-width: 550px; margin-top: 10px;\"></div><p style=\"color: purple; margin: 10px 0 0;\">&#x1F49C; 18 <span style=\"margin-left: 5px; margin-top: 10px;\">&#x1F4AC; 6</span></p></div></div>"
      ],
      "text/plain": [
       "<IPython.core.display.HTML object>"
      ]
     },
     "metadata": {},
     "output_type": "display_data"
    },
    {
     "data": {
      "text/html": [
       "\n",
       "    <div style=\"border: 1px solid #ccc; max-width: 600px; padding: 25px; margin-bottom: 25px;\">\n",
       "        <div style=\"max-width: 550px; margin: 0 auto;\">\n",
       "            <p><strong><a href=\"https://searchcaster.xyz/search?merkleRoot=0x293289e844894a8e15c75de6b42a10589c3db5da\" target=\"_blank\">merkleRoot</a></strong></p>\n",
       "            <p><strong>@pushix · fid 359</strong></p>\n",
       "            <div style=\"word-wrap: break-word; margin: 10px 0;\">gm </div>\n",
       "    <div style=\"text-align: center;\"><img src=\"https://i.imgur.com/h3upe3e.jpg\" style=\"max-width: 550px; margin-top: 10px;\"></div><p style=\"color: purple; margin: 10px 0 0;\">&#x1F49C; 18 <span style=\"margin-left: 5px; margin-top: 10px;\">&#x1F4AC; 0</span></p></div></div>"
      ],
      "text/plain": [
       "<IPython.core.display.HTML object>"
      ]
     },
     "metadata": {},
     "output_type": "display_data"
    },
    {
     "data": {
      "text/html": [
       "\n",
       "    <div style=\"border: 1px solid #ccc; max-width: 600px; padding: 25px; margin-bottom: 25px;\">\n",
       "        <div style=\"max-width: 550px; margin: 0 auto;\">\n",
       "            <p><strong><a href=\"https://searchcaster.xyz/search?merkleRoot=0xe8f454d73230cabaf3f901338f3f7095b4a25de5\" target=\"_blank\">merkleRoot</a></strong></p>\n",
       "            <p><strong>@greg · fid 347</strong></p>\n",
       "            <div style=\"word-wrap: break-word; margin: 10px 0;\">gn, solid weekend.<br><br>- ate chipotle <br>- touched grass <br>- celebrated my dad's bday with family <br>- started learning how to make a node library <br>- shipped searchcaster rewrite in next.js (no visible changes yet)</div>\n",
       "    <p style=\"color: purple; margin: 10px 0 0;\">&#x1F49C; 17 <span style=\"margin-left: 5px; margin-top: 10px;\">&#x1F4AC; 0</span></p></div></div>"
      ],
      "text/plain": [
       "<IPython.core.display.HTML object>"
      ]
     },
     "metadata": {},
     "output_type": "display_data"
    },
    {
     "data": {
      "text/html": [
       "\n",
       "    <div style=\"border: 1px solid #ccc; max-width: 600px; padding: 25px; margin-bottom: 25px;\">\n",
       "        <div style=\"max-width: 550px; margin: 0 auto;\">\n",
       "            <p><strong><a href=\"https://searchcaster.xyz/search?merkleRoot=0xb1c12cddb45e06bb21864dba5920f3d506b7a687\" target=\"_blank\">merkleRoot</a></strong></p>\n",
       "            <p><strong>@noah · fid 4</strong></p>\n",
       "            <div style=\"word-wrap: break-word; margin: 10px 0;\">Gm Dadcasters who woke up easier than planned</div>\n",
       "    <p style=\"color: purple; margin: 10px 0 0;\">&#x1F49C; 17 <span style=\"margin-left: 5px; margin-top: 10px;\">&#x1F4AC; 5</span></p></div></div>"
      ],
      "text/plain": [
       "<IPython.core.display.HTML object>"
      ]
     },
     "metadata": {},
     "output_type": "display_data"
    },
    {
     "data": {
      "text/html": [
       "\n",
       "    <div style=\"border: 1px solid #ccc; max-width: 600px; padding: 25px; margin-bottom: 25px;\">\n",
       "        <div style=\"max-width: 550px; margin: 0 auto;\">\n",
       "            <p><strong><a href=\"https://searchcaster.xyz/search?merkleRoot=0xb927d59c8d8341f4e083d2f4583e46f0fe39fcca\" target=\"_blank\">merkleRoot</a></strong></p>\n",
       "            <p><strong>@n · fid 274</strong></p>\n",
       "            <div style=\"word-wrap: break-word; margin: 10px 0;\">gn from travelcaster.xyz </div>\n",
       "    <div style=\"text-align: center;\"><img src=\"https://i.imgur.com/wtyibib.jpg\" style=\"max-width: 550px; margin-top: 10px;\"></div><p style=\"color: purple; margin: 10px 0 0;\">&#x1F49C; 17 <span style=\"margin-left: 5px; margin-top: 10px;\">&#x1F4AC; 0</span></p></div></div>"
      ],
      "text/plain": [
       "<IPython.core.display.HTML object>"
      ]
     },
     "metadata": {},
     "output_type": "display_data"
    },
    {
     "data": {
      "text/html": [
       "\n",
       "    <div style=\"border: 1px solid #ccc; max-width: 600px; padding: 25px; margin-bottom: 25px;\">\n",
       "        <div style=\"max-width: 550px; margin: 0 auto;\">\n",
       "            <p><strong><a href=\"https://searchcaster.xyz/search?merkleRoot=0xa35cd617b9319b8de628f4f5336cf71cc70b3c0b\" target=\"_blank\">merkleRoot</a></strong></p>\n",
       "            <p><strong>@jc · fid 251</strong></p>\n",
       "            <div style=\"word-wrap: break-word; margin: 10px 0;\">gm, screen time thread, Farcaster is #2 👀 </div>\n",
       "    <div style=\"text-align: center;\"><img src=\"https://i.imgur.com/zLwBx47.jpg\" style=\"max-width: 550px; margin-top: 10px;\"></div><p style=\"color: purple; margin: 10px 0 0;\">&#x1F49C; 17 <span style=\"margin-left: 5px; margin-top: 10px;\">&#x1F4AC; 2</span></p></div></div>"
      ],
      "text/plain": [
       "<IPython.core.display.HTML object>"
      ]
     },
     "metadata": {},
     "output_type": "display_data"
    },
    {
     "data": {
      "text/html": [
       "\n",
       "    <div style=\"border: 1px solid #ccc; max-width: 600px; padding: 25px; margin-bottom: 25px;\">\n",
       "        <div style=\"max-width: 550px; margin: 0 auto;\">\n",
       "            <p><strong><a href=\"https://searchcaster.xyz/search?merkleRoot=0x87fd4ba3a4295849a3b2f2bdf76a0d18dbc47f9e\" target=\"_blank\">merkleRoot</a></strong></p>\n",
       "            <p><strong>@shotbydanni · fid 340</strong></p>\n",
       "            <div style=\"word-wrap: break-word; margin: 10px 0;\">Made this for Farcaster on DALL•E </div>\n",
       "    <div style=\"text-align: center;\"><img src=\"https://i.imgur.com/eKVOww4.jpg\" style=\"max-width: 550px; margin-top: 10px;\"></div><p style=\"color: purple; margin: 10px 0 0;\">&#x1F49C; 16 <span style=\"margin-left: 5px; margin-top: 10px;\">&#x1F4AC; 3</span></p></div></div>"
      ],
      "text/plain": [
       "<IPython.core.display.HTML object>"
      ]
     },
     "metadata": {},
     "output_type": "display_data"
    },
    {
     "data": {
      "text/html": [
       "\n",
       "    <div style=\"border: 1px solid #ccc; max-width: 600px; padding: 25px; margin-bottom: 25px;\">\n",
       "        <div style=\"max-width: 550px; margin: 0 auto;\">\n",
       "            <p><strong><a href=\"https://searchcaster.xyz/search?merkleRoot=0xd4ab69359e8819c50a022dccdede153610bb4879\" target=\"_blank\">merkleRoot</a></strong></p>\n",
       "            <p><strong>@giu · fid 124</strong></p>\n",
       "            <div style=\"word-wrap: break-word; margin: 10px 0;\">😂🤣 </div>\n",
       "    <div style=\"text-align: center;\"><img src=\"https://i.imgur.com/gqZbFc5.png\" style=\"max-width: 550px; margin-top: 10px;\"></div><p style=\"color: purple; margin: 10px 0 0;\">&#x1F49C; 16 <span style=\"margin-left: 5px; margin-top: 10px;\">&#x1F4AC; 0</span></p></div></div>"
      ],
      "text/plain": [
       "<IPython.core.display.HTML object>"
      ]
     },
     "metadata": {},
     "output_type": "display_data"
    },
    {
     "data": {
      "text/html": [
       "\n",
       "    <div style=\"border: 1px solid #ccc; max-width: 600px; padding: 25px; margin-bottom: 25px;\">\n",
       "        <div style=\"max-width: 550px; margin: 0 auto;\">\n",
       "            <p><strong><a href=\"https://searchcaster.xyz/search?merkleRoot=0x6112e721bb7c13d50756db890220895e2f9503be\" target=\"_blank\">merkleRoot</a></strong></p>\n",
       "            <p><strong>@neuroswish · fid 127</strong></p>\n",
       "            <div style=\"word-wrap: break-word; margin: 10px 0;\">snapchat+ ($3.99/mo) has already done $7.3M in rev after a month, compared to twitter blue ($2.99/mo) generating $4M after 1 year.<br><br>obv a lot of different variables here, but imo the main reason is that the premium sc features are a lot more compelling than twitter's</div>\n",
       "    <p style=\"color: purple; margin: 10px 0 0;\">&#x1F49C; 16 <span style=\"margin-left: 5px; margin-top: 10px;\">&#x1F4AC; 3</span></p></div></div>"
      ],
      "text/plain": [
       "<IPython.core.display.HTML object>"
      ]
     },
     "metadata": {},
     "output_type": "display_data"
    },
    {
     "data": {
      "text/html": [
       "\n",
       "    <div style=\"border: 1px solid #ccc; max-width: 600px; padding: 25px; margin-bottom: 25px;\">\n",
       "        <div style=\"max-width: 550px; margin: 0 auto;\">\n",
       "            <p><strong><a href=\"https://searchcaster.xyz/search?merkleRoot=0x2c6646b229223e2c329791580e0746d47dd3e1c4\" target=\"_blank\">merkleRoot</a></strong></p>\n",
       "            <p><strong>@matallo · fid 626</strong></p>\n",
       "            <div style=\"word-wrap: break-word; margin: 10px 0;\">ga, added some small improvements to pincaster.xyz now you can delete Saved casts </div>\n",
       "    <div style=\"text-align: center;\"><img src=\"https://i.imgur.com/j00atTW.jpg\" style=\"max-width: 550px; margin-top: 10px;\"></div><p style=\"color: purple; margin: 10px 0 0;\">&#x1F49C; 16 <span style=\"margin-left: 5px; margin-top: 10px;\">&#x1F4AC; 2</span></p></div></div>"
      ],
      "text/plain": [
       "<IPython.core.display.HTML object>"
      ]
     },
     "metadata": {},
     "output_type": "display_data"
    },
    {
     "data": {
      "text/html": [
       "\n",
       "    <div style=\"border: 1px solid #ccc; max-width: 600px; padding: 25px; margin-bottom: 25px;\">\n",
       "        <div style=\"max-width: 550px; margin: 0 auto;\">\n",
       "            <p><strong><a href=\"https://searchcaster.xyz/search?merkleRoot=0x89d8bd92a6a32dc04eec0d10ef74f500e1a07b20\" target=\"_blank\">merkleRoot</a></strong></p>\n",
       "            <p><strong>@dwr · fid 3</strong></p>\n",
       "            <div style=\"word-wrap: break-word; margin: 10px 0;\">What's an underrated positive trend that more people should know about?</div>\n",
       "    <p style=\"color: purple; margin: 10px 0 0;\">&#x1F49C; 16 <span style=\"margin-left: 5px; margin-top: 10px;\">&#x1F4AC; 7</span></p></div></div>"
      ],
      "text/plain": [
       "<IPython.core.display.HTML object>"
      ]
     },
     "metadata": {},
     "output_type": "display_data"
    },
    {
     "data": {
      "text/html": [
       "\n",
       "    <div style=\"border: 1px solid #ccc; max-width: 600px; padding: 25px; margin-bottom: 25px;\">\n",
       "        <div style=\"max-width: 550px; margin: 0 auto;\">\n",
       "            <p><strong><a href=\"https://searchcaster.xyz/search?merkleRoot=0x16325773e2c4325f040c8585c246a0fc6522d80d\" target=\"_blank\">merkleRoot</a></strong></p>\n",
       "            <p><strong>@nayshins · fid 862</strong></p>\n",
       "            <div style=\"word-wrap: break-word; margin: 10px 0;\">Hotels > AirBnb</div>\n",
       "    <p style=\"color: purple; margin: 10px 0 0;\">&#x1F49C; 16 <span style=\"margin-left: 5px; margin-top: 10px;\">&#x1F4AC; 7</span></p></div></div>"
      ],
      "text/plain": [
       "<IPython.core.display.HTML object>"
      ]
     },
     "metadata": {},
     "output_type": "display_data"
    },
    {
     "data": {
      "text/html": [
       "\n",
       "    <div style=\"border: 1px solid #ccc; max-width: 600px; padding: 25px; margin-bottom: 25px;\">\n",
       "        <div style=\"max-width: 550px; margin: 0 auto;\">\n",
       "            <p><strong><a href=\"https://searchcaster.xyz/search?merkleRoot=0x96f6ce48c9ea532694fb72e8e67b8f39b2171999\" target=\"_blank\">merkleRoot</a></strong></p>\n",
       "            <p><strong>@js · fid 368</strong></p>\n",
       "            <div style=\"word-wrap: break-word; margin: 10px 0;\">one flaw here is assuming that people will always see themselves as consumers of the internet, with no higher-order motivations<br><br>but \"consumers\" of the internet increasingly see themselves as something more like “citizens” of the internet </div>\n",
       "    <div style=\"text-align: center;\"><img src=\"https://i.imgur.com/a3eJrOM.png\" style=\"max-width: 550px; margin-top: 10px;\"></div><p style=\"color: purple; margin: 10px 0 0;\">&#x1F49C; 16 <span style=\"margin-left: 5px; margin-top: 10px;\">&#x1F4AC; 4</span></p></div></div>"
      ],
      "text/plain": [
       "<IPython.core.display.HTML object>"
      ]
     },
     "metadata": {},
     "output_type": "display_data"
    },
    {
     "data": {
      "text/html": [
       "\n",
       "    <div style=\"border: 1px solid #ccc; max-width: 600px; padding: 25px; margin-bottom: 25px;\">\n",
       "        <div style=\"max-width: 550px; margin: 0 auto;\">\n",
       "            <p><strong><a href=\"https://searchcaster.xyz/search?merkleRoot=0x42ccf5cb270d23049d822ddfa85b89b5354323a1\" target=\"_blank\">merkleRoot</a></strong></p>\n",
       "            <p><strong>@giu · fid 124</strong></p>\n",
       "            <div style=\"word-wrap: break-word; margin: 10px 0;\">TIL </div>\n",
       "    <div style=\"text-align: center;\"><img src=\"https://i.imgur.com/kAeMCwu.jpg\" style=\"max-width: 550px; margin-top: 10px;\"></div><p style=\"color: purple; margin: 10px 0 0;\">&#x1F49C; 16 <span style=\"margin-left: 5px; margin-top: 10px;\">&#x1F4AC; 5</span></p></div></div>"
      ],
      "text/plain": [
       "<IPython.core.display.HTML object>"
      ]
     },
     "metadata": {},
     "output_type": "display_data"
    },
    {
     "data": {
      "text/html": [
       "\n",
       "    <div style=\"border: 1px solid #ccc; max-width: 600px; padding: 25px; margin-bottom: 25px;\">\n",
       "        <div style=\"max-width: 550px; margin: 0 auto;\">\n",
       "            <p><strong><a href=\"https://searchcaster.xyz/search?merkleRoot=0xfa3b01b5ae4cfd29a238ee7f2c26b981cf02c50d\" target=\"_blank\">merkleRoot</a></strong></p>\n",
       "            <p><strong>@greg · fid 347</strong></p>\n",
       "            <div style=\"word-wrap: break-word; margin: 10px 0;\">Beautiful new wallet connection library inspired by RainbowKit <a href=\"https://docs.family.co/connectkit/try-it-out\" target=\"_blank\">https://docs.family.co/connectkit/try-it-out</a></div>\n",
       "    <p style=\"color: purple; margin: 10px 0 0;\">&#x1F49C; 16 <span style=\"margin-left: 5px; margin-top: 10px;\">&#x1F4AC; 2</span></p></div></div>"
      ],
      "text/plain": [
       "<IPython.core.display.HTML object>"
      ]
     },
     "metadata": {},
     "output_type": "display_data"
    },
    {
     "data": {
      "text/html": [
       "\n",
       "    <div style=\"border: 1px solid #ccc; max-width: 600px; padding: 25px; margin-bottom: 25px;\">\n",
       "        <div style=\"max-width: 550px; margin: 0 auto;\">\n",
       "            <p><strong><a href=\"https://searchcaster.xyz/search?merkleRoot=0x00b5563b9ae04b68bcd9de4d7e5dd46644766d92\" target=\"_blank\">merkleRoot</a></strong></p>\n",
       "            <p><strong>@brenner · fid 60</strong></p>\n",
       "            <div style=\"word-wrap: break-word; margin: 10px 0;\">Nouns DAO: rich friends funding open-source tools to better operate their own community, for the sake of it</div>\n",
       "    <p style=\"color: purple; margin: 10px 0 0;\">&#x1F49C; 16 <span style=\"margin-left: 5px; margin-top: 10px;\">&#x1F4AC; 0</span></p></div></div>"
      ],
      "text/plain": [
       "<IPython.core.display.HTML object>"
      ]
     },
     "metadata": {},
     "output_type": "display_data"
    },
    {
     "data": {
      "text/html": [
       "\n",
       "    <div style=\"border: 1px solid #ccc; max-width: 600px; padding: 25px; margin-bottom: 25px;\">\n",
       "        <div style=\"max-width: 550px; margin: 0 auto;\">\n",
       "            <p><strong><a href=\"https://searchcaster.xyz/search?merkleRoot=0xdc00d4b52660b5e010ea48591057ac2577b162a3\" target=\"_blank\">merkleRoot</a></strong></p>\n",
       "            <p><strong>@jc · fid 251</strong></p>\n",
       "            <div style=\"word-wrap: break-word; margin: 10px 0;\">Per @dmlb's request for Farcarte, we've added 11 new location-based Bebcaster groups! They are:<br><br>sfcaster.xyz<br>nyccaster.xyz<br>seattlecaster.xyz<br>miamicaster.xyz<br>austincaster.xyz<br>asiacaster.xyz<br>eurocaster.xyz<br>latincaster.xyz<br>ehcaster.xyz<br>aussiecaster.xyz<br>lacaster.xyz</div>\n",
       "    <p style=\"color: purple; margin: 10px 0 0;\">&#x1F49C; 16 <span style=\"margin-left: 5px; margin-top: 10px;\">&#x1F4AC; 4</span></p></div></div>"
      ],
      "text/plain": [
       "<IPython.core.display.HTML object>"
      ]
     },
     "metadata": {},
     "output_type": "display_data"
    },
    {
     "data": {
      "text/html": [
       "\n",
       "    <div style=\"border: 1px solid #ccc; max-width: 600px; padding: 25px; margin-bottom: 25px;\">\n",
       "        <div style=\"max-width: 550px; margin: 0 auto;\">\n",
       "            <p><strong><a href=\"https://searchcaster.xyz/search?merkleRoot=0x223e5d66b0242023005253437926079b648ef199\" target=\"_blank\">merkleRoot</a></strong></p>\n",
       "            <p><strong>@dwr · fid 3</strong></p>\n",
       "            <div style=\"word-wrap: break-word; margin: 10px 0;\">Also new on desktop: copy Farcaster URIs! Available in the new kebab menu. 🍡<br><br>(Ideal are of course web URLs, but at least functionality is the same as mobile. We're going to be adding web URLs in the fall when we start working on the web client.)<br> </div>\n",
       "    <div style=\"text-align: center;\"><img src=\"https://i.imgur.com/tM9wryv.png\" style=\"max-width: 550px; margin-top: 10px;\"></div><p style=\"color: purple; margin: 10px 0 0;\">&#x1F49C; 15 <span style=\"margin-left: 5px; margin-top: 10px;\">&#x1F4AC; 1</span></p></div></div>"
      ],
      "text/plain": [
       "<IPython.core.display.HTML object>"
      ]
     },
     "metadata": {},
     "output_type": "display_data"
    },
    {
     "data": {
      "text/html": [
       "\n",
       "    <div style=\"border: 1px solid #ccc; max-width: 600px; padding: 25px; margin-bottom: 25px;\">\n",
       "        <div style=\"max-width: 550px; margin: 0 auto;\">\n",
       "            <p><strong><a href=\"https://searchcaster.xyz/search?merkleRoot=0xe3301e5c6f8cf9e5915a8e124dcc191173d0beed\" target=\"_blank\">merkleRoot</a></strong></p>\n",
       "            <p><strong>@mattdesl · fid 1001</strong></p>\n",
       "            <div style=\"word-wrap: break-word; margin: 10px 0;\">Would love to make some blockchain-based p2p/CTF games inspired by old school arpanet & usenet terminals. For inspiration, check out the amazing Telehack emulator/simulator/game:<br><br><a href=\"https://telehack.com/\" target=\"_blank\">https://telehack.com/</a> </div>\n",
       "    <div style=\"text-align: center;\"><img src=\"https://i.imgur.com/LLrMy2E.png\" style=\"max-width: 550px; margin-top: 10px;\"></div><p style=\"color: purple; margin: 10px 0 0;\">&#x1F49C; 15 <span style=\"margin-left: 5px; margin-top: 10px;\">&#x1F4AC; 4</span></p></div></div>"
      ],
      "text/plain": [
       "<IPython.core.display.HTML object>"
      ]
     },
     "metadata": {},
     "output_type": "display_data"
    },
    {
     "data": {
      "text/html": [
       "\n",
       "    <div style=\"border: 1px solid #ccc; max-width: 600px; padding: 25px; margin-bottom: 25px;\">\n",
       "        <div style=\"max-width: 550px; margin: 0 auto;\">\n",
       "            <p><strong><a href=\"https://searchcaster.xyz/search?merkleRoot=0xac51faa358b47173bf7a54402ffe9f75fb2e21b4\" target=\"_blank\">merkleRoot</a></strong></p>\n",
       "            <p><strong>@brenner · fid 60</strong></p>\n",
       "            <div style=\"word-wrap: break-word; margin: 10px 0;\">Ok, Logbook going out this afternoon, if you want a low tokenID and want to help test any potential issues in the prod flow, drop our ENS here</div>\n",
       "    <p style=\"color: purple; margin: 10px 0 0;\">&#x1F49C; 15 <span style=\"margin-left: 5px; margin-top: 10px;\">&#x1F4AC; 35</span></p></div></div>"
      ],
      "text/plain": [
       "<IPython.core.display.HTML object>"
      ]
     },
     "metadata": {},
     "output_type": "display_data"
    },
    {
     "data": {
      "text/html": [
       "\n",
       "    <div style=\"border: 1px solid #ccc; max-width: 600px; padding: 25px; margin-bottom: 25px;\">\n",
       "        <div style=\"max-width: 550px; margin: 0 auto;\">\n",
       "            <p><strong><a href=\"https://searchcaster.xyz/search?merkleRoot=0x380df819aa909871d0c9127beafe261206e353ed\" target=\"_blank\">merkleRoot</a></strong></p>\n",
       "            <p><strong>@shotbydanni · fid 340</strong></p>\n",
       "            <div style=\"word-wrap: break-word; margin: 10px 0;\">Throw back photo of pharrell and I in the studio🎶￼ </div>\n",
       "    <div style=\"text-align: center;\"><img src=\"https://i.imgur.com/Y7sW8f8.jpg\" style=\"max-width: 550px; margin-top: 10px;\"></div><p style=\"color: purple; margin: 10px 0 0;\">&#x1F49C; 15 <span style=\"margin-left: 5px; margin-top: 10px;\">&#x1F4AC; 0</span></p></div></div>"
      ],
      "text/plain": [
       "<IPython.core.display.HTML object>"
      ]
     },
     "metadata": {},
     "output_type": "display_data"
    },
    {
     "data": {
      "text/html": [
       "\n",
       "    <div style=\"border: 1px solid #ccc; max-width: 600px; padding: 25px; margin-bottom: 25px;\">\n",
       "        <div style=\"max-width: 550px; margin: 0 auto;\">\n",
       "            <p><strong><a href=\"https://searchcaster.xyz/search?merkleRoot=0xed2117377eb6ed74076d702dbb92c388b4fd71a6\" target=\"_blank\">merkleRoot</a></strong></p>\n",
       "            <p><strong>@dwr · fid 3</strong></p>\n",
       "            <div style=\"word-wrap: break-word; margin: 10px 0;\">What’s your favorite anon Twitter account?</div>\n",
       "    <p style=\"color: purple; margin: 10px 0 0;\">&#x1F49C; 15 <span style=\"margin-left: 5px; margin-top: 10px;\">&#x1F4AC; 12</span></p></div></div>"
      ],
      "text/plain": [
       "<IPython.core.display.HTML object>"
      ]
     },
     "metadata": {},
     "output_type": "display_data"
    },
    {
     "data": {
      "text/html": [
       "\n",
       "    <div style=\"border: 1px solid #ccc; max-width: 600px; padding: 25px; margin-bottom: 25px;\">\n",
       "        <div style=\"max-width: 550px; margin: 0 auto;\">\n",
       "            <p><strong><a href=\"https://searchcaster.xyz/search?merkleRoot=0xef6b31ca92c133cd2af5bad51f2e63f8dc4af6e8\" target=\"_blank\">merkleRoot</a></strong></p>\n",
       "            <p><strong>@ace · fid 539</strong></p>\n",
       "            <div style=\"word-wrap: break-word; margin: 10px 0;\">Me: \"Over the weekend, I doodled a bit. what do you think?\" <br>@peterkim: \"Love it. So pumped!!\"<br><br>24h later..<br><br>@peterkim: *shares a url<br>Me: 🤯\"It's live !?\"<br>@peterkim: \"Yes.\"<br><br>Been a week, and it's been 🔥working together. Thank you Farcaster.  </div>\n",
       "    <div style=\"text-align: center;\"><img src=\"https://i.imgur.com/1h7tlTr.png\" style=\"max-width: 550px; margin-top: 10px;\"></div><p style=\"color: purple; margin: 10px 0 0;\">&#x1F49C; 15 <span style=\"margin-left: 5px; margin-top: 10px;\">&#x1F4AC; 1</span></p></div></div>"
      ],
      "text/plain": [
       "<IPython.core.display.HTML object>"
      ]
     },
     "metadata": {},
     "output_type": "display_data"
    },
    {
     "data": {
      "text/html": [
       "\n",
       "    <div style=\"border: 1px solid #ccc; max-width: 600px; padding: 25px; margin-bottom: 25px;\">\n",
       "        <div style=\"max-width: 550px; margin: 0 auto;\">\n",
       "            <p><strong><a href=\"https://searchcaster.xyz/search?merkleRoot=0xd38271fd39005348afc983ca568ca28d1d3001ef\" target=\"_blank\">merkleRoot</a></strong></p>\n",
       "            <p><strong>@thekevinz · fid 235</strong></p>\n",
       "            <div style=\"word-wrap: break-word; margin: 10px 0;\">Just launched a new version of our fully on chain game Curio. Check it out! <br><br><a href=\"https://curio.gg/\" target=\"_blank\">https://curio.gg/</a> </div>\n",
       "    <div style=\"text-align: center;\"><img src=\"https://i.imgur.com/ys51mTt.png\" style=\"max-width: 550px; margin-top: 10px;\"></div><p style=\"color: purple; margin: 10px 0 0;\">&#x1F49C; 15 <span style=\"margin-left: 5px; margin-top: 10px;\">&#x1F4AC; 1</span></p></div></div>"
      ],
      "text/plain": [
       "<IPython.core.display.HTML object>"
      ]
     },
     "metadata": {},
     "output_type": "display_data"
    },
    {
     "data": {
      "text/html": [
       "\n",
       "    <div style=\"border: 1px solid #ccc; max-width: 600px; padding: 25px; margin-bottom: 25px;\">\n",
       "        <div style=\"max-width: 550px; margin: 0 auto;\">\n",
       "            <p><strong><a href=\"https://searchcaster.xyz/search?merkleRoot=0x687e5528e7681e3212407243dd2fe4c7061014b6\" target=\"_blank\">merkleRoot</a></strong></p>\n",
       "            <p><strong>@brianjckim · fid 426</strong></p>\n",
       "            <div style=\"word-wrap: break-word; margin: 10px 0;\">gn </div>\n",
       "    <div style=\"text-align: center;\"><img src=\"https://i.imgur.com/nIeSdyB.jpg\" style=\"max-width: 550px; margin-top: 10px;\"></div><p style=\"color: purple; margin: 10px 0 0;\">&#x1F49C; 15 <span style=\"margin-left: 5px; margin-top: 10px;\">&#x1F4AC; 2</span></p></div></div>"
      ],
      "text/plain": [
       "<IPython.core.display.HTML object>"
      ]
     },
     "metadata": {},
     "output_type": "display_data"
    },
    {
     "data": {
      "text/html": [
       "\n",
       "    <div style=\"border: 1px solid #ccc; max-width: 600px; padding: 25px; margin-bottom: 25px;\">\n",
       "        <div style=\"max-width: 550px; margin: 0 auto;\">\n",
       "            <p><strong><a href=\"https://searchcaster.xyz/search?merkleRoot=0x8e9144a5efa08f4a8905c90186e45f86746fec0c\" target=\"_blank\">merkleRoot</a></strong></p>\n",
       "            <p><strong>@greg · fid 347</strong></p>\n",
       "            <div style=\"word-wrap: break-word; margin: 10px 0;\">This is still the most badass personal website <a href=\"http://imranchaudhri.com/\" target=\"_blank\">http://imranchaudhri.com/</a></div>\n",
       "    <p style=\"color: purple; margin: 10px 0 0;\">&#x1F49C; 14 <span style=\"margin-left: 5px; margin-top: 10px;\">&#x1F4AC; 0</span></p></div></div>"
      ],
      "text/plain": [
       "<IPython.core.display.HTML object>"
      ]
     },
     "metadata": {},
     "output_type": "display_data"
    },
    {
     "data": {
      "text/html": [
       "\n",
       "    <div style=\"border: 1px solid #ccc; max-width: 600px; padding: 25px; margin-bottom: 25px;\">\n",
       "        <div style=\"max-width: 550px; margin: 0 auto;\">\n",
       "            <p><strong><a href=\"https://searchcaster.xyz/search?merkleRoot=0xf7a7459477d78e0143767eb1c603ac3ae3adc8fc\" target=\"_blank\">merkleRoot</a></strong></p>\n",
       "            <p><strong>@kn · fid 258</strong></p>\n",
       "            <div style=\"word-wrap: break-word; margin: 10px 0;\">current status: vibing to the FC's beat </div>\n",
       "    <div style=\"text-align: center;\"><img src=\"https://i.imgur.com/4iQJbIF.png\" style=\"max-width: 550px; margin-top: 10px;\"></div><p style=\"color: purple; margin: 10px 0 0;\">&#x1F49C; 14 <span style=\"margin-left: 5px; margin-top: 10px;\">&#x1F4AC; 1</span></p></div></div>"
      ],
      "text/plain": [
       "<IPython.core.display.HTML object>"
      ]
     },
     "metadata": {},
     "output_type": "display_data"
    },
    {
     "data": {
      "text/html": [
       "\n",
       "    <div style=\"border: 1px solid #ccc; max-width: 600px; padding: 25px; margin-bottom: 25px;\">\n",
       "        <div style=\"max-width: 550px; margin: 0 auto;\">\n",
       "            <p><strong><a href=\"https://searchcaster.xyz/search?merkleRoot=0x354e3f4e858c00a847686329abeba20ec0e1e8ad\" target=\"_blank\">merkleRoot</a></strong></p>\n",
       "            <p><strong>@naveen · fid 351</strong></p>\n",
       "            <div style=\"word-wrap: break-word; margin: 10px 0;\">in nyc for the next two weeks<br><br>will organize drinks mid next week if anyone's around!<br><br>debating dropping a Cache Cocktails NFT to anyone that attends :)</div>\n",
       "    <p style=\"color: purple; margin: 10px 0 0;\">&#x1F49C; 14 <span style=\"margin-left: 5px; margin-top: 10px;\">&#x1F4AC; 2</span></p></div></div>"
      ],
      "text/plain": [
       "<IPython.core.display.HTML object>"
      ]
     },
     "metadata": {},
     "output_type": "display_data"
    },
    {
     "data": {
      "text/html": [
       "\n",
       "    <div style=\"border: 1px solid #ccc; max-width: 600px; padding: 25px; margin-bottom: 25px;\">\n",
       "        <div style=\"max-width: 550px; margin: 0 auto;\">\n",
       "            <p><strong><a href=\"https://searchcaster.xyz/search?merkleRoot=0x65d27aa5665c1d735a87377a3d8533fe033ad638\" target=\"_blank\">merkleRoot</a></strong></p>\n",
       "            <p><strong>@peter · fid 577</strong></p>\n",
       "            <div style=\"word-wrap: break-word; margin: 10px 0;\">FC IRL with @nonlinear! </div>\n",
       "    <div style=\"text-align: center;\"><img src=\"https://i.imgur.com/zYJjJhB.jpg\" style=\"max-width: 550px; margin-top: 10px;\"></div><p style=\"color: purple; margin: 10px 0 0;\">&#x1F49C; 14 <span style=\"margin-left: 5px; margin-top: 10px;\">&#x1F4AC; 0</span></p></div></div>"
      ],
      "text/plain": [
       "<IPython.core.display.HTML object>"
      ]
     },
     "metadata": {},
     "output_type": "display_data"
    },
    {
     "data": {
      "text/html": [
       "\n",
       "    <div style=\"border: 1px solid #ccc; max-width: 600px; padding: 25px; margin-bottom: 25px;\">\n",
       "        <div style=\"max-width: 550px; margin: 0 auto;\">\n",
       "            <p><strong><a href=\"https://searchcaster.xyz/search?merkleRoot=0x2358c22646a76d25466418f29fe557e7083e362e\" target=\"_blank\">merkleRoot</a></strong></p>\n",
       "            <p><strong>@n · fid 274</strong></p>\n",
       "            <div style=\"word-wrap: break-word; margin: 10px 0;\">Gm<br><br>Would love a DALLE/Midjourney Casters to post our creations 🫡<br><br>\"Cute pirate cat captain discovers an island sailing on a blue-purple sea on a starry night\" </div>\n",
       "    <div style=\"text-align: center;\"><img src=\"https://i.imgur.com/ZT67HgB.jpg\" style=\"max-width: 550px; margin-top: 10px;\"></div><p style=\"color: purple; margin: 10px 0 0;\">&#x1F49C; 14 <span style=\"margin-left: 5px; margin-top: 10px;\">&#x1F4AC; 2</span></p></div></div>"
      ],
      "text/plain": [
       "<IPython.core.display.HTML object>"
      ]
     },
     "metadata": {},
     "output_type": "display_data"
    },
    {
     "data": {
      "text/html": [
       "\n",
       "    <div style=\"border: 1px solid #ccc; max-width: 600px; padding: 25px; margin-bottom: 25px;\">\n",
       "        <div style=\"max-width: 550px; margin: 0 auto;\">\n",
       "            <p><strong><a href=\"https://searchcaster.xyz/search?merkleRoot=0x2ce4db955acccfde575b0caa0157e4635297b514\" target=\"_blank\">merkleRoot</a></strong></p>\n",
       "            <p><strong>@tommy · fid 264</strong></p>\n",
       "            <div style=\"word-wrap: break-word; margin: 10px 0;\">It’s only a recession if it comes from the recession region of France, otherwise it’s just stagflation</div>\n",
       "    <p style=\"color: purple; margin: 10px 0 0;\">&#x1F49C; 14 <span style=\"margin-left: 5px; margin-top: 10px;\">&#x1F4AC; 0</span></p></div></div>"
      ],
      "text/plain": [
       "<IPython.core.display.HTML object>"
      ]
     },
     "metadata": {},
     "output_type": "display_data"
    },
    {
     "data": {
      "text/html": [
       "\n",
       "    <div style=\"border: 1px solid #ccc; max-width: 600px; padding: 25px; margin-bottom: 25px;\">\n",
       "        <div style=\"max-width: 550px; margin: 0 auto;\">\n",
       "            <p><strong><a href=\"https://searchcaster.xyz/search?merkleRoot=0xd79368682c2359547862f40ce6a834be6638339c\" target=\"_blank\">merkleRoot</a></strong></p>\n",
       "            <p><strong>@briang · fid 548</strong></p>\n",
       "            <div style=\"word-wrap: break-word; margin: 10px 0;\">fiverr is quickly becoming my favorite outsourcing tool. 95% of the code is mine, but being able to effectively outsource small tickets I don’t want to do(like make my site mobile responsive) is amazing. the key is taking advantage of the large seller market.</div>\n",
       "    <p style=\"color: purple; margin: 10px 0 0;\">&#x1F49C; 14 <span style=\"margin-left: 5px; margin-top: 10px;\">&#x1F4AC; 4</span></p></div></div>"
      ],
      "text/plain": [
       "<IPython.core.display.HTML object>"
      ]
     },
     "metadata": {},
     "output_type": "display_data"
    },
    {
     "data": {
      "text/html": [
       "\n",
       "    <div style=\"border: 1px solid #ccc; max-width: 600px; padding: 25px; margin-bottom: 25px;\">\n",
       "        <div style=\"max-width: 550px; margin: 0 auto;\">\n",
       "            <p><strong><a href=\"https://searchcaster.xyz/search?merkleRoot=0x84b4e55bed9b78e7760f989595f4257bf64a9582\" target=\"_blank\">merkleRoot</a></strong></p>\n",
       "            <p><strong>@jess · fid 139</strong></p>\n",
       "            <div style=\"word-wrap: break-word; margin: 10px 0;\">I need to follow more Farcasters. <br><br>Who are you favourite ppl to follow here?</div>\n",
       "    <p style=\"color: purple; margin: 10px 0 0;\">&#x1F49C; 14 <span style=\"margin-left: 5px; margin-top: 10px;\">&#x1F4AC; 2</span></p></div></div>"
      ],
      "text/plain": [
       "<IPython.core.display.HTML object>"
      ]
     },
     "metadata": {},
     "output_type": "display_data"
    },
    {
     "data": {
      "text/html": [
       "\n",
       "    <div style=\"border: 1px solid #ccc; max-width: 600px; padding: 25px; margin-bottom: 25px;\">\n",
       "        <div style=\"max-width: 550px; margin: 0 auto;\">\n",
       "            <p><strong><a href=\"https://searchcaster.xyz/search?merkleRoot=0x58fd1dd002171a9b766a459f7a8d95685d288d7d\" target=\"_blank\">merkleRoot</a></strong></p>\n",
       "            <p><strong>@osama · fid 75</strong></p>\n",
       "            <div style=\"word-wrap: break-word; margin: 10px 0;\">gm … new anon a/c setup last night. feels like a fresh start. the last one had 50k+ followers. let’s see how a bear market treats anon builders and shitposters — will be fun</div>\n",
       "    <p style=\"color: purple; margin: 10px 0 0;\">&#x1F49C; 14 <span style=\"margin-left: 5px; margin-top: 10px;\">&#x1F4AC; 4</span></p></div></div>"
      ],
      "text/plain": [
       "<IPython.core.display.HTML object>"
      ]
     },
     "metadata": {},
     "output_type": "display_data"
    },
    {
     "data": {
      "text/html": [
       "\n",
       "    <div style=\"border: 1px solid #ccc; max-width: 600px; padding: 25px; margin-bottom: 25px;\">\n",
       "        <div style=\"max-width: 550px; margin: 0 auto;\">\n",
       "            <p><strong><a href=\"https://searchcaster.xyz/search?merkleRoot=0x04c8f9651a1c128c630c007476827ad9d0d6575e\" target=\"_blank\">merkleRoot</a></strong></p>\n",
       "            <p><strong>@cdt · fid 1024</strong></p>\n",
       "            <div style=\"word-wrap: break-word; margin: 10px 0;\">✍🏽✍🏽✍🏽<br><br><a href=\"https://www.solidnoob.com/blog/good-nft-contract-patterns\" target=\"_blank\">https://www.solidnoob.com/blog/good-nft-contract-patterns</a></div>\n",
       "    <p style=\"color: purple; margin: 10px 0 0;\">&#x1F49C; 14 <span style=\"margin-left: 5px; margin-top: 10px;\">&#x1F4AC; 0</span></p></div></div>"
      ],
      "text/plain": [
       "<IPython.core.display.HTML object>"
      ]
     },
     "metadata": {},
     "output_type": "display_data"
    },
    {
     "data": {
      "text/html": [
       "\n",
       "    <div style=\"border: 1px solid #ccc; max-width: 600px; padding: 25px; margin-bottom: 25px;\">\n",
       "        <div style=\"max-width: 550px; margin: 0 auto;\">\n",
       "            <p><strong><a href=\"https://searchcaster.xyz/search?merkleRoot=0xf172f8ff8562897b3a24bfc12e48334540811ff5\" target=\"_blank\">merkleRoot</a></strong></p>\n",
       "            <p><strong>@ted · fid 239</strong></p>\n",
       "            <div style=\"word-wrap: break-word; margin: 10px 0;\">What other projects by Farcasters do I need to try?<br><br>Explored beb.xyz (@jc), flockcaster.xyz (@shawki), searchcaster.xyz (@gregskril), nf.td (@vm, @steph), newscaster.xyz (@kn). Love them all. Joined the blockchainsmoker fam (@pushix). Need to try the unlonely.app (@brian_) ASAP.</div>\n",
       "    <p style=\"color: purple; margin: 10px 0 0;\">&#x1F49C; 14 <span style=\"margin-left: 5px; margin-top: 10px;\">&#x1F4AC; 6</span></p></div></div>"
      ],
      "text/plain": [
       "<IPython.core.display.HTML object>"
      ]
     },
     "metadata": {},
     "output_type": "display_data"
    },
    {
     "data": {
      "text/html": [
       "\n",
       "    <div style=\"border: 1px solid #ccc; max-width: 600px; padding: 25px; margin-bottom: 25px;\">\n",
       "        <div style=\"max-width: 550px; margin: 0 auto;\">\n",
       "            <p><strong><a href=\"https://searchcaster.xyz/search?merkleRoot=0x5caf49ae16310b24fd3b4055b44e9e8d41871500\" target=\"_blank\">merkleRoot</a></strong></p>\n",
       "            <p><strong>@neatonk · fid 447</strong></p>\n",
       "            <div style=\"word-wrap: break-word; margin: 10px 0;\">This week I’ll be launching a new project via the ETHGlobal x Zora hackathon. Hit me up if you like music NFTs and want to build.</div>\n",
       "    <p style=\"color: purple; margin: 10px 0 0;\">&#x1F49C; 14 <span style=\"margin-left: 5px; margin-top: 10px;\">&#x1F4AC; 1</span></p></div></div>"
      ],
      "text/plain": [
       "<IPython.core.display.HTML object>"
      ]
     },
     "metadata": {},
     "output_type": "display_data"
    },
    {
     "data": {
      "text/html": [
       "\n",
       "    <div style=\"border: 1px solid #ccc; max-width: 600px; padding: 25px; margin-bottom: 25px;\">\n",
       "        <div style=\"max-width: 550px; margin: 0 auto;\">\n",
       "            <p><strong><a href=\"https://searchcaster.xyz/search?merkleRoot=0x8f3e4cd5360a0f06f6b773c550bf8a851e7acfa7\" target=\"_blank\">merkleRoot</a></strong></p>\n",
       "            <p><strong>@kn · fid 258</strong></p>\n",
       "            <div style=\"word-wrap: break-word; margin: 10px 0;\">gm you can now see the related comments for each link on @fn - let’s share some positive FC community vibes with the world 💜 </div>\n",
       "    <div style=\"text-align: center;\"><img src=\"https://i.imgur.com/tWJarmh.jpg\" style=\"max-width: 550px; margin-top: 10px;\"></div><p style=\"color: purple; margin: 10px 0 0;\">&#x1F49C; 14 <span style=\"margin-left: 5px; margin-top: 10px;\">&#x1F4AC; 1</span></p></div></div>"
      ],
      "text/plain": [
       "<IPython.core.display.HTML object>"
      ]
     },
     "metadata": {},
     "output_type": "display_data"
    },
    {
     "data": {
      "text/html": [
       "\n",
       "    <div style=\"border: 1px solid #ccc; max-width: 600px; padding: 25px; margin-bottom: 25px;\">\n",
       "        <div style=\"max-width: 550px; margin: 0 auto;\">\n",
       "            <p><strong><a href=\"https://searchcaster.xyz/search?merkleRoot=0xf6a048792400b83b6f935ab198421eeb200473a6\" target=\"_blank\">merkleRoot</a></strong></p>\n",
       "            <p><strong>@coach · fid 585</strong></p>\n",
       "            <div style=\"word-wrap: break-word; margin: 10px 0;\">gm folks!<br><br>In NYC for a couple days. Looking for the best bagel in Soho.<br><br>Any recommendations?!</div>\n",
       "    <p style=\"color: purple; margin: 10px 0 0;\">&#x1F49C; 13 <span style=\"margin-left: 5px; margin-top: 10px;\">&#x1F4AC; 5</span></p></div></div>"
      ],
      "text/plain": [
       "<IPython.core.display.HTML object>"
      ]
     },
     "metadata": {},
     "output_type": "display_data"
    },
    {
     "data": {
      "text/html": [
       "\n",
       "    <div style=\"border: 1px solid #ccc; max-width: 600px; padding: 25px; margin-bottom: 25px;\">\n",
       "        <div style=\"max-width: 550px; margin: 0 auto;\">\n",
       "            <p><strong><a href=\"https://searchcaster.xyz/search?merkleRoot=0xf48a248f3fc8a64a5cd3bf91a0eb75526e0020aa\" target=\"_blank\">merkleRoot</a></strong></p>\n",
       "            <p><strong>@dwr · fid 3</strong></p>\n",
       "            <div style=\"word-wrap: break-word; margin: 10px 0;\">What's a product you use regularly that you wish had 10x better design / UX?</div>\n",
       "    <p style=\"color: purple; margin: 10px 0 0;\">&#x1F49C; 13 <span style=\"margin-left: 5px; margin-top: 10px;\">&#x1F4AC; 40</span></p></div></div>"
      ],
      "text/plain": [
       "<IPython.core.display.HTML object>"
      ]
     },
     "metadata": {},
     "output_type": "display_data"
    },
    {
     "data": {
      "text/html": [
       "\n",
       "    <div style=\"border: 1px solid #ccc; max-width: 600px; padding: 25px; margin-bottom: 25px;\">\n",
       "        <div style=\"max-width: 550px; margin: 0 auto;\">\n",
       "            <p><strong><a href=\"https://searchcaster.xyz/search?merkleRoot=0x5267dad1b1ac4cb1a87e751b501e44e2610e347d\" target=\"_blank\">merkleRoot</a></strong></p>\n",
       "            <p><strong>@mikedemarais · fid 534</strong></p>\n",
       "            <div style=\"word-wrap: break-word; margin: 10px 0;\">hi 🥺👉👈</div>\n",
       "    <p style=\"color: purple; margin: 10px 0 0;\">&#x1F49C; 13 <span style=\"margin-left: 5px; margin-top: 10px;\">&#x1F4AC; 2</span></p></div></div>"
      ],
      "text/plain": [
       "<IPython.core.display.HTML object>"
      ]
     },
     "metadata": {},
     "output_type": "display_data"
    },
    {
     "data": {
      "text/html": [
       "\n",
       "    <div style=\"border: 1px solid #ccc; max-width: 600px; padding: 25px; margin-bottom: 25px;\">\n",
       "        <div style=\"max-width: 550px; margin: 0 auto;\">\n",
       "            <p><strong><a href=\"https://searchcaster.xyz/search?merkleRoot=0xe8c7b1c32fbecdc54bd91644a7d9bed8a2f7fa03\" target=\"_blank\">merkleRoot</a></strong></p>\n",
       "            <p><strong>@nicolo · fid 1162</strong></p>\n",
       "            <div style=\"word-wrap: break-word; margin: 10px 0;\">gm Farcaster 👋</div>\n",
       "    <p style=\"color: purple; margin: 10px 0 0;\">&#x1F49C; 13 <span style=\"margin-left: 5px; margin-top: 10px;\">&#x1F4AC; 3</span></p></div></div>"
      ],
      "text/plain": [
       "<IPython.core.display.HTML object>"
      ]
     },
     "metadata": {},
     "output_type": "display_data"
    },
    {
     "data": {
      "text/html": [
       "\n",
       "    <div style=\"border: 1px solid #ccc; max-width: 600px; padding: 25px; margin-bottom: 25px;\">\n",
       "        <div style=\"max-width: 550px; margin: 0 auto;\">\n",
       "            <p><strong><a href=\"https://searchcaster.xyz/search?merkleRoot=0xf3693c4ee39a0163f36a147a3b0555d655d013fe\" target=\"_blank\">merkleRoot</a></strong></p>\n",
       "            <p><strong>@dcposch · fid 56</strong></p>\n",
       "            <div style=\"word-wrap: break-word; margin: 10px 0;\">gm <a href=\"https://www.collectifission.nl/nl/2022/07/nuclear-energy-is-clean/\" target=\"_blank\">https://www.collectifission.nl/nl/2022/07/nuclear-energy-is-clean/</a></div>\n",
       "    <p style=\"color: purple; margin: 10px 0 0;\">&#x1F49C; 13 <span style=\"margin-left: 5px; margin-top: 10px;\">&#x1F4AC; 1</span></p></div></div>"
      ],
      "text/plain": [
       "<IPython.core.display.HTML object>"
      ]
     },
     "metadata": {},
     "output_type": "display_data"
    },
    {
     "data": {
      "text/html": [
       "\n",
       "    <div style=\"border: 1px solid #ccc; max-width: 600px; padding: 25px; margin-bottom: 25px;\">\n",
       "        <div style=\"max-width: 550px; margin: 0 auto;\">\n",
       "            <p><strong><a href=\"https://searchcaster.xyz/search?merkleRoot=0x134a642a298ec31d31277505d120f737602f8ad8\" target=\"_blank\">merkleRoot</a></strong></p>\n",
       "            <p><strong>@emodi · fid 604</strong></p>\n",
       "            <div style=\"word-wrap: break-word; margin: 10px 0;\">Tough fundraising market out there.<br><br>Sounds like the summer slowdown from VC vacation is also back in effect and an added factor.</div>\n",
       "    <p style=\"color: purple; margin: 10px 0 0;\">&#x1F49C; 13 <span style=\"margin-left: 5px; margin-top: 10px;\">&#x1F4AC; 4</span></p></div></div>"
      ],
      "text/plain": [
       "<IPython.core.display.HTML object>"
      ]
     },
     "metadata": {},
     "output_type": "display_data"
    }
   ],
   "source": [
    "# TWLY: This Week Last Year - July 30 - August 05, 2022\n",
    "# Compiled using Farcaster-Indexer & Searchcaster \n",
    "\n",
    "https://github.com/gskril/farcaster-indexer\n",
    "https://searchcaster.xyz"
   ]
  }
 ],
 "metadata": {
  "kernelspec": {
   "display_name": "Python 3 (ipykernel)",
   "language": "python",
   "name": "python3"
  },
  "language_info": {
   "codemirror_mode": {
    "name": "ipython",
    "version": 3
   },
   "file_extension": ".py",
   "mimetype": "text/x-python",
   "name": "python",
   "nbconvert_exporter": "python",
   "pygments_lexer": "ipython3",
   "version": "3.9.13"
  }
 },
 "nbformat": 4,
 "nbformat_minor": 5
}
