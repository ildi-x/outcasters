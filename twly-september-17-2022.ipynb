{
 "cells": [
  {
   "cell_type": "markdown",
   "id": "348fda8f",
   "metadata": {},
   "source": [
    "## OUTCASTERS SNAPSHOT 011"
   ]
  },
  {
   "cell_type": "code",
   "execution_count": null,
   "id": "1ee152eb",
   "metadata": {},
   "outputs": [],
   "source": [
    "https://outcasters.xyz "
   ]
  },
  {
   "cell_type": "code",
   "execution_count": 1,
   "id": "a49ee2ef",
   "metadata": {
    "scrolled": false
   },
   "outputs": [
    {
     "data": {
      "text/html": [
       "\n",
       "    <div style=\"max-width: 600px; margin-bottom: 25px;\">\n",
       "        <h2 style=\"margin-bottom: 15px;\">Total Casts</h2>\n",
       "        <p style=\"font-size: 18x; margin: 5px 0 5px;\">Including Replies: 8665</p>\n",
       "        <p style=\"font-size: 18x; margin: 5px 0;\">Excluding Replies: 2275</p>\n",
       "    </div>\n"
      ],
      "text/plain": [
       "<IPython.core.display.HTML object>"
      ]
     },
     "metadata": {},
     "output_type": "display_data"
    },
    {
     "data": {
      "text/html": [
       "<h2>Top 30 Most Active Users (Excluding Replies)</h2>"
      ],
      "text/plain": [
       "<IPython.core.display.HTML object>"
      ]
     },
     "metadata": {},
     "output_type": "display_data"
    },
    {
     "data": {
      "text/html": [
       "<p>Only original casts are considered for this calculation. Replies are excluded.</p>"
      ],
      "text/plain": [
       "<IPython.core.display.HTML object>"
      ]
     },
     "metadata": {},
     "output_type": "display_data"
    },
    {
     "data": {
      "text/html": [
       "<ol><li>juan - 122 casts</li><li>alexanderchopan - 74 casts</li><li>ace - 62 casts</li><li>dwr - 47 casts</li><li>abc - 45 casts</li><li>yashkarthik - 30 casts</li><li>cameron - 27 casts</li><li>j4ck - 24 casts</li><li>mcbain - 24 casts</li><li>futureartist - 23 casts</li><li>core - 22 casts</li><li>fn - 20 casts</li><li>briang - 20 casts</li><li>macbudkowski - 19 casts</li><li>kn - 17 casts</li><li>giu - 17 casts</li><li>pushix - 17 casts</li><li>tayyab - 17 casts</li><li>ivy - 16 casts</li><li>cs - 16 casts</li><li>0xen - 16 casts</li><li>jayme - 15 casts</li><li>william - 15 casts</li><li>vm - 15 casts</li><li>nonlinear - 14 casts</li><li>travel - 14 casts</li><li>mk - 14 casts</li><li>dylsteck - 14 casts</li><li>vic - 13 casts</li><li>jake - 13 casts</li></ol>"
      ],
      "text/plain": [
       "<IPython.core.display.HTML object>"
      ]
     },
     "metadata": {},
     "output_type": "display_data"
    },
    {
     "data": {
      "text/html": [
       "<h2>Top 30 Most Active Users (Including Replies)</h2>"
      ],
      "text/plain": [
       "<IPython.core.display.HTML object>"
      ]
     },
     "metadata": {},
     "output_type": "display_data"
    },
    {
     "data": {
      "text/html": [
       "<p>All casts, including replies, are considered for this calculation.</p>"
      ],
      "text/plain": [
       "<IPython.core.display.HTML object>"
      ]
     },
     "metadata": {},
     "output_type": "display_data"
    },
    {
     "data": {
      "text/html": [
       "<ol><li>dwr - 369 casts</li><li>juan - 357 casts</li><li>perl - 232 casts</li><li>ace - 200 casts</li><li>cameron - 191 casts</li><li>alexanderchopan - 168 casts</li><li>0xen - 124 casts</li><li>j4ck - 115 casts</li><li>briang - 96 casts</li><li>macbudkowski - 90 casts</li><li>jayme - 90 casts</li><li>andyjagoe - 85 casts</li><li>nonlinear - 85 casts</li><li>pushix - 83 casts</li><li>alexpaden - 71 casts</li><li>ccarella - 70 casts</li><li>vm - 68 casts</li><li>bias - 63 casts</li><li>v - 63 casts</li><li>dylsteck - 59 casts</li><li>dragonbanec - 59 casts</li><li>meesh - 59 casts</li><li>mcbain - 58 casts</li><li>colin - 58 casts</li><li>benersing - 56 casts</li><li>jayce - 56 casts</li><li>giu - 56 casts</li><li>karthiksenthil - 55 casts</li><li>syed - 54 casts</li><li>yashkarthik - 53 casts</li></ol>"
      ],
      "text/plain": [
       "<IPython.core.display.HTML object>"
      ]
     },
     "metadata": {},
     "output_type": "display_data"
    },
    {
     "data": {
      "text/html": [
       "<h2>Top 100 casts ranked by total likes</h2>"
      ],
      "text/plain": [
       "<IPython.core.display.HTML object>"
      ]
     },
     "metadata": {},
     "output_type": "display_data"
    },
    {
     "data": {
      "text/html": [
       "\n",
       "    <div style=\"border: 1px solid #ccc; max-width: 600px; padding: 25px; margin-bottom: 25px;\">\n",
       "        <div style=\"max-width: 550px; margin: 0 auto;\">\n",
       "            <p><strong><a href=\"https://searchcaster.xyz/search?merkleRoot=0xa9add2fc666f32af4930495012de07e7989865ac\" target=\"_blank\">merkleRoot</a></strong></p>\n",
       "            <p><strong>@dwr · fid 3</strong></p>\n",
       "            <div style=\"word-wrap: break-word; margin: 10px 0;\">gn </div>\n",
       "    <div style=\"text-align: center;\"><img src=\"https://i.imgur.com/nWlZPHI.jpg\" style=\"max-width: 550px; margin-top: 10px;\"></div><p style=\"color: purple; margin: 10px 0 0;\">&#x1F49C; 76 <span style=\"margin-left: 5px; margin-top: 10px;\">&#x1F4AC; 3</span></p></div></div>"
      ],
      "text/plain": [
       "<IPython.core.display.HTML object>"
      ]
     },
     "metadata": {},
     "output_type": "display_data"
    },
    {
     "data": {
      "text/html": [
       "\n",
       "    <div style=\"border: 1px solid #ccc; max-width: 600px; padding: 25px; margin-bottom: 25px;\">\n",
       "        <div style=\"max-width: 550px; margin: 0 auto;\">\n",
       "            <p><strong><a href=\"https://searchcaster.xyz/search?merkleRoot=0xa1af29e2e011822f3b8ea3506326128977c0bca1\" target=\"_blank\">merkleRoot</a></strong></p>\n",
       "            <p><strong>@antonio · fid 53</strong></p>\n",
       "            <div style=\"word-wrap: break-word; margin: 10px 0;\">Coming soon to a Web 3 developer near you.<br><br><a href=\"https://www.spindl.xyz/\" target=\"_blank\">https://www.spindl.xyz/</a></div>\n",
       "    <p style=\"color: purple; margin: 10px 0 0;\">&#x1F49C; 68 <span style=\"margin-left: 5px; margin-top: 10px;\">&#x1F4AC; 15</span></p></div></div>"
      ],
      "text/plain": [
       "<IPython.core.display.HTML object>"
      ]
     },
     "metadata": {},
     "output_type": "display_data"
    },
    {
     "data": {
      "text/html": [
       "\n",
       "    <div style=\"border: 1px solid #ccc; max-width: 600px; padding: 25px; margin-bottom: 25px;\">\n",
       "        <div style=\"max-width: 550px; margin: 0 auto;\">\n",
       "            <p><strong><a href=\"https://searchcaster.xyz/search?merkleRoot=0xacb9afdee51c76fdf79db794eccd7de9b164f905\" target=\"_blank\">merkleRoot</a></strong></p>\n",
       "            <p><strong>@v · fid 2</strong></p>\n",
       "            <div style=\"word-wrap: break-word; margin: 10px 0;\">what is the highest roi (most value for time spent) code you have written? <br><br>i'm beginning to think i'll never be able to beat this<br> </div>\n",
       "    <div style=\"text-align: center;\"><img src=\"https://i.imgur.com/WPmxXbG.png\" style=\"max-width: 550px; margin-top: 10px;\"></div><p style=\"color: purple; margin: 10px 0 0;\">&#x1F49C; 67 <span style=\"margin-left: 5px; margin-top: 10px;\">&#x1F4AC; 9</span></p></div></div>"
      ],
      "text/plain": [
       "<IPython.core.display.HTML object>"
      ]
     },
     "metadata": {},
     "output_type": "display_data"
    },
    {
     "data": {
      "text/html": [
       "\n",
       "    <div style=\"border: 1px solid #ccc; max-width: 600px; padding: 25px; margin-bottom: 25px;\">\n",
       "        <div style=\"max-width: 550px; margin: 0 auto;\">\n",
       "            <p><strong><a href=\"https://searchcaster.xyz/search?merkleRoot=0xf3fa5299737c815ef9b0f6cfa6efb3adf5072b2d\" target=\"_blank\">merkleRoot</a></strong></p>\n",
       "            <p><strong>@cdixon · fid 25</strong></p>\n",
       "            <div style=\"word-wrap: break-word; margin: 10px 0;\">new avatar :)</div>\n",
       "    <p style=\"color: purple; margin: 10px 0 0;\">&#x1F49C; 65 <span style=\"margin-left: 5px; margin-top: 10px;\">&#x1F4AC; 8</span></p></div></div>"
      ],
      "text/plain": [
       "<IPython.core.display.HTML object>"
      ]
     },
     "metadata": {},
     "output_type": "display_data"
    },
    {
     "data": {
      "text/html": [
       "\n",
       "    <div style=\"border: 1px solid #ccc; max-width: 600px; padding: 25px; margin-bottom: 25px;\">\n",
       "        <div style=\"max-width: 550px; margin: 0 auto;\">\n",
       "            <p><strong><a href=\"https://searchcaster.xyz/search?merkleRoot=0x70da30bf2332eeda2b595a918b169da6337cd91a\" target=\"_blank\">merkleRoot</a></strong></p>\n",
       "            <p><strong>@dwr · fid 3</strong></p>\n",
       "            <div style=\"word-wrap: break-word; margin: 10px 0;\">Farcaster v2 update!<br><br>The team is starting the 3-phase migration this Friday, September 23 at 12pm Pacific Time. The first phase will be migrating and upgrading to new smart contracts on the Ethereum Görli testnet.<br><br>As a Farcaster user, everything will automagically happen. :)</div>\n",
       "    <p style=\"color: purple; margin: 10px 0 0;\">&#x1F49C; 64 <span style=\"margin-left: 5px; margin-top: 10px;\">&#x1F4AC; 4</span></p></div></div>"
      ],
      "text/plain": [
       "<IPython.core.display.HTML object>"
      ]
     },
     "metadata": {},
     "output_type": "display_data"
    },
    {
     "data": {
      "text/html": [
       "\n",
       "    <div style=\"border: 1px solid #ccc; max-width: 600px; padding: 25px; margin-bottom: 25px;\">\n",
       "        <div style=\"max-width: 550px; margin: 0 auto;\">\n",
       "            <p><strong><a href=\"https://searchcaster.xyz/search?merkleRoot=0x21907ea84b946c7b213ad02c012f292551f26044\" target=\"_blank\">merkleRoot</a></strong></p>\n",
       "            <p><strong>@garrytan · fid 72</strong></p>\n",
       "            <div style=\"word-wrap: break-word; margin: 10px 0;\">The older you get, the wiser. But the richer you get, the more eccentric. You can see which compounding force wins in successful people— it becomes obvious over time.</div>\n",
       "    <p style=\"color: purple; margin: 10px 0 0;\">&#x1F49C; 63 <span style=\"margin-left: 5px; margin-top: 10px;\">&#x1F4AC; 9</span></p></div></div>"
      ],
      "text/plain": [
       "<IPython.core.display.HTML object>"
      ]
     },
     "metadata": {},
     "output_type": "display_data"
    },
    {
     "data": {
      "text/html": [
       "\n",
       "    <div style=\"border: 1px solid #ccc; max-width: 600px; padding: 25px; margin-bottom: 25px;\">\n",
       "        <div style=\"max-width: 550px; margin: 0 auto;\">\n",
       "            <p><strong><a href=\"https://searchcaster.xyz/search?merkleRoot=0x0a59c94211cda8cd00c03ec60443d6a9592c813a\" target=\"_blank\">merkleRoot</a></strong></p>\n",
       "            <p><strong>@tunks · fid 371</strong></p>\n",
       "            <div style=\"word-wrap: break-word; margin: 10px 0;\">Looking to follow more engineers, say hi if you’re building in crypto/web3 👋</div>\n",
       "    <p style=\"color: purple; margin: 10px 0 0;\">&#x1F49C; 62 <span style=\"margin-left: 5px; margin-top: 10px;\">&#x1F4AC; 36</span></p></div></div>"
      ],
      "text/plain": [
       "<IPython.core.display.HTML object>"
      ]
     },
     "metadata": {},
     "output_type": "display_data"
    },
    {
     "data": {
      "text/html": [
       "\n",
       "    <div style=\"border: 1px solid #ccc; max-width: 600px; padding: 25px; margin-bottom: 25px;\">\n",
       "        <div style=\"max-width: 550px; margin: 0 auto;\">\n",
       "            <p><strong><a href=\"https://searchcaster.xyz/search?merkleRoot=0x384192fe2f28556408dd9cf2feb410d26a34f5c0\" target=\"_blank\">merkleRoot</a></strong></p>\n",
       "            <p><strong>@dwr · fid 3</strong></p>\n",
       "            <div style=\"word-wrap: break-word; margin: 10px 0;\">A few more Farcaster invites available this week. Biggest new feature launch in a while on Wednesday. :)<br><br>Have a friend or colleague DM me on the bird app for an invite!</div>\n",
       "    <p style=\"color: purple; margin: 10px 0 0;\">&#x1F49C; 60 <span style=\"margin-left: 5px; margin-top: 10px;\">&#x1F4AC; 3</span></p></div></div>"
      ],
      "text/plain": [
       "<IPython.core.display.HTML object>"
      ]
     },
     "metadata": {},
     "output_type": "display_data"
    },
    {
     "data": {
      "text/html": [
       "\n",
       "    <div style=\"border: 1px solid #ccc; max-width: 600px; padding: 25px; margin-bottom: 25px;\">\n",
       "        <div style=\"max-width: 550px; margin: 0 auto;\">\n",
       "            <p><strong><a href=\"https://searchcaster.xyz/search?merkleRoot=0xde96ac1a5e3c559139439b57a6dd7ba5481b0fe4\" target=\"_blank\">merkleRoot</a></strong></p>\n",
       "            <p><strong>@emodi · fid 604</strong></p>\n",
       "            <div style=\"word-wrap: break-word; margin: 10px 0;\">Recently raised an $11M round, closed in May as the market was unwinding. Learned a ton. <br><br>For any FC founders, happy to share process, tactics, lists, etc & jam as helpful on your deck <br><br>DMs open!</div>\n",
       "    <p style=\"color: purple; margin: 10px 0 0;\">&#x1F49C; 59 <span style=\"margin-left: 5px; margin-top: 10px;\">&#x1F4AC; 6</span></p></div></div>"
      ],
      "text/plain": [
       "<IPython.core.display.HTML object>"
      ]
     },
     "metadata": {},
     "output_type": "display_data"
    },
    {
     "data": {
      "text/html": [
       "\n",
       "    <div style=\"border: 1px solid #ccc; max-width: 600px; padding: 25px; margin-bottom: 25px;\">\n",
       "        <div style=\"max-width: 550px; margin: 0 auto;\">\n",
       "            <p><strong><a href=\"https://searchcaster.xyz/search?merkleRoot=0x130b3edbd1c04c28e346b23d893f62d091f9c74e\" target=\"_blank\">merkleRoot</a></strong></p>\n",
       "            <p><strong>@ace · fid 539</strong></p>\n",
       "            <div style=\"word-wrap: break-word; margin: 10px 0;\">Happy birthday to my co founder and friend @peterkim 🎂!<br><br>Peter is finally 21. we can go out for soju nights in koreatown without a fake id now.</div>\n",
       "    <p style=\"color: purple; margin: 10px 0 0;\">&#x1F49C; 55 <span style=\"margin-left: 5px; margin-top: 10px;\">&#x1F4AC; 12</span></p></div></div>"
      ],
      "text/plain": [
       "<IPython.core.display.HTML object>"
      ]
     },
     "metadata": {},
     "output_type": "display_data"
    },
    {
     "data": {
      "text/html": [
       "\n",
       "    <div style=\"border: 1px solid #ccc; max-width: 600px; padding: 25px; margin-bottom: 25px;\">\n",
       "        <div style=\"max-width: 550px; margin: 0 auto;\">\n",
       "            <p><strong><a href=\"https://searchcaster.xyz/search?merkleRoot=0x4a6460d11cbaa59596acbcdbe7874a70a9550187\" target=\"_blank\">merkleRoot</a></strong></p>\n",
       "            <p><strong>@dwr · fid 3</strong></p>\n",
       "            <div style=\"word-wrap: break-word; margin: 10px 0;\">Semi-regular Farcaster product annoyances thread<br><br>What's something that constantly annoys you when using Farcaster? <br><br>More specific and seemingly minor the better. :)<br><br>On our list already:<br>- Desktop client forced updates<br>- Commenting on NFT events<br>- Follow button can be flaky</div>\n",
       "    <p style=\"color: purple; margin: 10px 0 0;\">&#x1F49C; 53 <span style=\"margin-left: 5px; margin-top: 10px;\">&#x1F4AC; 82</span></p></div></div>"
      ],
      "text/plain": [
       "<IPython.core.display.HTML object>"
      ]
     },
     "metadata": {},
     "output_type": "display_data"
    },
    {
     "data": {
      "text/html": [
       "\n",
       "    <div style=\"border: 1px solid #ccc; max-width: 600px; padding: 25px; margin-bottom: 25px;\">\n",
       "        <div style=\"max-width: 550px; margin: 0 auto;\">\n",
       "            <p><strong><a href=\"https://searchcaster.xyz/search?merkleRoot=0xe542c6ff968e858dab67c9567fd88ee2629d46f2\" target=\"_blank\">merkleRoot</a></strong></p>\n",
       "            <p><strong>@packy · fid 57</strong></p>\n",
       "            <div style=\"word-wrap: break-word; margin: 10px 0;\">Mentioned FC's magic in my essay today <br><br><a href=\"https://www.notboring.co/p/indistinguishable-from-magic\" target=\"_blank\">https://www.notboring.co/p/indistinguishable-from-magic</a></div>\n",
       "    <p style=\"color: purple; margin: 10px 0 0;\">&#x1F49C; 53 <span style=\"margin-left: 5px; margin-top: 10px;\">&#x1F4AC; 11</span></p></div></div>"
      ],
      "text/plain": [
       "<IPython.core.display.HTML object>"
      ]
     },
     "metadata": {},
     "output_type": "display_data"
    },
    {
     "data": {
      "text/html": [
       "\n",
       "    <div style=\"border: 1px solid #ccc; max-width: 600px; padding: 25px; margin-bottom: 25px;\">\n",
       "        <div style=\"max-width: 550px; margin: 0 auto;\">\n",
       "            <p><strong><a href=\"https://searchcaster.xyz/search?merkleRoot=0xab4cf6bf3b161db7e463bfeda67fc24846450f2d\" target=\"_blank\">merkleRoot</a></strong></p>\n",
       "            <p><strong>@peter · fid 577</strong></p>\n",
       "            <div style=\"word-wrap: break-word; margin: 10px 0;\">gm, finally back in LA after 2.5 months on the road!<br><br>Nomad life fun, but excited for my code (and cast) output to increase </div>\n",
       "    <div style=\"text-align: center;\"><img src=\"https://i.imgur.com/QDcNqdZ.jpg\" style=\"max-width: 550px; margin-top: 10px;\"></div><p style=\"color: purple; margin: 10px 0 0;\">&#x1F49C; 52 <span style=\"margin-left: 5px; margin-top: 10px;\">&#x1F4AC; 8</span></p></div></div>"
      ],
      "text/plain": [
       "<IPython.core.display.HTML object>"
      ]
     },
     "metadata": {},
     "output_type": "display_data"
    },
    {
     "data": {
      "text/html": [
       "\n",
       "    <div style=\"border: 1px solid #ccc; max-width: 600px; padding: 25px; margin-bottom: 25px;\">\n",
       "        <div style=\"max-width: 550px; margin: 0 auto;\">\n",
       "            <p><strong><a href=\"https://searchcaster.xyz/search?merkleRoot=0x9761b6112d5f07624fc0e292666aeadfeea8a20a\" target=\"_blank\">merkleRoot</a></strong></p>\n",
       "            <p><strong>@jacob · fid 8</strong></p>\n",
       "            <div style=\"word-wrap: break-word; margin: 10px 0;\">the best writings tend to give people the feeling they’ve always had those thoughts</div>\n",
       "    <p style=\"color: purple; margin: 10px 0 0;\">&#x1F49C; 47 <span style=\"margin-left: 5px; margin-top: 10px;\">&#x1F4AC; 6</span></p></div></div>"
      ],
      "text/plain": [
       "<IPython.core.display.HTML object>"
      ]
     },
     "metadata": {},
     "output_type": "display_data"
    },
    {
     "data": {
      "text/html": [
       "\n",
       "    <div style=\"border: 1px solid #ccc; max-width: 600px; padding: 25px; margin-bottom: 25px;\">\n",
       "        <div style=\"max-width: 550px; margin: 0 auto;\">\n",
       "            <p><strong><a href=\"https://searchcaster.xyz/search?merkleRoot=0xeac6c55c2e06c21defa011ea4819a917db331455\" target=\"_blank\">merkleRoot</a></strong></p>\n",
       "            <p><strong>@goose · fid 225</strong></p>\n",
       "            <div style=\"word-wrap: break-word; margin: 10px 0;\">⌐◨-◨ </div>\n",
       "    <div style=\"text-align: center;\"><img src=\"https://i.imgur.com/fPc6TGJ.jpg\" style=\"max-width: 550px; margin-top: 10px;\"></div><p style=\"color: purple; margin: 10px 0 0;\">&#x1F49C; 46 <span style=\"margin-left: 5px; margin-top: 10px;\">&#x1F4AC; 5</span></p></div></div>"
      ],
      "text/plain": [
       "<IPython.core.display.HTML object>"
      ]
     },
     "metadata": {},
     "output_type": "display_data"
    },
    {
     "data": {
      "text/html": [
       "\n",
       "    <div style=\"border: 1px solid #ccc; max-width: 600px; padding: 25px; margin-bottom: 25px;\">\n",
       "        <div style=\"max-width: 550px; margin: 0 auto;\">\n",
       "            <p><strong><a href=\"https://searchcaster.xyz/search?merkleRoot=0x801ff6472480b7d3a79258ed3cd4e4b926ff37d7\" target=\"_blank\">merkleRoot</a></strong></p>\n",
       "            <p><strong>@dwr · fid 3</strong></p>\n",
       "            <div style=\"word-wrap: break-word; margin: 10px 0;\">A warm welcome to all of the recent Farcasters! For the new folks that are interested in the technical side of things, I put this together.<br><br><a href=\"https://farcasterxyz.notion.site/Farcaster-ecosystem-af207db2885349d383dee69eccd77b37\" target=\"_blank\">https://farcasterxyz.notion.site/Farcaster-ecosystem-af207db2885349d383dee69eccd77b37</a> </div>\n",
       "    <div style=\"text-align: center;\"><img src=\"https://i.imgur.com/0QbLnIm.png\" style=\"max-width: 550px; margin-top: 10px;\"></div><p style=\"color: purple; margin: 10px 0 0;\">&#x1F49C; 44 <span style=\"margin-left: 5px; margin-top: 10px;\">&#x1F4AC; 3</span></p></div></div>"
      ],
      "text/plain": [
       "<IPython.core.display.HTML object>"
      ]
     },
     "metadata": {},
     "output_type": "display_data"
    },
    {
     "data": {
      "text/html": [
       "\n",
       "    <div style=\"border: 1px solid #ccc; max-width: 600px; padding: 25px; margin-bottom: 25px;\">\n",
       "        <div style=\"max-width: 550px; margin: 0 auto;\">\n",
       "            <p><strong><a href=\"https://searchcaster.xyz/search?merkleRoot=0x5d8d3bf6fd4a85c2b6f7eafb8b30c22c8aa72259\" target=\"_blank\">merkleRoot</a></strong></p>\n",
       "            <p><strong>@j4ck · fid 431</strong></p>\n",
       "            <div style=\"word-wrap: break-word; margin: 10px 0;\">this is the first day of my bachelor party and i am pretty stoked about it my friends</div>\n",
       "    <p style=\"color: purple; margin: 10px 0 0;\">&#x1F49C; 42 <span style=\"margin-left: 5px; margin-top: 10px;\">&#x1F4AC; 12</span></p></div></div>"
      ],
      "text/plain": [
       "<IPython.core.display.HTML object>"
      ]
     },
     "metadata": {},
     "output_type": "display_data"
    },
    {
     "data": {
      "text/html": [
       "\n",
       "    <div style=\"border: 1px solid #ccc; max-width: 600px; padding: 25px; margin-bottom: 25px;\">\n",
       "        <div style=\"max-width: 550px; margin: 0 auto;\">\n",
       "            <p><strong><a href=\"https://searchcaster.xyz/search?merkleRoot=0xed5cd10f187a61037d1a35e2e595a8ee64d4b51c\" target=\"_blank\">merkleRoot</a></strong></p>\n",
       "            <p><strong>@ace · fid 539</strong></p>\n",
       "            <div style=\"word-wrap: break-word; margin: 10px 0;\">Farcaster is fucking amazing because when you attempt even small things, they gather around in excitement for you. <br><br>As a maker, you often need some enthusiasm from others to put some fuel to your fire.</div>\n",
       "    <p style=\"color: purple; margin: 10px 0 0;\">&#x1F49C; 41 <span style=\"margin-left: 5px; margin-top: 10px;\">&#x1F4AC; 5</span></p></div></div>"
      ],
      "text/plain": [
       "<IPython.core.display.HTML object>"
      ]
     },
     "metadata": {},
     "output_type": "display_data"
    },
    {
     "data": {
      "text/html": [
       "\n",
       "    <div style=\"border: 1px solid #ccc; max-width: 600px; padding: 25px; margin-bottom: 25px;\">\n",
       "        <div style=\"max-width: 550px; margin: 0 auto;\">\n",
       "            <p><strong><a href=\"https://searchcaster.xyz/search?merkleRoot=0x8014411ff698a5553d9cdcc488dd10e41797ad96\" target=\"_blank\">merkleRoot</a></strong></p>\n",
       "            <p><strong>@ace · fid 539</strong></p>\n",
       "            <div style=\"word-wrap: break-word; margin: 10px 0;\">\"TLDR intro list\" has 100+ early-stage consumer investors on the mailing list now<br><br>If you are an investor, follow the link below to join the mailing list.<br><br>If you are a founder, also follow the link for pitch submissions.<br><br><a href=\"https://bit.ly/tldrintro\" target=\"_blank\">https://bit.ly/tldrintro</a> </div>\n",
       "    <div style=\"text-align: center;\"><img src=\"https://i.imgur.com/64Nximx.png\" style=\"max-width: 550px; margin-top: 10px;\"></div><p style=\"color: purple; margin: 10px 0 0;\">&#x1F49C; 40 <span style=\"margin-left: 5px; margin-top: 10px;\">&#x1F4AC; 9</span></p></div></div>"
      ],
      "text/plain": [
       "<IPython.core.display.HTML object>"
      ]
     },
     "metadata": {},
     "output_type": "display_data"
    },
    {
     "data": {
      "text/html": [
       "\n",
       "    <div style=\"border: 1px solid #ccc; max-width: 600px; padding: 25px; margin-bottom: 25px;\">\n",
       "        <div style=\"max-width: 550px; margin: 0 auto;\">\n",
       "            <p><strong><a href=\"https://searchcaster.xyz/search?merkleRoot=0x80a3f0b091b43969db591b68a0961e9ee687af10\" target=\"_blank\">merkleRoot</a></strong></p>\n",
       "            <p><strong>@v · fid 2</strong></p>\n",
       "            <div style=\"word-wrap: break-word; margin: 10px 0;\">i want a wallet that <br><br>- works on a desktop<br>- can switch between multiple seed phrases and hw wallets<br>- lets me label and keep track of addresses<br>- works well with gnosis and most dapps<br><br>does this exist?</div>\n",
       "    <p style=\"color: purple; margin: 10px 0 0;\">&#x1F49C; 40 <span style=\"margin-left: 5px; margin-top: 10px;\">&#x1F4AC; 5</span></p></div></div>"
      ],
      "text/plain": [
       "<IPython.core.display.HTML object>"
      ]
     },
     "metadata": {},
     "output_type": "display_data"
    },
    {
     "data": {
      "text/html": [
       "\n",
       "    <div style=\"border: 1px solid #ccc; max-width: 600px; padding: 25px; margin-bottom: 25px;\">\n",
       "        <div style=\"max-width: 550px; margin: 0 auto;\">\n",
       "            <p><strong><a href=\"https://searchcaster.xyz/search?merkleRoot=0x4d47d4d83f2aa45f4601bfa8668e1ac351799ae3\" target=\"_blank\">merkleRoot</a></strong></p>\n",
       "            <p><strong>@grace · fid 1189</strong></p>\n",
       "            <div style=\"word-wrap: break-word; margin: 10px 0;\">it is unbelievable how much MBA professors love to shit on anything remotely crypto or web3 related, even the ones \"teaching entrepreneurship\". they mostly reference failed NFT projects and the crash of that trend, and don't even bother to consider opportunities beyond that</div>\n",
       "    <p style=\"color: purple; margin: 10px 0 0;\">&#x1F49C; 39 <span style=\"margin-left: 5px; margin-top: 10px;\">&#x1F4AC; 18</span></p></div></div>"
      ],
      "text/plain": [
       "<IPython.core.display.HTML object>"
      ]
     },
     "metadata": {},
     "output_type": "display_data"
    },
    {
     "data": {
      "text/html": [
       "\n",
       "    <div style=\"border: 1px solid #ccc; max-width: 600px; padding: 25px; margin-bottom: 25px;\">\n",
       "        <div style=\"max-width: 550px; margin: 0 auto;\">\n",
       "            <p><strong><a href=\"https://searchcaster.xyz/search?merkleRoot=0x3df3d44692422088e10c3d68de858603a940ea46\" target=\"_blank\">merkleRoot</a></strong></p>\n",
       "            <p><strong>@whiz · fid 1967</strong></p>\n",
       "            <div style=\"word-wrap: break-word; margin: 10px 0;\">Only been on @farcaster for 12h and already constantly shifting between fc & twitter.<br><br>How are you dividing your time on FC vs twtr?</div>\n",
       "    <p style=\"color: purple; margin: 10px 0 0;\">&#x1F49C; 38 <span style=\"margin-left: 5px; margin-top: 10px;\">&#x1F4AC; 20</span></p></div></div>"
      ],
      "text/plain": [
       "<IPython.core.display.HTML object>"
      ]
     },
     "metadata": {},
     "output_type": "display_data"
    },
    {
     "data": {
      "text/html": [
       "\n",
       "    <div style=\"border: 1px solid #ccc; max-width: 600px; padding: 25px; margin-bottom: 25px;\">\n",
       "        <div style=\"max-width: 550px; margin: 0 auto;\">\n",
       "            <p><strong><a href=\"https://searchcaster.xyz/search?merkleRoot=0x70f863a3257a2fbeb554f5f0b735ea29ebe52897\" target=\"_blank\">merkleRoot</a></strong></p>\n",
       "            <p><strong>@dwr · fid 3</strong></p>\n",
       "            <div style=\"word-wrap: break-word; margin: 10px 0;\">Nice Farcaster mention in @packy's newsletter today.<br><br>Ability to permissionlessly build a client and gate access to a subset of  users will allow hundreds of Small Apps to emerge as we scale.<br><br><a href=\"https://www.notboring.co/p/indistinguishable-from-magic\" target=\"_blank\">https://www.notboring.co/p/indistinguishable-from-magic</a> </div>\n",
       "    <div style=\"text-align: center;\"><img src=\"https://i.imgur.com/kbw1j76.png\" style=\"max-width: 550px; margin-top: 10px;\"></div><p style=\"color: purple; margin: 10px 0 0;\">&#x1F49C; 37 <span style=\"margin-left: 5px; margin-top: 10px;\">&#x1F4AC; 2</span></p></div></div>"
      ],
      "text/plain": [
       "<IPython.core.display.HTML object>"
      ]
     },
     "metadata": {},
     "output_type": "display_data"
    },
    {
     "data": {
      "text/html": [
       "\n",
       "    <div style=\"border: 1px solid #ccc; max-width: 600px; padding: 25px; margin-bottom: 25px;\">\n",
       "        <div style=\"max-width: 550px; margin: 0 auto;\">\n",
       "            <p><strong><a href=\"https://searchcaster.xyz/search?merkleRoot=0xffd891aa14ef5298f9d0d3a19ac6848f170bdb95\" target=\"_blank\">merkleRoot</a></strong></p>\n",
       "            <p><strong>@pdr · fid 474</strong></p>\n",
       "            <div style=\"word-wrap: break-word; margin: 10px 0;\">ga 🇺🇸<br><br>Almost five years in the making, my wife became a US citizen today</div>\n",
       "    <p style=\"color: purple; margin: 10px 0 0;\">&#x1F49C; 36 <span style=\"margin-left: 5px; margin-top: 10px;\">&#x1F4AC; 4</span></p></div></div>"
      ],
      "text/plain": [
       "<IPython.core.display.HTML object>"
      ]
     },
     "metadata": {},
     "output_type": "display_data"
    },
    {
     "data": {
      "text/html": [
       "\n",
       "    <div style=\"border: 1px solid #ccc; max-width: 600px; padding: 25px; margin-bottom: 25px;\">\n",
       "        <div style=\"max-width: 550px; margin: 0 auto;\">\n",
       "            <p><strong><a href=\"https://searchcaster.xyz/search?merkleRoot=0xfbfa856b83b012f54dd006ced8a6657587e15d29\" target=\"_blank\">merkleRoot</a></strong></p>\n",
       "            <p><strong>@dwr · fid 3</strong></p>\n",
       "            <div style=\"word-wrap: break-word; margin: 10px 0;\">PSA -- when we migrate to the new v2 contracts, there are a decent number of inactive Farcaster accounts that won't be migrated. So expect to see follower counts and total users on Farcaster go down a bit.<br><br>View it as a positive: followers are Farcaster as active!</div>\n",
       "    <p style=\"color: purple; margin: 10px 0 0;\">&#x1F49C; 35 <span style=\"margin-left: 5px; margin-top: 10px;\">&#x1F4AC; 2</span></p></div></div>"
      ],
      "text/plain": [
       "<IPython.core.display.HTML object>"
      ]
     },
     "metadata": {},
     "output_type": "display_data"
    },
    {
     "data": {
      "text/html": [
       "\n",
       "    <div style=\"border: 1px solid #ccc; max-width: 600px; padding: 25px; margin-bottom: 25px;\">\n",
       "        <div style=\"max-width: 550px; margin: 0 auto;\">\n",
       "            <p><strong><a href=\"https://searchcaster.xyz/search?merkleRoot=0x803f97a0c4457fe31d298c5e875d1740ed657458\" target=\"_blank\">merkleRoot</a></strong></p>\n",
       "            <p><strong>@daylight · fid 1258</strong></p>\n",
       "            <div style=\"word-wrap: break-word; margin: 10px 0;\">Farcaster will know before Twitter. This is the way. </div>\n",
       "    <div style=\"text-align: center;\"><img src=\"https://i.imgur.com/6o6zBLH.jpg\" style=\"max-width: 550px; margin-top: 10px;\"></div><p style=\"color: purple; margin: 10px 0 0;\">&#x1F49C; 35 <span style=\"margin-left: 5px; margin-top: 10px;\">&#x1F4AC; 9</span></p></div></div>"
      ],
      "text/plain": [
       "<IPython.core.display.HTML object>"
      ]
     },
     "metadata": {},
     "output_type": "display_data"
    },
    {
     "data": {
      "text/html": [
       "\n",
       "    <div style=\"border: 1px solid #ccc; max-width: 600px; padding: 25px; margin-bottom: 25px;\">\n",
       "        <div style=\"max-width: 550px; margin: 0 auto;\">\n",
       "            <p><strong><a href=\"https://searchcaster.xyz/search?merkleRoot=0x69909899bbff16e5b2d736ce05ca791395b87ad4\" target=\"_blank\">merkleRoot</a></strong></p>\n",
       "            <p><strong>@giu · fid 124</strong></p>\n",
       "            <div style=\"word-wrap: break-word; margin: 10px 0;\">Figma's revenue growth! The score takes care of itself </div>\n",
       "    <div style=\"text-align: center;\"><img src=\"https://i.imgur.com/ItXfCMq.jpg\" style=\"max-width: 550px; margin-top: 10px;\"></div><p style=\"color: purple; margin: 10px 0 0;\">&#x1F49C; 35 <span style=\"margin-left: 5px; margin-top: 10px;\">&#x1F4AC; 1</span></p></div></div>"
      ],
      "text/plain": [
       "<IPython.core.display.HTML object>"
      ]
     },
     "metadata": {},
     "output_type": "display_data"
    },
    {
     "data": {
      "text/html": [
       "\n",
       "    <div style=\"border: 1px solid #ccc; max-width: 600px; padding: 25px; margin-bottom: 25px;\">\n",
       "        <div style=\"max-width: 550px; margin: 0 auto;\">\n",
       "            <p><strong><a href=\"https://searchcaster.xyz/search?merkleRoot=0xb9acca4b41cef89021495a61c7179b0608eb609a\" target=\"_blank\">merkleRoot</a></strong></p>\n",
       "            <p><strong>@chriscantino · fid 342</strong></p>\n",
       "            <div style=\"word-wrap: break-word; margin: 10px 0;\">Farcaster is better</div>\n",
       "    <p style=\"color: purple; margin: 10px 0 0;\">&#x1F49C; 33 <span style=\"margin-left: 5px; margin-top: 10px;\">&#x1F4AC; 2</span></p></div></div>"
      ],
      "text/plain": [
       "<IPython.core.display.HTML object>"
      ]
     },
     "metadata": {},
     "output_type": "display_data"
    },
    {
     "data": {
      "text/html": [
       "\n",
       "    <div style=\"border: 1px solid #ccc; max-width: 600px; padding: 25px; margin-bottom: 25px;\">\n",
       "        <div style=\"max-width: 550px; margin: 0 auto;\">\n",
       "            <p><strong><a href=\"https://searchcaster.xyz/search?merkleRoot=0xa15cd202dfa816d08a5b0bda93b50a92765a2371\" target=\"_blank\">merkleRoot</a></strong></p>\n",
       "            <p><strong>@danfinlay · fid 2074</strong></p>\n",
       "            <div style=\"word-wrap: break-word; margin: 10px 0;\">What are your favorite farcaster features? Being 10 minutes in, I'd say \"by being very exclusive, there is strangely high intimacy/signal present here right now.\" How can that be preserved as it becomes more public? Any info on that rollout plan?</div>\n",
       "    <p style=\"color: purple; margin: 10px 0 0;\">&#x1F49C; 33 <span style=\"margin-left: 5px; margin-top: 10px;\">&#x1F4AC; 9</span></p></div></div>"
      ],
      "text/plain": [
       "<IPython.core.display.HTML object>"
      ]
     },
     "metadata": {},
     "output_type": "display_data"
    },
    {
     "data": {
      "text/html": [
       "\n",
       "    <div style=\"border: 1px solid #ccc; max-width: 600px; padding: 25px; margin-bottom: 25px;\">\n",
       "        <div style=\"max-width: 550px; margin: 0 auto;\">\n",
       "            <p><strong><a href=\"https://searchcaster.xyz/search?merkleRoot=0x62809b72ead805719de91ad503c4f5ce1935febd\" target=\"_blank\">merkleRoot</a></strong></p>\n",
       "            <p><strong>@0xen · fid 528</strong></p>\n",
       "            <div style=\"word-wrap: break-word; margin: 10px 0;\">Using Farcaster means not realizing ETH is down 25% this week 🚬 <br><br> </div>\n",
       "    <div style=\"text-align: center;\"><img src=\"https://i.imgur.com/rPRsErg.jpg\" style=\"max-width: 550px; margin-top: 10px;\"></div><p style=\"color: purple; margin: 10px 0 0;\">&#x1F49C; 32 <span style=\"margin-left: 5px; margin-top: 10px;\">&#x1F4AC; 1</span></p></div></div>"
      ],
      "text/plain": [
       "<IPython.core.display.HTML object>"
      ]
     },
     "metadata": {},
     "output_type": "display_data"
    },
    {
     "data": {
      "text/html": [
       "\n",
       "    <div style=\"border: 1px solid #ccc; max-width: 600px; padding: 25px; margin-bottom: 25px;\">\n",
       "        <div style=\"max-width: 550px; margin: 0 auto;\">\n",
       "            <p><strong><a href=\"https://searchcaster.xyz/search?merkleRoot=0x1ee385530b84280056e7d45af125956bd6cc4e19\" target=\"_blank\">merkleRoot</a></strong></p>\n",
       "            <p><strong>@kyle · fid 303</strong></p>\n",
       "            <div style=\"word-wrap: break-word; margin: 10px 0;\">Soon! 🔜 @daylight </div>\n",
       "    <div style=\"text-align: center;\"><img src=\"https://i.imgur.com/FOAZjIb.jpg\" style=\"max-width: 550px; margin-top: 10px;\"></div><p style=\"color: purple; margin: 10px 0 0;\">&#x1F49C; 32 <span style=\"margin-left: 5px; margin-top: 10px;\">&#x1F4AC; 5</span></p></div></div>"
      ],
      "text/plain": [
       "<IPython.core.display.HTML object>"
      ]
     },
     "metadata": {},
     "output_type": "display_data"
    },
    {
     "data": {
      "text/html": [
       "\n",
       "    <div style=\"border: 1px solid #ccc; max-width: 600px; padding: 25px; margin-bottom: 25px;\">\n",
       "        <div style=\"max-width: 550px; margin: 0 auto;\">\n",
       "            <p><strong><a href=\"https://searchcaster.xyz/search?merkleRoot=0x80503584759a637392905b0abcc618645ba408f6\" target=\"_blank\">merkleRoot</a></strong></p>\n",
       "            <p><strong>@dwr · fid 3</strong></p>\n",
       "            <div style=\"word-wrap: break-word; margin: 10px 0;\">Folks that still need to update their clients to migrate! 1/2<br><br>@lakshman @chad @liam @ravishah @minori @vinam @jasper @americanxradass @ayushswrites @matallo @eva @christian @b_rad @jw @julian @tharun @stipe @joemccann @wilsoncusack @sedna @dubeyism @pinghsu520 @kneehar</div>\n",
       "    <p style=\"color: purple; margin: 10px 0 0;\">&#x1F49C; 31 <span style=\"margin-left: 5px; margin-top: 10px;\">&#x1F4AC; 9</span></p></div></div>"
      ],
      "text/plain": [
       "<IPython.core.display.HTML object>"
      ]
     },
     "metadata": {},
     "output_type": "display_data"
    },
    {
     "data": {
      "text/html": [
       "\n",
       "    <div style=\"border: 1px solid #ccc; max-width: 600px; padding: 25px; margin-bottom: 25px;\">\n",
       "        <div style=\"max-width: 550px; margin: 0 auto;\">\n",
       "            <p><strong><a href=\"https://searchcaster.xyz/search?merkleRoot=0xbcd97b91ca45bd28ebe57b1030a3997f1d01b35e\" target=\"_blank\">merkleRoot</a></strong></p>\n",
       "            <p><strong>@yuga · fid 2099</strong></p>\n",
       "            <div style=\"word-wrap: break-word; margin: 10px 0;\">Kinda nice to have a crypto social space not dominated by the usual suspects of traders, BTC maxis, apes, etc etc</div>\n",
       "    <p style=\"color: purple; margin: 10px 0 0;\">&#x1F49C; 31 <span style=\"margin-left: 5px; margin-top: 10px;\">&#x1F4AC; 1</span></p></div></div>"
      ],
      "text/plain": [
       "<IPython.core.display.HTML object>"
      ]
     },
     "metadata": {},
     "output_type": "display_data"
    },
    {
     "data": {
      "text/html": [
       "\n",
       "    <div style=\"border: 1px solid #ccc; max-width: 600px; padding: 25px; margin-bottom: 25px;\">\n",
       "        <div style=\"max-width: 550px; margin: 0 auto;\">\n",
       "            <p><strong><a href=\"https://searchcaster.xyz/search?merkleRoot=0x6351863ce0a627561625df1cf6bbd6087175ec94\" target=\"_blank\">merkleRoot</a></strong></p>\n",
       "            <p><strong>@amitmukherjee · fid 540</strong></p>\n",
       "            <div style=\"word-wrap: break-word; margin: 10px 0;\">Anyone here into weightlifting? Currently doing stronglifts 5x5 and planning to switch to 5/3/1 afterwards. Incredibly, I've gained about 8 lbs in the last 6 weeks. Wasn't looking to get bigger, but I feel really great, so planning to finish 5x5 out and cut when i switch to 5/3/1</div>\n",
       "    <p style=\"color: purple; margin: 10px 0 0;\">&#x1F49C; 31 <span style=\"margin-left: 5px; margin-top: 10px;\">&#x1F4AC; 19</span></p></div></div>"
      ],
      "text/plain": [
       "<IPython.core.display.HTML object>"
      ]
     },
     "metadata": {},
     "output_type": "display_data"
    },
    {
     "data": {
      "text/html": [
       "\n",
       "    <div style=\"border: 1px solid #ccc; max-width: 600px; padding: 25px; margin-bottom: 25px;\">\n",
       "        <div style=\"max-width: 550px; margin: 0 auto;\">\n",
       "            <p><strong><a href=\"https://searchcaster.xyz/search?merkleRoot=0xe0741c8893c8c5a751aaeb82676b118c91023aa8\" target=\"_blank\">merkleRoot</a></strong></p>\n",
       "            <p><strong>@dwr · fid 3</strong></p>\n",
       "            <div style=\"word-wrap: break-word; margin: 10px 0;\">Favor: if you're on the bird app and I don't follow you, send me a DM! Helps when gaging whether someone asking to join Farcaster has any connectivity to people here.<br><br>dwr.twitter</div>\n",
       "    <p style=\"color: purple; margin: 10px 0 0;\">&#x1F49C; 31 <span style=\"margin-left: 5px; margin-top: 10px;\">&#x1F4AC; 11</span></p></div></div>"
      ],
      "text/plain": [
       "<IPython.core.display.HTML object>"
      ]
     },
     "metadata": {},
     "output_type": "display_data"
    },
    {
     "data": {
      "text/html": [
       "\n",
       "    <div style=\"border: 1px solid #ccc; max-width: 600px; padding: 25px; margin-bottom: 25px;\">\n",
       "        <div style=\"max-width: 550px; margin: 0 auto;\">\n",
       "            <p><strong><a href=\"https://searchcaster.xyz/search?merkleRoot=0xf0aaefed8d42013bd31d3442d2a70a655d21096d\" target=\"_blank\">merkleRoot</a></strong></p>\n",
       "            <p><strong>@ace · fid 539</strong></p>\n",
       "            <div style=\"word-wrap: break-word; margin: 10px 0;\">gn spending some time with this cute doggo I’m dogsitting for the night </div>\n",
       "    <div style=\"text-align: center;\"><img src=\"https://i.imgur.com/UOLDDxJ.jpg\" style=\"max-width: 550px; margin-top: 10px;\"></div><p style=\"color: purple; margin: 10px 0 0;\">&#x1F49C; 30 <span style=\"margin-left: 5px; margin-top: 10px;\">&#x1F4AC; 0</span></p></div></div>"
      ],
      "text/plain": [
       "<IPython.core.display.HTML object>"
      ]
     },
     "metadata": {},
     "output_type": "display_data"
    },
    {
     "data": {
      "text/html": [
       "\n",
       "    <div style=\"border: 1px solid #ccc; max-width: 600px; padding: 25px; margin-bottom: 25px;\">\n",
       "        <div style=\"max-width: 550px; margin: 0 auto;\">\n",
       "            <p><strong><a href=\"https://searchcaster.xyz/search?merkleRoot=0xff203cbfa607a2950a3baf5dc290292b5ca5e105\" target=\"_blank\">merkleRoot</a></strong></p>\n",
       "            <p><strong>@tunks · fid 371</strong></p>\n",
       "            <div style=\"word-wrap: break-word; margin: 10px 0;\">Feel like Farcaster would be a great place to find a Co-Founder</div>\n",
       "    <p style=\"color: purple; margin: 10px 0 0;\">&#x1F49C; 30 <span style=\"margin-left: 5px; margin-top: 10px;\">&#x1F4AC; 5</span></p></div></div>"
      ],
      "text/plain": [
       "<IPython.core.display.HTML object>"
      ]
     },
     "metadata": {},
     "output_type": "display_data"
    },
    {
     "data": {
      "text/html": [
       "\n",
       "    <div style=\"border: 1px solid #ccc; max-width: 600px; padding: 25px; margin-bottom: 25px;\">\n",
       "        <div style=\"max-width: 550px; margin: 0 auto;\">\n",
       "            <p><strong><a href=\"https://searchcaster.xyz/search?merkleRoot=0x97388ea6d6c4bf80b7294520a91792b3e8e2d80f\" target=\"_blank\">merkleRoot</a></strong></p>\n",
       "            <p><strong>@htormey · fid 1229</strong></p>\n",
       "            <div style=\"word-wrap: break-word; margin: 10px 0;\">I agree with this @dwr crypto product pro tip. I think farcaster is the best place to soft launch a web3 product and get high quality feedback. It’s community of highly qualified Ethereum wallet holders is top tier. </div>\n",
       "    <div style=\"text-align: center;\"><img src=\"https://i.imgur.com/EGDdFfm.jpg\" style=\"max-width: 550px; margin-top: 10px;\"></div><p style=\"color: purple; margin: 10px 0 0;\">&#x1F49C; 29 <span style=\"margin-left: 5px; margin-top: 10px;\">&#x1F4AC; 3</span></p></div></div>"
      ],
      "text/plain": [
       "<IPython.core.display.HTML object>"
      ]
     },
     "metadata": {},
     "output_type": "display_data"
    },
    {
     "data": {
      "text/html": [
       "\n",
       "    <div style=\"border: 1px solid #ccc; max-width: 600px; padding: 25px; margin-bottom: 25px;\">\n",
       "        <div style=\"max-width: 550px; margin: 0 auto;\">\n",
       "            <p><strong><a href=\"https://searchcaster.xyz/search?merkleRoot=0xc5dceba8234f4611ec57adbc90d9c88157376576\" target=\"_blank\">merkleRoot</a></strong></p>\n",
       "            <p><strong>@les · fid 312</strong></p>\n",
       "            <div style=\"word-wrap: break-word; margin: 10px 0;\">Have a killer week ya’ll.<br><br>I Love Farcasters.</div>\n",
       "    <p style=\"color: purple; margin: 10px 0 0;\">&#x1F49C; 29 <span style=\"margin-left: 5px; margin-top: 10px;\">&#x1F4AC; 2</span></p></div></div>"
      ],
      "text/plain": [
       "<IPython.core.display.HTML object>"
      ]
     },
     "metadata": {},
     "output_type": "display_data"
    },
    {
     "data": {
      "text/html": [
       "\n",
       "    <div style=\"border: 1px solid #ccc; max-width: 600px; padding: 25px; margin-bottom: 25px;\">\n",
       "        <div style=\"max-width: 550px; margin: 0 auto;\">\n",
       "            <p><strong><a href=\"https://searchcaster.xyz/search?merkleRoot=0xecbac29ee6eafeaaacc1dcdef843b8ae65d7202c\" target=\"_blank\">merkleRoot</a></strong></p>\n",
       "            <p><strong>@v · fid 2</strong></p>\n",
       "            <div style=\"word-wrap: break-word; margin: 10px 0;\">It’s gonna be a great day today </div>\n",
       "    <div style=\"text-align: center;\"><img src=\"https://i.imgur.com/NPACh4X.jpg\" style=\"max-width: 550px; margin-top: 10px;\"></div><p style=\"color: purple; margin: 10px 0 0;\">&#x1F49C; 29 <span style=\"margin-left: 5px; margin-top: 10px;\">&#x1F4AC; 3</span></p></div></div>"
      ],
      "text/plain": [
       "<IPython.core.display.HTML object>"
      ]
     },
     "metadata": {},
     "output_type": "display_data"
    },
    {
     "data": {
      "text/html": [
       "\n",
       "    <div style=\"border: 1px solid #ccc; max-width: 600px; padding: 25px; margin-bottom: 25px;\">\n",
       "        <div style=\"max-width: 550px; margin: 0 auto;\">\n",
       "            <p><strong><a href=\"https://searchcaster.xyz/search?merkleRoot=0x63dd56f7a7143f9f547fa2448f5392f37b301801\" target=\"_blank\">merkleRoot</a></strong></p>\n",
       "            <p><strong>@0xmaki · fid 2039</strong></p>\n",
       "            <div style=\"word-wrap: break-word; margin: 10px 0;\">.⟠ 👥 🌜🌞🌛 🪂<br><br>BpULkplGIcNBDbxULugrUPW7WSlwSAPoPvPuBEWJwn0qGbThpiF3jD6q2LnZyVFc9EA5IbPDpXWH5YfMbUitog==</div>\n",
       "    <p style=\"color: purple; margin: 10px 0 0;\">&#x1F49C; 29 <span style=\"margin-left: 5px; margin-top: 10px;\">&#x1F4AC; 30</span></p></div></div>"
      ],
      "text/plain": [
       "<IPython.core.display.HTML object>"
      ]
     },
     "metadata": {},
     "output_type": "display_data"
    },
    {
     "data": {
      "text/html": [
       "\n",
       "    <div style=\"border: 1px solid #ccc; max-width: 600px; padding: 25px; margin-bottom: 25px;\">\n",
       "        <div style=\"max-width: 550px; margin: 0 auto;\">\n",
       "            <p><strong><a href=\"https://searchcaster.xyz/search?merkleRoot=0xdb2112e084fe73e37b7f1dcb509b7d0ec4a0a132\" target=\"_blank\">merkleRoot</a></strong></p>\n",
       "            <p><strong>@todd · fid 18</strong></p>\n",
       "            <div style=\"word-wrap: break-word; margin: 10px 0;\">We’ve been one of the most active collectors in market, especially on the upper end, since we started 6 months ago. It’s been our primary focus.<br><br>In Q4, we’ll be shipping a bunch of new things. Feels good.</div>\n",
       "    <p style=\"color: purple; margin: 10px 0 0;\">&#x1F49C; 28 <span style=\"margin-left: 5px; margin-top: 10px;\">&#x1F4AC; 4</span></p></div></div>"
      ],
      "text/plain": [
       "<IPython.core.display.HTML object>"
      ]
     },
     "metadata": {},
     "output_type": "display_data"
    },
    {
     "data": {
      "text/html": [
       "\n",
       "    <div style=\"border: 1px solid #ccc; max-width: 600px; padding: 25px; margin-bottom: 25px;\">\n",
       "        <div style=\"max-width: 550px; margin: 0 auto;\">\n",
       "            <p><strong><a href=\"https://searchcaster.xyz/search?merkleRoot=0x35fce2a62ca0576a72743829cab68f4af28883cb\" target=\"_blank\">merkleRoot</a></strong></p>\n",
       "            <p><strong>@clayallsopp · fid 469</strong></p>\n",
       "            <div style=\"word-wrap: break-word; margin: 10px 0;\">hey FC! we’re looking for developers to test Plaid's new crypto products and give us feedback.<br><br>we want to help apps connect to wallets safely and easily - email us crypto@plaid.com or DM/TG me if you want to join the beta 🙂 </div>\n",
       "    <div style=\"text-align: center;\"><img src=\"https://i.imgur.com/P7RFoYk.png\" style=\"max-width: 550px; margin-top: 10px;\"></div><p style=\"color: purple; margin: 10px 0 0;\">&#x1F49C; 28 <span style=\"margin-left: 5px; margin-top: 10px;\">&#x1F4AC; 3</span></p></div></div>"
      ],
      "text/plain": [
       "<IPython.core.display.HTML object>"
      ]
     },
     "metadata": {},
     "output_type": "display_data"
    },
    {
     "data": {
      "text/html": [
       "\n",
       "    <div style=\"border: 1px solid #ccc; max-width: 600px; padding: 25px; margin-bottom: 25px;\">\n",
       "        <div style=\"max-width: 550px; margin: 0 auto;\">\n",
       "            <p><strong><a href=\"https://searchcaster.xyz/search?merkleRoot=0x5c680ac43eccf1d9507555101efdb9ecd7feb66b\" target=\"_blank\">merkleRoot</a></strong></p>\n",
       "            <p><strong>@tylerbenmark · fid 1652</strong></p>\n",
       "            <div style=\"word-wrap: break-word; margin: 10px 0;\">Farcaster quickly became the first social media app I open</div>\n",
       "    <p style=\"color: purple; margin: 10px 0 0;\">&#x1F49C; 28 <span style=\"margin-left: 5px; margin-top: 10px;\">&#x1F4AC; 1</span></p></div></div>"
      ],
      "text/plain": [
       "<IPython.core.display.HTML object>"
      ]
     },
     "metadata": {},
     "output_type": "display_data"
    },
    {
     "data": {
      "text/html": [
       "\n",
       "    <div style=\"border: 1px solid #ccc; max-width: 600px; padding: 25px; margin-bottom: 25px;\">\n",
       "        <div style=\"max-width: 550px; margin: 0 auto;\">\n",
       "            <p><strong><a href=\"https://searchcaster.xyz/search?merkleRoot=0x7b2c691b39787c90da4ea45b51531fbf4e64eb9f\" target=\"_blank\">merkleRoot</a></strong></p>\n",
       "            <p><strong>@benersing · fid 1285</strong></p>\n",
       "            <div style=\"word-wrap: break-word; margin: 10px 0;\">FC easily has the highest density of ‘unicorns’ I've encountered across #web2 or #web3. <br><br>(🦄 unicorns = brilliant + funny + grounded + ambitious + humble + helpful humans)</div>\n",
       "    <p style=\"color: purple; margin: 10px 0 0;\">&#x1F49C; 28 <span style=\"margin-left: 5px; margin-top: 10px;\">&#x1F4AC; 0</span></p></div></div>"
      ],
      "text/plain": [
       "<IPython.core.display.HTML object>"
      ]
     },
     "metadata": {},
     "output_type": "display_data"
    },
    {
     "data": {
      "text/html": [
       "\n",
       "    <div style=\"border: 1px solid #ccc; max-width: 600px; padding: 25px; margin-bottom: 25px;\">\n",
       "        <div style=\"max-width: 550px; margin: 0 auto;\">\n",
       "            <p><strong><a href=\"https://searchcaster.xyz/search?merkleRoot=0xb53d950dce0cf4d8006c96a4b9181c9fb8d5a729\" target=\"_blank\">merkleRoot</a></strong></p>\n",
       "            <p><strong>@nonlinear · fid 576</strong></p>\n",
       "            <div style=\"word-wrap: break-word; margin: 10px 0;\">join me in welcoming @cld. besides being a rhodes scholar & boy genius graduate of mit/stanford, he’s a math prof at oxford, founding board member of ledger journal, and most impressively, co-founder of Fabric. pretty sure he’s gonna be pissed at me for saying all that love u bro</div>\n",
       "    <p style=\"color: purple; margin: 10px 0 0;\">&#x1F49C; 28 <span style=\"margin-left: 5px; margin-top: 10px;\">&#x1F4AC; 5</span></p></div></div>"
      ],
      "text/plain": [
       "<IPython.core.display.HTML object>"
      ]
     },
     "metadata": {},
     "output_type": "display_data"
    },
    {
     "data": {
      "text/html": [
       "\n",
       "    <div style=\"border: 1px solid #ccc; max-width: 600px; padding: 25px; margin-bottom: 25px;\">\n",
       "        <div style=\"max-width: 550px; margin: 0 auto;\">\n",
       "            <p><strong><a href=\"https://searchcaster.xyz/search?merkleRoot=0x34367b51fafa69ed51f8db217afdc457a96d1e8a\" target=\"_blank\">merkleRoot</a></strong></p>\n",
       "            <p><strong>@scharf · fid 134</strong></p>\n",
       "            <div style=\"word-wrap: break-word; margin: 10px 0;\">Love the framing of convex vs concave decisions. Vitalik mental clarity is incredible. <br><br><a href=\"https://vitalik.eth.limo/general/2022/09/20/daos.html\" target=\"_blank\">https://vitalik.eth.limo/general/2022/09/20/daos.html</a></div>\n",
       "    <p style=\"color: purple; margin: 10px 0 0;\">&#x1F49C; 27 <span style=\"margin-left: 5px; margin-top: 10px;\">&#x1F4AC; 3</span></p></div></div>"
      ],
      "text/plain": [
       "<IPython.core.display.HTML object>"
      ]
     },
     "metadata": {},
     "output_type": "display_data"
    },
    {
     "data": {
      "text/html": [
       "\n",
       "    <div style=\"border: 1px solid #ccc; max-width: 600px; padding: 25px; margin-bottom: 25px;\">\n",
       "        <div style=\"max-width: 550px; margin: 0 auto;\">\n",
       "            <p><strong><a href=\"https://searchcaster.xyz/search?merkleRoot=0x66fe3c998f192cbd0d2081be6c7f1e0cb85ecdec\" target=\"_blank\">merkleRoot</a></strong></p>\n",
       "            <p><strong>@cameron · fid 617</strong></p>\n",
       "            <div style=\"word-wrap: break-word; margin: 10px 0;\">Super stoked to share the launch of VF Protocol’s v0 zero fee P2P NFT Sales dapp with FC!<br><br>I have big dreams for disrupting payments and it starts with building the easiest way to transact ERC-721’s for ETH on the internet. <br><br>NFT Escrow coming soon 😉<br><br><a href=\"https://www.vfprotocol.com/\" target=\"_blank\">https://www.vfprotocol.com/</a></div>\n",
       "    <p style=\"color: purple; margin: 10px 0 0;\">&#x1F49C; 27 <span style=\"margin-left: 5px; margin-top: 10px;\">&#x1F4AC; 11</span></p></div></div>"
      ],
      "text/plain": [
       "<IPython.core.display.HTML object>"
      ]
     },
     "metadata": {},
     "output_type": "display_data"
    },
    {
     "data": {
      "text/html": [
       "\n",
       "    <div style=\"border: 1px solid #ccc; max-width: 600px; padding: 25px; margin-bottom: 25px;\">\n",
       "        <div style=\"max-width: 550px; margin: 0 auto;\">\n",
       "            <p><strong><a href=\"https://searchcaster.xyz/search?merkleRoot=0x3aedfce822dc1053c43397256e3d680333f3a4e2\" target=\"_blank\">merkleRoot</a></strong></p>\n",
       "            <p><strong>@emylee · fid 1418</strong></p>\n",
       "            <div style=\"word-wrap: break-word; margin: 10px 0;\">Little miss farcaster </div>\n",
       "    <div style=\"text-align: center;\"><img src=\"https://i.imgur.com/69JlXRc.jpg\" style=\"max-width: 550px; margin-top: 10px;\"></div><p style=\"color: purple; margin: 10px 0 0;\">&#x1F49C; 27 <span style=\"margin-left: 5px; margin-top: 10px;\">&#x1F4AC; 5</span></p></div></div>"
      ],
      "text/plain": [
       "<IPython.core.display.HTML object>"
      ]
     },
     "metadata": {},
     "output_type": "display_data"
    },
    {
     "data": {
      "text/html": [
       "\n",
       "    <div style=\"border: 1px solid #ccc; max-width: 600px; padding: 25px; margin-bottom: 25px;\">\n",
       "        <div style=\"max-width: 550px; margin: 0 auto;\">\n",
       "            <p><strong><a href=\"https://searchcaster.xyz/search?merkleRoot=0x616b0c3737d6745807fe9684b07c9563e1dba093\" target=\"_blank\">merkleRoot</a></strong></p>\n",
       "            <p><strong>@nicole · fid 800</strong></p>\n",
       "            <div style=\"word-wrap: break-word; margin: 10px 0;\">Just realized that Farcaster is the best place for a crypto coven pfp, every post is a spell cast 🪄 </div>\n",
       "    <div style=\"text-align: center;\"><img src=\"https://i.imgur.com/1dr9QeL.jpg\" style=\"max-width: 550px; margin-top: 10px;\"></div><p style=\"color: purple; margin: 10px 0 0;\">&#x1F49C; 27 <span style=\"margin-left: 5px; margin-top: 10px;\">&#x1F4AC; 1</span></p></div></div>"
      ],
      "text/plain": [
       "<IPython.core.display.HTML object>"
      ]
     },
     "metadata": {},
     "output_type": "display_data"
    },
    {
     "data": {
      "text/html": [
       "\n",
       "    <div style=\"border: 1px solid #ccc; max-width: 600px; padding: 25px; margin-bottom: 25px;\">\n",
       "        <div style=\"max-width: 550px; margin: 0 auto;\">\n",
       "            <p><strong><a href=\"https://searchcaster.xyz/search?merkleRoot=0x79a57a7693ff43e817afa6f400719a010f75a539\" target=\"_blank\">merkleRoot</a></strong></p>\n",
       "            <p><strong>@ace · fid 539</strong></p>\n",
       "            <div style=\"word-wrap: break-word; margin: 10px 0;\">very true </div>\n",
       "    <div style=\"text-align: center;\"><img src=\"https://i.imgur.com/ZTAh0Hp.jpg\" style=\"max-width: 550px; margin-top: 10px;\"></div><p style=\"color: purple; margin: 10px 0 0;\">&#x1F49C; 26 <span style=\"margin-left: 5px; margin-top: 10px;\">&#x1F4AC; 3</span></p></div></div>"
      ],
      "text/plain": [
       "<IPython.core.display.HTML object>"
      ]
     },
     "metadata": {},
     "output_type": "display_data"
    },
    {
     "data": {
      "text/html": [
       "\n",
       "    <div style=\"border: 1px solid #ccc; max-width: 600px; padding: 25px; margin-bottom: 25px;\">\n",
       "        <div style=\"max-width: 550px; margin: 0 auto;\">\n",
       "            <p><strong><a href=\"https://searchcaster.xyz/search?merkleRoot=0xfc2b55ffa92c67d38d8650ab753fe4c17785e703\" target=\"_blank\">merkleRoot</a></strong></p>\n",
       "            <p><strong>@emodi · fid 604</strong></p>\n",
       "            <div style=\"word-wrap: break-word; margin: 10px 0;\">however good you are, good colleagues make you better. <br><br>indeed, very ambitious people probably need colleagues more than anyone else, because they're so starved for them in everyday life. <br><br>- paul graham</div>\n",
       "    <p style=\"color: purple; margin: 10px 0 0;\">&#x1F49C; 26 <span style=\"margin-left: 5px; margin-top: 10px;\">&#x1F4AC; 1</span></p></div></div>"
      ],
      "text/plain": [
       "<IPython.core.display.HTML object>"
      ]
     },
     "metadata": {},
     "output_type": "display_data"
    },
    {
     "data": {
      "text/html": [
       "\n",
       "    <div style=\"border: 1px solid #ccc; max-width: 600px; padding: 25px; margin-bottom: 25px;\">\n",
       "        <div style=\"max-width: 550px; margin: 0 auto;\">\n",
       "            <p><strong><a href=\"https://searchcaster.xyz/search?merkleRoot=0x3dd4abe385b70bfacfacbcd66076d9aa3da20d09\" target=\"_blank\">merkleRoot</a></strong></p>\n",
       "            <p><strong>@macbudkowski · fid 1048</strong></p>\n",
       "            <div style=\"word-wrap: break-word; margin: 10px 0;\">Let's start a Farcaster book recommendation thread. <br><br>What are the TOP3 fiction books you've ever read and why do you love them? <br><br>My titles below 👇</div>\n",
       "    <p style=\"color: purple; margin: 10px 0 0;\">&#x1F49C; 26 <span style=\"margin-left: 5px; margin-top: 10px;\">&#x1F4AC; 29</span></p></div></div>"
      ],
      "text/plain": [
       "<IPython.core.display.HTML object>"
      ]
     },
     "metadata": {},
     "output_type": "display_data"
    },
    {
     "data": {
      "text/html": [
       "\n",
       "    <div style=\"border: 1px solid #ccc; max-width: 600px; padding: 25px; margin-bottom: 25px;\">\n",
       "        <div style=\"max-width: 550px; margin: 0 auto;\">\n",
       "            <p><strong><a href=\"https://searchcaster.xyz/search?merkleRoot=0xb0063dddea6d7074e15da344f6666cb7dd54c5ec\" target=\"_blank\">merkleRoot</a></strong></p>\n",
       "            <p><strong>@coopahtroopa · fid 206</strong></p>\n",
       "            <div style=\"word-wrap: break-word; margin: 10px 0;\">Music NFTs.</div>\n",
       "    <p style=\"color: purple; margin: 10px 0 0;\">&#x1F49C; 26 <span style=\"margin-left: 5px; margin-top: 10px;\">&#x1F4AC; 6</span></p></div></div>"
      ],
      "text/plain": [
       "<IPython.core.display.HTML object>"
      ]
     },
     "metadata": {},
     "output_type": "display_data"
    },
    {
     "data": {
      "text/html": [
       "\n",
       "    <div style=\"border: 1px solid #ccc; max-width: 600px; padding: 25px; margin-bottom: 25px;\">\n",
       "        <div style=\"max-width: 550px; margin: 0 auto;\">\n",
       "            <p><strong><a href=\"https://searchcaster.xyz/search?merkleRoot=0x3a94a691448f0e16433dc556f510f2321dd46772\" target=\"_blank\">merkleRoot</a></strong></p>\n",
       "            <p><strong>@kchamp · fid 1372</strong></p>\n",
       "            <div style=\"word-wrap: break-word; margin: 10px 0;\">what’s your workout schedule? <br><br>I do about 1hr a day every day, in the morning<br><br>i recently flipped to a lifting focus vs a running focus so it looks like<br><br>M: push<br>Tu: legs<br>W: 10k easy run<br>Th: pull<br>F: legs<br>Sa: HIIT class<br>Su: 10k++ easy run</div>\n",
       "    <p style=\"color: purple; margin: 10px 0 0;\">&#x1F49C; 26 <span style=\"margin-left: 5px; margin-top: 10px;\">&#x1F4AC; 17</span></p></div></div>"
      ],
      "text/plain": [
       "<IPython.core.display.HTML object>"
      ]
     },
     "metadata": {},
     "output_type": "display_data"
    },
    {
     "data": {
      "text/html": [
       "\n",
       "    <div style=\"border: 1px solid #ccc; max-width: 600px; padding: 25px; margin-bottom: 25px;\">\n",
       "        <div style=\"max-width: 550px; margin: 0 auto;\">\n",
       "            <p><strong><a href=\"https://searchcaster.xyz/search?merkleRoot=0xfc23c66c0e3b58125ce690ab24b255a18075a8e1\" target=\"_blank\">merkleRoot</a></strong></p>\n",
       "            <p><strong>@goose · fid 225</strong></p>\n",
       "            <div style=\"word-wrap: break-word; margin: 10px 0;\">gm </div>\n",
       "    <div style=\"text-align: center;\"><img src=\"https://i.imgur.com/3PX1h2A.jpg\" style=\"max-width: 550px; margin-top: 10px;\"></div><p style=\"color: purple; margin: 10px 0 0;\">&#x1F49C; 25 <span style=\"margin-left: 5px; margin-top: 10px;\">&#x1F4AC; 3</span></p></div></div>"
      ],
      "text/plain": [
       "<IPython.core.display.HTML object>"
      ]
     },
     "metadata": {},
     "output_type": "display_data"
    },
    {
     "data": {
      "text/html": [
       "\n",
       "    <div style=\"border: 1px solid #ccc; max-width: 600px; padding: 25px; margin-bottom: 25px;\">\n",
       "        <div style=\"max-width: 550px; margin: 0 auto;\">\n",
       "            <p><strong><a href=\"https://searchcaster.xyz/search?merkleRoot=0x007066be20a5154594b7430ef7c16cb16bed9d17\" target=\"_blank\">merkleRoot</a></strong></p>\n",
       "            <p><strong>@v · fid 2</strong></p>\n",
       "            <div style=\"word-wrap: break-word; margin: 10px 0;\">FC, shill me your favorite places to find art <br><br>@shilpa and i have bare walls we need to decorate</div>\n",
       "    <p style=\"color: purple; margin: 10px 0 0;\">&#x1F49C; 25 <span style=\"margin-left: 5px; margin-top: 10px;\">&#x1F4AC; 25</span></p></div></div>"
      ],
      "text/plain": [
       "<IPython.core.display.HTML object>"
      ]
     },
     "metadata": {},
     "output_type": "display_data"
    },
    {
     "data": {
      "text/html": [
       "\n",
       "    <div style=\"border: 1px solid #ccc; max-width: 600px; padding: 25px; margin-bottom: 25px;\">\n",
       "        <div style=\"max-width: 550px; margin: 0 auto;\">\n",
       "            <p><strong><a href=\"https://searchcaster.xyz/search?merkleRoot=0x58aa056adc7de528a39f03cfb7ac1e72dec4afbe\" target=\"_blank\">merkleRoot</a></strong></p>\n",
       "            <p><strong>@danfinlay · fid 2074</strong></p>\n",
       "            <div style=\"word-wrap: break-word; margin: 10px 0;\">Hey there everybody</div>\n",
       "    <p style=\"color: purple; margin: 10px 0 0;\">&#x1F49C; 25 <span style=\"margin-left: 5px; margin-top: 10px;\">&#x1F4AC; 10</span></p></div></div>"
      ],
      "text/plain": [
       "<IPython.core.display.HTML object>"
      ]
     },
     "metadata": {},
     "output_type": "display_data"
    },
    {
     "data": {
      "text/html": [
       "\n",
       "    <div style=\"border: 1px solid #ccc; max-width: 600px; padding: 25px; margin-bottom: 25px;\">\n",
       "        <div style=\"max-width: 550px; margin: 0 auto;\">\n",
       "            <p><strong><a href=\"https://searchcaster.xyz/search?merkleRoot=0x21e514c1392ae7c499893a3d0f033359041915bd\" target=\"_blank\">merkleRoot</a></strong></p>\n",
       "            <p><strong>@jessegenet · fid 1747</strong></p>\n",
       "            <div style=\"word-wrap: break-word; margin: 10px 0;\">What is an aspect of modern life that seems pretty normal now that will seem completely archaic to someone in 50 years?</div>\n",
       "    <p style=\"color: purple; margin: 10px 0 0;\">&#x1F49C; 24 <span style=\"margin-left: 5px; margin-top: 10px;\">&#x1F4AC; 20</span></p></div></div>"
      ],
      "text/plain": [
       "<IPython.core.display.HTML object>"
      ]
     },
     "metadata": {},
     "output_type": "display_data"
    },
    {
     "data": {
      "text/html": [
       "\n",
       "    <div style=\"border: 1px solid #ccc; max-width: 600px; padding: 25px; margin-bottom: 25px;\">\n",
       "        <div style=\"max-width: 550px; margin: 0 auto;\">\n",
       "            <p><strong><a href=\"https://searchcaster.xyz/search?merkleRoot=0xb0fc95bd69e2f56d455b0a5220c41752dcfa052f\" target=\"_blank\">merkleRoot</a></strong></p>\n",
       "            <p><strong>@jacob · fid 8</strong></p>\n",
       "            <div style=\"word-wrap: break-word; margin: 10px 0;\">would be epic if I could just post NFTs directly here</div>\n",
       "    <p style=\"color: purple; margin: 10px 0 0;\">&#x1F49C; 24 <span style=\"margin-left: 5px; margin-top: 10px;\">&#x1F4AC; 4</span></p></div></div>"
      ],
      "text/plain": [
       "<IPython.core.display.HTML object>"
      ]
     },
     "metadata": {},
     "output_type": "display_data"
    },
    {
     "data": {
      "text/html": [
       "\n",
       "    <div style=\"border: 1px solid #ccc; max-width: 600px; padding: 25px; margin-bottom: 25px;\">\n",
       "        <div style=\"max-width: 550px; margin: 0 auto;\">\n",
       "            <p><strong><a href=\"https://searchcaster.xyz/search?merkleRoot=0x5dae0a785085bc0d57882abfdc493b93be0134ef\" target=\"_blank\">merkleRoot</a></strong></p>\n",
       "            <p><strong>@essem · fid 1954</strong></p>\n",
       "            <div style=\"word-wrap: break-word; margin: 10px 0;\">newly on farcaster, looking forward to seeing how it works and connecting with the community!</div>\n",
       "    <p style=\"color: purple; margin: 10px 0 0;\">&#x1F49C; 24 <span style=\"margin-left: 5px; margin-top: 10px;\">&#x1F4AC; 6</span></p></div></div>"
      ],
      "text/plain": [
       "<IPython.core.display.HTML object>"
      ]
     },
     "metadata": {},
     "output_type": "display_data"
    },
    {
     "data": {
      "text/html": [
       "\n",
       "    <div style=\"border: 1px solid #ccc; max-width: 600px; padding: 25px; margin-bottom: 25px;\">\n",
       "        <div style=\"max-width: 550px; margin: 0 auto;\">\n",
       "            <p><strong><a href=\"https://searchcaster.xyz/search?merkleRoot=0x9e6dd0b97a9ecddc31e5345a3c7a31b9c0adb5f1\" target=\"_blank\">merkleRoot</a></strong></p>\n",
       "            <p><strong>@minh · fid 999</strong></p>\n",
       "            <div style=\"word-wrap: break-word; margin: 10px 0;\">I don’t see how we make much headway in decentralized identity if it is still so precarious to lose my wallet or near impossible to regain a lost or stolen wallet. If you can steal the wallet that holds my soulbound NFT, what’s the point of that fancy NFT?</div>\n",
       "    <p style=\"color: purple; margin: 10px 0 0;\">&#x1F49C; 24 <span style=\"margin-left: 5px; margin-top: 10px;\">&#x1F4AC; 14</span></p></div></div>"
      ],
      "text/plain": [
       "<IPython.core.display.HTML object>"
      ]
     },
     "metadata": {},
     "output_type": "display_data"
    },
    {
     "data": {
      "text/html": [
       "\n",
       "    <div style=\"border: 1px solid #ccc; max-width: 600px; padding: 25px; margin-bottom: 25px;\">\n",
       "        <div style=\"max-width: 550px; margin: 0 auto;\">\n",
       "            <p><strong><a href=\"https://searchcaster.xyz/search?merkleRoot=0xc37ef047a0bce74cbb27fbca1e8f7577d2cce282\" target=\"_blank\">merkleRoot</a></strong></p>\n",
       "            <p><strong>@vm · fid 325</strong></p>\n",
       "            <div style=\"word-wrap: break-word; margin: 10px 0;\">interesting enough for me to look at it twice </div>\n",
       "    <div style=\"text-align: center;\"><img src=\"https://i.imgur.com/r6wL2AH.jpg\" style=\"max-width: 550px; margin-top: 10px;\"></div><p style=\"color: purple; margin: 10px 0 0;\">&#x1F49C; 24 <span style=\"margin-left: 5px; margin-top: 10px;\">&#x1F4AC; 1</span></p></div></div>"
      ],
      "text/plain": [
       "<IPython.core.display.HTML object>"
      ]
     },
     "metadata": {},
     "output_type": "display_data"
    },
    {
     "data": {
      "text/html": [
       "\n",
       "    <div style=\"border: 1px solid #ccc; max-width: 600px; padding: 25px; margin-bottom: 25px;\">\n",
       "        <div style=\"max-width: 550px; margin: 0 auto;\">\n",
       "            <p><strong><a href=\"https://searchcaster.xyz/search?merkleRoot=0xcd4626ad77ed8885c2711485c288185628742f78\" target=\"_blank\">merkleRoot</a></strong></p>\n",
       "            <p><strong>@jasonkim · fid 899</strong></p>\n",
       "            <div style=\"word-wrap: break-word; margin: 10px 0;\">new product dropping soon™ for farcaster community<br><br>(more burners than bryan colangelo) </div>\n",
       "    <div style=\"text-align: center;\"><img src=\"https://i.imgur.com/sOtaqMZ.jpg\" style=\"max-width: 550px; margin-top: 10px;\"></div><p style=\"color: purple; margin: 10px 0 0;\">&#x1F49C; 24 <span style=\"margin-left: 5px; margin-top: 10px;\">&#x1F4AC; 4</span></p></div></div>"
      ],
      "text/plain": [
       "<IPython.core.display.HTML object>"
      ]
     },
     "metadata": {},
     "output_type": "display_data"
    },
    {
     "data": {
      "text/html": [
       "\n",
       "    <div style=\"border: 1px solid #ccc; max-width: 600px; padding: 25px; margin-bottom: 25px;\">\n",
       "        <div style=\"max-width: 550px; margin: 0 auto;\">\n",
       "            <p><strong><a href=\"https://searchcaster.xyz/search?merkleRoot=0x78f518705121f59e9c136f6d8f7961b10e93d94f\" target=\"_blank\">merkleRoot</a></strong></p>\n",
       "            <p><strong>@ccarella · fid 472</strong></p>\n",
       "            <div style=\"word-wrap: break-word; margin: 10px 0;\">Just want to celebrate @gregskril for winning first place in Lil Nouns PropHouse yesterday for an extremely cool app he built. 👏 </div>\n",
       "    <div style=\"text-align: center;\"><img src=\"https://i.imgur.com/P5BwRXs.jpg\" style=\"max-width: 550px; margin-top: 10px;\"></div><p style=\"color: purple; margin: 10px 0 0;\">&#x1F49C; 24 <span style=\"margin-left: 5px; margin-top: 10px;\">&#x1F4AC; 3</span></p></div></div>"
      ],
      "text/plain": [
       "<IPython.core.display.HTML object>"
      ]
     },
     "metadata": {},
     "output_type": "display_data"
    },
    {
     "data": {
      "text/html": [
       "\n",
       "    <div style=\"border: 1px solid #ccc; max-width: 600px; padding: 25px; margin-bottom: 25px;\">\n",
       "        <div style=\"max-width: 550px; margin: 0 auto;\">\n",
       "            <p><strong><a href=\"https://searchcaster.xyz/search?merkleRoot=0x8b6d941ae6ce4cc1f9806d67d2997f1d3b5252e9\" target=\"_blank\">merkleRoot</a></strong></p>\n",
       "            <p><strong>@jc · fid 251</strong></p>\n",
       "            <div style=\"word-wrap: break-word; margin: 10px 0;\">We’ve been busy learning Unity for BEBverse, we believe consumer crypto adoption will happen in 3D, not 2D 👀<br><br>Stay tuned! </div>\n",
       "    <div style=\"text-align: center;\"><img src=\"https://i.imgur.com/iFCh9Ab.jpg\" style=\"max-width: 550px; margin-top: 10px;\"></div><p style=\"color: purple; margin: 10px 0 0;\">&#x1F49C; 23 <span style=\"margin-left: 5px; margin-top: 10px;\">&#x1F4AC; 2</span></p></div></div>"
      ],
      "text/plain": [
       "<IPython.core.display.HTML object>"
      ]
     },
     "metadata": {},
     "output_type": "display_data"
    },
    {
     "data": {
      "text/html": [
       "\n",
       "    <div style=\"border: 1px solid #ccc; max-width: 600px; padding: 25px; margin-bottom: 25px;\">\n",
       "        <div style=\"max-width: 550px; margin: 0 auto;\">\n",
       "            <p><strong><a href=\"https://searchcaster.xyz/search?merkleRoot=0x026fe99f5a2da31d52dfa5004a2e6e2e285c3f7d\" target=\"_blank\">merkleRoot</a></strong></p>\n",
       "            <p><strong>@nyx · fid 217</strong></p>\n",
       "            <div style=\"word-wrap: break-word; margin: 10px 0;\">ok so my general thesis with these generative series projects is that the more personalized the better -- everyone wants something that reflects them.<br><br>everyone I've met with a noun has happened to be a man with big horned glasses, and all of the witches are spooky hotties.</div>\n",
       "    <p style=\"color: purple; margin: 10px 0 0;\">&#x1F49C; 23 <span style=\"margin-left: 5px; margin-top: 10px;\">&#x1F4AC; 4</span></p></div></div>"
      ],
      "text/plain": [
       "<IPython.core.display.HTML object>"
      ]
     },
     "metadata": {},
     "output_type": "display_data"
    },
    {
     "data": {
      "text/html": [
       "\n",
       "    <div style=\"border: 1px solid #ccc; max-width: 600px; padding: 25px; margin-bottom: 25px;\">\n",
       "        <div style=\"max-width: 550px; margin: 0 auto;\">\n",
       "            <p><strong><a href=\"https://searchcaster.xyz/search?merkleRoot=0x01f27a1c39577a6dbbfc09812dffe4b9343cd034\" target=\"_blank\">merkleRoot</a></strong></p>\n",
       "            <p><strong>@ace · fid 539</strong></p>\n",
       "            <div style=\"word-wrap: break-word; margin: 10px 0;\">LA sky was the inspiration for @perl design/color </div>\n",
       "    <div style=\"text-align: center;\"><img src=\"https://i.imgur.com/dvJOFuu.jpg\" style=\"max-width: 550px; margin-top: 10px;\"></div><p style=\"color: purple; margin: 10px 0 0;\">&#x1F49C; 23 <span style=\"margin-left: 5px; margin-top: 10px;\">&#x1F4AC; 3</span></p></div></div>"
      ],
      "text/plain": [
       "<IPython.core.display.HTML object>"
      ]
     },
     "metadata": {},
     "output_type": "display_data"
    },
    {
     "data": {
      "text/html": [
       "\n",
       "    <div style=\"border: 1px solid #ccc; max-width: 600px; padding: 25px; margin-bottom: 25px;\">\n",
       "        <div style=\"max-width: 550px; margin: 0 auto;\">\n",
       "            <p><strong><a href=\"https://searchcaster.xyz/search?merkleRoot=0x59a130bb023f16223777140c457b5efd0b0c49b8\" target=\"_blank\">merkleRoot</a></strong></p>\n",
       "            <p><strong>@lndnnft · fid 1117</strong></p>\n",
       "            <div style=\"word-wrap: break-word; margin: 10px 0;\">Anyone on FC who does intermittent fasting? Considering doing a 16/8 or an 18/6.</div>\n",
       "    <p style=\"color: purple; margin: 10px 0 0;\">&#x1F49C; 23 <span style=\"margin-left: 5px; margin-top: 10px;\">&#x1F4AC; 22</span></p></div></div>"
      ],
      "text/plain": [
       "<IPython.core.display.HTML object>"
      ]
     },
     "metadata": {},
     "output_type": "display_data"
    },
    {
     "data": {
      "text/html": [
       "\n",
       "    <div style=\"border: 1px solid #ccc; max-width: 600px; padding: 25px; margin-bottom: 25px;\">\n",
       "        <div style=\"max-width: 550px; margin: 0 auto;\">\n",
       "            <p><strong><a href=\"https://searchcaster.xyz/search?merkleRoot=0xd4ebea8d85a5b159e3f4c16e0a9be8fda2a0e667\" target=\"_blank\">merkleRoot</a></strong></p>\n",
       "            <p><strong>@giu · fid 124</strong></p>\n",
       "            <div style=\"word-wrap: break-word; margin: 10px 0;\">I had a 2+ hour conversation with Pomp covering Artificial Intelligence, Machine Learning and how they are changing every industry! I hope you enjoy it! <br><br><a href=\"https://www.youtube.com/watch?v=P3Ljp0MCSzQ\" target=\"_blank\">https://www.youtube.com/watch?v=P3Ljp0MCSzQ</a></div>\n",
       "    <p style=\"color: purple; margin: 10px 0 0;\">&#x1F49C; 23 <span style=\"margin-left: 5px; margin-top: 10px;\">&#x1F4AC; 4</span></p></div></div>"
      ],
      "text/plain": [
       "<IPython.core.display.HTML object>"
      ]
     },
     "metadata": {},
     "output_type": "display_data"
    },
    {
     "data": {
      "text/html": [
       "\n",
       "    <div style=\"border: 1px solid #ccc; max-width: 600px; padding: 25px; margin-bottom: 25px;\">\n",
       "        <div style=\"max-width: 550px; margin: 0 auto;\">\n",
       "            <p><strong><a href=\"https://searchcaster.xyz/search?merkleRoot=0x17817773f1afc220befdfa6367781b657918f43b\" target=\"_blank\">merkleRoot</a></strong></p>\n",
       "            <p><strong>@fredwilson · fid 169</strong></p>\n",
       "            <div style=\"word-wrap: break-word; margin: 10px 0;\">New post on mirror <a href=\"https://avc.mirror.xyz/bn2Ou_EICQcx4xSy8_A-AnaBvN5YYaxty2MshwrX7aA\" target=\"_blank\">https://avc.mirror.xyz/bn2Ou_EICQcx4xSy8_A-AnaBvN5YYaxty2MshwrX7aA</a></div>\n",
       "    <p style=\"color: purple; margin: 10px 0 0;\">&#x1F49C; 23 <span style=\"margin-left: 5px; margin-top: 10px;\">&#x1F4AC; 5</span></p></div></div>"
      ],
      "text/plain": [
       "<IPython.core.display.HTML object>"
      ]
     },
     "metadata": {},
     "output_type": "display_data"
    },
    {
     "data": {
      "text/html": [
       "\n",
       "    <div style=\"border: 1px solid #ccc; max-width: 600px; padding: 25px; margin-bottom: 25px;\">\n",
       "        <div style=\"max-width: 550px; margin: 0 auto;\">\n",
       "            <p><strong><a href=\"https://searchcaster.xyz/search?merkleRoot=0x71bb5f0185aa0f70bd2d4fb7f5ae519658d07a7b\" target=\"_blank\">merkleRoot</a></strong></p>\n",
       "            <p><strong>@aleph · fid 1941</strong></p>\n",
       "            <div style=\"word-wrap: break-word; margin: 10px 0;\">Building Gandalf with @timigod. Can’t wait to launch next month and over time integrate some cool stuff with Paragraph, Highlight and Farcaster 😄 Token gating is the future of community building. </div>\n",
       "    <div style=\"text-align: center;\"><img src=\"https://i.imgur.com/RV1dk6b.jpg\" style=\"max-width: 550px; margin-top: 10px;\"></div><p style=\"color: purple; margin: 10px 0 0;\">&#x1F49C; 23 <span style=\"margin-left: 5px; margin-top: 10px;\">&#x1F4AC; 4</span></p></div></div>"
      ],
      "text/plain": [
       "<IPython.core.display.HTML object>"
      ]
     },
     "metadata": {},
     "output_type": "display_data"
    },
    {
     "data": {
      "text/html": [
       "\n",
       "    <div style=\"border: 1px solid #ccc; max-width: 600px; padding: 25px; margin-bottom: 25px;\">\n",
       "        <div style=\"max-width: 550px; margin: 0 auto;\">\n",
       "            <p><strong><a href=\"https://searchcaster.xyz/search?merkleRoot=0x4151e1f51a685b69474f2f2291760b99b1581121\" target=\"_blank\">merkleRoot</a></strong></p>\n",
       "            <p><strong>@mk · fid 143</strong></p>\n",
       "            <div style=\"word-wrap: break-word; margin: 10px 0;\">A dystopian possibility: People will be more effectively persuaded by AI-enhanced politics over time leading to totalitarian governance. Most people derive truth from others, and thus, will be unable to break the spell cast upon the majority. The rest live in a zombie apocalypse.</div>\n",
       "    <p style=\"color: purple; margin: 10px 0 0;\">&#x1F49C; 23 <span style=\"margin-left: 5px; margin-top: 10px;\">&#x1F4AC; 10</span></p></div></div>"
      ],
      "text/plain": [
       "<IPython.core.display.HTML object>"
      ]
     },
     "metadata": {},
     "output_type": "display_data"
    },
    {
     "data": {
      "text/html": [
       "\n",
       "    <div style=\"border: 1px solid #ccc; max-width: 600px; padding: 25px; margin-bottom: 25px;\">\n",
       "        <div style=\"max-width: 550px; margin: 0 auto;\">\n",
       "            <p><strong><a href=\"https://searchcaster.xyz/search?merkleRoot=0x0e4801d127a04b364c41ec6397a058c0d341d647\" target=\"_blank\">merkleRoot</a></strong></p>\n",
       "            <p><strong>@ace · fid 539</strong></p>\n",
       "            <div style=\"word-wrap: break-word; margin: 10px 0;\">tech, design, fundraising - many things @dwr team should be proud of, but this community is the real 💎 made along the way</div>\n",
       "    <p style=\"color: purple; margin: 10px 0 0;\">&#x1F49C; 23 <span style=\"margin-left: 5px; margin-top: 10px;\">&#x1F4AC; 3</span></p></div></div>"
      ],
      "text/plain": [
       "<IPython.core.display.HTML object>"
      ]
     },
     "metadata": {},
     "output_type": "display_data"
    },
    {
     "data": {
      "text/html": [
       "\n",
       "    <div style=\"border: 1px solid #ccc; max-width: 600px; padding: 25px; margin-bottom: 25px;\">\n",
       "        <div style=\"max-width: 550px; margin: 0 auto;\">\n",
       "            <p><strong><a href=\"https://searchcaster.xyz/search?merkleRoot=0xdef130424a3a6467a819e7fc342550ca9c4754be\" target=\"_blank\">merkleRoot</a></strong></p>\n",
       "            <p><strong>@jacob · fid 8</strong></p>\n",
       "            <div style=\"word-wrap: break-word; margin: 10px 0;\">I am very excited by Future Tape, a mobile app that aggregates music NFTs and makes them easier to discover and listen to. <br><br>Free music on your phone AND artists are getting a better value system than DSPs. <br><br><a href=\"https://futuretape.xyz\" target=\"_blank\">https://futuretape.xyz</a> </div>\n",
       "    <div style=\"text-align: center;\"><img src=\"https://i.imgur.com/rS4HIu8.jpg\" style=\"max-width: 550px; margin-top: 10px;\"></div><p style=\"color: purple; margin: 10px 0 0;\">&#x1F49C; 23 <span style=\"margin-left: 5px; margin-top: 10px;\">&#x1F4AC; 5</span></p></div></div>"
      ],
      "text/plain": [
       "<IPython.core.display.HTML object>"
      ]
     },
     "metadata": {},
     "output_type": "display_data"
    },
    {
     "data": {
      "text/html": [
       "\n",
       "    <div style=\"border: 1px solid #ccc; max-width: 600px; padding: 25px; margin-bottom: 25px;\">\n",
       "        <div style=\"max-width: 550px; margin: 0 auto;\">\n",
       "            <p><strong><a href=\"https://searchcaster.xyz/search?merkleRoot=0xd3590dc806e8b1fc1931fa9c8c94d0124c63d0db\" target=\"_blank\">merkleRoot</a></strong></p>\n",
       "            <p><strong>@meesh · fid 847</strong></p>\n",
       "            <div style=\"word-wrap: break-word; margin: 10px 0;\">Before I got on FC, I had zero faith in these \"[insert well-known web2 social] of web3\" products. Most of these \"new\" social products lack decent content, a sense of community, human touch, and originality...while rolling in piles of VC dinero 💸</div>\n",
       "    <p style=\"color: purple; margin: 10px 0 0;\">&#x1F49C; 23 <span style=\"margin-left: 5px; margin-top: 10px;\">&#x1F4AC; 2</span></p></div></div>"
      ],
      "text/plain": [
       "<IPython.core.display.HTML object>"
      ]
     },
     "metadata": {},
     "output_type": "display_data"
    },
    {
     "data": {
      "text/html": [
       "\n",
       "    <div style=\"border: 1px solid #ccc; max-width: 600px; padding: 25px; margin-bottom: 25px;\">\n",
       "        <div style=\"max-width: 550px; margin: 0 auto;\">\n",
       "            <p><strong><a href=\"https://searchcaster.xyz/search?merkleRoot=0x8141d31756a375d1f98cde0c9e41f88adf115e22\" target=\"_blank\">merkleRoot</a></strong></p>\n",
       "            <p><strong>@dwr · fid 3</strong></p>\n",
       "            <div style=\"word-wrap: break-word; margin: 10px 0;\">Making learning (actually) fun through memes. <br><br>cc @libovness <br><br><a href=\"https://techcrunch.com/2022/09/20/antimatter-brings-shitposting-to-the-classroom\" target=\"_blank\">https://techcrunch.com/2022/09/20/antimatter-brings-shitposting-to-the-classroom</a></div>\n",
       "    <p style=\"color: purple; margin: 10px 0 0;\">&#x1F49C; 23 <span style=\"margin-left: 5px; margin-top: 10px;\">&#x1F4AC; 2</span></p></div></div>"
      ],
      "text/plain": [
       "<IPython.core.display.HTML object>"
      ]
     },
     "metadata": {},
     "output_type": "display_data"
    },
    {
     "data": {
      "text/html": [
       "\n",
       "    <div style=\"border: 1px solid #ccc; max-width: 600px; padding: 25px; margin-bottom: 25px;\">\n",
       "        <div style=\"max-width: 550px; margin: 0 auto;\">\n",
       "            <p><strong><a href=\"https://searchcaster.xyz/search?merkleRoot=0x9eb0ca51954532e23149537e83533634617df499\" target=\"_blank\">merkleRoot</a></strong></p>\n",
       "            <p><strong>@gonzalo · fid 364</strong></p>\n",
       "            <div style=\"word-wrap: break-word; margin: 10px 0;\">amazing how the hottest web product of the moment always doubles as a landing page / static website tool <br><br>for a while it was notion, now it’s substack, soon it’ll be something else<br><br>proof that it remains *way too difficult* to put up a simple website, even with nocode tools</div>\n",
       "    <p style=\"color: purple; margin: 10px 0 0;\">&#x1F49C; 22 <span style=\"margin-left: 5px; margin-top: 10px;\">&#x1F4AC; 5</span></p></div></div>"
      ],
      "text/plain": [
       "<IPython.core.display.HTML object>"
      ]
     },
     "metadata": {},
     "output_type": "display_data"
    },
    {
     "data": {
      "text/html": [
       "\n",
       "    <div style=\"border: 1px solid #ccc; max-width: 600px; padding: 25px; margin-bottom: 25px;\">\n",
       "        <div style=\"max-width: 550px; margin: 0 auto;\">\n",
       "            <p><strong><a href=\"https://searchcaster.xyz/search?merkleRoot=0xff038d7e966f9c9bc897075738365b1a42f7b6cb\" target=\"_blank\">merkleRoot</a></strong></p>\n",
       "            <p><strong>@jayme · fid 373</strong></p>\n",
       "            <div style=\"word-wrap: break-word; margin: 10px 0;\">Eight types of web3 users 📸📝 </div>\n",
       "    <div style=\"text-align: center;\"><img src=\"https://i.imgur.com/JTRiTwN.png\" style=\"max-width: 550px; margin-top: 10px;\"></div><p style=\"color: purple; margin: 10px 0 0;\">&#x1F49C; 22 <span style=\"margin-left: 5px; margin-top: 10px;\">&#x1F4AC; 5</span></p></div></div>"
      ],
      "text/plain": [
       "<IPython.core.display.HTML object>"
      ]
     },
     "metadata": {},
     "output_type": "display_data"
    },
    {
     "data": {
      "text/html": [
       "\n",
       "    <div style=\"border: 1px solid #ccc; max-width: 600px; padding: 25px; margin-bottom: 25px;\">\n",
       "        <div style=\"max-width: 550px; margin: 0 auto;\">\n",
       "            <p><strong><a href=\"https://searchcaster.xyz/search?merkleRoot=0x613ae7d1ea70b81e2931f582a3c59cb1d16856f8\" target=\"_blank\">merkleRoot</a></strong></p>\n",
       "            <p><strong>@wagmiking · fid 295</strong></p>\n",
       "            <div style=\"word-wrap: break-word; margin: 10px 0;\">overthinking --> write<br>anxious --> meditate<br>tired --> power nap<br>sad --> exercise<br>lazy --> reduce screen time<br>burnt out --> walk</div>\n",
       "    <p style=\"color: purple; margin: 10px 0 0;\">&#x1F49C; 22 <span style=\"margin-left: 5px; margin-top: 10px;\">&#x1F4AC; 2</span></p></div></div>"
      ],
      "text/plain": [
       "<IPython.core.display.HTML object>"
      ]
     },
     "metadata": {},
     "output_type": "display_data"
    },
    {
     "data": {
      "text/html": [
       "\n",
       "    <div style=\"border: 1px solid #ccc; max-width: 600px; padding: 25px; margin-bottom: 25px;\">\n",
       "        <div style=\"max-width: 550px; margin: 0 auto;\">\n",
       "            <p><strong><a href=\"https://searchcaster.xyz/search?merkleRoot=0x7486249a99d422f93afcc1f0d1352fe3f218a8e9\" target=\"_blank\">merkleRoot</a></strong></p>\n",
       "            <p><strong>@orangedao · fid 2023</strong></p>\n",
       "            <div style=\"word-wrap: break-word; margin: 10px 0;\">gm Farcaster 🧡🍊🧡</div>\n",
       "    <p style=\"color: purple; margin: 10px 0 0;\">&#x1F49C; 22 <span style=\"margin-left: 5px; margin-top: 10px;\">&#x1F4AC; 6</span></p></div></div>"
      ],
      "text/plain": [
       "<IPython.core.display.HTML object>"
      ]
     },
     "metadata": {},
     "output_type": "display_data"
    },
    {
     "data": {
      "text/html": [
       "\n",
       "    <div style=\"border: 1px solid #ccc; max-width: 600px; padding: 25px; margin-bottom: 25px;\">\n",
       "        <div style=\"max-width: 550px; margin: 0 auto;\">\n",
       "            <p><strong><a href=\"https://searchcaster.xyz/search?merkleRoot=0x7639490a6fd00d19d7f10d494dbb83b133906031\" target=\"_blank\">merkleRoot</a></strong></p>\n",
       "            <p><strong>@jessepollak · fid 99</strong></p>\n",
       "            <div style=\"word-wrap: break-word; margin: 10px 0;\">I'm finding myself more and more interested in the feed of NFT mints from folks I follow<br><br>doing > saying</div>\n",
       "    <p style=\"color: purple; margin: 10px 0 0;\">&#x1F49C; 22 <span style=\"margin-left: 5px; margin-top: 10px;\">&#x1F4AC; 3</span></p></div></div>"
      ],
      "text/plain": [
       "<IPython.core.display.HTML object>"
      ]
     },
     "metadata": {},
     "output_type": "display_data"
    },
    {
     "data": {
      "text/html": [
       "\n",
       "    <div style=\"border: 1px solid #ccc; max-width: 600px; padding: 25px; margin-bottom: 25px;\">\n",
       "        <div style=\"max-width: 550px; margin: 0 auto;\">\n",
       "            <p><strong><a href=\"https://searchcaster.xyz/search?merkleRoot=0x311f5634a75354416d36ce6bc4448c549f89fb01\" target=\"_blank\">merkleRoot</a></strong></p>\n",
       "            <p><strong>@gtamer2 · fid 1919</strong></p>\n",
       "            <div style=\"word-wrap: break-word; margin: 10px 0;\">Wow, just joined Farcaster. This feels like what @balajis describes in The Network State! To paraphrase, \"a hidden corner of the internet for like-minded individuals who have an in-person level of civility\"</div>\n",
       "    <p style=\"color: purple; margin: 10px 0 0;\">&#x1F49C; 22 <span style=\"margin-left: 5px; margin-top: 10px;\">&#x1F4AC; 2</span></p></div></div>"
      ],
      "text/plain": [
       "<IPython.core.display.HTML object>"
      ]
     },
     "metadata": {},
     "output_type": "display_data"
    },
    {
     "data": {
      "text/html": [
       "\n",
       "    <div style=\"border: 1px solid #ccc; max-width: 600px; padding: 25px; margin-bottom: 25px;\">\n",
       "        <div style=\"max-width: 550px; margin: 0 auto;\">\n",
       "            <p><strong><a href=\"https://searchcaster.xyz/search?merkleRoot=0x92ab315977f79df4545dc8b17a7a70280ddb23e4\" target=\"_blank\">merkleRoot</a></strong></p>\n",
       "            <p><strong>@ccarella · fid 472</strong></p>\n",
       "            <div style=\"word-wrap: break-word; margin: 10px 0;\">@pmarca with the Ye quote on his Twitter profile 🔥🔥🔥 </div>\n",
       "    <div style=\"text-align: center;\"><img src=\"https://i.imgur.com/WsjEBhW.jpg\" style=\"max-width: 550px; margin-top: 10px;\"></div><p style=\"color: purple; margin: 10px 0 0;\">&#x1F49C; 22 <span style=\"margin-left: 5px; margin-top: 10px;\">&#x1F4AC; 3</span></p></div></div>"
      ],
      "text/plain": [
       "<IPython.core.display.HTML object>"
      ]
     },
     "metadata": {},
     "output_type": "display_data"
    },
    {
     "data": {
      "text/html": [
       "\n",
       "    <div style=\"border: 1px solid #ccc; max-width: 600px; padding: 25px; margin-bottom: 25px;\">\n",
       "        <div style=\"max-width: 550px; margin: 0 auto;\">\n",
       "            <p><strong><a href=\"https://searchcaster.xyz/search?merkleRoot=0x2ce3cf184f3433c85d71087f51dca34ffdf37c7a\" target=\"_blank\">merkleRoot</a></strong></p>\n",
       "            <p><strong>@abc · fid 1230</strong></p>\n",
       "            <div style=\"word-wrap: break-word; margin: 10px 0;\">OpenSea announces support for Layer 2 network Arbitrum<br><a href=\"https://www.theblock.co/post/171392/opensea-announces-support-for-layer-2-network-arbitrum?utm_source=twitter&utm_medium=social\" target=\"_blank\">https://www.theblock.co/post/171392/opensea-announces-support-for-layer-2-network-arbitrum?utm_source=twitter&utm_medium=social</a></div>\n",
       "    <p style=\"color: purple; margin: 10px 0 0;\">&#x1F49C; 22 <span style=\"margin-left: 5px; margin-top: 10px;\">&#x1F4AC; 1</span></p></div></div>"
      ],
      "text/plain": [
       "<IPython.core.display.HTML object>"
      ]
     },
     "metadata": {},
     "output_type": "display_data"
    },
    {
     "data": {
      "text/html": [
       "\n",
       "    <div style=\"border: 1px solid #ccc; max-width: 600px; padding: 25px; margin-bottom: 25px;\">\n",
       "        <div style=\"max-width: 550px; margin: 0 auto;\">\n",
       "            <p><strong><a href=\"https://searchcaster.xyz/search?merkleRoot=0xc77b8493294c8b7743fed7b10fec98ed4f32db1d\" target=\"_blank\">merkleRoot</a></strong></p>\n",
       "            <p><strong>@kn · fid 258</strong></p>\n",
       "            <div style=\"word-wrap: break-word; margin: 10px 0;\">Follow up on the PurpleDAO idea - Thoughts?<br><br>farcaster://casts/0x6fdaef80b2bced83cf695d4cf7a68574fb42099b7a62c5ac2df377c3cb6f266c/0x6fdaef80b2bced83cf695d4cf7a68574fb42099b7a62c5ac2df377c3cb6f266c </div>\n",
       "    <div style=\"text-align: center;\"><img src=\"https://i.imgur.com/6WKrZav.png\" style=\"max-width: 550px; margin-top: 10px;\"></div><p style=\"color: purple; margin: 10px 0 0;\">&#x1F49C; 22 <span style=\"margin-left: 5px; margin-top: 10px;\">&#x1F4AC; 9</span></p></div></div>"
      ],
      "text/plain": [
       "<IPython.core.display.HTML object>"
      ]
     },
     "metadata": {},
     "output_type": "display_data"
    },
    {
     "data": {
      "text/html": [
       "\n",
       "    <div style=\"border: 1px solid #ccc; max-width: 600px; padding: 25px; margin-bottom: 25px;\">\n",
       "        <div style=\"max-width: 550px; margin: 0 auto;\">\n",
       "            <p><strong><a href=\"https://searchcaster.xyz/search?merkleRoot=0xe05980420f86e0bd6f9526cb777b875a3b3de1af\" target=\"_blank\">merkleRoot</a></strong></p>\n",
       "            <p><strong>@ajs · fid 1121</strong></p>\n",
       "            <div style=\"word-wrap: break-word; margin: 10px 0;\">anyone in singapore next week want to do a farcaster meet up? happy to sponsor. will post something to eventcaster</div>\n",
       "    <p style=\"color: purple; margin: 10px 0 0;\">&#x1F49C; 22 <span style=\"margin-left: 5px; margin-top: 10px;\">&#x1F4AC; 8</span></p></div></div>"
      ],
      "text/plain": [
       "<IPython.core.display.HTML object>"
      ]
     },
     "metadata": {},
     "output_type": "display_data"
    },
    {
     "data": {
      "text/html": [
       "\n",
       "    <div style=\"border: 1px solid #ccc; max-width: 600px; padding: 25px; margin-bottom: 25px;\">\n",
       "        <div style=\"max-width: 550px; margin: 0 auto;\">\n",
       "            <p><strong><a href=\"https://searchcaster.xyz/search?merkleRoot=0xfe70c71e0a049d8191a5c3282511df0ceb5acd98\" target=\"_blank\">merkleRoot</a></strong></p>\n",
       "            <p><strong>@n · fid 274</strong></p>\n",
       "            <div style=\"word-wrap: break-word; margin: 10px 0;\">With FC contracts migrating to Goerli/V2, it’d be neat to keep a “Farcaster v1 club”</div>\n",
       "    <p style=\"color: purple; margin: 10px 0 0;\">&#x1F49C; 21 <span style=\"margin-left: 5px; margin-top: 10px;\">&#x1F4AC; 3</span></p></div></div>"
      ],
      "text/plain": [
       "<IPython.core.display.HTML object>"
      ]
     },
     "metadata": {},
     "output_type": "display_data"
    },
    {
     "data": {
      "text/html": [
       "\n",
       "    <div style=\"border: 1px solid #ccc; max-width: 600px; padding: 25px; margin-bottom: 25px;\">\n",
       "        <div style=\"max-width: 550px; margin: 0 auto;\">\n",
       "            <p><strong><a href=\"https://searchcaster.xyz/search?merkleRoot=0xfc16fe45bc84751934cb95771e949641b133a5ec\" target=\"_blank\">merkleRoot</a></strong></p>\n",
       "            <p><strong>@j4ck · fid 431</strong></p>\n",
       "            <div style=\"word-wrap: break-word; margin: 10px 0;\">it’s pretty fun to be alive</div>\n",
       "    <p style=\"color: purple; margin: 10px 0 0;\">&#x1F49C; 21 <span style=\"margin-left: 5px; margin-top: 10px;\">&#x1F4AC; 1</span></p></div></div>"
      ],
      "text/plain": [
       "<IPython.core.display.HTML object>"
      ]
     },
     "metadata": {},
     "output_type": "display_data"
    },
    {
     "data": {
      "text/html": [
       "\n",
       "    <div style=\"border: 1px solid #ccc; max-width: 600px; padding: 25px; margin-bottom: 25px;\">\n",
       "        <div style=\"max-width: 550px; margin: 0 auto;\">\n",
       "            <p><strong><a href=\"https://searchcaster.xyz/search?merkleRoot=0xa582e6d7f6f490d64e3ea47b9e38a4a8e1909ea8\" target=\"_blank\">merkleRoot</a></strong></p>\n",
       "            <p><strong>@briang · fid 548</strong></p>\n",
       "            <div style=\"word-wrap: break-word; margin: 10px 0;\">to all the ZK people: is there a use-case for zero knowledge proofs past defi/financial security? like should I be using zk-proofs to secure any on-chain data that isn’t explicit digital money?</div>\n",
       "    <p style=\"color: purple; margin: 10px 0 0;\">&#x1F49C; 21 <span style=\"margin-left: 5px; margin-top: 10px;\">&#x1F4AC; 19</span></p></div></div>"
      ],
      "text/plain": [
       "<IPython.core.display.HTML object>"
      ]
     },
     "metadata": {},
     "output_type": "display_data"
    },
    {
     "data": {
      "text/html": [
       "\n",
       "    <div style=\"border: 1px solid #ccc; max-width: 600px; padding: 25px; margin-bottom: 25px;\">\n",
       "        <div style=\"max-width: 550px; margin: 0 auto;\">\n",
       "            <p><strong><a href=\"https://searchcaster.xyz/search?merkleRoot=0x565c2c589c88d0733ad91dd8dc88dfe4bb9e8775\" target=\"_blank\">merkleRoot</a></strong></p>\n",
       "            <p><strong>@surya · fid 802</strong></p>\n",
       "            <div style=\"word-wrap: break-word; margin: 10px 0;\">first photo </div>\n",
       "    <div style=\"text-align: center;\"><img src=\"https://i.imgur.com/gX8ow1l.jpg\" style=\"max-width: 550px; margin-top: 10px;\"></div><p style=\"color: purple; margin: 10px 0 0;\">&#x1F49C; 21 <span style=\"margin-left: 5px; margin-top: 10px;\">&#x1F4AC; 3</span></p></div></div>"
      ],
      "text/plain": [
       "<IPython.core.display.HTML object>"
      ]
     },
     "metadata": {},
     "output_type": "display_data"
    },
    {
     "data": {
      "text/html": [
       "\n",
       "    <div style=\"border: 1px solid #ccc; max-width: 600px; padding: 25px; margin-bottom: 25px;\">\n",
       "        <div style=\"max-width: 550px; margin: 0 auto;\">\n",
       "            <p><strong><a href=\"https://searchcaster.xyz/search?merkleRoot=0xe164c3853b809f2cbb1e3ec7a6e87122b745c888\" target=\"_blank\">merkleRoot</a></strong></p>\n",
       "            <p><strong>@pushix · fid 359</strong></p>\n",
       "            <div style=\"word-wrap: break-word; margin: 10px 0;\">Web3 builders, when you start a new project, you go with:<br>1) native ethers<br>2) wagmi + ethers<br>3) web3js<br>4) other?</div>\n",
       "    <p style=\"color: purple; margin: 10px 0 0;\">&#x1F49C; 21 <span style=\"margin-left: 5px; margin-top: 10px;\">&#x1F4AC; 22</span></p></div></div>"
      ],
      "text/plain": [
       "<IPython.core.display.HTML object>"
      ]
     },
     "metadata": {},
     "output_type": "display_data"
    },
    {
     "data": {
      "text/html": [
       "\n",
       "    <div style=\"border: 1px solid #ccc; max-width: 600px; padding: 25px; margin-bottom: 25px;\">\n",
       "        <div style=\"max-width: 550px; margin: 0 auto;\">\n",
       "            <p><strong><a href=\"https://searchcaster.xyz/search?merkleRoot=0xbc8e52019b14d8cd748c9971bcbfd5c2b2fc3e98\" target=\"_blank\">merkleRoot</a></strong></p>\n",
       "            <p><strong>@n · fid 274</strong></p>\n",
       "            <div style=\"word-wrap: break-word; margin: 10px 0;\"><a href=\"https://www.youtube.com/watch?v=Dgp-CM-gQik\" target=\"_blank\">https://www.youtube.com/watch?v=Dgp-CM-gQik</a> he could convince Venezuela that inflation was transitory</div>\n",
       "    <p style=\"color: purple; margin: 10px 0 0;\">&#x1F49C; 21 <span style=\"margin-left: 5px; margin-top: 10px;\">&#x1F4AC; 4</span></p></div></div>"
      ],
      "text/plain": [
       "<IPython.core.display.HTML object>"
      ]
     },
     "metadata": {},
     "output_type": "display_data"
    },
    {
     "data": {
      "text/html": [
       "\n",
       "    <div style=\"border: 1px solid #ccc; max-width: 600px; padding: 25px; margin-bottom: 25px;\">\n",
       "        <div style=\"max-width: 550px; margin: 0 auto;\">\n",
       "            <p><strong><a href=\"https://searchcaster.xyz/search?merkleRoot=0xccae9030fc3f9413b7f3000c24df9824cadb8db5\" target=\"_blank\">merkleRoot</a></strong></p>\n",
       "            <p><strong>@rish · fid 194</strong></p>\n",
       "            <div style=\"word-wrap: break-word; margin: 10px 0;\">Was thinking about Farcaster this morning and wrote down some thoughts here: <a href=\"https://mirror.xyz/rish.eth/IVu3YxwgH74GdGyI0zqpW4OJRKERqb5rY33XDAnu4NA\" target=\"_blank\">https://mirror.xyz/rish.eth/IVu3YxwgH74GdGyI0zqpW4OJRKERqb5rY33XDAnu4NA</a><br><br>@dwr @v in case you have feedback [and thanks @manan for reading before I published]</div>\n",
       "    <p style=\"color: purple; margin: 10px 0 0;\">&#x1F49C; 21 <span style=\"margin-left: 5px; margin-top: 10px;\">&#x1F4AC; 3</span></p></div></div>"
      ],
      "text/plain": [
       "<IPython.core.display.HTML object>"
      ]
     },
     "metadata": {},
     "output_type": "display_data"
    },
    {
     "data": {
      "text/html": [
       "\n",
       "    <div style=\"border: 1px solid #ccc; max-width: 600px; padding: 25px; margin-bottom: 25px;\">\n",
       "        <div style=\"max-width: 550px; margin: 0 auto;\">\n",
       "            <p><strong><a href=\"https://searchcaster.xyz/search?merkleRoot=0x692e07257947cf739f2e902dca4cb90da01f3581\" target=\"_blank\">merkleRoot</a></strong></p>\n",
       "            <p><strong>@andyjagoe · fid 1095</strong></p>\n",
       "            <div style=\"word-wrap: break-word; margin: 10px 0;\">what do you do on FC you'd never do on bird app?<br><br>me: follow everybody<br><br>why?<br><br>FC is hand picked high signal web3 community where default open > default closed</div>\n",
       "    <p style=\"color: purple; margin: 10px 0 0;\">&#x1F49C; 21 <span style=\"margin-left: 5px; margin-top: 10px;\">&#x1F4AC; 3</span></p></div></div>"
      ],
      "text/plain": [
       "<IPython.core.display.HTML object>"
      ]
     },
     "metadata": {},
     "output_type": "display_data"
    },
    {
     "data": {
      "text/html": [
       "\n",
       "    <div style=\"border: 1px solid #ccc; max-width: 600px; padding: 25px; margin-bottom: 25px;\">\n",
       "        <div style=\"max-width: 550px; margin: 0 auto;\">\n",
       "            <p><strong><a href=\"https://searchcaster.xyz/search?merkleRoot=0xb0fee33601e6e915d97f9961f25c4033598c8d5d\" target=\"_blank\">merkleRoot</a></strong></p>\n",
       "            <p><strong>@mason · fid 50</strong></p>\n",
       "            <div style=\"word-wrap: break-word; margin: 10px 0;\">As someone who has been writing smart contracts since 2018, locally forking mainnet through Hardhat + Alchemy still feels magical. Dev tools have come a very long way since then.</div>\n",
       "    <p style=\"color: purple; margin: 10px 0 0;\">&#x1F49C; 21 <span style=\"margin-left: 5px; margin-top: 10px;\">&#x1F4AC; 1</span></p></div></div>"
      ],
      "text/plain": [
       "<IPython.core.display.HTML object>"
      ]
     },
     "metadata": {},
     "output_type": "display_data"
    },
    {
     "data": {
      "text/html": [
       "\n",
       "    <div style=\"border: 1px solid #ccc; max-width: 600px; padding: 25px; margin-bottom: 25px;\">\n",
       "        <div style=\"max-width: 550px; margin: 0 auto;\">\n",
       "            <p><strong><a href=\"https://searchcaster.xyz/search?merkleRoot=0x3408f9989fd1ed05d5a581c4ce8b98884d0f5aec\" target=\"_blank\">merkleRoot</a></strong></p>\n",
       "            <p><strong>@what · fid 1693</strong></p>\n",
       "            <div style=\"word-wrap: break-word; margin: 10px 0;\">Farcaster reminds me of early coinbase lunchroom culture. <br><br>- wicked smart, passionate people<br>- interesting topics + discussions<br>- bold ideas for the future<br>- tons of building</div>\n",
       "    <p style=\"color: purple; margin: 10px 0 0;\">&#x1F49C; 20 <span style=\"margin-left: 5px; margin-top: 10px;\">&#x1F4AC; 1</span></p></div></div>"
      ],
      "text/plain": [
       "<IPython.core.display.HTML object>"
      ]
     },
     "metadata": {},
     "output_type": "display_data"
    },
    {
     "data": {
      "text/html": [
       "\n",
       "    <div style=\"border: 1px solid #ccc; max-width: 600px; padding: 25px; margin-bottom: 25px;\">\n",
       "        <div style=\"max-width: 550px; margin: 0 auto;\">\n",
       "            <p><strong><a href=\"https://searchcaster.xyz/search?merkleRoot=0x7ce39d3892ae929c7f86e4fcc0837c0407bed8a4\" target=\"_blank\">merkleRoot</a></strong></p>\n",
       "            <p><strong>@izgnzlz · fid 1933</strong></p>\n",
       "            <div style=\"word-wrap: break-word; margin: 10px 0;\">The Twitter alternative we’ve all been looking for? Cozyweb at its finest.</div>\n",
       "    <p style=\"color: purple; margin: 10px 0 0;\">&#x1F49C; 20 <span style=\"margin-left: 5px; margin-top: 10px;\">&#x1F4AC; 0</span></p></div></div>"
      ],
      "text/plain": [
       "<IPython.core.display.HTML object>"
      ]
     },
     "metadata": {},
     "output_type": "display_data"
    },
    {
     "data": {
      "text/html": [
       "\n",
       "    <div style=\"border: 1px solid #ccc; max-width: 600px; padding: 25px; margin-bottom: 25px;\">\n",
       "        <div style=\"max-width: 550px; margin: 0 auto;\">\n",
       "            <p><strong><a href=\"https://searchcaster.xyz/search?merkleRoot=0x62947415f73bcfe38594852353cfa88a3a353840\" target=\"_blank\">merkleRoot</a></strong></p>\n",
       "            <p><strong>@yuga · fid 2099</strong></p>\n",
       "            <div style=\"word-wrap: break-word; margin: 10px 0;\">Not good at small talk? Don’t worry. Just shake your head and say “Fed has to tighten”</div>\n",
       "    <p style=\"color: purple; margin: 10px 0 0;\">&#x1F49C; 20 <span style=\"margin-left: 5px; margin-top: 10px;\">&#x1F4AC; 1</span></p></div></div>"
      ],
      "text/plain": [
       "<IPython.core.display.HTML object>"
      ]
     },
     "metadata": {},
     "output_type": "display_data"
    },
    {
     "data": {
      "text/html": [
       "\n",
       "    <div style=\"border: 1px solid #ccc; max-width: 600px; padding: 25px; margin-bottom: 25px;\">\n",
       "        <div style=\"max-width: 550px; margin: 0 auto;\">\n",
       "            <p><strong><a href=\"https://searchcaster.xyz/search?merkleRoot=0x647aa3f56a0ecc98207d72cb45db86c2b3f735f0\" target=\"_blank\">merkleRoot</a></strong></p>\n",
       "            <p><strong>@zach · fid 42</strong></p>\n",
       "            <div style=\"word-wrap: break-word; margin: 10px 0;\">Best books recently?</div>\n",
       "    <p style=\"color: purple; margin: 10px 0 0;\">&#x1F49C; 20 <span style=\"margin-left: 5px; margin-top: 10px;\">&#x1F4AC; 37</span></p></div></div>"
      ],
      "text/plain": [
       "<IPython.core.display.HTML object>"
      ]
     },
     "metadata": {},
     "output_type": "display_data"
    }
   ],
   "source": [
    "# TWLY: This Week Last Year - September 17 - 23, 2022\n",
    "# Compiled using Farcaster-Indexer & Searchcaster \n",
    "\n",
    "https://github.com/gskril/farcaster-indexer\n",
    "https://searchcaster.xyz"
   ]
  }
 ],
 "metadata": {
  "kernelspec": {
   "display_name": "Python 3 (ipykernel)",
   "language": "python",
   "name": "python3"
  },
  "language_info": {
   "codemirror_mode": {
    "name": "ipython",
    "version": 3
   },
   "file_extension": ".py",
   "mimetype": "text/x-python",
   "name": "python",
   "nbconvert_exporter": "python",
   "pygments_lexer": "ipython3",
   "version": "3.9.13"
  }
 },
 "nbformat": 4,
 "nbformat_minor": 5
}
