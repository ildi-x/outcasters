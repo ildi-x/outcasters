{
 "cells": [
  {
   "cell_type": "markdown",
   "id": "784b1f6d",
   "metadata": {},
   "source": [
    "## OUTCASTERS SNAPSHOT 024"
   ]
  },
  {
   "cell_type": "markdown",
   "id": "398ad3ad",
   "metadata": {},
   "source": [
    "https://outcasters.xyz "
   ]
  },
  {
   "cell_type": "code",
   "execution_count": 1,
   "id": "6471faa5",
   "metadata": {
    "scrolled": false
   },
   "outputs": [
    {
     "data": {
      "text/html": [
       "\n",
       "    <div style=\"max-width: 600px; margin-bottom: 25px;\">\n",
       "        <h2 style=\"margin-bottom: 15px;\">Total Casts</h2>\n",
       "        <p style=\"font-size: 18x; margin: 5px 0 5px;\">Including Replies: 14810</p>\n",
       "        <p style=\"font-size: 18x; margin: 5px 0;\">Excluding Replies: 4878</p>\n",
       "    </div>\n"
      ],
      "text/plain": [
       "<IPython.core.display.HTML object>"
      ]
     },
     "metadata": {},
     "output_type": "display_data"
    },
    {
     "data": {
      "text/html": [
       "<h2>Top 30 Most Active Users (Excluding Replies)</h2>"
      ],
      "text/plain": [
       "<IPython.core.display.HTML object>"
      ]
     },
     "metadata": {},
     "output_type": "display_data"
    },
    {
     "data": {
      "text/html": [
       "<p>Only original casts are considered for this calculation. Replies are excluded.</p>"
      ],
      "text/plain": [
       "<IPython.core.display.HTML object>"
      ]
     },
     "metadata": {},
     "output_type": "display_data"
    },
    {
     "data": {
      "text/html": [
       "<ol><li>welcome - 414 casts</li><li>tinkergabe - 79 casts</li><li>vgr - 70 casts</li><li>alexanderchopan - 54 casts</li><li>prompterminal - 52 casts</li><li>ace - 48 casts</li><li>giu - 46 casts</li><li>dwr - 43 casts</li><li>ivy - 42 casts</li><li>timdaub - 34 casts</li><li>juan - 32 casts</li><li>les - 31 casts</li><li>kazuma - 28 casts</li><li>manbearpig - 27 casts</li><li>homocryptus - 27 casts</li><li>ccarella - 27 casts</li><li>macbudkowski - 23 casts</li><li>abc - 23 casts</li><li>tg - 22 casts</li><li>mk - 21 casts</li><li>karl - 21 casts</li><li>cameron - 20 casts</li><li>samantha - 19 casts</li><li>warren - 19 casts</li><li>vercelabloh - 19 casts</li><li>pdr - 18 casts</li><li>bias - 18 casts</li><li>afra - 17 casts</li><li>pugson - 16 casts</li><li>garrett - 16 casts</li></ol>"
      ],
      "text/plain": [
       "<IPython.core.display.HTML object>"
      ]
     },
     "metadata": {},
     "output_type": "display_data"
    },
    {
     "data": {
      "text/html": [
       "<h2>Top 30 Most Active Users (Including Replies)</h2>"
      ],
      "text/plain": [
       "<IPython.core.display.HTML object>"
      ]
     },
     "metadata": {},
     "output_type": "display_data"
    },
    {
     "data": {
      "text/html": [
       "<p>All casts, including replies, are considered for this calculation.</p>"
      ],
      "text/plain": [
       "<IPython.core.display.HTML object>"
      ]
     },
     "metadata": {},
     "output_type": "display_data"
    },
    {
     "data": {
      "text/html": [
       "<ol><li>welcome - 414 casts</li><li>cameron - 348 casts</li><li>dwr - 196 casts</li><li>blobs - 156 casts</li><li>perl - 141 casts</li><li>vgr - 126 casts</li><li>nor - 123 casts</li><li>les - 120 casts</li><li>giu - 116 casts</li><li>briang - 114 casts</li><li>juan - 113 casts</li><li>ace - 112 casts</li><li>ccarella - 112 casts</li><li>pugson - 106 casts</li><li>alexanderchopan - 100 casts</li><li>timdaub - 100 casts</li><li>macbudkowski - 99 casts</li><li>bias - 97 casts</li><li>homocryptus - 96 casts</li><li>loracle - 93 casts</li><li>tinkergabe - 91 casts</li><li>slowcrypto - 90 casts</li><li>pfista - 89 casts</li><li>reece - 87 casts</li><li>gilles - 83 casts</li><li>wake - 82 casts</li><li>kmacbeth - 79 casts</li><li>ivy - 78 casts</li><li>pdr - 76 casts</li><li>phil - 76 casts</li></ol>"
      ],
      "text/plain": [
       "<IPython.core.display.HTML object>"
      ]
     },
     "metadata": {},
     "output_type": "display_data"
    },
    {
     "data": {
      "text/html": [
       "<h2>Top 100 casts ranked by total likes</h2>"
      ],
      "text/plain": [
       "<IPython.core.display.HTML object>"
      ]
     },
     "metadata": {},
     "output_type": "display_data"
    },
    {
     "data": {
      "text/html": [
       "\n",
       "    <div style=\"border: 1px solid #ccc; max-width: 600px; padding: 25px; margin-bottom: 25px;\">\n",
       "        <div style=\"max-width: 550px; margin: 0 auto;\">\n",
       "            <p><strong><a href=\"https://searchcaster.xyz/search?merkleRoot=0x2465d7a8fbddcc9e60ed468ef2a60489a0bd0db1\" target=\"_blank\">merkleRoot</a></strong></p>\n",
       "            <p><strong>@vbuterin · fid 5650</strong></p>\n",
       "            <div style=\"word-wrap: break-word; margin: 10px 0;\">The issue with Elon's latest actions is that this time, they are not partisan thoughtcrimes that primarily deeply offend wokes or anything like that. Rather, they go against cross-tribal principles that are a commonly understood bedrock of fair competition. This crosses a new line.</div>\n",
       "    <p style=\"color: purple; margin: 10px 0 0;\">&#x1F49C; 209 <span style=\"margin-left: 5px; margin-top: 10px;\">&#x1F4AC; 20</span></p></div></div>"
      ],
      "text/plain": [
       "<IPython.core.display.HTML object>"
      ]
     },
     "metadata": {},
     "output_type": "display_data"
    },
    {
     "data": {
      "text/html": [
       "\n",
       "    <div style=\"border: 1px solid #ccc; max-width: 600px; padding: 25px; margin-bottom: 25px;\">\n",
       "        <div style=\"max-width: 550px; margin: 0 auto;\">\n",
       "            <p><strong><a href=\"https://searchcaster.xyz/search?merkleRoot=0x9a084fe8a5518c6659d174ecbbd2d66eeb90235a\" target=\"_blank\">merkleRoot</a></strong></p>\n",
       "            <p><strong>@vbuterin · fid 5650</strong></p>\n",
       "            <div style=\"word-wrap: break-word; margin: 10px 0;\">Mini-thread: against the \"One Commandment\"<br><br>Balaji's The Network State (see my review <a href=\"https://vitalik.ca/general/2022/07/13/networkstates.html\" target=\"_blank\">https://vitalik.ca/general/2022/07/13/networkstates.html</a> ) has a concept called \"the one commandment\": a new startup society should have one key moral value that differs from the outside world. I argue that this is wrong.</div>\n",
       "    <p style=\"color: purple; margin: 10px 0 0;\">&#x1F49C; 142 <span style=\"margin-left: 5px; margin-top: 10px;\">&#x1F4AC; 27</span></p></div></div>"
      ],
      "text/plain": [
       "<IPython.core.display.HTML object>"
      ]
     },
     "metadata": {},
     "output_type": "display_data"
    },
    {
     "data": {
      "text/html": [
       "\n",
       "    <div style=\"border: 1px solid #ccc; max-width: 600px; padding: 25px; margin-bottom: 25px;\">\n",
       "        <div style=\"max-width: 550px; margin: 0 auto;\">\n",
       "            <p><strong><a href=\"https://searchcaster.xyz/search?merkleRoot=0x4caf7317b221783c03cd17b61898fe236faef196\" target=\"_blank\">merkleRoot</a></strong></p>\n",
       "            <p><strong>@dwr · fid 3</strong></p>\n",
       "            <div style=\"word-wrap: break-word; margin: 10px 0;\">If you're hoping to see Farcaster as a protocol succeed, things you can do in order of effort:<br><br>1. Use at least 1 Farcaster app every day<br><br>2. Show and tell friends Farcaster and then refer them to signup<br><br>3. Build a Farcaster app</div>\n",
       "    <p style=\"color: purple; margin: 10px 0 0;\">&#x1F49C; 132 <span style=\"margin-left: 5px; margin-top: 10px;\">&#x1F4AC; 11</span></p></div></div>"
      ],
      "text/plain": [
       "<IPython.core.display.HTML object>"
      ]
     },
     "metadata": {},
     "output_type": "display_data"
    },
    {
     "data": {
      "text/html": [
       "\n",
       "    <div style=\"border: 1px solid #ccc; max-width: 600px; padding: 25px; margin-bottom: 25px;\">\n",
       "        <div style=\"max-width: 550px; margin: 0 auto;\">\n",
       "            <p><strong><a href=\"https://searchcaster.xyz/search?merkleRoot=0xd9998ce7542fc445b451dc77e8d312bd9dca65da\" target=\"_blank\">merkleRoot</a></strong></p>\n",
       "            <p><strong>@vbuterin · fid 5650</strong></p>\n",
       "            <div style=\"word-wrap: break-word; margin: 10px 0;\">From a classical liberal perspective, Switzerland's governance seems utopian. Low taxes, good services even for low income people despite the low taxes, very decentralized government, and it really does seem true that \"no one bothers to know who the president is\".<br><br>My big question: what's the catch?</div>\n",
       "    <p style=\"color: purple; margin: 10px 0 0;\">&#x1F49C; 126 <span style=\"margin-left: 5px; margin-top: 10px;\">&#x1F4AC; 29</span></p></div></div>"
      ],
      "text/plain": [
       "<IPython.core.display.HTML object>"
      ]
     },
     "metadata": {},
     "output_type": "display_data"
    },
    {
     "data": {
      "text/html": [
       "\n",
       "    <div style=\"border: 1px solid #ccc; max-width: 600px; padding: 25px; margin-bottom: 25px;\">\n",
       "        <div style=\"max-width: 550px; margin: 0 auto;\">\n",
       "            <p><strong><a href=\"https://searchcaster.xyz/search?merkleRoot=0xb032feccccad6a8779546b8076916c557d03b30f\" target=\"_blank\">merkleRoot</a></strong></p>\n",
       "            <p><strong>@balajis · fid 37</strong></p>\n",
       "            <div style=\"word-wrap: break-word; margin: 10px 0;\">Farcaster is a single-tribe network, not a social network.<br><br>Big difference.</div>\n",
       "    <p style=\"color: purple; margin: 10px 0 0;\">&#x1F49C; 119 <span style=\"margin-left: 5px; margin-top: 10px;\">&#x1F4AC; 17</span></p></div></div>"
      ],
      "text/plain": [
       "<IPython.core.display.HTML object>"
      ]
     },
     "metadata": {},
     "output_type": "display_data"
    },
    {
     "data": {
      "text/html": [
       "\n",
       "    <div style=\"border: 1px solid #ccc; max-width: 600px; padding: 25px; margin-bottom: 25px;\">\n",
       "        <div style=\"max-width: 550px; margin: 0 auto;\">\n",
       "            <p><strong><a href=\"https://searchcaster.xyz/search?merkleRoot=0xea45ae042950bd907970242e729541af73e237e0\" target=\"_blank\">merkleRoot</a></strong></p>\n",
       "            <p><strong>@pfista · fid 451</strong></p>\n",
       "            <div style=\"word-wrap: break-word; margin: 10px 0;\">Working on a new holiday project, watch below for updates 😄 </div>\n",
       "    <div style=\"text-align: center;\"><img src=\"https://i.imgur.com/t5v66oB.jpg\" style=\"max-width: 550px; margin-top: 10px;\"></div><p style=\"color: purple; margin: 10px 0 0;\">&#x1F49C; 115 <span style=\"margin-left: 5px; margin-top: 10px;\">&#x1F4AC; 31</span></p></div></div>"
      ],
      "text/plain": [
       "<IPython.core.display.HTML object>"
      ]
     },
     "metadata": {},
     "output_type": "display_data"
    },
    {
     "data": {
      "text/html": [
       "\n",
       "    <div style=\"border: 1px solid #ccc; max-width: 600px; padding: 25px; margin-bottom: 25px;\">\n",
       "        <div style=\"max-width: 550px; margin: 0 auto;\">\n",
       "            <p><strong><a href=\"https://searchcaster.xyz/search?merkleRoot=0x412636a4f98bc9a9e3bf962a67f93b9a2aea4665\" target=\"_blank\">merkleRoot</a></strong></p>\n",
       "            <p><strong>@dwr · fid 3</strong></p>\n",
       "            <div style=\"word-wrap: break-word; margin: 10px 0;\">gm anyone have fun end of year travel plans?</div>\n",
       "    <p style=\"color: purple; margin: 10px 0 0;\">&#x1F49C; 98 <span style=\"margin-left: 5px; margin-top: 10px;\">&#x1F4AC; 53</span></p></div></div>"
      ],
      "text/plain": [
       "<IPython.core.display.HTML object>"
      ]
     },
     "metadata": {},
     "output_type": "display_data"
    },
    {
     "data": {
      "text/html": [
       "\n",
       "    <div style=\"border: 1px solid #ccc; max-width: 600px; padding: 25px; margin-bottom: 25px;\">\n",
       "        <div style=\"max-width: 550px; margin: 0 auto;\">\n",
       "            <p><strong><a href=\"https://searchcaster.xyz/search?merkleRoot=0x57e7611429dc56a33807e22fd511c58332464edf\" target=\"_blank\">merkleRoot</a></strong></p>\n",
       "            <p><strong>@tylerbenmark · fid 1652</strong></p>\n",
       "            <div style=\"word-wrap: break-word; margin: 10px 0;\">purchased our first home today.<br><br>feels surreal and incredible. <br><br>laying our roots in New York City.</div>\n",
       "    <p style=\"color: purple; margin: 10px 0 0;\">&#x1F49C; 98 <span style=\"margin-left: 5px; margin-top: 10px;\">&#x1F4AC; 27</span></p></div></div>"
      ],
      "text/plain": [
       "<IPython.core.display.HTML object>"
      ]
     },
     "metadata": {},
     "output_type": "display_data"
    },
    {
     "data": {
      "text/html": [
       "\n",
       "    <div style=\"border: 1px solid #ccc; max-width: 600px; padding: 25px; margin-bottom: 25px;\">\n",
       "        <div style=\"max-width: 550px; margin: 0 auto;\">\n",
       "            <p><strong><a href=\"https://searchcaster.xyz/search?merkleRoot=0xa763579c2af98dc61bc24abdb1666b62b8216f36\" target=\"_blank\">merkleRoot</a></strong></p>\n",
       "            <p><strong>@v · fid 2</strong></p>\n",
       "            <div style=\"word-wrap: break-word; margin: 10px 0;\">Would you be interested in a video walkthrough of the Farcaster spec? <br><br>If yes, what sections are you most interested in learning more about?<br><br><a href=\"https://github.com/farcasterxyz/protocol\" target=\"_blank\">https://github.com/farcasterxyz/protocol</a></div>\n",
       "    <p style=\"color: purple; margin: 10px 0 0;\">&#x1F49C; 97 <span style=\"margin-left: 5px; margin-top: 10px;\">&#x1F4AC; 15</span></p></div></div>"
      ],
      "text/plain": [
       "<IPython.core.display.HTML object>"
      ]
     },
     "metadata": {},
     "output_type": "display_data"
    },
    {
     "data": {
      "text/html": [
       "\n",
       "    <div style=\"border: 1px solid #ccc; max-width: 600px; padding: 25px; margin-bottom: 25px;\">\n",
       "        <div style=\"max-width: 550px; margin: 0 auto;\">\n",
       "            <p><strong><a href=\"https://searchcaster.xyz/search?merkleRoot=0x9fc58c07d397f50ff54a75461f217ce79f605b40\" target=\"_blank\">merkleRoot</a></strong></p>\n",
       "            <p><strong>@vbuterin · fid 5650</strong></p>\n",
       "            <div style=\"word-wrap: break-word; margin: 10px 0;\">It seems to be a common viewpoint that it's \"obviously\" naive to think that the same political institutions could work for everyone around the world.<br><br>But lots of day-to-day-life things (city structures, school systems, increasingly even food...) seem to globalize quickly just fine.<br><br>Why the difference?</div>\n",
       "    <p style=\"color: purple; margin: 10px 0 0;\">&#x1F49C; 95 <span style=\"margin-left: 5px; margin-top: 10px;\">&#x1F4AC; 28</span></p></div></div>"
      ],
      "text/plain": [
       "<IPython.core.display.HTML object>"
      ]
     },
     "metadata": {},
     "output_type": "display_data"
    },
    {
     "data": {
      "text/html": [
       "\n",
       "    <div style=\"border: 1px solid #ccc; max-width: 600px; padding: 25px; margin-bottom: 25px;\">\n",
       "        <div style=\"max-width: 550px; margin: 0 auto;\">\n",
       "            <p><strong><a href=\"https://searchcaster.xyz/search?merkleRoot=0x0d7d01a0d693625f6d055035ea62b53d5989f82c\" target=\"_blank\">merkleRoot</a></strong></p>\n",
       "            <p><strong>@colin · fid 378</strong></p>\n",
       "            <div style=\"word-wrap: break-word; margin: 10px 0;\">gm<br><br>On a hike yesterday I encountered a bobcat. Never seen one before! </div>\n",
       "    <div style=\"text-align: center;\"><img src=\"https://i.imgur.com/L8lHWPp.jpg\" style=\"max-width: 550px; margin-top: 10px;\"></div><p style=\"color: purple; margin: 10px 0 0;\">&#x1F49C; 94 <span style=\"margin-left: 5px; margin-top: 10px;\">&#x1F4AC; 6</span></p></div></div>"
      ],
      "text/plain": [
       "<IPython.core.display.HTML object>"
      ]
     },
     "metadata": {},
     "output_type": "display_data"
    },
    {
     "data": {
      "text/html": [
       "\n",
       "    <div style=\"border: 1px solid #ccc; max-width: 600px; padding: 25px; margin-bottom: 25px;\">\n",
       "        <div style=\"max-width: 550px; margin: 0 auto;\">\n",
       "            <p><strong><a href=\"https://searchcaster.xyz/search?merkleRoot=0x8e8600054e49956a92c77c93d36039405b45756f\" target=\"_blank\">merkleRoot</a></strong></p>\n",
       "            <p><strong>@3lau · fid 81</strong></p>\n",
       "            <div style=\"word-wrap: break-word; margin: 10px 0;\">1st full calendar year as a founder.<br><br>Can confirm: <br><br>Being a DJ is WAY easier than being a founder.<br><br>I have so much new-found respect for everyone who is building for the future 💎</div>\n",
       "    <p style=\"color: purple; margin: 10px 0 0;\">&#x1F49C; 89 <span style=\"margin-left: 5px; margin-top: 10px;\">&#x1F4AC; 15</span></p></div></div>"
      ],
      "text/plain": [
       "<IPython.core.display.HTML object>"
      ]
     },
     "metadata": {},
     "output_type": "display_data"
    },
    {
     "data": {
      "text/html": [
       "\n",
       "    <div style=\"border: 1px solid #ccc; max-width: 600px; padding: 25px; margin-bottom: 25px;\">\n",
       "        <div style=\"max-width: 550px; margin: 0 auto;\">\n",
       "            <p><strong><a href=\"https://searchcaster.xyz/search?merkleRoot=0xabe6377f1329b9b0a62b63778552951983983b9f\" target=\"_blank\">merkleRoot</a></strong></p>\n",
       "            <p><strong>@dwr · fid 3</strong></p>\n",
       "            <div style=\"word-wrap: break-word; margin: 10px 0;\">Wrote this last month, same thinking applies today.<br><br> </div>\n",
       "    <div style=\"text-align: center;\"><img src=\"https://i.imgur.com/0RxiOan.png\" style=\"max-width: 550px; margin-top: 10px;\"></div><p style=\"color: purple; margin: 10px 0 0;\">&#x1F49C; 86 <span style=\"margin-left: 5px; margin-top: 10px;\">&#x1F4AC; 8</span></p></div></div>"
      ],
      "text/plain": [
       "<IPython.core.display.HTML object>"
      ]
     },
     "metadata": {},
     "output_type": "display_data"
    },
    {
     "data": {
      "text/html": [
       "\n",
       "    <div style=\"border: 1px solid #ccc; max-width: 600px; padding: 25px; margin-bottom: 25px;\">\n",
       "        <div style=\"max-width: 550px; margin: 0 auto;\">\n",
       "            <p><strong><a href=\"https://searchcaster.xyz/search?merkleRoot=0x1d1b5c5f1e827201c4a18d50a1d89252a4a98c55\" target=\"_blank\">merkleRoot</a></strong></p>\n",
       "            <p><strong>@jacob · fid 8</strong></p>\n",
       "            <div style=\"word-wrap: break-word; margin: 10px 0;\">what upgrading to “Farcast” unlocks: <br><br>Cast: a post <br>Farcaster: a person who posts casts<br>Farcast: where this all happens <br><br>Kinda like: <br>video, YouTuber, YouTube </div>\n",
       "    <div style=\"text-align: center;\"><img src=\"https://i.imgur.com/HMRtmgR.jpg\" style=\"max-width: 550px; margin-top: 10px;\"></div><p style=\"color: purple; margin: 10px 0 0;\">&#x1F49C; 84 <span style=\"margin-left: 5px; margin-top: 10px;\">&#x1F4AC; 16</span></p></div></div>"
      ],
      "text/plain": [
       "<IPython.core.display.HTML object>"
      ]
     },
     "metadata": {},
     "output_type": "display_data"
    },
    {
     "data": {
      "text/html": [
       "\n",
       "    <div style=\"border: 1px solid #ccc; max-width: 600px; padding: 25px; margin-bottom: 25px;\">\n",
       "        <div style=\"max-width: 550px; margin: 0 auto;\">\n",
       "            <p><strong><a href=\"https://searchcaster.xyz/search?merkleRoot=0xe7d16f9faeaac9c4a6197e08787712cb32405c82\" target=\"_blank\">merkleRoot</a></strong></p>\n",
       "            <p><strong>@dwr · fid 3</strong></p>\n",
       "            <div style=\"word-wrap: break-word; margin: 10px 0;\">Feature we hope to not use often but wanted people to know about: nerfs </div>\n",
       "    <div style=\"text-align: center;\"><img src=\"https://i.imgur.com/htvGlGd.png\" style=\"max-width: 550px; margin-top: 10px;\"></div><p style=\"color: purple; margin: 10px 0 0;\">&#x1F49C; 80 <span style=\"margin-left: 5px; margin-top: 10px;\">&#x1F4AC; 18</span></p></div></div>"
      ],
      "text/plain": [
       "<IPython.core.display.HTML object>"
      ]
     },
     "metadata": {},
     "output_type": "display_data"
    },
    {
     "data": {
      "text/html": [
       "\n",
       "    <div style=\"border: 1px solid #ccc; max-width: 600px; padding: 25px; margin-bottom: 25px;\">\n",
       "        <div style=\"max-width: 550px; margin: 0 auto;\">\n",
       "            <p><strong><a href=\"https://searchcaster.xyz/search?merkleRoot=0xaef7f93939baaf585f38ad17abd6548f4e1922c3\" target=\"_blank\">merkleRoot</a></strong></p>\n",
       "            <p><strong>@les · fid 312</strong></p>\n",
       "            <div style=\"word-wrap: break-word; margin: 10px 0;\">Still available for 13more days.<br><br>Free for all FC members, if a price shows up for your wallet, please DC or comment below your address. <br><br><a href=\"https://create.zora.co/collections/0x8aef4fe1b09793ca73852ec931eb7ec7d1e3b322\" target=\"_blank\">https://create.zora.co/collections/0x8aef4fe1b09793ca73852ec931eb7ec7d1e3b322</a></div>\n",
       "    <p style=\"color: purple; margin: 10px 0 0;\">&#x1F49C; 79 <span style=\"margin-left: 5px; margin-top: 10px;\">&#x1F4AC; 62</span></p></div></div>"
      ],
      "text/plain": [
       "<IPython.core.display.HTML object>"
      ]
     },
     "metadata": {},
     "output_type": "display_data"
    },
    {
     "data": {
      "text/html": [
       "\n",
       "    <div style=\"border: 1px solid #ccc; max-width: 600px; padding: 25px; margin-bottom: 25px;\">\n",
       "        <div style=\"max-width: 550px; margin: 0 auto;\">\n",
       "            <p><strong><a href=\"https://searchcaster.xyz/search?merkleRoot=0x28ab1dd2f1bb127cb649737c7a1dd450005aaf91\" target=\"_blank\">merkleRoot</a></strong></p>\n",
       "            <p><strong>@dwr · fid 3</strong></p>\n",
       "            <div style=\"word-wrap: break-word; margin: 10px 0;\">Semi-regular Farcaster annoyances thread<br><br>What's something that constantly annoys you when using Farcaster?<br><br>More specific and minor the better. Screenshots extremely useful!<br><br>Here's the existing list. Feel free to give input for priority on this one and add any new ones. </div>\n",
       "    <div style=\"text-align: center;\"><img src=\"https://i.imgur.com/cbOjuda.png\" style=\"max-width: 550px; margin-top: 10px;\"></div><p style=\"color: purple; margin: 10px 0 0;\">&#x1F49C; 75 <span style=\"margin-left: 5px; margin-top: 10px;\">&#x1F4AC; 104</span></p></div></div>"
      ],
      "text/plain": [
       "<IPython.core.display.HTML object>"
      ]
     },
     "metadata": {},
     "output_type": "display_data"
    },
    {
     "data": {
      "text/html": [
       "\n",
       "    <div style=\"border: 1px solid #ccc; max-width: 600px; padding: 25px; margin-bottom: 25px;\">\n",
       "        <div style=\"max-width: 550px; margin: 0 auto;\">\n",
       "            <p><strong><a href=\"https://searchcaster.xyz/search?merkleRoot=0xaa4861d7280385dd71725a675ac4b2578added9c\" target=\"_blank\">merkleRoot</a></strong></p>\n",
       "            <p><strong>@garrytan · fid 72</strong></p>\n",
       "            <div style=\"word-wrap: break-word; margin: 10px 0;\">Linked to Farcaster and hope to bring more people here now that Twitter is in questionable shape<br><br><a href=\"https://blog.garrytan.com/about-me\" target=\"_blank\">https://blog.garrytan.com/about-me</a></div>\n",
       "    <p style=\"color: purple; margin: 10px 0 0;\">&#x1F49C; 72 <span style=\"margin-left: 5px; margin-top: 10px;\">&#x1F4AC; 8</span></p></div></div>"
      ],
      "text/plain": [
       "<IPython.core.display.HTML object>"
      ]
     },
     "metadata": {},
     "output_type": "display_data"
    },
    {
     "data": {
      "text/html": [
       "\n",
       "    <div style=\"border: 1px solid #ccc; max-width: 600px; padding: 25px; margin-bottom: 25px;\">\n",
       "        <div style=\"max-width: 550px; margin: 0 auto;\">\n",
       "            <p><strong><a href=\"https://searchcaster.xyz/search?merkleRoot=0x5b258587361747d5e19ffefa36e9154484a62f43\" target=\"_blank\">merkleRoot</a></strong></p>\n",
       "            <p><strong>@ace · fid 539</strong></p>\n",
       "            <div style=\"word-wrap: break-word; margin: 10px 0;\">I honestly think Farcaster is just a much better experience. Is it the wallet requirement? Why do people keep mentioning Mastodon the most? </div>\n",
       "    <div style=\"text-align: center;\"><img src=\"https://i.imgur.com/z4zzsCv.png\" style=\"max-width: 550px; margin-top: 10px;\"></div><p style=\"color: purple; margin: 10px 0 0;\">&#x1F49C; 68 <span style=\"margin-left: 5px; margin-top: 10px;\">&#x1F4AC; 26</span></p></div></div>"
      ],
      "text/plain": [
       "<IPython.core.display.HTML object>"
      ]
     },
     "metadata": {},
     "output_type": "display_data"
    },
    {
     "data": {
      "text/html": [
       "\n",
       "    <div style=\"border: 1px solid #ccc; max-width: 600px; padding: 25px; margin-bottom: 25px;\">\n",
       "        <div style=\"max-width: 550px; margin: 0 auto;\">\n",
       "            <p><strong><a href=\"https://searchcaster.xyz/search?merkleRoot=0xc2f3b98120f8b328cf8a030cedfa7a0033bcd3e5\" target=\"_blank\">merkleRoot</a></strong></p>\n",
       "            <p><strong>@dcposch · fid 56</strong></p>\n",
       "            <div style=\"word-wrap: break-word; margin: 10px 0;\">the aesthetics of the argentine flag are unmatched </div>\n",
       "    <div style=\"text-align: center;\"><img src=\"https://i.imgur.com/TBWJjuN.png\" style=\"max-width: 550px; margin-top: 10px;\"></div><p style=\"color: purple; margin: 10px 0 0;\">&#x1F49C; 64 <span style=\"margin-left: 5px; margin-top: 10px;\">&#x1F4AC; 7</span></p></div></div>"
      ],
      "text/plain": [
       "<IPython.core.display.HTML object>"
      ]
     },
     "metadata": {},
     "output_type": "display_data"
    },
    {
     "data": {
      "text/html": [
       "\n",
       "    <div style=\"border: 1px solid #ccc; max-width: 600px; padding: 25px; margin-bottom: 25px;\">\n",
       "        <div style=\"max-width: 550px; margin: 0 auto;\">\n",
       "            <p><strong><a href=\"https://searchcaster.xyz/search?merkleRoot=0x556142344e748eb2c1384b859bf4eac19fd5b9d0\" target=\"_blank\">merkleRoot</a></strong></p>\n",
       "            <p><strong>@dwr · fid 3</strong></p>\n",
       "            <div style=\"word-wrap: break-word; margin: 10px 0;\">A warm Farcaster welcome to @pinged!</div>\n",
       "    <p style=\"color: purple; margin: 10px 0 0;\">&#x1F49C; 63 <span style=\"margin-left: 5px; margin-top: 10px;\">&#x1F4AC; 10</span></p></div></div>"
      ],
      "text/plain": [
       "<IPython.core.display.HTML object>"
      ]
     },
     "metadata": {},
     "output_type": "display_data"
    },
    {
     "data": {
      "text/html": [
       "\n",
       "    <div style=\"border: 1px solid #ccc; max-width: 600px; padding: 25px; margin-bottom: 25px;\">\n",
       "        <div style=\"max-width: 550px; margin: 0 auto;\">\n",
       "            <p><strong><a href=\"https://searchcaster.xyz/search?merkleRoot=0xebd86c12ee4565eda7a6a2cb6643dd2d9d1fc9f6\" target=\"_blank\">merkleRoot</a></strong></p>\n",
       "            <p><strong>@fredwilson · fid 169</strong></p>\n",
       "            <div style=\"word-wrap: break-word; margin: 10px 0;\">Hi Farcasters. This is a nice blog post my wife wrote about me and my partner Brad who started USV with me <a href=\"https://gothamgal.com/2022/12/usvs-first-fund-closes/\" target=\"_blank\">https://gothamgal.com/2022/12/usvs-first-fund-closes/</a></div>\n",
       "    <p style=\"color: purple; margin: 10px 0 0;\">&#x1F49C; 63 <span style=\"margin-left: 5px; margin-top: 10px;\">&#x1F4AC; 12</span></p></div></div>"
      ],
      "text/plain": [
       "<IPython.core.display.HTML object>"
      ]
     },
     "metadata": {},
     "output_type": "display_data"
    },
    {
     "data": {
      "text/html": [
       "\n",
       "    <div style=\"border: 1px solid #ccc; max-width: 600px; padding: 25px; margin-bottom: 25px;\">\n",
       "        <div style=\"max-width: 550px; margin: 0 auto;\">\n",
       "            <p><strong><a href=\"https://searchcaster.xyz/search?merkleRoot=0x61bf205b7e4ae838c05ff9d4096eef2de0cc57ee\" target=\"_blank\">merkleRoot</a></strong></p>\n",
       "            <p><strong>@dwr · fid 3</strong></p>\n",
       "            <div style=\"word-wrap: break-word; margin: 10px 0;\">I wish Apple monitors and iMacs had Face ID. Touch ID on Apple Keyboards is great but I don't use an Apple Keyboard...</div>\n",
       "    <p style=\"color: purple; margin: 10px 0 0;\">&#x1F49C; 62 <span style=\"margin-left: 5px; margin-top: 10px;\">&#x1F4AC; 19</span></p></div></div>"
      ],
      "text/plain": [
       "<IPython.core.display.HTML object>"
      ]
     },
     "metadata": {},
     "output_type": "display_data"
    },
    {
     "data": {
      "text/html": [
       "\n",
       "    <div style=\"border: 1px solid #ccc; max-width: 600px; padding: 25px; margin-bottom: 25px;\">\n",
       "        <div style=\"max-width: 550px; margin: 0 auto;\">\n",
       "            <p><strong><a href=\"https://searchcaster.xyz/search?merkleRoot=0xd15ec1afea6a727dc6feed3534d026cb343575a5\" target=\"_blank\">merkleRoot</a></strong></p>\n",
       "            <p><strong>@n · fid 274</strong></p>\n",
       "            <div style=\"word-wrap: break-word; margin: 10px 0;\">Farcaster is what Mastodon should have been<br><br>The user uses a single self-hosted identity (wallet) across the whole ecosystem. No migrating and switching accounts between instances and no exposed private messages.</div>\n",
       "    <p style=\"color: purple; margin: 10px 0 0;\">&#x1F49C; 62 <span style=\"margin-left: 5px; margin-top: 10px;\">&#x1F4AC; 4</span></p></div></div>"
      ],
      "text/plain": [
       "<IPython.core.display.HTML object>"
      ]
     },
     "metadata": {},
     "output_type": "display_data"
    },
    {
     "data": {
      "text/html": [
       "\n",
       "    <div style=\"border: 1px solid #ccc; max-width: 600px; padding: 25px; margin-bottom: 25px;\">\n",
       "        <div style=\"max-width: 550px; margin: 0 auto;\">\n",
       "            <p><strong><a href=\"https://searchcaster.xyz/search?merkleRoot=0x968d1012a5f9d932da85ede4412865bf464d5b2c\" target=\"_blank\">merkleRoot</a></strong></p>\n",
       "            <p><strong>@dwr · fid 3</strong></p>\n",
       "            <div style=\"word-wrap: break-word; margin: 10px 0;\">A warm Farcaster welcome to @dankrad!</div>\n",
       "    <p style=\"color: purple; margin: 10px 0 0;\">&#x1F49C; 61 <span style=\"margin-left: 5px; margin-top: 10px;\">&#x1F4AC; 9</span></p></div></div>"
      ],
      "text/plain": [
       "<IPython.core.display.HTML object>"
      ]
     },
     "metadata": {},
     "output_type": "display_data"
    },
    {
     "data": {
      "text/html": [
       "\n",
       "    <div style=\"border: 1px solid #ccc; max-width: 600px; padding: 25px; margin-bottom: 25px;\">\n",
       "        <div style=\"max-width: 550px; margin: 0 auto;\">\n",
       "            <p><strong><a href=\"https://searchcaster.xyz/search?merkleRoot=0xb93ed44814be7705cc8267df06ecb392c52128bd\" target=\"_blank\">merkleRoot</a></strong></p>\n",
       "            <p><strong>@balajis · fid 37</strong></p>\n",
       "            <div style=\"word-wrap: break-word; margin: 10px 0;\">The best jurisdictions for crypto as of right now:<br><br> - Outside the US, Dubai<br> - Inside the US, Wyoming<br><br>Agree or disagree?</div>\n",
       "    <p style=\"color: purple; margin: 10px 0 0;\">&#x1F49C; 61 <span style=\"margin-left: 5px; margin-top: 10px;\">&#x1F4AC; 22</span></p></div></div>"
      ],
      "text/plain": [
       "<IPython.core.display.HTML object>"
      ]
     },
     "metadata": {},
     "output_type": "display_data"
    },
    {
     "data": {
      "text/html": [
       "\n",
       "    <div style=\"border: 1px solid #ccc; max-width: 600px; padding: 25px; margin-bottom: 25px;\">\n",
       "        <div style=\"max-width: 550px; margin: 0 auto;\">\n",
       "            <p><strong><a href=\"https://searchcaster.xyz/search?merkleRoot=0x39bfe557e686821d368860a6b7f1d743b6e011e9\" target=\"_blank\">merkleRoot</a></strong></p>\n",
       "            <p><strong>@pushix · fid 359</strong></p>\n",
       "            <div style=\"word-wrap: break-word; margin: 10px 0;\">ge from Truckee </div>\n",
       "    <div style=\"text-align: center;\"><img src=\"https://i.imgur.com/kPT3Jku.jpg\" style=\"max-width: 550px; margin-top: 10px;\"></div><p style=\"color: purple; margin: 10px 0 0;\">&#x1F49C; 61 <span style=\"margin-left: 5px; margin-top: 10px;\">&#x1F4AC; 7</span></p></div></div>"
      ],
      "text/plain": [
       "<IPython.core.display.HTML object>"
      ]
     },
     "metadata": {},
     "output_type": "display_data"
    },
    {
     "data": {
      "text/html": [
       "\n",
       "    <div style=\"border: 1px solid #ccc; max-width: 600px; padding: 25px; margin-bottom: 25px;\">\n",
       "        <div style=\"max-width: 550px; margin: 0 auto;\">\n",
       "            <p><strong><a href=\"https://searchcaster.xyz/search?merkleRoot=0x033fce68045f4d8004ecf33d3c2a39e636ed1d0e\" target=\"_blank\">merkleRoot</a></strong></p>\n",
       "            <p><strong>@cameron · fid 617</strong></p>\n",
       "            <div style=\"word-wrap: break-word; margin: 10px 0;\">What’s pound for pound the best habit or life change you made in 2022?<br><br>Looking for some life altering ideas for 2023 😩🫡</div>\n",
       "    <p style=\"color: purple; margin: 10px 0 0;\">&#x1F49C; 61 <span style=\"margin-left: 5px; margin-top: 10px;\">&#x1F4AC; 66</span></p></div></div>"
      ],
      "text/plain": [
       "<IPython.core.display.HTML object>"
      ]
     },
     "metadata": {},
     "output_type": "display_data"
    },
    {
     "data": {
      "text/html": [
       "\n",
       "    <div style=\"border: 1px solid #ccc; max-width: 600px; padding: 25px; margin-bottom: 25px;\">\n",
       "        <div style=\"max-width: 550px; margin: 0 auto;\">\n",
       "            <p><strong><a href=\"https://searchcaster.xyz/search?merkleRoot=0x0aec64757f0e1158b79de2049bfac5a37612216f\" target=\"_blank\">merkleRoot</a></strong></p>\n",
       "            <p><strong>@dwr · fid 3</strong></p>\n",
       "            <div style=\"word-wrap: break-word; margin: 10px 0;\">Welcome to all of the recent arrivals to Farcaster!<br><br>There's a bunch of information on what's going on behind the scenes and how we're thinking about various part of our roadmap.<br><br><a href=\"https://farcasterxyz.notion.site/Farcaster-screenshot-essays-dae3d2a2a1484d1f89691399dd47c0fc\" target=\"_blank\">https://farcasterxyz.notion.site/Farcaster-screenshot-essays-dae3d2a2a1484d1f89691399dd47c0fc</a> </div>\n",
       "    <div style=\"text-align: center;\"><img src=\"https://i.imgur.com/AhnTSq4.png\" style=\"max-width: 550px; margin-top: 10px;\"></div><p style=\"color: purple; margin: 10px 0 0;\">&#x1F49C; 59 <span style=\"margin-left: 5px; margin-top: 10px;\">&#x1F4AC; 4</span></p></div></div>"
      ],
      "text/plain": [
       "<IPython.core.display.HTML object>"
      ]
     },
     "metadata": {},
     "output_type": "display_data"
    },
    {
     "data": {
      "text/html": [
       "\n",
       "    <div style=\"border: 1px solid #ccc; max-width: 600px; padding: 25px; margin-bottom: 25px;\">\n",
       "        <div style=\"max-width: 550px; margin: 0 auto;\">\n",
       "            <p><strong><a href=\"https://searchcaster.xyz/search?merkleRoot=0xb003ba83787d765d50d7b15f179e33817c61047b\" target=\"_blank\">merkleRoot</a></strong></p>\n",
       "            <p><strong>@ted · fid 239</strong></p>\n",
       "            <div style=\"word-wrap: break-word; margin: 10px 0;\">80% of my feed right now is casts about Elon or Twitter (I’m guilty of this yesterday), and tbh I came to FC to escape the crisis and the echo chamber.<br><br>So what’s something — anything! — that you’re excited about this coming week?</div>\n",
       "    <p style=\"color: purple; margin: 10px 0 0;\">&#x1F49C; 58 <span style=\"margin-left: 5px; margin-top: 10px;\">&#x1F4AC; 50</span></p></div></div>"
      ],
      "text/plain": [
       "<IPython.core.display.HTML object>"
      ]
     },
     "metadata": {},
     "output_type": "display_data"
    },
    {
     "data": {
      "text/html": [
       "\n",
       "    <div style=\"border: 1px solid #ccc; max-width: 600px; padding: 25px; margin-bottom: 25px;\">\n",
       "        <div style=\"max-width: 550px; margin: 0 auto;\">\n",
       "            <p><strong><a href=\"https://searchcaster.xyz/search?merkleRoot=0xae777e42a998378d28898f63f5656c19f39b8b8c\" target=\"_blank\">merkleRoot</a></strong></p>\n",
       "            <p><strong>@dankrad · fid 7318</strong></p>\n",
       "            <div style=\"word-wrap: break-word; margin: 10px 0;\">Testing testing 123</div>\n",
       "    <p style=\"color: purple; margin: 10px 0 0;\">&#x1F49C; 58 <span style=\"margin-left: 5px; margin-top: 10px;\">&#x1F4AC; 12</span></p></div></div>"
      ],
      "text/plain": [
       "<IPython.core.display.HTML object>"
      ]
     },
     "metadata": {},
     "output_type": "display_data"
    },
    {
     "data": {
      "text/html": [
       "\n",
       "    <div style=\"border: 1px solid #ccc; max-width: 600px; padding: 25px; margin-bottom: 25px;\">\n",
       "        <div style=\"max-width: 550px; margin: 0 auto;\">\n",
       "            <p><strong><a href=\"https://searchcaster.xyz/search?merkleRoot=0x5c121d6436b8ff31a10ced51d39eccea145146b1\" target=\"_blank\">merkleRoot</a></strong></p>\n",
       "            <p><strong>@balajis · fid 37</strong></p>\n",
       "            <div style=\"word-wrap: break-word; margin: 10px 0;\">A tech company wants to sell something.<br>A tech community stands for something.</div>\n",
       "    <p style=\"color: purple; margin: 10px 0 0;\">&#x1F49C; 57 <span style=\"margin-left: 5px; margin-top: 10px;\">&#x1F4AC; 12</span></p></div></div>"
      ],
      "text/plain": [
       "<IPython.core.display.HTML object>"
      ]
     },
     "metadata": {},
     "output_type": "display_data"
    },
    {
     "data": {
      "text/html": [
       "\n",
       "    <div style=\"border: 1px solid #ccc; max-width: 600px; padding: 25px; margin-bottom: 25px;\">\n",
       "        <div style=\"max-width: 550px; margin: 0 auto;\">\n",
       "            <p><strong><a href=\"https://searchcaster.xyz/search?merkleRoot=0x7c4cc278455e3926571d9312b0ef786d750e6392\" target=\"_blank\">merkleRoot</a></strong></p>\n",
       "            <p><strong>@kepano · fid 1321</strong></p>\n",
       "            <div style=\"word-wrap: break-word; margin: 10px 0;\">👀 @dwr  </div>\n",
       "    <div style=\"text-align: center;\"><img src=\"https://i.imgur.com/0EuQjaD.gif\" style=\"max-width: 550px; margin-top: 10px;\"></div><p style=\"color: purple; margin: 10px 0 0;\">&#x1F49C; 52 <span style=\"margin-left: 5px; margin-top: 10px;\">&#x1F4AC; 10</span></p></div></div>"
      ],
      "text/plain": [
       "<IPython.core.display.HTML object>"
      ]
     },
     "metadata": {},
     "output_type": "display_data"
    },
    {
     "data": {
      "text/html": [
       "\n",
       "    <div style=\"border: 1px solid #ccc; max-width: 600px; padding: 25px; margin-bottom: 25px;\">\n",
       "        <div style=\"max-width: 550px; margin: 0 auto;\">\n",
       "            <p><strong><a href=\"https://searchcaster.xyz/search?merkleRoot=0x882a561c06c46a3b1c8215e032905c91e37165a1\" target=\"_blank\">merkleRoot</a></strong></p>\n",
       "            <p><strong>@dwr · fid 3</strong></p>\n",
       "            <div style=\"word-wrap: break-word; margin: 10px 0;\">Without looking, guess how long Facebook was sign up gated?</div>\n",
       "    <p style=\"color: purple; margin: 10px 0 0;\">&#x1F49C; 52 <span style=\"margin-left: 5px; margin-top: 10px;\">&#x1F4AC; 38</span></p></div></div>"
      ],
      "text/plain": [
       "<IPython.core.display.HTML object>"
      ]
     },
     "metadata": {},
     "output_type": "display_data"
    },
    {
     "data": {
      "text/html": [
       "\n",
       "    <div style=\"border: 1px solid #ccc; max-width: 600px; padding: 25px; margin-bottom: 25px;\">\n",
       "        <div style=\"max-width: 550px; margin: 0 auto;\">\n",
       "            <p><strong><a href=\"https://searchcaster.xyz/search?merkleRoot=0x27a0eaceca314d648057fe09f9538df6ea9e5e42\" target=\"_blank\">merkleRoot</a></strong></p>\n",
       "            <p><strong>@songadaymann · fid 4959</strong></p>\n",
       "            <div style=\"word-wrap: break-word; margin: 10px 0;\">I've been writing a song a day for 13years and 353 days. That's 5,101songs!</div>\n",
       "    <p style=\"color: purple; margin: 10px 0 0;\">&#x1F49C; 52 <span style=\"margin-left: 5px; margin-top: 10px;\">&#x1F4AC; 8</span></p></div></div>"
      ],
      "text/plain": [
       "<IPython.core.display.HTML object>"
      ]
     },
     "metadata": {},
     "output_type": "display_data"
    },
    {
     "data": {
      "text/html": [
       "\n",
       "    <div style=\"border: 1px solid #ccc; max-width: 600px; padding: 25px; margin-bottom: 25px;\">\n",
       "        <div style=\"max-width: 550px; margin: 0 auto;\">\n",
       "            <p><strong><a href=\"https://searchcaster.xyz/search?merkleRoot=0x6f5fad78c0e23729704a5588905c3de3b13e8406\" target=\"_blank\">merkleRoot</a></strong></p>\n",
       "            <p><strong>@dystopiabreaker · fid 4893</strong></p>\n",
       "            <div style=\"word-wrap: break-word; margin: 10px 0;\">gm farcasters</div>\n",
       "    <p style=\"color: purple; margin: 10px 0 0;\">&#x1F49C; 51 <span style=\"margin-left: 5px; margin-top: 10px;\">&#x1F4AC; 10</span></p></div></div>"
      ],
      "text/plain": [
       "<IPython.core.display.HTML object>"
      ]
     },
     "metadata": {},
     "output_type": "display_data"
    },
    {
     "data": {
      "text/html": [
       "\n",
       "    <div style=\"border: 1px solid #ccc; max-width: 600px; padding: 25px; margin-bottom: 25px;\">\n",
       "        <div style=\"max-width: 550px; margin: 0 auto;\">\n",
       "            <p><strong><a href=\"https://searchcaster.xyz/search?merkleRoot=0x5c15aedba28fd547fc9f576a585ad6f5c8072c9b\" target=\"_blank\">merkleRoot</a></strong></p>\n",
       "            <p><strong>@dwr · fid 3</strong></p>\n",
       "            <div style=\"word-wrap: break-word; margin: 10px 0;\">In case you missed it, @v recently revamped the Farcaster protocol documentation. It's updated to incorporate the latest thinking and is similar in spirit to the Ethereum yellow paper.<br><br><a href=\"https://github.com/farcasterxyz/protocol\" target=\"_blank\">https://github.com/farcasterxyz/protocol</a> </div>\n",
       "    <div style=\"text-align: center;\"><img src=\"https://i.imgur.com/5INeziQ.png\" style=\"max-width: 550px; margin-top: 10px;\"></div><p style=\"color: purple; margin: 10px 0 0;\">&#x1F49C; 50 <span style=\"margin-left: 5px; margin-top: 10px;\">&#x1F4AC; 3</span></p></div></div>"
      ],
      "text/plain": [
       "<IPython.core.display.HTML object>"
      ]
     },
     "metadata": {},
     "output_type": "display_data"
    },
    {
     "data": {
      "text/html": [
       "\n",
       "    <div style=\"border: 1px solid #ccc; max-width: 600px; padding: 25px; margin-bottom: 25px;\">\n",
       "        <div style=\"max-width: 550px; margin: 0 auto;\">\n",
       "            <p><strong><a href=\"https://searchcaster.xyz/search?merkleRoot=0xc28ac1ec72f85dea1292bd0410691907100aed51\" target=\"_blank\">merkleRoot</a></strong></p>\n",
       "            <p><strong>@pinged · fid 7074</strong></p>\n",
       "            <div style=\"word-wrap: break-word; margin: 10px 0;\">Every year, I feel like I understand less and less about randomness (a sort of inverse of the second law of thermodynamics 😅)<br><br>Some of the consequences of how things are subtly non-random due to Szemerédi’s regularity lemma are 🤯🤯🤯</div>\n",
       "    <p style=\"color: purple; margin: 10px 0 0;\">&#x1F49C; 50 <span style=\"margin-left: 5px; margin-top: 10px;\">&#x1F4AC; 14</span></p></div></div>"
      ],
      "text/plain": [
       "<IPython.core.display.HTML object>"
      ]
     },
     "metadata": {},
     "output_type": "display_data"
    },
    {
     "data": {
      "text/html": [
       "\n",
       "    <div style=\"border: 1px solid #ccc; max-width: 600px; padding: 25px; margin-bottom: 25px;\">\n",
       "        <div style=\"max-width: 550px; margin: 0 auto;\">\n",
       "            <p><strong><a href=\"https://searchcaster.xyz/search?merkleRoot=0xf3217bb0965b64cfcf2e79ba82b23450f39d175c\" target=\"_blank\">merkleRoot</a></strong></p>\n",
       "            <p><strong>@n · fid 274</strong></p>\n",
       "            <div style=\"word-wrap: break-word; margin: 10px 0;\">If web2’s moat is data, what is the equivalent for web3?</div>\n",
       "    <p style=\"color: purple; margin: 10px 0 0;\">&#x1F49C; 48 <span style=\"margin-left: 5px; margin-top: 10px;\">&#x1F4AC; 62</span></p></div></div>"
      ],
      "text/plain": [
       "<IPython.core.display.HTML object>"
      ]
     },
     "metadata": {},
     "output_type": "display_data"
    },
    {
     "data": {
      "text/html": [
       "\n",
       "    <div style=\"border: 1px solid #ccc; max-width: 600px; padding: 25px; margin-bottom: 25px;\">\n",
       "        <div style=\"max-width: 550px; margin: 0 auto;\">\n",
       "            <p><strong><a href=\"https://searchcaster.xyz/search?merkleRoot=0xe0142d552307779b74c47e74d5233450ddad50d4\" target=\"_blank\">merkleRoot</a></strong></p>\n",
       "            <p><strong>@zoink · fid 62</strong></p>\n",
       "            <div style=\"word-wrap: break-word; margin: 10px 0;\">Rate limited by Mastodon every few minutes, so thinking maybe Farcaster is the future? :)<br><br>Amazing how much the basics (letting users navigate the website, page load time, not logging people out) matter.</div>\n",
       "    <p style=\"color: purple; margin: 10px 0 0;\">&#x1F49C; 47 <span style=\"margin-left: 5px; margin-top: 10px;\">&#x1F4AC; 8</span></p></div></div>"
      ],
      "text/plain": [
       "<IPython.core.display.HTML object>"
      ]
     },
     "metadata": {},
     "output_type": "display_data"
    },
    {
     "data": {
      "text/html": [
       "\n",
       "    <div style=\"border: 1px solid #ccc; max-width: 600px; padding: 25px; margin-bottom: 25px;\">\n",
       "        <div style=\"max-width: 550px; margin: 0 auto;\">\n",
       "            <p><strong><a href=\"https://searchcaster.xyz/search?merkleRoot=0xa6bbffc130144bea3d89cf82afd42f98ac2145fd\" target=\"_blank\">merkleRoot</a></strong></p>\n",
       "            <p><strong>@dwr · fid 3</strong></p>\n",
       "            <div style=\"word-wrap: break-word; margin: 10px 0;\">re: bad reading UX to Vitalik thread:<br><br>Current threading implementation is v1, meant to encourage conversations, focus on replies vs. parent cast threads<br><br>May be too much of a learned behavior, but we want to take 1st principles approach to any improvement.<br><br>My POV is threads are good UX for author, bad UX for reader.</div>\n",
       "    <p style=\"color: purple; margin: 10px 0 0;\">&#x1F49C; 47 <span style=\"margin-left: 5px; margin-top: 10px;\">&#x1F4AC; 10</span></p></div></div>"
      ],
      "text/plain": [
       "<IPython.core.display.HTML object>"
      ]
     },
     "metadata": {},
     "output_type": "display_data"
    },
    {
     "data": {
      "text/html": [
       "\n",
       "    <div style=\"border: 1px solid #ccc; max-width: 600px; padding: 25px; margin-bottom: 25px;\">\n",
       "        <div style=\"max-width: 550px; margin: 0 auto;\">\n",
       "            <p><strong><a href=\"https://searchcaster.xyz/search?merkleRoot=0x0e3fa8a6a9551da942788915b71baf9de1647b51\" target=\"_blank\">merkleRoot</a></strong></p>\n",
       "            <p><strong>@kepano · fid 1321</strong></p>\n",
       "            <div style=\"word-wrap: break-word; margin: 10px 0;\">Obsidian Canvas is now available for free ✨🎅<br><br>You can now lay out your notes in an infinite canvas alongside images, PDFs, videos, audio, and even fully interactive web pages<br><br>I have been using it to perfect my chocolate chip cookie recipe </div>\n",
       "    <div style=\"text-align: center;\"><img src=\"https://i.imgur.com/Y9hTR0O.jpg\" style=\"max-width: 550px; margin-top: 10px;\"></div><p style=\"color: purple; margin: 10px 0 0;\">&#x1F49C; 47 <span style=\"margin-left: 5px; margin-top: 10px;\">&#x1F4AC; 13</span></p></div></div>"
      ],
      "text/plain": [
       "<IPython.core.display.HTML object>"
      ]
     },
     "metadata": {},
     "output_type": "display_data"
    },
    {
     "data": {
      "text/html": [
       "\n",
       "    <div style=\"border: 1px solid #ccc; max-width: 600px; padding: 25px; margin-bottom: 25px;\">\n",
       "        <div style=\"max-width: 550px; margin: 0 auto;\">\n",
       "            <p><strong><a href=\"https://searchcaster.xyz/search?merkleRoot=0x4bccec6a7e9be3c6214fb5867ff8d2ee19e26cd9\" target=\"_blank\">merkleRoot</a></strong></p>\n",
       "            <p><strong>@mags · fid 4836</strong></p>\n",
       "            <div style=\"word-wrap: break-word; margin: 10px 0;\">web3 doesn’t have a top of funnel problem, it has a conversion problem<br><br>web3’s conversion problem is not about onboarding friction, it’s about perceived value gap <br><br>if potential users see no reason to try your product, it doesn’t matter how frictionless it is</div>\n",
       "    <p style=\"color: purple; margin: 10px 0 0;\">&#x1F49C; 46 <span style=\"margin-left: 5px; margin-top: 10px;\">&#x1F4AC; 11</span></p></div></div>"
      ],
      "text/plain": [
       "<IPython.core.display.HTML object>"
      ]
     },
     "metadata": {},
     "output_type": "display_data"
    },
    {
     "data": {
      "text/html": [
       "\n",
       "    <div style=\"border: 1px solid #ccc; max-width: 600px; padding: 25px; margin-bottom: 25px;\">\n",
       "        <div style=\"max-width: 550px; margin: 0 auto;\">\n",
       "            <p><strong><a href=\"https://searchcaster.xyz/search?merkleRoot=0x6d0269353bcd9456862370baf017793f8a504217\" target=\"_blank\">merkleRoot</a></strong></p>\n",
       "            <p><strong>@dwr · fid 3</strong></p>\n",
       "            <div style=\"word-wrap: break-word; margin: 10px 0;\">One lesson that’s taken longer for me to appreciate is for most things in life, there’s no referee.</div>\n",
       "    <p style=\"color: purple; margin: 10px 0 0;\">&#x1F49C; 46 <span style=\"margin-left: 5px; margin-top: 10px;\">&#x1F4AC; 3</span></p></div></div>"
      ],
      "text/plain": [
       "<IPython.core.display.HTML object>"
      ]
     },
     "metadata": {},
     "output_type": "display_data"
    },
    {
     "data": {
      "text/html": [
       "\n",
       "    <div style=\"border: 1px solid #ccc; max-width: 600px; padding: 25px; margin-bottom: 25px;\">\n",
       "        <div style=\"max-width: 550px; margin: 0 auto;\">\n",
       "            <p><strong><a href=\"https://searchcaster.xyz/search?merkleRoot=0xd8439718642cac66e78e6d27838fecd39d62d65d\" target=\"_blank\">merkleRoot</a></strong></p>\n",
       "            <p><strong>@matthew · fid 473</strong></p>\n",
       "            <div style=\"word-wrap: break-word; margin: 10px 0;\">do you think crypto communities will stay on discord? what will they adopt in its place? curious if others will follow nouns footsteps</div>\n",
       "    <p style=\"color: purple; margin: 10px 0 0;\">&#x1F49C; 46 <span style=\"margin-left: 5px; margin-top: 10px;\">&#x1F4AC; 32</span></p></div></div>"
      ],
      "text/plain": [
       "<IPython.core.display.HTML object>"
      ]
     },
     "metadata": {},
     "output_type": "display_data"
    },
    {
     "data": {
      "text/html": [
       "\n",
       "    <div style=\"border: 1px solid #ccc; max-width: 600px; padding: 25px; margin-bottom: 25px;\">\n",
       "        <div style=\"max-width: 550px; margin: 0 auto;\">\n",
       "            <p><strong><a href=\"https://searchcaster.xyz/search?merkleRoot=0xfc4aaf4df2e4e3b3fae736077fb1312ed384a046\" target=\"_blank\">merkleRoot</a></strong></p>\n",
       "            <p><strong>@dystopiabreaker · fid 4893</strong></p>\n",
       "            <div style=\"word-wrap: break-word; margin: 10px 0;\">i think a farcaster <> activitypub bridge would be valuable. i may work on that over break a bit</div>\n",
       "    <p style=\"color: purple; margin: 10px 0 0;\">&#x1F49C; 45 <span style=\"margin-left: 5px; margin-top: 10px;\">&#x1F4AC; 5</span></p></div></div>"
      ],
      "text/plain": [
       "<IPython.core.display.HTML object>"
      ]
     },
     "metadata": {},
     "output_type": "display_data"
    },
    {
     "data": {
      "text/html": [
       "\n",
       "    <div style=\"border: 1px solid #ccc; max-width: 600px; padding: 25px; margin-bottom: 25px;\">\n",
       "        <div style=\"max-width: 550px; margin: 0 auto;\">\n",
       "            <p><strong><a href=\"https://searchcaster.xyz/search?merkleRoot=0xf603caecb18c3e48753440840106306c97779d86\" target=\"_blank\">merkleRoot</a></strong></p>\n",
       "            <p><strong>@garrytan · fid 72</strong></p>\n",
       "            <div style=\"word-wrap: break-word; margin: 10px 0;\">Damn that was a strange day. Too much power in one person’s hand is absolutely a thing.</div>\n",
       "    <p style=\"color: purple; margin: 10px 0 0;\">&#x1F49C; 45 <span style=\"margin-left: 5px; margin-top: 10px;\">&#x1F4AC; 11</span></p></div></div>"
      ],
      "text/plain": [
       "<IPython.core.display.HTML object>"
      ]
     },
     "metadata": {},
     "output_type": "display_data"
    },
    {
     "data": {
      "text/html": [
       "\n",
       "    <div style=\"border: 1px solid #ccc; max-width: 600px; padding: 25px; margin-bottom: 25px;\">\n",
       "        <div style=\"max-width: 550px; margin: 0 auto;\">\n",
       "            <p><strong><a href=\"https://searchcaster.xyz/search?merkleRoot=0x417093554fe7d2cab6d884f690b6ed5bc135b0e3\" target=\"_blank\">merkleRoot</a></strong></p>\n",
       "            <p><strong>@dwr · fid 3</strong></p>\n",
       "            <div style=\"word-wrap: break-word; margin: 10px 0;\">Farcaster invite word of the day:<br><br>elephant<br><br>Have friends and colleagues ping me on Twitter DM. Might not last much longer. :)</div>\n",
       "    <p style=\"color: purple; margin: 10px 0 0;\">&#x1F49C; 43 <span style=\"margin-left: 5px; margin-top: 10px;\">&#x1F4AC; 4</span></p></div></div>"
      ],
      "text/plain": [
       "<IPython.core.display.HTML object>"
      ]
     },
     "metadata": {},
     "output_type": "display_data"
    },
    {
     "data": {
      "text/html": [
       "\n",
       "    <div style=\"border: 1px solid #ccc; max-width: 600px; padding: 25px; margin-bottom: 25px;\">\n",
       "        <div style=\"max-width: 550px; margin: 0 auto;\">\n",
       "            <p><strong><a href=\"https://searchcaster.xyz/search?merkleRoot=0x894446464e9f9f25bdd624a0adaf1b62b26dcf2d\" target=\"_blank\">merkleRoot</a></strong></p>\n",
       "            <p><strong>@levy · fid 1134</strong></p>\n",
       "            <div style=\"word-wrap: break-word; margin: 10px 0;\">Not your keys, not your content. </div>\n",
       "    <div style=\"text-align: center;\"><img src=\"https://i.imgur.com/BvjszWU.jpg\" style=\"max-width: 550px; margin-top: 10px;\"></div><p style=\"color: purple; margin: 10px 0 0;\">&#x1F49C; 42 <span style=\"margin-left: 5px; margin-top: 10px;\">&#x1F4AC; 4</span></p></div></div>"
      ],
      "text/plain": [
       "<IPython.core.display.HTML object>"
      ]
     },
     "metadata": {},
     "output_type": "display_data"
    },
    {
     "data": {
      "text/html": [
       "\n",
       "    <div style=\"border: 1px solid #ccc; max-width: 600px; padding: 25px; margin-bottom: 25px;\">\n",
       "        <div style=\"max-width: 550px; margin: 0 auto;\">\n",
       "            <p><strong><a href=\"https://searchcaster.xyz/search?merkleRoot=0x35150f71f420599a5fc190cd5b550ee241d55c6f\" target=\"_blank\">merkleRoot</a></strong></p>\n",
       "            <p><strong>@mk · fid 143</strong></p>\n",
       "            <div style=\"word-wrap: break-word; margin: 10px 0;\">There's some seriously cool shit on the next version of ethOS.</div>\n",
       "    <p style=\"color: purple; margin: 10px 0 0;\">&#x1F49C; 42 <span style=\"margin-left: 5px; margin-top: 10px;\">&#x1F4AC; 10</span></p></div></div>"
      ],
      "text/plain": [
       "<IPython.core.display.HTML object>"
      ]
     },
     "metadata": {},
     "output_type": "display_data"
    },
    {
     "data": {
      "text/html": [
       "\n",
       "    <div style=\"border: 1px solid #ccc; max-width: 600px; padding: 25px; margin-bottom: 25px;\">\n",
       "        <div style=\"max-width: 550px; margin: 0 auto;\">\n",
       "            <p><strong><a href=\"https://searchcaster.xyz/search?merkleRoot=0x94cdd00f825bb4eb811f1c1ac7a693e98ec6eda7\" target=\"_blank\">merkleRoot</a></strong></p>\n",
       "            <p><strong>@dwr · fid 3</strong></p>\n",
       "            <div style=\"word-wrap: break-word; margin: 10px 0;\">Farcaster invite word of the day:<br><br>nimbus<br><br>Have a friend or colleague send me a Twitter DM with nimbus and will prioritize.</div>\n",
       "    <p style=\"color: purple; margin: 10px 0 0;\">&#x1F49C; 42 <span style=\"margin-left: 5px; margin-top: 10px;\">&#x1F4AC; 4</span></p></div></div>"
      ],
      "text/plain": [
       "<IPython.core.display.HTML object>"
      ]
     },
     "metadata": {},
     "output_type": "display_data"
    },
    {
     "data": {
      "text/html": [
       "\n",
       "    <div style=\"border: 1px solid #ccc; max-width: 600px; padding: 25px; margin-bottom: 25px;\">\n",
       "        <div style=\"max-width: 550px; margin: 0 auto;\">\n",
       "            <p><strong><a href=\"https://searchcaster.xyz/search?merkleRoot=0x0b1a694c4149fd20a8eb739297688a2d5eca2cc8\" target=\"_blank\">merkleRoot</a></strong></p>\n",
       "            <p><strong>@fredwilson · fid 169</strong></p>\n",
       "            <div style=\"word-wrap: break-word; margin: 10px 0;\">Hi Farcasters. For my daily music cast, I'm going with a holiday theme. A few nights ago, my wife and I watched the Charlie Brown Christmas Special. We hadn't seen it in years. It brought me a smile. So here's Vince Guaraldi's wonderful music from that <a href=\"https://soundcloud.com/vinceguaraldi/linus-and-lucy-remastered\" target=\"_blank\">https://soundcloud.com/vinceguaraldi/linus-and-lucy-remastered</a></div>\n",
       "    <p style=\"color: purple; margin: 10px 0 0;\">&#x1F49C; 42 <span style=\"margin-left: 5px; margin-top: 10px;\">&#x1F4AC; 5</span></p></div></div>"
      ],
      "text/plain": [
       "<IPython.core.display.HTML object>"
      ]
     },
     "metadata": {},
     "output_type": "display_data"
    },
    {
     "data": {
      "text/html": [
       "\n",
       "    <div style=\"border: 1px solid #ccc; max-width: 600px; padding: 25px; margin-bottom: 25px;\">\n",
       "        <div style=\"max-width: 550px; margin: 0 auto;\">\n",
       "            <p><strong><a href=\"https://searchcaster.xyz/search?merkleRoot=0xa3c22f6f74b1d60cd81f49c451b37c7661e1da41\" target=\"_blank\">merkleRoot</a></strong></p>\n",
       "            <p><strong>@briang · fid 548</strong></p>\n",
       "            <div style=\"word-wrap: break-word; margin: 10px 0;\">talked to lens<br>they love unlonely and need a live streaming platform but are “requiring” me to add sign in with lens and follow on lens<br>kinda weird but worth testing I guess and would be cool to have lens and farcaster people on at the same time<br>thoughts?</div>\n",
       "    <p style=\"color: purple; margin: 10px 0 0;\">&#x1F49C; 41 <span style=\"margin-left: 5px; margin-top: 10px;\">&#x1F4AC; 16</span></p></div></div>"
      ],
      "text/plain": [
       "<IPython.core.display.HTML object>"
      ]
     },
     "metadata": {},
     "output_type": "display_data"
    },
    {
     "data": {
      "text/html": [
       "\n",
       "    <div style=\"border: 1px solid #ccc; max-width: 600px; padding: 25px; margin-bottom: 25px;\">\n",
       "        <div style=\"max-width: 550px; margin: 0 auto;\">\n",
       "            <p><strong><a href=\"https://searchcaster.xyz/search?merkleRoot=0x47e48503a22ea7acd89633fc6d1a6d76ea2dc03b\" target=\"_blank\">merkleRoot</a></strong></p>\n",
       "            <p><strong>@dwr · fid 3</strong></p>\n",
       "            <div style=\"word-wrap: break-word; margin: 10px 0;\">Cancel culture, Roman style </div>\n",
       "    <div style=\"text-align: center;\"><img src=\"https://i.imgur.com/y3gCISn.jpg\" style=\"max-width: 550px; margin-top: 10px;\"></div><p style=\"color: purple; margin: 10px 0 0;\">&#x1F49C; 41 <span style=\"margin-left: 5px; margin-top: 10px;\">&#x1F4AC; 2</span></p></div></div>"
      ],
      "text/plain": [
       "<IPython.core.display.HTML object>"
      ]
     },
     "metadata": {},
     "output_type": "display_data"
    },
    {
     "data": {
      "text/html": [
       "\n",
       "    <div style=\"border: 1px solid #ccc; max-width: 600px; padding: 25px; margin-bottom: 25px;\">\n",
       "        <div style=\"max-width: 550px; margin: 0 auto;\">\n",
       "            <p><strong><a href=\"https://searchcaster.xyz/search?merkleRoot=0xed5e8634f0164402400eada0bf401c79cf63e529\" target=\"_blank\">merkleRoot</a></strong></p>\n",
       "            <p><strong>@ace · fid 539</strong></p>\n",
       "            <div style=\"word-wrap: break-word; margin: 10px 0;\">You can now @perl without having to reply with @perl<br><br>💜 like your favorite casts<br>⚪️ filter/save them from perl.xyz </div>\n",
       "    <div style=\"text-align: center;\"><img src=\"https://i.imgur.com/Z1VmQ9O.jpg\" style=\"max-width: 550px; margin-top: 10px;\"></div><p style=\"color: purple; margin: 10px 0 0;\">&#x1F49C; 41 <span style=\"margin-left: 5px; margin-top: 10px;\">&#x1F4AC; 3</span></p></div></div>"
      ],
      "text/plain": [
       "<IPython.core.display.HTML object>"
      ]
     },
     "metadata": {},
     "output_type": "display_data"
    },
    {
     "data": {
      "text/html": [
       "\n",
       "    <div style=\"border: 1px solid #ccc; max-width: 600px; padding: 25px; margin-bottom: 25px;\">\n",
       "        <div style=\"max-width: 550px; margin: 0 auto;\">\n",
       "            <p><strong><a href=\"https://searchcaster.xyz/search?merkleRoot=0x1bf089ceab28d6c28ab22a28067689e0d1a6e4ab\" target=\"_blank\">merkleRoot</a></strong></p>\n",
       "            <p><strong>@linda · fid 12</strong></p>\n",
       "            <div style=\"word-wrap: break-word; margin: 10px 0;\">I co-wrote a post with Derek Hsue from Reverie on experiments in DAO governance covering interesting cases like Optimism, Gitcoin, Nouns, Lido, and more. Hope it's a helpful resource! <a href=\"https://linda.mirror.xyz/kZHqJdvMD6OWk8-c3SF-oBJFFX_JrAPkhhB8iJKNM60\" target=\"_blank\">https://linda.mirror.xyz/kZHqJdvMD6OWk8-c3SF-oBJFFX_JrAPkhhB8iJKNM60</a></div>\n",
       "    <p style=\"color: purple; margin: 10px 0 0;\">&#x1F49C; 40 <span style=\"margin-left: 5px; margin-top: 10px;\">&#x1F4AC; 1</span></p></div></div>"
      ],
      "text/plain": [
       "<IPython.core.display.HTML object>"
      ]
     },
     "metadata": {},
     "output_type": "display_data"
    },
    {
     "data": {
      "text/html": [
       "\n",
       "    <div style=\"border: 1px solid #ccc; max-width: 600px; padding: 25px; margin-bottom: 25px;\">\n",
       "        <div style=\"max-width: 550px; margin: 0 auto;\">\n",
       "            <p><strong><a href=\"https://searchcaster.xyz/search?merkleRoot=0x78e8d112bb6edd6e9a3bc038ee5480660de3fd25\" target=\"_blank\">merkleRoot</a></strong></p>\n",
       "            <p><strong>@ace · fid 539</strong></p>\n",
       "            <div style=\"word-wrap: break-word; margin: 10px 0;\">When do you post on Twitter vs Farcaster? <br><br>I’ll go first:<br>- Twitter when i say broadly addressable topics<br>- FC when i say Farcaster specific (farcaster apps, who to follow), and all other “smaller group vibe” posts<br><br>But sometimes it’s not so clear what post should go to which.</div>\n",
       "    <p style=\"color: purple; margin: 10px 0 0;\">&#x1F49C; 40 <span style=\"margin-left: 5px; margin-top: 10px;\">&#x1F4AC; 21</span></p></div></div>"
      ],
      "text/plain": [
       "<IPython.core.display.HTML object>"
      ]
     },
     "metadata": {},
     "output_type": "display_data"
    },
    {
     "data": {
      "text/html": [
       "\n",
       "    <div style=\"border: 1px solid #ccc; max-width: 600px; padding: 25px; margin-bottom: 25px;\">\n",
       "        <div style=\"max-width: 550px; margin: 0 auto;\">\n",
       "            <p><strong><a href=\"https://searchcaster.xyz/search?merkleRoot=0x03b079833ddd3612ab5c0eb6721d938a535fc53c\" target=\"_blank\">merkleRoot</a></strong></p>\n",
       "            <p><strong>@dwr · fid 3</strong></p>\n",
       "            <div style=\"word-wrap: break-word; margin: 10px 0;\">Going to update the farcaster.xyz/ecosystem page today -- if you shipped something Farcaster-related recently and would like to be added, reply to this cast.</div>\n",
       "    <p style=\"color: purple; margin: 10px 0 0;\">&#x1F49C; 39 <span style=\"margin-left: 5px; margin-top: 10px;\">&#x1F4AC; 8</span></p></div></div>"
      ],
      "text/plain": [
       "<IPython.core.display.HTML object>"
      ]
     },
     "metadata": {},
     "output_type": "display_data"
    },
    {
     "data": {
      "text/html": [
       "\n",
       "    <div style=\"border: 1px solid #ccc; max-width: 600px; padding: 25px; margin-bottom: 25px;\">\n",
       "        <div style=\"max-width: 550px; margin: 0 auto;\">\n",
       "            <p><strong><a href=\"https://searchcaster.xyz/search?merkleRoot=0xd0fc09e7fca13c17ca0c64b4615682e2b28b18e7\" target=\"_blank\">merkleRoot</a></strong></p>\n",
       "            <p><strong>@v · fid 2</strong></p>\n",
       "            <div style=\"word-wrap: break-word; margin: 10px 0;\">GM devs of Farcaster 🌻<br><br>Want to help us ship Hubs faster? We have issues of all sizes that we could use your help on, even if you're a first time contributor. <br><br>If you're interested, just leave a comment on the issue. <br><br><a href=\"https://github.com/farcasterxyz/hub/issues?q=is%3Aissue+is%3Aopen+label%3A%22help+wanted%22\" target=\"_blank\">https://github.com/farcasterxyz/hub/issues?q=is%3Aissue+is%3Aopen+label%3A%22help+wanted%22</a></div>\n",
       "    <p style=\"color: purple; margin: 10px 0 0;\">&#x1F49C; 39 <span style=\"margin-left: 5px; margin-top: 10px;\">&#x1F4AC; 3</span></p></div></div>"
      ],
      "text/plain": [
       "<IPython.core.display.HTML object>"
      ]
     },
     "metadata": {},
     "output_type": "display_data"
    },
    {
     "data": {
      "text/html": [
       "\n",
       "    <div style=\"border: 1px solid #ccc; max-width: 600px; padding: 25px; margin-bottom: 25px;\">\n",
       "        <div style=\"max-width: 550px; margin: 0 auto;\">\n",
       "            <p><strong><a href=\"https://searchcaster.xyz/search?merkleRoot=0x9402a6341205c4697b04557eb7661c2e34a8dcbc\" target=\"_blank\">merkleRoot</a></strong></p>\n",
       "            <p><strong>@cheriehu · fid 7104</strong></p>\n",
       "            <div style=\"word-wrap: break-word; margin: 10px 0;\">hi new followers!<br><br>brief intro thread — i founded and currently run Water & Music, a research and intelligence network for the new music business<br><a href=\"https://www.waterandmusic.com/\" target=\"_blank\">https://www.waterandmusic.com/</a><br><br>day-to-day, i focus on big-brain stuff like research/editorial strategy and DAO design <br><br>we're also alums of Seed Club Cohort #3 🌱<br> <br>1/</div>\n",
       "    <p style=\"color: purple; margin: 10px 0 0;\">&#x1F49C; 39 <span style=\"margin-left: 5px; margin-top: 10px;\">&#x1F4AC; 3</span></p></div></div>"
      ],
      "text/plain": [
       "<IPython.core.display.HTML object>"
      ]
     },
     "metadata": {},
     "output_type": "display_data"
    },
    {
     "data": {
      "text/html": [
       "\n",
       "    <div style=\"border: 1px solid #ccc; max-width: 600px; padding: 25px; margin-bottom: 25px;\">\n",
       "        <div style=\"max-width: 550px; margin: 0 auto;\">\n",
       "            <p><strong><a href=\"https://searchcaster.xyz/search?merkleRoot=0xaf148ffae6150f69b98cefef36f04c7dd12700a9\" target=\"_blank\">merkleRoot</a></strong></p>\n",
       "            <p><strong>@dylsteck · fid 616</strong></p>\n",
       "            <div style=\"word-wrap: break-word; margin: 10px 0;\">been using my phone so much recently and it has me thinking more about light phone <a href=\"https://www.thelightphone.com/\" target=\"_blank\">https://www.thelightphone.com/</a></div>\n",
       "    <p style=\"color: purple; margin: 10px 0 0;\">&#x1F49C; 38 <span style=\"margin-left: 5px; margin-top: 10px;\">&#x1F4AC; 20</span></p></div></div>"
      ],
      "text/plain": [
       "<IPython.core.display.HTML object>"
      ]
     },
     "metadata": {},
     "output_type": "display_data"
    },
    {
     "data": {
      "text/html": [
       "\n",
       "    <div style=\"border: 1px solid #ccc; max-width: 600px; padding: 25px; margin-bottom: 25px;\">\n",
       "        <div style=\"max-width: 550px; margin: 0 auto;\">\n",
       "            <p><strong><a href=\"https://searchcaster.xyz/search?merkleRoot=0xed08c50c5b1d9faccb8efeab492dd6b8f88f0239\" target=\"_blank\">merkleRoot</a></strong></p>\n",
       "            <p><strong>@dwr · fid 3</strong></p>\n",
       "            <div style=\"word-wrap: break-word; margin: 10px 0;\">Where do Nouns people keep up with what's happening in the Nouns world now that they don't have Discord?</div>\n",
       "    <p style=\"color: purple; margin: 10px 0 0;\">&#x1F49C; 38 <span style=\"margin-left: 5px; margin-top: 10px;\">&#x1F4AC; 15</span></p></div></div>"
      ],
      "text/plain": [
       "<IPython.core.display.HTML object>"
      ]
     },
     "metadata": {},
     "output_type": "display_data"
    },
    {
     "data": {
      "text/html": [
       "\n",
       "    <div style=\"border: 1px solid #ccc; max-width: 600px; padding: 25px; margin-bottom: 25px;\">\n",
       "        <div style=\"max-width: 550px; margin: 0 auto;\">\n",
       "            <p><strong><a href=\"https://searchcaster.xyz/search?merkleRoot=0xea5c987c33cd11cbba7259a80c928de92f148271\" target=\"_blank\">merkleRoot</a></strong></p>\n",
       "            <p><strong>@mags · fid 4836</strong></p>\n",
       "            <div style=\"word-wrap: break-word; margin: 10px 0;\">How would you reinvent high school curriculum?<br><br>My top picks:<br>• add personal finance & taxation course<br>• change English into critical thinking, source verification, and storytelling<br>• require hands-on entrepreneurship project to graduate a la science fair<br><br>What else?</div>\n",
       "    <p style=\"color: purple; margin: 10px 0 0;\">&#x1F49C; 38 <span style=\"margin-left: 5px; margin-top: 10px;\">&#x1F4AC; 25</span></p></div></div>"
      ],
      "text/plain": [
       "<IPython.core.display.HTML object>"
      ]
     },
     "metadata": {},
     "output_type": "display_data"
    },
    {
     "data": {
      "text/html": [
       "\n",
       "    <div style=\"border: 1px solid #ccc; max-width: 600px; padding: 25px; margin-bottom: 25px;\">\n",
       "        <div style=\"max-width: 550px; margin: 0 auto;\">\n",
       "            <p><strong><a href=\"https://searchcaster.xyz/search?merkleRoot=0x4f8b6b010ea1a000e55db5f599f4b560c9e89e9c\" target=\"_blank\">merkleRoot</a></strong></p>\n",
       "            <p><strong>@manansh · fid 1315</strong></p>\n",
       "            <div style=\"word-wrap: break-word; margin: 10px 0;\">Anyone trying to be friends?<br><br>Was listening to a show on the radio about how hard it is to make friends nowadays.<br><br>And I think people on here are cool asf so why not!</div>\n",
       "    <p style=\"color: purple; margin: 10px 0 0;\">&#x1F49C; 38 <span style=\"margin-left: 5px; margin-top: 10px;\">&#x1F4AC; 16</span></p></div></div>"
      ],
      "text/plain": [
       "<IPython.core.display.HTML object>"
      ]
     },
     "metadata": {},
     "output_type": "display_data"
    },
    {
     "data": {
      "text/html": [
       "\n",
       "    <div style=\"border: 1px solid #ccc; max-width: 600px; padding: 25px; margin-bottom: 25px;\">\n",
       "        <div style=\"max-width: 550px; margin: 0 auto;\">\n",
       "            <p><strong><a href=\"https://searchcaster.xyz/search?merkleRoot=0x2933c20f2cb554a50642dcdb0fbced6a1e86f33a\" target=\"_blank\">merkleRoot</a></strong></p>\n",
       "            <p><strong>@julian · fid 74</strong></p>\n",
       "            <div style=\"word-wrap: break-word; margin: 10px 0;\">me browsing twitter this evening </div>\n",
       "    <div style=\"text-align: center;\"><img src=\"https://i.imgur.com/V9kqk4n.png\" style=\"max-width: 550px; margin-top: 10px;\"></div><p style=\"color: purple; margin: 10px 0 0;\">&#x1F49C; 37 <span style=\"margin-left: 5px; margin-top: 10px;\">&#x1F4AC; 0</span></p></div></div>"
      ],
      "text/plain": [
       "<IPython.core.display.HTML object>"
      ]
     },
     "metadata": {},
     "output_type": "display_data"
    },
    {
     "data": {
      "text/html": [
       "\n",
       "    <div style=\"border: 1px solid #ccc; max-width: 600px; padding: 25px; margin-bottom: 25px;\">\n",
       "        <div style=\"max-width: 550px; margin: 0 auto;\">\n",
       "            <p><strong><a href=\"https://searchcaster.xyz/search?merkleRoot=0xe5e9f9138319c053e4d7c1ea8102f72fac457c08\" target=\"_blank\">merkleRoot</a></strong></p>\n",
       "            <p><strong>@gilles · fid 882</strong></p>\n",
       "            <div style=\"word-wrap: break-word; margin: 10px 0;\">We are what we read. Let's share our shelves!<br><br>I'll kick off. </div>\n",
       "    <div style=\"text-align: center;\"><img src=\"https://i.imgur.com/nMYGazq.jpg\" style=\"max-width: 550px; margin-top: 10px;\"></div><p style=\"color: purple; margin: 10px 0 0;\">&#x1F49C; 36 <span style=\"margin-left: 5px; margin-top: 10px;\">&#x1F4AC; 14</span></p></div></div>"
      ],
      "text/plain": [
       "<IPython.core.display.HTML object>"
      ]
     },
     "metadata": {},
     "output_type": "display_data"
    },
    {
     "data": {
      "text/html": [
       "\n",
       "    <div style=\"border: 1px solid #ccc; max-width: 600px; padding: 25px; margin-bottom: 25px;\">\n",
       "        <div style=\"max-width: 550px; margin: 0 auto;\">\n",
       "            <p><strong><a href=\"https://searchcaster.xyz/search?merkleRoot=0xd4aa738818d27aa86fc13fd075024386ea13f36d\" target=\"_blank\">merkleRoot</a></strong></p>\n",
       "            <p><strong>@pugson · fid 557</strong></p>\n",
       "            <div style=\"word-wrap: break-word; margin: 10px 0;\">do you also wake up every day with a random song stuck in your head or are you normal</div>\n",
       "    <p style=\"color: purple; margin: 10px 0 0;\">&#x1F49C; 36 <span style=\"margin-left: 5px; margin-top: 10px;\">&#x1F4AC; 13</span></p></div></div>"
      ],
      "text/plain": [
       "<IPython.core.display.HTML object>"
      ]
     },
     "metadata": {},
     "output_type": "display_data"
    },
    {
     "data": {
      "text/html": [
       "\n",
       "    <div style=\"border: 1px solid #ccc; max-width: 600px; padding: 25px; margin-bottom: 25px;\">\n",
       "        <div style=\"max-width: 550px; margin: 0 auto;\">\n",
       "            <p><strong><a href=\"https://searchcaster.xyz/search?merkleRoot=0xc6b925b9f1d29882f738dd9fda9ef2611b7bd667\" target=\"_blank\">merkleRoot</a></strong></p>\n",
       "            <p><strong>@ace · fid 539</strong></p>\n",
       "            <div style=\"word-wrap: break-word; margin: 10px 0;\">I went to Disneyland yesterday.<br><br>Today, I had lunch with @peter <br><br>peter : “how was it? every time I go there, I think to myself - it’s my dream to make a product that feels like Dinseyland.”<br><br>We share the same dream. I almost thought the same verbatim as I entered Disneyland yesterday. </div>\n",
       "    <div style=\"text-align: center;\"><img src=\"https://i.imgur.com/84ehf24.jpg\" style=\"max-width: 550px; margin-top: 10px;\"></div><p style=\"color: purple; margin: 10px 0 0;\">&#x1F49C; 36 <span style=\"margin-left: 5px; margin-top: 10px;\">&#x1F4AC; 5</span></p></div></div>"
      ],
      "text/plain": [
       "<IPython.core.display.HTML object>"
      ]
     },
     "metadata": {},
     "output_type": "display_data"
    },
    {
     "data": {
      "text/html": [
       "\n",
       "    <div style=\"border: 1px solid #ccc; max-width: 600px; padding: 25px; margin-bottom: 25px;\">\n",
       "        <div style=\"max-width: 550px; margin: 0 auto;\">\n",
       "            <p><strong><a href=\"https://searchcaster.xyz/search?merkleRoot=0xf5fe0f38cb1b0ab9a1499e2eea764ebdbf2774ca\" target=\"_blank\">merkleRoot</a></strong></p>\n",
       "            <p><strong>@dwr · fid 3</strong></p>\n",
       "            <div style=\"word-wrap: break-word; margin: 10px 0;\">gn from Venice <br><br><a href=\"https://twitter.com/abc7chriscristi/status/1604995893966409728?s=46&t=rJ_pNa0KBjBfofDzn6N1pA\" target=\"_blank\">https://twitter.com/abc7chriscristi/status/1604995893966409728?s=46&t=rJ_pNa0KBjBfofDzn6N1pA</a></div>\n",
       "    <p style=\"color: purple; margin: 10px 0 0;\">&#x1F49C; 36 <span style=\"margin-left: 5px; margin-top: 10px;\">&#x1F4AC; 5</span></p></div></div>"
      ],
      "text/plain": [
       "<IPython.core.display.HTML object>"
      ]
     },
     "metadata": {},
     "output_type": "display_data"
    },
    {
     "data": {
      "text/html": [
       "\n",
       "    <div style=\"border: 1px solid #ccc; max-width: 600px; padding: 25px; margin-bottom: 25px;\">\n",
       "        <div style=\"max-width: 550px; margin: 0 auto;\">\n",
       "            <p><strong><a href=\"https://searchcaster.xyz/search?merkleRoot=0x6b077fd91fe1c1908336793e883549beca3f2a35\" target=\"_blank\">merkleRoot</a></strong></p>\n",
       "            <p><strong>@ted · fid 239</strong></p>\n",
       "            <div style=\"word-wrap: break-word; margin: 10px 0;\">what’s one word that described you a year ago that no longer describes you today?</div>\n",
       "    <p style=\"color: purple; margin: 10px 0 0;\">&#x1F49C; 35 <span style=\"margin-left: 5px; margin-top: 10px;\">&#x1F4AC; 38</span></p></div></div>"
      ],
      "text/plain": [
       "<IPython.core.display.HTML object>"
      ]
     },
     "metadata": {},
     "output_type": "display_data"
    },
    {
     "data": {
      "text/html": [
       "\n",
       "    <div style=\"border: 1px solid #ccc; max-width: 600px; padding: 25px; margin-bottom: 25px;\">\n",
       "        <div style=\"max-width: 550px; margin: 0 auto;\">\n",
       "            <p><strong><a href=\"https://searchcaster.xyz/search?merkleRoot=0x7257e79d8270bd39ab0887a14227e8b1f8f11ad1\" target=\"_blank\">merkleRoot</a></strong></p>\n",
       "            <p><strong>@rrhoover · fid 288</strong></p>\n",
       "            <div style=\"word-wrap: break-word; margin: 10px 0;\">Good news for Farcaster and decentralized social tbh <a href=\"https://twitter.com/TwitterSupport/status/1604531261791522817\" target=\"_blank\">https://twitter.com/TwitterSupport/status/1604531261791522817</a></div>\n",
       "    <p style=\"color: purple; margin: 10px 0 0;\">&#x1F49C; 35 <span style=\"margin-left: 5px; margin-top: 10px;\">&#x1F4AC; 1</span></p></div></div>"
      ],
      "text/plain": [
       "<IPython.core.display.HTML object>"
      ]
     },
     "metadata": {},
     "output_type": "display_data"
    },
    {
     "data": {
      "text/html": [
       "\n",
       "    <div style=\"border: 1px solid #ccc; max-width: 600px; padding: 25px; margin-bottom: 25px;\">\n",
       "        <div style=\"max-width: 550px; margin: 0 auto;\">\n",
       "            <p><strong><a href=\"https://searchcaster.xyz/search?merkleRoot=0x283121beaa86d4a294d1a96ffdc29596cb178697\" target=\"_blank\">merkleRoot</a></strong></p>\n",
       "            <p><strong>@pushix · fid 359</strong></p>\n",
       "            <div style=\"word-wrap: break-word; margin: 10px 0;\">I had a mental breakthrough while listening to the latest a16z podcast interview of Bob Iger: managing SWE is fucking hard because they are both creatives *and* engineers.<br><br>Management styles for those two types of people are drastically different, so being an EM is tough!</div>\n",
       "    <p style=\"color: purple; margin: 10px 0 0;\">&#x1F49C; 35 <span style=\"margin-left: 5px; margin-top: 10px;\">&#x1F4AC; 4</span></p></div></div>"
      ],
      "text/plain": [
       "<IPython.core.display.HTML object>"
      ]
     },
     "metadata": {},
     "output_type": "display_data"
    },
    {
     "data": {
      "text/html": [
       "\n",
       "    <div style=\"border: 1px solid #ccc; max-width: 600px; padding: 25px; margin-bottom: 25px;\">\n",
       "        <div style=\"max-width: 550px; margin: 0 auto;\">\n",
       "            <p><strong><a href=\"https://searchcaster.xyz/search?merkleRoot=0x38ceb2b1d434e265c3f733f505fb672677febddf\" target=\"_blank\">merkleRoot</a></strong></p>\n",
       "            <p><strong>@n · fid 274</strong></p>\n",
       "            <div style=\"word-wrap: break-word; margin: 10px 0;\">High conviction: Mastodon/Fediverse/web2 approach to decentralization is unscalable<br><br>web3 social like Farcaster and BEB have open databases - user IDs are on-chain<br><br>Fediverse has each instance host their users data similar to SMTP, which lead to huge centralization issues similar to Gmail owning 90% market share</div>\n",
       "    <p style=\"color: purple; margin: 10px 0 0;\">&#x1F49C; 34 <span style=\"margin-left: 5px; margin-top: 10px;\">&#x1F4AC; 9</span></p></div></div>"
      ],
      "text/plain": [
       "<IPython.core.display.HTML object>"
      ]
     },
     "metadata": {},
     "output_type": "display_data"
    },
    {
     "data": {
      "text/html": [
       "\n",
       "    <div style=\"border: 1px solid #ccc; max-width: 600px; padding: 25px; margin-bottom: 25px;\">\n",
       "        <div style=\"max-width: 550px; margin: 0 auto;\">\n",
       "            <p><strong><a href=\"https://searchcaster.xyz/search?merkleRoot=0x51a498f40c905dc0d98726b7cfd148dc0fa1113b\" target=\"_blank\">merkleRoot</a></strong></p>\n",
       "            <p><strong>@cameron · fid 617</strong></p>\n",
       "            <div style=\"word-wrap: break-word; margin: 10px 0;\">Another lovely snow vibe<br><br>Taiko Bridge, Meguro, on a Snowy Evening <br><br>-Hiroshige </div>\n",
       "    <div style=\"text-align: center;\"><img src=\"https://i.imgur.com/3sSxEsS.jpg\" style=\"max-width: 550px; margin-top: 10px;\"></div><p style=\"color: purple; margin: 10px 0 0;\">&#x1F49C; 34 <span style=\"margin-left: 5px; margin-top: 10px;\">&#x1F4AC; 2</span></p></div></div>"
      ],
      "text/plain": [
       "<IPython.core.display.HTML object>"
      ]
     },
     "metadata": {},
     "output_type": "display_data"
    },
    {
     "data": {
      "text/html": [
       "\n",
       "    <div style=\"border: 1px solid #ccc; max-width: 600px; padding: 25px; margin-bottom: 25px;\">\n",
       "        <div style=\"max-width: 550px; margin: 0 auto;\">\n",
       "            <p><strong><a href=\"https://searchcaster.xyz/search?merkleRoot=0x77b85c89d8b35831bb65940a8bdceebb2a65ffe5\" target=\"_blank\">merkleRoot</a></strong></p>\n",
       "            <p><strong>@giu · fid 124</strong></p>\n",
       "            <div style=\"word-wrap: break-word; margin: 10px 0;\">My favorite movie of 2022 was Top Gun Maverick! By far! What was your favorite movie of 2022?</div>\n",
       "    <p style=\"color: purple; margin: 10px 0 0;\">&#x1F49C; 33 <span style=\"margin-left: 5px; margin-top: 10px;\">&#x1F4AC; 36</span></p></div></div>"
      ],
      "text/plain": [
       "<IPython.core.display.HTML object>"
      ]
     },
     "metadata": {},
     "output_type": "display_data"
    },
    {
     "data": {
      "text/html": [
       "\n",
       "    <div style=\"border: 1px solid #ccc; max-width: 600px; padding: 25px; margin-bottom: 25px;\">\n",
       "        <div style=\"max-width: 550px; margin: 0 auto;\">\n",
       "            <p><strong><a href=\"https://searchcaster.xyz/search?merkleRoot=0x12e679a5aed816e167eeeed75ef6087643f0a8a2\" target=\"_blank\">merkleRoot</a></strong></p>\n",
       "            <p><strong>@0xen · fid 528</strong></p>\n",
       "            <div style=\"word-wrap: break-word; margin: 10px 0;\">That was super fast. <br><br><a href=\"https://abcnews.go.com/US/sam-bankman-frieds-girlfriend-ftx-founder-plead-guilty/story?id=95683343\" target=\"_blank\">https://abcnews.go.com/US/sam-bankman-frieds-girlfriend-ftx-founder-plead-guilty/story?id=95683343</a></div>\n",
       "    <p style=\"color: purple; margin: 10px 0 0;\">&#x1F49C; 33 <span style=\"margin-left: 5px; margin-top: 10px;\">&#x1F4AC; 10</span></p></div></div>"
      ],
      "text/plain": [
       "<IPython.core.display.HTML object>"
      ]
     },
     "metadata": {},
     "output_type": "display_data"
    },
    {
     "data": {
      "text/html": [
       "\n",
       "    <div style=\"border: 1px solid #ccc; max-width: 600px; padding: 25px; margin-bottom: 25px;\">\n",
       "        <div style=\"max-width: 550px; margin: 0 auto;\">\n",
       "            <p><strong><a href=\"https://searchcaster.xyz/search?merkleRoot=0xf6a61c5f1a5287be6f07dc0c1a3d4edeff881803\" target=\"_blank\">merkleRoot</a></strong></p>\n",
       "            <p><strong>@adamgenlight · fid 3049</strong></p>\n",
       "            <div style=\"word-wrap: break-word; margin: 10px 0;\">Getting close to finished with my next generative art collection, made entirely in p5js. <br><br>I always struggle with collection size and price. <br><br>I imagine pricing art isn't easy for anyone - would love any advice, particularly for long-form generative art (e.g., 200+ pieces). </div>\n",
       "    <div style=\"text-align: center;\"><img src=\"https://i.imgur.com/GIAmPsV.jpg\" style=\"max-width: 550px; margin-top: 10px;\"></div><p style=\"color: purple; margin: 10px 0 0;\">&#x1F49C; 33 <span style=\"margin-left: 5px; margin-top: 10px;\">&#x1F4AC; 8</span></p></div></div>"
      ],
      "text/plain": [
       "<IPython.core.display.HTML object>"
      ]
     },
     "metadata": {},
     "output_type": "display_data"
    },
    {
     "data": {
      "text/html": [
       "\n",
       "    <div style=\"border: 1px solid #ccc; max-width: 600px; padding: 25px; margin-bottom: 25px;\">\n",
       "        <div style=\"max-width: 550px; margin: 0 auto;\">\n",
       "            <p><strong><a href=\"https://searchcaster.xyz/search?merkleRoot=0x24a5177aa604f6868aa048dccbbce467c5142d9e\" target=\"_blank\">merkleRoot</a></strong></p>\n",
       "            <p><strong>@togido · fid 1075</strong></p>\n",
       "            <div style=\"word-wrap: break-word; margin: 10px 0;\">I got the job im so happy thanks duolingo and youtube</div>\n",
       "    <p style=\"color: purple; margin: 10px 0 0;\">&#x1F49C; 32 <span style=\"margin-left: 5px; margin-top: 10px;\">&#x1F4AC; 5</span></p></div></div>"
      ],
      "text/plain": [
       "<IPython.core.display.HTML object>"
      ]
     },
     "metadata": {},
     "output_type": "display_data"
    },
    {
     "data": {
      "text/html": [
       "\n",
       "    <div style=\"border: 1px solid #ccc; max-width: 600px; padding: 25px; margin-bottom: 25px;\">\n",
       "        <div style=\"max-width: 550px; margin: 0 auto;\">\n",
       "            <p><strong><a href=\"https://searchcaster.xyz/search?merkleRoot=0xa275dcacf6ca9b2790a941e75ae2414ddcc4e19c\" target=\"_blank\">merkleRoot</a></strong></p>\n",
       "            <p><strong>@vgr · fid 4606</strong></p>\n",
       "            <div style=\"word-wrap: break-word; margin: 10px 0;\">🫡 is the emoji of the year</div>\n",
       "    <p style=\"color: purple; margin: 10px 0 0;\">&#x1F49C; 32 <span style=\"margin-left: 5px; margin-top: 10px;\">&#x1F4AC; 17</span></p></div></div>"
      ],
      "text/plain": [
       "<IPython.core.display.HTML object>"
      ]
     },
     "metadata": {},
     "output_type": "display_data"
    },
    {
     "data": {
      "text/html": [
       "\n",
       "    <div style=\"border: 1px solid #ccc; max-width: 600px; padding: 25px; margin-bottom: 25px;\">\n",
       "        <div style=\"max-width: 550px; margin: 0 auto;\">\n",
       "            <p><strong><a href=\"https://searchcaster.xyz/search?merkleRoot=0x8f1a9c6175b7cbb0fdf792bb3bc37117b53b90bd\" target=\"_blank\">merkleRoot</a></strong></p>\n",
       "            <p><strong>@pushix · fid 359</strong></p>\n",
       "            <div style=\"word-wrap: break-word; margin: 10px 0;\">Want to bring attention to @df ‘s work. He’s building the second (after Merkel) solid Farcaster client.<br><br>It’s a really big deal and why Farcaster is special, so go try it out and give feedback, we (consumers) all win with competition at the client level.<br><br>LFG 🚀 </div>\n",
       "    <div style=\"text-align: center;\"><img src=\"https://i.imgur.com/wGUcM7K.jpg\" style=\"max-width: 550px; margin-top: 10px;\"></div><p style=\"color: purple; margin: 10px 0 0;\">&#x1F49C; 32 <span style=\"margin-left: 5px; margin-top: 10px;\">&#x1F4AC; 1</span></p></div></div>"
      ],
      "text/plain": [
       "<IPython.core.display.HTML object>"
      ]
     },
     "metadata": {},
     "output_type": "display_data"
    },
    {
     "data": {
      "text/html": [
       "\n",
       "    <div style=\"border: 1px solid #ccc; max-width: 600px; padding: 25px; margin-bottom: 25px;\">\n",
       "        <div style=\"max-width: 550px; margin: 0 auto;\">\n",
       "            <p><strong><a href=\"https://searchcaster.xyz/search?merkleRoot=0x009a7fdeb5c7d23e7011c66fac384adec4e481fe\" target=\"_blank\">merkleRoot</a></strong></p>\n",
       "            <p><strong>@colin · fid 378</strong></p>\n",
       "            <div style=\"word-wrap: break-word; margin: 10px 0;\">What terminal do you use, and why?<br><br>I'm using iTerm2 but Hyper and Warp look neat.</div>\n",
       "    <p style=\"color: purple; margin: 10px 0 0;\">&#x1F49C; 32 <span style=\"margin-left: 5px; margin-top: 10px;\">&#x1F4AC; 38</span></p></div></div>"
      ],
      "text/plain": [
       "<IPython.core.display.HTML object>"
      ]
     },
     "metadata": {},
     "output_type": "display_data"
    },
    {
     "data": {
      "text/html": [
       "\n",
       "    <div style=\"border: 1px solid #ccc; max-width: 600px; padding: 25px; margin-bottom: 25px;\">\n",
       "        <div style=\"max-width: 550px; margin: 0 auto;\">\n",
       "            <p><strong><a href=\"https://searchcaster.xyz/search?merkleRoot=0xbc19e18445ea12133c9914fc092e8a4abcfb074b\" target=\"_blank\">merkleRoot</a></strong></p>\n",
       "            <p><strong>@js · fid 368</strong></p>\n",
       "            <div style=\"word-wrap: break-word; margin: 10px 0;\">lots of new farcasters today - welcome!</div>\n",
       "    <p style=\"color: purple; margin: 10px 0 0;\">&#x1F49C; 32 <span style=\"margin-left: 5px; margin-top: 10px;\">&#x1F4AC; 1</span></p></div></div>"
      ],
      "text/plain": [
       "<IPython.core.display.HTML object>"
      ]
     },
     "metadata": {},
     "output_type": "display_data"
    },
    {
     "data": {
      "text/html": [
       "\n",
       "    <div style=\"border: 1px solid #ccc; max-width: 600px; padding: 25px; margin-bottom: 25px;\">\n",
       "        <div style=\"max-width: 550px; margin: 0 auto;\">\n",
       "            <p><strong><a href=\"https://searchcaster.xyz/search?merkleRoot=0xed368fa408f29af6a9ac5733e2719bee0fd77b39\" target=\"_blank\">merkleRoot</a></strong></p>\n",
       "            <p><strong>@phil · fid 129</strong></p>\n",
       "            <div style=\"word-wrap: break-word; margin: 10px 0;\">What’s your vote and why? </div>\n",
       "    <div style=\"text-align: center;\"><img src=\"https://i.imgur.com/o08hAvU.jpg\" style=\"max-width: 550px; margin-top: 10px;\"></div><p style=\"color: purple; margin: 10px 0 0;\">&#x1F49C; 31 <span style=\"margin-left: 5px; margin-top: 10px;\">&#x1F4AC; 59</span></p></div></div>"
      ],
      "text/plain": [
       "<IPython.core.display.HTML object>"
      ]
     },
     "metadata": {},
     "output_type": "display_data"
    },
    {
     "data": {
      "text/html": [
       "\n",
       "    <div style=\"border: 1px solid #ccc; max-width: 600px; padding: 25px; margin-bottom: 25px;\">\n",
       "        <div style=\"max-width: 550px; margin: 0 auto;\">\n",
       "            <p><strong><a href=\"https://searchcaster.xyz/search?merkleRoot=0xb62fc30f9a8fc89b4325fe2e837b0201c2a3cdac\" target=\"_blank\">merkleRoot</a></strong></p>\n",
       "            <p><strong>@dwr · fid 3</strong></p>\n",
       "            <div style=\"word-wrap: break-word; margin: 10px 0;\">Ran the Kenji Dutch oven pork shoulder recipe without the BBQ sauce and more aromatics and onion. Also works well for beef chuck. New staple for our household. </div>\n",
       "    <div style=\"text-align: center;\"><img src=\"https://i.imgur.com/6MbB9Xc.jpg\" style=\"max-width: 550px; margin-top: 10px;\"></div><p style=\"color: purple; margin: 10px 0 0;\">&#x1F49C; 31 <span style=\"margin-left: 5px; margin-top: 10px;\">&#x1F4AC; 4</span></p></div></div>"
      ],
      "text/plain": [
       "<IPython.core.display.HTML object>"
      ]
     },
     "metadata": {},
     "output_type": "display_data"
    },
    {
     "data": {
      "text/html": [
       "\n",
       "    <div style=\"border: 1px solid #ccc; max-width: 600px; padding: 25px; margin-bottom: 25px;\">\n",
       "        <div style=\"max-width: 550px; margin: 0 auto;\">\n",
       "            <p><strong><a href=\"https://searchcaster.xyz/search?merkleRoot=0x01fe9cef2b02c2f2a278b586c5e702ffdcdb4ff3\" target=\"_blank\">merkleRoot</a></strong></p>\n",
       "            <p><strong>@dystopiabreaker · fid 4893</strong></p>\n",
       "            <div style=\"word-wrap: break-word; margin: 10px 0;\"></div>\n",
       "    <div style=\"text-align: center;\"><img src=\"https://i.imgur.com/nfVTEal.jpg\" style=\"max-width: 550px; margin-top: 10px;\"></div><p style=\"color: purple; margin: 10px 0 0;\">&#x1F49C; 31 <span style=\"margin-left: 5px; margin-top: 10px;\">&#x1F4AC; 1</span></p></div></div>"
      ],
      "text/plain": [
       "<IPython.core.display.HTML object>"
      ]
     },
     "metadata": {},
     "output_type": "display_data"
    },
    {
     "data": {
      "text/html": [
       "\n",
       "    <div style=\"border: 1px solid #ccc; max-width: 600px; padding: 25px; margin-bottom: 25px;\">\n",
       "        <div style=\"max-width: 550px; margin: 0 auto;\">\n",
       "            <p><strong><a href=\"https://searchcaster.xyz/search?merkleRoot=0x08e13b7cb3b398b50143008816ee2b74a210610c\" target=\"_blank\">merkleRoot</a></strong></p>\n",
       "            <p><strong>@gaby · fid 83</strong></p>\n",
       "            <div style=\"word-wrap: break-word; margin: 10px 0;\">Days are only getting longer from here!! 🌞</div>\n",
       "    <p style=\"color: purple; margin: 10px 0 0;\">&#x1F49C; 31 <span style=\"margin-left: 5px; margin-top: 10px;\">&#x1F4AC; 2</span></p></div></div>"
      ],
      "text/plain": [
       "<IPython.core.display.HTML object>"
      ]
     },
     "metadata": {},
     "output_type": "display_data"
    },
    {
     "data": {
      "text/html": [
       "\n",
       "    <div style=\"border: 1px solid #ccc; max-width: 600px; padding: 25px; margin-bottom: 25px;\">\n",
       "        <div style=\"max-width: 550px; margin: 0 auto;\">\n",
       "            <p><strong><a href=\"https://searchcaster.xyz/search?merkleRoot=0x6d570aa879cba18217448a8d8b34d08f091f6b7d\" target=\"_blank\">merkleRoot</a></strong></p>\n",
       "            <p><strong>@visakanv · fid 4994</strong></p>\n",
       "            <div style=\"word-wrap: break-word; margin: 10px 0;\">I wonder if there would be any interest if I did an AMA here? AMA</div>\n",
       "    <p style=\"color: purple; margin: 10px 0 0;\">&#x1F49C; 31 <span style=\"margin-left: 5px; margin-top: 10px;\">&#x1F4AC; 14</span></p></div></div>"
      ],
      "text/plain": [
       "<IPython.core.display.HTML object>"
      ]
     },
     "metadata": {},
     "output_type": "display_data"
    },
    {
     "data": {
      "text/html": [
       "\n",
       "    <div style=\"border: 1px solid #ccc; max-width: 600px; padding: 25px; margin-bottom: 25px;\">\n",
       "        <div style=\"max-width: 550px; margin: 0 auto;\">\n",
       "            <p><strong><a href=\"https://searchcaster.xyz/search?merkleRoot=0x6b48b5bab2d833f0ce9672a3f6b8a476c475f19b\" target=\"_blank\">merkleRoot</a></strong></p>\n",
       "            <p><strong>@pinged · fid 7074</strong></p>\n",
       "            <div style=\"word-wrap: break-word; margin: 10px 0;\">Day 1 of Farcaster: I've seem a lot more positivity / less doom scrolling porn than Twitter, so I've decided I'm going relegate my more 'doom' takes (e.g. about the fraudulent behavior of effective altruists) to Twitter</div>\n",
       "    <p style=\"color: purple; margin: 10px 0 0;\">&#x1F49C; 31 <span style=\"margin-left: 5px; margin-top: 10px;\">&#x1F4AC; 4</span></p></div></div>"
      ],
      "text/plain": [
       "<IPython.core.display.HTML object>"
      ]
     },
     "metadata": {},
     "output_type": "display_data"
    },
    {
     "data": {
      "text/html": [
       "\n",
       "    <div style=\"border: 1px solid #ccc; max-width: 600px; padding: 25px; margin-bottom: 25px;\">\n",
       "        <div style=\"max-width: 550px; margin: 0 auto;\">\n",
       "            <p><strong><a href=\"https://searchcaster.xyz/search?merkleRoot=0x1347590a0ef332a0c19138ed296d8b479d12b59d\" target=\"_blank\">merkleRoot</a></strong></p>\n",
       "            <p><strong>@mags · fid 4836</strong></p>\n",
       "            <div style=\"word-wrap: break-word; margin: 10px 0;\">Meeting with a web3 CEO to help brainstorm partnership strat and thinking my approach might make a good blog post. Would folks be interested?<br><br>My framework- partnerships must meet min 1 of 4 criteria, w/ various watchouts & best practices for each:<br>- build brand equity<br>- generate $<br>- increase user value<br>- expand reach</div>\n",
       "    <p style=\"color: purple; margin: 10px 0 0;\">&#x1F49C; 30 <span style=\"margin-left: 5px; margin-top: 10px;\">&#x1F4AC; 12</span></p></div></div>"
      ],
      "text/plain": [
       "<IPython.core.display.HTML object>"
      ]
     },
     "metadata": {},
     "output_type": "display_data"
    },
    {
     "data": {
      "text/html": [
       "\n",
       "    <div style=\"border: 1px solid #ccc; max-width: 600px; padding: 25px; margin-bottom: 25px;\">\n",
       "        <div style=\"max-width: 550px; margin: 0 auto;\">\n",
       "            <p><strong><a href=\"https://searchcaster.xyz/search?merkleRoot=0x74353d2eb4dfbec460a2f64877657543c9d9fd79\" target=\"_blank\">merkleRoot</a></strong></p>\n",
       "            <p><strong>@jacob · fid 8</strong></p>\n",
       "            <div style=\"word-wrap: break-word; margin: 10px 0;\">hot take </div>\n",
       "    <div style=\"text-align: center;\"><img src=\"https://i.imgur.com/LFeFHke.jpg\" style=\"max-width: 550px; margin-top: 10px;\"></div><p style=\"color: purple; margin: 10px 0 0;\">&#x1F49C; 30 <span style=\"margin-left: 5px; margin-top: 10px;\">&#x1F4AC; 5</span></p></div></div>"
      ],
      "text/plain": [
       "<IPython.core.display.HTML object>"
      ]
     },
     "metadata": {},
     "output_type": "display_data"
    },
    {
     "data": {
      "text/html": [
       "\n",
       "    <div style=\"border: 1px solid #ccc; max-width: 600px; padding: 25px; margin-bottom: 25px;\">\n",
       "        <div style=\"max-width: 550px; margin: 0 auto;\">\n",
       "            <p><strong><a href=\"https://searchcaster.xyz/search?merkleRoot=0x3c62a5c580172a7b9a463b3492f825c08e2112cc\" target=\"_blank\">merkleRoot</a></strong></p>\n",
       "            <p><strong>@vercelabloh · fid 324</strong></p>\n",
       "            <div style=\"word-wrap: break-word; margin: 10px 0;\">the Oppenheimer trailer is out. I have no idea if it's going to be bullish or bearish for nuclear energy adoption. <a href=\"https://www.youtube.com/watch?v=bK6ldnjE3Y0\" target=\"_blank\">https://www.youtube.com/watch?v=bK6ldnjE3Y0</a></div>\n",
       "    <p style=\"color: purple; margin: 10px 0 0;\">&#x1F49C; 30 <span style=\"margin-left: 5px; margin-top: 10px;\">&#x1F4AC; 4</span></p></div></div>"
      ],
      "text/plain": [
       "<IPython.core.display.HTML object>"
      ]
     },
     "metadata": {},
     "output_type": "display_data"
    },
    {
     "data": {
      "text/html": [
       "\n",
       "    <div style=\"border: 1px solid #ccc; max-width: 600px; padding: 25px; margin-bottom: 25px;\">\n",
       "        <div style=\"max-width: 550px; margin: 0 auto;\">\n",
       "            <p><strong><a href=\"https://searchcaster.xyz/search?merkleRoot=0x6323563c2a64e17603c8d4104717e4bf0efe58dc\" target=\"_blank\">merkleRoot</a></strong></p>\n",
       "            <p><strong>@mags · fid 4836</strong></p>\n",
       "            <div style=\"word-wrap: break-word; margin: 10px 0;\">Anyone celebrating Elon’s “governance by polls” is delusional<br>• easy to bot by 3rd parties (no indy verification)<br>• easy for Twitter to manipulate who sees the polls (reach discrimination)<br>• easy for Twitter to manipulate results (no transparency)<br><br>I have as much faith in Twitter polls as I do in Russian el</div>\n",
       "    <p style=\"color: purple; margin: 10px 0 0;\">&#x1F49C; 30 <span style=\"margin-left: 5px; margin-top: 10px;\">&#x1F4AC; 5</span></p></div></div>"
      ],
      "text/plain": [
       "<IPython.core.display.HTML object>"
      ]
     },
     "metadata": {},
     "output_type": "display_data"
    },
    {
     "data": {
      "text/html": [
       "\n",
       "    <div style=\"border: 1px solid #ccc; max-width: 600px; padding: 25px; margin-bottom: 25px;\">\n",
       "        <div style=\"max-width: 550px; margin: 0 auto;\">\n",
       "            <p><strong><a href=\"https://searchcaster.xyz/search?merkleRoot=0x240903416270f5b3999b643cd11e84ccb29af801\" target=\"_blank\">merkleRoot</a></strong></p>\n",
       "            <p><strong>@purple · fid 4417</strong></p>\n",
       "            <div style=\"word-wrap: break-word; margin: 10px 0;\">Thrilled to announce that we have concluded Purple's first-ever Prop House Round! 5 eth will retroactively gifted to builders who have already contributed to Farcaster ecosystem.<br><br>18 proposals received. 6 selected (with a tie at 5th place). Big congrats to the winners! Let's keep BUIDLing!</div>\n",
       "    <p style=\"color: purple; margin: 10px 0 0;\">&#x1F49C; 30 <span style=\"margin-left: 5px; margin-top: 10px;\">&#x1F4AC; 4</span></p></div></div>"
      ],
      "text/plain": [
       "<IPython.core.display.HTML object>"
      ]
     },
     "metadata": {},
     "output_type": "display_data"
    },
    {
     "data": {
      "text/html": [
       "\n",
       "    <div style=\"border: 1px solid #ccc; max-width: 600px; padding: 25px; margin-bottom: 25px;\">\n",
       "        <div style=\"max-width: 550px; margin: 0 auto;\">\n",
       "            <p><strong><a href=\"https://searchcaster.xyz/search?merkleRoot=0xad9643cdb1b6f45f407eb9e5671859c48d2c77ce\" target=\"_blank\">merkleRoot</a></strong></p>\n",
       "            <p><strong>@packy · fid 57</strong></p>\n",
       "            <div style=\"word-wrap: break-word; margin: 10px 0;\">*breathes in that fresh farcaster air*</div>\n",
       "    <p style=\"color: purple; margin: 10px 0 0;\">&#x1F49C; 30 <span style=\"margin-left: 5px; margin-top: 10px;\">&#x1F4AC; 4</span></p></div></div>"
      ],
      "text/plain": [
       "<IPython.core.display.HTML object>"
      ]
     },
     "metadata": {},
     "output_type": "display_data"
    },
    {
     "data": {
      "text/html": [
       "\n",
       "    <div style=\"border: 1px solid #ccc; max-width: 600px; padding: 25px; margin-bottom: 25px;\">\n",
       "        <div style=\"max-width: 550px; margin: 0 auto;\">\n",
       "            <p><strong><a href=\"https://searchcaster.xyz/search?merkleRoot=0xfe688949b00b4839aba0befb587165006bc56ce4\" target=\"_blank\">merkleRoot</a></strong></p>\n",
       "            <p><strong>@jayme · fid 373</strong></p>\n",
       "            <div style=\"word-wrap: break-word; margin: 10px 0;\">Left (flat) or Right (gradient)?<br><br>cc @bias 🧑‍🎨 </div>\n",
       "    <div style=\"text-align: center;\"><img src=\"https://i.imgur.com/T3hSvFo.jpg\" style=\"max-width: 550px; margin-top: 10px;\"></div><p style=\"color: purple; margin: 10px 0 0;\">&#x1F49C; 30 <span style=\"margin-left: 5px; margin-top: 10px;\">&#x1F4AC; 33</span></p></div></div>"
      ],
      "text/plain": [
       "<IPython.core.display.HTML object>"
      ]
     },
     "metadata": {},
     "output_type": "display_data"
    },
    {
     "data": {
      "text/html": [
       "\n",
       "    <div style=\"border: 1px solid #ccc; max-width: 600px; padding: 25px; margin-bottom: 25px;\">\n",
       "        <div style=\"max-width: 550px; margin: 0 auto;\">\n",
       "            <p><strong><a href=\"https://searchcaster.xyz/search?merkleRoot=0xae8edd4b20aa01444aff7a857089d979d4f07034\" target=\"_blank\">merkleRoot</a></strong></p>\n",
       "            <p><strong>@colin · fid 378</strong></p>\n",
       "            <div style=\"word-wrap: break-word; margin: 10px 0;\">What are the best resources to learn about music NFTs?<br><br>I’m mainly interested in learning about usecases beyond royalty distribution (a la Royal).</div>\n",
       "    <p style=\"color: purple; margin: 10px 0 0;\">&#x1F49C; 30 <span style=\"margin-left: 5px; margin-top: 10px;\">&#x1F4AC; 21</span></p></div></div>"
      ],
      "text/plain": [
       "<IPython.core.display.HTML object>"
      ]
     },
     "metadata": {},
     "output_type": "display_data"
    },
    {
     "data": {
      "text/html": [
       "\n",
       "    <div style=\"border: 1px solid #ccc; max-width: 600px; padding: 25px; margin-bottom: 25px;\">\n",
       "        <div style=\"max-width: 550px; margin: 0 auto;\">\n",
       "            <p><strong><a href=\"https://searchcaster.xyz/search?merkleRoot=0x198d56b52f429fe2076aa408992a199fc1ddfbe5\" target=\"_blank\">merkleRoot</a></strong></p>\n",
       "            <p><strong>@ted · fid 239</strong></p>\n",
       "            <div style=\"word-wrap: break-word; margin: 10px 0;\">reading @balajis and @vbuterin engage with each other’s intellectual ideas in real time is one of the greatest Christmas gifts that only Farcaster could give us</div>\n",
       "    <p style=\"color: purple; margin: 10px 0 0;\">&#x1F49C; 29 <span style=\"margin-left: 5px; margin-top: 10px;\">&#x1F4AC; 3</span></p></div></div>"
      ],
      "text/plain": [
       "<IPython.core.display.HTML object>"
      ]
     },
     "metadata": {},
     "output_type": "display_data"
    },
    {
     "data": {
      "text/html": [
       "\n",
       "    <div style=\"border: 1px solid #ccc; max-width: 600px; padding: 25px; margin-bottom: 25px;\">\n",
       "        <div style=\"max-width: 550px; margin: 0 auto;\">\n",
       "            <p><strong><a href=\"https://searchcaster.xyz/search?merkleRoot=0x5732e0545a482b50baa88f6267b6a5e2a42eb2a0\" target=\"_blank\">merkleRoot</a></strong></p>\n",
       "            <p><strong>@ccarella · fid 472</strong></p>\n",
       "            <div style=\"word-wrap: break-word; margin: 10px 0;\">Discove.xyz is really great. With the + New Cast feature it is a legit Farcaster web client. I'm becoming an Arc power user and wanting to do more and more in the client and Discove just became a pinned tab for me. h/t @df </div>\n",
       "    <p style=\"color: purple; margin: 10px 0 0;\">&#x1F49C; 29 <span style=\"margin-left: 5px; margin-top: 10px;\">&#x1F4AC; 2</span></p></div></div>"
      ],
      "text/plain": [
       "<IPython.core.display.HTML object>"
      ]
     },
     "metadata": {},
     "output_type": "display_data"
    },
    {
     "data": {
      "text/html": [
       "\n",
       "    <div style=\"border: 1px solid #ccc; max-width: 600px; padding: 25px; margin-bottom: 25px;\">\n",
       "        <div style=\"max-width: 550px; margin: 0 auto;\">\n",
       "            <p><strong><a href=\"https://searchcaster.xyz/search?merkleRoot=0x1a1492f4d6d0cc8ddea174f26fb271395e63f59f\" target=\"_blank\">merkleRoot</a></strong></p>\n",
       "            <p><strong>@purple · fid 4417</strong></p>\n",
       "            <div style=\"word-wrap: break-word; margin: 10px 0;\">Congrats again to our Prop House Winners. Retroactive Gifts have been sent!<br><br>- @greg <br>- @zachterrell <br>- @pfista <br>- @andyjagoe <br>- @borodutch <br>- @briang <br><br><a href=\"https://etherscan.io/tx/0xb14e542ff5422ad24130d65f8ebc6aab508447f9a068dbc40668eedaf84de0dd\" target=\"_blank\">https://etherscan.io/tx/0xb14e542ff5422ad24130d65f8ebc6aab508447f9a068dbc40668eedaf84de0dd</a></div>\n",
       "    <p style=\"color: purple; margin: 10px 0 0;\">&#x1F49C; 29 <span style=\"margin-left: 5px; margin-top: 10px;\">&#x1F4AC; 6</span></p></div></div>"
      ],
      "text/plain": [
       "<IPython.core.display.HTML object>"
      ]
     },
     "metadata": {},
     "output_type": "display_data"
    },
    {
     "data": {
      "text/html": [
       "\n",
       "    <div style=\"border: 1px solid #ccc; max-width: 600px; padding: 25px; margin-bottom: 25px;\">\n",
       "        <div style=\"max-width: 550px; margin: 0 auto;\">\n",
       "            <p><strong><a href=\"https://searchcaster.xyz/search?merkleRoot=0x8cb756cb076d86bfae08647a818b700680bd7515\" target=\"_blank\">merkleRoot</a></strong></p>\n",
       "            <p><strong>@jayme · fid 373</strong></p>\n",
       "            <div style=\"word-wrap: break-word; margin: 10px 0;\">The simple Farcaster app might be misunderstood by users looking for a new home. I don’t think it should change. <br><br>The lightweight brand and system-esque UI allows the early content (people, casts, NFTs) to shine through and devs to imagine and fill in the blanks.</div>\n",
       "    <p style=\"color: purple; margin: 10px 0 0;\">&#x1F49C; 29 <span style=\"margin-left: 5px; margin-top: 10px;\">&#x1F4AC; 1</span></p></div></div>"
      ],
      "text/plain": [
       "<IPython.core.display.HTML object>"
      ]
     },
     "metadata": {},
     "output_type": "display_data"
    }
   ],
   "source": [
    "# TWLY: This Week Last Year - December 17 - 23, 2022\n",
    "# Compiled using Farcaster-Indexer & Searchcaster \n",
    "\n",
    "https://github.com/gskril/farcaster-indexer\n",
    "https://searchcaster.xyz"
   ]
  }
 ],
 "metadata": {
  "kernelspec": {
   "display_name": "Python 3 (ipykernel)",
   "language": "python",
   "name": "python3"
  },
  "language_info": {
   "codemirror_mode": {
    "name": "ipython",
    "version": 3
   },
   "file_extension": ".py",
   "mimetype": "text/x-python",
   "name": "python",
   "nbconvert_exporter": "python",
   "pygments_lexer": "ipython3",
   "version": "3.9.13"
  }
 },
 "nbformat": 4,
 "nbformat_minor": 5
}
