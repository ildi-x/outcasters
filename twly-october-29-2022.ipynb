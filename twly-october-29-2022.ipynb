{
 "cells": [
  {
   "cell_type": "markdown",
   "id": "784b1f6d",
   "metadata": {},
   "source": [
    "## OUTCASTERS SNAPSHOT 017"
   ]
  },
  {
   "cell_type": "markdown",
   "id": "398ad3ad",
   "metadata": {},
   "source": [
    "https://outcasters.xyz "
   ]
  },
  {
   "cell_type": "code",
   "execution_count": 1,
   "id": "6471faa5",
   "metadata": {
    "scrolled": false
   },
   "outputs": [
    {
     "data": {
      "text/html": [
       "\n",
       "    <div style=\"max-width: 600px; margin-bottom: 25px;\">\n",
       "        <h2 style=\"margin-bottom: 15px;\">Total Casts</h2>\n",
       "        <p style=\"font-size: 18x; margin: 5px 0 5px;\">Including Replies: 14354</p>\n",
       "        <p style=\"font-size: 18x; margin: 5px 0;\">Excluding Replies: 4273</p>\n",
       "    </div>\n"
      ],
      "text/plain": [
       "<IPython.core.display.HTML object>"
      ]
     },
     "metadata": {},
     "output_type": "display_data"
    },
    {
     "data": {
      "text/html": [
       "<h2>Top 30 Most Active Users (Excluding Replies)</h2>"
      ],
      "text/plain": [
       "<IPython.core.display.HTML object>"
      ]
     },
     "metadata": {},
     "output_type": "display_data"
    },
    {
     "data": {
      "text/html": [
       "<p>Only original casts are considered for this calculation. Replies are excluded.</p>"
      ],
      "text/plain": [
       "<IPython.core.display.HTML object>"
      ]
     },
     "metadata": {},
     "output_type": "display_data"
    },
    {
     "data": {
      "text/html": [
       "<ol><li>welcome - 388 casts</li><li>juan - 80 casts</li><li>alexanderchopan - 71 casts</li><li>abc - 58 casts</li><li>ivy - 55 casts</li><li>ace - 47 casts</li><li>dwr - 44 casts</li><li>cameron - 35 casts</li><li>shilikajain - 30 casts</li><li>ccarella - 30 casts</li><li>jk - 26 casts</li><li>futureartist - 26 casts</li><li>bias - 26 casts</li><li>giu - 26 casts</li><li>vgr - 24 casts</li><li>borodutch - 23 casts</li><li>daojoan - 22 casts</li><li>novack - 22 casts</li><li>0xen - 21 casts</li><li>phil - 21 casts</li><li>briang - 20 casts</li><li>dragonbanec - 19 casts</li><li>endreetternavn - 19 casts</li><li>alexpaden - 18 casts</li><li>j4ck - 18 casts</li><li>mk - 18 casts</li><li>tayyab - 17 casts</li><li>dstny - 17 casts</li><li>thomas - 17 casts</li><li>maurerbot - 16 casts</li></ol>"
      ],
      "text/plain": [
       "<IPython.core.display.HTML object>"
      ]
     },
     "metadata": {},
     "output_type": "display_data"
    },
    {
     "data": {
      "text/html": [
       "<h2>Top 30 Most Active Users (Including Replies)</h2>"
      ],
      "text/plain": [
       "<IPython.core.display.HTML object>"
      ]
     },
     "metadata": {},
     "output_type": "display_data"
    },
    {
     "data": {
      "text/html": [
       "<p>All casts, including replies, are considered for this calculation.</p>"
      ],
      "text/plain": [
       "<IPython.core.display.HTML object>"
      ]
     },
     "metadata": {},
     "output_type": "display_data"
    },
    {
     "data": {
      "text/html": [
       "<ol><li>juan - 500 casts</li><li>welcome - 388 casts</li><li>dragonbanec - 330 casts</li><li>dwr - 325 casts</li><li>cameron - 324 casts</li><li>alexanderchopan - 192 casts</li><li>perl - 188 casts</li><li>bias - 154 casts</li><li>ccarella - 144 casts</li><li>ace - 140 casts</li><li>nonlinear - 137 casts</li><li>pfista - 135 casts</li><li>j4ck - 133 casts</li><li>phil - 121 casts</li><li>ivy - 120 casts</li><li>giu - 108 casts</li><li>karthiksenthil - 97 casts</li><li>borodutch - 97 casts</li><li>shilikajain - 95 casts</li><li>0xen - 89 casts</li><li>benersing - 87 casts</li><li>macbudkowski - 85 casts</li><li>slowcrypto - 80 casts</li><li>coachcoale - 79 casts</li><li>vgr - 78 casts</li><li>briang - 77 casts</li><li>azeni - 77 casts</li><li>alexpaden - 74 casts</li><li>les - 74 casts</li><li>payton - 73 casts</li></ol>"
      ],
      "text/plain": [
       "<IPython.core.display.HTML object>"
      ]
     },
     "metadata": {},
     "output_type": "display_data"
    },
    {
     "data": {
      "text/html": [
       "<h2>Top 100 casts ranked by total likes</h2>"
      ],
      "text/plain": [
       "<IPython.core.display.HTML object>"
      ]
     },
     "metadata": {},
     "output_type": "display_data"
    },
    {
     "data": {
      "text/html": [
       "\n",
       "    <div style=\"border: 1px solid #ccc; max-width: 600px; padding: 25px; margin-bottom: 25px;\">\n",
       "        <div style=\"max-width: 550px; margin: 0 auto;\">\n",
       "            <p><strong><a href=\"https://searchcaster.xyz/search?merkleRoot=0xfa29719f56a487ceb0ec60742b9ebc29939ec298\" target=\"_blank\">merkleRoot</a></strong></p>\n",
       "            <p><strong>@stammy · fid 130</strong></p>\n",
       "            <div style=\"word-wrap: break-word; margin: 10px 0;\">We launched today and announced our $10m @ 75m raise led by a16z <br><br>🚀 Rewind.ai <br><br>Rewind is a macOS app that fully utilizes the capabilities of Apple Silicon + Ventura to analyze everything you see and make it searchable in real-time. <br><br>And it’s private by design: all local on your mac <a href=\"https://i.imgur.com/5bj5J6c.j\" target=\"_blank\">https://i.imgur.com/5bj5J6c.j</a></div>\n",
       "    <p style=\"color: purple; margin: 10px 0 0;\">&#x1F49C; 206 <span style=\"margin-left: 5px; margin-top: 10px;\">&#x1F4AC; 49</span></p></div></div>"
      ],
      "text/plain": [
       "<IPython.core.display.HTML object>"
      ]
     },
     "metadata": {},
     "output_type": "display_data"
    },
    {
     "data": {
      "text/html": [
       "\n",
       "    <div style=\"border: 1px solid #ccc; max-width: 600px; padding: 25px; margin-bottom: 25px;\">\n",
       "        <div style=\"max-width: 550px; margin: 0 auto;\">\n",
       "            <p><strong><a href=\"https://searchcaster.xyz/search?merkleRoot=0x9d47acedf5573d60956d181b2ce7cac6ba269711\" target=\"_blank\">merkleRoot</a></strong></p>\n",
       "            <p><strong>@pmarca · fid 51</strong></p>\n",
       "            <div style=\"word-wrap: break-word; margin: 10px 0;\">Shit is lit AF.</div>\n",
       "    <p style=\"color: purple; margin: 10px 0 0;\">&#x1F49C; 185 <span style=\"margin-left: 5px; margin-top: 10px;\">&#x1F4AC; 34</span></p></div></div>"
      ],
      "text/plain": [
       "<IPython.core.display.HTML object>"
      ]
     },
     "metadata": {},
     "output_type": "display_data"
    },
    {
     "data": {
      "text/html": [
       "\n",
       "    <div style=\"border: 1px solid #ccc; max-width: 600px; padding: 25px; margin-bottom: 25px;\">\n",
       "        <div style=\"max-width: 550px; margin: 0 auto;\">\n",
       "            <p><strong><a href=\"https://searchcaster.xyz/search?merkleRoot=0xe1ffd3b1bb235e81d7db918a51ff9baf4803293a\" target=\"_blank\">merkleRoot</a></strong></p>\n",
       "            <p><strong>@dwr · fid 3</strong></p>\n",
       "            <div style=\"word-wrap: break-word; margin: 10px 0;\">Congrats to @max who is now leading all consumer product for Coinbase!</div>\n",
       "    <p style=\"color: purple; margin: 10px 0 0;\">&#x1F49C; 184 <span style=\"margin-left: 5px; margin-top: 10px;\">&#x1F4AC; 20</span></p></div></div>"
      ],
      "text/plain": [
       "<IPython.core.display.HTML object>"
      ]
     },
     "metadata": {},
     "output_type": "display_data"
    },
    {
     "data": {
      "text/html": [
       "\n",
       "    <div style=\"border: 1px solid #ccc; max-width: 600px; padding: 25px; margin-bottom: 25px;\">\n",
       "        <div style=\"max-width: 550px; margin: 0 auto;\">\n",
       "            <p><strong><a href=\"https://searchcaster.xyz/search?merkleRoot=0xf975dae47f2ee571e5af195804623cfe46fdb8d5\" target=\"_blank\">merkleRoot</a></strong></p>\n",
       "            <p><strong>@dwr · fid 3</strong></p>\n",
       "            <div style=\"word-wrap: break-word; margin: 10px 0;\">I think a music oriented client Farcaster client would do well:<br><br>- parse Spotify, YoutTube links shared in global feed to create “Farcaster Radio”<br><br>- music NFTs<br><br>- music discussions / recommendations etc.</div>\n",
       "    <p style=\"color: purple; margin: 10px 0 0;\">&#x1F49C; 166 <span style=\"margin-left: 5px; margin-top: 10px;\">&#x1F4AC; 25</span></p></div></div>"
      ],
      "text/plain": [
       "<IPython.core.display.HTML object>"
      ]
     },
     "metadata": {},
     "output_type": "display_data"
    },
    {
     "data": {
      "text/html": [
       "\n",
       "    <div style=\"border: 1px solid #ccc; max-width: 600px; padding: 25px; margin-bottom: 25px;\">\n",
       "        <div style=\"max-width: 550px; margin: 0 auto;\">\n",
       "            <p><strong><a href=\"https://searchcaster.xyz/search?merkleRoot=0x4cd2625dab2fc60c13afb990f9e79a5e9ed35893\" target=\"_blank\">merkleRoot</a></strong></p>\n",
       "            <p><strong>@v · fid 2</strong></p>\n",
       "            <div style=\"word-wrap: break-word; margin: 10px 0;\">so @dwr made a slack channel called questions, where he asks questions and then replies to them himself<br><br>how worried should i be?  </div>\n",
       "    <div style=\"text-align: center;\"><img src=\"https://i.imgur.com/1rhznNp.png\" style=\"max-width: 550px; margin-top: 10px;\"></div><p style=\"color: purple; margin: 10px 0 0;\">&#x1F49C; 145 <span style=\"margin-left: 5px; margin-top: 10px;\">&#x1F4AC; 33</span></p></div></div>"
      ],
      "text/plain": [
       "<IPython.core.display.HTML object>"
      ]
     },
     "metadata": {},
     "output_type": "display_data"
    },
    {
     "data": {
      "text/html": [
       "\n",
       "    <div style=\"border: 1px solid #ccc; max-width: 600px; padding: 25px; margin-bottom: 25px;\">\n",
       "        <div style=\"max-width: 550px; margin: 0 auto;\">\n",
       "            <p><strong><a href=\"https://searchcaster.xyz/search?merkleRoot=0xefc8d9903fa80c8566e903ff611a60005308cd87\" target=\"_blank\">merkleRoot</a></strong></p>\n",
       "            <p><strong>@greg · fid 347</strong></p>\n",
       "            <div style=\"word-wrap: break-word; margin: 10px 0;\">gn from 🇨🇭 </div>\n",
       "    <div style=\"text-align: center;\"><img src=\"https://i.imgur.com/mXnkoOU.jpg\" style=\"max-width: 550px; margin-top: 10px;\"></div><p style=\"color: purple; margin: 10px 0 0;\">&#x1F49C; 143 <span style=\"margin-left: 5px; margin-top: 10px;\">&#x1F4AC; 18</span></p></div></div>"
      ],
      "text/plain": [
       "<IPython.core.display.HTML object>"
      ]
     },
     "metadata": {},
     "output_type": "display_data"
    },
    {
     "data": {
      "text/html": [
       "\n",
       "    <div style=\"border: 1px solid #ccc; max-width: 600px; padding: 25px; margin-bottom: 25px;\">\n",
       "        <div style=\"max-width: 550px; margin: 0 auto;\">\n",
       "            <p><strong><a href=\"https://searchcaster.xyz/search?merkleRoot=0x2642b14ecc26e358f09220f6611edfc6204257c0\" target=\"_blank\">merkleRoot</a></strong></p>\n",
       "            <p><strong>@dwr · fid 3</strong></p>\n",
       "            <div style=\"word-wrap: break-word; margin: 10px 0;\">Fundamental issue with current blue checks: given, not earned.<br><br>(Yes there are some loose guidelines, but there are plenty of legacy \"I knew someone at Twitter\" people that make it inconsistent.)<br><br>Either make it deterministic (for everyone that qualifies) or keep it extremely scarce. Middle ground is the problem.</div>\n",
       "    <p style=\"color: purple; margin: 10px 0 0;\">&#x1F49C; 98 <span style=\"margin-left: 5px; margin-top: 10px;\">&#x1F4AC; 17</span></p></div></div>"
      ],
      "text/plain": [
       "<IPython.core.display.HTML object>"
      ]
     },
     "metadata": {},
     "output_type": "display_data"
    },
    {
     "data": {
      "text/html": [
       "\n",
       "    <div style=\"border: 1px solid #ccc; max-width: 600px; padding: 25px; margin-bottom: 25px;\">\n",
       "        <div style=\"max-width: 550px; margin: 0 auto;\">\n",
       "            <p><strong><a href=\"https://searchcaster.xyz/search?merkleRoot=0xd6f76f9c2603150473df2e86db15b70bb64000c6\" target=\"_blank\">merkleRoot</a></strong></p>\n",
       "            <p><strong>@dwr · fid 3</strong></p>\n",
       "            <div style=\"word-wrap: break-word; margin: 10px 0;\">Casts grew 80% in October month over month. </div>\n",
       "    <div style=\"text-align: center;\"><img src=\"https://i.imgur.com/frvmNty.png\" style=\"max-width: 550px; margin-top: 10px;\"></div><p style=\"color: purple; margin: 10px 0 0;\">&#x1F49C; 97 <span style=\"margin-left: 5px; margin-top: 10px;\">&#x1F4AC; 10</span></p></div></div>"
      ],
      "text/plain": [
       "<IPython.core.display.HTML object>"
      ]
     },
     "metadata": {},
     "output_type": "display_data"
    },
    {
     "data": {
      "text/html": [
       "\n",
       "    <div style=\"border: 1px solid #ccc; max-width: 600px; padding: 25px; margin-bottom: 25px;\">\n",
       "        <div style=\"max-width: 550px; margin: 0 auto;\">\n",
       "            <p><strong><a href=\"https://searchcaster.xyz/search?merkleRoot=0x487f13d2047a4e5fb51e5441d47266bb2892de44\" target=\"_blank\">merkleRoot</a></strong></p>\n",
       "            <p><strong>@pugson · fid 557</strong></p>\n",
       "            <div style=\"word-wrap: break-word; margin: 10px 0;\">gonna write some code tonight or i owe everyone who likes this cast 10 USDC</div>\n",
       "    <p style=\"color: purple; margin: 10px 0 0;\">&#x1F49C; 94 <span style=\"margin-left: 5px; margin-top: 10px;\">&#x1F4AC; 10</span></p></div></div>"
      ],
      "text/plain": [
       "<IPython.core.display.HTML object>"
      ]
     },
     "metadata": {},
     "output_type": "display_data"
    },
    {
     "data": {
      "text/html": [
       "\n",
       "    <div style=\"border: 1px solid #ccc; max-width: 600px; padding: 25px; margin-bottom: 25px;\">\n",
       "        <div style=\"max-width: 550px; margin: 0 auto;\">\n",
       "            <p><strong><a href=\"https://searchcaster.xyz/search?merkleRoot=0x7874d45e6a0778f19e9a68fdb704c5f371f5903a\" target=\"_blank\">merkleRoot</a></strong></p>\n",
       "            <p><strong>@dwr · fid 3</strong></p>\n",
       "            <div style=\"word-wrap: break-word; margin: 10px 0;\">Farcaster microapp: startup product invitation marketplace? Be able to post available invitations or ask for invite. Maybe not directly financialized. Karma?</div>\n",
       "    <p style=\"color: purple; margin: 10px 0 0;\">&#x1F49C; 92 <span style=\"margin-left: 5px; margin-top: 10px;\">&#x1F4AC; 22</span></p></div></div>"
      ],
      "text/plain": [
       "<IPython.core.display.HTML object>"
      ]
     },
     "metadata": {},
     "output_type": "display_data"
    },
    {
     "data": {
      "text/html": [
       "\n",
       "    <div style=\"border: 1px solid #ccc; max-width: 600px; padding: 25px; margin-bottom: 25px;\">\n",
       "        <div style=\"max-width: 550px; margin: 0 auto;\">\n",
       "            <p><strong><a href=\"https://searchcaster.xyz/search?merkleRoot=0xb1f24b0a6c86f8dd0735e491cd9d233e6e289930\" target=\"_blank\">merkleRoot</a></strong></p>\n",
       "            <p><strong>@dwr · fid 3</strong></p>\n",
       "            <div style=\"word-wrap: break-word; margin: 10px 0;\">Always tough when people lose jobs, but one of the better public communications of layoff.<br><br><a href=\"https://stripe.com/newsroom/news/ceo-patrick-collisons-email-to-stripe-employees\" target=\"_blank\">https://stripe.com/newsroom/news/ceo-patrick-collisons-email-to-stripe-employees</a></div>\n",
       "    <p style=\"color: purple; margin: 10px 0 0;\">&#x1F49C; 88 <span style=\"margin-left: 5px; margin-top: 10px;\">&#x1F4AC; 13</span></p></div></div>"
      ],
      "text/plain": [
       "<IPython.core.display.HTML object>"
      ]
     },
     "metadata": {},
     "output_type": "display_data"
    },
    {
     "data": {
      "text/html": [
       "\n",
       "    <div style=\"border: 1px solid #ccc; max-width: 600px; padding: 25px; margin-bottom: 25px;\">\n",
       "        <div style=\"max-width: 550px; margin: 0 auto;\">\n",
       "            <p><strong><a href=\"https://searchcaster.xyz/search?merkleRoot=0x7ae81812af6801ed33cb9476336789dccb7ed0cf\" target=\"_blank\">merkleRoot</a></strong></p>\n",
       "            <p><strong>@dwr · fid 3</strong></p>\n",
       "            <div style=\"word-wrap: break-word; margin: 10px 0;\">Another product question: would you turn on notifications for a specific user if they casted?<br><br>i.e. suppose you find @v interesting, so you would opt-in to getting a push notification for any new top-level cast?<br><br>If every cast is too noisy, what about a daily push notif with a summary of your top 5 people?</div>\n",
       "    <p style=\"color: purple; margin: 10px 0 0;\">&#x1F49C; 87 <span style=\"margin-left: 5px; margin-top: 10px;\">&#x1F4AC; 62</span></p></div></div>"
      ],
      "text/plain": [
       "<IPython.core.display.HTML object>"
      ]
     },
     "metadata": {},
     "output_type": "display_data"
    },
    {
     "data": {
      "text/html": [
       "\n",
       "    <div style=\"border: 1px solid #ccc; max-width: 600px; padding: 25px; margin-bottom: 25px;\">\n",
       "        <div style=\"max-width: 550px; margin: 0 auto;\">\n",
       "            <p><strong><a href=\"https://searchcaster.xyz/search?merkleRoot=0x7b11f0d55748a11080b33c378d36f2abf1a966b3\" target=\"_blank\">merkleRoot</a></strong></p>\n",
       "            <p><strong>@3lau · fid 81</strong></p>\n",
       "            <div style=\"word-wrap: break-word; margin: 10px 0;\">Cooking up something crypto native with this guy 🎉 </div>\n",
       "    <div style=\"text-align: center;\"><img src=\"https://i.imgur.com/9ap0nK4.jpg\" style=\"max-width: 550px; margin-top: 10px;\"></div><p style=\"color: purple; margin: 10px 0 0;\">&#x1F49C; 85 <span style=\"margin-left: 5px; margin-top: 10px;\">&#x1F4AC; 12</span></p></div></div>"
      ],
      "text/plain": [
       "<IPython.core.display.HTML object>"
      ]
     },
     "metadata": {},
     "output_type": "display_data"
    },
    {
     "data": {
      "text/html": [
       "\n",
       "    <div style=\"border: 1px solid #ccc; max-width: 600px; padding: 25px; margin-bottom: 25px;\">\n",
       "        <div style=\"max-width: 550px; margin: 0 auto;\">\n",
       "            <p><strong><a href=\"https://searchcaster.xyz/search?merkleRoot=0x1507f27149400e95c0d2a0c0083f78e6dcd7ad9d\" target=\"_blank\">merkleRoot</a></strong></p>\n",
       "            <p><strong>@pushix · fid 359</strong></p>\n",
       "            <div style=\"word-wrap: break-word; margin: 10px 0;\">Had to wait 7 hours but we got a farcaster shoutout! <br><br>Congrats 🎉 </div>\n",
       "    <div style=\"text-align: center;\"><img src=\"https://i.imgur.com/UwuJZPV.jpg\" style=\"max-width: 550px; margin-top: 10px;\"></div><p style=\"color: purple; margin: 10px 0 0;\">&#x1F49C; 85 <span style=\"margin-left: 5px; margin-top: 10px;\">&#x1F4AC; 10</span></p></div></div>"
      ],
      "text/plain": [
       "<IPython.core.display.HTML object>"
      ]
     },
     "metadata": {},
     "output_type": "display_data"
    },
    {
     "data": {
      "text/html": [
       "\n",
       "    <div style=\"border: 1px solid #ccc; max-width: 600px; padding: 25px; margin-bottom: 25px;\">\n",
       "        <div style=\"max-width: 550px; margin: 0 auto;\">\n",
       "            <p><strong><a href=\"https://searchcaster.xyz/search?merkleRoot=0x3981efaae51dd13f3af4516fd1d9ac9d078e8f51\" target=\"_blank\">merkleRoot</a></strong></p>\n",
       "            <p><strong>@dwr · fid 3</strong></p>\n",
       "            <div style=\"word-wrap: break-word; margin: 10px 0;\">Interesting stat:<br><br>- Twitter avg. mobile app time per day: 6 min<br>- Farcaster avg. mobile app time per day: 15 min<br><br>(Of course audience size / composition matters!)<br><br>Counter-intuitive: would be good for us to decrease time spent (since we're not ad-based), assuming we're able to increase signal-to-noise ratio.</div>\n",
       "    <p style=\"color: purple; margin: 10px 0 0;\">&#x1F49C; 79 <span style=\"margin-left: 5px; margin-top: 10px;\">&#x1F4AC; 19</span></p></div></div>"
      ],
      "text/plain": [
       "<IPython.core.display.HTML object>"
      ]
     },
     "metadata": {},
     "output_type": "display_data"
    },
    {
     "data": {
      "text/html": [
       "\n",
       "    <div style=\"border: 1px solid #ccc; max-width: 600px; padding: 25px; margin-bottom: 25px;\">\n",
       "        <div style=\"max-width: 550px; margin: 0 auto;\">\n",
       "            <p><strong><a href=\"https://searchcaster.xyz/search?merkleRoot=0x1490e9b51405fcaf9d2258c184fc9f1385f448ed\" target=\"_blank\">merkleRoot</a></strong></p>\n",
       "            <p><strong>@jessepollak · fid 99</strong></p>\n",
       "            <div style=\"word-wrap: break-word; margin: 10px 0;\">I love working remotely but did an onsite this week with our small team and woweeee in person is great</div>\n",
       "    <p style=\"color: purple; margin: 10px 0 0;\">&#x1F49C; 70 <span style=\"margin-left: 5px; margin-top: 10px;\">&#x1F4AC; 15</span></p></div></div>"
      ],
      "text/plain": [
       "<IPython.core.display.HTML object>"
      ]
     },
     "metadata": {},
     "output_type": "display_data"
    },
    {
     "data": {
      "text/html": [
       "\n",
       "    <div style=\"border: 1px solid #ccc; max-width: 600px; padding: 25px; margin-bottom: 25px;\">\n",
       "        <div style=\"max-width: 550px; margin: 0 auto;\">\n",
       "            <p><strong><a href=\"https://searchcaster.xyz/search?merkleRoot=0xec75be4d29182c75946b1f6e9c8594177bbc175a\" target=\"_blank\">merkleRoot</a></strong></p>\n",
       "            <p><strong>@greg · fid 347</strong></p>\n",
       "            <div style=\"word-wrap: break-word; margin: 10px 0;\">Training through Switzerland, listening to German music that I don’t understand, working on searchcaster redesign 😌 </div>\n",
       "    <div style=\"text-align: center;\"><img src=\"https://i.imgur.com/dVAcZlg.jpg\" style=\"max-width: 550px; margin-top: 10px;\"></div><p style=\"color: purple; margin: 10px 0 0;\">&#x1F49C; 68 <span style=\"margin-left: 5px; margin-top: 10px;\">&#x1F4AC; 9</span></p></div></div>"
      ],
      "text/plain": [
       "<IPython.core.display.HTML object>"
      ]
     },
     "metadata": {},
     "output_type": "display_data"
    },
    {
     "data": {
      "text/html": [
       "\n",
       "    <div style=\"border: 1px solid #ccc; max-width: 600px; padding: 25px; margin-bottom: 25px;\">\n",
       "        <div style=\"max-width: 550px; margin: 0 auto;\">\n",
       "            <p><strong><a href=\"https://searchcaster.xyz/search?merkleRoot=0xa26c5917707a0187b2d93a73f3121db58c9549a3\" target=\"_blank\">merkleRoot</a></strong></p>\n",
       "            <p><strong>@linda · fid 12</strong></p>\n",
       "            <div style=\"word-wrap: break-word; margin: 10px 0;\">Boeing created a fake neighborhood during WWII to hide its B-17 bomber manufacturing plant from potential airstrikes. The funny thing was that the neighborhood only had to look real from above so it was clearly fake when you walked around (buildings were 4 ft tall, lawns were burlap) </div>\n",
       "    <div style=\"text-align: center;\"><img src=\"https://i.imgur.com/qlNLtLm.jpg\" style=\"max-width: 550px; margin-top: 10px;\"></div><p style=\"color: purple; margin: 10px 0 0;\">&#x1F49C; 68 <span style=\"margin-left: 5px; margin-top: 10px;\">&#x1F4AC; 7</span></p></div></div>"
      ],
      "text/plain": [
       "<IPython.core.display.HTML object>"
      ]
     },
     "metadata": {},
     "output_type": "display_data"
    },
    {
     "data": {
      "text/html": [
       "\n",
       "    <div style=\"border: 1px solid #ccc; max-width: 600px; padding: 25px; margin-bottom: 25px;\">\n",
       "        <div style=\"max-width: 550px; margin: 0 auto;\">\n",
       "            <p><strong><a href=\"https://searchcaster.xyz/search?merkleRoot=0xf7863656a92eee3c014a456404c24a8520bf9493\" target=\"_blank\">merkleRoot</a></strong></p>\n",
       "            <p><strong>@greg · fid 347</strong></p>\n",
       "            <div style=\"word-wrap: break-word; margin: 10px 0;\">Quietly pushed ethback.xyz this week. It's the easiest way for DAOs to reimburse their contributors for gas fees on governance transactions.<br><br>DAOs benefit from more people participating but L1 fees are a deterrent. Build norms around covering fees → participation increases across the board → more decentralized DAOs</div>\n",
       "    <p style=\"color: purple; margin: 10px 0 0;\">&#x1F49C; 67 <span style=\"margin-left: 5px; margin-top: 10px;\">&#x1F4AC; 12</span></p></div></div>"
      ],
      "text/plain": [
       "<IPython.core.display.HTML object>"
      ]
     },
     "metadata": {},
     "output_type": "display_data"
    },
    {
     "data": {
      "text/html": [
       "\n",
       "    <div style=\"border: 1px solid #ccc; max-width: 600px; padding: 25px; margin-bottom: 25px;\">\n",
       "        <div style=\"max-width: 550px; margin: 0 auto;\">\n",
       "            <p><strong><a href=\"https://searchcaster.xyz/search?merkleRoot=0xa0f082653aa38cd498b7e5fef0eabff2d9b1c592\" target=\"_blank\">merkleRoot</a></strong></p>\n",
       "            <p><strong>@dwr · fid 3</strong></p>\n",
       "            <div style=\"word-wrap: break-word; margin: 10px 0;\">Thursday AMA — What’s on your mind?</div>\n",
       "    <p style=\"color: purple; margin: 10px 0 0;\">&#x1F49C; 64 <span style=\"margin-left: 5px; margin-top: 10px;\">&#x1F4AC; 69</span></p></div></div>"
      ],
      "text/plain": [
       "<IPython.core.display.HTML object>"
      ]
     },
     "metadata": {},
     "output_type": "display_data"
    },
    {
     "data": {
      "text/html": [
       "\n",
       "    <div style=\"border: 1px solid #ccc; max-width: 600px; padding: 25px; margin-bottom: 25px;\">\n",
       "        <div style=\"max-width: 550px; margin: 0 auto;\">\n",
       "            <p><strong><a href=\"https://searchcaster.xyz/search?merkleRoot=0x7fd7c5f2e4340afed4011f3cf6589619ccbecea6\" target=\"_blank\">merkleRoot</a></strong></p>\n",
       "            <p><strong>@cassie · fid 1325</strong></p>\n",
       "            <div style=\"word-wrap: break-word; margin: 10px 0;\">Finally got a moment to try out the Quest Pro. I’m sold. Zuck knows exactly what he’s doing.</div>\n",
       "    <p style=\"color: purple; margin: 10px 0 0;\">&#x1F49C; 61 <span style=\"margin-left: 5px; margin-top: 10px;\">&#x1F4AC; 14</span></p></div></div>"
      ],
      "text/plain": [
       "<IPython.core.display.HTML object>"
      ]
     },
     "metadata": {},
     "output_type": "display_data"
    },
    {
     "data": {
      "text/html": [
       "\n",
       "    <div style=\"border: 1px solid #ccc; max-width: 600px; padding: 25px; margin-bottom: 25px;\">\n",
       "        <div style=\"max-width: 550px; margin: 0 auto;\">\n",
       "            <p><strong><a href=\"https://searchcaster.xyz/search?merkleRoot=0x39580db2520cef0c8561cdd9f1bdda2c567b1e0f\" target=\"_blank\">merkleRoot</a></strong></p>\n",
       "            <p><strong>@vgr · fid 4606</strong></p>\n",
       "            <div style=\"word-wrap: break-word; margin: 10px 0;\">Hello farcaster!</div>\n",
       "    <p style=\"color: purple; margin: 10px 0 0;\">&#x1F49C; 61 <span style=\"margin-left: 5px; margin-top: 10px;\">&#x1F4AC; 22</span></p></div></div>"
      ],
      "text/plain": [
       "<IPython.core.display.HTML object>"
      ]
     },
     "metadata": {},
     "output_type": "display_data"
    },
    {
     "data": {
      "text/html": [
       "\n",
       "    <div style=\"border: 1px solid #ccc; max-width: 600px; padding: 25px; margin-bottom: 25px;\">\n",
       "        <div style=\"max-width: 550px; margin: 0 auto;\">\n",
       "            <p><strong><a href=\"https://searchcaster.xyz/search?merkleRoot=0x6cc490ee23393a51188c51641cd2ff11aeab1ccb\" target=\"_blank\">merkleRoot</a></strong></p>\n",
       "            <p><strong>@dwr · fid 3</strong></p>\n",
       "            <div style=\"word-wrap: break-word; margin: 10px 0;\">Thoughts on subscriptions </div>\n",
       "    <div style=\"text-align: center;\"><img src=\"https://i.imgur.com/8OAFdO5.png\" style=\"max-width: 550px; margin-top: 10px;\"></div><p style=\"color: purple; margin: 10px 0 0;\">&#x1F49C; 61 <span style=\"margin-left: 5px; margin-top: 10px;\">&#x1F4AC; 9</span></p></div></div>"
      ],
      "text/plain": [
       "<IPython.core.display.HTML object>"
      ]
     },
     "metadata": {},
     "output_type": "display_data"
    },
    {
     "data": {
      "text/html": [
       "\n",
       "    <div style=\"border: 1px solid #ccc; max-width: 600px; padding: 25px; margin-bottom: 25px;\">\n",
       "        <div style=\"max-width: 550px; margin: 0 auto;\">\n",
       "            <p><strong><a href=\"https://searchcaster.xyz/search?merkleRoot=0x6f24ad5d83304f72644b914307b625835e44073a\" target=\"_blank\">merkleRoot</a></strong></p>\n",
       "            <p><strong>@cassie · fid 1325</strong></p>\n",
       "            <div style=\"word-wrap: break-word; margin: 10px 0;\">I’ve gone a couple days without a spicy take </div>\n",
       "    <div style=\"text-align: center;\"><img src=\"https://i.imgur.com/UZWzqyM.jpg\" style=\"max-width: 550px; margin-top: 10px;\"></div><p style=\"color: purple; margin: 10px 0 0;\">&#x1F49C; 60 <span style=\"margin-left: 5px; margin-top: 10px;\">&#x1F4AC; 13</span></p></div></div>"
      ],
      "text/plain": [
       "<IPython.core.display.HTML object>"
      ]
     },
     "metadata": {},
     "output_type": "display_data"
    },
    {
     "data": {
      "text/html": [
       "\n",
       "    <div style=\"border: 1px solid #ccc; max-width: 600px; padding: 25px; margin-bottom: 25px;\">\n",
       "        <div style=\"max-width: 550px; margin: 0 auto;\">\n",
       "            <p><strong><a href=\"https://searchcaster.xyz/search?merkleRoot=0xa2c0e0ed0073b80f87a65edde779399c278a0627\" target=\"_blank\">merkleRoot</a></strong></p>\n",
       "            <p><strong>@jpetrich · fid 1401</strong></p>\n",
       "            <div style=\"word-wrap: break-word; margin: 10px 0;\">Today, we announced that @courtyard has raised $7M led by NEA with participation from Y Combinator, OpenSea, Gary Vee, Brinks, Cherry Ventures, and a select group of angels.<br><br>We’re excited to shape the future of collecting and trading. Join the waitlist for our Ship Your Collectibles beta at <a href=\"https://courtyard.io\" target=\"_blank\">https://courtyard.io</a></div>\n",
       "    <p style=\"color: purple; margin: 10px 0 0;\">&#x1F49C; 60 <span style=\"margin-left: 5px; margin-top: 10px;\">&#x1F4AC; 18</span></p></div></div>"
      ],
      "text/plain": [
       "<IPython.core.display.HTML object>"
      ]
     },
     "metadata": {},
     "output_type": "display_data"
    },
    {
     "data": {
      "text/html": [
       "\n",
       "    <div style=\"border: 1px solid #ccc; max-width: 600px; padding: 25px; margin-bottom: 25px;\">\n",
       "        <div style=\"max-width: 550px; margin: 0 auto;\">\n",
       "            <p><strong><a href=\"https://searchcaster.xyz/search?merkleRoot=0x9b62aed18e3dd1aab062ac631b93c34a8712f406\" target=\"_blank\">merkleRoot</a></strong></p>\n",
       "            <p><strong>@dwr · fid 3</strong></p>\n",
       "            <div style=\"word-wrap: break-word; margin: 10px 0;\">Excited for the day when someone builds Casterminal—think Tweetdeck but more Bloomberg vibes—and I can just sit in awe of all of the Hub data refreshing on my screen in real-time.<br><br> </div>\n",
       "    <div style=\"text-align: center;\"><img src=\"https://i.imgur.com/R21uoOY.jpg\" style=\"max-width: 550px; margin-top: 10px;\"></div><p style=\"color: purple; margin: 10px 0 0;\">&#x1F49C; 60 <span style=\"margin-left: 5px; margin-top: 10px;\">&#x1F4AC; 5</span></p></div></div>"
      ],
      "text/plain": [
       "<IPython.core.display.HTML object>"
      ]
     },
     "metadata": {},
     "output_type": "display_data"
    },
    {
     "data": {
      "text/html": [
       "\n",
       "    <div style=\"border: 1px solid #ccc; max-width: 600px; padding: 25px; margin-bottom: 25px;\">\n",
       "        <div style=\"max-width: 550px; margin: 0 auto;\">\n",
       "            <p><strong><a href=\"https://searchcaster.xyz/search?merkleRoot=0x363c11bc0bc063520a0a58aaf2ea2a750e38d994\" target=\"_blank\">merkleRoot</a></strong></p>\n",
       "            <p><strong>@dwr · fid 3</strong></p>\n",
       "            <div style=\"word-wrap: break-word; margin: 10px 0;\">Crypto Coven, Lil Nouns and Chain Runners are the most popular owned pfp projects on Farcaster.<br><br>But highest percentage of owners for a major projects is Nouns. 15% of the 293 owners have a Noun in a connected address. </div>\n",
       "    <div style=\"text-align: center;\"><img src=\"https://i.imgur.com/5B826hh.png\" style=\"max-width: 550px; margin-top: 10px;\"></div><p style=\"color: purple; margin: 10px 0 0;\">&#x1F49C; 60 <span style=\"margin-left: 5px; margin-top: 10px;\">&#x1F4AC; 12</span></p></div></div>"
      ],
      "text/plain": [
       "<IPython.core.display.HTML object>"
      ]
     },
     "metadata": {},
     "output_type": "display_data"
    },
    {
     "data": {
      "text/html": [
       "\n",
       "    <div style=\"border: 1px solid #ccc; max-width: 600px; padding: 25px; margin-bottom: 25px;\">\n",
       "        <div style=\"max-width: 550px; margin: 0 auto;\">\n",
       "            <p><strong><a href=\"https://searchcaster.xyz/search?merkleRoot=0x7bcbff063f512584df51a175d40feb8b735b2010\" target=\"_blank\">merkleRoot</a></strong></p>\n",
       "            <p><strong>@dwr · fid 3</strong></p>\n",
       "            <div style=\"word-wrap: break-word; margin: 10px 0;\">If you could prioritize our next in-feed UX improvement:<br><br>1. Long form text (make screenshot essays better, e.g. actual text)<br>2. Animated GIFs<br>3. Video (hosted somewhere else)<br>4. Audio (hosted somewhere else)<br>5. UI for a \"live\" broadcast somewhere else<br>6. NFTs (OpenSea links, full image rendering)<br>7. Other (specify)</div>\n",
       "    <p style=\"color: purple; margin: 10px 0 0;\">&#x1F49C; 59 <span style=\"margin-left: 5px; margin-top: 10px;\">&#x1F4AC; 119</span></p></div></div>"
      ],
      "text/plain": [
       "<IPython.core.display.HTML object>"
      ]
     },
     "metadata": {},
     "output_type": "display_data"
    },
    {
     "data": {
      "text/html": [
       "\n",
       "    <div style=\"border: 1px solid #ccc; max-width: 600px; padding: 25px; margin-bottom: 25px;\">\n",
       "        <div style=\"max-width: 550px; margin: 0 auto;\">\n",
       "            <p><strong><a href=\"https://searchcaster.xyz/search?merkleRoot=0x47e9d9a5ec499568c72ddcee91b84266703c1056\" target=\"_blank\">merkleRoot</a></strong></p>\n",
       "            <p><strong>@ccarella · fid 472</strong></p>\n",
       "            <div style=\"word-wrap: break-word; margin: 10px 0;\">I have acquired Purple #6. </div>\n",
       "    <div style=\"text-align: center;\"><img src=\"https://i.imgur.com/XXjbiWj.jpg\" style=\"max-width: 550px; margin-top: 10px;\"></div><p style=\"color: purple; margin: 10px 0 0;\">&#x1F49C; 59 <span style=\"margin-left: 5px; margin-top: 10px;\">&#x1F4AC; 8</span></p></div></div>"
      ],
      "text/plain": [
       "<IPython.core.display.HTML object>"
      ]
     },
     "metadata": {},
     "output_type": "display_data"
    },
    {
     "data": {
      "text/html": [
       "\n",
       "    <div style=\"border: 1px solid #ccc; max-width: 600px; padding: 25px; margin-bottom: 25px;\">\n",
       "        <div style=\"max-width: 550px; margin: 0 auto;\">\n",
       "            <p><strong><a href=\"https://searchcaster.xyz/search?merkleRoot=0x24875e0bcae72a697a7d104689b42b839299432e\" target=\"_blank\">merkleRoot</a></strong></p>\n",
       "            <p><strong>@dwr · fid 3</strong></p>\n",
       "            <div style=\"word-wrap: break-word; margin: 10px 0;\">Loosely held view: people will say open-ended questions on FC are \"engagement farming\", but, assuming you are able to surface the higher quality questions/discussions (a big if!), then actually a great way to create more civil discourse in a town square like social network?</div>\n",
       "    <p style=\"color: purple; margin: 10px 0 0;\">&#x1F49C; 57 <span style=\"margin-left: 5px; margin-top: 10px;\">&#x1F4AC; 13</span></p></div></div>"
      ],
      "text/plain": [
       "<IPython.core.display.HTML object>"
      ]
     },
     "metadata": {},
     "output_type": "display_data"
    },
    {
     "data": {
      "text/html": [
       "\n",
       "    <div style=\"border: 1px solid #ccc; max-width: 600px; padding: 25px; margin-bottom: 25px;\">\n",
       "        <div style=\"max-width: 550px; margin: 0 auto;\">\n",
       "            <p><strong><a href=\"https://searchcaster.xyz/search?merkleRoot=0x453220d2fc67d14b89022358577e25d6fd0aaa3e\" target=\"_blank\">merkleRoot</a></strong></p>\n",
       "            <p><strong>@dwr · fid 3</strong></p>\n",
       "            <div style=\"word-wrap: break-word; margin: 10px 0;\">Finally migrated farcaster.eth to a new home. 🟪</div>\n",
       "    <p style=\"color: purple; margin: 10px 0 0;\">&#x1F49C; 56 <span style=\"margin-left: 5px; margin-top: 10px;\">&#x1F4AC; 4</span></p></div></div>"
      ],
      "text/plain": [
       "<IPython.core.display.HTML object>"
      ]
     },
     "metadata": {},
     "output_type": "display_data"
    },
    {
     "data": {
      "text/html": [
       "\n",
       "    <div style=\"border: 1px solid #ccc; max-width: 600px; padding: 25px; margin-bottom: 25px;\">\n",
       "        <div style=\"max-width: 550px; margin: 0 auto;\">\n",
       "            <p><strong><a href=\"https://searchcaster.xyz/search?merkleRoot=0x4cd8c9f3b141809dfa875d20e45ea61023e906fd\" target=\"_blank\">merkleRoot</a></strong></p>\n",
       "            <p><strong>@cameron · fid 617</strong></p>\n",
       "            <div style=\"word-wrap: break-word; margin: 10px 0;\">Quick FC hypothesis test:<br><br>Have you taken a Myers-Briggs style assessment?<br><br>Have you taken multiple different kinds?<br><br><br><br>(I’m yes to both)</div>\n",
       "    <p style=\"color: purple; margin: 10px 0 0;\">&#x1F49C; 54 <span style=\"margin-left: 5px; margin-top: 10px;\">&#x1F4AC; 80</span></p></div></div>"
      ],
      "text/plain": [
       "<IPython.core.display.HTML object>"
      ]
     },
     "metadata": {},
     "output_type": "display_data"
    },
    {
     "data": {
      "text/html": [
       "\n",
       "    <div style=\"border: 1px solid #ccc; max-width: 600px; padding: 25px; margin-bottom: 25px;\">\n",
       "        <div style=\"max-width: 550px; margin: 0 auto;\">\n",
       "            <p><strong><a href=\"https://searchcaster.xyz/search?merkleRoot=0xecbe3f145933229b661e1ddea83fbc0d113f5c12\" target=\"_blank\">merkleRoot</a></strong></p>\n",
       "            <p><strong>@dwr · fid 3</strong></p>\n",
       "            <div style=\"word-wrap: break-word; margin: 10px 0;\">Good essay from the Substack co-founder<br><br><a href=\"https://on.substack.com/p/the-problem-isnt-that-elon-musk-owns\" target=\"_blank\">https://on.substack.com/p/the-problem-isnt-that-elon-musk-owns</a></div>\n",
       "    <p style=\"color: purple; margin: 10px 0 0;\">&#x1F49C; 54 <span style=\"margin-left: 5px; margin-top: 10px;\">&#x1F4AC; 7</span></p></div></div>"
      ],
      "text/plain": [
       "<IPython.core.display.HTML object>"
      ]
     },
     "metadata": {},
     "output_type": "display_data"
    },
    {
     "data": {
      "text/html": [
       "\n",
       "    <div style=\"border: 1px solid #ccc; max-width: 600px; padding: 25px; margin-bottom: 25px;\">\n",
       "        <div style=\"max-width: 550px; margin: 0 auto;\">\n",
       "            <p><strong><a href=\"https://searchcaster.xyz/search?merkleRoot=0x68a0e2d0d6738f66484bd2085a5661eb12313e9b\" target=\"_blank\">merkleRoot</a></strong></p>\n",
       "            <p><strong>@colin · fid 378</strong></p>\n",
       "            <div style=\"word-wrap: break-word; margin: 10px 0;\">Excited to announce new ways of discovering content on Paragraph!<br><br>- Trending posts, on both Paragraph and Farcaster<br>- Personalized discovery: view posts created by your FC followers<br>- Subscribe to newsletters created by your FC followers directly<br><br>Read more here 👉 <a href=\"https://paragraph.xyz/@blog/discovery\" target=\"_blank\">https://paragraph.xyz/@blog/discovery</a></div>\n",
       "    <p style=\"color: purple; margin: 10px 0 0;\">&#x1F49C; 54 <span style=\"margin-left: 5px; margin-top: 10px;\">&#x1F4AC; 9</span></p></div></div>"
      ],
      "text/plain": [
       "<IPython.core.display.HTML object>"
      ]
     },
     "metadata": {},
     "output_type": "display_data"
    },
    {
     "data": {
      "text/html": [
       "\n",
       "    <div style=\"border: 1px solid #ccc; max-width: 600px; padding: 25px; margin-bottom: 25px;\">\n",
       "        <div style=\"max-width: 550px; margin: 0 auto;\">\n",
       "            <p><strong><a href=\"https://searchcaster.xyz/search?merkleRoot=0x7968d94282634badd663d824b2765f8e6f4d8ef7\" target=\"_blank\">merkleRoot</a></strong></p>\n",
       "            <p><strong>@n · fid 274</strong></p>\n",
       "            <div style=\"word-wrap: break-word; margin: 10px 0;\">my most prized NFT is my Farcaster username</div>\n",
       "    <p style=\"color: purple; margin: 10px 0 0;\">&#x1F49C; 53 <span style=\"margin-left: 5px; margin-top: 10px;\">&#x1F4AC; 7</span></p></div></div>"
      ],
      "text/plain": [
       "<IPython.core.display.HTML object>"
      ]
     },
     "metadata": {},
     "output_type": "display_data"
    },
    {
     "data": {
      "text/html": [
       "\n",
       "    <div style=\"border: 1px solid #ccc; max-width: 600px; padding: 25px; margin-bottom: 25px;\">\n",
       "        <div style=\"max-width: 550px; margin: 0 auto;\">\n",
       "            <p><strong><a href=\"https://searchcaster.xyz/search?merkleRoot=0xa68abf2e83e341207bc6ab62d5332fb2229cfb63\" target=\"_blank\">merkleRoot</a></strong></p>\n",
       "            <p><strong>@emodi · fid 604</strong></p>\n",
       "            <div style=\"word-wrap: break-word; margin: 10px 0;\">Lex’s rationale for wearing a suit and tie is it makes him feel more focused and serious — doing his life’s most important work<br><br>Willing to bet this is a trend we see after years of drift towards streetwear  and athleisure</div>\n",
       "    <p style=\"color: purple; margin: 10px 0 0;\">&#x1F49C; 52 <span style=\"margin-left: 5px; margin-top: 10px;\">&#x1F4AC; 18</span></p></div></div>"
      ],
      "text/plain": [
       "<IPython.core.display.HTML object>"
      ]
     },
     "metadata": {},
     "output_type": "display_data"
    },
    {
     "data": {
      "text/html": [
       "\n",
       "    <div style=\"border: 1px solid #ccc; max-width: 600px; padding: 25px; margin-bottom: 25px;\">\n",
       "        <div style=\"max-width: 550px; margin: 0 auto;\">\n",
       "            <p><strong><a href=\"https://searchcaster.xyz/search?merkleRoot=0xbaa808fcc7663b5ea75b00cba0e6cbea6dff6912\" target=\"_blank\">merkleRoot</a></strong></p>\n",
       "            <p><strong>@dwr · fid 3</strong></p>\n",
       "            <div style=\"word-wrap: break-word; margin: 10px 0;\">gm welcome to all of the Farcaster recent arrivals!<br><br>If you're curious to learn a bit more about what's going on: <br><br><a href=\"https://farcasterxyz.notion.site/Farcaster-screenshot-essays-dae3d2a2a1484d1f89691399dd47c0fc\" target=\"_blank\">https://farcasterxyz.notion.site/Farcaster-screenshot-essays-dae3d2a2a1484d1f89691399dd47c0fc</a> </div>\n",
       "    <div style=\"text-align: center;\"><img src=\"https://i.imgur.com/K5UanR2.png\" style=\"max-width: 550px; margin-top: 10px;\"></div><p style=\"color: purple; margin: 10px 0 0;\">&#x1F49C; 52 <span style=\"margin-left: 5px; margin-top: 10px;\">&#x1F4AC; 1</span></p></div></div>"
      ],
      "text/plain": [
       "<IPython.core.display.HTML object>"
      ]
     },
     "metadata": {},
     "output_type": "display_data"
    },
    {
     "data": {
      "text/html": [
       "\n",
       "    <div style=\"border: 1px solid #ccc; max-width: 600px; padding: 25px; margin-bottom: 25px;\">\n",
       "        <div style=\"max-width: 550px; margin: 0 auto;\">\n",
       "            <p><strong><a href=\"https://searchcaster.xyz/search?merkleRoot=0x01c95c3b962bff7f43aaa8fdf78233bf2e867d43\" target=\"_blank\">merkleRoot</a></strong></p>\n",
       "            <p><strong>@greg · fid 347</strong></p>\n",
       "            <div style=\"word-wrap: break-word; margin: 10px 0;\">gn from 🇮🇹 </div>\n",
       "    <div style=\"text-align: center;\"><img src=\"https://i.imgur.com/YRNG6Gj.jpg\" style=\"max-width: 550px; margin-top: 10px;\"></div><p style=\"color: purple; margin: 10px 0 0;\">&#x1F49C; 51 <span style=\"margin-left: 5px; margin-top: 10px;\">&#x1F4AC; 3</span></p></div></div>"
      ],
      "text/plain": [
       "<IPython.core.display.HTML object>"
      ]
     },
     "metadata": {},
     "output_type": "display_data"
    },
    {
     "data": {
      "text/html": [
       "\n",
       "    <div style=\"border: 1px solid #ccc; max-width: 600px; padding: 25px; margin-bottom: 25px;\">\n",
       "        <div style=\"max-width: 550px; margin: 0 auto;\">\n",
       "            <p><strong><a href=\"https://searchcaster.xyz/search?merkleRoot=0x20556029722dea92596f40859edb0c42db517922\" target=\"_blank\">merkleRoot</a></strong></p>\n",
       "            <p><strong>@dwr · fid 3</strong></p>\n",
       "            <div style=\"word-wrap: break-word; margin: 10px 0;\">SQLfessions: I usually just export multiple tables and use VLOOKUP and Pivot Tables in Excel. 🫠</div>\n",
       "    <p style=\"color: purple; margin: 10px 0 0;\">&#x1F49C; 49 <span style=\"margin-left: 5px; margin-top: 10px;\">&#x1F4AC; 13</span></p></div></div>"
      ],
      "text/plain": [
       "<IPython.core.display.HTML object>"
      ]
     },
     "metadata": {},
     "output_type": "display_data"
    },
    {
     "data": {
      "text/html": [
       "\n",
       "    <div style=\"border: 1px solid #ccc; max-width: 600px; padding: 25px; margin-bottom: 25px;\">\n",
       "        <div style=\"max-width: 550px; margin: 0 auto;\">\n",
       "            <p><strong><a href=\"https://searchcaster.xyz/search?merkleRoot=0x00385762f6f673a128085a76128f7957e6a178c5\" target=\"_blank\">merkleRoot</a></strong></p>\n",
       "            <p><strong>@dwr · fid 3</strong></p>\n",
       "            <div style=\"word-wrap: break-word; margin: 10px 0;\">The growing noise around Twitter post-acquisition is blue checks suddenly acknowledging (ironically) the power of *actually owning* distribution.<br><br>“Build you own Twitter” was only ever lip service.<br><br>Long road ahead, but protocol-based social networks will fix this.</div>\n",
       "    <p style=\"color: purple; margin: 10px 0 0;\">&#x1F49C; 49 <span style=\"margin-left: 5px; margin-top: 10px;\">&#x1F4AC; 1</span></p></div></div>"
      ],
      "text/plain": [
       "<IPython.core.display.HTML object>"
      ]
     },
     "metadata": {},
     "output_type": "display_data"
    },
    {
     "data": {
      "text/html": [
       "\n",
       "    <div style=\"border: 1px solid #ccc; max-width: 600px; padding: 25px; margin-bottom: 25px;\">\n",
       "        <div style=\"max-width: 550px; margin: 0 auto;\">\n",
       "            <p><strong><a href=\"https://searchcaster.xyz/search?merkleRoot=0x97d64b37b0e27d9a3b314158ccd1b389e6a987fc\" target=\"_blank\">merkleRoot</a></strong></p>\n",
       "            <p><strong>@dwr · fid 3</strong></p>\n",
       "            <div style=\"word-wrap: break-word; margin: 10px 0;\">A warm Farcaster welcome to @vgr!</div>\n",
       "    <p style=\"color: purple; margin: 10px 0 0;\">&#x1F49C; 48 <span style=\"margin-left: 5px; margin-top: 10px;\">&#x1F4AC; 3</span></p></div></div>"
      ],
      "text/plain": [
       "<IPython.core.display.HTML object>"
      ]
     },
     "metadata": {},
     "output_type": "display_data"
    },
    {
     "data": {
      "text/html": [
       "\n",
       "    <div style=\"border: 1px solid #ccc; max-width: 600px; padding: 25px; margin-bottom: 25px;\">\n",
       "        <div style=\"max-width: 550px; margin: 0 auto;\">\n",
       "            <p><strong><a href=\"https://searchcaster.xyz/search?merkleRoot=0x8903a4b8dab48551c1c2944b36eacb79ae649bb9\" target=\"_blank\">merkleRoot</a></strong></p>\n",
       "            <p><strong>@jacob · fid 8</strong></p>\n",
       "            <div style=\"word-wrap: break-word; margin: 10px 0;\"></div>\n",
       "    <div style=\"text-align: center;\"><img src=\"https://i.imgur.com/0cKrMtT.jpg\" style=\"max-width: 550px; margin-top: 10px;\"></div><p style=\"color: purple; margin: 10px 0 0;\">&#x1F49C; 48 <span style=\"margin-left: 5px; margin-top: 10px;\">&#x1F4AC; 5</span></p></div></div>"
      ],
      "text/plain": [
       "<IPython.core.display.HTML object>"
      ]
     },
     "metadata": {},
     "output_type": "display_data"
    },
    {
     "data": {
      "text/html": [
       "\n",
       "    <div style=\"border: 1px solid #ccc; max-width: 600px; padding: 25px; margin-bottom: 25px;\">\n",
       "        <div style=\"max-width: 550px; margin: 0 auto;\">\n",
       "            <p><strong><a href=\"https://searchcaster.xyz/search?merkleRoot=0xecf72a0ed0c38a4af8354d2e0a5e552b10d2404f\" target=\"_blank\">merkleRoot</a></strong></p>\n",
       "            <p><strong>@dwr · fid 3</strong></p>\n",
       "            <div style=\"word-wrap: break-word; margin: 10px 0;\">A warm Farcaster welcome to @toby!</div>\n",
       "    <p style=\"color: purple; margin: 10px 0 0;\">&#x1F49C; 47 <span style=\"margin-left: 5px; margin-top: 10px;\">&#x1F4AC; 10</span></p></div></div>"
      ],
      "text/plain": [
       "<IPython.core.display.HTML object>"
      ]
     },
     "metadata": {},
     "output_type": "display_data"
    },
    {
     "data": {
      "text/html": [
       "\n",
       "    <div style=\"border: 1px solid #ccc; max-width: 600px; padding: 25px; margin-bottom: 25px;\">\n",
       "        <div style=\"max-width: 550px; margin: 0 auto;\">\n",
       "            <p><strong><a href=\"https://searchcaster.xyz/search?merkleRoot=0x11b48078b7332975afdb0699afd811e03f95b5b9\" target=\"_blank\">merkleRoot</a></strong></p>\n",
       "            <p><strong>@dwr · fid 3</strong></p>\n",
       "            <div style=\"word-wrap: break-word; margin: 10px 0;\">Favorite Hans Zimmer track?<br><br><a href=\"https://www.youtube.com/watch?v=RxabLA7UQ9k\" target=\"_blank\">https://www.youtube.com/watch?v=RxabLA7UQ9k</a></div>\n",
       "    <p style=\"color: purple; margin: 10px 0 0;\">&#x1F49C; 45 <span style=\"margin-left: 5px; margin-top: 10px;\">&#x1F4AC; 31</span></p></div></div>"
      ],
      "text/plain": [
       "<IPython.core.display.HTML object>"
      ]
     },
     "metadata": {},
     "output_type": "display_data"
    },
    {
     "data": {
      "text/html": [
       "\n",
       "    <div style=\"border: 1px solid #ccc; max-width: 600px; padding: 25px; margin-bottom: 25px;\">\n",
       "        <div style=\"max-width: 550px; margin: 0 auto;\">\n",
       "            <p><strong><a href=\"https://searchcaster.xyz/search?merkleRoot=0xf0ba8fa3f1ea7206859f8e99d9ac6fefe0b2757f\" target=\"_blank\">merkleRoot</a></strong></p>\n",
       "            <p><strong>@mk · fid 143</strong></p>\n",
       "            <div style=\"word-wrap: break-word; margin: 10px 0;\">I love how Elon spends $44B on something and just starts pulling levers.<br><br>He’s living.</div>\n",
       "    <p style=\"color: purple; margin: 10px 0 0;\">&#x1F49C; 44 <span style=\"margin-left: 5px; margin-top: 10px;\">&#x1F4AC; 6</span></p></div></div>"
      ],
      "text/plain": [
       "<IPython.core.display.HTML object>"
      ]
     },
     "metadata": {},
     "output_type": "display_data"
    },
    {
     "data": {
      "text/html": [
       "\n",
       "    <div style=\"border: 1px solid #ccc; max-width: 600px; padding: 25px; margin-bottom: 25px;\">\n",
       "        <div style=\"max-width: 550px; margin: 0 auto;\">\n",
       "            <p><strong><a href=\"https://searchcaster.xyz/search?merkleRoot=0xe589284a3d77951dddd85b0ee1ad2ccc3fa4a15a\" target=\"_blank\">merkleRoot</a></strong></p>\n",
       "            <p><strong>@j4ck · fid 431</strong></p>\n",
       "            <div style=\"word-wrap: break-word; margin: 10px 0;\">Storm King is one of my favorite places </div>\n",
       "    <div style=\"text-align: center;\"><img src=\"https://i.imgur.com/gFnSShP.jpg\" style=\"max-width: 550px; margin-top: 10px;\"></div><p style=\"color: purple; margin: 10px 0 0;\">&#x1F49C; 43 <span style=\"margin-left: 5px; margin-top: 10px;\">&#x1F4AC; 5</span></p></div></div>"
      ],
      "text/plain": [
       "<IPython.core.display.HTML object>"
      ]
     },
     "metadata": {},
     "output_type": "display_data"
    },
    {
     "data": {
      "text/html": [
       "\n",
       "    <div style=\"border: 1px solid #ccc; max-width: 600px; padding: 25px; margin-bottom: 25px;\">\n",
       "        <div style=\"max-width: 550px; margin: 0 auto;\">\n",
       "            <p><strong><a href=\"https://searchcaster.xyz/search?merkleRoot=0x239940e2f9c878acb02e952588aee998adc0715d\" target=\"_blank\">merkleRoot</a></strong></p>\n",
       "            <p><strong>@pmayr · fid 4661</strong></p>\n",
       "            <div style=\"word-wrap: break-word; margin: 10px 0;\">does anyone (besides @dwr obv.) spend more time on FC than on twitter now?</div>\n",
       "    <p style=\"color: purple; margin: 10px 0 0;\">&#x1F49C; 42 <span style=\"margin-left: 5px; margin-top: 10px;\">&#x1F4AC; 36</span></p></div></div>"
      ],
      "text/plain": [
       "<IPython.core.display.HTML object>"
      ]
     },
     "metadata": {},
     "output_type": "display_data"
    },
    {
     "data": {
      "text/html": [
       "\n",
       "    <div style=\"border: 1px solid #ccc; max-width: 600px; padding: 25px; margin-bottom: 25px;\">\n",
       "        <div style=\"max-width: 550px; margin: 0 auto;\">\n",
       "            <p><strong><a href=\"https://searchcaster.xyz/search?merkleRoot=0xb562a358674fe2183fdfdbaeb22b4eda0e4137bb\" target=\"_blank\">merkleRoot</a></strong></p>\n",
       "            <p><strong>@dwr · fid 3</strong></p>\n",
       "            <div style=\"word-wrap: break-word; margin: 10px 0;\">Small favor if you can boost or pass along to friends.<br><br>Also make sure to follow them on Twitter and I'm following you on Twitter so they stand out in my DM inbox (Twitter show mutuals).<br><br><a href=\"https://twitter.com/dwr/status/1586415449394204673\" target=\"_blank\">https://twitter.com/dwr/status/1586415449394204673</a></div>\n",
       "    <p style=\"color: purple; margin: 10px 0 0;\">&#x1F49C; 42 <span style=\"margin-left: 5px; margin-top: 10px;\">&#x1F4AC; 3</span></p></div></div>"
      ],
      "text/plain": [
       "<IPython.core.display.HTML object>"
      ]
     },
     "metadata": {},
     "output_type": "display_data"
    },
    {
     "data": {
      "text/html": [
       "\n",
       "    <div style=\"border: 1px solid #ccc; max-width: 600px; padding: 25px; margin-bottom: 25px;\">\n",
       "        <div style=\"max-width: 550px; margin: 0 auto;\">\n",
       "            <p><strong><a href=\"https://searchcaster.xyz/search?merkleRoot=0xbeb19c2e234c6464c24489852f48da6f9f08ed26\" target=\"_blank\">merkleRoot</a></strong></p>\n",
       "            <p><strong>@dwr · fid 3</strong></p>\n",
       "            <div style=\"word-wrap: break-word; margin: 10px 0;\">First book of the year for me! </div>\n",
       "    <div style=\"text-align: center;\"><img src=\"https://i.imgur.com/XPvjFJS.jpg\" style=\"max-width: 550px; margin-top: 10px;\"></div><p style=\"color: purple; margin: 10px 0 0;\">&#x1F49C; 42 <span style=\"margin-left: 5px; margin-top: 10px;\">&#x1F4AC; 9</span></p></div></div>"
      ],
      "text/plain": [
       "<IPython.core.display.HTML object>"
      ]
     },
     "metadata": {},
     "output_type": "display_data"
    },
    {
     "data": {
      "text/html": [
       "\n",
       "    <div style=\"border: 1px solid #ccc; max-width: 600px; padding: 25px; margin-bottom: 25px;\">\n",
       "        <div style=\"max-width: 550px; margin: 0 auto;\">\n",
       "            <p><strong><a href=\"https://searchcaster.xyz/search?merkleRoot=0xd6af6e58a805b17dd2eceadcad0a35acbb88c3c9\" target=\"_blank\">merkleRoot</a></strong></p>\n",
       "            <p><strong>@ligma · fid 4420</strong></p>\n",
       "            <div style=\"word-wrap: break-word; margin: 10px 0;\">GM! <br>Just setting up my Farcaster yo</div>\n",
       "    <p style=\"color: purple; margin: 10px 0 0;\">&#x1F49C; 42 <span style=\"margin-left: 5px; margin-top: 10px;\">&#x1F4AC; 6</span></p></div></div>"
      ],
      "text/plain": [
       "<IPython.core.display.HTML object>"
      ]
     },
     "metadata": {},
     "output_type": "display_data"
    },
    {
     "data": {
      "text/html": [
       "\n",
       "    <div style=\"border: 1px solid #ccc; max-width: 600px; padding: 25px; margin-bottom: 25px;\">\n",
       "        <div style=\"max-width: 550px; margin: 0 auto;\">\n",
       "            <p><strong><a href=\"https://searchcaster.xyz/search?merkleRoot=0x331a35f02e87bedddef26ea5822608ce3f850077\" target=\"_blank\">merkleRoot</a></strong></p>\n",
       "            <p><strong>@sriramk · fid 43</strong></p>\n",
       "            <div style=\"word-wrap: break-word; margin: 10px 0;\">Peripheral on Amazon (atleast S1:E1) is really good sci fi.</div>\n",
       "    <p style=\"color: purple; margin: 10px 0 0;\">&#x1F49C; 42 <span style=\"margin-left: 5px; margin-top: 10px;\">&#x1F4AC; 14</span></p></div></div>"
      ],
      "text/plain": [
       "<IPython.core.display.HTML object>"
      ]
     },
     "metadata": {},
     "output_type": "display_data"
    },
    {
     "data": {
      "text/html": [
       "\n",
       "    <div style=\"border: 1px solid #ccc; max-width: 600px; padding: 25px; margin-bottom: 25px;\">\n",
       "        <div style=\"max-width: 550px; margin: 0 auto;\">\n",
       "            <p><strong><a href=\"https://searchcaster.xyz/search?merkleRoot=0x561257283c15f5e7e2f5cf8313b33be605f305e3\" target=\"_blank\">merkleRoot</a></strong></p>\n",
       "            <p><strong>@drew-coffman · fid 3895</strong></p>\n",
       "            <div style=\"word-wrap: break-word; margin: 10px 0;\">mentally i’m here (world of warcraft circa 2006) </div>\n",
       "    <div style=\"text-align: center;\"><img src=\"https://i.imgur.com/rukgpeG.jpg\" style=\"max-width: 550px; margin-top: 10px;\"></div><p style=\"color: purple; margin: 10px 0 0;\">&#x1F49C; 42 <span style=\"margin-left: 5px; margin-top: 10px;\">&#x1F4AC; 5</span></p></div></div>"
      ],
      "text/plain": [
       "<IPython.core.display.HTML object>"
      ]
     },
     "metadata": {},
     "output_type": "display_data"
    },
    {
     "data": {
      "text/html": [
       "\n",
       "    <div style=\"border: 1px solid #ccc; max-width: 600px; padding: 25px; margin-bottom: 25px;\">\n",
       "        <div style=\"max-width: 550px; margin: 0 auto;\">\n",
       "            <p><strong><a href=\"https://searchcaster.xyz/search?merkleRoot=0x1f2304506f41920e6306d7952a86a87408a93735\" target=\"_blank\">merkleRoot</a></strong></p>\n",
       "            <p><strong>@ccarella · fid 472</strong></p>\n",
       "            <div style=\"word-wrap: break-word; margin: 10px 0;\">When web2 builder friends ask me what I think about Elon's Twitter.  </div>\n",
       "    <div style=\"text-align: center;\"><img src=\"https://i.imgur.com/1ADBWJI.png\" style=\"max-width: 550px; margin-top: 10px;\"></div><p style=\"color: purple; margin: 10px 0 0;\">&#x1F49C; 42 <span style=\"margin-left: 5px; margin-top: 10px;\">&#x1F4AC; 7</span></p></div></div>"
      ],
      "text/plain": [
       "<IPython.core.display.HTML object>"
      ]
     },
     "metadata": {},
     "output_type": "display_data"
    },
    {
     "data": {
      "text/html": [
       "\n",
       "    <div style=\"border: 1px solid #ccc; max-width: 600px; padding: 25px; margin-bottom: 25px;\">\n",
       "        <div style=\"max-width: 550px; margin: 0 auto;\">\n",
       "            <p><strong><a href=\"https://searchcaster.xyz/search?merkleRoot=0x6eb42fc0f4092912fa28e07ca7b9f6309e4593d7\" target=\"_blank\">merkleRoot</a></strong></p>\n",
       "            <p><strong>@kiyo · fid 689</strong></p>\n",
       "            <div style=\"word-wrap: break-word; margin: 10px 0;\">gm, we started pseudonymous hiring 🥷<br><br><a href=\"https://twitter.com/kiyokb/status/1587859802369101824\" target=\"_blank\">https://twitter.com/kiyokb/status/1587859802369101824</a></div>\n",
       "    <p style=\"color: purple; margin: 10px 0 0;\">&#x1F49C; 41 <span style=\"margin-left: 5px; margin-top: 10px;\">&#x1F4AC; 10</span></p></div></div>"
      ],
      "text/plain": [
       "<IPython.core.display.HTML object>"
      ]
     },
     "metadata": {},
     "output_type": "display_data"
    },
    {
     "data": {
      "text/html": [
       "\n",
       "    <div style=\"border: 1px solid #ccc; max-width: 600px; padding: 25px; margin-bottom: 25px;\">\n",
       "        <div style=\"max-width: 550px; margin: 0 auto;\">\n",
       "            <p><strong><a href=\"https://searchcaster.xyz/search?merkleRoot=0x0ce4895c064d762ca7de3e2e518dfe25092b9282\" target=\"_blank\">merkleRoot</a></strong></p>\n",
       "            <p><strong>@pushix · fid 359</strong></p>\n",
       "            <div style=\"word-wrap: break-word; margin: 10px 0;\">I have this pocket recipe of whipping up a pizza in a cast iron pan using a wheat tortilla (I live in California) with an egg and salami.<br><br>It takes literally < 5 mins and it's ridiculously good. 🥘 🍕 </div>\n",
       "    <div style=\"text-align: center;\"><img src=\"https://i.imgur.com/8o8qkaA.jpg\" style=\"max-width: 550px; margin-top: 10px;\"></div><p style=\"color: purple; margin: 10px 0 0;\">&#x1F49C; 41 <span style=\"margin-left: 5px; margin-top: 10px;\">&#x1F4AC; 9</span></p></div></div>"
      ],
      "text/plain": [
       "<IPython.core.display.HTML object>"
      ]
     },
     "metadata": {},
     "output_type": "display_data"
    },
    {
     "data": {
      "text/html": [
       "\n",
       "    <div style=\"border: 1px solid #ccc; max-width: 600px; padding: 25px; margin-bottom: 25px;\">\n",
       "        <div style=\"max-width: 550px; margin: 0 auto;\">\n",
       "            <p><strong><a href=\"https://searchcaster.xyz/search?merkleRoot=0xc324abf331f8cbfa06a3f07be99a1cda7ff0366b\" target=\"_blank\">merkleRoot</a></strong></p>\n",
       "            <p><strong>@kiyo · fid 689</strong></p>\n",
       "            <div style=\"word-wrap: break-word; margin: 10px 0;\">gm, coffee lovers ☕ <br><br>i used to run a coffee e-commerce for selling coffee tools (1k-2k items) and beans from dozens of self-coffee roasters in Japan a long time ago</div>\n",
       "    <p style=\"color: purple; margin: 10px 0 0;\">&#x1F49C; 41 <span style=\"margin-left: 5px; margin-top: 10px;\">&#x1F4AC; 5</span></p></div></div>"
      ],
      "text/plain": [
       "<IPython.core.display.HTML object>"
      ]
     },
     "metadata": {},
     "output_type": "display_data"
    },
    {
     "data": {
      "text/html": [
       "\n",
       "    <div style=\"border: 1px solid #ccc; max-width: 600px; padding: 25px; margin-bottom: 25px;\">\n",
       "        <div style=\"max-width: 550px; margin: 0 auto;\">\n",
       "            <p><strong><a href=\"https://searchcaster.xyz/search?merkleRoot=0x15e4c449eeef597850a69d8ac4c57409e80a5c4a\" target=\"_blank\">merkleRoot</a></strong></p>\n",
       "            <p><strong>@phil · fid 129</strong></p>\n",
       "            <div style=\"word-wrap: break-word; margin: 10px 0;\">I just sent Balaji a cold email inviting him to mint a CryptoCitizen with us in Tokyo next year. <br><br>Let's see if it lands.<br><br>Here's the email: </div>\n",
       "    <div style=\"text-align: center;\"><img src=\"https://i.imgur.com/gKhHObs.png\" style=\"max-width: 550px; margin-top: 10px;\"></div><p style=\"color: purple; margin: 10px 0 0;\">&#x1F49C; 41 <span style=\"margin-left: 5px; margin-top: 10px;\">&#x1F4AC; 7</span></p></div></div>"
      ],
      "text/plain": [
       "<IPython.core.display.HTML object>"
      ]
     },
     "metadata": {},
     "output_type": "display_data"
    },
    {
     "data": {
      "text/html": [
       "\n",
       "    <div style=\"border: 1px solid #ccc; max-width: 600px; padding: 25px; margin-bottom: 25px;\">\n",
       "        <div style=\"max-width: 550px; margin: 0 auto;\">\n",
       "            <p><strong><a href=\"https://searchcaster.xyz/search?merkleRoot=0x5b24b5e440571273b13b2aa22c6edf35f7302c19\" target=\"_blank\">merkleRoot</a></strong></p>\n",
       "            <p><strong>@kiyo · fid 689</strong></p>\n",
       "            <div style=\"word-wrap: break-word; margin: 10px 0;\">gm, what is your coffee dropper? <br><br>my favorite is Kalita Wave and the paper filter ☕️ </div>\n",
       "    <div style=\"text-align: center;\"><img src=\"https://i.imgur.com/m6ECLPt.jpg\" style=\"max-width: 550px; margin-top: 10px;\"></div><p style=\"color: purple; margin: 10px 0 0;\">&#x1F49C; 41 <span style=\"margin-left: 5px; margin-top: 10px;\">&#x1F4AC; 22</span></p></div></div>"
      ],
      "text/plain": [
       "<IPython.core.display.HTML object>"
      ]
     },
     "metadata": {},
     "output_type": "display_data"
    },
    {
     "data": {
      "text/html": [
       "\n",
       "    <div style=\"border: 1px solid #ccc; max-width: 600px; padding: 25px; margin-bottom: 25px;\">\n",
       "        <div style=\"max-width: 550px; margin: 0 auto;\">\n",
       "            <p><strong><a href=\"https://searchcaster.xyz/search?merkleRoot=0x2a888d490f7c06a19d48ce5129897663baeb6d90\" target=\"_blank\">merkleRoot</a></strong></p>\n",
       "            <p><strong>@tayyab · fid 66</strong></p>\n",
       "            <div style=\"word-wrap: break-word; margin: 10px 0;\">gm<br><br>What’s your number of cups of coffee a day? <br><br>I’m a 1.5 / day. Not always drinking an afternoon cup.</div>\n",
       "    <p style=\"color: purple; margin: 10px 0 0;\">&#x1F49C; 40 <span style=\"margin-left: 5px; margin-top: 10px;\">&#x1F4AC; 44</span></p></div></div>"
      ],
      "text/plain": [
       "<IPython.core.display.HTML object>"
      ]
     },
     "metadata": {},
     "output_type": "display_data"
    },
    {
     "data": {
      "text/html": [
       "\n",
       "    <div style=\"border: 1px solid #ccc; max-width: 600px; padding: 25px; margin-bottom: 25px;\">\n",
       "        <div style=\"max-width: 550px; margin: 0 auto;\">\n",
       "            <p><strong><a href=\"https://searchcaster.xyz/search?merkleRoot=0x04f17ed73c91d4db7702dc0ac1319ecfa9fe4abd\" target=\"_blank\">merkleRoot</a></strong></p>\n",
       "            <p><strong>@mk · fid 143</strong></p>\n",
       "            <div style=\"word-wrap: break-word; margin: 10px 0;\">A couple of weeks ago my daughter asked: Why we are making computers do everything better than us?</div>\n",
       "    <p style=\"color: purple; margin: 10px 0 0;\">&#x1F49C; 40 <span style=\"margin-left: 5px; margin-top: 10px;\">&#x1F4AC; 10</span></p></div></div>"
      ],
      "text/plain": [
       "<IPython.core.display.HTML object>"
      ]
     },
     "metadata": {},
     "output_type": "display_data"
    },
    {
     "data": {
      "text/html": [
       "\n",
       "    <div style=\"border: 1px solid #ccc; max-width: 600px; padding: 25px; margin-bottom: 25px;\">\n",
       "        <div style=\"max-width: 550px; margin: 0 auto;\">\n",
       "            <p><strong><a href=\"https://searchcaster.xyz/search?merkleRoot=0xa46dba31e1c7a9299d5dd00ddde91e81980f7a9c\" target=\"_blank\">merkleRoot</a></strong></p>\n",
       "            <p><strong>@nonlinear · fid 576</strong></p>\n",
       "            <div style=\"word-wrap: break-word; margin: 10px 0;\">gm </div>\n",
       "    <div style=\"text-align: center;\"><img src=\"https://i.imgur.com/PtS0hE9.jpg\" style=\"max-width: 550px; margin-top: 10px;\"></div><p style=\"color: purple; margin: 10px 0 0;\">&#x1F49C; 40 <span style=\"margin-left: 5px; margin-top: 10px;\">&#x1F4AC; 7</span></p></div></div>"
      ],
      "text/plain": [
       "<IPython.core.display.HTML object>"
      ]
     },
     "metadata": {},
     "output_type": "display_data"
    },
    {
     "data": {
      "text/html": [
       "\n",
       "    <div style=\"border: 1px solid #ccc; max-width: 600px; padding: 25px; margin-bottom: 25px;\">\n",
       "        <div style=\"max-width: 550px; margin: 0 auto;\">\n",
       "            <p><strong><a href=\"https://searchcaster.xyz/search?merkleRoot=0x1f9aa7da64f3a2e080821f9caf72f9284bf1386e\" target=\"_blank\">merkleRoot</a></strong></p>\n",
       "            <p><strong>@drew-coffman · fid 3895</strong></p>\n",
       "            <div style=\"word-wrap: break-word; margin: 10px 0;\">how snapchat marketed itself in 2012 </div>\n",
       "    <div style=\"text-align: center;\"><img src=\"https://i.imgur.com/k7SgVpf.jpg\" style=\"max-width: 550px; margin-top: 10px;\"></div><p style=\"color: purple; margin: 10px 0 0;\">&#x1F49C; 40 <span style=\"margin-left: 5px; margin-top: 10px;\">&#x1F4AC; 3</span></p></div></div>"
      ],
      "text/plain": [
       "<IPython.core.display.HTML object>"
      ]
     },
     "metadata": {},
     "output_type": "display_data"
    },
    {
     "data": {
      "text/html": [
       "\n",
       "    <div style=\"border: 1px solid #ccc; max-width: 600px; padding: 25px; margin-bottom: 25px;\">\n",
       "        <div style=\"max-width: 550px; margin: 0 auto;\">\n",
       "            <p><strong><a href=\"https://searchcaster.xyz/search?merkleRoot=0xb84e882c7080296a01ba4f66cdbd14160c78769e\" target=\"_blank\">merkleRoot</a></strong></p>\n",
       "            <p><strong>@dwr · fid 3</strong></p>\n",
       "            <div style=\"word-wrap: break-word; margin: 10px 0;\">gm rocking the bright moments hoodie cc @phil </div>\n",
       "    <div style=\"text-align: center;\"><img src=\"https://i.imgur.com/Qj7WkTV.jpg\" style=\"max-width: 550px; margin-top: 10px;\"></div><p style=\"color: purple; margin: 10px 0 0;\">&#x1F49C; 40 <span style=\"margin-left: 5px; margin-top: 10px;\">&#x1F4AC; 5</span></p></div></div>"
      ],
      "text/plain": [
       "<IPython.core.display.HTML object>"
      ]
     },
     "metadata": {},
     "output_type": "display_data"
    },
    {
     "data": {
      "text/html": [
       "\n",
       "    <div style=\"border: 1px solid #ccc; max-width: 600px; padding: 25px; margin-bottom: 25px;\">\n",
       "        <div style=\"max-width: 550px; margin: 0 auto;\">\n",
       "            <p><strong><a href=\"https://searchcaster.xyz/search?merkleRoot=0x93b158cd13e7e4b1bc14419d43c6d323619671c8\" target=\"_blank\">merkleRoot</a></strong></p>\n",
       "            <p><strong>@nonlinear · fid 576</strong></p>\n",
       "            <div style=\"word-wrap: break-word; margin: 10px 0;\">how much money would you pay for a clone of yourself that didn’t need to eat or sleep and operated at whatever your peak productivity is 100% of the time?</div>\n",
       "    <p style=\"color: purple; margin: 10px 0 0;\">&#x1F49C; 40 <span style=\"margin-left: 5px; margin-top: 10px;\">&#x1F4AC; 50</span></p></div></div>"
      ],
      "text/plain": [
       "<IPython.core.display.HTML object>"
      ]
     },
     "metadata": {},
     "output_type": "display_data"
    },
    {
     "data": {
      "text/html": [
       "\n",
       "    <div style=\"border: 1px solid #ccc; max-width: 600px; padding: 25px; margin-bottom: 25px;\">\n",
       "        <div style=\"max-width: 550px; margin: 0 auto;\">\n",
       "            <p><strong><a href=\"https://searchcaster.xyz/search?merkleRoot=0x79fba515ec2e7f0a1210abdf39a9491825099d08\" target=\"_blank\">merkleRoot</a></strong></p>\n",
       "            <p><strong>@matthew · fid 473</strong></p>\n",
       "            <div style=\"word-wrap: break-word; margin: 10px 0;\">Idea: events as a community growth vector.<br><br>Let's say example community has an NFT, and it gives holders the right to bring a +1 to an event every N months.<br><br>Each +1 gets their NFT at the door, entitling them to the same privilege.<br><br>Community grows by organic relationships, not purchases.<br><br>...all enabled by @event</div>\n",
       "    <p style=\"color: purple; margin: 10px 0 0;\">&#x1F49C; 39 <span style=\"margin-left: 5px; margin-top: 10px;\">&#x1F4AC; 9</span></p></div></div>"
      ],
      "text/plain": [
       "<IPython.core.display.HTML object>"
      ]
     },
     "metadata": {},
     "output_type": "display_data"
    },
    {
     "data": {
      "text/html": [
       "\n",
       "    <div style=\"border: 1px solid #ccc; max-width: 600px; padding: 25px; margin-bottom: 25px;\">\n",
       "        <div style=\"max-width: 550px; margin: 0 auto;\">\n",
       "            <p><strong><a href=\"https://searchcaster.xyz/search?merkleRoot=0x02bd8ffcc4dca93147d55afda378a7d49fbf670a\" target=\"_blank\">merkleRoot</a></strong></p>\n",
       "            <p><strong>@karthiksenthil · fid 681</strong></p>\n",
       "            <div style=\"word-wrap: break-word; margin: 10px 0;\">Any engineers out there looking for a founding team role at a web3 data startup?  <br><br>Know a great founder who just raised from Nat Friedman, Balaji, etc</div>\n",
       "    <p style=\"color: purple; margin: 10px 0 0;\">&#x1F49C; 39 <span style=\"margin-left: 5px; margin-top: 10px;\">&#x1F4AC; 5</span></p></div></div>"
      ],
      "text/plain": [
       "<IPython.core.display.HTML object>"
      ]
     },
     "metadata": {},
     "output_type": "display_data"
    },
    {
     "data": {
      "text/html": [
       "\n",
       "    <div style=\"border: 1px solid #ccc; max-width: 600px; padding: 25px; margin-bottom: 25px;\">\n",
       "        <div style=\"max-width: 550px; margin: 0 auto;\">\n",
       "            <p><strong><a href=\"https://searchcaster.xyz/search?merkleRoot=0xa1d40f7e9e5912a495887871a1fe55b8c2b823e1\" target=\"_blank\">merkleRoot</a></strong></p>\n",
       "            <p><strong>@ted · fid 239</strong></p>\n",
       "            <div style=\"word-wrap: break-word; margin: 10px 0;\">i loved FC (and still do!) because it was an exciting web3 project that I could access w/o crazy crypto money.<br><br>i was initially stoked about @purple — and then realized it feels just like other plutocratic DAOs where governance rights are bought, not earned.<br><br>is $$ the best way for us to organize? what am i missing?</div>\n",
       "    <p style=\"color: purple; margin: 10px 0 0;\">&#x1F49C; 39 <span style=\"margin-left: 5px; margin-top: 10px;\">&#x1F4AC; 12</span></p></div></div>"
      ],
      "text/plain": [
       "<IPython.core.display.HTML object>"
      ]
     },
     "metadata": {},
     "output_type": "display_data"
    },
    {
     "data": {
      "text/html": [
       "\n",
       "    <div style=\"border: 1px solid #ccc; max-width: 600px; padding: 25px; margin-bottom: 25px;\">\n",
       "        <div style=\"max-width: 550px; margin: 0 auto;\">\n",
       "            <p><strong><a href=\"https://searchcaster.xyz/search?merkleRoot=0xa0ef7c74065b268e966a558f5e3f11b0107f44e8\" target=\"_blank\">merkleRoot</a></strong></p>\n",
       "            <p><strong>@dwr · fid 3</strong></p>\n",
       "            <div style=\"word-wrap: break-word; margin: 10px 0;\">> In service of that, we’re creating alumni.stripe.com email addresses for everyone departing, and we’re going to roll this out to all former employees in the months ahead.<br><br>First soulbound employment credential?</div>\n",
       "    <p style=\"color: purple; margin: 10px 0 0;\">&#x1F49C; 39 <span style=\"margin-left: 5px; margin-top: 10px;\">&#x1F4AC; 5</span></p></div></div>"
      ],
      "text/plain": [
       "<IPython.core.display.HTML object>"
      ]
     },
     "metadata": {},
     "output_type": "display_data"
    },
    {
     "data": {
      "text/html": [
       "\n",
       "    <div style=\"border: 1px solid #ccc; max-width: 600px; padding: 25px; margin-bottom: 25px;\">\n",
       "        <div style=\"max-width: 550px; margin: 0 auto;\">\n",
       "            <p><strong><a href=\"https://searchcaster.xyz/search?merkleRoot=0x1e26eec90d441d05a56ecb2250d77fee4ccc5a41\" target=\"_blank\">merkleRoot</a></strong></p>\n",
       "            <p><strong>@dwr · fid 3</strong></p>\n",
       "            <div style=\"word-wrap: break-word; margin: 10px 0;\">Other October 2022 stats:<br><br>- MAU (monthly active users): 90% of all Farcaster users opened a client at least 1 time<br><br>- MCU (monthly casting users): 60% of all Farcaster users sent at least 1 cast</div>\n",
       "    <p style=\"color: purple; margin: 10px 0 0;\">&#x1F49C; 38 <span style=\"margin-left: 5px; margin-top: 10px;\">&#x1F4AC; 5</span></p></div></div>"
      ],
      "text/plain": [
       "<IPython.core.display.HTML object>"
      ]
     },
     "metadata": {},
     "output_type": "display_data"
    },
    {
     "data": {
      "text/html": [
       "\n",
       "    <div style=\"border: 1px solid #ccc; max-width: 600px; padding: 25px; margin-bottom: 25px;\">\n",
       "        <div style=\"max-width: 550px; margin: 0 auto;\">\n",
       "            <p><strong><a href=\"https://searchcaster.xyz/search?merkleRoot=0x6f7902977a875686cc69b0b4babf8efc5ce47f34\" target=\"_blank\">merkleRoot</a></strong></p>\n",
       "            <p><strong>@matthew · fid 473</strong></p>\n",
       "            <div style=\"word-wrap: break-word; margin: 10px 0;\">thinking about a new type of event for communities:<br><br>I propose an event, maybe with X funding from treasury<br><br>if N number of verified members RSVP, then the event happens and appears on the community’s feed.<br><br>If event happens, funding is granted. if i clearly mis-use funds, then people at the event report me.<br><br>thought</div>\n",
       "    <p style=\"color: purple; margin: 10px 0 0;\">&#x1F49C; 38 <span style=\"margin-left: 5px; margin-top: 10px;\">&#x1F4AC; 7</span></p></div></div>"
      ],
      "text/plain": [
       "<IPython.core.display.HTML object>"
      ]
     },
     "metadata": {},
     "output_type": "display_data"
    },
    {
     "data": {
      "text/html": [
       "\n",
       "    <div style=\"border: 1px solid #ccc; max-width: 600px; padding: 25px; margin-bottom: 25px;\">\n",
       "        <div style=\"max-width: 550px; margin: 0 auto;\">\n",
       "            <p><strong><a href=\"https://searchcaster.xyz/search?merkleRoot=0xf4ba1fca7dd6c4a1a810c263ac395e31949822c9\" target=\"_blank\">merkleRoot</a></strong></p>\n",
       "            <p><strong>@bored · fid 3417</strong></p>\n",
       "            <div style=\"word-wrap: break-word; margin: 10px 0;\">I think this would work. <a href=\"https://twitter.com/boredelonmusk/status/1586134627739049985?s=46&t=rmMHID3Q2azKO__dn7cCNA\" target=\"_blank\">https://twitter.com/boredelonmusk/status/1586134627739049985?s=46&t=rmMHID3Q2azKO__dn7cCNA</a></div>\n",
       "    <p style=\"color: purple; margin: 10px 0 0;\">&#x1F49C; 38 <span style=\"margin-left: 5px; margin-top: 10px;\">&#x1F4AC; 7</span></p></div></div>"
      ],
      "text/plain": [
       "<IPython.core.display.HTML object>"
      ]
     },
     "metadata": {},
     "output_type": "display_data"
    },
    {
     "data": {
      "text/html": [
       "\n",
       "    <div style=\"border: 1px solid #ccc; max-width: 600px; padding: 25px; margin-bottom: 25px;\">\n",
       "        <div style=\"max-width: 550px; margin: 0 auto;\">\n",
       "            <p><strong><a href=\"https://searchcaster.xyz/search?merkleRoot=0x20afb600d8b350654f186d86d1cf39d65c2d795b\" target=\"_blank\">merkleRoot</a></strong></p>\n",
       "            <p><strong>@j4ck · fid 431</strong></p>\n",
       "            <div style=\"word-wrap: break-word; margin: 10px 0;\">i think Farcaster is materially making me a better and more competent person</div>\n",
       "    <p style=\"color: purple; margin: 10px 0 0;\">&#x1F49C; 37 <span style=\"margin-left: 5px; margin-top: 10px;\">&#x1F4AC; 2</span></p></div></div>"
      ],
      "text/plain": [
       "<IPython.core.display.HTML object>"
      ]
     },
     "metadata": {},
     "output_type": "display_data"
    },
    {
     "data": {
      "text/html": [
       "\n",
       "    <div style=\"border: 1px solid #ccc; max-width: 600px; padding: 25px; margin-bottom: 25px;\">\n",
       "        <div style=\"max-width: 550px; margin: 0 auto;\">\n",
       "            <p><strong><a href=\"https://searchcaster.xyz/search?merkleRoot=0x79fe3d951194f5b561aa86b4e26ff540e30d493f\" target=\"_blank\">merkleRoot</a></strong></p>\n",
       "            <p><strong>@briang · fid 548</strong></p>\n",
       "            <div style=\"word-wrap: break-word; margin: 10px 0;\">my first scrussy (screenshot essay) </div>\n",
       "    <div style=\"text-align: center;\"><img src=\"https://i.imgur.com/rCwYfQ0.jpg\" style=\"max-width: 550px; margin-top: 10px;\"></div><p style=\"color: purple; margin: 10px 0 0;\">&#x1F49C; 37 <span style=\"margin-left: 5px; margin-top: 10px;\">&#x1F4AC; 11</span></p></div></div>"
      ],
      "text/plain": [
       "<IPython.core.display.HTML object>"
      ]
     },
     "metadata": {},
     "output_type": "display_data"
    },
    {
     "data": {
      "text/html": [
       "\n",
       "    <div style=\"border: 1px solid #ccc; max-width: 600px; padding: 25px; margin-bottom: 25px;\">\n",
       "        <div style=\"max-width: 550px; margin: 0 auto;\">\n",
       "            <p><strong><a href=\"https://searchcaster.xyz/search?merkleRoot=0xa1fe8e45b3826818318b54cef928706923deeb54\" target=\"_blank\">merkleRoot</a></strong></p>\n",
       "            <p><strong>@giu · fid 124</strong></p>\n",
       "            <div style=\"word-wrap: break-word; margin: 10px 0;\">Interesting questions by Patrick Collison! <br><br><a href=\"https://patrickcollison.com/questions\" target=\"_blank\">https://patrickcollison.com/questions</a> </div>\n",
       "    <div style=\"text-align: center;\"><img src=\"https://i.imgur.com/pNuetFA.jpg\" style=\"max-width: 550px; margin-top: 10px;\"></div><p style=\"color: purple; margin: 10px 0 0;\">&#x1F49C; 37 <span style=\"margin-left: 5px; margin-top: 10px;\">&#x1F4AC; 9</span></p></div></div>"
      ],
      "text/plain": [
       "<IPython.core.display.HTML object>"
      ]
     },
     "metadata": {},
     "output_type": "display_data"
    },
    {
     "data": {
      "text/html": [
       "\n",
       "    <div style=\"border: 1px solid #ccc; max-width: 600px; padding: 25px; margin-bottom: 25px;\">\n",
       "        <div style=\"max-width: 550px; margin: 0 auto;\">\n",
       "            <p><strong><a href=\"https://searchcaster.xyz/search?merkleRoot=0x68b37ae9e749fa6afe997c299ca6cbebb4dcfb02\" target=\"_blank\">merkleRoot</a></strong></p>\n",
       "            <p><strong>@dwr · fid 3</strong></p>\n",
       "            <div style=\"word-wrap: break-word; margin: 10px 0;\">New easy way to link to a Farcaster profile from @clayallsopp:<br><br><a href=\"http://fcast.me/dwr\" target=\"_blank\">http://fcast.me/dwr</a></div>\n",
       "    <p style=\"color: purple; margin: 10px 0 0;\">&#x1F49C; 37 <span style=\"margin-left: 5px; margin-top: 10px;\">&#x1F4AC; 2</span></p></div></div>"
      ],
      "text/plain": [
       "<IPython.core.display.HTML object>"
      ]
     },
     "metadata": {},
     "output_type": "display_data"
    },
    {
     "data": {
      "text/html": [
       "\n",
       "    <div style=\"border: 1px solid #ccc; max-width: 600px; padding: 25px; margin-bottom: 25px;\">\n",
       "        <div style=\"max-width: 550px; margin: 0 auto;\">\n",
       "            <p><strong><a href=\"https://searchcaster.xyz/search?merkleRoot=0x02729d97aeb884575299a565e86d5a2473b9b9ac\" target=\"_blank\">merkleRoot</a></strong></p>\n",
       "            <p><strong>@pfista · fid 451</strong></p>\n",
       "            <div style=\"word-wrap: break-word; margin: 10px 0;\">This is fuckin cool <a href=\"https://paragraph.xyz/@blog/farcaster-comments\" target=\"_blank\">https://paragraph.xyz/@blog/farcaster-comments</a></div>\n",
       "    <p style=\"color: purple; margin: 10px 0 0;\">&#x1F49C; 36 <span style=\"margin-left: 5px; margin-top: 10px;\">&#x1F4AC; 9</span></p></div></div>"
      ],
      "text/plain": [
       "<IPython.core.display.HTML object>"
      ]
     },
     "metadata": {},
     "output_type": "display_data"
    },
    {
     "data": {
      "text/html": [
       "\n",
       "    <div style=\"border: 1px solid #ccc; max-width: 600px; padding: 25px; margin-bottom: 25px;\">\n",
       "        <div style=\"max-width: 550px; margin: 0 auto;\">\n",
       "            <p><strong><a href=\"https://searchcaster.xyz/search?merkleRoot=0xa0cbad02e4c76f7f761947f3743b10aaee42afc1\" target=\"_blank\">merkleRoot</a></strong></p>\n",
       "            <p><strong>@giu · fid 124</strong></p>\n",
       "            <div style=\"word-wrap: break-word; margin: 10px 0;\">The flippening! I think farcarte.xyz is a good proxy for where crypto activity, and as well where startup tech will be. This is a leading indicator! What is interesting to see is that: <br><br>NYC is now leading! SF is the second biggest center. LA is 3rd. </div>\n",
       "    <div style=\"text-align: center;\"><img src=\"https://i.imgur.com/4zxqwjf.jpg\" style=\"max-width: 550px; margin-top: 10px;\"></div><p style=\"color: purple; margin: 10px 0 0;\">&#x1F49C; 36 <span style=\"margin-left: 5px; margin-top: 10px;\">&#x1F4AC; 11</span></p></div></div>"
      ],
      "text/plain": [
       "<IPython.core.display.HTML object>"
      ]
     },
     "metadata": {},
     "output_type": "display_data"
    },
    {
     "data": {
      "text/html": [
       "\n",
       "    <div style=\"border: 1px solid #ccc; max-width: 600px; padding: 25px; margin-bottom: 25px;\">\n",
       "        <div style=\"max-width: 550px; margin: 0 auto;\">\n",
       "            <p><strong><a href=\"https://searchcaster.xyz/search?merkleRoot=0x55f57d61cb6fe6cbd39442785fe9898edbf88f76\" target=\"_blank\">merkleRoot</a></strong></p>\n",
       "            <p><strong>@emodi · fid 604</strong></p>\n",
       "            <div style=\"word-wrap: break-word; margin: 10px 0;\">Elon sharing this stuff publicly from inside Twitter is going to be so good to watch & hopefully causes ripples. <br><br>The coddling of the American tech worker — incessant weakening of mind and spirit — needs to end.<br><br><a href=\"https://twitter.com/elonmusk/status/1586680643831836677?s=46&t=w7uc7xaPaRwZf01Dc2Xifw\" target=\"_blank\">https://twitter.com/elonmusk/status/1586680643831836677?s=46&t=w7uc7xaPaRwZf01Dc2Xifw</a></div>\n",
       "    <p style=\"color: purple; margin: 10px 0 0;\">&#x1F49C; 36 <span style=\"margin-left: 5px; margin-top: 10px;\">&#x1F4AC; 6</span></p></div></div>"
      ],
      "text/plain": [
       "<IPython.core.display.HTML object>"
      ]
     },
     "metadata": {},
     "output_type": "display_data"
    },
    {
     "data": {
      "text/html": [
       "\n",
       "    <div style=\"border: 1px solid #ccc; max-width: 600px; padding: 25px; margin-bottom: 25px;\">\n",
       "        <div style=\"max-width: 550px; margin: 0 auto;\">\n",
       "            <p><strong><a href=\"https://searchcaster.xyz/search?merkleRoot=0x872243c941e9bbff1f12a6c646c16a148b046480\" target=\"_blank\">merkleRoot</a></strong></p>\n",
       "            <p><strong>@0xen · fid 528</strong></p>\n",
       "            <div style=\"word-wrap: break-word; margin: 10px 0;\">Somebody had to.<br><br> </div>\n",
       "    <div style=\"text-align: center;\"><img src=\"https://i.imgur.com/9cXV02C.jpg\" style=\"max-width: 550px; margin-top: 10px;\"></div><p style=\"color: purple; margin: 10px 0 0;\">&#x1F49C; 36 <span style=\"margin-left: 5px; margin-top: 10px;\">&#x1F4AC; 5</span></p></div></div>"
      ],
      "text/plain": [
       "<IPython.core.display.HTML object>"
      ]
     },
     "metadata": {},
     "output_type": "display_data"
    },
    {
     "data": {
      "text/html": [
       "\n",
       "    <div style=\"border: 1px solid #ccc; max-width: 600px; padding: 25px; margin-bottom: 25px;\">\n",
       "        <div style=\"max-width: 550px; margin: 0 auto;\">\n",
       "            <p><strong><a href=\"https://searchcaster.xyz/search?merkleRoot=0x2f8f52325ddadc75f8ec0a9b7072f4492fb3b447\" target=\"_blank\">merkleRoot</a></strong></p>\n",
       "            <p><strong>@kyle · fid 303</strong></p>\n",
       "            <div style=\"word-wrap: break-word; margin: 10px 0;\">We are testing an RSS feed reader for your wallet address.<br><br>Buying a token is you subscribing to that community's RSS feed - you shouldn't have to separately find all the related publications.<br><br>Dawn Pass holders can try it in \"Updates\" today! beta.daylight.xyz/updates </div>\n",
       "    <div style=\"text-align: center;\"><img src=\"https://i.imgur.com/Gnmq77T.jpg\" style=\"max-width: 550px; margin-top: 10px;\"></div><p style=\"color: purple; margin: 10px 0 0;\">&#x1F49C; 36 <span style=\"margin-left: 5px; margin-top: 10px;\">&#x1F4AC; 7</span></p></div></div>"
      ],
      "text/plain": [
       "<IPython.core.display.HTML object>"
      ]
     },
     "metadata": {},
     "output_type": "display_data"
    },
    {
     "data": {
      "text/html": [
       "\n",
       "    <div style=\"border: 1px solid #ccc; max-width: 600px; padding: 25px; margin-bottom: 25px;\">\n",
       "        <div style=\"max-width: 550px; margin: 0 auto;\">\n",
       "            <p><strong><a href=\"https://searchcaster.xyz/search?merkleRoot=0xf16006aa8ee5680c3a2a47ccad0a9d33085c0826\" target=\"_blank\">merkleRoot</a></strong></p>\n",
       "            <p><strong>@dwr · fid 3</strong></p>\n",
       "            <div style=\"word-wrap: break-word; margin: 10px 0;\">Parentcaster: best YouTube (or Netflix) content to download to an iPad for 1.5 to 2 year old for a flight?</div>\n",
       "    <p style=\"color: purple; margin: 10px 0 0;\">&#x1F49C; 35 <span style=\"margin-left: 5px; margin-top: 10px;\">&#x1F4AC; 38</span></p></div></div>"
      ],
      "text/plain": [
       "<IPython.core.display.HTML object>"
      ]
     },
     "metadata": {},
     "output_type": "display_data"
    },
    {
     "data": {
      "text/html": [
       "\n",
       "    <div style=\"border: 1px solid #ccc; max-width: 600px; padding: 25px; margin-bottom: 25px;\">\n",
       "        <div style=\"max-width: 550px; margin: 0 auto;\">\n",
       "            <p><strong><a href=\"https://searchcaster.xyz/search?merkleRoot=0x68a3a229e4d9289987a53198cff27a6c7b1f4131\" target=\"_blank\">merkleRoot</a></strong></p>\n",
       "            <p><strong>@nyx · fid 217</strong></p>\n",
       "            <div style=\"word-wrap: break-word; margin: 10px 0;\">a weird wind blows...<br><br>AND WE'RE LIVE - every WITCH can conjure one ARTIFACT as a gift, starting today until november 30, please come by 🖤<br> <br><a href=\"https://cryptocoven.xyz/map/narrators-hut\" target=\"_blank\">https://cryptocoven.xyz/map/narrators-hut</a><br><br> </div>\n",
       "    <div style=\"text-align: center;\"><img src=\"https://i.imgur.com/ElGrVpr.png\" style=\"max-width: 550px; margin-top: 10px;\"></div><p style=\"color: purple; margin: 10px 0 0;\">&#x1F49C; 35 <span style=\"margin-left: 5px; margin-top: 10px;\">&#x1F4AC; 7</span></p></div></div>"
      ],
      "text/plain": [
       "<IPython.core.display.HTML object>"
      ]
     },
     "metadata": {},
     "output_type": "display_data"
    },
    {
     "data": {
      "text/html": [
       "\n",
       "    <div style=\"border: 1px solid #ccc; max-width: 600px; padding: 25px; margin-bottom: 25px;\">\n",
       "        <div style=\"max-width: 550px; margin: 0 auto;\">\n",
       "            <p><strong><a href=\"https://searchcaster.xyz/search?merkleRoot=0xe708e94567c52c166b79680d05056f0c192e6290\" target=\"_blank\">merkleRoot</a></strong></p>\n",
       "            <p><strong>@angie · fid 4630</strong></p>\n",
       "            <div style=\"word-wrap: break-word; margin: 10px 0;\">First cast! Dedicated to the goodest boy, of course 🐶 </div>\n",
       "    <div style=\"text-align: center;\"><img src=\"https://i.imgur.com/XjfAirr.jpg\" style=\"max-width: 550px; margin-top: 10px;\"></div><p style=\"color: purple; margin: 10px 0 0;\">&#x1F49C; 35 <span style=\"margin-left: 5px; margin-top: 10px;\">&#x1F4AC; 7</span></p></div></div>"
      ],
      "text/plain": [
       "<IPython.core.display.HTML object>"
      ]
     },
     "metadata": {},
     "output_type": "display_data"
    },
    {
     "data": {
      "text/html": [
       "\n",
       "    <div style=\"border: 1px solid #ccc; max-width: 600px; padding: 25px; margin-bottom: 25px;\">\n",
       "        <div style=\"max-width: 550px; margin: 0 auto;\">\n",
       "            <p><strong><a href=\"https://searchcaster.xyz/search?merkleRoot=0xbb999fca22191b9c2bc87ce67672e99d37c5e4e4\" target=\"_blank\">merkleRoot</a></strong></p>\n",
       "            <p><strong>@derek · fid 193</strong></p>\n",
       "            <div style=\"word-wrap: break-word; margin: 10px 0;\">Personally I think it’s pretty dope that @sriramk is helping to migrate twitter to becoming a Farcaster client.</div>\n",
       "    <p style=\"color: purple; margin: 10px 0 0;\">&#x1F49C; 35 <span style=\"margin-left: 5px; margin-top: 10px;\">&#x1F4AC; 2</span></p></div></div>"
      ],
      "text/plain": [
       "<IPython.core.display.HTML object>"
      ]
     },
     "metadata": {},
     "output_type": "display_data"
    },
    {
     "data": {
      "text/html": [
       "\n",
       "    <div style=\"border: 1px solid #ccc; max-width: 600px; padding: 25px; margin-bottom: 25px;\">\n",
       "        <div style=\"max-width: 550px; margin: 0 auto;\">\n",
       "            <p><strong><a href=\"https://searchcaster.xyz/search?merkleRoot=0xd94402abaa56aff3268fb2851924fa8e75b1a976\" target=\"_blank\">merkleRoot</a></strong></p>\n",
       "            <p><strong>@cassie · fid 1325</strong></p>\n",
       "            <div style=\"word-wrap: break-word; margin: 10px 0;\">I miss the uniqueness of the old web </div>\n",
       "    <div style=\"text-align: center;\"><img src=\"https://i.imgur.com/jFUgWvy.jpg\" style=\"max-width: 550px; margin-top: 10px;\"></div><p style=\"color: purple; margin: 10px 0 0;\">&#x1F49C; 35 <span style=\"margin-left: 5px; margin-top: 10px;\">&#x1F4AC; 3</span></p></div></div>"
      ],
      "text/plain": [
       "<IPython.core.display.HTML object>"
      ]
     },
     "metadata": {},
     "output_type": "display_data"
    },
    {
     "data": {
      "text/html": [
       "\n",
       "    <div style=\"border: 1px solid #ccc; max-width: 600px; padding: 25px; margin-bottom: 25px;\">\n",
       "        <div style=\"max-width: 550px; margin: 0 auto;\">\n",
       "            <p><strong><a href=\"https://searchcaster.xyz/search?merkleRoot=0x9cda00fa0ad8c05193bba68aa326b6998038ed50\" target=\"_blank\">merkleRoot</a></strong></p>\n",
       "            <p><strong>@phil · fid 129</strong></p>\n",
       "            <div style=\"word-wrap: break-word; margin: 10px 0;\">We just minted Mint #0 for our November artist-in-residence. <br><br>We're announcing the project and artist tomorrow, but Farcaster sees it first:  </div>\n",
       "    <div style=\"text-align: center;\"><img src=\"https://i.imgur.com/5BY8pRY.png\" style=\"max-width: 550px; margin-top: 10px;\"></div><p style=\"color: purple; margin: 10px 0 0;\">&#x1F49C; 34 <span style=\"margin-left: 5px; margin-top: 10px;\">&#x1F4AC; 3</span></p></div></div>"
      ],
      "text/plain": [
       "<IPython.core.display.HTML object>"
      ]
     },
     "metadata": {},
     "output_type": "display_data"
    },
    {
     "data": {
      "text/html": [
       "\n",
       "    <div style=\"border: 1px solid #ccc; max-width: 600px; padding: 25px; margin-bottom: 25px;\">\n",
       "        <div style=\"max-width: 550px; margin: 0 auto;\">\n",
       "            <p><strong><a href=\"https://searchcaster.xyz/search?merkleRoot=0xcfae0820379f1692b028e5357a2e172b79d450d6\" target=\"_blank\">merkleRoot</a></strong></p>\n",
       "            <p><strong>@mk · fid 143</strong></p>\n",
       "            <div style=\"word-wrap: break-word; margin: 10px 0;\">ethOS version 1.1 just dropped!<br><br>This update includes XMTP messaging, ENS in contacts and the browser, and system-level wallet integration.<br><br><a href=\"https://ethosmobile.org\" target=\"_blank\">https://ethosmobile.org</a></div>\n",
       "    <p style=\"color: purple; margin: 10px 0 0;\">&#x1F49C; 34 <span style=\"margin-left: 5px; margin-top: 10px;\">&#x1F4AC; 7</span></p></div></div>"
      ],
      "text/plain": [
       "<IPython.core.display.HTML object>"
      ]
     },
     "metadata": {},
     "output_type": "display_data"
    },
    {
     "data": {
      "text/html": [
       "\n",
       "    <div style=\"border: 1px solid #ccc; max-width: 600px; padding: 25px; margin-bottom: 25px;\">\n",
       "        <div style=\"max-width: 550px; margin: 0 auto;\">\n",
       "            <p><strong><a href=\"https://searchcaster.xyz/search?merkleRoot=0x195fffb959b4894e6ef8aa5aac21e2de39629350\" target=\"_blank\">merkleRoot</a></strong></p>\n",
       "            <p><strong>@gaby · fid 83</strong></p>\n",
       "            <div style=\"word-wrap: break-word; margin: 10px 0;\">The Twitter “war room” is employing a practice commonly referred to as FAFO (Fuck Around, Find Out).</div>\n",
       "    <p style=\"color: purple; margin: 10px 0 0;\">&#x1F49C; 33 <span style=\"margin-left: 5px; margin-top: 10px;\">&#x1F4AC; 3</span></p></div></div>"
      ],
      "text/plain": [
       "<IPython.core.display.HTML object>"
      ]
     },
     "metadata": {},
     "output_type": "display_data"
    },
    {
     "data": {
      "text/html": [
       "\n",
       "    <div style=\"border: 1px solid #ccc; max-width: 600px; padding: 25px; margin-bottom: 25px;\">\n",
       "        <div style=\"max-width: 550px; margin: 0 auto;\">\n",
       "            <p><strong><a href=\"https://searchcaster.xyz/search?merkleRoot=0xd0a6b15ebc916e3869590a65fd599d070f40ac7a\" target=\"_blank\">merkleRoot</a></strong></p>\n",
       "            <p><strong>@montana · fid 849</strong></p>\n",
       "            <div style=\"word-wrap: break-word; margin: 10px 0;\">Excited to announce that I've joined the advisory board for <a href=\"https://3num.co\" target=\"_blank\">https://3num.co</a> who are building the first web3 phone number.</div>\n",
       "    <p style=\"color: purple; margin: 10px 0 0;\">&#x1F49C; 33 <span style=\"margin-left: 5px; margin-top: 10px;\">&#x1F4AC; 11</span></p></div></div>"
      ],
      "text/plain": [
       "<IPython.core.display.HTML object>"
      ]
     },
     "metadata": {},
     "output_type": "display_data"
    },
    {
     "data": {
      "text/html": [
       "\n",
       "    <div style=\"border: 1px solid #ccc; max-width: 600px; padding: 25px; margin-bottom: 25px;\">\n",
       "        <div style=\"max-width: 550px; margin: 0 auto;\">\n",
       "            <p><strong><a href=\"https://searchcaster.xyz/search?merkleRoot=0xf6a97cb15da5984d48bddb32a50f7174a13e18ea\" target=\"_blank\">merkleRoot</a></strong></p>\n",
       "            <p><strong>@phil · fid 129</strong></p>\n",
       "            <div style=\"word-wrap: break-word; margin: 10px 0;\">What happened to HN? <br><br>Not snarky; serious question. <br><br>If one of the most interesting sites on the web can fall victim to widespread cynicism and pessimism, how can we avoid the same thing happening here in the future?<br><br>See also: Reddit. </div>\n",
       "    <div style=\"text-align: center;\"><img src=\"https://i.imgur.com/83bOv7K.png\" style=\"max-width: 550px; margin-top: 10px;\"></div><p style=\"color: purple; margin: 10px 0 0;\">&#x1F49C; 33 <span style=\"margin-left: 5px; margin-top: 10px;\">&#x1F4AC; 16</span></p></div></div>"
      ],
      "text/plain": [
       "<IPython.core.display.HTML object>"
      ]
     },
     "metadata": {},
     "output_type": "display_data"
    },
    {
     "data": {
      "text/html": [
       "\n",
       "    <div style=\"border: 1px solid #ccc; max-width: 600px; padding: 25px; margin-bottom: 25px;\">\n",
       "        <div style=\"max-width: 550px; margin: 0 auto;\">\n",
       "            <p><strong><a href=\"https://searchcaster.xyz/search?merkleRoot=0x5cfed0fdf9b316494c875d9f74b11bb05aba58d0\" target=\"_blank\">merkleRoot</a></strong></p>\n",
       "            <p><strong>@macbudkowski · fid 1048</strong></p>\n",
       "            <div style=\"word-wrap: break-word; margin: 10px 0;\">Today I launch a project I've been working on for a long time!<br><br>Free Guide with 19 protips & 40 examples of GOOD and BAD web3 product communication from projects such as Dune, MetaMask, Royal, Arweave, OpenZeppelin, Coinbase & more.<br><br>Recasts much appreciated 🙏<br><br><a href=\"https://macbudkowski.com/how-to-explain-web3-products/\" target=\"_blank\">https://macbudkowski.com/how-to-explain-web3-products/</a></div>\n",
       "    <p style=\"color: purple; margin: 10px 0 0;\">&#x1F49C; 33 <span style=\"margin-left: 5px; margin-top: 10px;\">&#x1F4AC; 11</span></p></div></div>"
      ],
      "text/plain": [
       "<IPython.core.display.HTML object>"
      ]
     },
     "metadata": {},
     "output_type": "display_data"
    },
    {
     "data": {
      "text/html": [
       "\n",
       "    <div style=\"border: 1px solid #ccc; max-width: 600px; padding: 25px; margin-bottom: 25px;\">\n",
       "        <div style=\"max-width: 550px; margin: 0 auto;\">\n",
       "            <p><strong><a href=\"https://searchcaster.xyz/search?merkleRoot=0x3c57667b1ce0a54dd15f8156f514ad07a01c81d7\" target=\"_blank\">merkleRoot</a></strong></p>\n",
       "            <p><strong>@jessepollak · fid 99</strong></p>\n",
       "            <div style=\"word-wrap: break-word; margin: 10px 0;\">my patience for investing in anything that requires me to manually upload documents is rapidly approaching zero<br><br>i am not fully morally opposed to providing the information, but we need a crypto native format that makes it instant</div>\n",
       "    <p style=\"color: purple; margin: 10px 0 0;\">&#x1F49C; 33 <span style=\"margin-left: 5px; margin-top: 10px;\">&#x1F4AC; 6</span></p></div></div>"
      ],
      "text/plain": [
       "<IPython.core.display.HTML object>"
      ]
     },
     "metadata": {},
     "output_type": "display_data"
    },
    {
     "data": {
      "text/html": [
       "\n",
       "    <div style=\"border: 1px solid #ccc; max-width: 600px; padding: 25px; margin-bottom: 25px;\">\n",
       "        <div style=\"max-width: 550px; margin: 0 auto;\">\n",
       "            <p><strong><a href=\"https://searchcaster.xyz/search?merkleRoot=0xe044a8fe192fa451254b06f252087c0877540d8f\" target=\"_blank\">merkleRoot</a></strong></p>\n",
       "            <p><strong>@clayallsopp · fid 469</strong></p>\n",
       "            <div style=\"word-wrap: break-word; margin: 10px 0;\">ever want to quickly link a caster to your farcaster profile?<br><br>hacked up fcast.me for that - deeplinks into the merkle apps<br><br>e.g. <a href=\"https://fcast.me/clayallsopp\" target=\"_blank\">https://fcast.me/clayallsopp</a> <a href=\"https://fcast.me/dwr\" target=\"_blank\">https://fcast.me/dwr</a> </div>\n",
       "    <div style=\"text-align: center;\"><img src=\"https://i.imgur.com/c1ofwEO.png\" style=\"max-width: 550px; margin-top: 10px;\"></div><p style=\"color: purple; margin: 10px 0 0;\">&#x1F49C; 33 <span style=\"margin-left: 5px; margin-top: 10px;\">&#x1F4AC; 2</span></p></div></div>"
      ],
      "text/plain": [
       "<IPython.core.display.HTML object>"
      ]
     },
     "metadata": {},
     "output_type": "display_data"
    },
    {
     "data": {
      "text/html": [
       "\n",
       "    <div style=\"border: 1px solid #ccc; max-width: 600px; padding: 25px; margin-bottom: 25px;\">\n",
       "        <div style=\"max-width: 550px; margin: 0 auto;\">\n",
       "            <p><strong><a href=\"https://searchcaster.xyz/search?merkleRoot=0x9fc73dfcc399d8a1e5afa2b79fa44eb5880630c6\" target=\"_blank\">merkleRoot</a></strong></p>\n",
       "            <p><strong>@ace · fid 539</strong></p>\n",
       "            <div style=\"word-wrap: break-word; margin: 10px 0;\">how's lens/lenster compared to farcaster? I've tried it, but never got quite pulled in.</div>\n",
       "    <p style=\"color: purple; margin: 10px 0 0;\">&#x1F49C; 33 <span style=\"margin-left: 5px; margin-top: 10px;\">&#x1F4AC; 26</span></p></div></div>"
      ],
      "text/plain": [
       "<IPython.core.display.HTML object>"
      ]
     },
     "metadata": {},
     "output_type": "display_data"
    },
    {
     "data": {
      "text/html": [
       "\n",
       "    <div style=\"border: 1px solid #ccc; max-width: 600px; padding: 25px; margin-bottom: 25px;\">\n",
       "        <div style=\"max-width: 550px; margin: 0 auto;\">\n",
       "            <p><strong><a href=\"https://searchcaster.xyz/search?merkleRoot=0xc79e39512646e15e351e4fbbdc58e15c33824bcb\" target=\"_blank\">merkleRoot</a></strong></p>\n",
       "            <p><strong>@dwr · fid 3</strong></p>\n",
       "            <div style=\"word-wrap: break-word; margin: 10px 0;\">Made some updates to the Farcaster ecosystem page.<br><br><a href=\"https://www.farcaster.xyz/ecosystem\" target=\"_blank\">https://www.farcaster.xyz/ecosystem</a></div>\n",
       "    <p style=\"color: purple; margin: 10px 0 0;\">&#x1F49C; 33 <span style=\"margin-left: 5px; margin-top: 10px;\">&#x1F4AC; 0</span></p></div></div>"
      ],
      "text/plain": [
       "<IPython.core.display.HTML object>"
      ]
     },
     "metadata": {},
     "output_type": "display_data"
    },
    {
     "data": {
      "text/html": [
       "\n",
       "    <div style=\"border: 1px solid #ccc; max-width: 600px; padding: 25px; margin-bottom: 25px;\">\n",
       "        <div style=\"max-width: 550px; margin: 0 auto;\">\n",
       "            <p><strong><a href=\"https://searchcaster.xyz/search?merkleRoot=0x34a7fd7811319be22a628668503102944f3164e5\" target=\"_blank\">merkleRoot</a></strong></p>\n",
       "            <p><strong>@jayme · fid 373</strong></p>\n",
       "            <div style=\"word-wrap: break-word; margin: 10px 0;\">TIL Alchemy has “one of the smallest teams to impact ratios in history” <br><br>- 13 employees 2021 = $500M <br>- 50 employees 2022 = $10B</div>\n",
       "    <p style=\"color: purple; margin: 10px 0 0;\">&#x1F49C; 33 <span style=\"margin-left: 5px; margin-top: 10px;\">&#x1F4AC; 5</span></p></div></div>"
      ],
      "text/plain": [
       "<IPython.core.display.HTML object>"
      ]
     },
     "metadata": {},
     "output_type": "display_data"
    },
    {
     "data": {
      "text/html": [
       "\n",
       "    <div style=\"border: 1px solid #ccc; max-width: 600px; padding: 25px; margin-bottom: 25px;\">\n",
       "        <div style=\"max-width: 550px; margin: 0 auto;\">\n",
       "            <p><strong><a href=\"https://searchcaster.xyz/search?merkleRoot=0xae84ca6894cb9de63746c92f0df8fd38258b9e9b\" target=\"_blank\">merkleRoot</a></strong></p>\n",
       "            <p><strong>@colin · fid 378</strong></p>\n",
       "            <div style=\"word-wrap: break-word; margin: 10px 0;\">Alcoholcaster, what everyone drinking tonight? </div>\n",
       "    <div style=\"text-align: center;\"><img src=\"https://i.imgur.com/6YmxTKR.jpg\" style=\"max-width: 550px; margin-top: 10px;\"></div><p style=\"color: purple; margin: 10px 0 0;\">&#x1F49C; 33 <span style=\"margin-left: 5px; margin-top: 10px;\">&#x1F4AC; 20</span></p></div></div>"
      ],
      "text/plain": [
       "<IPython.core.display.HTML object>"
      ]
     },
     "metadata": {},
     "output_type": "display_data"
    },
    {
     "data": {
      "text/html": [
       "\n",
       "    <div style=\"border: 1px solid #ccc; max-width: 600px; padding: 25px; margin-bottom: 25px;\">\n",
       "        <div style=\"max-width: 550px; margin: 0 auto;\">\n",
       "            <p><strong><a href=\"https://searchcaster.xyz/search?merkleRoot=0x223a18a02e9be7e5900137a68ba819f903c54e50\" target=\"_blank\">merkleRoot</a></strong></p>\n",
       "            <p><strong>@july · fid 1287</strong></p>\n",
       "            <div style=\"word-wrap: break-word; margin: 10px 0;\">gm<br><br> </div>\n",
       "    <div style=\"text-align: center;\"><img src=\"https://i.imgur.com/9eglEPk.png\" style=\"max-width: 550px; margin-top: 10px;\"></div><p style=\"color: purple; margin: 10px 0 0;\">&#x1F49C; 32 <span style=\"margin-left: 5px; margin-top: 10px;\">&#x1F4AC; 5</span></p></div></div>"
      ],
      "text/plain": [
       "<IPython.core.display.HTML object>"
      ]
     },
     "metadata": {},
     "output_type": "display_data"
    },
    {
     "data": {
      "text/html": [
       "\n",
       "    <div style=\"border: 1px solid #ccc; max-width: 600px; padding: 25px; margin-bottom: 25px;\">\n",
       "        <div style=\"max-width: 550px; margin: 0 auto;\">\n",
       "            <p><strong><a href=\"https://searchcaster.xyz/search?merkleRoot=0xe8ad9468487c59c41abcfee6187847bff1d26930\" target=\"_blank\">merkleRoot</a></strong></p>\n",
       "            <p><strong>@kamil · fid 1191</strong></p>\n",
       "            <div style=\"word-wrap: break-word; margin: 10px 0;\">GM! What do you use more? <br>1. Discord<br>2. Twitter<br>3. Farcaster</div>\n",
       "    <p style=\"color: purple; margin: 10px 0 0;\">&#x1F49C; 32 <span style=\"margin-left: 5px; margin-top: 10px;\">&#x1F4AC; 22</span></p></div></div>"
      ],
      "text/plain": [
       "<IPython.core.display.HTML object>"
      ]
     },
     "metadata": {},
     "output_type": "display_data"
    },
    {
     "data": {
      "text/html": [
       "\n",
       "    <div style=\"border: 1px solid #ccc; max-width: 600px; padding: 25px; margin-bottom: 25px;\">\n",
       "        <div style=\"max-width: 550px; margin: 0 auto;\">\n",
       "            <p><strong><a href=\"https://searchcaster.xyz/search?merkleRoot=0xd0b39b4d4ffd268006d84deb4d5aab3f31600c02\" target=\"_blank\">merkleRoot</a></strong></p>\n",
       "            <p><strong>@zebulgar · fid 137</strong></p>\n",
       "            <div style=\"word-wrap: break-word; margin: 10px 0;\">117 AD:<br>“A society grows great when old men plant trees in whose shade they know they shall never sit”<br><br>2022 AD:<br>“A society grows great when old men build spacecraft that will travel to celestial bodies they know they shall never visit”</div>\n",
       "    <p style=\"color: purple; margin: 10px 0 0;\">&#x1F49C; 32 <span style=\"margin-left: 5px; margin-top: 10px;\">&#x1F4AC; 2</span></p></div></div>"
      ],
      "text/plain": [
       "<IPython.core.display.HTML object>"
      ]
     },
     "metadata": {},
     "output_type": "display_data"
    }
   ],
   "source": [
    "# TWLY: This Week Last Year - October 29 - November 04, 2022\n",
    "# Compiled using Farcaster-Indexer & Searchcaster \n",
    "\n",
    "https://github.com/gskril/farcaster-indexer\n",
    "https://searchcaster.xyz"
   ]
  },
  {
   "cell_type": "code",
   "execution_count": null,
   "id": "2df6628b",
   "metadata": {},
   "outputs": [],
   "source": []
  }
 ],
 "metadata": {
  "kernelspec": {
   "display_name": "Python 3 (ipykernel)",
   "language": "python",
   "name": "python3"
  },
  "language_info": {
   "codemirror_mode": {
    "name": "ipython",
    "version": 3
   },
   "file_extension": ".py",
   "mimetype": "text/x-python",
   "name": "python",
   "nbconvert_exporter": "python",
   "pygments_lexer": "ipython3",
   "version": "3.9.13"
  }
 },
 "nbformat": 4,
 "nbformat_minor": 5
}
